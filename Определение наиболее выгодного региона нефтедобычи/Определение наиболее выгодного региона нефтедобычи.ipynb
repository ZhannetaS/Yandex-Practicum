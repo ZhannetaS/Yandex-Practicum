{
 "cells": [
  {
   "cell_type": "markdown",
   "metadata": {},
   "source": [
    "# Выбор локации для скважины"
   ]
  },
  {
   "cell_type": "markdown",
   "metadata": {},
   "source": [
    "Допустим, вы работаете в добывающей компании «ГлавРосГосНефть». Нужно решить, где бурить новую скважину.\n",
    "\n",
    "Вам предоставлены пробы нефти в трёх регионах: в каждом 10 000 месторождений, где измерили качество нефти и объём её запасов. Постройте модель машинного обучения, которая поможет определить регион, где добыча принесёт наибольшую прибыль. Проанализируйте возможную прибыль и риски техникой *Bootstrap.*\n",
    "\n",
    "Шаги для выбора локации:\n",
    "\n",
    "- В избранном регионе ищут месторождения, для каждого определяют значения признаков;\n",
    "- Строят модель и оценивают объём запасов;\n",
    "- Выбирают месторождения с самым высокими оценками значений. Количество месторождений зависит от бюджета компании и стоимости разработки одной скважины;\n",
    "- Прибыль равна суммарной прибыли отобранных месторождений."
   ]
  },
  {
   "cell_type": "markdown",
   "metadata": {},
   "source": [
    "# Цель проекта:\n",
    "\n",
    "Определить где бурить новую скважину. "
   ]
  },
  {
   "cell_type": "markdown",
   "metadata": {},
   "source": [
    "# Задачи:\n",
    "\n",
    "1. Построить модель для предсказания объёма запасов в новых скважинах;\n",
    "2. Выбрать скважины с самыми высокими оценками значений;\n",
    "3. Определить регион с максимальной суммарной прибылью отобранных скважин."
   ]
  },
  {
   "cell_type": "markdown",
   "metadata": {},
   "source": [
    "# Инструкция по выполнению проекта\n",
    "\n",
    "    Загрузите и подготовьте данные. Поясните порядок действий.\n",
    "    \n",
    "Обучите и проверьте модель для каждого региона:\n",
    "\n",
    "     2.1. Разбейте данные на обучающую и валидационную выборки в соотношении 75:25;\n",
    "     2.2. Обучите модель и сделайте предсказания на валидационной выборке.\n",
    "     2.3. Сохраните предсказания и правильные ответы на валидационной выборке.\n",
    "     2.4. Напечатайте на экране средний запас предсказанного сырья и RMSE модели.\n",
    "     2.5. Проанализируйте результаты.\n",
    " \n",
    "Подготовьтесь к расчёту прибыли:\n",
    "\n",
    "    3.1. Все ключевые значения для расчётов сохраните в отдельных переменных.\n",
    "    3.2. Рассчитайте достаточный объём сырья для безубыточной разработки новой скважины. Сравните полученный объём сырья со средним запасом в каждом регионе. \n",
    "    3.3. Напишите выводы по этапу подготовки расчёта прибыли.\n",
    "     \n",
    "Напишите функцию для расчёта прибыли по выбранным скважинам и предсказаниям модели:\n",
    "\n",
    "     4.1. Выберите скважины с максимальными значениями предсказаний. \n",
    "     4.2. Просуммируйте целевое значение объёма сырья, соответствующее этим предсказаниям.\n",
    "     4.3. Рассчитайте прибыль для полученного объёма сырья.\n",
    "     \n",
    "Посчитайте риски и прибыль для каждого региона:\n",
    "\n",
    "     5.1. Примените технику Bootstrap с 1000 выборок, чтобы найти распределение прибыли.\n",
    "     5.2. Найдите среднюю прибыль, 95%-й доверительный интервал и риск убытков. Убыток — это отрицательная прибыль.\n",
    "     5.3. Напишите выводы: предложите регион для разработки скважин и обоснуйте выбор."
   ]
  },
  {
   "cell_type": "markdown",
   "metadata": {},
   "source": [
    "# Описание данных\n",
    "\n",
    "Данные геологоразведки трёх регионов находятся в файлах: \n",
    "\n",
    "    /datasets/geo_data_0.csv. Скачать датасет\n",
    "    /datasets/geo_data_1.csv. Скачать датасет\n",
    "    /datasets/geo_data_2.csv. Скачать датасет\n",
    "    \n",
    "id — уникальный идентификатор скважины;\n",
    "\n",
    "f0, f1, f2 — три признака точек (неважно, что они означают, но сами признаки значимы);\n",
    "\n",
    "product — объём запасов в скважине (тыс. баррелей).\n",
    "\n",
    "# Условия задачи:\n",
    "\n",
    "    Для обучения модели подходит только линейная регрессия (остальные — недостаточно предсказуемые).\n",
    "    \n",
    "    При разведке региона исследуют 500 точек, из которых с помощью машинного обучения выбирают 200 лучших для разработки.\n",
    "    Бюджет на разработку скважин в регионе — 10 млрд рублей.\n",
    "    \n",
    "    При нынешних ценах один баррель сырья приносит 450 рублей дохода. Доход с каждой единицы продукта составляет 450 тыс. рублей, поскольку объём указан в тысячах баррелей.\n",
    "    \n",
    "    После оценки рисков нужно оставить лишь те регионы, в которых вероятность убытков меньше 2.5%. Среди них выбирают регион с наибольшей средней прибылью."
   ]
  },
  {
   "cell_type": "markdown",
   "metadata": {},
   "source": [
    "## Загрузка и подготовка данных"
   ]
  },
  {
   "cell_type": "code",
   "execution_count": 1,
   "metadata": {},
   "outputs": [],
   "source": [
    "# Импортируем необходимые библиотеки и функции\n",
    "\n",
    "import pandas as pd\n",
    "import seaborn as sns\n",
    "import numpy as np\n",
    "from scipy import stats as st\n",
    "\n",
    "import matplotlib.pyplot as plt\n",
    "from numpy.random import RandomState\n",
    "from tqdm.auto import tqdm\n",
    "\n",
    "from sklearn.model_selection import train_test_split\n",
    "from sklearn.linear_model import LinearRegression \n",
    "from sklearn.metrics import mean_squared_error\n",
    "from sklearn.preprocessing import StandardScaler"
   ]
  },
  {
   "cell_type": "code",
   "execution_count": 2,
   "metadata": {},
   "outputs": [],
   "source": [
    "# Загрузим датасеты:\n",
    "\n",
    "data_zero = pd.read_csv('/datasets/geo_data_0.csv', index_col = 'id')\n",
    "data_one = pd.read_csv('/datasets/geo_data_1.csv', index_col = 'id')\n",
    "data_two = pd.read_csv('/datasets/geo_data_2.csv', index_col = 'id')"
   ]
  },
  {
   "cell_type": "code",
   "execution_count": 3,
   "metadata": {},
   "outputs": [],
   "source": [
    "# Для удобства объединим датасеты\n",
    "\n",
    "data = [data_zero, data_one, data_two]"
   ]
  },
  {
   "cell_type": "code",
   "execution_count": 4,
   "metadata": {},
   "outputs": [
    {
     "name": "stdout",
     "output_type": "stream",
     "text": [
      "<class 'pandas.core.frame.DataFrame'>\n",
      "Index: 100000 entries, txEyH to 1CWhH\n",
      "Data columns (total 4 columns):\n",
      " #   Column   Non-Null Count   Dtype  \n",
      "---  ------   --------------   -----  \n",
      " 0   f0       100000 non-null  float64\n",
      " 1   f1       100000 non-null  float64\n",
      " 2   f2       100000 non-null  float64\n",
      " 3   product  100000 non-null  float64\n",
      "dtypes: float64(4)\n",
      "memory usage: 3.8+ MB\n",
      "None\n",
      "\n",
      "<class 'pandas.core.frame.DataFrame'>\n",
      "Index: 100000 entries, kBEdx to relB0\n",
      "Data columns (total 4 columns):\n",
      " #   Column   Non-Null Count   Dtype  \n",
      "---  ------   --------------   -----  \n",
      " 0   f0       100000 non-null  float64\n",
      " 1   f1       100000 non-null  float64\n",
      " 2   f2       100000 non-null  float64\n",
      " 3   product  100000 non-null  float64\n",
      "dtypes: float64(4)\n",
      "memory usage: 3.8+ MB\n",
      "None\n",
      "\n",
      "<class 'pandas.core.frame.DataFrame'>\n",
      "Index: 100000 entries, fwXo0 to V9kWn\n",
      "Data columns (total 4 columns):\n",
      " #   Column   Non-Null Count   Dtype  \n",
      "---  ------   --------------   -----  \n",
      " 0   f0       100000 non-null  float64\n",
      " 1   f1       100000 non-null  float64\n",
      " 2   f2       100000 non-null  float64\n",
      " 3   product  100000 non-null  float64\n",
      "dtypes: float64(4)\n",
      "memory usage: 3.8+ MB\n",
      "None\n",
      "\n"
     ]
    }
   ],
   "source": [
    "# Выведем информацию о датасетах:\n",
    "\n",
    "for i in range(3):\n",
    "    print(data[i].info())\n",
    "    print()"
   ]
  },
  {
   "cell_type": "code",
   "execution_count": 5,
   "metadata": {},
   "outputs": [
    {
     "name": "stdout",
     "output_type": "stream",
     "text": [
      "Количество дублирующих строк в датасете data 0 : 0\n",
      "Количество дублирующих строк в датасете data 1 : 0\n",
      "Количество дублирующих строк в датасете data 2 : 0\n"
     ]
    }
   ],
   "source": [
    "# Проверка дубликатов:\n",
    "\n",
    "for i in range(3):\n",
    "    print(\"Количество дублирующих строк в датасете data\", i, \":\", data[i].duplicated().sum())"
   ]
  },
  {
   "cell_type": "code",
   "execution_count": 6,
   "metadata": {},
   "outputs": [
    {
     "name": "stdout",
     "output_type": "stream",
     "text": [
      "\n",
      "Количество пропущенных данных в датасете data 0 :\n",
      "f0         0\n",
      "f1         0\n",
      "f2         0\n",
      "product    0\n",
      "dtype: int64\n",
      "\n",
      "Количество пропущенных данных в датасете data 1 :\n",
      "f0         0\n",
      "f1         0\n",
      "f2         0\n",
      "product    0\n",
      "dtype: int64\n",
      "\n",
      "Количество пропущенных данных в датасете data 2 :\n",
      "f0         0\n",
      "f1         0\n",
      "f2         0\n",
      "product    0\n",
      "dtype: int64\n"
     ]
    }
   ],
   "source": [
    "# Проверка пропущенных значения:\n",
    "\n",
    "for i in range(3):\n",
    "    print(\"\\nКоличество пропущенных данных в датасете data\", i, \":\")\n",
    "    print(data[i].isna().sum())"
   ]
  },
  {
   "cell_type": "markdown",
   "metadata": {},
   "source": [
    "### Промежуточный вывод по подготовке данных:\n",
    "\n",
    "    Размер датасетов одинаковый: 100 000 строк х 5 столбцов. \n",
    "\n",
    "    Информация в датасетах идентичная:\n",
    "    \n",
    "        id — уникальный идентификатор скважины, состоящий из букв и цифр, тип object, как и должно быть.\n",
    "        f0, f1, f2 — три признака скважин, тип данных - float64, все верно.\n",
    "        product — объём запасов в скважине (тыс. баррелей), тип данных float64, верно. \n",
    "        \n",
    "    Названия столбцов соответствуют стилю snake_case, пропущенных значений в датасетах нет, дубликатов тоже.\n",
    "    \n",
    "    Все признаки в датасетах - численные. Категориальных признаков нет.\n"
   ]
  },
  {
   "cell_type": "markdown",
   "metadata": {},
   "source": [
    "## Обучение и проверка модели"
   ]
  },
  {
   "cell_type": "code",
   "execution_count": 7,
   "metadata": {},
   "outputs": [],
   "source": [
    "# Создадим объект StandardScaler для масшттабирования признаков\n",
    "scaler = StandardScaler()"
   ]
  },
  {
   "cell_type": "code",
   "execution_count": 8,
   "metadata": {},
   "outputs": [],
   "source": [
    "SEED = 12345"
   ]
  },
  {
   "cell_type": "code",
   "execution_count": 9,
   "metadata": {},
   "outputs": [],
   "source": [
    "# функция для выделения признаков и разбиения данных на выборки:\n",
    "def split_data(data, size=0.25, SEED=12345):\n",
    "    features = data.drop('product', axis=1)\n",
    "    target = data['product']\n",
    "    \n",
    "    features_train, features_valid, target_train, target_valid = train_test_split(features, target, \n",
    "                                                                                  test_size=size, random_state=12345)\n",
    "    scaler.fit(features_train)\n",
    "    features_train = pd.DataFrame(scaler.transform(features_train),\n",
    "                                  index=target_train)\n",
    "    features_valid = pd.DataFrame(scaler.transform(features_valid),\n",
    "                                  index=target_valid)\n",
    "    return features_train, features_valid, target_train, target_valid     "
   ]
  },
  {
   "cell_type": "markdown",
   "metadata": {},
   "source": [
    " Разделим данные со всех трех месторождений на выборки в пропорции 3/1. А так же проверим корректность разделения"
   ]
  },
  {
   "cell_type": "code",
   "execution_count": 10,
   "metadata": {},
   "outputs": [
    {
     "name": "stdout",
     "output_type": "stream",
     "text": [
      "Размер обучающей выборки (75000, 3)\n",
      "Размер тестовой выборки (25000, 3)\n"
     ]
    }
   ],
   "source": [
    "# Первое месторождение\n",
    "features_train_geo_0, features_valid_geo_0, target_train_geo_0, target_valid_geo_0 = split_data(data_zero, 0.25, SEED)\n",
    "print(f'Размер обучающей выборки {features_train_geo_0.shape}')\n",
    "print(f'Размер тестовой выборки {features_valid_geo_0.shape}')"
   ]
  },
  {
   "cell_type": "code",
   "execution_count": 11,
   "metadata": {},
   "outputs": [
    {
     "name": "stdout",
     "output_type": "stream",
     "text": [
      "Размер обучающей выборки (75000, 3)\n",
      "Размер тестовой выборки (25000, 3)\n"
     ]
    }
   ],
   "source": [
    "# Второе месторождение\n",
    "features_train_geo_1, features_valid_geo_1, target_train_geo_1, target_valid_geo_1 = split_data(data_one, 0.25, SEED)\n",
    "print(f'Размер обучающей выборки {features_train_geo_1.shape}')\n",
    "print(f'Размер тестовой выборки {features_valid_geo_1.shape}')"
   ]
  },
  {
   "cell_type": "code",
   "execution_count": 12,
   "metadata": {},
   "outputs": [
    {
     "name": "stdout",
     "output_type": "stream",
     "text": [
      "Размер обучающей выборки (75000, 3)\n",
      "Размер тестовой выборки (25000, 3)\n"
     ]
    }
   ],
   "source": [
    "# Третье месторождение\n",
    "features_train_geo_2, features_valid_geo_2, target_train_geo_2, target_valid_geo_2 = split_data(data_two, 0.25, SEED)\n",
    "print(f'Размер обучающей выборки {features_train_geo_2.shape}')\n",
    "print(f'Размер тестовой выборки {features_valid_geo_2.shape}')"
   ]
  },
  {
   "cell_type": "code",
   "execution_count": 13,
   "metadata": {},
   "outputs": [],
   "source": [
    "# Обучим модель\n",
    "model = LinearRegression()"
   ]
  },
  {
   "cell_type": "markdown",
   "metadata": {},
   "source": [
    "Обучим модели на данных каждого месторождения."
   ]
  },
  {
   "cell_type": "code",
   "execution_count": 14,
   "metadata": {},
   "outputs": [],
   "source": [
    "# создадим словарь, для удобства\n",
    "learning_dict = {'mean_true':[], 'mean_pred':[], 'rmse':[]}"
   ]
  },
  {
   "cell_type": "code",
   "execution_count": 15,
   "metadata": {},
   "outputs": [],
   "source": [
    "# функция для обучения модели и расчета среднего значения предсказаний\n",
    "def LearnModel(prediction, target, model):\n",
    "    mean_true = target.mean()\n",
    "    mean_pred = prediction.mean()\n",
    "    rmse = mean_squared_error(target, prediction)** 0.5\n",
    "    return mean_true, mean_pred, rmse"
   ]
  },
  {
   "cell_type": "code",
   "execution_count": 16,
   "metadata": {},
   "outputs": [],
   "source": [
    "model_0 = model.fit(features_train_geo_0, target_train_geo_0)\n",
    "prediction_0 = pd.Series(model_0.predict(features_valid_geo_0), index=target_valid_geo_0.index)\n",
    "\n",
    "mean_true_0, mean_pred_0, rmse_0 = LearnModel(prediction_0, target_valid_geo_0, model_0)\n",
    "learning_dict['mean_true'].append(mean_true_0)\n",
    "learning_dict['mean_pred'].append(mean_pred_0)\n",
    "learning_dict['rmse'].append(rmse_0)"
   ]
  },
  {
   "cell_type": "code",
   "execution_count": 17,
   "metadata": {},
   "outputs": [],
   "source": [
    "model_1 = model.fit(features_train_geo_1, target_train_geo_1)\n",
    "prediction_1 = pd.Series(model_1.predict(features_valid_geo_1), index=target_valid_geo_1.index)\n",
    "\n",
    "mean_true_1, mean_pred_1, rmse_1 = LearnModel(prediction_1, target_valid_geo_1, model_1)\n",
    "learning_dict['mean_true'].append(mean_true_1)\n",
    "learning_dict['mean_pred'].append(mean_pred_1)\n",
    "learning_dict['rmse'].append(rmse_1)"
   ]
  },
  {
   "cell_type": "code",
   "execution_count": 18,
   "metadata": {},
   "outputs": [],
   "source": [
    "model_2 = model.fit(features_train_geo_2, target_train_geo_2)\n",
    "prediction_2 = pd.Series(model_2.predict(features_valid_geo_2), index=target_valid_geo_2.index)\n",
    "\n",
    "mean_true_2, mean_pred_2, rmse_2 = LearnModel(prediction_2, target_valid_geo_2, model_2)\n",
    "learning_dict['mean_true'].append(mean_true_2)\n",
    "learning_dict['mean_pred'].append(mean_pred_2)\n",
    "learning_dict['rmse'].append(rmse_2)"
   ]
  },
  {
   "cell_type": "code",
   "execution_count": 19,
   "metadata": {},
   "outputs": [],
   "source": [
    "result_data = pd.DataFrame(learning_dict, index=['geo_0', 'geo_1', 'geo_2'])"
   ]
  },
  {
   "cell_type": "code",
   "execution_count": 20,
   "metadata": {},
   "outputs": [
    {
     "data": {
      "image/png": "[encoded data removed]",
      "text/plain": [
       "<Figure size 432x288 with 1 Axes>"
      ]
     },
     "metadata": {},
     "output_type": "display_data"
    }
   ],
   "source": [
    "def func(pct, allvalues):\n",
    "    absolute = int(pct / 100.*np.sum(allvalues))\n",
    "    return \"{:.0f}%\\n({:d} тыс bbls)\".format(pct, absolute)\n",
    "\n",
    "labels = ['geo_0', 'geo_1', 'geo_2']\n",
    "mean_pred = [mean_pred_0, mean_pred_1, mean_pred_2]\n",
    "fig, ax = plt.subplots()\n",
    "ax.pie(mean_pred, labels=labels, \n",
    "       autopct = lambda pct: func(pct, mean_pred),)\n",
    "ax.set_title(\"Средние запасы нефти по регионам\", color='blue')\n",
    "plt.show();"
   ]
  },
  {
   "cell_type": "markdown",
   "metadata": {},
   "source": [
    "### Промежуточные выводы по обучению и проверке модели:\n",
    "\n",
    "    Данные разделены на обучающую и валидационную выборки в соотношении 75:25;\n",
    "\n",
    "    Данные масштабированы;\n",
    "\n",
    "    Созданы и обучены модели LinearRegression;\n",
    "\n",
    "    Выполнены предсказания на валидационной выборке;\n",
    "\n",
    "    Сделаны предсказания по объёму сырья в скважинах;\n",
    "\n",
    "    В таблице ниже представлены истинные средние  значения, средние значения предсказаний и среднеквадратические ошибки:\n",
    "\n"
   ]
  },
  {
   "cell_type": "code",
   "execution_count": 21,
   "metadata": {},
   "outputs": [
    {
     "data": {
      "text/html": [
       "<div>\n",
       "<style scoped>\n",
       "    .dataframe tbody tr th:only-of-type {\n",
       "        vertical-align: middle;\n",
       "    }\n",
       "\n",
       "    .dataframe tbody tr th {\n",
       "        vertical-align: top;\n",
       "    }\n",
       "\n",
       "    .dataframe thead th {\n",
       "        text-align: right;\n",
       "    }\n",
       "</style>\n",
       "<table border=\"1\" class=\"dataframe\">\n",
       "  <thead>\n",
       "    <tr style=\"text-align: right;\">\n",
       "      <th></th>\n",
       "      <th>mean_true</th>\n",
       "      <th>mean_pred</th>\n",
       "      <th>rmse</th>\n",
       "    </tr>\n",
       "  </thead>\n",
       "  <tbody>\n",
       "    <tr>\n",
       "      <th>geo_0</th>\n",
       "      <td>92.078597</td>\n",
       "      <td>92.592568</td>\n",
       "      <td>37.579422</td>\n",
       "    </tr>\n",
       "    <tr>\n",
       "      <th>geo_1</th>\n",
       "      <td>68.723136</td>\n",
       "      <td>68.728547</td>\n",
       "      <td>0.893099</td>\n",
       "    </tr>\n",
       "    <tr>\n",
       "      <th>geo_2</th>\n",
       "      <td>94.884233</td>\n",
       "      <td>94.965046</td>\n",
       "      <td>40.029709</td>\n",
       "    </tr>\n",
       "  </tbody>\n",
       "</table>\n",
       "</div>"
      ],
      "text/plain": [
       "       mean_true  mean_pred       rmse\n",
       "geo_0  92.078597  92.592568  37.579422\n",
       "geo_1  68.723136  68.728547   0.893099\n",
       "geo_2  94.884233  94.965046  40.029709"
      ]
     },
     "execution_count": 21,
     "metadata": {},
     "output_type": "execute_result"
    }
   ],
   "source": [
    "result_data"
   ]
  },
  {
   "cell_type": "markdown",
   "metadata": {},
   "source": [
    "       Первое и третье месторождения имеют средние значения близкие друг к другу, второе месторождение имеет достаточно низкое среднее значение. Среднеквадратические ошибки на первом и третьем месторождении составляют около 38 (тысяч баррелей), а вот на втором местородждении ошибка всего 0.9 (тысяч баррелей). Модели обучались в равных условия, поэтому такие различия могут быть связаны с переобучением модели."
   ]
  },
  {
   "cell_type": "markdown",
   "metadata": {},
   "source": [
    "## Подготовка к расчёту прибыли"
   ]
  },
  {
   "cell_type": "code",
   "execution_count": 22,
   "metadata": {},
   "outputs": [],
   "source": [
    "# Условия задачи\n",
    "\n",
    "BUDGET = 10 ** 10   # Бюджет на разработку скважин\n",
    "BEST_POINTS = 500  # Количесвто точек, исследуемых при разведке\n",
    "POINTS = 200  # Количесвто лучших точек, выбранных для разработки\n",
    "PRISE = 450000  # Цена 1000 баррелей нефти"
   ]
  },
  {
   "cell_type": "markdown",
   "metadata": {},
   "source": [
    " Для расчёта прибыли необходимо рассчитать, какой объем месторождения является минимальным для начала разработки:"
   ]
  },
  {
   "cell_type": "code",
   "execution_count": 23,
   "metadata": {},
   "outputs": [
    {
     "data": {
      "text/plain": [
       "111.11111111111111"
      ]
     },
     "execution_count": 23,
     "metadata": {},
     "output_type": "execute_result"
    }
   ],
   "source": [
    "min_product = BUDGET / (PRISE * POINTS)\n",
    "min_product"
   ]
  },
  {
   "cell_type": "markdown",
   "metadata": {},
   "source": [
    "    Чтобы месторождение окупило себестоимоть разработки, необходимо, чтобы в среднем в скважинах было больше 111.1 тысяч баррелей нефти. Средние объемы в скважинах всех месторождений ниже этой отметки. Это говорит о том, что необходимо выбрать наиболее выгодные точки в каждом месторождении и уже их сравнивать между собой. \n",
    "    \n",
    "    Нужно выбрать самое прибильное месторождение исходя из условий, установленных возможностями компании. \n",
    "    \n",
    "    Для этого поготовим функцию расчета прибылли:"
   ]
  },
  {
   "cell_type": "code",
   "execution_count": 24,
   "metadata": {},
   "outputs": [],
   "source": [
    "def revenue(target, probabilities, count, prise):\n",
    "    probs_sorted = probabilities.sort_values(ascending=False)\n",
    "    selected = target[probs_sorted.index][:count]\n",
    "    return prise * selected.sum() - BUDGET\n"
   ]
  },
  {
   "cell_type": "markdown",
   "metadata": {},
   "source": [
    "## Расчёт прибыли и рисков "
   ]
  },
  {
   "cell_type": "code",
   "execution_count": 25,
   "metadata": {},
   "outputs": [],
   "source": [
    "state = np.random.RandomState(SEED)"
   ]
  },
  {
   "cell_type": "code",
   "execution_count": 26,
   "metadata": {},
   "outputs": [],
   "source": [
    "# средняя прибыль для 1000 различных вариантов разведки:\n",
    "def BootStrap(target, valid, count, state):\n",
    "    values = []\n",
    "    for i in range(1000):\n",
    "        target_subsample = target.sample(n=count, replace=True, random_state=state)\n",
    "        probs_subsample = valid[target_subsample.index]\n",
    "        a = revenue(target_subsample, probs_subsample, POINTS, PRISE)\n",
    "        values.append(a)\n",
    "        \n",
    "    values = pd.Series(values)\n",
    "    return values"
   ]
  },
  {
   "cell_type": "code",
   "execution_count": 27,
   "metadata": {},
   "outputs": [
    {
     "name": "stdout",
     "output_type": "stream",
     "text": [
      "Средняя выручка: 425938526.91059244\n",
      "доверительный интервал (95%): [-102090094.83793654, 947976353.3583689]\n",
      "Риск получения убытков: 6.0\n"
     ]
    }
   ],
   "source": [
    "# первое месторождение\n",
    "values_0 = BootStrap(target_valid_geo_0, prediction_0, BEST_POINTS, state)\n",
    "\n",
    "mean_0 = values_0.mean()\n",
    "lower_0 = values_0.quantile(0.025)\n",
    "upper_0 = values_0.quantile(0.975)\n",
    "risk_0 = values_0[values_0 < 0].count() / values_0.count() * 100\n",
    "\n",
    "print(\"Средняя выручка:\", mean_0)\n",
    "print(\"доверительный интервал (95%):\", [lower_0, upper_0])\n",
    "print(\"Риск получения убытков:\", risk_0)"
   ]
  },
  {
   "cell_type": "code",
   "execution_count": 28,
   "metadata": {},
   "outputs": [
    {
     "name": "stdout",
     "output_type": "stream",
     "text": [
      "Средняя выручка: 518259493.6973249\n",
      "доверительный интервал (95%): [128123231.43308444, 953612982.0669085]\n",
      "Риск получения убытков: 0.3\n"
     ]
    }
   ],
   "source": [
    "# второе месторождение\n",
    "values_1 = BootStrap(target_valid_geo_1, prediction_1, BEST_POINTS, state)\n",
    "\n",
    "mean_1 = values_1.mean()\n",
    "lower_1 = values_1.quantile(0.025)\n",
    "upper_1 = values_1.quantile(0.975)\n",
    "risk_1 = values_1[values_1 < 0].count() / values_1.count() * 100\n",
    "\n",
    "print(\"Средняя выручка:\", mean_1)\n",
    "print(\"доверительный интервал (95%):\", [lower_1, upper_1])\n",
    "print(\"Риск получения убытков:\", risk_1)"
   ]
  },
  {
   "cell_type": "code",
   "execution_count": 29,
   "metadata": {},
   "outputs": [
    {
     "name": "stdout",
     "output_type": "stream",
     "text": [
      "Средняя выручка: 420194005.3440501\n",
      "доверительный интервал (95%): [-115852609.16001143, 989629939.8445739]\n",
      "Риск получения убытков: 6.2%\n"
     ]
    }
   ],
   "source": [
    "# третье месторождение\n",
    "values_2 = BootStrap(target_valid_geo_2, prediction_2, BEST_POINTS, state)\n",
    "\n",
    "mean_2 = values_2.mean()\n",
    "lower_2 = values_2.quantile(0.025)\n",
    "upper_2 = values_2.quantile(0.975)\n",
    "risk_2 = values_2[values_2 < 0].count() / values_2.count() * 100\n",
    "\n",
    "print(\"Средняя выручка:\", mean_2)\n",
    "print(\"доверительный интервал (95%):\", [lower_2, upper_2])\n",
    "print(f'Риск получения убытков: {risk_2}%')"
   ]
  },
  {
   "cell_type": "code",
   "execution_count": 30,
   "metadata": {},
   "outputs": [],
   "source": [
    "final_dict = {'Минимальная выручка':[lower_0, lower_1, lower_2], \n",
    "              'Средняя выручка':[mean_0, mean_1, mean_2],\n",
    "              'Максимальна выручка':[upper_0, upper_1, upper_2],\n",
    "              'Риск убытков, %' : [risk_0, risk_1, risk_2]}\n",
    "index_data = ['Первое месторождение', 'Второе месторождение', 'Третье месторождение']\n",
    "final_data = pd.DataFrame(data=final_dict, index=index_data)"
   ]
  },
  {
   "cell_type": "code",
   "execution_count": 31,
   "metadata": {},
   "outputs": [
    {
     "data": {
      "text/html": [
       "<div>\n",
       "<style scoped>\n",
       "    .dataframe tbody tr th:only-of-type {\n",
       "        vertical-align: middle;\n",
       "    }\n",
       "\n",
       "    .dataframe tbody tr th {\n",
       "        vertical-align: top;\n",
       "    }\n",
       "\n",
       "    .dataframe thead th {\n",
       "        text-align: right;\n",
       "    }\n",
       "</style>\n",
       "<table border=\"1\" class=\"dataframe\">\n",
       "  <thead>\n",
       "    <tr style=\"text-align: right;\">\n",
       "      <th></th>\n",
       "      <th>Минимальная выручка</th>\n",
       "      <th>Средняя выручка</th>\n",
       "      <th>Максимальна выручка</th>\n",
       "      <th>Риск убытков, %</th>\n",
       "    </tr>\n",
       "  </thead>\n",
       "  <tbody>\n",
       "    <tr>\n",
       "      <th>Первое месторождение</th>\n",
       "      <td>-1.020901e+08</td>\n",
       "      <td>4.259385e+08</td>\n",
       "      <td>9.479764e+08</td>\n",
       "      <td>6.0</td>\n",
       "    </tr>\n",
       "    <tr>\n",
       "      <th>Второе месторождение</th>\n",
       "      <td>1.281232e+08</td>\n",
       "      <td>5.182595e+08</td>\n",
       "      <td>9.536130e+08</td>\n",
       "      <td>0.3</td>\n",
       "    </tr>\n",
       "    <tr>\n",
       "      <th>Третье месторождение</th>\n",
       "      <td>-1.158526e+08</td>\n",
       "      <td>4.201940e+08</td>\n",
       "      <td>9.896299e+08</td>\n",
       "      <td>6.2</td>\n",
       "    </tr>\n",
       "  </tbody>\n",
       "</table>\n",
       "</div>"
      ],
      "text/plain": [
       "                      Минимальная выручка  Средняя выручка  \\\n",
       "Первое месторождение        -1.020901e+08     4.259385e+08   \n",
       "Второе месторождение         1.281232e+08     5.182595e+08   \n",
       "Третье месторождение        -1.158526e+08     4.201940e+08   \n",
       "\n",
       "                      Максимальна выручка  Риск убытков, %  \n",
       "Первое месторождение         9.479764e+08              6.0  \n",
       "Второе месторождение         9.536130e+08              0.3  \n",
       "Третье месторождение         9.896299e+08              6.2  "
      ]
     },
     "execution_count": 31,
     "metadata": {},
     "output_type": "execute_result"
    }
   ],
   "source": [
    " final_data"
   ]
  },
  {
   "cell_type": "code",
   "execution_count": 32,
   "metadata": {},
   "outputs": [
    {
     "name": "stderr",
     "output_type": "stream",
     "text": [
      "/tmp/ipykernel_123/1147850083.py:12: UserWarning: FixedFormatter should only be used together with FixedLocator\n",
      "  plt.gca().set_xticklabels(X, fontsize=12, color='blue')\n"
     ]
    },
    {
     "data": {
      "image/png": "[encoded data removed]",
      "text/plain": [
       "<Figure size 432x288 with 1 Axes>"
      ]
     },
     "metadata": {
      "needs_background": "light"
     },
     "output_type": "display_data"
    }
   ],
   "source": [
    "# Строим гистограмму со значениями рисков.\n",
    "X = ['geo_0', 'geo_1', 'geo_2']\n",
    "Y = [risk_0, risk_1, risk_2]\n",
    "c = ['blue', 'green', 'red']\n",
    "plt.bar(X, Y, color=c)\n",
    "for i in range(3):\n",
    "    plt.text(X[i], Y[i], float(Y[i]), \n",
    "             horizontalalignment='center', verticalalignment='bottom', \n",
    "             fontdict={'fontweight':500, 'size':12})\n",
    "plt.title(\"Риск убытков при разработке 200 лучших скважин\", fontsize=12, color='blue')\n",
    "plt.ylabel('Риск, %', fontsize=12, color='blue')\n",
    "plt.gca().set_xticklabels(X, fontsize=12, color='blue')\n",
    "plt.show()"
   ]
  },
  {
   "cell_type": "markdown",
   "metadata": {},
   "source": [
    "    Только во втором регионе (geo_2) вероятность убытков меньше 2.5%, средняя прибыль которого составляет около 518 млн рублей.\n",
    "    \n",
    "    Для региона 2 95%-й доверительный интервал не содержит отрицательных значений.\n",
    "    \n",
    "    Интересно, что несмотря на сравнительно меньшие запасы сырья, по сравнению с другими регионами (всего 68 тыс баррелей против 92 и 94 для других регионов.), средняя доходность со скважин во этом регионе прогнозируется выше других при наименьших рисках."
   ]
  },
  {
   "cell_type": "markdown",
   "metadata": {},
   "source": [
    "## Общий вывод:\n",
    "    В ходе исследования были изучены данные по трем регионам, состоящих из 100 000 месторождений, по которым имеются данные  по качеству и объему запасов.\n",
    "    \n",
    "    Рассчитаны минимальные средние объемы в скважинах всех месторождений для окупаемости разработки  - 111,1 тыс.баррелей и предсказанный средний запас:"
   ]
  },
  {
   "cell_type": "code",
   "execution_count": 33,
   "metadata": {},
   "outputs": [
    {
     "data": {
      "text/html": [
       "<div>\n",
       "<style scoped>\n",
       "    .dataframe tbody tr th:only-of-type {\n",
       "        vertical-align: middle;\n",
       "    }\n",
       "\n",
       "    .dataframe tbody tr th {\n",
       "        vertical-align: top;\n",
       "    }\n",
       "\n",
       "    .dataframe thead th {\n",
       "        text-align: right;\n",
       "    }\n",
       "</style>\n",
       "<table border=\"1\" class=\"dataframe\">\n",
       "  <thead>\n",
       "    <tr style=\"text-align: right;\">\n",
       "      <th></th>\n",
       "      <th>mean_true</th>\n",
       "      <th>mean_pred</th>\n",
       "      <th>rmse</th>\n",
       "    </tr>\n",
       "  </thead>\n",
       "  <tbody>\n",
       "    <tr>\n",
       "      <th>geo_0</th>\n",
       "      <td>92.078597</td>\n",
       "      <td>92.592568</td>\n",
       "      <td>37.579422</td>\n",
       "    </tr>\n",
       "    <tr>\n",
       "      <th>geo_1</th>\n",
       "      <td>68.723136</td>\n",
       "      <td>68.728547</td>\n",
       "      <td>0.893099</td>\n",
       "    </tr>\n",
       "    <tr>\n",
       "      <th>geo_2</th>\n",
       "      <td>94.884233</td>\n",
       "      <td>94.965046</td>\n",
       "      <td>40.029709</td>\n",
       "    </tr>\n",
       "  </tbody>\n",
       "</table>\n",
       "</div>"
      ],
      "text/plain": [
       "       mean_true  mean_pred       rmse\n",
       "geo_0  92.078597  92.592568  37.579422\n",
       "geo_1  68.723136  68.728547   0.893099\n",
       "geo_2  94.884233  94.965046  40.029709"
      ]
     },
     "execution_count": 33,
     "metadata": {},
     "output_type": "execute_result"
    }
   ],
   "source": [
    "result_data"
   ]
  },
  {
   "cell_type": "markdown",
   "metadata": {},
   "source": [
    "    Средний запас ресурсов по регионам оказался недостаточным для окупаемости вложений на разработку.\n",
    "    \n",
    "    Принимается решение о том, что разработку сразу всех скважин вести нерентабельно.\n",
    "    \n",
    "    Из всех скважин нужно выбрать всего 200 лучших с максимальными запасами и инвестировать в их запуск и производственную деятельность."
   ]
  },
  {
   "cell_type": "markdown",
   "metadata": {},
   "source": [
    "    Выполнены предсказания при помощи линейной регрессии, а так же применена технологиа Bootstrap с разделением каждого предсказанного значения прибыли по регионам на 1000 выборок.На этих данных обучены модели для предсказания среднего запаса сырья в новых скважинах:"
   ]
  },
  {
   "cell_type": "code",
   "execution_count": 34,
   "metadata": {},
   "outputs": [
    {
     "data": {
      "text/html": [
       "<div>\n",
       "<style scoped>\n",
       "    .dataframe tbody tr th:only-of-type {\n",
       "        vertical-align: middle;\n",
       "    }\n",
       "\n",
       "    .dataframe tbody tr th {\n",
       "        vertical-align: top;\n",
       "    }\n",
       "\n",
       "    .dataframe thead th {\n",
       "        text-align: right;\n",
       "    }\n",
       "</style>\n",
       "<table border=\"1\" class=\"dataframe\">\n",
       "  <thead>\n",
       "    <tr style=\"text-align: right;\">\n",
       "      <th></th>\n",
       "      <th>Минимальная выручка</th>\n",
       "      <th>Средняя выручка</th>\n",
       "      <th>Максимальна выручка</th>\n",
       "      <th>Риск убытков, %</th>\n",
       "    </tr>\n",
       "  </thead>\n",
       "  <tbody>\n",
       "    <tr>\n",
       "      <th>Первое месторождение</th>\n",
       "      <td>-1.020901e+08</td>\n",
       "      <td>4.259385e+08</td>\n",
       "      <td>9.479764e+08</td>\n",
       "      <td>6.0</td>\n",
       "    </tr>\n",
       "    <tr>\n",
       "      <th>Второе месторождение</th>\n",
       "      <td>1.281232e+08</td>\n",
       "      <td>5.182595e+08</td>\n",
       "      <td>9.536130e+08</td>\n",
       "      <td>0.3</td>\n",
       "    </tr>\n",
       "    <tr>\n",
       "      <th>Третье месторождение</th>\n",
       "      <td>-1.158526e+08</td>\n",
       "      <td>4.201940e+08</td>\n",
       "      <td>9.896299e+08</td>\n",
       "      <td>6.2</td>\n",
       "    </tr>\n",
       "  </tbody>\n",
       "</table>\n",
       "</div>"
      ],
      "text/plain": [
       "                      Минимальная выручка  Средняя выручка  \\\n",
       "Первое месторождение        -1.020901e+08     4.259385e+08   \n",
       "Второе месторождение         1.281232e+08     5.182595e+08   \n",
       "Третье месторождение        -1.158526e+08     4.201940e+08   \n",
       "\n",
       "                      Максимальна выручка  Риск убытков, %  \n",
       "Первое месторождение         9.479764e+08              6.0  \n",
       "Второе месторождение         9.536130e+08              0.3  \n",
       "Третье месторождение         9.896299e+08              6.2  "
      ]
     },
     "execution_count": 34,
     "metadata": {},
     "output_type": "execute_result"
    }
   ],
   "source": [
    " final_data"
   ]
  },
  {
   "cell_type": "markdown",
   "metadata": {},
   "source": [
    "    Определен доверительный интервал получения прибыли в 95%.\n",
    "\n",
    "    Несмотря на сравнительно меньшие запасы сырья, по сравнению с другими регионами (всего 68 тыс баррелей против 92 и 94), средняя доходность с 200 лучших скважин во регионе 2 прогнозируется выше других, при наименьших рисках.\n",
    "\n",
    "    Наименьший риск получения убытков при разработке 200 скважин определен для второго региона.\n",
    "\n",
    "    При величине запасов на уровне 68 (тыс. баррелей), по показателю наименьшего риска (<2.5%) c прибыльностью ~ 520 (млн. руб.) выбирается модель разработки 200 скважин в регионе №2 (файл с исходными данными: 'geo_data_1.csv')."
   ]
  }
 ],
 "metadata": {
  "ExecuteTimeLog": [
   {
    "duration": 68,
    "start_time": "2023-07-20T11:19:33.485Z"
   },
   {
    "duration": 2103,
    "start_time": "2023-07-20T11:19:36.549Z"
   },
   {
    "duration": 591,
    "start_time": "2023-07-20T11:23:04.369Z"
   },
   {
    "duration": 535,
    "start_time": "2023-07-20T11:24:07.453Z"
   },
   {
    "duration": 4,
    "start_time": "2023-07-20T11:24:30.109Z"
   },
   {
    "duration": 376,
    "start_time": "2023-07-20T11:25:07.373Z"
   },
   {
    "duration": 8,
    "start_time": "2023-07-20T11:25:08.077Z"
   },
   {
    "duration": 7,
    "start_time": "2023-07-20T11:25:52.853Z"
   },
   {
    "duration": 21,
    "start_time": "2023-07-20T11:26:52.390Z"
   },
   {
    "duration": 173,
    "start_time": "2023-07-20T11:29:10.318Z"
   },
   {
    "duration": 34,
    "start_time": "2023-07-20T11:30:58.064Z"
   },
   {
    "duration": 31,
    "start_time": "2023-07-20T12:17:11.848Z"
   },
   {
    "duration": 113,
    "start_time": "2023-07-20T12:26:44.334Z"
   },
   {
    "duration": 34,
    "start_time": "2023-07-20T12:28:07.563Z"
   },
   {
    "duration": 70,
    "start_time": "2023-07-20T12:43:37.075Z"
   },
   {
    "duration": 14,
    "start_time": "2023-07-20T12:44:58.236Z"
   },
   {
    "duration": 542,
    "start_time": "2023-07-20T12:46:02.037Z"
   },
   {
    "duration": 572,
    "start_time": "2023-07-20T12:48:00.492Z"
   },
   {
    "duration": 707,
    "start_time": "2023-07-20T12:53:39.551Z"
   },
   {
    "duration": 1156,
    "start_time": "2023-07-20T12:55:00.882Z"
   },
   {
    "duration": 295,
    "start_time": "2023-07-20T12:56:07.822Z"
   },
   {
    "duration": 1013,
    "start_time": "2023-07-20T12:56:35.302Z"
   },
   {
    "duration": 429,
    "start_time": "2023-07-20T12:57:38.984Z"
   },
   {
    "duration": 375,
    "start_time": "2023-07-20T12:57:47.223Z"
   },
   {
    "duration": 10,
    "start_time": "2023-07-20T12:58:25.663Z"
   },
   {
    "duration": 8,
    "start_time": "2023-07-20T12:58:47.939Z"
   },
   {
    "duration": 11,
    "start_time": "2023-07-20T12:58:58.809Z"
   },
   {
    "duration": 174,
    "start_time": "2023-07-20T12:59:04.209Z"
   },
   {
    "duration": 154,
    "start_time": "2023-07-20T12:59:09.354Z"
   },
   {
    "duration": 243,
    "start_time": "2023-07-20T13:02:48.962Z"
   },
   {
    "duration": 9,
    "start_time": "2023-07-20T13:03:52.385Z"
   },
   {
    "duration": 10,
    "start_time": "2023-07-20T13:03:58.538Z"
   },
   {
    "duration": 102,
    "start_time": "2023-07-20T13:04:15.378Z"
   },
   {
    "duration": 315,
    "start_time": "2023-07-20T13:04:25.771Z"
   },
   {
    "duration": 281,
    "start_time": "2023-07-20T13:05:05.533Z"
   },
   {
    "duration": 219619,
    "start_time": "2023-07-20T13:06:25.916Z"
   },
   {
    "duration": 0,
    "start_time": "2023-07-20T13:10:05.536Z"
   },
   {
    "duration": 0,
    "start_time": "2023-07-20T13:10:05.538Z"
   },
   {
    "duration": 1569,
    "start_time": "2023-07-20T13:10:14.024Z"
   },
   {
    "duration": 362,
    "start_time": "2023-07-20T13:10:15.594Z"
   },
   {
    "duration": 2,
    "start_time": "2023-07-20T13:10:15.958Z"
   },
   {
    "duration": 40,
    "start_time": "2023-07-20T13:10:15.961Z"
   },
   {
    "duration": 39,
    "start_time": "2023-07-20T13:10:16.003Z"
   },
   {
    "duration": 121,
    "start_time": "2023-07-20T13:10:16.043Z"
   },
   {
    "duration": 19,
    "start_time": "2023-07-20T13:10:16.166Z"
   },
   {
    "duration": 1182,
    "start_time": "2023-07-20T13:10:16.187Z"
   },
   {
    "duration": 115,
    "start_time": "2023-07-20T13:10:17.371Z"
   },
   {
    "duration": 0,
    "start_time": "2023-07-20T13:10:17.488Z"
   },
   {
    "duration": 4,
    "start_time": "2023-07-20T13:10:23.406Z"
   },
   {
    "duration": 348,
    "start_time": "2023-07-20T13:10:24.183Z"
   },
   {
    "duration": 9,
    "start_time": "2023-07-20T13:10:25.159Z"
   },
   {
    "duration": 12,
    "start_time": "2023-07-20T13:10:25.959Z"
   },
   {
    "duration": 33,
    "start_time": "2023-07-20T13:10:26.503Z"
   },
   {
    "duration": 107,
    "start_time": "2023-07-20T13:10:26.999Z"
   },
   {
    "duration": 21,
    "start_time": "2023-07-20T13:10:27.673Z"
   },
   {
    "duration": 1041,
    "start_time": "2023-07-20T13:10:29.424Z"
   },
   {
    "duration": 10,
    "start_time": "2023-07-20T13:10:30.994Z"
   },
   {
    "duration": 13,
    "start_time": "2023-07-20T13:10:37.783Z"
   },
   {
    "duration": 0,
    "start_time": "2023-07-20T13:12:14.806Z"
   },
   {
    "duration": 1868,
    "start_time": "2023-07-20T13:12:20.941Z"
   },
   {
    "duration": 376,
    "start_time": "2023-07-20T13:12:22.811Z"
   },
   {
    "duration": 3,
    "start_time": "2023-07-20T13:12:23.188Z"
   },
   {
    "duration": 33,
    "start_time": "2023-07-20T13:12:23.193Z"
   },
   {
    "duration": 46,
    "start_time": "2023-07-20T13:12:23.227Z"
   },
   {
    "duration": 118,
    "start_time": "2023-07-20T13:12:23.275Z"
   },
   {
    "duration": 21,
    "start_time": "2023-07-20T13:12:23.395Z"
   },
   {
    "duration": 1175,
    "start_time": "2023-07-20T13:12:23.432Z"
   },
   {
    "duration": 0,
    "start_time": "2023-07-20T13:12:49.456Z"
   },
   {
    "duration": 0,
    "start_time": "2023-07-20T13:12:49.460Z"
   },
   {
    "duration": 0,
    "start_time": "2023-07-20T13:12:49.461Z"
   },
   {
    "duration": 0,
    "start_time": "2023-07-20T13:12:49.462Z"
   },
   {
    "duration": 0,
    "start_time": "2023-07-20T13:12:49.463Z"
   },
   {
    "duration": 0,
    "start_time": "2023-07-20T13:12:49.464Z"
   },
   {
    "duration": 0,
    "start_time": "2023-07-20T13:12:49.465Z"
   },
   {
    "duration": 0,
    "start_time": "2023-07-20T13:12:49.466Z"
   },
   {
    "duration": 0,
    "start_time": "2023-07-20T13:12:49.467Z"
   },
   {
    "duration": 0,
    "start_time": "2023-07-20T13:12:49.468Z"
   },
   {
    "duration": 3916,
    "start_time": "2023-07-20T13:19:51.270Z"
   },
   {
    "duration": 797,
    "start_time": "2023-07-20T13:19:56.863Z"
   },
   {
    "duration": 3,
    "start_time": "2023-07-20T13:19:58.180Z"
   },
   {
    "duration": 44,
    "start_time": "2023-07-20T13:19:59.293Z"
   },
   {
    "duration": 35,
    "start_time": "2023-07-20T13:20:00.129Z"
   },
   {
    "duration": 232,
    "start_time": "2023-07-20T13:20:00.731Z"
   },
   {
    "duration": 36,
    "start_time": "2023-07-20T13:20:01.836Z"
   },
   {
    "duration": 2683,
    "start_time": "2023-07-20T13:20:03.549Z"
   },
   {
    "duration": 20622,
    "start_time": "2023-07-20T13:20:06.234Z"
   },
   {
    "duration": 20,
    "start_time": "2023-07-20T13:20:43.213Z"
   },
   {
    "duration": 14,
    "start_time": "2023-07-20T13:22:58.471Z"
   },
   {
    "duration": 29,
    "start_time": "2023-07-20T13:23:17.803Z"
   },
   {
    "duration": 3,
    "start_time": "2023-07-20T13:23:23.031Z"
   },
   {
    "duration": 699,
    "start_time": "2023-07-20T13:23:23.676Z"
   },
   {
    "duration": 3,
    "start_time": "2023-07-20T13:23:24.376Z"
   },
   {
    "duration": 18,
    "start_time": "2023-07-20T13:23:24.747Z"
   },
   {
    "duration": 63,
    "start_time": "2023-07-20T13:23:25.284Z"
   },
   {
    "duration": 195,
    "start_time": "2023-07-20T13:23:26.373Z"
   },
   {
    "duration": 43,
    "start_time": "2023-07-20T13:23:27.491Z"
   },
   {
    "duration": 9,
    "start_time": "2023-07-20T13:23:28.356Z"
   },
   {
    "duration": 2395,
    "start_time": "2023-07-20T13:23:32.838Z"
   },
   {
    "duration": 3197,
    "start_time": "2023-07-20T13:23:35.963Z"
   },
   {
    "duration": 296,
    "start_time": "2023-07-20T13:24:57.656Z"
   },
   {
    "duration": 725,
    "start_time": "2023-07-20T13:25:03.533Z"
   },
   {
    "duration": 814,
    "start_time": "2023-07-20T13:25:08.932Z"
   },
   {
    "duration": 11,
    "start_time": "2023-07-20T13:26:13.165Z"
   },
   {
    "duration": 298,
    "start_time": "2023-07-20T13:26:36.958Z"
   },
   {
    "duration": 14,
    "start_time": "2023-07-20T13:26:59.053Z"
   },
   {
    "duration": 16,
    "start_time": "2023-07-20T13:27:25.270Z"
   },
   {
    "duration": 2106,
    "start_time": "2023-07-20T13:28:52.432Z"
   },
   {
    "duration": 3257,
    "start_time": "2023-07-20T13:29:01.480Z"
   },
   {
    "duration": 8,
    "start_time": "2023-07-20T13:29:22.344Z"
   },
   {
    "duration": 27,
    "start_time": "2023-07-20T13:29:31.919Z"
   },
   {
    "duration": 10,
    "start_time": "2023-07-20T13:29:34.998Z"
   },
   {
    "duration": 2305,
    "start_time": "2023-07-20T13:30:51.769Z"
   },
   {
    "duration": 2224,
    "start_time": "2023-07-20T13:31:47.442Z"
   },
   {
    "duration": 13,
    "start_time": "2023-07-20T13:38:43.378Z"
   },
   {
    "duration": 48,
    "start_time": "2023-07-20T13:39:00.885Z"
   },
   {
    "duration": 18,
    "start_time": "2023-07-20T13:39:40.682Z"
   },
   {
    "duration": 1581,
    "start_time": "2023-07-21T12:06:05.354Z"
   },
   {
    "duration": 1831,
    "start_time": "2023-07-21T12:06:07.007Z"
   },
   {
    "duration": 25,
    "start_time": "2023-07-21T12:06:08.841Z"
   },
   {
    "duration": 15,
    "start_time": "2023-07-21T12:06:09.849Z"
   },
   {
    "duration": 46,
    "start_time": "2023-07-21T12:06:10.623Z"
   },
   {
    "duration": 128,
    "start_time": "2023-07-21T12:06:12.224Z"
   },
   {
    "duration": 22,
    "start_time": "2023-07-21T12:06:16.072Z"
   },
   {
    "duration": 1386,
    "start_time": "2023-07-21T12:06:23.377Z"
   },
   {
    "duration": 327,
    "start_time": "2023-07-21T12:08:03.400Z"
   },
   {
    "duration": 1081,
    "start_time": "2023-07-21T12:09:05.148Z"
   },
   {
    "duration": 1304,
    "start_time": "2023-07-21T12:09:18.147Z"
   },
   {
    "duration": 1069,
    "start_time": "2023-07-21T12:10:10.041Z"
   },
   {
    "duration": 1380,
    "start_time": "2023-07-21T12:13:46.711Z"
   },
   {
    "duration": 381,
    "start_time": "2023-07-21T12:13:48.093Z"
   },
   {
    "duration": 19,
    "start_time": "2023-07-21T12:13:48.476Z"
   },
   {
    "duration": 32,
    "start_time": "2023-07-21T12:13:48.498Z"
   },
   {
    "duration": 49,
    "start_time": "2023-07-21T12:13:48.532Z"
   },
   {
    "duration": 140,
    "start_time": "2023-07-21T12:13:48.583Z"
   },
   {
    "duration": 22,
    "start_time": "2023-07-21T12:13:48.725Z"
   },
   {
    "duration": 1283,
    "start_time": "2023-07-21T12:13:48.748Z"
   },
   {
    "duration": 1080,
    "start_time": "2023-07-21T12:13:50.033Z"
   },
   {
    "duration": 72,
    "start_time": "2023-07-21T12:13:51.116Z"
   },
   {
    "duration": 0,
    "start_time": "2023-07-21T12:13:51.189Z"
   },
   {
    "duration": 93,
    "start_time": "2023-07-21T12:14:14.641Z"
   },
   {
    "duration": 5,
    "start_time": "2023-07-21T12:29:04.377Z"
   },
   {
    "duration": 363,
    "start_time": "2023-07-21T12:29:05.047Z"
   },
   {
    "duration": 23,
    "start_time": "2023-07-21T12:29:05.735Z"
   },
   {
    "duration": 18,
    "start_time": "2023-07-21T12:29:06.444Z"
   },
   {
    "duration": 40,
    "start_time": "2023-07-21T12:29:07.055Z"
   },
   {
    "duration": 126,
    "start_time": "2023-07-21T12:29:07.618Z"
   },
   {
    "duration": 34,
    "start_time": "2023-07-21T12:29:08.272Z"
   },
   {
    "duration": 1261,
    "start_time": "2023-07-21T12:29:08.957Z"
   },
   {
    "duration": 1422,
    "start_time": "2023-07-21T12:29:10.220Z"
   },
   {
    "duration": 116,
    "start_time": "2023-07-21T12:29:11.645Z"
   },
   {
    "duration": 101,
    "start_time": "2023-07-21T12:29:20.335Z"
   },
   {
    "duration": 12,
    "start_time": "2023-07-21T12:30:39.657Z"
   },
   {
    "duration": 190,
    "start_time": "2023-07-21T12:39:44.006Z"
   },
   {
    "duration": 439,
    "start_time": "2023-07-21T12:40:05.947Z"
   },
   {
    "duration": 86,
    "start_time": "2023-07-21T12:42:40.581Z"
   },
   {
    "duration": 124,
    "start_time": "2023-07-21T13:05:16.904Z"
   },
   {
    "duration": 414,
    "start_time": "2023-07-21T13:05:37.995Z"
   },
   {
    "duration": 114,
    "start_time": "2023-07-21T13:11:51.024Z"
   },
   {
    "duration": 44,
    "start_time": "2023-07-21T13:12:00.388Z"
   },
   {
    "duration": 11,
    "start_time": "2023-07-21T13:12:32.371Z"
   },
   {
    "duration": 59,
    "start_time": "2023-07-21T13:12:38.546Z"
   },
   {
    "duration": 310,
    "start_time": "2023-07-21T13:13:47.285Z"
   },
   {
    "duration": 349,
    "start_time": "2023-07-21T13:14:34.555Z"
   },
   {
    "duration": 128,
    "start_time": "2023-07-21T13:15:34.110Z"
   },
   {
    "duration": 5,
    "start_time": "2023-07-21T13:21:33.483Z"
   },
   {
    "duration": 3,
    "start_time": "2023-07-21T13:23:14.763Z"
   },
   {
    "duration": 41,
    "start_time": "2023-07-21T13:24:18.937Z"
   },
   {
    "duration": 6,
    "start_time": "2023-07-21T13:26:42.202Z"
   },
   {
    "duration": 44,
    "start_time": "2023-07-21T13:27:00.495Z"
   },
   {
    "duration": 72,
    "start_time": "2023-07-21T13:31:31.263Z"
   },
   {
    "duration": 4511,
    "start_time": "2023-07-21T13:31:59.037Z"
   },
   {
    "duration": 4619,
    "start_time": "2023-07-21T13:33:30.479Z"
   },
   {
    "duration": 4476,
    "start_time": "2023-07-21T13:35:24.657Z"
   },
   {
    "duration": 4473,
    "start_time": "2023-07-21T13:35:55.393Z"
   },
   {
    "duration": 4586,
    "start_time": "2023-07-21T13:37:43.127Z"
   },
   {
    "duration": 307,
    "start_time": "2023-07-21T13:39:28.898Z"
   },
   {
    "duration": 92,
    "start_time": "2023-07-21T13:39:31.298Z"
   },
   {
    "duration": 4,
    "start_time": "2023-07-21T13:39:33.615Z"
   },
   {
    "duration": 5,
    "start_time": "2023-07-21T13:39:34.798Z"
   },
   {
    "duration": 36,
    "start_time": "2023-07-21T13:39:35.852Z"
   },
   {
    "duration": 5,
    "start_time": "2023-07-21T13:39:40.664Z"
   },
   {
    "duration": 63,
    "start_time": "2023-07-21T13:39:41.635Z"
   },
   {
    "duration": 4451,
    "start_time": "2023-07-21T13:39:42.599Z"
   },
   {
    "duration": 4105,
    "start_time": "2023-07-21T13:40:24.540Z"
   },
   {
    "duration": 36,
    "start_time": "2023-07-21T13:42:59.785Z"
   },
   {
    "duration": 4098,
    "start_time": "2023-07-21T13:43:10.347Z"
   },
   {
    "duration": 4008,
    "start_time": "2023-07-21T13:43:25.004Z"
   },
   {
    "duration": 4037,
    "start_time": "2023-07-21T13:43:53.685Z"
   },
   {
    "duration": 4250,
    "start_time": "2023-07-21T13:44:21.058Z"
   },
   {
    "duration": 4319,
    "start_time": "2023-07-21T13:44:39.935Z"
   },
   {
    "duration": 349,
    "start_time": "2023-07-21T13:48:19.936Z"
   },
   {
    "duration": 84,
    "start_time": "2023-07-21T13:48:21.603Z"
   },
   {
    "duration": 3,
    "start_time": "2023-07-21T13:48:23.492Z"
   },
   {
    "duration": 10,
    "start_time": "2023-07-21T13:48:24.074Z"
   },
   {
    "duration": 32,
    "start_time": "2023-07-21T13:48:24.925Z"
   },
   {
    "duration": 5,
    "start_time": "2023-07-21T13:48:27.380Z"
   },
   {
    "duration": 1559,
    "start_time": "2023-07-21T13:48:35.668Z"
   },
   {
    "duration": 418,
    "start_time": "2023-07-21T13:48:37.230Z"
   },
   {
    "duration": 29,
    "start_time": "2023-07-21T13:48:37.649Z"
   },
   {
    "duration": 19,
    "start_time": "2023-07-21T13:48:37.680Z"
   },
   {
    "duration": 48,
    "start_time": "2023-07-21T13:48:37.702Z"
   },
   {
    "duration": 179,
    "start_time": "2023-07-21T13:48:37.752Z"
   },
   {
    "duration": 22,
    "start_time": "2023-07-21T13:48:37.933Z"
   },
   {
    "duration": 1325,
    "start_time": "2023-07-21T13:48:37.969Z"
   },
   {
    "duration": 1105,
    "start_time": "2023-07-21T13:48:39.295Z"
   },
   {
    "duration": 97,
    "start_time": "2023-07-21T13:48:40.401Z"
   },
   {
    "duration": 10,
    "start_time": "2023-07-21T13:48:40.499Z"
   },
   {
    "duration": 380,
    "start_time": "2023-07-21T13:48:40.511Z"
   },
   {
    "duration": 247,
    "start_time": "2023-07-21T13:48:40.893Z"
   },
   {
    "duration": 3,
    "start_time": "2023-07-21T13:48:41.142Z"
   },
   {
    "duration": 6,
    "start_time": "2023-07-21T13:48:41.147Z"
   },
   {
    "duration": 46,
    "start_time": "2023-07-21T13:48:41.155Z"
   },
   {
    "duration": 5,
    "start_time": "2023-07-21T13:48:41.202Z"
   },
   {
    "duration": 37,
    "start_time": "2023-07-21T13:48:41.209Z"
   },
   {
    "duration": 4364,
    "start_time": "2023-07-21T13:48:41.269Z"
   },
   {
    "duration": 4,
    "start_time": "2023-07-21T13:49:00.109Z"
   },
   {
    "duration": 410,
    "start_time": "2023-07-21T13:49:01.292Z"
   },
   {
    "duration": 22,
    "start_time": "2023-07-21T13:49:02.059Z"
   },
   {
    "duration": 15,
    "start_time": "2023-07-21T13:49:02.692Z"
   },
   {
    "duration": 34,
    "start_time": "2023-07-21T13:49:03.239Z"
   },
   {
    "duration": 143,
    "start_time": "2023-07-21T13:49:03.852Z"
   },
   {
    "duration": 22,
    "start_time": "2023-07-21T13:49:04.308Z"
   },
   {
    "duration": 1341,
    "start_time": "2023-07-21T13:49:04.956Z"
   },
   {
    "duration": 1108,
    "start_time": "2023-07-21T13:49:06.299Z"
   },
   {
    "duration": 94,
    "start_time": "2023-07-21T13:49:07.408Z"
   },
   {
    "duration": 11,
    "start_time": "2023-07-21T13:49:07.503Z"
   },
   {
    "duration": 393,
    "start_time": "2023-07-21T13:49:08.798Z"
   },
   {
    "duration": 85,
    "start_time": "2023-07-21T13:49:11.435Z"
   },
   {
    "duration": 3,
    "start_time": "2023-07-21T13:49:14.636Z"
   },
   {
    "duration": 3,
    "start_time": "2023-07-21T13:49:15.458Z"
   },
   {
    "duration": 31,
    "start_time": "2023-07-21T13:49:16.325Z"
   },
   {
    "duration": 5,
    "start_time": "2023-07-21T13:49:18.987Z"
   },
   {
    "duration": 29,
    "start_time": "2023-07-21T13:49:22.932Z"
   },
   {
    "duration": 4059,
    "start_time": "2023-07-21T13:49:24.647Z"
   },
   {
    "duration": 4,
    "start_time": "2023-07-21T14:08:53.733Z"
   },
   {
    "duration": 3,
    "start_time": "2023-07-21T14:08:56.138Z"
   },
   {
    "duration": 4,
    "start_time": "2023-07-21T14:08:56.933Z"
   },
   {
    "duration": 108,
    "start_time": "2023-07-21T14:09:35.292Z"
   },
   {
    "duration": 10,
    "start_time": "2023-07-21T14:10:06.239Z"
   },
   {
    "duration": 17,
    "start_time": "2023-07-21T14:10:11.967Z"
   },
   {
    "duration": 5,
    "start_time": "2023-07-21T14:22:42.626Z"
   },
   {
    "duration": 11,
    "start_time": "2023-07-21T14:23:09.163Z"
   },
   {
    "duration": 18,
    "start_time": "2023-07-21T14:24:44.519Z"
   },
   {
    "duration": 390,
    "start_time": "2023-07-21T14:24:54.726Z"
   },
   {
    "duration": 466,
    "start_time": "2023-07-21T14:25:04.406Z"
   },
   {
    "duration": 97,
    "start_time": "2023-07-21T14:25:16.786Z"
   },
   {
    "duration": 557,
    "start_time": "2023-07-21T14:26:03.830Z"
   },
   {
    "duration": 467,
    "start_time": "2023-07-21T14:27:40.412Z"
   },
   {
    "duration": 94,
    "start_time": "2023-07-21T14:27:51.795Z"
   },
   {
    "duration": 4,
    "start_time": "2023-07-21T14:28:29.644Z"
   },
   {
    "duration": 4,
    "start_time": "2023-07-21T14:28:30.620Z"
   },
   {
    "duration": 45,
    "start_time": "2023-07-21T14:28:32.767Z"
   },
   {
    "duration": 5,
    "start_time": "2023-07-21T14:28:35.826Z"
   },
   {
    "duration": 31,
    "start_time": "2023-07-21T14:28:37.785Z"
   },
   {
    "duration": 4607,
    "start_time": "2023-07-21T14:28:38.605Z"
   },
   {
    "duration": 4,
    "start_time": "2023-07-21T14:29:01.461Z"
   },
   {
    "duration": 11,
    "start_time": "2023-07-21T14:29:02.165Z"
   },
   {
    "duration": 30,
    "start_time": "2023-07-21T14:29:02.732Z"
   },
   {
    "duration": 5,
    "start_time": "2023-07-21T14:29:04.487Z"
   },
   {
    "duration": 30,
    "start_time": "2023-07-21T14:29:05.909Z"
   },
   {
    "duration": 3999,
    "start_time": "2023-07-21T14:29:06.890Z"
   },
   {
    "duration": 4,
    "start_time": "2023-07-21T14:29:53.285Z"
   },
   {
    "duration": 5,
    "start_time": "2023-07-21T14:29:54.052Z"
   },
   {
    "duration": 31,
    "start_time": "2023-07-21T14:29:54.782Z"
   },
   {
    "duration": 6,
    "start_time": "2023-07-21T14:29:57.206Z"
   },
   {
    "duration": 34,
    "start_time": "2023-07-21T14:29:58.663Z"
   },
   {
    "duration": 4018,
    "start_time": "2023-07-21T14:29:59.240Z"
   },
   {
    "duration": 3,
    "start_time": "2023-07-21T14:30:29.207Z"
   },
   {
    "duration": 3,
    "start_time": "2023-07-21T14:30:29.550Z"
   },
   {
    "duration": 30,
    "start_time": "2023-07-21T14:30:30.011Z"
   },
   {
    "duration": 5,
    "start_time": "2023-07-21T14:30:31.761Z"
   },
   {
    "duration": 30,
    "start_time": "2023-07-21T14:30:32.886Z"
   },
   {
    "duration": 4386,
    "start_time": "2023-07-21T14:30:33.601Z"
   },
   {
    "duration": 3,
    "start_time": "2023-07-21T14:30:50.654Z"
   },
   {
    "duration": 3,
    "start_time": "2023-07-21T14:32:33.823Z"
   },
   {
    "duration": 4,
    "start_time": "2023-07-21T14:32:34.984Z"
   },
   {
    "duration": 30,
    "start_time": "2023-07-21T14:32:35.909Z"
   },
   {
    "duration": 4,
    "start_time": "2023-07-21T14:32:38.400Z"
   },
   {
    "duration": 30,
    "start_time": "2023-07-21T14:32:39.985Z"
   },
   {
    "duration": 4293,
    "start_time": "2023-07-21T14:32:40.993Z"
   },
   {
    "duration": 2246,
    "start_time": "2023-07-23T13:24:36.657Z"
   },
   {
    "duration": 1918,
    "start_time": "2023-07-23T13:24:38.906Z"
   },
   {
    "duration": 31,
    "start_time": "2023-07-23T13:24:40.826Z"
   },
   {
    "duration": 37,
    "start_time": "2023-07-23T13:24:40.860Z"
   },
   {
    "duration": 66,
    "start_time": "2023-07-23T13:24:40.899Z"
   },
   {
    "duration": 199,
    "start_time": "2023-07-23T13:24:40.967Z"
   },
   {
    "duration": 45,
    "start_time": "2023-07-23T13:24:41.442Z"
   },
   {
    "duration": 1817,
    "start_time": "2023-07-23T13:24:42.861Z"
   },
   {
    "duration": 1354,
    "start_time": "2023-07-23T13:24:44.680Z"
   },
   {
    "duration": 126,
    "start_time": "2023-07-23T13:24:46.037Z"
   },
   {
    "duration": 14,
    "start_time": "2023-07-23T13:24:46.675Z"
   },
   {
    "duration": 4,
    "start_time": "2023-07-23T13:24:49.460Z"
   },
   {
    "duration": 6,
    "start_time": "2023-07-23T13:24:50.240Z"
   },
   {
    "duration": 485,
    "start_time": "2023-07-23T13:24:54.993Z"
   },
   {
    "duration": 131,
    "start_time": "2023-07-23T13:24:57.312Z"
   },
   {
    "duration": 5,
    "start_time": "2023-07-23T13:25:13.282Z"
   },
   {
    "duration": 5,
    "start_time": "2023-07-23T13:25:16.700Z"
   },
   {
    "duration": 50,
    "start_time": "2023-07-23T13:25:25.056Z"
   },
   {
    "duration": 18,
    "start_time": "2023-07-23T13:25:32.296Z"
   },
   {
    "duration": 44,
    "start_time": "2023-07-23T13:25:34.959Z"
   },
   {
    "duration": 5118,
    "start_time": "2023-07-23T13:25:36.953Z"
   },
   {
    "duration": 4,
    "start_time": "2023-07-23T13:28:26.020Z"
   },
   {
    "duration": 5,
    "start_time": "2023-07-23T13:28:26.960Z"
   },
   {
    "duration": 5,
    "start_time": "2023-07-23T13:29:13.772Z"
   },
   {
    "duration": 5,
    "start_time": "2023-07-23T13:29:14.613Z"
   },
   {
    "duration": 7,
    "start_time": "2023-07-23T13:29:28.570Z"
   },
   {
    "duration": 5,
    "start_time": "2023-07-23T13:29:29.736Z"
   },
   {
    "duration": 4,
    "start_time": "2023-07-23T13:29:39.058Z"
   },
   {
    "duration": 5,
    "start_time": "2023-07-23T13:29:40.395Z"
   },
   {
    "duration": 45,
    "start_time": "2023-07-23T13:29:50.351Z"
   },
   {
    "duration": 6,
    "start_time": "2023-07-23T13:29:54.992Z"
   },
   {
    "duration": 38,
    "start_time": "2023-07-23T13:29:59.806Z"
   },
   {
    "duration": 4989,
    "start_time": "2023-07-23T13:30:01.607Z"
   },
   {
    "duration": 4,
    "start_time": "2023-07-23T13:32:19.392Z"
   },
   {
    "duration": 8,
    "start_time": "2023-07-23T13:32:20.263Z"
   },
   {
    "duration": 14,
    "start_time": "2023-07-23T13:33:59.924Z"
   },
   {
    "duration": 7,
    "start_time": "2023-07-23T13:34:32.150Z"
   },
   {
    "duration": 7,
    "start_time": "2023-07-23T13:35:29.223Z"
   },
   {
    "duration": 7,
    "start_time": "2023-07-23T13:55:04.803Z"
   },
   {
    "duration": 382,
    "start_time": "2023-07-23T13:55:08.205Z"
   },
   {
    "duration": 11,
    "start_time": "2023-07-23T13:55:10.897Z"
   },
   {
    "duration": 112,
    "start_time": "2023-07-23T13:55:13.833Z"
   },
   {
    "duration": 4,
    "start_time": "2023-07-23T13:55:17.644Z"
   },
   {
    "duration": 4,
    "start_time": "2023-07-23T13:55:18.549Z"
   },
   {
    "duration": 36,
    "start_time": "2023-07-23T13:55:19.623Z"
   },
   {
    "duration": 18,
    "start_time": "2023-07-23T13:55:20.044Z"
   },
   {
    "duration": 7,
    "start_time": "2023-07-23T13:55:21.341Z"
   },
   {
    "duration": 44,
    "start_time": "2023-07-23T13:55:23.446Z"
   },
   {
    "duration": 5231,
    "start_time": "2023-07-23T13:55:24.202Z"
   },
   {
    "duration": 6,
    "start_time": "2023-07-23T14:28:11.329Z"
   },
   {
    "duration": 410,
    "start_time": "2023-07-23T14:28:15.577Z"
   },
   {
    "duration": 5,
    "start_time": "2023-07-23T14:28:17.699Z"
   },
   {
    "duration": 110,
    "start_time": "2023-07-23T14:28:22.094Z"
   },
   {
    "duration": 3,
    "start_time": "2023-07-23T14:28:24.502Z"
   },
   {
    "duration": 4,
    "start_time": "2023-07-23T14:28:25.335Z"
   },
   {
    "duration": 35,
    "start_time": "2023-07-23T14:28:26.212Z"
   },
   {
    "duration": 12,
    "start_time": "2023-07-23T14:28:26.763Z"
   },
   {
    "duration": 5,
    "start_time": "2023-07-23T14:28:27.930Z"
   },
   {
    "duration": 43,
    "start_time": "2023-07-23T14:28:28.341Z"
   },
   {
    "duration": 4635,
    "start_time": "2023-07-23T14:28:28.799Z"
   },
   {
    "duration": 327,
    "start_time": "2023-07-23T14:39:20.390Z"
   },
   {
    "duration": 5109,
    "start_time": "2023-07-23T14:40:26.843Z"
   },
   {
    "duration": 5,
    "start_time": "2023-07-23T14:41:24.106Z"
   },
   {
    "duration": 5,
    "start_time": "2023-07-23T14:41:24.614Z"
   },
   {
    "duration": 37,
    "start_time": "2023-07-23T14:41:25.176Z"
   },
   {
    "duration": 13,
    "start_time": "2023-07-23T14:41:26.232Z"
   },
   {
    "duration": 6,
    "start_time": "2023-07-23T14:41:28.599Z"
   },
   {
    "duration": 47,
    "start_time": "2023-07-23T14:41:29.305Z"
   },
   {
    "duration": 5081,
    "start_time": "2023-07-23T14:41:30.630Z"
   },
   {
    "duration": 3,
    "start_time": "2023-07-23T14:41:44.257Z"
   },
   {
    "duration": 4,
    "start_time": "2023-07-23T14:41:44.743Z"
   },
   {
    "duration": 59,
    "start_time": "2023-07-23T14:41:45.226Z"
   },
   {
    "duration": 16,
    "start_time": "2023-07-23T14:41:45.671Z"
   },
   {
    "duration": 7,
    "start_time": "2023-07-23T14:41:47.711Z"
   },
   {
    "duration": 41,
    "start_time": "2023-07-23T14:41:49.176Z"
   },
   {
    "duration": 37,
    "start_time": "2023-07-23T14:42:29.396Z"
   },
   {
    "duration": 38,
    "start_time": "2023-07-23T14:42:36.532Z"
   },
   {
    "duration": 4821,
    "start_time": "2023-07-23T14:42:38.900Z"
   },
   {
    "duration": 1669,
    "start_time": "2023-07-26T11:21:07.417Z"
   },
   {
    "duration": 756,
    "start_time": "2023-07-26T11:21:10.433Z"
   },
   {
    "duration": 19,
    "start_time": "2023-07-26T11:21:11.487Z"
   },
   {
    "duration": 15,
    "start_time": "2023-07-26T11:21:11.725Z"
   },
   {
    "duration": 35,
    "start_time": "2023-07-26T11:21:12.311Z"
   },
   {
    "duration": 122,
    "start_time": "2023-07-26T11:21:12.936Z"
   },
   {
    "duration": 25,
    "start_time": "2023-07-26T11:21:14.127Z"
   },
   {
    "duration": 1310,
    "start_time": "2023-07-26T11:21:14.710Z"
   },
   {
    "duration": 1100,
    "start_time": "2023-07-26T11:21:17.585Z"
   },
   {
    "duration": 84,
    "start_time": "2023-07-26T11:21:19.610Z"
   },
   {
    "duration": 11,
    "start_time": "2023-07-26T11:21:20.641Z"
   },
   {
    "duration": 3,
    "start_time": "2023-07-26T11:21:27.460Z"
   },
   {
    "duration": 4,
    "start_time": "2023-07-26T11:21:29.910Z"
   },
   {
    "duration": 426,
    "start_time": "2023-07-26T11:21:31.081Z"
   },
   {
    "duration": 5,
    "start_time": "2023-07-26T11:21:33.000Z"
   },
   {
    "duration": 111,
    "start_time": "2023-07-26T11:21:34.652Z"
   },
   {
    "duration": 112,
    "start_time": "2023-07-26T11:22:38.700Z"
   },
   {
    "duration": 3,
    "start_time": "2023-07-26T11:22:44.491Z"
   },
   {
    "duration": 4,
    "start_time": "2023-07-26T11:22:50.302Z"
   },
   {
    "duration": 4,
    "start_time": "2023-07-26T11:24:29.103Z"
   },
   {
    "duration": 32,
    "start_time": "2023-07-26T11:25:32.824Z"
   },
   {
    "duration": 3933,
    "start_time": "2023-07-26T11:29:35.069Z"
   },
   {
    "duration": 3825,
    "start_time": "2023-07-26T11:34:49.635Z"
   },
   {
    "duration": 3995,
    "start_time": "2023-07-26T11:35:23.827Z"
   },
   {
    "duration": 4012,
    "start_time": "2023-07-26T11:35:47.484Z"
   },
   {
    "duration": 3943,
    "start_time": "2023-07-26T11:36:08.204Z"
   },
   {
    "duration": 3858,
    "start_time": "2023-07-26T11:36:26.599Z"
   },
   {
    "duration": 3,
    "start_time": "2023-07-26T11:37:42.999Z"
   },
   {
    "duration": 3,
    "start_time": "2023-07-26T11:38:06.346Z"
   },
   {
    "duration": 4,
    "start_time": "2023-07-26T11:38:57.884Z"
   },
   {
    "duration": 12,
    "start_time": "2023-07-26T11:39:22.404Z"
   },
   {
    "duration": 3889,
    "start_time": "2023-07-26T11:45:08.511Z"
   },
   {
    "duration": 3779,
    "start_time": "2023-07-26T11:45:26.024Z"
   },
   {
    "duration": 18,
    "start_time": "2023-07-26T11:49:10.426Z"
   },
   {
    "duration": 32,
    "start_time": "2023-07-26T11:50:07.568Z"
   },
   {
    "duration": 31,
    "start_time": "2023-07-26T11:51:51.998Z"
   },
   {
    "duration": 4041,
    "start_time": "2023-07-26T11:52:04.095Z"
   },
   {
    "duration": 3920,
    "start_time": "2023-07-26T11:52:52.025Z"
   },
   {
    "duration": 704,
    "start_time": "2023-07-26T12:00:47.526Z"
   },
   {
    "duration": 458,
    "start_time": "2023-07-26T12:01:21.448Z"
   },
   {
    "duration": 6,
    "start_time": "2023-07-26T12:01:25.014Z"
   },
   {
    "duration": 459,
    "start_time": "2023-07-26T12:03:02.745Z"
   },
   {
    "duration": 5,
    "start_time": "2023-07-26T12:03:07.103Z"
   },
   {
    "duration": 83,
    "start_time": "2023-07-26T12:03:12.469Z"
   },
   {
    "duration": 4,
    "start_time": "2023-07-26T12:03:17.452Z"
   },
   {
    "duration": 5,
    "start_time": "2023-07-26T12:03:18.831Z"
   },
   {
    "duration": 34,
    "start_time": "2023-07-26T12:03:21.656Z"
   },
   {
    "duration": 6,
    "start_time": "2023-07-26T12:03:28.116Z"
   },
   {
    "duration": 42,
    "start_time": "2023-07-26T12:03:29.648Z"
   },
   {
    "duration": 4274,
    "start_time": "2023-07-26T12:03:30.752Z"
   },
   {
    "duration": 30,
    "start_time": "2023-07-26T12:04:03.344Z"
   },
   {
    "duration": 4009,
    "start_time": "2023-07-26T12:04:04.621Z"
   },
   {
    "duration": 31,
    "start_time": "2023-07-26T12:05:13.413Z"
   },
   {
    "duration": 268,
    "start_time": "2023-07-26T12:06:00.066Z"
   },
   {
    "duration": 8,
    "start_time": "2023-07-26T12:06:08.655Z"
   },
   {
    "duration": 7,
    "start_time": "2023-07-26T12:06:32.487Z"
   },
   {
    "duration": 5,
    "start_time": "2023-07-26T12:07:50.210Z"
   },
   {
    "duration": 5,
    "start_time": "2023-07-26T12:07:56.505Z"
   },
   {
    "duration": 5,
    "start_time": "2023-07-26T12:07:59.504Z"
   },
   {
    "duration": 5,
    "start_time": "2023-07-26T12:08:01.339Z"
   },
   {
    "duration": 5,
    "start_time": "2023-07-26T12:12:37.863Z"
   },
   {
    "duration": 52,
    "start_time": "2023-07-26T12:12:54.608Z"
   },
   {
    "duration": 42,
    "start_time": "2023-07-26T12:13:15.096Z"
   },
   {
    "duration": 5,
    "start_time": "2023-07-26T12:13:20.154Z"
   },
   {
    "duration": 53,
    "start_time": "2023-07-26T12:14:07.813Z"
   },
   {
    "duration": 1755,
    "start_time": "2023-07-26T12:15:15.187Z"
   },
   {
    "duration": 1812,
    "start_time": "2023-07-26T12:15:24.655Z"
   },
   {
    "duration": 622,
    "start_time": "2023-07-26T12:17:09.719Z"
   },
   {
    "duration": 4,
    "start_time": "2023-07-26T12:17:54.933Z"
   },
   {
    "duration": 3,
    "start_time": "2023-07-26T12:17:58.998Z"
   },
   {
    "duration": 4,
    "start_time": "2023-07-26T12:18:10.955Z"
   },
   {
    "duration": 3,
    "start_time": "2023-07-26T12:18:26.487Z"
   },
   {
    "duration": 4,
    "start_time": "2023-07-26T12:18:41.116Z"
   },
   {
    "duration": 4,
    "start_time": "2023-07-26T12:19:17.045Z"
   },
   {
    "duration": 1767,
    "start_time": "2023-07-26T12:19:24.337Z"
   },
   {
    "duration": 4,
    "start_time": "2023-07-26T12:19:46.514Z"
   },
   {
    "duration": 1701,
    "start_time": "2023-07-26T12:20:09.491Z"
   },
   {
    "duration": 1803,
    "start_time": "2023-07-26T12:20:40.209Z"
   },
   {
    "duration": 2014,
    "start_time": "2023-07-26T12:20:56.603Z"
   },
   {
    "duration": 5,
    "start_time": "2023-07-26T12:26:06.195Z"
   },
   {
    "duration": 199,
    "start_time": "2023-07-26T12:26:09.544Z"
   },
   {
    "duration": 805,
    "start_time": "2023-07-26T12:27:47.848Z"
   },
   {
    "duration": 83,
    "start_time": "2023-07-26T12:27:58.450Z"
   },
   {
    "duration": 438,
    "start_time": "2023-07-26T12:28:30.243Z"
   },
   {
    "duration": 1877,
    "start_time": "2023-07-26T12:28:52.985Z"
   },
   {
    "duration": 9,
    "start_time": "2023-07-26T13:54:38.919Z"
   },
   {
    "duration": 527,
    "start_time": "2023-07-26T13:55:24.236Z"
   },
   {
    "duration": 9,
    "start_time": "2023-07-26T13:55:25.586Z"
   },
   {
    "duration": 3,
    "start_time": "2023-07-26T13:56:06.722Z"
   },
   {
    "duration": 4,
    "start_time": "2023-07-26T13:56:20.466Z"
   },
   {
    "duration": 10,
    "start_time": "2023-07-26T13:56:45.153Z"
   },
   {
    "duration": 3,
    "start_time": "2023-07-26T13:57:39.619Z"
   },
   {
    "duration": 3,
    "start_time": "2023-07-26T13:57:40.075Z"
   },
   {
    "duration": 4,
    "start_time": "2023-07-26T13:57:40.478Z"
   },
   {
    "duration": 3,
    "start_time": "2023-07-26T13:58:03.579Z"
   },
   {
    "duration": 2,
    "start_time": "2023-07-26T13:58:04.099Z"
   },
   {
    "duration": 3,
    "start_time": "2023-07-26T13:58:04.540Z"
   },
   {
    "duration": 45,
    "start_time": "2023-07-26T13:58:05.509Z"
   },
   {
    "duration": 47,
    "start_time": "2023-07-26T13:58:40.403Z"
   },
   {
    "duration": 49,
    "start_time": "2023-07-26T13:58:52.426Z"
   },
   {
    "duration": 3,
    "start_time": "2023-07-26T13:59:41.091Z"
   },
   {
    "duration": 3,
    "start_time": "2023-07-26T14:00:16.084Z"
   },
   {
    "duration": 4,
    "start_time": "2023-07-26T14:00:42.566Z"
   },
   {
    "duration": 21,
    "start_time": "2023-07-26T14:00:53.691Z"
   },
   {
    "duration": 20,
    "start_time": "2023-07-26T14:01:04.438Z"
   },
   {
    "duration": 22,
    "start_time": "2023-07-26T14:01:16.933Z"
   },
   {
    "duration": 3,
    "start_time": "2023-07-26T14:01:32.032Z"
   },
   {
    "duration": 11,
    "start_time": "2023-07-26T14:01:55.900Z"
   },
   {
    "duration": 3,
    "start_time": "2023-07-26T14:02:48.663Z"
   },
   {
    "duration": 4,
    "start_time": "2023-07-26T14:03:08.261Z"
   },
   {
    "duration": 3,
    "start_time": "2023-07-26T14:03:33.907Z"
   },
   {
    "duration": 4,
    "start_time": "2023-07-26T14:04:01.843Z"
   },
   {
    "duration": 5,
    "start_time": "2023-07-26T14:04:26.343Z"
   },
   {
    "duration": 3462,
    "start_time": "2023-07-26T14:04:36.447Z"
   },
   {
    "duration": 1930,
    "start_time": "2023-07-26T14:05:21.338Z"
   },
   {
    "duration": 1899,
    "start_time": "2023-07-26T14:05:56.544Z"
   },
   {
    "duration": 5,
    "start_time": "2023-07-26T14:06:13.215Z"
   },
   {
    "duration": 10,
    "start_time": "2023-07-26T14:06:44.144Z"
   },
   {
    "duration": 138,
    "start_time": "2023-07-26T14:07:57.457Z"
   },
   {
    "duration": 4,
    "start_time": "2023-07-26T14:08:40.791Z"
   },
   {
    "duration": 378,
    "start_time": "2023-07-26T14:08:41.266Z"
   },
   {
    "duration": 450,
    "start_time": "2023-07-26T14:08:58.953Z"
   },
   {
    "duration": 7,
    "start_time": "2023-07-26T14:08:59.405Z"
   },
   {
    "duration": 3,
    "start_time": "2023-07-26T14:09:00.706Z"
   },
   {
    "duration": 3,
    "start_time": "2023-07-26T14:09:00.931Z"
   },
   {
    "duration": 4,
    "start_time": "2023-07-26T14:09:01.132Z"
   },
   {
    "duration": 48,
    "start_time": "2023-07-26T14:09:01.504Z"
   },
   {
    "duration": 49,
    "start_time": "2023-07-26T14:09:01.705Z"
   },
   {
    "duration": 56,
    "start_time": "2023-07-26T14:09:01.905Z"
   },
   {
    "duration": 3,
    "start_time": "2023-07-26T14:09:02.746Z"
   },
   {
    "duration": 2,
    "start_time": "2023-07-26T14:09:03.161Z"
   },
   {
    "duration": 4,
    "start_time": "2023-07-26T14:09:03.736Z"
   },
   {
    "duration": 42,
    "start_time": "2023-07-26T14:09:03.946Z"
   },
   {
    "duration": 25,
    "start_time": "2023-07-26T14:09:04.163Z"
   },
   {
    "duration": 100,
    "start_time": "2023-07-26T14:09:04.388Z"
   },
   {
    "duration": 3,
    "start_time": "2023-07-26T14:09:04.588Z"
   },
   {
    "duration": 8,
    "start_time": "2023-07-26T14:09:04.951Z"
   },
   {
    "duration": 3,
    "start_time": "2023-07-26T14:09:05.640Z"
   },
   {
    "duration": 4,
    "start_time": "2023-07-26T14:09:06.097Z"
   },
   {
    "duration": 3,
    "start_time": "2023-07-26T14:09:06.553Z"
   },
   {
    "duration": 3,
    "start_time": "2023-07-26T14:09:06.992Z"
   },
   {
    "duration": 4,
    "start_time": "2023-07-26T14:09:07.498Z"
   },
   {
    "duration": 3306,
    "start_time": "2023-07-26T14:09:07.717Z"
   },
   {
    "duration": 1897,
    "start_time": "2023-07-26T14:09:11.025Z"
   },
   {
    "duration": 2086,
    "start_time": "2023-07-26T14:09:12.924Z"
   },
   {
    "duration": 4,
    "start_time": "2023-07-26T14:09:15.013Z"
   },
   {
    "duration": 80,
    "start_time": "2023-07-26T14:09:15.019Z"
   },
   {
    "duration": 156,
    "start_time": "2023-07-26T14:09:15.101Z"
   },
   {
    "duration": 1523,
    "start_time": "2023-07-26T14:09:30.707Z"
   },
   {
    "duration": 620,
    "start_time": "2023-07-26T14:09:32.232Z"
   },
   {
    "duration": 9,
    "start_time": "2023-07-26T14:09:32.854Z"
   },
   {
    "duration": 5,
    "start_time": "2023-07-26T14:09:32.865Z"
   },
   {
    "duration": 26,
    "start_time": "2023-07-26T14:09:32.871Z"
   },
   {
    "duration": 11,
    "start_time": "2023-07-26T14:09:32.899Z"
   },
   {
    "duration": 81,
    "start_time": "2023-07-26T14:09:32.912Z"
   },
   {
    "duration": 60,
    "start_time": "2023-07-26T14:09:32.997Z"
   },
   {
    "duration": 62,
    "start_time": "2023-07-26T14:09:33.059Z"
   },
   {
    "duration": 3,
    "start_time": "2023-07-26T14:09:33.123Z"
   },
   {
    "duration": 45,
    "start_time": "2023-07-26T14:09:33.127Z"
   },
   {
    "duration": 18,
    "start_time": "2023-07-26T14:09:33.174Z"
   },
   {
    "duration": 93,
    "start_time": "2023-07-26T14:09:33.194Z"
   },
   {
    "duration": 109,
    "start_time": "2023-07-26T14:09:33.290Z"
   },
   {
    "duration": 291,
    "start_time": "2023-07-26T14:09:33.401Z"
   },
   {
    "duration": 93,
    "start_time": "2023-07-26T14:09:33.695Z"
   },
   {
    "duration": 14,
    "start_time": "2023-07-26T14:09:33.790Z"
   },
   {
    "duration": 3,
    "start_time": "2023-07-26T14:09:33.806Z"
   },
   {
    "duration": 6,
    "start_time": "2023-07-26T14:09:33.811Z"
   },
   {
    "duration": 7,
    "start_time": "2023-07-26T14:09:33.819Z"
   },
   {
    "duration": 12,
    "start_time": "2023-07-26T14:09:33.827Z"
   },
   {
    "duration": 8,
    "start_time": "2023-07-26T14:09:33.841Z"
   },
   {
    "duration": 3433,
    "start_time": "2023-07-26T14:09:33.851Z"
   },
   {
    "duration": 1875,
    "start_time": "2023-07-26T14:09:37.285Z"
   },
   {
    "duration": 1855,
    "start_time": "2023-07-26T14:09:39.162Z"
   },
   {
    "duration": 4,
    "start_time": "2023-07-26T14:09:41.018Z"
   },
   {
    "duration": 115,
    "start_time": "2023-07-26T14:09:41.024Z"
   },
   {
    "duration": 92,
    "start_time": "2023-07-26T14:14:01.343Z"
   },
   {
    "duration": 106,
    "start_time": "2023-07-26T14:15:13.481Z"
   },
   {
    "duration": 116,
    "start_time": "2023-07-26T14:16:14.974Z"
   },
   {
    "duration": 113,
    "start_time": "2023-07-26T14:17:17.813Z"
   },
   {
    "duration": 144,
    "start_time": "2023-07-26T14:18:44.694Z"
   },
   {
    "duration": 94,
    "start_time": "2023-07-26T14:20:03.147Z"
   },
   {
    "duration": 130,
    "start_time": "2023-07-26T14:21:06.781Z"
   },
   {
    "duration": 133,
    "start_time": "2023-07-26T14:21:50.789Z"
   },
   {
    "duration": 392,
    "start_time": "2023-07-26T14:23:51.512Z"
   },
   {
    "duration": 9,
    "start_time": "2023-07-26T14:24:22.607Z"
   },
   {
    "duration": 3,
    "start_time": "2023-07-26T14:25:44.121Z"
   },
   {
    "duration": 441,
    "start_time": "2023-07-26T14:25:44.694Z"
   },
   {
    "duration": 9,
    "start_time": "2023-07-26T14:25:46.919Z"
   },
   {
    "duration": 1575,
    "start_time": "2023-07-26T14:26:02.356Z"
   },
   {
    "duration": 3,
    "start_time": "2023-07-26T14:26:03.933Z"
   },
   {
    "duration": 405,
    "start_time": "2023-07-26T14:26:03.938Z"
   },
   {
    "duration": 117,
    "start_time": "2023-07-26T14:26:04.345Z"
   },
   {
    "duration": 0,
    "start_time": "2023-07-26T14:26:04.464Z"
   },
   {
    "duration": 0,
    "start_time": "2023-07-26T14:26:04.466Z"
   },
   {
    "duration": 0,
    "start_time": "2023-07-26T14:26:04.467Z"
   },
   {
    "duration": 0,
    "start_time": "2023-07-26T14:26:04.468Z"
   },
   {
    "duration": 0,
    "start_time": "2023-07-26T14:26:04.469Z"
   },
   {
    "duration": 0,
    "start_time": "2023-07-26T14:26:04.470Z"
   },
   {
    "duration": 1,
    "start_time": "2023-07-26T14:26:04.487Z"
   },
   {
    "duration": 0,
    "start_time": "2023-07-26T14:26:04.489Z"
   },
   {
    "duration": 0,
    "start_time": "2023-07-26T14:26:04.490Z"
   },
   {
    "duration": 0,
    "start_time": "2023-07-26T14:26:04.491Z"
   },
   {
    "duration": 0,
    "start_time": "2023-07-26T14:26:04.492Z"
   },
   {
    "duration": 0,
    "start_time": "2023-07-26T14:26:04.493Z"
   },
   {
    "duration": 0,
    "start_time": "2023-07-26T14:26:04.495Z"
   },
   {
    "duration": 0,
    "start_time": "2023-07-26T14:26:04.495Z"
   },
   {
    "duration": 0,
    "start_time": "2023-07-26T14:26:04.496Z"
   },
   {
    "duration": 0,
    "start_time": "2023-07-26T14:26:04.497Z"
   },
   {
    "duration": 0,
    "start_time": "2023-07-26T14:26:04.498Z"
   },
   {
    "duration": 0,
    "start_time": "2023-07-26T14:26:04.500Z"
   },
   {
    "duration": 0,
    "start_time": "2023-07-26T14:26:04.501Z"
   },
   {
    "duration": 0,
    "start_time": "2023-07-26T14:26:04.502Z"
   },
   {
    "duration": 0,
    "start_time": "2023-07-26T14:26:04.503Z"
   },
   {
    "duration": 0,
    "start_time": "2023-07-26T14:26:04.504Z"
   },
   {
    "duration": 0,
    "start_time": "2023-07-26T14:26:04.505Z"
   },
   {
    "duration": 0,
    "start_time": "2023-07-26T14:26:04.506Z"
   },
   {
    "duration": 0,
    "start_time": "2023-07-26T14:26:04.507Z"
   },
   {
    "duration": 0,
    "start_time": "2023-07-26T14:26:04.508Z"
   },
   {
    "duration": 0,
    "start_time": "2023-07-26T14:26:04.508Z"
   },
   {
    "duration": 2,
    "start_time": "2023-07-26T14:26:29.684Z"
   },
   {
    "duration": 15,
    "start_time": "2023-07-26T14:26:30.727Z"
   },
   {
    "duration": 445,
    "start_time": "2023-07-26T14:26:44.431Z"
   },
   {
    "duration": 2,
    "start_time": "2023-07-26T14:26:46.359Z"
   },
   {
    "duration": 5,
    "start_time": "2023-07-26T14:26:54.520Z"
   },
   {
    "duration": 12,
    "start_time": "2023-07-26T14:27:52.098Z"
   },
   {
    "duration": 3,
    "start_time": "2023-07-26T14:27:58.496Z"
   },
   {
    "duration": 18,
    "start_time": "2023-07-26T14:27:59.281Z"
   },
   {
    "duration": 44,
    "start_time": "2023-07-26T14:28:04.120Z"
   },
   {
    "duration": 119,
    "start_time": "2023-07-26T14:28:16.427Z"
   },
   {
    "duration": 24,
    "start_time": "2023-07-26T14:28:18.698Z"
   },
   {
    "duration": 9,
    "start_time": "2023-07-26T14:28:29.924Z"
   },
   {
    "duration": 19,
    "start_time": "2023-07-26T14:29:22.687Z"
   },
   {
    "duration": 14,
    "start_time": "2023-07-26T14:29:48.913Z"
   },
   {
    "duration": 80,
    "start_time": "2023-07-26T14:30:09.367Z"
   },
   {
    "duration": 9,
    "start_time": "2023-07-26T14:30:11.712Z"
   },
   {
    "duration": 12,
    "start_time": "2023-07-26T14:30:19.624Z"
   },
   {
    "duration": 1460,
    "start_time": "2023-07-26T14:30:26.702Z"
   },
   {
    "duration": 385,
    "start_time": "2023-07-26T14:30:28.164Z"
   },
   {
    "duration": 3,
    "start_time": "2023-07-26T14:30:28.551Z"
   },
   {
    "duration": 53,
    "start_time": "2023-07-26T14:30:28.557Z"
   },
   {
    "duration": 147,
    "start_time": "2023-07-26T14:30:28.612Z"
   },
   {
    "duration": 46,
    "start_time": "2023-07-26T14:30:28.762Z"
   },
   {
    "duration": 13,
    "start_time": "2023-07-26T14:30:28.810Z"
   },
   {
    "duration": 506,
    "start_time": "2023-07-26T14:30:28.825Z"
   },
   {
    "duration": 8,
    "start_time": "2023-07-26T14:30:29.333Z"
   },
   {
    "duration": 30,
    "start_time": "2023-07-26T14:30:29.344Z"
   },
   {
    "duration": 8,
    "start_time": "2023-07-26T14:30:29.376Z"
   },
   {
    "duration": 14,
    "start_time": "2023-07-26T14:30:29.385Z"
   },
   {
    "duration": 61,
    "start_time": "2023-07-26T14:30:29.401Z"
   },
   {
    "duration": 60,
    "start_time": "2023-07-26T14:30:29.464Z"
   },
   {
    "duration": 49,
    "start_time": "2023-07-26T14:30:29.525Z"
   },
   {
    "duration": 3,
    "start_time": "2023-07-26T14:30:29.587Z"
   },
   {
    "duration": 39,
    "start_time": "2023-07-26T14:30:29.592Z"
   },
   {
    "duration": 13,
    "start_time": "2023-07-26T14:30:29.633Z"
   },
   {
    "duration": 42,
    "start_time": "2023-07-26T14:30:29.647Z"
   },
   {
    "duration": 203,
    "start_time": "2023-07-26T14:30:29.691Z"
   },
   {
    "duration": 194,
    "start_time": "2023-07-26T14:30:29.897Z"
   },
   {
    "duration": 94,
    "start_time": "2023-07-26T14:30:30.095Z"
   },
   {
    "duration": 103,
    "start_time": "2023-07-26T14:30:30.190Z"
   },
   {
    "duration": 79,
    "start_time": "2023-07-26T14:30:30.295Z"
   },
   {
    "duration": 143,
    "start_time": "2023-07-26T14:30:30.375Z"
   },
   {
    "duration": 43,
    "start_time": "2023-07-26T14:30:30.520Z"
   },
   {
    "duration": 54,
    "start_time": "2023-07-26T14:30:30.565Z"
   },
   {
    "duration": 60,
    "start_time": "2023-07-26T14:30:30.623Z"
   },
   {
    "duration": 3616,
    "start_time": "2023-07-26T14:30:30.685Z"
   },
   {
    "duration": 2059,
    "start_time": "2023-07-26T14:30:34.303Z"
   },
   {
    "duration": 1901,
    "start_time": "2023-07-26T14:30:36.364Z"
   },
   {
    "duration": 5,
    "start_time": "2023-07-26T14:30:38.267Z"
   },
   {
    "duration": 154,
    "start_time": "2023-07-26T14:30:38.274Z"
   },
   {
    "duration": 4,
    "start_time": "2023-07-26T14:32:17.818Z"
   },
   {
    "duration": 391,
    "start_time": "2023-07-26T14:32:18.436Z"
   },
   {
    "duration": 4,
    "start_time": "2023-07-26T14:32:19.088Z"
   },
   {
    "duration": 35,
    "start_time": "2023-07-26T14:32:19.601Z"
   },
   {
    "duration": 128,
    "start_time": "2023-07-26T14:32:20.239Z"
   },
   {
    "duration": 20,
    "start_time": "2023-07-26T14:32:21.016Z"
   },
   {
    "duration": 11,
    "start_time": "2023-07-26T14:32:23.048Z"
   },
   {
    "duration": 2,
    "start_time": "2023-07-26T14:36:03.369Z"
   },
   {
    "duration": 3,
    "start_time": "2023-07-26T14:37:13.316Z"
   },
   {
    "duration": 162,
    "start_time": "2023-07-26T14:39:32.835Z"
   },
   {
    "duration": 55,
    "start_time": "2023-07-26T14:39:46.092Z"
   },
   {
    "duration": 146,
    "start_time": "2023-07-26T14:40:41.031Z"
   },
   {
    "duration": 76,
    "start_time": "2023-07-26T14:40:46.940Z"
   },
   {
    "duration": 11,
    "start_time": "2023-07-26T14:41:10.635Z"
   },
   {
    "duration": 62,
    "start_time": "2023-07-26T14:41:19.430Z"
   },
   {
    "duration": 5,
    "start_time": "2023-07-26T14:43:35.481Z"
   },
   {
    "duration": 5,
    "start_time": "2023-07-26T14:44:03.357Z"
   },
   {
    "duration": 59,
    "start_time": "2023-07-26T14:44:53.400Z"
   },
   {
    "duration": 1529,
    "start_time": "2023-07-26T14:45:11.094Z"
   },
   {
    "duration": 394,
    "start_time": "2023-07-26T14:45:12.625Z"
   },
   {
    "duration": 2,
    "start_time": "2023-07-26T14:45:13.021Z"
   },
   {
    "duration": 63,
    "start_time": "2023-07-26T14:45:13.026Z"
   },
   {
    "duration": 144,
    "start_time": "2023-07-26T14:45:13.091Z"
   },
   {
    "duration": 22,
    "start_time": "2023-07-26T14:45:13.237Z"
   },
   {
    "duration": 13,
    "start_time": "2023-07-26T14:45:13.261Z"
   },
   {
    "duration": 18,
    "start_time": "2023-07-26T14:45:13.275Z"
   },
   {
    "duration": 16,
    "start_time": "2023-07-26T14:45:13.295Z"
   },
   {
    "duration": 174,
    "start_time": "2023-07-26T14:45:13.314Z"
   },
   {
    "duration": 0,
    "start_time": "2023-07-26T14:45:13.490Z"
   },
   {
    "duration": 0,
    "start_time": "2023-07-26T14:45:13.491Z"
   },
   {
    "duration": 0,
    "start_time": "2023-07-26T14:45:13.493Z"
   },
   {
    "duration": 0,
    "start_time": "2023-07-26T14:45:13.494Z"
   },
   {
    "duration": 0,
    "start_time": "2023-07-26T14:45:13.495Z"
   },
   {
    "duration": 0,
    "start_time": "2023-07-26T14:45:13.496Z"
   },
   {
    "duration": 0,
    "start_time": "2023-07-26T14:45:13.497Z"
   },
   {
    "duration": 0,
    "start_time": "2023-07-26T14:45:13.498Z"
   },
   {
    "duration": 0,
    "start_time": "2023-07-26T14:45:13.499Z"
   },
   {
    "duration": 0,
    "start_time": "2023-07-26T14:45:13.500Z"
   },
   {
    "duration": 0,
    "start_time": "2023-07-26T14:45:13.502Z"
   },
   {
    "duration": 0,
    "start_time": "2023-07-26T14:45:13.503Z"
   },
   {
    "duration": 0,
    "start_time": "2023-07-26T14:45:13.503Z"
   },
   {
    "duration": 0,
    "start_time": "2023-07-26T14:45:13.504Z"
   },
   {
    "duration": 0,
    "start_time": "2023-07-26T14:45:13.505Z"
   },
   {
    "duration": 0,
    "start_time": "2023-07-26T14:45:13.506Z"
   },
   {
    "duration": 0,
    "start_time": "2023-07-26T14:45:13.507Z"
   },
   {
    "duration": 0,
    "start_time": "2023-07-26T14:45:13.509Z"
   },
   {
    "duration": 0,
    "start_time": "2023-07-26T14:45:13.510Z"
   },
   {
    "duration": 0,
    "start_time": "2023-07-26T14:45:13.511Z"
   },
   {
    "duration": 12,
    "start_time": "2023-07-26T14:50:51.583Z"
   },
   {
    "duration": 54,
    "start_time": "2023-07-26T14:51:11.618Z"
   },
   {
    "duration": 199,
    "start_time": "2023-07-26T14:51:41.498Z"
   },
   {
    "duration": 9,
    "start_time": "2023-07-26T14:51:51.486Z"
   },
   {
    "duration": 2017,
    "start_time": "2023-08-01T12:49:52.081Z"
   },
   {
    "duration": 828,
    "start_time": "2023-08-01T12:49:54.709Z"
   },
   {
    "duration": 2,
    "start_time": "2023-08-01T12:49:55.539Z"
   },
   {
    "duration": 42,
    "start_time": "2023-08-01T12:49:55.754Z"
   },
   {
    "duration": 137,
    "start_time": "2023-08-01T12:49:56.232Z"
   },
   {
    "duration": 25,
    "start_time": "2023-08-01T12:49:56.695Z"
   },
   {
    "duration": 11,
    "start_time": "2023-08-01T12:49:57.071Z"
   },
   {
    "duration": 4,
    "start_time": "2023-08-01T12:49:57.905Z"
   },
   {
    "duration": 5,
    "start_time": "2023-08-01T12:49:58.119Z"
   },
   {
    "duration": 128,
    "start_time": "2023-08-01T12:49:58.848Z"
   },
   {
    "duration": 71,
    "start_time": "2023-08-01T12:51:26.603Z"
   },
   {
    "duration": 3,
    "start_time": "2023-08-01T12:53:23.928Z"
   },
   {
    "duration": 3,
    "start_time": "2023-08-01T12:53:27.807Z"
   },
   {
    "duration": 5,
    "start_time": "2023-08-01T12:53:28.386Z"
   },
   {
    "duration": 63,
    "start_time": "2023-08-01T12:53:30.350Z"
   },
   {
    "duration": 18,
    "start_time": "2023-08-01T12:54:40.080Z"
   },
   {
    "duration": 11,
    "start_time": "2023-08-01T12:55:33.640Z"
   },
   {
    "duration": 12,
    "start_time": "2023-08-01T12:56:01.060Z"
   },
   {
    "duration": 4,
    "start_time": "2023-08-01T12:56:02.362Z"
   },
   {
    "duration": 8,
    "start_time": "2023-08-01T12:56:03.487Z"
   },
   {
    "duration": 11,
    "start_time": "2023-08-01T12:56:30.695Z"
   },
   {
    "duration": 55,
    "start_time": "2023-08-01T12:56:49.495Z"
   },
   {
    "duration": 9,
    "start_time": "2023-08-01T12:57:06.218Z"
   },
   {
    "duration": 601,
    "start_time": "2023-08-01T12:58:44.365Z"
   },
   {
    "duration": 3,
    "start_time": "2023-08-01T12:58:54.481Z"
   },
   {
    "duration": 9,
    "start_time": "2023-08-01T12:59:14.150Z"
   },
   {
    "duration": 52,
    "start_time": "2023-08-01T12:59:41.050Z"
   },
   {
    "duration": 53,
    "start_time": "2023-08-01T12:59:42.413Z"
   },
   {
    "duration": 3,
    "start_time": "2023-08-01T13:00:21.823Z"
   },
   {
    "duration": 44,
    "start_time": "2023-08-01T13:00:22.671Z"
   },
   {
    "duration": 3,
    "start_time": "2023-08-01T13:00:48.625Z"
   },
   {
    "duration": 3,
    "start_time": "2023-08-01T13:00:50.673Z"
   },
   {
    "duration": 7,
    "start_time": "2023-08-01T13:00:51.216Z"
   },
   {
    "duration": 48,
    "start_time": "2023-08-01T13:01:22.215Z"
   },
   {
    "duration": 8,
    "start_time": "2023-08-01T13:01:45.708Z"
   },
   {
    "duration": 3,
    "start_time": "2023-08-01T13:01:46.475Z"
   },
   {
    "duration": 4,
    "start_time": "2023-08-01T13:01:46.974Z"
   },
   {
    "duration": 2,
    "start_time": "2023-08-01T13:01:48.770Z"
   },
   {
    "duration": 52,
    "start_time": "2023-08-01T13:01:49.509Z"
   },
   {
    "duration": 57,
    "start_time": "2023-08-01T13:02:09.574Z"
   },
   {
    "duration": 64,
    "start_time": "2023-08-01T13:02:33.496Z"
   },
   {
    "duration": 1625,
    "start_time": "2023-08-01T13:02:40.311Z"
   },
   {
    "duration": 438,
    "start_time": "2023-08-01T13:02:41.938Z"
   },
   {
    "duration": 3,
    "start_time": "2023-08-01T13:02:42.378Z"
   },
   {
    "duration": 53,
    "start_time": "2023-08-01T13:02:42.382Z"
   },
   {
    "duration": 176,
    "start_time": "2023-08-01T13:02:42.437Z"
   },
   {
    "duration": 24,
    "start_time": "2023-08-01T13:02:42.616Z"
   },
   {
    "duration": 5,
    "start_time": "2023-08-01T13:02:42.642Z"
   },
   {
    "duration": 12,
    "start_time": "2023-08-01T13:02:42.649Z"
   },
   {
    "duration": 24,
    "start_time": "2023-08-01T13:02:42.663Z"
   },
   {
    "duration": 8,
    "start_time": "2023-08-01T13:02:42.693Z"
   },
   {
    "duration": 11,
    "start_time": "2023-08-01T13:02:42.703Z"
   },
   {
    "duration": 202,
    "start_time": "2023-08-01T13:02:42.716Z"
   },
   {
    "duration": 0,
    "start_time": "2023-08-01T13:02:42.920Z"
   },
   {
    "duration": 0,
    "start_time": "2023-08-01T13:02:42.921Z"
   },
   {
    "duration": 0,
    "start_time": "2023-08-01T13:02:42.923Z"
   },
   {
    "duration": 0,
    "start_time": "2023-08-01T13:02:42.924Z"
   },
   {
    "duration": 0,
    "start_time": "2023-08-01T13:02:42.926Z"
   },
   {
    "duration": 0,
    "start_time": "2023-08-01T13:02:42.927Z"
   },
   {
    "duration": 0,
    "start_time": "2023-08-01T13:02:42.928Z"
   },
   {
    "duration": 0,
    "start_time": "2023-08-01T13:02:42.929Z"
   },
   {
    "duration": 0,
    "start_time": "2023-08-01T13:02:42.930Z"
   },
   {
    "duration": 0,
    "start_time": "2023-08-01T13:02:42.931Z"
   },
   {
    "duration": 0,
    "start_time": "2023-08-01T13:02:42.933Z"
   },
   {
    "duration": 0,
    "start_time": "2023-08-01T13:02:42.934Z"
   },
   {
    "duration": 0,
    "start_time": "2023-08-01T13:02:42.935Z"
   },
   {
    "duration": 0,
    "start_time": "2023-08-01T13:02:42.936Z"
   },
   {
    "duration": 0,
    "start_time": "2023-08-01T13:02:42.938Z"
   },
   {
    "duration": 0,
    "start_time": "2023-08-01T13:02:42.939Z"
   },
   {
    "duration": 0,
    "start_time": "2023-08-01T13:02:42.940Z"
   },
   {
    "duration": 0,
    "start_time": "2023-08-01T13:02:42.941Z"
   },
   {
    "duration": 0,
    "start_time": "2023-08-01T13:02:42.942Z"
   },
   {
    "duration": 0,
    "start_time": "2023-08-01T13:02:42.943Z"
   },
   {
    "duration": 0,
    "start_time": "2023-08-01T13:02:42.944Z"
   },
   {
    "duration": 0,
    "start_time": "2023-08-01T13:02:42.945Z"
   },
   {
    "duration": 0,
    "start_time": "2023-08-01T13:02:42.988Z"
   },
   {
    "duration": 0,
    "start_time": "2023-08-01T13:02:42.990Z"
   },
   {
    "duration": 415,
    "start_time": "2023-08-01T13:03:16.947Z"
   },
   {
    "duration": 8,
    "start_time": "2023-08-01T13:03:17.694Z"
   },
   {
    "duration": 40,
    "start_time": "2023-08-01T13:03:18.397Z"
   },
   {
    "duration": 132,
    "start_time": "2023-08-01T13:03:18.896Z"
   },
   {
    "duration": 23,
    "start_time": "2023-08-01T13:03:19.371Z"
   },
   {
    "duration": 3,
    "start_time": "2023-08-01T13:03:20.329Z"
   },
   {
    "duration": 14,
    "start_time": "2023-08-01T13:03:22.019Z"
   },
   {
    "duration": 2,
    "start_time": "2023-08-01T13:03:22.865Z"
   },
   {
    "duration": 4,
    "start_time": "2023-08-01T13:03:23.923Z"
   },
   {
    "duration": 4,
    "start_time": "2023-08-01T13:03:25.691Z"
   },
   {
    "duration": 58,
    "start_time": "2023-08-01T13:03:28.069Z"
   },
   {
    "duration": 55,
    "start_time": "2023-08-01T13:03:49.917Z"
   },
   {
    "duration": 458,
    "start_time": "2023-08-01T13:04:03.841Z"
   },
   {
    "duration": 3,
    "start_time": "2023-08-01T13:04:04.428Z"
   },
   {
    "duration": 7,
    "start_time": "2023-08-01T13:04:05.014Z"
   },
   {
    "duration": 47,
    "start_time": "2023-08-01T13:04:05.605Z"
   },
   {
    "duration": 70,
    "start_time": "2023-08-01T13:04:06.773Z"
   },
   {
    "duration": 65,
    "start_time": "2023-08-01T13:04:08.573Z"
   },
   {
    "duration": 4,
    "start_time": "2023-08-01T13:04:20.300Z"
   },
   {
    "duration": 10,
    "start_time": "2023-08-01T13:04:20.901Z"
   },
   {
    "duration": 37,
    "start_time": "2023-08-01T13:04:21.436Z"
   },
   {
    "duration": 41,
    "start_time": "2023-08-01T13:04:22.359Z"
   },
   {
    "duration": 43,
    "start_time": "2023-08-01T13:04:23.205Z"
   },
   {
    "duration": 319,
    "start_time": "2023-08-01T13:04:56.057Z"
   },
   {
    "duration": 10,
    "start_time": "2023-08-01T13:05:02.328Z"
   },
   {
    "duration": 12,
    "start_time": "2023-08-01T13:05:04.082Z"
   },
   {
    "duration": 3,
    "start_time": "2023-08-01T13:05:05.417Z"
   },
   {
    "duration": 8,
    "start_time": "2023-08-01T13:05:06.199Z"
   },
   {
    "duration": 552,
    "start_time": "2023-08-01T13:05:10.987Z"
   },
   {
    "duration": 3,
    "start_time": "2023-08-01T13:05:12.763Z"
   },
   {
    "duration": 8,
    "start_time": "2023-08-01T13:05:13.276Z"
   },
   {
    "duration": 64,
    "start_time": "2023-08-01T13:05:13.895Z"
   },
   {
    "duration": 57,
    "start_time": "2023-08-01T13:05:15.316Z"
   },
   {
    "duration": 51,
    "start_time": "2023-08-01T13:05:17.011Z"
   },
   {
    "duration": 16,
    "start_time": "2023-08-01T13:05:44.004Z"
   },
   {
    "duration": 49,
    "start_time": "2023-08-01T13:06:34.267Z"
   },
   {
    "duration": 13,
    "start_time": "2023-08-01T13:06:47.852Z"
   },
   {
    "duration": 405,
    "start_time": "2023-08-01T13:07:44.330Z"
   },
   {
    "duration": 467,
    "start_time": "2023-08-01T13:08:01.322Z"
   },
   {
    "duration": 3,
    "start_time": "2023-08-01T13:08:03.923Z"
   },
   {
    "duration": 24,
    "start_time": "2023-08-01T13:08:04.698Z"
   },
   {
    "duration": 68,
    "start_time": "2023-08-01T13:08:06.412Z"
   },
   {
    "duration": 10,
    "start_time": "2023-08-01T13:08:07.667Z"
   },
   {
    "duration": 24,
    "start_time": "2023-08-01T13:08:08.594Z"
   },
   {
    "duration": 2,
    "start_time": "2023-08-01T13:08:25.741Z"
   },
   {
    "duration": 3,
    "start_time": "2023-08-01T13:08:39.738Z"
   },
   {
    "duration": 5,
    "start_time": "2023-08-01T13:08:40.731Z"
   },
   {
    "duration": 17,
    "start_time": "2023-08-01T13:08:52.901Z"
   },
   {
    "duration": 3,
    "start_time": "2023-08-01T13:08:56.013Z"
   },
   {
    "duration": 45,
    "start_time": "2023-08-01T13:09:10.156Z"
   },
   {
    "duration": 46,
    "start_time": "2023-08-01T13:09:31.667Z"
   },
   {
    "duration": 59,
    "start_time": "2023-08-01T13:09:51.793Z"
   },
   {
    "duration": 49,
    "start_time": "2023-08-01T13:10:08.435Z"
   },
   {
    "duration": 2,
    "start_time": "2023-08-01T13:10:12.484Z"
   },
   {
    "duration": 3,
    "start_time": "2023-08-01T13:10:14.955Z"
   },
   {
    "duration": 5,
    "start_time": "2023-08-01T13:10:18.988Z"
   },
   {
    "duration": 75,
    "start_time": "2023-08-01T13:10:25.812Z"
   },
   {
    "duration": 22,
    "start_time": "2023-08-01T13:10:26.436Z"
   },
   {
    "duration": 23,
    "start_time": "2023-08-01T13:10:27.131Z"
   },
   {
    "duration": 3,
    "start_time": "2023-08-01T13:10:28.324Z"
   },
   {
    "duration": 9,
    "start_time": "2023-08-01T13:10:29.446Z"
   },
   {
    "duration": 5,
    "start_time": "2023-08-01T13:10:34.804Z"
   },
   {
    "duration": 4,
    "start_time": "2023-08-01T13:10:36.667Z"
   },
   {
    "duration": 3,
    "start_time": "2023-08-01T13:10:38.643Z"
   },
   {
    "duration": 5,
    "start_time": "2023-08-01T13:10:41.093Z"
   },
   {
    "duration": 8,
    "start_time": "2023-08-01T13:10:44.404Z"
   },
   {
    "duration": 4121,
    "start_time": "2023-08-01T13:10:45.436Z"
   },
   {
    "duration": 2155,
    "start_time": "2023-08-01T13:10:49.560Z"
   },
   {
    "duration": 2187,
    "start_time": "2023-08-01T13:10:53.931Z"
   },
   {
    "duration": 4,
    "start_time": "2023-08-01T13:10:56.120Z"
   },
   {
    "duration": 143,
    "start_time": "2023-08-01T13:10:59.900Z"
   },
   {
    "duration": 4,
    "start_time": "2023-08-01T13:12:03.631Z"
   },
   {
    "duration": 3,
    "start_time": "2023-08-01T13:15:06.478Z"
   },
   {
    "duration": 4,
    "start_time": "2023-08-01T13:15:08.102Z"
   },
   {
    "duration": 4,
    "start_time": "2023-08-01T13:15:09.356Z"
   },
   {
    "duration": 3,
    "start_time": "2023-08-01T13:15:10.748Z"
   },
   {
    "duration": 6,
    "start_time": "2023-08-01T13:15:11.692Z"
   },
   {
    "duration": 4207,
    "start_time": "2023-08-01T13:15:12.392Z"
   },
   {
    "duration": 2160,
    "start_time": "2023-08-01T13:15:16.604Z"
   },
   {
    "duration": 2227,
    "start_time": "2023-08-01T13:15:25.351Z"
   },
   {
    "duration": 16,
    "start_time": "2023-08-01T13:15:27.580Z"
   },
   {
    "duration": 121,
    "start_time": "2023-08-01T13:16:05.911Z"
   },
   {
    "duration": 5,
    "start_time": "2023-08-01T13:27:07.059Z"
   },
   {
    "duration": 43,
    "start_time": "2023-08-01T13:27:45.047Z"
   },
   {
    "duration": 41,
    "start_time": "2023-08-01T13:27:56.043Z"
   },
   {
    "duration": 36,
    "start_time": "2023-08-01T13:28:36.143Z"
   },
   {
    "duration": 38,
    "start_time": "2023-08-01T13:29:05.099Z"
   },
   {
    "duration": 39,
    "start_time": "2023-08-01T13:29:30.115Z"
   },
   {
    "duration": 2,
    "start_time": "2023-08-01T13:30:09.660Z"
   },
   {
    "duration": 5,
    "start_time": "2023-08-01T13:30:10.191Z"
   },
   {
    "duration": 5,
    "start_time": "2023-08-01T13:30:19.571Z"
   },
   {
    "duration": 38,
    "start_time": "2023-08-01T13:30:20.992Z"
   },
   {
    "duration": 41,
    "start_time": "2023-08-01T13:30:22.247Z"
   },
   {
    "duration": 39,
    "start_time": "2023-08-01T13:30:23.796Z"
   },
   {
    "duration": 2,
    "start_time": "2023-08-01T13:32:38.493Z"
   },
   {
    "duration": 3,
    "start_time": "2023-08-01T13:33:52.414Z"
   },
   {
    "duration": 3,
    "start_time": "2023-08-01T13:34:23.006Z"
   },
   {
    "duration": 86,
    "start_time": "2023-08-01T13:34:34.801Z"
   },
   {
    "duration": 23,
    "start_time": "2023-08-01T13:34:59.195Z"
   },
   {
    "duration": 21,
    "start_time": "2023-08-01T13:35:08.310Z"
   },
   {
    "duration": 3,
    "start_time": "2023-08-01T13:35:19.392Z"
   },
   {
    "duration": 112,
    "start_time": "2023-08-01T13:40:28.204Z"
   },
   {
    "duration": 112,
    "start_time": "2023-08-01T13:43:37.091Z"
   },
   {
    "duration": 154,
    "start_time": "2023-08-01T13:44:41.053Z"
   },
   {
    "duration": 11,
    "start_time": "2023-08-01T13:46:20.792Z"
   },
   {
    "duration": 15,
    "start_time": "2023-08-01T13:48:44.877Z"
   },
   {
    "duration": 13,
    "start_time": "2023-08-01T13:49:18.896Z"
   },
   {
    "duration": 11,
    "start_time": "2023-08-01T13:49:32.791Z"
   },
   {
    "duration": 13,
    "start_time": "2023-08-01T13:49:51.952Z"
   },
   {
    "duration": 86,
    "start_time": "2023-08-01T13:50:01.885Z"
   },
   {
    "duration": 9,
    "start_time": "2023-08-01T13:54:46.485Z"
   },
   {
    "duration": 7,
    "start_time": "2023-08-01T13:57:01.666Z"
   },
   {
    "duration": 86,
    "start_time": "2023-08-01T15:55:31.051Z"
   },
   {
    "duration": 4,
    "start_time": "2023-08-01T16:04:17.892Z"
   },
   {
    "duration": 3,
    "start_time": "2023-08-01T16:09:32.135Z"
   },
   {
    "duration": 3,
    "start_time": "2023-08-01T16:09:54.465Z"
   },
   {
    "duration": 3,
    "start_time": "2023-08-01T16:10:55.497Z"
   },
   {
    "duration": 4,
    "start_time": "2023-08-01T16:12:07.304Z"
   },
   {
    "duration": 4,
    "start_time": "2023-08-01T16:13:05.205Z"
   },
   {
    "duration": 3270,
    "start_time": "2023-08-01T16:13:14.215Z"
   },
   {
    "duration": 4,
    "start_time": "2023-08-01T16:13:37.197Z"
   },
   {
    "duration": 1983,
    "start_time": "2023-08-01T16:15:48.358Z"
   },
   {
    "duration": 1912,
    "start_time": "2023-08-01T16:15:51.400Z"
   },
   {
    "duration": 4,
    "start_time": "2023-08-01T16:15:58.660Z"
   },
   {
    "duration": 9,
    "start_time": "2023-08-01T16:16:09.910Z"
   },
   {
    "duration": 102,
    "start_time": "2023-08-01T16:16:40.290Z"
   },
   {
    "duration": 117,
    "start_time": "2023-08-01T16:19:31.376Z"
   },
   {
    "duration": 9,
    "start_time": "2023-08-01T16:19:51.487Z"
   },
   {
    "duration": 3,
    "start_time": "2023-08-01T16:36:31.090Z"
   },
   {
    "duration": 4,
    "start_time": "2023-08-01T16:36:31.661Z"
   },
   {
    "duration": 3209,
    "start_time": "2023-08-01T16:36:32.494Z"
   },
   {
    "duration": 1853,
    "start_time": "2023-08-01T16:36:35.705Z"
   },
   {
    "duration": 1896,
    "start_time": "2023-08-01T16:36:37.560Z"
   },
   {
    "duration": 4,
    "start_time": "2023-08-01T16:36:39.458Z"
   },
   {
    "duration": 22,
    "start_time": "2023-08-01T16:36:39.464Z"
   },
   {
    "duration": 121,
    "start_time": "2023-08-01T16:36:39.488Z"
   },
   {
    "duration": 4,
    "start_time": "2023-08-01T16:48:51.714Z"
   },
   {
    "duration": 8,
    "start_time": "2023-08-01T16:52:25.831Z"
   },
   {
    "duration": 8,
    "start_time": "2023-08-01T16:58:04.559Z"
   },
   {
    "duration": 4,
    "start_time": "2023-08-01T17:00:52.158Z"
   },
   {
    "duration": 11,
    "start_time": "2023-08-01T17:03:07.991Z"
   },
   {
    "duration": 267,
    "start_time": "2023-08-01T17:04:45.195Z"
   },
   {
    "duration": 85,
    "start_time": "2023-08-01T17:06:07.499Z"
   },
   {
    "duration": 7,
    "start_time": "2023-08-01T17:08:19.712Z"
   },
   {
    "duration": 8,
    "start_time": "2023-08-01T17:16:13.630Z"
   },
   {
    "duration": 8,
    "start_time": "2023-08-01T17:19:39.635Z"
   },
   {
    "duration": 1786,
    "start_time": "2023-08-01T17:25:18.751Z"
   },
   {
    "duration": 488,
    "start_time": "2023-08-01T17:25:20.539Z"
   },
   {
    "duration": 3,
    "start_time": "2023-08-01T17:25:21.029Z"
   },
   {
    "duration": 65,
    "start_time": "2023-08-01T17:25:21.035Z"
   },
   {
    "duration": 91,
    "start_time": "2023-08-01T17:25:21.102Z"
   },
   {
    "duration": 9,
    "start_time": "2023-08-01T17:25:21.195Z"
   },
   {
    "duration": 46,
    "start_time": "2023-08-01T17:25:21.206Z"
   },
   {
    "duration": 26,
    "start_time": "2023-08-01T17:25:21.254Z"
   },
   {
    "duration": 145,
    "start_time": "2023-08-01T17:25:21.282Z"
   },
   {
    "duration": 0,
    "start_time": "2023-08-01T17:25:21.429Z"
   },
   {
    "duration": 1,
    "start_time": "2023-08-01T17:25:21.430Z"
   },
   {
    "duration": 0,
    "start_time": "2023-08-01T17:25:21.431Z"
   },
   {
    "duration": 0,
    "start_time": "2023-08-01T17:25:21.432Z"
   },
   {
    "duration": 0,
    "start_time": "2023-08-01T17:25:21.433Z"
   },
   {
    "duration": 0,
    "start_time": "2023-08-01T17:25:21.434Z"
   },
   {
    "duration": 0,
    "start_time": "2023-08-01T17:25:21.436Z"
   },
   {
    "duration": 0,
    "start_time": "2023-08-01T17:25:21.437Z"
   },
   {
    "duration": 0,
    "start_time": "2023-08-01T17:25:21.438Z"
   },
   {
    "duration": 0,
    "start_time": "2023-08-01T17:25:21.439Z"
   },
   {
    "duration": 0,
    "start_time": "2023-08-01T17:25:21.441Z"
   },
   {
    "duration": 0,
    "start_time": "2023-08-01T17:25:21.442Z"
   },
   {
    "duration": 0,
    "start_time": "2023-08-01T17:25:21.443Z"
   },
   {
    "duration": 0,
    "start_time": "2023-08-01T17:25:21.444Z"
   },
   {
    "duration": 0,
    "start_time": "2023-08-01T17:25:21.445Z"
   },
   {
    "duration": 0,
    "start_time": "2023-08-01T17:25:21.446Z"
   },
   {
    "duration": 0,
    "start_time": "2023-08-01T17:25:21.447Z"
   },
   {
    "duration": 0,
    "start_time": "2023-08-01T17:25:21.448Z"
   },
   {
    "duration": 0,
    "start_time": "2023-08-01T17:25:21.449Z"
   },
   {
    "duration": 0,
    "start_time": "2023-08-01T17:25:21.450Z"
   },
   {
    "duration": 0,
    "start_time": "2023-08-01T17:25:21.487Z"
   },
   {
    "duration": 0,
    "start_time": "2023-08-01T17:25:21.489Z"
   },
   {
    "duration": 0,
    "start_time": "2023-08-01T17:25:21.490Z"
   },
   {
    "duration": 0,
    "start_time": "2023-08-01T17:25:21.491Z"
   },
   {
    "duration": 2,
    "start_time": "2023-08-01T17:26:13.869Z"
   },
   {
    "duration": 5,
    "start_time": "2023-08-01T17:26:15.301Z"
   },
   {
    "duration": 46,
    "start_time": "2023-08-01T17:26:16.936Z"
   },
   {
    "duration": 49,
    "start_time": "2023-08-01T17:26:18.374Z"
   },
   {
    "duration": 52,
    "start_time": "2023-08-01T17:26:18.900Z"
   },
   {
    "duration": 3,
    "start_time": "2023-08-01T17:26:19.534Z"
   },
   {
    "duration": 3,
    "start_time": "2023-08-01T17:26:20.683Z"
   },
   {
    "duration": 4,
    "start_time": "2023-08-01T17:26:21.220Z"
   },
   {
    "duration": 22,
    "start_time": "2023-08-01T17:26:21.936Z"
   },
   {
    "duration": 22,
    "start_time": "2023-08-01T17:26:22.485Z"
   },
   {
    "duration": 37,
    "start_time": "2023-08-01T17:26:23.051Z"
   },
   {
    "duration": 3,
    "start_time": "2023-08-01T17:26:23.702Z"
   },
   {
    "duration": 91,
    "start_time": "2023-08-01T17:26:24.197Z"
   },
   {
    "duration": 12,
    "start_time": "2023-08-01T17:26:28.750Z"
   },
   {
    "duration": 3,
    "start_time": "2023-08-01T17:26:33.661Z"
   },
   {
    "duration": 4,
    "start_time": "2023-08-01T17:26:35.885Z"
   },
   {
    "duration": 4,
    "start_time": "2023-08-01T17:26:37.361Z"
   },
   {
    "duration": 4,
    "start_time": "2023-08-01T17:26:38.464Z"
   },
   {
    "duration": 4,
    "start_time": "2023-08-01T17:26:39.047Z"
   },
   {
    "duration": 3241,
    "start_time": "2023-08-01T17:26:39.847Z"
   },
   {
    "duration": 1966,
    "start_time": "2023-08-01T17:26:43.090Z"
   },
   {
    "duration": 1906,
    "start_time": "2023-08-01T17:26:45.058Z"
   },
   {
    "duration": 4,
    "start_time": "2023-08-01T17:26:46.966Z"
   },
   {
    "duration": 28,
    "start_time": "2023-08-01T17:26:46.972Z"
   },
   {
    "duration": 129,
    "start_time": "2023-08-01T17:26:47.002Z"
   },
   {
    "duration": 8,
    "start_time": "2023-08-01T17:26:47.133Z"
   },
   {
    "duration": 35,
    "start_time": "2023-08-01T17:26:47.142Z"
   },
   {
    "duration": 3713,
    "start_time": "2023-08-01T18:11:04.358Z"
   },
   {
    "duration": 2406,
    "start_time": "2023-08-01T18:11:08.077Z"
   },
   {
    "duration": 5,
    "start_time": "2023-08-01T18:11:10.485Z"
   },
   {
    "duration": 77,
    "start_time": "2023-08-01T18:11:10.492Z"
   },
   {
    "duration": 195,
    "start_time": "2023-08-01T18:11:10.576Z"
   },
   {
    "duration": 18,
    "start_time": "2023-08-01T18:11:10.776Z"
   },
   {
    "duration": 3,
    "start_time": "2023-08-01T18:11:10.796Z"
   },
   {
    "duration": 65,
    "start_time": "2023-08-01T18:11:10.801Z"
   },
   {
    "duration": 15,
    "start_time": "2023-08-01T18:11:10.868Z"
   },
   {
    "duration": 178,
    "start_time": "2023-08-01T18:11:10.887Z"
   },
   {
    "duration": 127,
    "start_time": "2023-08-01T18:11:11.067Z"
   },
   {
    "duration": 187,
    "start_time": "2023-08-01T18:11:11.196Z"
   },
   {
    "duration": 4,
    "start_time": "2023-08-01T18:11:11.385Z"
   },
   {
    "duration": 4,
    "start_time": "2023-08-01T18:11:11.391Z"
   },
   {
    "duration": 12,
    "start_time": "2023-08-01T18:11:11.396Z"
   },
   {
    "duration": 123,
    "start_time": "2023-08-01T18:11:11.455Z"
   },
   {
    "duration": 133,
    "start_time": "2023-08-01T18:11:11.658Z"
   },
   {
    "duration": 111,
    "start_time": "2023-08-01T18:11:11.863Z"
   },
   {
    "duration": 4,
    "start_time": "2023-08-01T18:11:11.979Z"
   },
   {
    "duration": 282,
    "start_time": "2023-08-01T18:11:11.989Z"
   },
   {
    "duration": 12,
    "start_time": "2023-08-01T18:11:12.273Z"
   },
   {
    "duration": 3,
    "start_time": "2023-08-01T18:11:12.287Z"
   },
   {
    "duration": 77,
    "start_time": "2023-08-01T18:11:12.292Z"
   },
   {
    "duration": 8,
    "start_time": "2023-08-01T18:11:12.371Z"
   },
   {
    "duration": 7,
    "start_time": "2023-08-01T18:11:12.381Z"
   },
   {
    "duration": 5,
    "start_time": "2023-08-01T18:11:12.391Z"
   },
   {
    "duration": 10577,
    "start_time": "2023-08-01T18:11:12.399Z"
   },
   {
    "duration": 4524,
    "start_time": "2023-08-01T18:11:22.980Z"
   },
   {
    "duration": 4701,
    "start_time": "2023-08-01T18:11:27.506Z"
   },
   {
    "duration": 10,
    "start_time": "2023-08-01T18:11:32.262Z"
   },
   {
    "duration": 30,
    "start_time": "2023-08-01T18:11:32.273Z"
   },
   {
    "duration": 381,
    "start_time": "2023-08-01T18:11:32.305Z"
   },
   {
    "duration": 13,
    "start_time": "2023-08-01T18:11:32.688Z"
   },
   {
    "duration": 83,
    "start_time": "2023-08-01T18:11:32.704Z"
   },
   {
    "duration": 56,
    "start_time": "2023-11-16T08:38:45.245Z"
   },
   {
    "duration": 126,
    "start_time": "2023-11-16T08:39:35.197Z"
   },
   {
    "duration": 97,
    "start_time": "2023-11-16T08:39:44.725Z"
   },
   {
    "duration": 85,
    "start_time": "2023-11-16T08:39:50.788Z"
   },
   {
    "duration": 6,
    "start_time": "2023-11-16T08:40:27.327Z"
   },
   {
    "duration": 1868,
    "start_time": "2024-10-15T13:27:10.531Z"
   },
   {
    "duration": 1075,
    "start_time": "2024-10-15T13:27:12.402Z"
   },
   {
    "duration": 3,
    "start_time": "2024-10-15T13:27:13.479Z"
   },
   {
    "duration": 35,
    "start_time": "2024-10-15T13:27:13.485Z"
   },
   {
    "duration": 83,
    "start_time": "2024-10-15T13:27:13.521Z"
   },
   {
    "duration": 28,
    "start_time": "2024-10-15T13:27:13.605Z"
   },
   {
    "duration": 2,
    "start_time": "2024-10-15T13:27:13.635Z"
   },
   {
    "duration": 17,
    "start_time": "2024-10-15T13:27:13.638Z"
   },
   {
    "duration": 22,
    "start_time": "2024-10-15T13:27:13.657Z"
   },
   {
    "duration": 74,
    "start_time": "2024-10-15T13:27:13.682Z"
   },
   {
    "duration": 74,
    "start_time": "2024-10-15T13:27:13.758Z"
   },
   {
    "duration": 66,
    "start_time": "2024-10-15T13:27:13.834Z"
   },
   {
    "duration": 3,
    "start_time": "2024-10-15T13:27:13.901Z"
   },
   {
    "duration": 18,
    "start_time": "2024-10-15T13:27:13.905Z"
   },
   {
    "duration": 7,
    "start_time": "2024-10-15T13:27:13.925Z"
   },
   {
    "duration": 192,
    "start_time": "2024-10-15T13:27:13.933Z"
   },
   {
    "duration": 113,
    "start_time": "2024-10-15T13:27:14.128Z"
   },
   {
    "duration": 109,
    "start_time": "2024-10-15T13:27:14.324Z"
   },
   {
    "duration": 88,
    "start_time": "2024-10-15T13:27:14.436Z"
   },
   {
    "duration": 199,
    "start_time": "2024-10-15T13:27:14.527Z"
   },
   {
    "duration": 10,
    "start_time": "2024-10-15T13:27:14.728Z"
   },
   {
    "duration": 14,
    "start_time": "2024-10-15T13:27:14.740Z"
   },
   {
    "duration": 10,
    "start_time": "2024-10-15T13:27:14.755Z"
   },
   {
    "duration": 8,
    "start_time": "2024-10-15T13:27:14.767Z"
   },
   {
    "duration": 8,
    "start_time": "2024-10-15T13:27:14.776Z"
   },
   {
    "duration": 14,
    "start_time": "2024-10-15T13:27:14.785Z"
   },
   {
    "duration": 4131,
    "start_time": "2024-10-15T13:27:14.800Z"
   },
   {
    "duration": 2015,
    "start_time": "2024-10-15T13:27:18.934Z"
   },
   {
    "duration": 1968,
    "start_time": "2024-10-15T13:27:20.950Z"
   },
   {
    "duration": 5,
    "start_time": "2024-10-15T13:27:22.920Z"
   },
   {
    "duration": 21,
    "start_time": "2024-10-15T13:27:22.926Z"
   },
   {
    "duration": 141,
    "start_time": "2024-10-15T13:27:22.948Z"
   },
   {
    "duration": 8,
    "start_time": "2024-10-15T13:27:23.091Z"
   },
   {
    "duration": 26,
    "start_time": "2024-10-15T13:27:23.100Z"
   },
   {
    "duration": 1471,
    "start_time": "2024-10-15T13:34:43.968Z"
   },
   {
    "duration": 510,
    "start_time": "2024-10-15T13:34:45.442Z"
   },
   {
    "duration": 3,
    "start_time": "2024-10-15T13:34:45.954Z"
   },
   {
    "duration": 31,
    "start_time": "2024-10-15T13:34:45.959Z"
   },
   {
    "duration": 98,
    "start_time": "2024-10-15T13:34:45.993Z"
   },
   {
    "duration": 34,
    "start_time": "2024-10-15T13:34:46.093Z"
   },
   {
    "duration": 3,
    "start_time": "2024-10-15T13:34:46.129Z"
   },
   {
    "duration": 11,
    "start_time": "2024-10-15T13:34:46.134Z"
   },
   {
    "duration": 5,
    "start_time": "2024-10-15T13:34:46.147Z"
   },
   {
    "duration": 71,
    "start_time": "2024-10-15T13:34:46.154Z"
   },
   {
    "duration": 55,
    "start_time": "2024-10-15T13:34:46.226Z"
   },
   {
    "duration": 73,
    "start_time": "2024-10-15T13:34:46.283Z"
   },
   {
    "duration": 3,
    "start_time": "2024-10-15T13:34:46.358Z"
   },
   {
    "duration": 3,
    "start_time": "2024-10-15T13:34:46.364Z"
   },
   {
    "duration": 5,
    "start_time": "2024-10-15T13:34:46.368Z"
   },
   {
    "duration": 56,
    "start_time": "2024-10-15T13:34:46.375Z"
   },
   {
    "duration": 113,
    "start_time": "2024-10-15T13:34:46.522Z"
   },
   {
    "duration": 115,
    "start_time": "2024-10-15T13:34:46.722Z"
   },
   {
    "duration": 6,
    "start_time": "2024-10-15T13:34:46.922Z"
   },
   {
    "duration": 208,
    "start_time": "2024-10-15T13:34:46.930Z"
   },
   {
    "duration": 38,
    "start_time": "2024-10-15T13:34:47.140Z"
   },
   {
    "duration": 4,
    "start_time": "2024-10-15T13:34:47.181Z"
   },
   {
    "duration": 84,
    "start_time": "2024-10-15T13:34:47.187Z"
   },
   {
    "duration": 44,
    "start_time": "2024-10-15T13:34:47.272Z"
   },
   {
    "duration": 11,
    "start_time": "2024-10-15T13:34:47.318Z"
   },
   {
    "duration": 18,
    "start_time": "2024-10-15T13:34:47.331Z"
   },
   {
    "duration": 4042,
    "start_time": "2024-10-15T13:34:47.350Z"
   },
   {
    "duration": 1973,
    "start_time": "2024-10-15T13:34:51.394Z"
   },
   {
    "duration": 1995,
    "start_time": "2024-10-15T13:34:53.370Z"
   },
   {
    "duration": 4,
    "start_time": "2024-10-15T13:34:55.367Z"
   },
   {
    "duration": 33,
    "start_time": "2024-10-15T13:34:55.372Z"
   },
   {
    "duration": 132,
    "start_time": "2024-10-15T13:34:55.407Z"
   },
   {
    "duration": 8,
    "start_time": "2024-10-15T13:34:55.541Z"
   },
   {
    "duration": 54,
    "start_time": "2024-10-15T13:34:55.550Z"
   }
  ],
  "kernelspec": {
   "display_name": "Python 3 (ipykernel)",
   "language": "python",
   "name": "python3"
  },
  "language_info": {
   "codemirror_mode": {
    "name": "ipython",
    "version": 3
   },
   "file_extension": ".py",
   "mimetype": "text/x-python",
   "name": "python",
   "nbconvert_exporter": "python",
   "pygments_lexer": "ipython3",
   "version": "3.9.5"
  },
  "toc": {
   "base_numbering": 1,
   "nav_menu": {
    "height": "148px",
    "width": "420px"
   },
   "number_sections": true,
   "sideBar": true,
   "skip_h1_title": true,
   "title_cell": "Table of Contents",
   "title_sidebar": "Contents",
   "toc_cell": false,
   "toc_position": {
    "height": "784px",
    "left": "357px",
    "top": "111.125px",
    "width": "374.391px"
   },
   "toc_section_display": true,
   "toc_window_display": true
  }
 },
 "nbformat": 4,
 "nbformat_minor": 2
}
