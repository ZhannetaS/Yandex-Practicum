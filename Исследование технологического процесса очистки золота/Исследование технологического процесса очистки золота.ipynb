{
 "cells": [
  {
   "cell_type": "markdown",
   "metadata": {
    "toc": true
   },
   "source": [
    "<h1>Содержание<span class=\"tocSkip\"></span></h1>\n",
    "<div class=\"toc\"><ul class=\"toc-item\"><li><span><a href=\"#Подготовка-данных\" data-toc-modified-id=\"Подготовка-данных-1\"><span class=\"toc-item-num\">1&nbsp;&nbsp;</span>Подготовка данных</a></span><ul class=\"toc-item\"><li><span><a href=\"#Знакомство-с-данными\" data-toc-modified-id=\"Знакомство-с-данными-1.1\"><span class=\"toc-item-num\">1.1&nbsp;&nbsp;</span>Знакомство с данными</a></span></li><li><span><a href=\"#Проверка-расчета-эффективности-обогащения\" data-toc-modified-id=\"Проверка-расчета-эффективности-обогащения-1.2\"><span class=\"toc-item-num\">1.2&nbsp;&nbsp;</span>Проверка расчета эффективности обогащения</a></span></li><li><span><a href=\"#Анализ-признаков,-недоступных-в-тестовой-выборке.\" data-toc-modified-id=\"Анализ-признаков,-недоступных-в-тестовой-выборке.-1.3\"><span class=\"toc-item-num\">1.3&nbsp;&nbsp;</span>Анализ признаков, недоступных в тестовой выборке.</a></span></li><li><span><a href=\"#Предобработка-данных\" data-toc-modified-id=\"Предобработка-данных-1.4\"><span class=\"toc-item-num\">1.4&nbsp;&nbsp;</span>Предобработка данных</a></span></li><li><span><a href=\"#Вывод-по-подготвке-данных:\" data-toc-modified-id=\"Вывод-по-подготвке-данных:-1.5\"><span class=\"toc-item-num\">1.5&nbsp;&nbsp;</span>Вывод по подготвке данных:</a></span></li></ul></li><li><span><a href=\"#Анализ-данных\" data-toc-modified-id=\"Анализ-данных-2\"><span class=\"toc-item-num\">2&nbsp;&nbsp;</span>Анализ данных</a></span><ul class=\"toc-item\"><li><span><a href=\"#Изменение-концентрации-металлов-(Au,-Ag,-Pb)-на-различных-этапах\" data-toc-modified-id=\"Изменение-концентрации-металлов-(Au,-Ag,-Pb)-на-различных-этапах-2.1\"><span class=\"toc-item-num\">2.1&nbsp;&nbsp;</span>Изменение концентрации металлов (Au, Ag, Pb) на различных этапах</a></span></li><li><span><a href=\"#Сравнение-распределения-размеров-гранул-исходного-сырья-на-обучающей-и-тестовой-выборках\" data-toc-modified-id=\"Сравнение-распределения-размеров-гранул-исходного-сырья-на-обучающей-и-тестовой-выборках-2.2\"><span class=\"toc-item-num\">2.2&nbsp;&nbsp;</span>Сравнение распределения размеров гранул исходного сырья на обучающей и тестовой выборках</a></span></li><li><span><a href=\"#Cуммарная-концентрация-металлов-на-разных-стадиях:-в-сырье,-в-черновом-концентрате,-в-концентрате-после-первой-очистки-и-в-финальном-концентрате.\" data-toc-modified-id=\"Cуммарная-концентрация-металлов-на-разных-стадиях:-в-сырье,-в-черновом-концентрате,-в-концентрате-после-первой-очистки-и-в-финальном-концентрате.-2.3\"><span class=\"toc-item-num\">2.3&nbsp;&nbsp;</span>Cуммарная концентрация металлов на разных стадиях: в сырье, в черновом концентрате, в концентрате после первой очистки и в финальном концентрате.</a></span></li></ul></li><li><span><a href=\"#Модель\" data-toc-modified-id=\"Модель-3\"><span class=\"toc-item-num\">3&nbsp;&nbsp;</span>Модель</a></span><ul class=\"toc-item\"><li><span><a href=\"#Функция-для-вычисления-итоговой-sMAPE\" data-toc-modified-id=\"Функция-для-вычисления-итоговой-sMAPE-3.1\"><span class=\"toc-item-num\">3.1&nbsp;&nbsp;</span>Функция для вычисления итоговой sMAPE</a></span></li><li><span><a href=\"#Обучение-различных-моделей\" data-toc-modified-id=\"Обучение-различных-моделей-3.2\"><span class=\"toc-item-num\">3.2&nbsp;&nbsp;</span>Обучение различных моделей</a></span><ul class=\"toc-item\"><li><span><a href=\"#Подготовка-признаков\" data-toc-modified-id=\"Подготовка-признаков-3.2.1\"><span class=\"toc-item-num\">3.2.1&nbsp;&nbsp;</span>Подготовка признаков</a></span></li><li><span><a href=\"#Линейная-регрессия\" data-toc-modified-id=\"Линейная-регрессия-3.2.2\"><span class=\"toc-item-num\">3.2.2&nbsp;&nbsp;</span>Линейная регрессия</a></span></li><li><span><a href=\"#Дерево-решений\" data-toc-modified-id=\"Дерево-решений-3.2.3\"><span class=\"toc-item-num\">3.2.3&nbsp;&nbsp;</span>Дерево решений</a></span></li><li><span><a href=\"#Случайный-лес\" data-toc-modified-id=\"Случайный-лес-3.2.4\"><span class=\"toc-item-num\">3.2.4&nbsp;&nbsp;</span>Случайный лес</a></span></li><li><span><a href=\"#Выбор-лучшей-модели\" data-toc-modified-id=\"Выбор-лучшей-модели-3.2.5\"><span class=\"toc-item-num\">3.2.5&nbsp;&nbsp;</span>Выбор лучшей модели</a></span></li></ul></li></ul></li><li><span><a href=\"#Заключение\" data-toc-modified-id=\"Заключение-4\"><span class=\"toc-item-num\">4&nbsp;&nbsp;</span>Заключение</a></span></li><li><span><a href=\"#Выводы\" data-toc-modified-id=\"Выводы-5\"><span class=\"toc-item-num\">5&nbsp;&nbsp;</span>Выводы</a></span></li></ul></div>"
   ]
  },
  {
   "cell_type": "markdown",
   "metadata": {},
   "source": [
    "# Восстановление золота из руды"
   ]
  },
  {
   "cell_type": "markdown",
   "metadata": {},
   "source": [
    "# Цель: \n",
    "\n",
    "подготовить прототип модели машинного обучения для компании «Цифры», разрабатывающей решения для эффективной работы промышленных предприятий. Модель должна предсказать коэффициент восстановления золота из золотосодержащей руды. В работае используются используются доступные данные с параметрами добычи и очистки. \n",
    "Модель поможет оптимизировать производство, чтобы не запускать предприятие с убыточными характеристиками.\n",
    "\n",
    "# Задачи:\n",
    "\n",
    "1. Подготовить данные;\n",
    "2. Провести исследовательский анализ данных;\n",
    "3. Построить и обучить модель."
   ]
  },
  {
   "cell_type": "markdown",
   "metadata": {},
   "source": [
    "Инструкция по выполнению проекта\n",
    "1. Подготовьте данные\n",
    "1.1. Откройте файлы и изучите их.\n",
    "Путь к файлам:\n",
    "/datasets/gold_industry_train.csv. Скачать датасет\n",
    "/datasets/gold_industry_test.csv. Скачать датасет\n",
    "/datasets/gold_industry_full.csv. Скачать датасет\n",
    "1.2. Проверьте, что эффективность обогащения рассчитана правильно. Вычислите её на обучающей выборке для признака rougher.output.recovery. Найдите MAE между вашими расчётами и значением признака. Опишите выводы.\n",
    "1.3. Проанализируйте признаки, недоступные в тестовой выборке. Что это за параметры? К какому типу относятся?\n",
    "1.4. Проведите предобработку данных.\n",
    "2. Проанализируйте данные\n",
    "2.1. Посмотрите, как меняется концентрация металлов (Au, Ag, Pb) на различных этапах: в сырье, в черновом концентрате, в концентрате после первой очистки и в финальном концентрате. Какие особенности имеют распределения? Опишите выводы.\n",
    "2.2.  Сравните распределения размеров гранул исходного сырья на обучающей и тестовой выборках. Если распределения сильно отличаются друг от друга, оценка модели будет неправильной.\n",
    "2.3. Исследуйте суммарную концентрацию металлов на разных стадиях: в сырье, в черновом концентрате, в концентрате после первой очистки и в финальном концентрате.\n",
    "3. Постройте модель\n",
    "3.1. Напишите функцию для вычисления итоговой sMAPE.\n",
    "3.2. Обучите разные модели и оцените их качество кросс-валидацией. Выберите лучшую модель и проверьте её на тестовой выборке. Опишите выводы.\n",
    "Вам пригодятся формулы метрик качества:\n",
    "формула sMAPE\n",
    "формула итогового sMAPE\n",
    "Как будут проверять проект?\n",
    "Мы подготовили критерии оценки проекта, которыми руководствуются наставники. Прежде чем приступить к решению кейса, внимательно их изучите.\n",
    "На что обращают внимание наставники, проверяя проект:\n",
    "Насколько хорошо вы готовите и анализируете данные?\n",
    "Какие модели строите?\n",
    "Как проверяете их качество?\n",
    "Все ли шаги по инструкции выполняете?\n",
    "Следите за структурой проекта и поясняете выполненные шаги?\n",
    "Какие выводы делаете?\n",
    "Поддерживаете аккуратность кода и не дублируете его?\n",
    "Всё, что вам нужно знать, есть в шпаргалках и конспектах прошлых тем.\n",
    "Успеха!"
   ]
  },
  {
   "cell_type": "markdown",
   "metadata": {},
   "source": [
    "## Подготовка данных"
   ]
  },
  {
   "cell_type": "code",
   "execution_count": 1,
   "metadata": {},
   "outputs": [],
   "source": [
    "# Импортируем основные библиотеки\n",
    "import matplotlib.pyplot as plt\n",
    "import numpy as np\n",
    "import pandas as pd\n",
    "import seaborn as sns\n",
    "import warnings\n",
    "\n",
    "# Импортируем модели машинного обучения, для исспользования в проекте\n",
    "from sklearn.ensemble import RandomForestRegressor\n",
    "from sklearn.tree import DecisionTreeRegressor\n",
    "from sklearn.linear_model import LinearRegression\n",
    "from sklearn.dummy import DummyRegressor\n",
    "\n",
    "from sklearn.impute import KNNImputer\n",
    "from sklearn.metrics import mean_absolute_error, make_scorer\n",
    "from sklearn.model_selection import GridSearchCV, cross_val_score\n",
    "from sklearn.pipeline import Pipeline, FeatureUnion\n",
    "from sklearn.preprocessing import StandardScaler"
   ]
  },
  {
   "cell_type": "code",
   "execution_count": 2,
   "metadata": {},
   "outputs": [],
   "source": [
    "# Задаем количесвто столбцов, которые будут выводиться при обращении к датафреймам\n",
    "pd.set_option('display.max_columns', None)  \n",
    "\n",
    "# Задаем количество знаков после запятой для всех значений в датафрейме\n",
    "pd.set_option('float_format', '{:.2f}'.format) \n",
    "\n",
    "# Вывести из под комментария перед финальным запуском:\n",
    "# Игнорируем предупреждения о возможных изменения работы фуфнкций в будущих версиях в Pandas\n",
    "warnings.filterwarnings(\"ignore\") "
   ]
  },
  {
   "cell_type": "markdown",
   "metadata": {},
   "source": [
    "### Знакомство с данными"
   ]
  },
  {
   "cell_type": "code",
   "execution_count": 3,
   "metadata": {},
   "outputs": [],
   "source": [
    "# Откройем и изучим файлы\n",
    "df_train = pd.read_csv('/datasets/gold_industry_train.csv',parse_dates = ['date']) #обучающая выборка\n",
    "df_test = pd.read_csv('/datasets/gold_industry_test.csv',parse_dates = ['date']) # тестовая выборка\n",
    "df = pd.read_csv('/datasets/gold_industry_full.csv',parse_dates = ['date']) # исходные данные"
   ]
  },
  {
   "cell_type": "code",
   "execution_count": 4,
   "metadata": {},
   "outputs": [],
   "source": [
    "# Зададим значение random_state, которое будем использовать на протяжении всего проекта:\n",
    "SEED = 12345"
   ]
  },
  {
   "cell_type": "code",
   "execution_count": 5,
   "metadata": {},
   "outputs": [
    {
     "data": {
      "text/html": [
       "<div>\n",
       "<style scoped>\n",
       "    .dataframe tbody tr th:only-of-type {\n",
       "        vertical-align: middle;\n",
       "    }\n",
       "\n",
       "    .dataframe tbody tr th {\n",
       "        vertical-align: top;\n",
       "    }\n",
       "\n",
       "    .dataframe thead th {\n",
       "        text-align: right;\n",
       "    }\n",
       "</style>\n",
       "<table border=\"1\" class=\"dataframe\">\n",
       "  <thead>\n",
       "    <tr style=\"text-align: right;\">\n",
       "      <th></th>\n",
       "      <th>date</th>\n",
       "      <th>rougher.input.feed_au</th>\n",
       "      <th>rougher.input.feed_ag</th>\n",
       "      <th>rougher.input.feed_pb</th>\n",
       "      <th>rougher.input.feed_sol</th>\n",
       "      <th>rougher.input.feed_rate</th>\n",
       "      <th>rougher.input.feed_size</th>\n",
       "      <th>rougher.input.floatbank10_sulfate</th>\n",
       "      <th>rougher.input.floatbank10_xanthate</th>\n",
       "      <th>rougher.state.floatbank10_a_air</th>\n",
       "      <th>rougher.state.floatbank10_a_level</th>\n",
       "      <th>rougher.state.floatbank10_b_air</th>\n",
       "      <th>rougher.state.floatbank10_b_level</th>\n",
       "      <th>rougher.state.floatbank10_c_air</th>\n",
       "      <th>rougher.state.floatbank10_c_level</th>\n",
       "      <th>rougher.state.floatbank10_d_air</th>\n",
       "      <th>rougher.state.floatbank10_d_level</th>\n",
       "      <th>rougher.state.floatbank10_e_air</th>\n",
       "      <th>rougher.state.floatbank10_e_level</th>\n",
       "      <th>rougher.state.floatbank10_f_air</th>\n",
       "      <th>rougher.state.floatbank10_f_level</th>\n",
       "      <th>rougher.input.floatbank11_sulfate</th>\n",
       "      <th>rougher.input.floatbank11_xanthate</th>\n",
       "      <th>rougher.calculation.sulfate_to_au_concentrate</th>\n",
       "      <th>rougher.calculation.floatbank10_sulfate_to_au_feed</th>\n",
       "      <th>rougher.calculation.floatbank11_sulfate_to_au_feed</th>\n",
       "      <th>rougher.calculation.au_pb_ratio</th>\n",
       "      <th>rougher.output.concentrate_au</th>\n",
       "      <th>rougher.output.concentrate_ag</th>\n",
       "      <th>rougher.output.concentrate_pb</th>\n",
       "      <th>rougher.output.concentrate_sol</th>\n",
       "      <th>rougher.output.recovery</th>\n",
       "      <th>rougher.output.tail_au</th>\n",
       "      <th>rougher.output.tail_ag</th>\n",
       "      <th>rougher.output.tail_pb</th>\n",
       "      <th>rougher.output.tail_sol</th>\n",
       "      <th>primary_cleaner.input.sulfate</th>\n",
       "      <th>primary_cleaner.input.depressant</th>\n",
       "      <th>primary_cleaner.input.feed_size</th>\n",
       "      <th>primary_cleaner.input.xanthate</th>\n",
       "      <th>primary_cleaner.state.floatbank8_a_air</th>\n",
       "      <th>primary_cleaner.state.floatbank8_a_level</th>\n",
       "      <th>primary_cleaner.state.floatbank8_b_air</th>\n",
       "      <th>primary_cleaner.state.floatbank8_b_level</th>\n",
       "      <th>primary_cleaner.state.floatbank8_c_air</th>\n",
       "      <th>primary_cleaner.state.floatbank8_c_level</th>\n",
       "      <th>primary_cleaner.state.floatbank8_d_air</th>\n",
       "      <th>primary_cleaner.state.floatbank8_d_level</th>\n",
       "      <th>primary_cleaner.output.concentrate_au</th>\n",
       "      <th>primary_cleaner.output.concentrate_ag</th>\n",
       "      <th>primary_cleaner.output.concentrate_pb</th>\n",
       "      <th>primary_cleaner.output.concentrate_sol</th>\n",
       "      <th>primary_cleaner.output.tail_au</th>\n",
       "      <th>primary_cleaner.output.tail_ag</th>\n",
       "      <th>primary_cleaner.output.tail_pb</th>\n",
       "      <th>primary_cleaner.output.tail_sol</th>\n",
       "      <th>secondary_cleaner.state.floatbank2_a_air</th>\n",
       "      <th>secondary_cleaner.state.floatbank2_a_level</th>\n",
       "      <th>secondary_cleaner.state.floatbank2_b_air</th>\n",
       "      <th>secondary_cleaner.state.floatbank2_b_level</th>\n",
       "      <th>secondary_cleaner.state.floatbank3_a_air</th>\n",
       "      <th>secondary_cleaner.state.floatbank3_a_level</th>\n",
       "      <th>secondary_cleaner.state.floatbank3_b_air</th>\n",
       "      <th>secondary_cleaner.state.floatbank3_b_level</th>\n",
       "      <th>secondary_cleaner.state.floatbank4_a_air</th>\n",
       "      <th>secondary_cleaner.state.floatbank4_a_level</th>\n",
       "      <th>secondary_cleaner.state.floatbank4_b_air</th>\n",
       "      <th>secondary_cleaner.state.floatbank4_b_level</th>\n",
       "      <th>secondary_cleaner.state.floatbank5_a_air</th>\n",
       "      <th>secondary_cleaner.state.floatbank5_a_level</th>\n",
       "      <th>secondary_cleaner.state.floatbank5_b_air</th>\n",
       "      <th>secondary_cleaner.state.floatbank5_b_level</th>\n",
       "      <th>secondary_cleaner.state.floatbank6_a_air</th>\n",
       "      <th>secondary_cleaner.state.floatbank6_a_level</th>\n",
       "      <th>secondary_cleaner.output.tail_au</th>\n",
       "      <th>secondary_cleaner.output.tail_ag</th>\n",
       "      <th>secondary_cleaner.output.tail_pb</th>\n",
       "      <th>secondary_cleaner.output.tail_sol</th>\n",
       "      <th>final.output.concentrate_au</th>\n",
       "      <th>final.output.concentrate_ag</th>\n",
       "      <th>final.output.concentrate_pb</th>\n",
       "      <th>final.output.concentrate_sol</th>\n",
       "      <th>final.output.recovery</th>\n",
       "      <th>final.output.tail_au</th>\n",
       "      <th>final.output.tail_ag</th>\n",
       "      <th>final.output.tail_pb</th>\n",
       "      <th>final.output.tail_sol</th>\n",
       "    </tr>\n",
       "  </thead>\n",
       "  <tbody>\n",
       "    <tr>\n",
       "      <th>0</th>\n",
       "      <td>2016-01-15 00:00:00</td>\n",
       "      <td>6.49</td>\n",
       "      <td>6.10</td>\n",
       "      <td>2.28</td>\n",
       "      <td>36.81</td>\n",
       "      <td>523.55</td>\n",
       "      <td>55.49</td>\n",
       "      <td>11.99</td>\n",
       "      <td>6.01</td>\n",
       "      <td>999.71</td>\n",
       "      <td>-404.07</td>\n",
       "      <td>1603.01</td>\n",
       "      <td>-434.72</td>\n",
       "      <td>1602.38</td>\n",
       "      <td>-442.20</td>\n",
       "      <td>1598.94</td>\n",
       "      <td>-451.29</td>\n",
       "      <td>1404.47</td>\n",
       "      <td>-455.46</td>\n",
       "      <td>1416.35</td>\n",
       "      <td>-451.94</td>\n",
       "      <td>11.84</td>\n",
       "      <td>6.01</td>\n",
       "      <td>41885.71</td>\n",
       "      <td>3481.78</td>\n",
       "      <td>3520.34</td>\n",
       "      <td>2.84</td>\n",
       "      <td>19.79</td>\n",
       "      <td>11.50</td>\n",
       "      <td>7.10</td>\n",
       "      <td>28.03</td>\n",
       "      <td>87.11</td>\n",
       "      <td>1.17</td>\n",
       "      <td>5.01</td>\n",
       "      <td>0.51</td>\n",
       "      <td>19.15</td>\n",
       "      <td>127.09</td>\n",
       "      <td>10.13</td>\n",
       "      <td>7.25</td>\n",
       "      <td>0.99</td>\n",
       "      <td>1549.78</td>\n",
       "      <td>-498.91</td>\n",
       "      <td>1551.43</td>\n",
       "      <td>-516.40</td>\n",
       "      <td>1549.87</td>\n",
       "      <td>-498.67</td>\n",
       "      <td>1554.37</td>\n",
       "      <td>-493.43</td>\n",
       "      <td>34.17</td>\n",
       "      <td>8.55</td>\n",
       "      <td>10.39</td>\n",
       "      <td>19.53</td>\n",
       "      <td>2.11</td>\n",
       "      <td>14.94</td>\n",
       "      <td>2.53</td>\n",
       "      <td>7.48</td>\n",
       "      <td>25.85</td>\n",
       "      <td>-498.53</td>\n",
       "      <td>23.89</td>\n",
       "      <td>-501.41</td>\n",
       "      <td>23.96</td>\n",
       "      <td>-495.26</td>\n",
       "      <td>21.94</td>\n",
       "      <td>-499.34</td>\n",
       "      <td>14.02</td>\n",
       "      <td>-502.49</td>\n",
       "      <td>12.10</td>\n",
       "      <td>-504.72</td>\n",
       "      <td>9.93</td>\n",
       "      <td>-498.31</td>\n",
       "      <td>8.08</td>\n",
       "      <td>-500.47</td>\n",
       "      <td>14.15</td>\n",
       "      <td>-605.84</td>\n",
       "      <td>2.61</td>\n",
       "      <td>14.50</td>\n",
       "      <td>4.69</td>\n",
       "      <td>8.76</td>\n",
       "      <td>42.19</td>\n",
       "      <td>6.06</td>\n",
       "      <td>9.89</td>\n",
       "      <td>5.51</td>\n",
       "      <td>70.54</td>\n",
       "      <td>2.14</td>\n",
       "      <td>10.41</td>\n",
       "      <td>0.90</td>\n",
       "      <td>16.90</td>\n",
       "    </tr>\n",
       "    <tr>\n",
       "      <th>1</th>\n",
       "      <td>2016-01-15 01:00:00</td>\n",
       "      <td>6.48</td>\n",
       "      <td>6.16</td>\n",
       "      <td>2.27</td>\n",
       "      <td>35.75</td>\n",
       "      <td>525.29</td>\n",
       "      <td>57.28</td>\n",
       "      <td>11.97</td>\n",
       "      <td>6.01</td>\n",
       "      <td>1000.29</td>\n",
       "      <td>-400.07</td>\n",
       "      <td>1600.75</td>\n",
       "      <td>-449.95</td>\n",
       "      <td>1600.48</td>\n",
       "      <td>-449.83</td>\n",
       "      <td>1600.53</td>\n",
       "      <td>-449.95</td>\n",
       "      <td>1399.23</td>\n",
       "      <td>-450.87</td>\n",
       "      <td>1399.72</td>\n",
       "      <td>-450.12</td>\n",
       "      <td>12.00</td>\n",
       "      <td>6.01</td>\n",
       "      <td>42050.86</td>\n",
       "      <td>3498.37</td>\n",
       "      <td>3489.98</td>\n",
       "      <td>2.86</td>\n",
       "      <td>20.05</td>\n",
       "      <td>11.62</td>\n",
       "      <td>7.28</td>\n",
       "      <td>28.07</td>\n",
       "      <td>86.84</td>\n",
       "      <td>1.18</td>\n",
       "      <td>4.96</td>\n",
       "      <td>0.54</td>\n",
       "      <td>18.97</td>\n",
       "      <td>125.63</td>\n",
       "      <td>10.30</td>\n",
       "      <td>7.25</td>\n",
       "      <td>1.00</td>\n",
       "      <td>1576.17</td>\n",
       "      <td>-500.90</td>\n",
       "      <td>1575.95</td>\n",
       "      <td>-499.87</td>\n",
       "      <td>1575.99</td>\n",
       "      <td>-499.32</td>\n",
       "      <td>1574.48</td>\n",
       "      <td>-498.93</td>\n",
       "      <td>34.12</td>\n",
       "      <td>8.56</td>\n",
       "      <td>10.50</td>\n",
       "      <td>19.37</td>\n",
       "      <td>2.35</td>\n",
       "      <td>16.25</td>\n",
       "      <td>3.05</td>\n",
       "      <td>6.73</td>\n",
       "      <td>25.88</td>\n",
       "      <td>-499.99</td>\n",
       "      <td>23.89</td>\n",
       "      <td>-500.37</td>\n",
       "      <td>23.97</td>\n",
       "      <td>-500.09</td>\n",
       "      <td>22.09</td>\n",
       "      <td>-499.45</td>\n",
       "      <td>13.99</td>\n",
       "      <td>-505.50</td>\n",
       "      <td>11.95</td>\n",
       "      <td>-501.33</td>\n",
       "      <td>10.04</td>\n",
       "      <td>-500.17</td>\n",
       "      <td>7.98</td>\n",
       "      <td>-500.58</td>\n",
       "      <td>14.00</td>\n",
       "      <td>-599.79</td>\n",
       "      <td>2.49</td>\n",
       "      <td>14.27</td>\n",
       "      <td>4.59</td>\n",
       "      <td>9.00</td>\n",
       "      <td>42.70</td>\n",
       "      <td>6.03</td>\n",
       "      <td>9.97</td>\n",
       "      <td>5.26</td>\n",
       "      <td>69.27</td>\n",
       "      <td>2.22</td>\n",
       "      <td>10.46</td>\n",
       "      <td>0.93</td>\n",
       "      <td>16.63</td>\n",
       "    </tr>\n",
       "  </tbody>\n",
       "</table>\n",
       "</div>"
      ],
      "text/plain": [
       "                 date  rougher.input.feed_au  rougher.input.feed_ag  \\\n",
       "0 2016-01-15 00:00:00                   6.49                   6.10   \n",
       "1 2016-01-15 01:00:00                   6.48                   6.16   \n",
       "\n",
       "   rougher.input.feed_pb  rougher.input.feed_sol  rougher.input.feed_rate  \\\n",
       "0                   2.28                   36.81                   523.55   \n",
       "1                   2.27                   35.75                   525.29   \n",
       "\n",
       "   rougher.input.feed_size  rougher.input.floatbank10_sulfate  \\\n",
       "0                    55.49                              11.99   \n",
       "1                    57.28                              11.97   \n",
       "\n",
       "   rougher.input.floatbank10_xanthate  rougher.state.floatbank10_a_air  \\\n",
       "0                                6.01                           999.71   \n",
       "1                                6.01                          1000.29   \n",
       "\n",
       "   rougher.state.floatbank10_a_level  rougher.state.floatbank10_b_air  \\\n",
       "0                            -404.07                          1603.01   \n",
       "1                            -400.07                          1600.75   \n",
       "\n",
       "   rougher.state.floatbank10_b_level  rougher.state.floatbank10_c_air  \\\n",
       "0                            -434.72                          1602.38   \n",
       "1                            -449.95                          1600.48   \n",
       "\n",
       "   rougher.state.floatbank10_c_level  rougher.state.floatbank10_d_air  \\\n",
       "0                            -442.20                          1598.94   \n",
       "1                            -449.83                          1600.53   \n",
       "\n",
       "   rougher.state.floatbank10_d_level  rougher.state.floatbank10_e_air  \\\n",
       "0                            -451.29                          1404.47   \n",
       "1                            -449.95                          1399.23   \n",
       "\n",
       "   rougher.state.floatbank10_e_level  rougher.state.floatbank10_f_air  \\\n",
       "0                            -455.46                          1416.35   \n",
       "1                            -450.87                          1399.72   \n",
       "\n",
       "   rougher.state.floatbank10_f_level  rougher.input.floatbank11_sulfate  \\\n",
       "0                            -451.94                              11.84   \n",
       "1                            -450.12                              12.00   \n",
       "\n",
       "   rougher.input.floatbank11_xanthate  \\\n",
       "0                                6.01   \n",
       "1                                6.01   \n",
       "\n",
       "   rougher.calculation.sulfate_to_au_concentrate  \\\n",
       "0                                       41885.71   \n",
       "1                                       42050.86   \n",
       "\n",
       "   rougher.calculation.floatbank10_sulfate_to_au_feed  \\\n",
       "0                                            3481.78    \n",
       "1                                            3498.37    \n",
       "\n",
       "   rougher.calculation.floatbank11_sulfate_to_au_feed  \\\n",
       "0                                            3520.34    \n",
       "1                                            3489.98    \n",
       "\n",
       "   rougher.calculation.au_pb_ratio  rougher.output.concentrate_au  \\\n",
       "0                             2.84                          19.79   \n",
       "1                             2.86                          20.05   \n",
       "\n",
       "   rougher.output.concentrate_ag  rougher.output.concentrate_pb  \\\n",
       "0                          11.50                           7.10   \n",
       "1                          11.62                           7.28   \n",
       "\n",
       "   rougher.output.concentrate_sol  rougher.output.recovery  \\\n",
       "0                           28.03                    87.11   \n",
       "1                           28.07                    86.84   \n",
       "\n",
       "   rougher.output.tail_au  rougher.output.tail_ag  rougher.output.tail_pb  \\\n",
       "0                    1.17                    5.01                    0.51   \n",
       "1                    1.18                    4.96                    0.54   \n",
       "\n",
       "   rougher.output.tail_sol  primary_cleaner.input.sulfate  \\\n",
       "0                    19.15                         127.09   \n",
       "1                    18.97                         125.63   \n",
       "\n",
       "   primary_cleaner.input.depressant  primary_cleaner.input.feed_size  \\\n",
       "0                             10.13                             7.25   \n",
       "1                             10.30                             7.25   \n",
       "\n",
       "   primary_cleaner.input.xanthate  primary_cleaner.state.floatbank8_a_air  \\\n",
       "0                            0.99                                 1549.78   \n",
       "1                            1.00                                 1576.17   \n",
       "\n",
       "   primary_cleaner.state.floatbank8_a_level  \\\n",
       "0                                   -498.91   \n",
       "1                                   -500.90   \n",
       "\n",
       "   primary_cleaner.state.floatbank8_b_air  \\\n",
       "0                                 1551.43   \n",
       "1                                 1575.95   \n",
       "\n",
       "   primary_cleaner.state.floatbank8_b_level  \\\n",
       "0                                   -516.40   \n",
       "1                                   -499.87   \n",
       "\n",
       "   primary_cleaner.state.floatbank8_c_air  \\\n",
       "0                                 1549.87   \n",
       "1                                 1575.99   \n",
       "\n",
       "   primary_cleaner.state.floatbank8_c_level  \\\n",
       "0                                   -498.67   \n",
       "1                                   -499.32   \n",
       "\n",
       "   primary_cleaner.state.floatbank8_d_air  \\\n",
       "0                                 1554.37   \n",
       "1                                 1574.48   \n",
       "\n",
       "   primary_cleaner.state.floatbank8_d_level  \\\n",
       "0                                   -493.43   \n",
       "1                                   -498.93   \n",
       "\n",
       "   primary_cleaner.output.concentrate_au  \\\n",
       "0                                  34.17   \n",
       "1                                  34.12   \n",
       "\n",
       "   primary_cleaner.output.concentrate_ag  \\\n",
       "0                                   8.55   \n",
       "1                                   8.56   \n",
       "\n",
       "   primary_cleaner.output.concentrate_pb  \\\n",
       "0                                  10.39   \n",
       "1                                  10.50   \n",
       "\n",
       "   primary_cleaner.output.concentrate_sol  primary_cleaner.output.tail_au  \\\n",
       "0                                   19.53                            2.11   \n",
       "1                                   19.37                            2.35   \n",
       "\n",
       "   primary_cleaner.output.tail_ag  primary_cleaner.output.tail_pb  \\\n",
       "0                           14.94                            2.53   \n",
       "1                           16.25                            3.05   \n",
       "\n",
       "   primary_cleaner.output.tail_sol  secondary_cleaner.state.floatbank2_a_air  \\\n",
       "0                             7.48                                     25.85   \n",
       "1                             6.73                                     25.88   \n",
       "\n",
       "   secondary_cleaner.state.floatbank2_a_level  \\\n",
       "0                                     -498.53   \n",
       "1                                     -499.99   \n",
       "\n",
       "   secondary_cleaner.state.floatbank2_b_air  \\\n",
       "0                                     23.89   \n",
       "1                                     23.89   \n",
       "\n",
       "   secondary_cleaner.state.floatbank2_b_level  \\\n",
       "0                                     -501.41   \n",
       "1                                     -500.37   \n",
       "\n",
       "   secondary_cleaner.state.floatbank3_a_air  \\\n",
       "0                                     23.96   \n",
       "1                                     23.97   \n",
       "\n",
       "   secondary_cleaner.state.floatbank3_a_level  \\\n",
       "0                                     -495.26   \n",
       "1                                     -500.09   \n",
       "\n",
       "   secondary_cleaner.state.floatbank3_b_air  \\\n",
       "0                                     21.94   \n",
       "1                                     22.09   \n",
       "\n",
       "   secondary_cleaner.state.floatbank3_b_level  \\\n",
       "0                                     -499.34   \n",
       "1                                     -499.45   \n",
       "\n",
       "   secondary_cleaner.state.floatbank4_a_air  \\\n",
       "0                                     14.02   \n",
       "1                                     13.99   \n",
       "\n",
       "   secondary_cleaner.state.floatbank4_a_level  \\\n",
       "0                                     -502.49   \n",
       "1                                     -505.50   \n",
       "\n",
       "   secondary_cleaner.state.floatbank4_b_air  \\\n",
       "0                                     12.10   \n",
       "1                                     11.95   \n",
       "\n",
       "   secondary_cleaner.state.floatbank4_b_level  \\\n",
       "0                                     -504.72   \n",
       "1                                     -501.33   \n",
       "\n",
       "   secondary_cleaner.state.floatbank5_a_air  \\\n",
       "0                                      9.93   \n",
       "1                                     10.04   \n",
       "\n",
       "   secondary_cleaner.state.floatbank5_a_level  \\\n",
       "0                                     -498.31   \n",
       "1                                     -500.17   \n",
       "\n",
       "   secondary_cleaner.state.floatbank5_b_air  \\\n",
       "0                                      8.08   \n",
       "1                                      7.98   \n",
       "\n",
       "   secondary_cleaner.state.floatbank5_b_level  \\\n",
       "0                                     -500.47   \n",
       "1                                     -500.58   \n",
       "\n",
       "   secondary_cleaner.state.floatbank6_a_air  \\\n",
       "0                                     14.15   \n",
       "1                                     14.00   \n",
       "\n",
       "   secondary_cleaner.state.floatbank6_a_level  \\\n",
       "0                                     -605.84   \n",
       "1                                     -599.79   \n",
       "\n",
       "   secondary_cleaner.output.tail_au  secondary_cleaner.output.tail_ag  \\\n",
       "0                              2.61                             14.50   \n",
       "1                              2.49                             14.27   \n",
       "\n",
       "   secondary_cleaner.output.tail_pb  secondary_cleaner.output.tail_sol  \\\n",
       "0                              4.69                               8.76   \n",
       "1                              4.59                               9.00   \n",
       "\n",
       "   final.output.concentrate_au  final.output.concentrate_ag  \\\n",
       "0                        42.19                         6.06   \n",
       "1                        42.70                         6.03   \n",
       "\n",
       "   final.output.concentrate_pb  final.output.concentrate_sol  \\\n",
       "0                         9.89                          5.51   \n",
       "1                         9.97                          5.26   \n",
       "\n",
       "   final.output.recovery  final.output.tail_au  final.output.tail_ag  \\\n",
       "0                  70.54                  2.14                 10.41   \n",
       "1                  69.27                  2.22                 10.46   \n",
       "\n",
       "   final.output.tail_pb  final.output.tail_sol  \n",
       "0                  0.90                  16.90  \n",
       "1                  0.93                  16.63  "
      ]
     },
     "execution_count": 5,
     "metadata": {},
     "output_type": "execute_result"
    }
   ],
   "source": [
    "# Выведем на экран данные полного датасета, поскольку тестовые и обучающие выборки также присутствуют в нем\n",
    "df.head(2)"
   ]
  },
  {
   "cell_type": "code",
   "execution_count": 6,
   "metadata": {
    "scrolled": true
   },
   "outputs": [
    {
     "name": "stdout",
     "output_type": "stream",
     "text": [
      "Полный датафрейм имеет 19439 строк в 87 столбцах\n",
      "Обучающий датафрейм имеет 14579 строк в 87 столбцах\n",
      "Тестовый датафрейм имеет 4860 строк в 53 столбцах\n"
     ]
    }
   ],
   "source": [
    "# выведем общую информацию о каждом наборе данных:\n",
    "print(f'Полный датафрейм имеет {df.shape[0]} строк в {df.shape[1]} столбцах')\n",
    "print(f'Обучающий датафрейм имеет {df_train.shape[0]} строк в {df_train.shape[1]} столбцах')\n",
    "print(f'Тестовый датафрейм имеет {df_test.shape[0]} строк в {df_test.shape[1]} столбцах')"
   ]
  },
  {
   "cell_type": "code",
   "execution_count": 7,
   "metadata": {},
   "outputs": [
    {
     "name": "stdout",
     "output_type": "stream",
     "text": [
      "Разбиение полного датафрейма на обучающую и тестовую в размере 75%:25%\n"
     ]
    }
   ],
   "source": [
    "print(f'Разбиение полного датафрейма на обучающую и тестовую в размере \\\n",
    "{(df_train.shape[0]) / df.shape[0]:.0%}:{(df_test.shape[0]) / df.shape[0]:.0%}')"
   ]
  },
  {
   "cell_type": "markdown",
   "metadata": {},
   "source": [
    "Количество строк в обучающем и тестовом наборах данных дают в сумме размер полного датафрейма."
   ]
  },
  {
   "cell_type": "code",
   "execution_count": 8,
   "metadata": {
    "scrolled": false
   },
   "outputs": [
    {
     "name": "stdout",
     "output_type": "stream",
     "text": [
      "<class 'pandas.core.frame.DataFrame'>\n",
      "RangeIndex: 19439 entries, 0 to 19438\n",
      "Data columns (total 87 columns):\n",
      " #   Column                                              Non-Null Count  Dtype         \n",
      "---  ------                                              --------------  -----         \n",
      " 0   date                                                19439 non-null  datetime64[ns]\n",
      " 1   rougher.input.feed_au                               19439 non-null  float64       \n",
      " 2   rougher.input.feed_ag                               19439 non-null  float64       \n",
      " 3   rougher.input.feed_pb                               19339 non-null  float64       \n",
      " 4   rougher.input.feed_sol                              19340 non-null  float64       \n",
      " 5   rougher.input.feed_rate                             19428 non-null  float64       \n",
      " 6   rougher.input.feed_size                             19294 non-null  float64       \n",
      " 7   rougher.input.floatbank10_sulfate                   19405 non-null  float64       \n",
      " 8   rougher.input.floatbank10_xanthate                  19431 non-null  float64       \n",
      " 9   rougher.state.floatbank10_a_air                     19438 non-null  float64       \n",
      " 10  rougher.state.floatbank10_a_level                   19438 non-null  float64       \n",
      " 11  rougher.state.floatbank10_b_air                     19438 non-null  float64       \n",
      " 12  rougher.state.floatbank10_b_level                   19438 non-null  float64       \n",
      " 13  rougher.state.floatbank10_c_air                     19438 non-null  float64       \n",
      " 14  rougher.state.floatbank10_c_level                   19438 non-null  float64       \n",
      " 15  rougher.state.floatbank10_d_air                     19439 non-null  float64       \n",
      " 16  rougher.state.floatbank10_d_level                   19439 non-null  float64       \n",
      " 17  rougher.state.floatbank10_e_air                     19003 non-null  float64       \n",
      " 18  rougher.state.floatbank10_e_level                   19439 non-null  float64       \n",
      " 19  rougher.state.floatbank10_f_air                     19439 non-null  float64       \n",
      " 20  rougher.state.floatbank10_f_level                   19439 non-null  float64       \n",
      " 21  rougher.input.floatbank11_sulfate                   19395 non-null  float64       \n",
      " 22  rougher.input.floatbank11_xanthate                  18986 non-null  float64       \n",
      " 23  rougher.calculation.sulfate_to_au_concentrate       19437 non-null  float64       \n",
      " 24  rougher.calculation.floatbank10_sulfate_to_au_feed  19437 non-null  float64       \n",
      " 25  rougher.calculation.floatbank11_sulfate_to_au_feed  19437 non-null  float64       \n",
      " 26  rougher.calculation.au_pb_ratio                     19439 non-null  float64       \n",
      " 27  rougher.output.concentrate_au                       19439 non-null  float64       \n",
      " 28  rougher.output.concentrate_ag                       19439 non-null  float64       \n",
      " 29  rougher.output.concentrate_pb                       19439 non-null  float64       \n",
      " 30  rougher.output.concentrate_sol                      19416 non-null  float64       \n",
      " 31  rougher.output.recovery                             19439 non-null  float64       \n",
      " 32  rougher.output.tail_au                              19439 non-null  float64       \n",
      " 33  rougher.output.tail_ag                              19438 non-null  float64       \n",
      " 34  rougher.output.tail_pb                              19439 non-null  float64       \n",
      " 35  rougher.output.tail_sol                             19439 non-null  float64       \n",
      " 36  primary_cleaner.input.sulfate                       19415 non-null  float64       \n",
      " 37  primary_cleaner.input.depressant                    19402 non-null  float64       \n",
      " 38  primary_cleaner.input.feed_size                     19439 non-null  float64       \n",
      " 39  primary_cleaner.input.xanthate                      19335 non-null  float64       \n",
      " 40  primary_cleaner.state.floatbank8_a_air              19435 non-null  float64       \n",
      " 41  primary_cleaner.state.floatbank8_a_level            19438 non-null  float64       \n",
      " 42  primary_cleaner.state.floatbank8_b_air              19435 non-null  float64       \n",
      " 43  primary_cleaner.state.floatbank8_b_level            19438 non-null  float64       \n",
      " 44  primary_cleaner.state.floatbank8_c_air              19437 non-null  float64       \n",
      " 45  primary_cleaner.state.floatbank8_c_level            19438 non-null  float64       \n",
      " 46  primary_cleaner.state.floatbank8_d_air              19436 non-null  float64       \n",
      " 47  primary_cleaner.state.floatbank8_d_level            19438 non-null  float64       \n",
      " 48  primary_cleaner.output.concentrate_au               19439 non-null  float64       \n",
      " 49  primary_cleaner.output.concentrate_ag               19439 non-null  float64       \n",
      " 50  primary_cleaner.output.concentrate_pb               19323 non-null  float64       \n",
      " 51  primary_cleaner.output.concentrate_sol              19069 non-null  float64       \n",
      " 52  primary_cleaner.output.tail_au                      19439 non-null  float64       \n",
      " 53  primary_cleaner.output.tail_ag                      19435 non-null  float64       \n",
      " 54  primary_cleaner.output.tail_pb                      19418 non-null  float64       \n",
      " 55  primary_cleaner.output.tail_sol                     19377 non-null  float64       \n",
      " 56  secondary_cleaner.state.floatbank2_a_air            19219 non-null  float64       \n",
      " 57  secondary_cleaner.state.floatbank2_a_level          19438 non-null  float64       \n",
      " 58  secondary_cleaner.state.floatbank2_b_air            19416 non-null  float64       \n",
      " 59  secondary_cleaner.state.floatbank2_b_level          19438 non-null  float64       \n",
      " 60  secondary_cleaner.state.floatbank3_a_air            19426 non-null  float64       \n",
      " 61  secondary_cleaner.state.floatbank3_a_level          19438 non-null  float64       \n",
      " 62  secondary_cleaner.state.floatbank3_b_air            19438 non-null  float64       \n",
      " 63  secondary_cleaner.state.floatbank3_b_level          19438 non-null  float64       \n",
      " 64  secondary_cleaner.state.floatbank4_a_air            19433 non-null  float64       \n",
      " 65  secondary_cleaner.state.floatbank4_a_level          19438 non-null  float64       \n",
      " 66  secondary_cleaner.state.floatbank4_b_air            19438 non-null  float64       \n",
      " 67  secondary_cleaner.state.floatbank4_b_level          19438 non-null  float64       \n",
      " 68  secondary_cleaner.state.floatbank5_a_air            19438 non-null  float64       \n",
      " 69  secondary_cleaner.state.floatbank5_a_level          19438 non-null  float64       \n",
      " 70  secondary_cleaner.state.floatbank5_b_air            19438 non-null  float64       \n",
      " 71  secondary_cleaner.state.floatbank5_b_level          19438 non-null  float64       \n",
      " 72  secondary_cleaner.state.floatbank6_a_air            19437 non-null  float64       \n",
      " 73  secondary_cleaner.state.floatbank6_a_level          19438 non-null  float64       \n",
      " 74  secondary_cleaner.output.tail_au                    19439 non-null  float64       \n",
      " 75  secondary_cleaner.output.tail_ag                    19437 non-null  float64       \n",
      " 76  secondary_cleaner.output.tail_pb                    19427 non-null  float64       \n",
      " 77  secondary_cleaner.output.tail_sol                   17691 non-null  float64       \n",
      " 78  final.output.concentrate_au                         19439 non-null  float64       \n",
      " 79  final.output.concentrate_ag                         19438 non-null  float64       \n",
      " 80  final.output.concentrate_pb                         19438 non-null  float64       \n",
      " 81  final.output.concentrate_sol                        19228 non-null  float64       \n",
      " 82  final.output.recovery                               19439 non-null  float64       \n",
      " 83  final.output.tail_au                                19439 non-null  float64       \n",
      " 84  final.output.tail_ag                                19438 non-null  float64       \n",
      " 85  final.output.tail_pb                                19338 non-null  float64       \n",
      " 86  final.output.tail_sol                               19433 non-null  float64       \n",
      "dtypes: datetime64[ns](1), float64(86)\n",
      "memory usage: 12.9 MB\n"
     ]
    }
   ],
   "source": [
    "df.info()"
   ]
  },
  {
   "cell_type": "code",
   "execution_count": 9,
   "metadata": {},
   "outputs": [
    {
     "data": {
      "text/html": [
       "<div>\n",
       "<style scoped>\n",
       "    .dataframe tbody tr th:only-of-type {\n",
       "        vertical-align: middle;\n",
       "    }\n",
       "\n",
       "    .dataframe tbody tr th {\n",
       "        vertical-align: top;\n",
       "    }\n",
       "\n",
       "    .dataframe thead th {\n",
       "        text-align: right;\n",
       "    }\n",
       "</style>\n",
       "<table border=\"1\" class=\"dataframe\">\n",
       "  <thead>\n",
       "    <tr style=\"text-align: right;\">\n",
       "      <th></th>\n",
       "      <th>count</th>\n",
       "      <th>mean</th>\n",
       "      <th>std</th>\n",
       "      <th>min</th>\n",
       "      <th>25%</th>\n",
       "      <th>50%</th>\n",
       "      <th>75%</th>\n",
       "      <th>max</th>\n",
       "    </tr>\n",
       "  </thead>\n",
       "  <tbody>\n",
       "    <tr>\n",
       "      <th>rougher.input.feed_au</th>\n",
       "      <td>19439.00</td>\n",
       "      <td>8.27</td>\n",
       "      <td>1.96</td>\n",
       "      <td>0.01</td>\n",
       "      <td>6.85</td>\n",
       "      <td>8.13</td>\n",
       "      <td>9.77</td>\n",
       "      <td>13.73</td>\n",
       "    </tr>\n",
       "    <tr>\n",
       "      <th>rougher.input.feed_ag</th>\n",
       "      <td>19439.00</td>\n",
       "      <td>8.79</td>\n",
       "      <td>1.94</td>\n",
       "      <td>0.01</td>\n",
       "      <td>7.24</td>\n",
       "      <td>8.59</td>\n",
       "      <td>10.21</td>\n",
       "      <td>14.60</td>\n",
       "    </tr>\n",
       "    <tr>\n",
       "      <th>rougher.input.feed_pb</th>\n",
       "      <td>19339.00</td>\n",
       "      <td>3.60</td>\n",
       "      <td>1.05</td>\n",
       "      <td>0.01</td>\n",
       "      <td>2.89</td>\n",
       "      <td>3.53</td>\n",
       "      <td>4.24</td>\n",
       "      <td>7.14</td>\n",
       "    </tr>\n",
       "    <tr>\n",
       "      <th>rougher.input.feed_sol</th>\n",
       "      <td>19340.00</td>\n",
       "      <td>36.70</td>\n",
       "      <td>5.15</td>\n",
       "      <td>0.01</td>\n",
       "      <td>34.21</td>\n",
       "      <td>37.20</td>\n",
       "      <td>40.04</td>\n",
       "      <td>53.48</td>\n",
       "    </tr>\n",
       "    <tr>\n",
       "      <th>rougher.input.feed_rate</th>\n",
       "      <td>19428.00</td>\n",
       "      <td>478.32</td>\n",
       "      <td>105.37</td>\n",
       "      <td>0.00</td>\n",
       "      <td>416.53</td>\n",
       "      <td>499.42</td>\n",
       "      <td>550.17</td>\n",
       "      <td>717.51</td>\n",
       "    </tr>\n",
       "    <tr>\n",
       "      <th>rougher.input.feed_size</th>\n",
       "      <td>19294.00</td>\n",
       "      <td>58.97</td>\n",
       "      <td>21.63</td>\n",
       "      <td>0.05</td>\n",
       "      <td>47.44</td>\n",
       "      <td>54.61</td>\n",
       "      <td>65.02</td>\n",
       "      <td>484.97</td>\n",
       "    </tr>\n",
       "    <tr>\n",
       "      <th>rougher.input.floatbank10_sulfate</th>\n",
       "      <td>19405.00</td>\n",
       "      <td>12.33</td>\n",
       "      <td>3.43</td>\n",
       "      <td>0.00</td>\n",
       "      <td>10.00</td>\n",
       "      <td>12.00</td>\n",
       "      <td>14.72</td>\n",
       "      <td>36.12</td>\n",
       "    </tr>\n",
       "    <tr>\n",
       "      <th>rougher.input.floatbank10_xanthate</th>\n",
       "      <td>19431.00</td>\n",
       "      <td>6.02</td>\n",
       "      <td>1.13</td>\n",
       "      <td>0.00</td>\n",
       "      <td>5.40</td>\n",
       "      <td>6.01</td>\n",
       "      <td>6.80</td>\n",
       "      <td>9.70</td>\n",
       "    </tr>\n",
       "    <tr>\n",
       "      <th>rougher.state.floatbank10_a_air</th>\n",
       "      <td>19438.00</td>\n",
       "      <td>1105.32</td>\n",
       "      <td>160.83</td>\n",
       "      <td>-0.04</td>\n",
       "      <td>999.66</td>\n",
       "      <td>1001.07</td>\n",
       "      <td>1205.62</td>\n",
       "      <td>1521.98</td>\n",
       "    </tr>\n",
       "    <tr>\n",
       "      <th>rougher.state.floatbank10_a_level</th>\n",
       "      <td>19438.00</td>\n",
       "      <td>-376.61</td>\n",
       "      <td>93.91</td>\n",
       "      <td>-657.95</td>\n",
       "      <td>-499.84</td>\n",
       "      <td>-300.26</td>\n",
       "      <td>-299.98</td>\n",
       "      <td>-273.78</td>\n",
       "    </tr>\n",
       "    <tr>\n",
       "      <th>rougher.state.floatbank10_b_air</th>\n",
       "      <td>19438.00</td>\n",
       "      <td>1320.22</td>\n",
       "      <td>176.29</td>\n",
       "      <td>-0.72</td>\n",
       "      <td>1199.63</td>\n",
       "      <td>1301.58</td>\n",
       "      <td>1448.63</td>\n",
       "      <td>1809.19</td>\n",
       "    </tr>\n",
       "    <tr>\n",
       "      <th>rougher.state.floatbank10_b_level</th>\n",
       "      <td>19438.00</td>\n",
       "      <td>-467.25</td>\n",
       "      <td>54.67</td>\n",
       "      <td>-650.26</td>\n",
       "      <td>-500.20</td>\n",
       "      <td>-499.78</td>\n",
       "      <td>-400.62</td>\n",
       "      <td>-296.38</td>\n",
       "    </tr>\n",
       "    <tr>\n",
       "      <th>rougher.state.floatbank10_c_air</th>\n",
       "      <td>19438.00</td>\n",
       "      <td>1299.97</td>\n",
       "      <td>202.80</td>\n",
       "      <td>-0.06</td>\n",
       "      <td>1151.08</td>\n",
       "      <td>1300.21</td>\n",
       "      <td>1449.46</td>\n",
       "      <td>2499.13</td>\n",
       "    </tr>\n",
       "    <tr>\n",
       "      <th>rougher.state.floatbank10_c_level</th>\n",
       "      <td>19438.00</td>\n",
       "      <td>-467.72</td>\n",
       "      <td>53.53</td>\n",
       "      <td>-647.54</td>\n",
       "      <td>-500.22</td>\n",
       "      <td>-499.71</td>\n",
       "      <td>-400.99</td>\n",
       "      <td>-292.16</td>\n",
       "    </tr>\n",
       "    <tr>\n",
       "      <th>rougher.state.floatbank10_d_air</th>\n",
       "      <td>19439.00</td>\n",
       "      <td>1211.56</td>\n",
       "      <td>204.02</td>\n",
       "      <td>-0.99</td>\n",
       "      <td>1061.05</td>\n",
       "      <td>1201.57</td>\n",
       "      <td>1352.88</td>\n",
       "      <td>1817.20</td>\n",
       "    </tr>\n",
       "    <tr>\n",
       "      <th>rougher.state.floatbank10_d_level</th>\n",
       "      <td>19439.00</td>\n",
       "      <td>-468.24</td>\n",
       "      <td>53.92</td>\n",
       "      <td>-648.39</td>\n",
       "      <td>-500.39</td>\n",
       "      <td>-499.53</td>\n",
       "      <td>-401.64</td>\n",
       "      <td>-76.40</td>\n",
       "    </tr>\n",
       "    <tr>\n",
       "      <th>rougher.state.floatbank10_e_air</th>\n",
       "      <td>19003.00</td>\n",
       "      <td>1080.87</td>\n",
       "      <td>172.15</td>\n",
       "      <td>-1.98</td>\n",
       "      <td>998.68</td>\n",
       "      <td>1050.03</td>\n",
       "      <td>1199.43</td>\n",
       "      <td>1922.64</td>\n",
       "    </tr>\n",
       "    <tr>\n",
       "      <th>rougher.state.floatbank10_e_level</th>\n",
       "      <td>19439.00</td>\n",
       "      <td>-466.04</td>\n",
       "      <td>57.38</td>\n",
       "      <td>-649.44</td>\n",
       "      <td>-500.23</td>\n",
       "      <td>-499.66</td>\n",
       "      <td>-401.16</td>\n",
       "      <td>-139.75</td>\n",
       "    </tr>\n",
       "    <tr>\n",
       "      <th>rougher.state.floatbank10_f_air</th>\n",
       "      <td>19439.00</td>\n",
       "      <td>1025.27</td>\n",
       "      <td>164.49</td>\n",
       "      <td>-2.59</td>\n",
       "      <td>901.00</td>\n",
       "      <td>999.92</td>\n",
       "      <td>1099.72</td>\n",
       "      <td>1706.31</td>\n",
       "    </tr>\n",
       "    <tr>\n",
       "      <th>rougher.state.floatbank10_f_level</th>\n",
       "      <td>19439.00</td>\n",
       "      <td>-466.27</td>\n",
       "      <td>57.85</td>\n",
       "      <td>-649.95</td>\n",
       "      <td>-500.52</td>\n",
       "      <td>-499.47</td>\n",
       "      <td>-401.51</td>\n",
       "      <td>-191.72</td>\n",
       "    </tr>\n",
       "    <tr>\n",
       "      <th>rougher.input.floatbank11_sulfate</th>\n",
       "      <td>19395.00</td>\n",
       "      <td>12.06</td>\n",
       "      <td>3.78</td>\n",
       "      <td>0.00</td>\n",
       "      <td>10.00</td>\n",
       "      <td>12.00</td>\n",
       "      <td>14.64</td>\n",
       "      <td>37.98</td>\n",
       "    </tr>\n",
       "    <tr>\n",
       "      <th>rougher.input.floatbank11_xanthate</th>\n",
       "      <td>18986.00</td>\n",
       "      <td>6.07</td>\n",
       "      <td>1.10</td>\n",
       "      <td>0.00</td>\n",
       "      <td>5.40</td>\n",
       "      <td>6.10</td>\n",
       "      <td>6.80</td>\n",
       "      <td>9.70</td>\n",
       "    </tr>\n",
       "    <tr>\n",
       "      <th>rougher.calculation.sulfate_to_au_concentrate</th>\n",
       "      <td>19437.00</td>\n",
       "      <td>42171.19</td>\n",
       "      <td>324362.11</td>\n",
       "      <td>-42235197.37</td>\n",
       "      <td>40700.95</td>\n",
       "      <td>44696.48</td>\n",
       "      <td>48168.21</td>\n",
       "      <td>3428098.94</td>\n",
       "    </tr>\n",
       "    <tr>\n",
       "      <th>rougher.calculation.floatbank10_sulfate_to_au_feed</th>\n",
       "      <td>19437.00</td>\n",
       "      <td>3393.05</td>\n",
       "      <td>4943.85</td>\n",
       "      <td>-486.60</td>\n",
       "      <td>2611.43</td>\n",
       "      <td>3018.35</td>\n",
       "      <td>3676.77</td>\n",
       "      <td>629638.98</td>\n",
       "    </tr>\n",
       "    <tr>\n",
       "      <th>rougher.calculation.floatbank11_sulfate_to_au_feed</th>\n",
       "      <td>19437.00</td>\n",
       "      <td>3256.85</td>\n",
       "      <td>5781.42</td>\n",
       "      <td>-264.98</td>\n",
       "      <td>2551.44</td>\n",
       "      <td>2997.22</td>\n",
       "      <td>3602.00</td>\n",
       "      <td>718684.96</td>\n",
       "    </tr>\n",
       "    <tr>\n",
       "      <th>rougher.calculation.au_pb_ratio</th>\n",
       "      <td>19439.00</td>\n",
       "      <td>2.42</td>\n",
       "      <td>0.81</td>\n",
       "      <td>-0.01</td>\n",
       "      <td>2.04</td>\n",
       "      <td>2.31</td>\n",
       "      <td>2.73</td>\n",
       "      <td>39.38</td>\n",
       "    </tr>\n",
       "    <tr>\n",
       "      <th>rougher.output.concentrate_au</th>\n",
       "      <td>19439.00</td>\n",
       "      <td>19.77</td>\n",
       "      <td>3.75</td>\n",
       "      <td>0.00</td>\n",
       "      <td>18.80</td>\n",
       "      <td>20.28</td>\n",
       "      <td>21.72</td>\n",
       "      <td>28.82</td>\n",
       "    </tr>\n",
       "    <tr>\n",
       "      <th>rougher.output.concentrate_ag</th>\n",
       "      <td>19439.00</td>\n",
       "      <td>11.99</td>\n",
       "      <td>2.73</td>\n",
       "      <td>0.00</td>\n",
       "      <td>10.63</td>\n",
       "      <td>12.10</td>\n",
       "      <td>13.74</td>\n",
       "      <td>24.48</td>\n",
       "    </tr>\n",
       "    <tr>\n",
       "      <th>rougher.output.concentrate_pb</th>\n",
       "      <td>19439.00</td>\n",
       "      <td>7.61</td>\n",
       "      <td>1.80</td>\n",
       "      <td>0.00</td>\n",
       "      <td>6.73</td>\n",
       "      <td>7.74</td>\n",
       "      <td>8.57</td>\n",
       "      <td>13.62</td>\n",
       "    </tr>\n",
       "    <tr>\n",
       "      <th>rougher.output.concentrate_sol</th>\n",
       "      <td>19416.00</td>\n",
       "      <td>28.81</td>\n",
       "      <td>5.94</td>\n",
       "      <td>0.00</td>\n",
       "      <td>27.22</td>\n",
       "      <td>29.84</td>\n",
       "      <td>32.19</td>\n",
       "      <td>38.35</td>\n",
       "    </tr>\n",
       "    <tr>\n",
       "      <th>rougher.output.recovery</th>\n",
       "      <td>19439.00</td>\n",
       "      <td>83.33</td>\n",
       "      <td>14.15</td>\n",
       "      <td>0.00</td>\n",
       "      <td>81.04</td>\n",
       "      <td>86.19</td>\n",
       "      <td>90.01</td>\n",
       "      <td>100.00</td>\n",
       "    </tr>\n",
       "    <tr>\n",
       "      <th>rougher.output.tail_au</th>\n",
       "      <td>19439.00</td>\n",
       "      <td>1.82</td>\n",
       "      <td>0.68</td>\n",
       "      <td>0.02</td>\n",
       "      <td>1.40</td>\n",
       "      <td>1.81</td>\n",
       "      <td>2.21</td>\n",
       "      <td>9.69</td>\n",
       "    </tr>\n",
       "    <tr>\n",
       "      <th>rougher.output.tail_ag</th>\n",
       "      <td>19438.00</td>\n",
       "      <td>5.59</td>\n",
       "      <td>1.11</td>\n",
       "      <td>0.59</td>\n",
       "      <td>4.89</td>\n",
       "      <td>5.77</td>\n",
       "      <td>6.39</td>\n",
       "      <td>12.72</td>\n",
       "    </tr>\n",
       "    <tr>\n",
       "      <th>rougher.output.tail_pb</th>\n",
       "      <td>19439.00</td>\n",
       "      <td>0.65</td>\n",
       "      <td>0.25</td>\n",
       "      <td>0.01</td>\n",
       "      <td>0.48</td>\n",
       "      <td>0.62</td>\n",
       "      <td>0.78</td>\n",
       "      <td>3.78</td>\n",
       "    </tr>\n",
       "    <tr>\n",
       "      <th>rougher.output.tail_sol</th>\n",
       "      <td>19439.00</td>\n",
       "      <td>18.06</td>\n",
       "      <td>3.45</td>\n",
       "      <td>10.01</td>\n",
       "      <td>15.82</td>\n",
       "      <td>18.11</td>\n",
       "      <td>20.09</td>\n",
       "      <td>66.12</td>\n",
       "    </tr>\n",
       "    <tr>\n",
       "      <th>primary_cleaner.input.sulfate</th>\n",
       "      <td>19415.00</td>\n",
       "      <td>144.62</td>\n",
       "      <td>44.46</td>\n",
       "      <td>0.00</td>\n",
       "      <td>114.11</td>\n",
       "      <td>143.23</td>\n",
       "      <td>175.08</td>\n",
       "      <td>265.98</td>\n",
       "    </tr>\n",
       "    <tr>\n",
       "      <th>primary_cleaner.input.depressant</th>\n",
       "      <td>19402.00</td>\n",
       "      <td>8.82</td>\n",
       "      <td>3.29</td>\n",
       "      <td>0.00</td>\n",
       "      <td>6.08</td>\n",
       "      <td>8.04</td>\n",
       "      <td>11.01</td>\n",
       "      <td>40.00</td>\n",
       "    </tr>\n",
       "    <tr>\n",
       "      <th>primary_cleaner.input.feed_size</th>\n",
       "      <td>19439.00</td>\n",
       "      <td>7.31</td>\n",
       "      <td>0.61</td>\n",
       "      <td>1.08</td>\n",
       "      <td>6.94</td>\n",
       "      <td>7.28</td>\n",
       "      <td>7.67</td>\n",
       "      <td>15.50</td>\n",
       "    </tr>\n",
       "    <tr>\n",
       "      <th>primary_cleaner.input.xanthate</th>\n",
       "      <td>19335.00</td>\n",
       "      <td>1.02</td>\n",
       "      <td>0.51</td>\n",
       "      <td>0.00</td>\n",
       "      <td>0.70</td>\n",
       "      <td>0.94</td>\n",
       "      <td>1.21</td>\n",
       "      <td>4.10</td>\n",
       "    </tr>\n",
       "    <tr>\n",
       "      <th>primary_cleaner.state.floatbank8_a_air</th>\n",
       "      <td>19435.00</td>\n",
       "      <td>1589.35</td>\n",
       "      <td>129.00</td>\n",
       "      <td>0.00</td>\n",
       "      <td>1505.06</td>\n",
       "      <td>1600.60</td>\n",
       "      <td>1697.66</td>\n",
       "      <td>2103.10</td>\n",
       "    </tr>\n",
       "    <tr>\n",
       "      <th>primary_cleaner.state.floatbank8_a_level</th>\n",
       "      <td>19438.00</td>\n",
       "      <td>-491.20</td>\n",
       "      <td>32.43</td>\n",
       "      <td>-798.64</td>\n",
       "      <td>-500.31</td>\n",
       "      <td>-499.93</td>\n",
       "      <td>-499.43</td>\n",
       "      <td>-57.20</td>\n",
       "    </tr>\n",
       "    <tr>\n",
       "      <th>primary_cleaner.state.floatbank8_b_air</th>\n",
       "      <td>19435.00</td>\n",
       "      <td>1591.34</td>\n",
       "      <td>131.81</td>\n",
       "      <td>0.00</td>\n",
       "      <td>1503.63</td>\n",
       "      <td>1600.52</td>\n",
       "      <td>1699.22</td>\n",
       "      <td>2114.91</td>\n",
       "    </tr>\n",
       "    <tr>\n",
       "      <th>primary_cleaner.state.floatbank8_b_level</th>\n",
       "      <td>19438.00</td>\n",
       "      <td>-492.19</td>\n",
       "      <td>33.79</td>\n",
       "      <td>-800.00</td>\n",
       "      <td>-500.44</td>\n",
       "      <td>-499.96</td>\n",
       "      <td>-499.37</td>\n",
       "      <td>-142.53</td>\n",
       "    </tr>\n",
       "  </tbody>\n",
       "</table>\n",
       "</div>"
      ],
      "text/plain": [
       "                                                      count     mean  \\\n",
       "rougher.input.feed_au                              19439.00     8.27   \n",
       "rougher.input.feed_ag                              19439.00     8.79   \n",
       "rougher.input.feed_pb                              19339.00     3.60   \n",
       "rougher.input.feed_sol                             19340.00    36.70   \n",
       "rougher.input.feed_rate                            19428.00   478.32   \n",
       "rougher.input.feed_size                            19294.00    58.97   \n",
       "rougher.input.floatbank10_sulfate                  19405.00    12.33   \n",
       "rougher.input.floatbank10_xanthate                 19431.00     6.02   \n",
       "rougher.state.floatbank10_a_air                    19438.00  1105.32   \n",
       "rougher.state.floatbank10_a_level                  19438.00  -376.61   \n",
       "rougher.state.floatbank10_b_air                    19438.00  1320.22   \n",
       "rougher.state.floatbank10_b_level                  19438.00  -467.25   \n",
       "rougher.state.floatbank10_c_air                    19438.00  1299.97   \n",
       "rougher.state.floatbank10_c_level                  19438.00  -467.72   \n",
       "rougher.state.floatbank10_d_air                    19439.00  1211.56   \n",
       "rougher.state.floatbank10_d_level                  19439.00  -468.24   \n",
       "rougher.state.floatbank10_e_air                    19003.00  1080.87   \n",
       "rougher.state.floatbank10_e_level                  19439.00  -466.04   \n",
       "rougher.state.floatbank10_f_air                    19439.00  1025.27   \n",
       "rougher.state.floatbank10_f_level                  19439.00  -466.27   \n",
       "rougher.input.floatbank11_sulfate                  19395.00    12.06   \n",
       "rougher.input.floatbank11_xanthate                 18986.00     6.07   \n",
       "rougher.calculation.sulfate_to_au_concentrate      19437.00 42171.19   \n",
       "rougher.calculation.floatbank10_sulfate_to_au_feed 19437.00  3393.05   \n",
       "rougher.calculation.floatbank11_sulfate_to_au_feed 19437.00  3256.85   \n",
       "rougher.calculation.au_pb_ratio                    19439.00     2.42   \n",
       "rougher.output.concentrate_au                      19439.00    19.77   \n",
       "rougher.output.concentrate_ag                      19439.00    11.99   \n",
       "rougher.output.concentrate_pb                      19439.00     7.61   \n",
       "rougher.output.concentrate_sol                     19416.00    28.81   \n",
       "rougher.output.recovery                            19439.00    83.33   \n",
       "rougher.output.tail_au                             19439.00     1.82   \n",
       "rougher.output.tail_ag                             19438.00     5.59   \n",
       "rougher.output.tail_pb                             19439.00     0.65   \n",
       "rougher.output.tail_sol                            19439.00    18.06   \n",
       "primary_cleaner.input.sulfate                      19415.00   144.62   \n",
       "primary_cleaner.input.depressant                   19402.00     8.82   \n",
       "primary_cleaner.input.feed_size                    19439.00     7.31   \n",
       "primary_cleaner.input.xanthate                     19335.00     1.02   \n",
       "primary_cleaner.state.floatbank8_a_air             19435.00  1589.35   \n",
       "primary_cleaner.state.floatbank8_a_level           19438.00  -491.20   \n",
       "primary_cleaner.state.floatbank8_b_air             19435.00  1591.34   \n",
       "primary_cleaner.state.floatbank8_b_level           19438.00  -492.19   \n",
       "\n",
       "                                                         std          min  \\\n",
       "rougher.input.feed_au                                   1.96         0.01   \n",
       "rougher.input.feed_ag                                   1.94         0.01   \n",
       "rougher.input.feed_pb                                   1.05         0.01   \n",
       "rougher.input.feed_sol                                  5.15         0.01   \n",
       "rougher.input.feed_rate                               105.37         0.00   \n",
       "rougher.input.feed_size                                21.63         0.05   \n",
       "rougher.input.floatbank10_sulfate                       3.43         0.00   \n",
       "rougher.input.floatbank10_xanthate                      1.13         0.00   \n",
       "rougher.state.floatbank10_a_air                       160.83        -0.04   \n",
       "rougher.state.floatbank10_a_level                      93.91      -657.95   \n",
       "rougher.state.floatbank10_b_air                       176.29        -0.72   \n",
       "rougher.state.floatbank10_b_level                      54.67      -650.26   \n",
       "rougher.state.floatbank10_c_air                       202.80        -0.06   \n",
       "rougher.state.floatbank10_c_level                      53.53      -647.54   \n",
       "rougher.state.floatbank10_d_air                       204.02        -0.99   \n",
       "rougher.state.floatbank10_d_level                      53.92      -648.39   \n",
       "rougher.state.floatbank10_e_air                       172.15        -1.98   \n",
       "rougher.state.floatbank10_e_level                      57.38      -649.44   \n",
       "rougher.state.floatbank10_f_air                       164.49        -2.59   \n",
       "rougher.state.floatbank10_f_level                      57.85      -649.95   \n",
       "rougher.input.floatbank11_sulfate                       3.78         0.00   \n",
       "rougher.input.floatbank11_xanthate                      1.10         0.00   \n",
       "rougher.calculation.sulfate_to_au_concentrate      324362.11 -42235197.37   \n",
       "rougher.calculation.floatbank10_sulfate_to_au_feed   4943.85      -486.60   \n",
       "rougher.calculation.floatbank11_sulfate_to_au_feed   5781.42      -264.98   \n",
       "rougher.calculation.au_pb_ratio                         0.81        -0.01   \n",
       "rougher.output.concentrate_au                           3.75         0.00   \n",
       "rougher.output.concentrate_ag                           2.73         0.00   \n",
       "rougher.output.concentrate_pb                           1.80         0.00   \n",
       "rougher.output.concentrate_sol                          5.94         0.00   \n",
       "rougher.output.recovery                                14.15         0.00   \n",
       "rougher.output.tail_au                                  0.68         0.02   \n",
       "rougher.output.tail_ag                                  1.11         0.59   \n",
       "rougher.output.tail_pb                                  0.25         0.01   \n",
       "rougher.output.tail_sol                                 3.45        10.01   \n",
       "primary_cleaner.input.sulfate                          44.46         0.00   \n",
       "primary_cleaner.input.depressant                        3.29         0.00   \n",
       "primary_cleaner.input.feed_size                         0.61         1.08   \n",
       "primary_cleaner.input.xanthate                          0.51         0.00   \n",
       "primary_cleaner.state.floatbank8_a_air                129.00         0.00   \n",
       "primary_cleaner.state.floatbank8_a_level               32.43      -798.64   \n",
       "primary_cleaner.state.floatbank8_b_air                131.81         0.00   \n",
       "primary_cleaner.state.floatbank8_b_level               33.79      -800.00   \n",
       "\n",
       "                                                        25%      50%      75%  \\\n",
       "rougher.input.feed_au                                  6.85     8.13     9.77   \n",
       "rougher.input.feed_ag                                  7.24     8.59    10.21   \n",
       "rougher.input.feed_pb                                  2.89     3.53     4.24   \n",
       "rougher.input.feed_sol                                34.21    37.20    40.04   \n",
       "rougher.input.feed_rate                              416.53   499.42   550.17   \n",
       "rougher.input.feed_size                               47.44    54.61    65.02   \n",
       "rougher.input.floatbank10_sulfate                     10.00    12.00    14.72   \n",
       "rougher.input.floatbank10_xanthate                     5.40     6.01     6.80   \n",
       "rougher.state.floatbank10_a_air                      999.66  1001.07  1205.62   \n",
       "rougher.state.floatbank10_a_level                   -499.84  -300.26  -299.98   \n",
       "rougher.state.floatbank10_b_air                     1199.63  1301.58  1448.63   \n",
       "rougher.state.floatbank10_b_level                   -500.20  -499.78  -400.62   \n",
       "rougher.state.floatbank10_c_air                     1151.08  1300.21  1449.46   \n",
       "rougher.state.floatbank10_c_level                   -500.22  -499.71  -400.99   \n",
       "rougher.state.floatbank10_d_air                     1061.05  1201.57  1352.88   \n",
       "rougher.state.floatbank10_d_level                   -500.39  -499.53  -401.64   \n",
       "rougher.state.floatbank10_e_air                      998.68  1050.03  1199.43   \n",
       "rougher.state.floatbank10_e_level                   -500.23  -499.66  -401.16   \n",
       "rougher.state.floatbank10_f_air                      901.00   999.92  1099.72   \n",
       "rougher.state.floatbank10_f_level                   -500.52  -499.47  -401.51   \n",
       "rougher.input.floatbank11_sulfate                     10.00    12.00    14.64   \n",
       "rougher.input.floatbank11_xanthate                     5.40     6.10     6.80   \n",
       "rougher.calculation.sulfate_to_au_concentrate      40700.95 44696.48 48168.21   \n",
       "rougher.calculation.floatbank10_sulfate_to_au_feed  2611.43  3018.35  3676.77   \n",
       "rougher.calculation.floatbank11_sulfate_to_au_feed  2551.44  2997.22  3602.00   \n",
       "rougher.calculation.au_pb_ratio                        2.04     2.31     2.73   \n",
       "rougher.output.concentrate_au                         18.80    20.28    21.72   \n",
       "rougher.output.concentrate_ag                         10.63    12.10    13.74   \n",
       "rougher.output.concentrate_pb                          6.73     7.74     8.57   \n",
       "rougher.output.concentrate_sol                        27.22    29.84    32.19   \n",
       "rougher.output.recovery                               81.04    86.19    90.01   \n",
       "rougher.output.tail_au                                 1.40     1.81     2.21   \n",
       "rougher.output.tail_ag                                 4.89     5.77     6.39   \n",
       "rougher.output.tail_pb                                 0.48     0.62     0.78   \n",
       "rougher.output.tail_sol                               15.82    18.11    20.09   \n",
       "primary_cleaner.input.sulfate                        114.11   143.23   175.08   \n",
       "primary_cleaner.input.depressant                       6.08     8.04    11.01   \n",
       "primary_cleaner.input.feed_size                        6.94     7.28     7.67   \n",
       "primary_cleaner.input.xanthate                         0.70     0.94     1.21   \n",
       "primary_cleaner.state.floatbank8_a_air              1505.06  1600.60  1697.66   \n",
       "primary_cleaner.state.floatbank8_a_level            -500.31  -499.93  -499.43   \n",
       "primary_cleaner.state.floatbank8_b_air              1503.63  1600.52  1699.22   \n",
       "primary_cleaner.state.floatbank8_b_level            -500.44  -499.96  -499.37   \n",
       "\n",
       "                                                          max  \n",
       "rougher.input.feed_au                                   13.73  \n",
       "rougher.input.feed_ag                                   14.60  \n",
       "rougher.input.feed_pb                                    7.14  \n",
       "rougher.input.feed_sol                                  53.48  \n",
       "rougher.input.feed_rate                                717.51  \n",
       "rougher.input.feed_size                                484.97  \n",
       "rougher.input.floatbank10_sulfate                       36.12  \n",
       "rougher.input.floatbank10_xanthate                       9.70  \n",
       "rougher.state.floatbank10_a_air                       1521.98  \n",
       "rougher.state.floatbank10_a_level                     -273.78  \n",
       "rougher.state.floatbank10_b_air                       1809.19  \n",
       "rougher.state.floatbank10_b_level                     -296.38  \n",
       "rougher.state.floatbank10_c_air                       2499.13  \n",
       "rougher.state.floatbank10_c_level                     -292.16  \n",
       "rougher.state.floatbank10_d_air                       1817.20  \n",
       "rougher.state.floatbank10_d_level                      -76.40  \n",
       "rougher.state.floatbank10_e_air                       1922.64  \n",
       "rougher.state.floatbank10_e_level                     -139.75  \n",
       "rougher.state.floatbank10_f_air                       1706.31  \n",
       "rougher.state.floatbank10_f_level                     -191.72  \n",
       "rougher.input.floatbank11_sulfate                       37.98  \n",
       "rougher.input.floatbank11_xanthate                       9.70  \n",
       "rougher.calculation.sulfate_to_au_concentrate      3428098.94  \n",
       "rougher.calculation.floatbank10_sulfate_to_au_feed  629638.98  \n",
       "rougher.calculation.floatbank11_sulfate_to_au_feed  718684.96  \n",
       "rougher.calculation.au_pb_ratio                         39.38  \n",
       "rougher.output.concentrate_au                           28.82  \n",
       "rougher.output.concentrate_ag                           24.48  \n",
       "rougher.output.concentrate_pb                           13.62  \n",
       "rougher.output.concentrate_sol                          38.35  \n",
       "rougher.output.recovery                                100.00  \n",
       "rougher.output.tail_au                                   9.69  \n",
       "rougher.output.tail_ag                                  12.72  \n",
       "rougher.output.tail_pb                                   3.78  \n",
       "rougher.output.tail_sol                                 66.12  \n",
       "primary_cleaner.input.sulfate                          265.98  \n",
       "primary_cleaner.input.depressant                        40.00  \n",
       "primary_cleaner.input.feed_size                         15.50  \n",
       "primary_cleaner.input.xanthate                           4.10  \n",
       "primary_cleaner.state.floatbank8_a_air                2103.10  \n",
       "primary_cleaner.state.floatbank8_a_level               -57.20  \n",
       "primary_cleaner.state.floatbank8_b_air                2114.91  \n",
       "primary_cleaner.state.floatbank8_b_level              -142.53  "
      ]
     },
     "execution_count": 9,
     "metadata": {},
     "output_type": "execute_result"
    }
   ],
   "source": [
    "# Cводная информация обо всех интересующих параметрах:\n",
    "df.describe().T.head(43)"
   ]
  },
  {
   "cell_type": "code",
   "execution_count": 10,
   "metadata": {},
   "outputs": [
    {
     "data": {
      "text/html": [
       "<div>\n",
       "<style scoped>\n",
       "    .dataframe tbody tr th:only-of-type {\n",
       "        vertical-align: middle;\n",
       "    }\n",
       "\n",
       "    .dataframe tbody tr th {\n",
       "        vertical-align: top;\n",
       "    }\n",
       "\n",
       "    .dataframe thead th {\n",
       "        text-align: right;\n",
       "    }\n",
       "</style>\n",
       "<table border=\"1\" class=\"dataframe\">\n",
       "  <thead>\n",
       "    <tr style=\"text-align: right;\">\n",
       "      <th></th>\n",
       "      <th>count</th>\n",
       "      <th>mean</th>\n",
       "      <th>std</th>\n",
       "      <th>min</th>\n",
       "      <th>25%</th>\n",
       "      <th>50%</th>\n",
       "      <th>75%</th>\n",
       "      <th>max</th>\n",
       "    </tr>\n",
       "  </thead>\n",
       "  <tbody>\n",
       "    <tr>\n",
       "      <th>primary_cleaner.state.floatbank8_b_level</th>\n",
       "      <td>19438.00</td>\n",
       "      <td>-492.19</td>\n",
       "      <td>33.79</td>\n",
       "      <td>-800.00</td>\n",
       "      <td>-500.44</td>\n",
       "      <td>-499.96</td>\n",
       "      <td>-499.37</td>\n",
       "      <td>-142.53</td>\n",
       "    </tr>\n",
       "    <tr>\n",
       "      <th>primary_cleaner.state.floatbank8_c_air</th>\n",
       "      <td>19437.00</td>\n",
       "      <td>1586.67</td>\n",
       "      <td>136.11</td>\n",
       "      <td>0.00</td>\n",
       "      <td>1500.93</td>\n",
       "      <td>1600.25</td>\n",
       "      <td>1699.48</td>\n",
       "      <td>2013.16</td>\n",
       "    </tr>\n",
       "    <tr>\n",
       "      <th>primary_cleaner.state.floatbank8_c_level</th>\n",
       "      <td>19438.00</td>\n",
       "      <td>-491.98</td>\n",
       "      <td>32.71</td>\n",
       "      <td>-799.96</td>\n",
       "      <td>-500.70</td>\n",
       "      <td>-499.91</td>\n",
       "      <td>-498.86</td>\n",
       "      <td>-150.94</td>\n",
       "    </tr>\n",
       "    <tr>\n",
       "      <th>primary_cleaner.state.floatbank8_d_air</th>\n",
       "      <td>19436.00</td>\n",
       "      <td>1542.91</td>\n",
       "      <td>246.20</td>\n",
       "      <td>0.00</td>\n",
       "      <td>1494.22</td>\n",
       "      <td>1599.45</td>\n",
       "      <td>1698.52</td>\n",
       "      <td>2398.90</td>\n",
       "    </tr>\n",
       "    <tr>\n",
       "      <th>primary_cleaner.state.floatbank8_d_level</th>\n",
       "      <td>19438.00</td>\n",
       "      <td>-488.02</td>\n",
       "      <td>43.96</td>\n",
       "      <td>-799.79</td>\n",
       "      <td>-500.46</td>\n",
       "      <td>-499.91</td>\n",
       "      <td>-499.06</td>\n",
       "      <td>-30.60</td>\n",
       "    </tr>\n",
       "    <tr>\n",
       "      <th>primary_cleaner.output.concentrate_au</th>\n",
       "      <td>19439.00</td>\n",
       "      <td>32.12</td>\n",
       "      <td>5.63</td>\n",
       "      <td>0.00</td>\n",
       "      <td>30.46</td>\n",
       "      <td>32.84</td>\n",
       "      <td>35.05</td>\n",
       "      <td>45.93</td>\n",
       "    </tr>\n",
       "    <tr>\n",
       "      <th>primary_cleaner.output.concentrate_ag</th>\n",
       "      <td>19439.00</td>\n",
       "      <td>8.44</td>\n",
       "      <td>2.05</td>\n",
       "      <td>0.00</td>\n",
       "      <td>7.26</td>\n",
       "      <td>8.51</td>\n",
       "      <td>9.81</td>\n",
       "      <td>16.08</td>\n",
       "    </tr>\n",
       "    <tr>\n",
       "      <th>primary_cleaner.output.concentrate_pb</th>\n",
       "      <td>19323.00</td>\n",
       "      <td>9.83</td>\n",
       "      <td>2.56</td>\n",
       "      <td>0.00</td>\n",
       "      <td>8.70</td>\n",
       "      <td>10.15</td>\n",
       "      <td>11.42</td>\n",
       "      <td>17.08</td>\n",
       "    </tr>\n",
       "    <tr>\n",
       "      <th>primary_cleaner.output.concentrate_sol</th>\n",
       "      <td>19069.00</td>\n",
       "      <td>10.49</td>\n",
       "      <td>3.91</td>\n",
       "      <td>0.00</td>\n",
       "      <td>7.89</td>\n",
       "      <td>10.31</td>\n",
       "      <td>13.45</td>\n",
       "      <td>22.46</td>\n",
       "    </tr>\n",
       "    <tr>\n",
       "      <th>primary_cleaner.output.tail_au</th>\n",
       "      <td>19439.00</td>\n",
       "      <td>3.91</td>\n",
       "      <td>1.59</td>\n",
       "      <td>0.00</td>\n",
       "      <td>2.92</td>\n",
       "      <td>3.62</td>\n",
       "      <td>4.59</td>\n",
       "      <td>17.79</td>\n",
       "    </tr>\n",
       "    <tr>\n",
       "      <th>primary_cleaner.output.tail_ag</th>\n",
       "      <td>19435.00</td>\n",
       "      <td>16.15</td>\n",
       "      <td>3.55</td>\n",
       "      <td>0.00</td>\n",
       "      <td>14.02</td>\n",
       "      <td>15.84</td>\n",
       "      <td>18.01</td>\n",
       "      <td>29.46</td>\n",
       "    </tr>\n",
       "    <tr>\n",
       "      <th>primary_cleaner.output.tail_pb</th>\n",
       "      <td>19418.00</td>\n",
       "      <td>3.44</td>\n",
       "      <td>1.39</td>\n",
       "      <td>0.00</td>\n",
       "      <td>2.50</td>\n",
       "      <td>3.27</td>\n",
       "      <td>4.18</td>\n",
       "      <td>9.63</td>\n",
       "    </tr>\n",
       "    <tr>\n",
       "      <th>primary_cleaner.output.tail_sol</th>\n",
       "      <td>19377.00</td>\n",
       "      <td>7.97</td>\n",
       "      <td>2.21</td>\n",
       "      <td>0.00</td>\n",
       "      <td>6.75</td>\n",
       "      <td>8.18</td>\n",
       "      <td>9.55</td>\n",
       "      <td>22.28</td>\n",
       "    </tr>\n",
       "    <tr>\n",
       "      <th>secondary_cleaner.state.floatbank2_a_air</th>\n",
       "      <td>19219.00</td>\n",
       "      <td>28.71</td>\n",
       "      <td>5.46</td>\n",
       "      <td>0.08</td>\n",
       "      <td>25.05</td>\n",
       "      <td>29.10</td>\n",
       "      <td>33.01</td>\n",
       "      <td>52.65</td>\n",
       "    </tr>\n",
       "    <tr>\n",
       "      <th>secondary_cleaner.state.floatbank2_a_level</th>\n",
       "      <td>19438.00</td>\n",
       "      <td>-502.37</td>\n",
       "      <td>53.57</td>\n",
       "      <td>-799.61</td>\n",
       "      <td>-500.23</td>\n",
       "      <td>-499.97</td>\n",
       "      <td>-499.67</td>\n",
       "      <td>-127.88</td>\n",
       "    </tr>\n",
       "    <tr>\n",
       "      <th>secondary_cleaner.state.floatbank2_b_air</th>\n",
       "      <td>19416.00</td>\n",
       "      <td>24.11</td>\n",
       "      <td>5.75</td>\n",
       "      <td>0.00</td>\n",
       "      <td>20.92</td>\n",
       "      <td>25.04</td>\n",
       "      <td>28.01</td>\n",
       "      <td>35.15</td>\n",
       "    </tr>\n",
       "    <tr>\n",
       "      <th>secondary_cleaner.state.floatbank2_b_level</th>\n",
       "      <td>19438.00</td>\n",
       "      <td>-503.23</td>\n",
       "      <td>56.57</td>\n",
       "      <td>-799.87</td>\n",
       "      <td>-500.25</td>\n",
       "      <td>-500.02</td>\n",
       "      <td>-499.79</td>\n",
       "      <td>-212.00</td>\n",
       "    </tr>\n",
       "    <tr>\n",
       "      <th>secondary_cleaner.state.floatbank3_a_air</th>\n",
       "      <td>19426.00</td>\n",
       "      <td>28.20</td>\n",
       "      <td>6.13</td>\n",
       "      <td>0.00</td>\n",
       "      <td>24.95</td>\n",
       "      <td>27.98</td>\n",
       "      <td>33.00</td>\n",
       "      <td>44.26</td>\n",
       "    </tr>\n",
       "    <tr>\n",
       "      <th>secondary_cleaner.state.floatbank3_a_level</th>\n",
       "      <td>19438.00</td>\n",
       "      <td>-486.20</td>\n",
       "      <td>54.41</td>\n",
       "      <td>-799.76</td>\n",
       "      <td>-500.21</td>\n",
       "      <td>-499.93</td>\n",
       "      <td>-499.33</td>\n",
       "      <td>-191.68</td>\n",
       "    </tr>\n",
       "    <tr>\n",
       "      <th>secondary_cleaner.state.floatbank3_b_air</th>\n",
       "      <td>19438.00</td>\n",
       "      <td>22.20</td>\n",
       "      <td>5.57</td>\n",
       "      <td>0.00</td>\n",
       "      <td>19.00</td>\n",
       "      <td>22.01</td>\n",
       "      <td>26.00</td>\n",
       "      <td>35.07</td>\n",
       "    </tr>\n",
       "    <tr>\n",
       "      <th>secondary_cleaner.state.floatbank3_b_level</th>\n",
       "      <td>19438.00</td>\n",
       "      <td>-493.74</td>\n",
       "      <td>43.37</td>\n",
       "      <td>-809.33</td>\n",
       "      <td>-500.12</td>\n",
       "      <td>-499.98</td>\n",
       "      <td>-499.81</td>\n",
       "      <td>-159.74</td>\n",
       "    </tr>\n",
       "    <tr>\n",
       "      <th>secondary_cleaner.state.floatbank4_a_air</th>\n",
       "      <td>19433.00</td>\n",
       "      <td>18.99</td>\n",
       "      <td>5.41</td>\n",
       "      <td>0.00</td>\n",
       "      <td>14.98</td>\n",
       "      <td>18.02</td>\n",
       "      <td>23.01</td>\n",
       "      <td>30.12</td>\n",
       "    </tr>\n",
       "    <tr>\n",
       "      <th>secondary_cleaner.state.floatbank4_a_level</th>\n",
       "      <td>19438.00</td>\n",
       "      <td>-485.89</td>\n",
       "      <td>47.76</td>\n",
       "      <td>-799.80</td>\n",
       "      <td>-500.70</td>\n",
       "      <td>-499.84</td>\n",
       "      <td>-498.25</td>\n",
       "      <td>-245.24</td>\n",
       "    </tr>\n",
       "    <tr>\n",
       "      <th>secondary_cleaner.state.floatbank4_b_air</th>\n",
       "      <td>19438.00</td>\n",
       "      <td>15.01</td>\n",
       "      <td>4.89</td>\n",
       "      <td>0.00</td>\n",
       "      <td>11.94</td>\n",
       "      <td>14.97</td>\n",
       "      <td>19.03</td>\n",
       "      <td>31.27</td>\n",
       "    </tr>\n",
       "    <tr>\n",
       "      <th>secondary_cleaner.state.floatbank4_b_level</th>\n",
       "      <td>19438.00</td>\n",
       "      <td>-461.08</td>\n",
       "      <td>67.41</td>\n",
       "      <td>-800.84</td>\n",
       "      <td>-500.19</td>\n",
       "      <td>-499.46</td>\n",
       "      <td>-400.12</td>\n",
       "      <td>-6.51</td>\n",
       "    </tr>\n",
       "    <tr>\n",
       "      <th>secondary_cleaner.state.floatbank5_a_air</th>\n",
       "      <td>19438.00</td>\n",
       "      <td>15.69</td>\n",
       "      <td>5.51</td>\n",
       "      <td>-0.37</td>\n",
       "      <td>10.99</td>\n",
       "      <td>15.00</td>\n",
       "      <td>18.03</td>\n",
       "      <td>43.71</td>\n",
       "    </tr>\n",
       "    <tr>\n",
       "      <th>secondary_cleaner.state.floatbank5_a_level</th>\n",
       "      <td>19438.00</td>\n",
       "      <td>-488.68</td>\n",
       "      <td>34.53</td>\n",
       "      <td>-797.32</td>\n",
       "      <td>-500.46</td>\n",
       "      <td>-499.80</td>\n",
       "      <td>-498.38</td>\n",
       "      <td>-244.48</td>\n",
       "    </tr>\n",
       "    <tr>\n",
       "      <th>secondary_cleaner.state.floatbank5_b_air</th>\n",
       "      <td>19438.00</td>\n",
       "      <td>12.20</td>\n",
       "      <td>5.33</td>\n",
       "      <td>0.53</td>\n",
       "      <td>8.97</td>\n",
       "      <td>11.02</td>\n",
       "      <td>14.02</td>\n",
       "      <td>27.93</td>\n",
       "    </tr>\n",
       "    <tr>\n",
       "      <th>secondary_cleaner.state.floatbank5_b_level</th>\n",
       "      <td>19438.00</td>\n",
       "      <td>-487.15</td>\n",
       "      <td>38.35</td>\n",
       "      <td>-800.22</td>\n",
       "      <td>-500.13</td>\n",
       "      <td>-499.94</td>\n",
       "      <td>-499.44</td>\n",
       "      <td>-137.74</td>\n",
       "    </tr>\n",
       "    <tr>\n",
       "      <th>secondary_cleaner.state.floatbank6_a_air</th>\n",
       "      <td>19437.00</td>\n",
       "      <td>18.96</td>\n",
       "      <td>5.55</td>\n",
       "      <td>-0.08</td>\n",
       "      <td>14.98</td>\n",
       "      <td>19.96</td>\n",
       "      <td>24.00</td>\n",
       "      <td>32.19</td>\n",
       "    </tr>\n",
       "    <tr>\n",
       "      <th>secondary_cleaner.state.floatbank6_a_level</th>\n",
       "      <td>19438.00</td>\n",
       "      <td>-505.44</td>\n",
       "      <td>37.69</td>\n",
       "      <td>-809.74</td>\n",
       "      <td>-500.73</td>\n",
       "      <td>-500.05</td>\n",
       "      <td>-499.50</td>\n",
       "      <td>-104.43</td>\n",
       "    </tr>\n",
       "    <tr>\n",
       "      <th>secondary_cleaner.output.tail_au</th>\n",
       "      <td>19439.00</td>\n",
       "      <td>4.34</td>\n",
       "      <td>2.33</td>\n",
       "      <td>0.00</td>\n",
       "      <td>3.18</td>\n",
       "      <td>4.07</td>\n",
       "      <td>5.06</td>\n",
       "      <td>26.81</td>\n",
       "    </tr>\n",
       "    <tr>\n",
       "      <th>secondary_cleaner.output.tail_ag</th>\n",
       "      <td>19437.00</td>\n",
       "      <td>14.59</td>\n",
       "      <td>4.27</td>\n",
       "      <td>0.00</td>\n",
       "      <td>12.64</td>\n",
       "      <td>15.64</td>\n",
       "      <td>17.36</td>\n",
       "      <td>23.26</td>\n",
       "    </tr>\n",
       "    <tr>\n",
       "      <th>secondary_cleaner.output.tail_pb</th>\n",
       "      <td>19427.00</td>\n",
       "      <td>5.78</td>\n",
       "      <td>2.77</td>\n",
       "      <td>0.00</td>\n",
       "      <td>3.86</td>\n",
       "      <td>5.34</td>\n",
       "      <td>7.79</td>\n",
       "      <td>17.04</td>\n",
       "    </tr>\n",
       "    <tr>\n",
       "      <th>secondary_cleaner.output.tail_sol</th>\n",
       "      <td>17691.00</td>\n",
       "      <td>7.17</td>\n",
       "      <td>3.92</td>\n",
       "      <td>0.00</td>\n",
       "      <td>3.85</td>\n",
       "      <td>7.69</td>\n",
       "      <td>10.41</td>\n",
       "      <td>26.00</td>\n",
       "    </tr>\n",
       "    <tr>\n",
       "      <th>final.output.concentrate_au</th>\n",
       "      <td>19439.00</td>\n",
       "      <td>44.08</td>\n",
       "      <td>5.13</td>\n",
       "      <td>0.00</td>\n",
       "      <td>43.40</td>\n",
       "      <td>45.01</td>\n",
       "      <td>46.28</td>\n",
       "      <td>52.76</td>\n",
       "    </tr>\n",
       "    <tr>\n",
       "      <th>final.output.concentrate_ag</th>\n",
       "      <td>19438.00</td>\n",
       "      <td>5.17</td>\n",
       "      <td>1.37</td>\n",
       "      <td>0.00</td>\n",
       "      <td>4.25</td>\n",
       "      <td>5.07</td>\n",
       "      <td>5.90</td>\n",
       "      <td>16.00</td>\n",
       "    </tr>\n",
       "    <tr>\n",
       "      <th>final.output.concentrate_pb</th>\n",
       "      <td>19438.00</td>\n",
       "      <td>9.98</td>\n",
       "      <td>1.67</td>\n",
       "      <td>0.00</td>\n",
       "      <td>9.14</td>\n",
       "      <td>10.10</td>\n",
       "      <td>11.04</td>\n",
       "      <td>17.03</td>\n",
       "    </tr>\n",
       "    <tr>\n",
       "      <th>final.output.concentrate_sol</th>\n",
       "      <td>19228.00</td>\n",
       "      <td>9.50</td>\n",
       "      <td>2.79</td>\n",
       "      <td>0.00</td>\n",
       "      <td>7.72</td>\n",
       "      <td>9.22</td>\n",
       "      <td>10.95</td>\n",
       "      <td>19.62</td>\n",
       "    </tr>\n",
       "    <tr>\n",
       "      <th>final.output.recovery</th>\n",
       "      <td>19439.00</td>\n",
       "      <td>67.05</td>\n",
       "      <td>10.13</td>\n",
       "      <td>0.00</td>\n",
       "      <td>63.30</td>\n",
       "      <td>68.17</td>\n",
       "      <td>72.69</td>\n",
       "      <td>100.00</td>\n",
       "    </tr>\n",
       "    <tr>\n",
       "      <th>final.output.tail_au</th>\n",
       "      <td>19439.00</td>\n",
       "      <td>3.04</td>\n",
       "      <td>0.92</td>\n",
       "      <td>0.00</td>\n",
       "      <td>2.46</td>\n",
       "      <td>2.98</td>\n",
       "      <td>3.57</td>\n",
       "      <td>8.25</td>\n",
       "    </tr>\n",
       "    <tr>\n",
       "      <th>final.output.tail_ag</th>\n",
       "      <td>19438.00</td>\n",
       "      <td>9.69</td>\n",
       "      <td>2.33</td>\n",
       "      <td>0.00</td>\n",
       "      <td>8.06</td>\n",
       "      <td>9.74</td>\n",
       "      <td>11.13</td>\n",
       "      <td>19.55</td>\n",
       "    </tr>\n",
       "    <tr>\n",
       "      <th>final.output.tail_pb</th>\n",
       "      <td>19338.00</td>\n",
       "      <td>2.71</td>\n",
       "      <td>0.95</td>\n",
       "      <td>0.00</td>\n",
       "      <td>2.04</td>\n",
       "      <td>2.75</td>\n",
       "      <td>3.33</td>\n",
       "      <td>5.80</td>\n",
       "    </tr>\n",
       "    <tr>\n",
       "      <th>final.output.tail_sol</th>\n",
       "      <td>19433.00</td>\n",
       "      <td>10.58</td>\n",
       "      <td>2.87</td>\n",
       "      <td>0.00</td>\n",
       "      <td>8.94</td>\n",
       "      <td>10.62</td>\n",
       "      <td>12.10</td>\n",
       "      <td>22.32</td>\n",
       "    </tr>\n",
       "  </tbody>\n",
       "</table>\n",
       "</div>"
      ],
      "text/plain": [
       "                                              count    mean    std     min  \\\n",
       "primary_cleaner.state.floatbank8_b_level   19438.00 -492.19  33.79 -800.00   \n",
       "primary_cleaner.state.floatbank8_c_air     19437.00 1586.67 136.11    0.00   \n",
       "primary_cleaner.state.floatbank8_c_level   19438.00 -491.98  32.71 -799.96   \n",
       "primary_cleaner.state.floatbank8_d_air     19436.00 1542.91 246.20    0.00   \n",
       "primary_cleaner.state.floatbank8_d_level   19438.00 -488.02  43.96 -799.79   \n",
       "primary_cleaner.output.concentrate_au      19439.00   32.12   5.63    0.00   \n",
       "primary_cleaner.output.concentrate_ag      19439.00    8.44   2.05    0.00   \n",
       "primary_cleaner.output.concentrate_pb      19323.00    9.83   2.56    0.00   \n",
       "primary_cleaner.output.concentrate_sol     19069.00   10.49   3.91    0.00   \n",
       "primary_cleaner.output.tail_au             19439.00    3.91   1.59    0.00   \n",
       "primary_cleaner.output.tail_ag             19435.00   16.15   3.55    0.00   \n",
       "primary_cleaner.output.tail_pb             19418.00    3.44   1.39    0.00   \n",
       "primary_cleaner.output.tail_sol            19377.00    7.97   2.21    0.00   \n",
       "secondary_cleaner.state.floatbank2_a_air   19219.00   28.71   5.46    0.08   \n",
       "secondary_cleaner.state.floatbank2_a_level 19438.00 -502.37  53.57 -799.61   \n",
       "secondary_cleaner.state.floatbank2_b_air   19416.00   24.11   5.75    0.00   \n",
       "secondary_cleaner.state.floatbank2_b_level 19438.00 -503.23  56.57 -799.87   \n",
       "secondary_cleaner.state.floatbank3_a_air   19426.00   28.20   6.13    0.00   \n",
       "secondary_cleaner.state.floatbank3_a_level 19438.00 -486.20  54.41 -799.76   \n",
       "secondary_cleaner.state.floatbank3_b_air   19438.00   22.20   5.57    0.00   \n",
       "secondary_cleaner.state.floatbank3_b_level 19438.00 -493.74  43.37 -809.33   \n",
       "secondary_cleaner.state.floatbank4_a_air   19433.00   18.99   5.41    0.00   \n",
       "secondary_cleaner.state.floatbank4_a_level 19438.00 -485.89  47.76 -799.80   \n",
       "secondary_cleaner.state.floatbank4_b_air   19438.00   15.01   4.89    0.00   \n",
       "secondary_cleaner.state.floatbank4_b_level 19438.00 -461.08  67.41 -800.84   \n",
       "secondary_cleaner.state.floatbank5_a_air   19438.00   15.69   5.51   -0.37   \n",
       "secondary_cleaner.state.floatbank5_a_level 19438.00 -488.68  34.53 -797.32   \n",
       "secondary_cleaner.state.floatbank5_b_air   19438.00   12.20   5.33    0.53   \n",
       "secondary_cleaner.state.floatbank5_b_level 19438.00 -487.15  38.35 -800.22   \n",
       "secondary_cleaner.state.floatbank6_a_air   19437.00   18.96   5.55   -0.08   \n",
       "secondary_cleaner.state.floatbank6_a_level 19438.00 -505.44  37.69 -809.74   \n",
       "secondary_cleaner.output.tail_au           19439.00    4.34   2.33    0.00   \n",
       "secondary_cleaner.output.tail_ag           19437.00   14.59   4.27    0.00   \n",
       "secondary_cleaner.output.tail_pb           19427.00    5.78   2.77    0.00   \n",
       "secondary_cleaner.output.tail_sol          17691.00    7.17   3.92    0.00   \n",
       "final.output.concentrate_au                19439.00   44.08   5.13    0.00   \n",
       "final.output.concentrate_ag                19438.00    5.17   1.37    0.00   \n",
       "final.output.concentrate_pb                19438.00    9.98   1.67    0.00   \n",
       "final.output.concentrate_sol               19228.00    9.50   2.79    0.00   \n",
       "final.output.recovery                      19439.00   67.05  10.13    0.00   \n",
       "final.output.tail_au                       19439.00    3.04   0.92    0.00   \n",
       "final.output.tail_ag                       19438.00    9.69   2.33    0.00   \n",
       "final.output.tail_pb                       19338.00    2.71   0.95    0.00   \n",
       "final.output.tail_sol                      19433.00   10.58   2.87    0.00   \n",
       "\n",
       "                                               25%     50%     75%     max  \n",
       "primary_cleaner.state.floatbank8_b_level   -500.44 -499.96 -499.37 -142.53  \n",
       "primary_cleaner.state.floatbank8_c_air     1500.93 1600.25 1699.48 2013.16  \n",
       "primary_cleaner.state.floatbank8_c_level   -500.70 -499.91 -498.86 -150.94  \n",
       "primary_cleaner.state.floatbank8_d_air     1494.22 1599.45 1698.52 2398.90  \n",
       "primary_cleaner.state.floatbank8_d_level   -500.46 -499.91 -499.06  -30.60  \n",
       "primary_cleaner.output.concentrate_au        30.46   32.84   35.05   45.93  \n",
       "primary_cleaner.output.concentrate_ag         7.26    8.51    9.81   16.08  \n",
       "primary_cleaner.output.concentrate_pb         8.70   10.15   11.42   17.08  \n",
       "primary_cleaner.output.concentrate_sol        7.89   10.31   13.45   22.46  \n",
       "primary_cleaner.output.tail_au                2.92    3.62    4.59   17.79  \n",
       "primary_cleaner.output.tail_ag               14.02   15.84   18.01   29.46  \n",
       "primary_cleaner.output.tail_pb                2.50    3.27    4.18    9.63  \n",
       "primary_cleaner.output.tail_sol               6.75    8.18    9.55   22.28  \n",
       "secondary_cleaner.state.floatbank2_a_air     25.05   29.10   33.01   52.65  \n",
       "secondary_cleaner.state.floatbank2_a_level -500.23 -499.97 -499.67 -127.88  \n",
       "secondary_cleaner.state.floatbank2_b_air     20.92   25.04   28.01   35.15  \n",
       "secondary_cleaner.state.floatbank2_b_level -500.25 -500.02 -499.79 -212.00  \n",
       "secondary_cleaner.state.floatbank3_a_air     24.95   27.98   33.00   44.26  \n",
       "secondary_cleaner.state.floatbank3_a_level -500.21 -499.93 -499.33 -191.68  \n",
       "secondary_cleaner.state.floatbank3_b_air     19.00   22.01   26.00   35.07  \n",
       "secondary_cleaner.state.floatbank3_b_level -500.12 -499.98 -499.81 -159.74  \n",
       "secondary_cleaner.state.floatbank4_a_air     14.98   18.02   23.01   30.12  \n",
       "secondary_cleaner.state.floatbank4_a_level -500.70 -499.84 -498.25 -245.24  \n",
       "secondary_cleaner.state.floatbank4_b_air     11.94   14.97   19.03   31.27  \n",
       "secondary_cleaner.state.floatbank4_b_level -500.19 -499.46 -400.12   -6.51  \n",
       "secondary_cleaner.state.floatbank5_a_air     10.99   15.00   18.03   43.71  \n",
       "secondary_cleaner.state.floatbank5_a_level -500.46 -499.80 -498.38 -244.48  \n",
       "secondary_cleaner.state.floatbank5_b_air      8.97   11.02   14.02   27.93  \n",
       "secondary_cleaner.state.floatbank5_b_level -500.13 -499.94 -499.44 -137.74  \n",
       "secondary_cleaner.state.floatbank6_a_air     14.98   19.96   24.00   32.19  \n",
       "secondary_cleaner.state.floatbank6_a_level -500.73 -500.05 -499.50 -104.43  \n",
       "secondary_cleaner.output.tail_au              3.18    4.07    5.06   26.81  \n",
       "secondary_cleaner.output.tail_ag             12.64   15.64   17.36   23.26  \n",
       "secondary_cleaner.output.tail_pb              3.86    5.34    7.79   17.04  \n",
       "secondary_cleaner.output.tail_sol             3.85    7.69   10.41   26.00  \n",
       "final.output.concentrate_au                  43.40   45.01   46.28   52.76  \n",
       "final.output.concentrate_ag                   4.25    5.07    5.90   16.00  \n",
       "final.output.concentrate_pb                   9.14   10.10   11.04   17.03  \n",
       "final.output.concentrate_sol                  7.72    9.22   10.95   19.62  \n",
       "final.output.recovery                        63.30   68.17   72.69  100.00  \n",
       "final.output.tail_au                          2.46    2.98    3.57    8.25  \n",
       "final.output.tail_ag                          8.06    9.74   11.13   19.55  \n",
       "final.output.tail_pb                          2.04    2.75    3.33    5.80  \n",
       "final.output.tail_sol                         8.94   10.62   12.10   22.32  "
      ]
     },
     "execution_count": 10,
     "metadata": {},
     "output_type": "execute_result"
    }
   ],
   "source": [
    "df.describe().T.tail(44)"
   ]
  },
  {
   "cell_type": "markdown",
   "metadata": {},
   "source": [
    "    Размер полного датасета в сумме равен размеру обучающего и тестового в количестве строк 19439.  \n",
    "    \n",
    "    Можно предположить, что разюиение исходного набора данных на обучающую и тестовую было произведено на этапе выгрузки в соотношение 75:25 соответственно.\n",
    "    \n",
    "    Праметры объёма воздуха, уровеня жидкости, размера гранул сырья и скорости подачи на разных этапах принимают значения, измеряемые в сотнях и тысячах, в то время как значения остальных параметров измеряются единицами и десятками."
   ]
  },
  {
   "cell_type": "markdown",
   "metadata": {},
   "source": [
    "### Проверка расчета эффективности обогащения"
   ]
  },
  {
   "cell_type": "code",
   "execution_count": 11,
   "metadata": {},
   "outputs": [
    {
     "name": "stdout",
     "output_type": "stream",
     "text": [
      "На этапе Флуктуации метрика MAE = 9.871121473701021e-15\n"
     ]
    }
   ],
   "source": [
    "# Вычислим её на обучающей выборке для признака rougher.output.recovery\n",
    "target = df['rougher.output.recovery']\n",
    "C = df['rougher.output.concentrate_au']\n",
    "F = df['rougher.input.feed_au']\n",
    "T = df['rougher.output.tail_au']\n",
    "\n",
    "predict = ((C * (F - T)) / (F * (C - T))) * 100\n",
    "\n",
    "mae = mean_absolute_error(target, predict)\n",
    "print(f'На этапе Флуктуации метрика MAE = {mae}')"
   ]
  },
  {
   "cell_type": "markdown",
   "metadata": {},
   "source": [
    "    Метрика MAE стремится к нулю, это говорит о том, что формула расчёта эффективности обогащения корректная."
   ]
  },
  {
   "cell_type": "markdown",
   "metadata": {},
   "source": [
    "### Анализ признаков, недоступных в тестовой выборке."
   ]
  },
  {
   "cell_type": "code",
   "execution_count": 12,
   "metadata": {},
   "outputs": [
    {
     "data": {
      "text/plain": [
       "['rougher.calculation.sulfate_to_au_concentrate',\n",
       " 'rougher.calculation.floatbank10_sulfate_to_au_feed',\n",
       " 'rougher.calculation.floatbank11_sulfate_to_au_feed',\n",
       " 'rougher.calculation.au_pb_ratio',\n",
       " 'rougher.output.concentrate_au',\n",
       " 'rougher.output.concentrate_ag',\n",
       " 'rougher.output.concentrate_pb',\n",
       " 'rougher.output.concentrate_sol',\n",
       " 'rougher.output.recovery',\n",
       " 'rougher.output.tail_au',\n",
       " 'rougher.output.tail_ag',\n",
       " 'rougher.output.tail_pb',\n",
       " 'rougher.output.tail_sol',\n",
       " 'primary_cleaner.output.concentrate_au',\n",
       " 'primary_cleaner.output.concentrate_ag',\n",
       " 'primary_cleaner.output.concentrate_pb',\n",
       " 'primary_cleaner.output.concentrate_sol',\n",
       " 'primary_cleaner.output.tail_au',\n",
       " 'primary_cleaner.output.tail_ag',\n",
       " 'primary_cleaner.output.tail_pb',\n",
       " 'primary_cleaner.output.tail_sol',\n",
       " 'secondary_cleaner.output.tail_au',\n",
       " 'secondary_cleaner.output.tail_ag',\n",
       " 'secondary_cleaner.output.tail_pb',\n",
       " 'secondary_cleaner.output.tail_sol',\n",
       " 'final.output.concentrate_au',\n",
       " 'final.output.concentrate_ag',\n",
       " 'final.output.concentrate_pb',\n",
       " 'final.output.concentrate_sol',\n",
       " 'final.output.recovery',\n",
       " 'final.output.tail_au',\n",
       " 'final.output.tail_ag',\n",
       " 'final.output.tail_pb',\n",
       " 'final.output.tail_sol']"
      ]
     },
     "execution_count": 12,
     "metadata": {},
     "output_type": "execute_result"
    }
   ],
   "source": [
    "# Выведем уникальные столбцы каждого датасета:\n",
    "lost_columns = []\n",
    "for i in df_train.columns:\n",
    "    if i not in df_test.columns:\n",
    "        lost_columns.append(i)\n",
    "lost_columns"
   ]
  },
  {
   "cell_type": "markdown",
   "metadata": {},
   "source": [
    "    В тестовой выборке нет данных о выходных значениях каждого процесса. Отсутствие этих данных обусловлено тем, что до начала производственного цикла мы их не знаем. \n",
    "    \n",
    "    Обучать модель на таких данных нет никакого смысла, и их следует исключить из обучающей выборки. При этом, для возможности расчёта требуемых метрик, необходимо добавить целевые признаки в тестовый датасет (*final.output.recovery* и *rougher.output.recovery*):"
   ]
  },
  {
   "cell_type": "markdown",
   "metadata": {},
   "source": [
    "### Предобработка данных"
   ]
  },
  {
   "cell_type": "code",
   "execution_count": 13,
   "metadata": {
    "scrolled": false
   },
   "outputs": [
    {
     "name": "stdout",
     "output_type": "stream",
     "text": [
      "Полный датасет:\n"
     ]
    },
    {
     "data": {
      "text/html": [
       "<div>\n",
       "<style scoped>\n",
       "    .dataframe tbody tr th:only-of-type {\n",
       "        vertical-align: middle;\n",
       "    }\n",
       "\n",
       "    .dataframe tbody tr th {\n",
       "        vertical-align: top;\n",
       "    }\n",
       "\n",
       "    .dataframe thead th {\n",
       "        text-align: right;\n",
       "    }\n",
       "</style>\n",
       "<table border=\"1\" class=\"dataframe\">\n",
       "  <thead>\n",
       "    <tr style=\"text-align: right;\">\n",
       "      <th></th>\n",
       "      <th>Пропуски</th>\n",
       "    </tr>\n",
       "  </thead>\n",
       "  <tbody>\n",
       "    <tr>\n",
       "      <th>rougher.input.feed_pb</th>\n",
       "      <td>100</td>\n",
       "    </tr>\n",
       "    <tr>\n",
       "      <th>rougher.input.feed_sol</th>\n",
       "      <td>99</td>\n",
       "    </tr>\n",
       "    <tr>\n",
       "      <th>rougher.input.feed_rate</th>\n",
       "      <td>11</td>\n",
       "    </tr>\n",
       "    <tr>\n",
       "      <th>rougher.input.feed_size</th>\n",
       "      <td>145</td>\n",
       "    </tr>\n",
       "    <tr>\n",
       "      <th>rougher.input.floatbank10_sulfate</th>\n",
       "      <td>34</td>\n",
       "    </tr>\n",
       "    <tr>\n",
       "      <th>...</th>\n",
       "      <td>...</td>\n",
       "    </tr>\n",
       "    <tr>\n",
       "      <th>final.output.concentrate_pb</th>\n",
       "      <td>1</td>\n",
       "    </tr>\n",
       "    <tr>\n",
       "      <th>final.output.concentrate_sol</th>\n",
       "      <td>211</td>\n",
       "    </tr>\n",
       "    <tr>\n",
       "      <th>final.output.tail_ag</th>\n",
       "      <td>1</td>\n",
       "    </tr>\n",
       "    <tr>\n",
       "      <th>final.output.tail_pb</th>\n",
       "      <td>101</td>\n",
       "    </tr>\n",
       "    <tr>\n",
       "      <th>final.output.tail_sol</th>\n",
       "      <td>6</td>\n",
       "    </tr>\n",
       "  </tbody>\n",
       "</table>\n",
       "<p>63 rows × 1 columns</p>\n",
       "</div>"
      ],
      "text/plain": [
       "                                   Пропуски\n",
       "rougher.input.feed_pb                   100\n",
       "rougher.input.feed_sol                   99\n",
       "rougher.input.feed_rate                  11\n",
       "rougher.input.feed_size                 145\n",
       "rougher.input.floatbank10_sulfate        34\n",
       "...                                     ...\n",
       "final.output.concentrate_pb               1\n",
       "final.output.concentrate_sol            211\n",
       "final.output.tail_ag                      1\n",
       "final.output.tail_pb                    101\n",
       "final.output.tail_sol                     6\n",
       "\n",
       "[63 rows x 1 columns]"
      ]
     },
     "metadata": {},
     "output_type": "display_data"
    },
    {
     "name": "stdout",
     "output_type": "stream",
     "text": [
      "Обучающий датасет:\n"
     ]
    },
    {
     "data": {
      "text/html": [
       "<div>\n",
       "<style scoped>\n",
       "    .dataframe tbody tr th:only-of-type {\n",
       "        vertical-align: middle;\n",
       "    }\n",
       "\n",
       "    .dataframe tbody tr th {\n",
       "        vertical-align: top;\n",
       "    }\n",
       "\n",
       "    .dataframe thead th {\n",
       "        text-align: right;\n",
       "    }\n",
       "</style>\n",
       "<table border=\"1\" class=\"dataframe\">\n",
       "  <thead>\n",
       "    <tr style=\"text-align: right;\">\n",
       "      <th></th>\n",
       "      <th>Пропуски</th>\n",
       "    </tr>\n",
       "  </thead>\n",
       "  <tbody>\n",
       "    <tr>\n",
       "      <th>rougher.input.feed_pb</th>\n",
       "      <td>72</td>\n",
       "    </tr>\n",
       "    <tr>\n",
       "      <th>rougher.input.feed_sol</th>\n",
       "      <td>77</td>\n",
       "    </tr>\n",
       "    <tr>\n",
       "      <th>rougher.input.feed_rate</th>\n",
       "      <td>7</td>\n",
       "    </tr>\n",
       "    <tr>\n",
       "      <th>rougher.input.feed_size</th>\n",
       "      <td>101</td>\n",
       "    </tr>\n",
       "    <tr>\n",
       "      <th>rougher.input.floatbank10_sulfate</th>\n",
       "      <td>31</td>\n",
       "    </tr>\n",
       "    <tr>\n",
       "      <th>rougher.input.floatbank10_xanthate</th>\n",
       "      <td>7</td>\n",
       "    </tr>\n",
       "    <tr>\n",
       "      <th>rougher.state.floatbank10_e_air</th>\n",
       "      <td>429</td>\n",
       "    </tr>\n",
       "    <tr>\n",
       "      <th>rougher.input.floatbank11_sulfate</th>\n",
       "      <td>36</td>\n",
       "    </tr>\n",
       "    <tr>\n",
       "      <th>rougher.input.floatbank11_xanthate</th>\n",
       "      <td>407</td>\n",
       "    </tr>\n",
       "    <tr>\n",
       "      <th>rougher.calculation.sulfate_to_au_concentrate</th>\n",
       "      <td>1</td>\n",
       "    </tr>\n",
       "    <tr>\n",
       "      <th>rougher.calculation.floatbank10_sulfate_to_au_feed</th>\n",
       "      <td>1</td>\n",
       "    </tr>\n",
       "    <tr>\n",
       "      <th>rougher.calculation.floatbank11_sulfate_to_au_feed</th>\n",
       "      <td>1</td>\n",
       "    </tr>\n",
       "    <tr>\n",
       "      <th>rougher.output.concentrate_sol</th>\n",
       "      <td>18</td>\n",
       "    </tr>\n",
       "    <tr>\n",
       "      <th>rougher.output.tail_ag</th>\n",
       "      <td>1</td>\n",
       "    </tr>\n",
       "    <tr>\n",
       "      <th>primary_cleaner.input.sulfate</th>\n",
       "      <td>23</td>\n",
       "    </tr>\n",
       "    <tr>\n",
       "      <th>primary_cleaner.input.depressant</th>\n",
       "      <td>28</td>\n",
       "    </tr>\n",
       "    <tr>\n",
       "      <th>primary_cleaner.input.xanthate</th>\n",
       "      <td>61</td>\n",
       "    </tr>\n",
       "    <tr>\n",
       "      <th>primary_cleaner.state.floatbank8_a_air</th>\n",
       "      <td>3</td>\n",
       "    </tr>\n",
       "    <tr>\n",
       "      <th>primary_cleaner.state.floatbank8_b_air</th>\n",
       "      <td>3</td>\n",
       "    </tr>\n",
       "    <tr>\n",
       "      <th>primary_cleaner.state.floatbank8_d_air</th>\n",
       "      <td>1</td>\n",
       "    </tr>\n",
       "    <tr>\n",
       "      <th>primary_cleaner.output.concentrate_pb</th>\n",
       "      <td>88</td>\n",
       "    </tr>\n",
       "    <tr>\n",
       "      <th>primary_cleaner.output.concentrate_sol</th>\n",
       "      <td>265</td>\n",
       "    </tr>\n",
       "    <tr>\n",
       "      <th>primary_cleaner.output.tail_ag</th>\n",
       "      <td>4</td>\n",
       "    </tr>\n",
       "    <tr>\n",
       "      <th>primary_cleaner.output.tail_pb</th>\n",
       "      <td>6</td>\n",
       "    </tr>\n",
       "    <tr>\n",
       "      <th>primary_cleaner.output.tail_sol</th>\n",
       "      <td>45</td>\n",
       "    </tr>\n",
       "    <tr>\n",
       "      <th>secondary_cleaner.state.floatbank2_a_air</th>\n",
       "      <td>94</td>\n",
       "    </tr>\n",
       "    <tr>\n",
       "      <th>secondary_cleaner.state.floatbank2_b_air</th>\n",
       "      <td>22</td>\n",
       "    </tr>\n",
       "    <tr>\n",
       "      <th>secondary_cleaner.state.floatbank3_a_air</th>\n",
       "      <td>12</td>\n",
       "    </tr>\n",
       "    <tr>\n",
       "      <th>secondary_cleaner.state.floatbank4_a_air</th>\n",
       "      <td>5</td>\n",
       "    </tr>\n",
       "    <tr>\n",
       "      <th>secondary_cleaner.state.floatbank6_a_air</th>\n",
       "      <td>1</td>\n",
       "    </tr>\n",
       "    <tr>\n",
       "      <th>secondary_cleaner.output.tail_ag</th>\n",
       "      <td>1</td>\n",
       "    </tr>\n",
       "    <tr>\n",
       "      <th>secondary_cleaner.output.tail_pb</th>\n",
       "      <td>4</td>\n",
       "    </tr>\n",
       "    <tr>\n",
       "      <th>secondary_cleaner.output.tail_sol</th>\n",
       "      <td>920</td>\n",
       "    </tr>\n",
       "    <tr>\n",
       "      <th>final.output.concentrate_ag</th>\n",
       "      <td>1</td>\n",
       "    </tr>\n",
       "    <tr>\n",
       "      <th>final.output.concentrate_pb</th>\n",
       "      <td>1</td>\n",
       "    </tr>\n",
       "    <tr>\n",
       "      <th>final.output.concentrate_sol</th>\n",
       "      <td>192</td>\n",
       "    </tr>\n",
       "    <tr>\n",
       "      <th>final.output.tail_ag</th>\n",
       "      <td>1</td>\n",
       "    </tr>\n",
       "    <tr>\n",
       "      <th>final.output.tail_pb</th>\n",
       "      <td>75</td>\n",
       "    </tr>\n",
       "    <tr>\n",
       "      <th>final.output.tail_sol</th>\n",
       "      <td>5</td>\n",
       "    </tr>\n",
       "  </tbody>\n",
       "</table>\n",
       "</div>"
      ],
      "text/plain": [
       "                                                    Пропуски\n",
       "rougher.input.feed_pb                                     72\n",
       "rougher.input.feed_sol                                    77\n",
       "rougher.input.feed_rate                                    7\n",
       "rougher.input.feed_size                                  101\n",
       "rougher.input.floatbank10_sulfate                         31\n",
       "rougher.input.floatbank10_xanthate                         7\n",
       "rougher.state.floatbank10_e_air                          429\n",
       "rougher.input.floatbank11_sulfate                         36\n",
       "rougher.input.floatbank11_xanthate                       407\n",
       "rougher.calculation.sulfate_to_au_concentrate              1\n",
       "rougher.calculation.floatbank10_sulfate_to_au_feed         1\n",
       "rougher.calculation.floatbank11_sulfate_to_au_feed         1\n",
       "rougher.output.concentrate_sol                            18\n",
       "rougher.output.tail_ag                                     1\n",
       "primary_cleaner.input.sulfate                             23\n",
       "primary_cleaner.input.depressant                          28\n",
       "primary_cleaner.input.xanthate                            61\n",
       "primary_cleaner.state.floatbank8_a_air                     3\n",
       "primary_cleaner.state.floatbank8_b_air                     3\n",
       "primary_cleaner.state.floatbank8_d_air                     1\n",
       "primary_cleaner.output.concentrate_pb                     88\n",
       "primary_cleaner.output.concentrate_sol                   265\n",
       "primary_cleaner.output.tail_ag                             4\n",
       "primary_cleaner.output.tail_pb                             6\n",
       "primary_cleaner.output.tail_sol                           45\n",
       "secondary_cleaner.state.floatbank2_a_air                  94\n",
       "secondary_cleaner.state.floatbank2_b_air                  22\n",
       "secondary_cleaner.state.floatbank3_a_air                  12\n",
       "secondary_cleaner.state.floatbank4_a_air                   5\n",
       "secondary_cleaner.state.floatbank6_a_air                   1\n",
       "secondary_cleaner.output.tail_ag                           1\n",
       "secondary_cleaner.output.tail_pb                           4\n",
       "secondary_cleaner.output.tail_sol                        920\n",
       "final.output.concentrate_ag                                1\n",
       "final.output.concentrate_pb                                1\n",
       "final.output.concentrate_sol                             192\n",
       "final.output.tail_ag                                       1\n",
       "final.output.tail_pb                                      75\n",
       "final.output.tail_sol                                      5"
      ]
     },
     "metadata": {},
     "output_type": "display_data"
    },
    {
     "name": "stdout",
     "output_type": "stream",
     "text": [
      "Тестовый датасет:\n"
     ]
    },
    {
     "data": {
      "text/html": [
       "<div>\n",
       "<style scoped>\n",
       "    .dataframe tbody tr th:only-of-type {\n",
       "        vertical-align: middle;\n",
       "    }\n",
       "\n",
       "    .dataframe tbody tr th {\n",
       "        vertical-align: top;\n",
       "    }\n",
       "\n",
       "    .dataframe thead th {\n",
       "        text-align: right;\n",
       "    }\n",
       "</style>\n",
       "<table border=\"1\" class=\"dataframe\">\n",
       "  <thead>\n",
       "    <tr style=\"text-align: right;\">\n",
       "      <th></th>\n",
       "      <th>Пропуски</th>\n",
       "    </tr>\n",
       "  </thead>\n",
       "  <tbody>\n",
       "    <tr>\n",
       "      <th>rougher.input.feed_pb</th>\n",
       "      <td>28</td>\n",
       "    </tr>\n",
       "    <tr>\n",
       "      <th>rougher.input.feed_sol</th>\n",
       "      <td>22</td>\n",
       "    </tr>\n",
       "    <tr>\n",
       "      <th>rougher.input.feed_rate</th>\n",
       "      <td>4</td>\n",
       "    </tr>\n",
       "    <tr>\n",
       "      <th>rougher.input.feed_size</th>\n",
       "      <td>44</td>\n",
       "    </tr>\n",
       "    <tr>\n",
       "      <th>rougher.input.floatbank10_sulfate</th>\n",
       "      <td>3</td>\n",
       "    </tr>\n",
       "    <tr>\n",
       "      <th>rougher.input.floatbank10_xanthate</th>\n",
       "      <td>1</td>\n",
       "    </tr>\n",
       "    <tr>\n",
       "      <th>rougher.state.floatbank10_a_air</th>\n",
       "      <td>1</td>\n",
       "    </tr>\n",
       "    <tr>\n",
       "      <th>rougher.state.floatbank10_a_level</th>\n",
       "      <td>1</td>\n",
       "    </tr>\n",
       "    <tr>\n",
       "      <th>rougher.state.floatbank10_b_air</th>\n",
       "      <td>1</td>\n",
       "    </tr>\n",
       "    <tr>\n",
       "      <th>rougher.state.floatbank10_b_level</th>\n",
       "      <td>1</td>\n",
       "    </tr>\n",
       "    <tr>\n",
       "      <th>rougher.state.floatbank10_c_air</th>\n",
       "      <td>1</td>\n",
       "    </tr>\n",
       "    <tr>\n",
       "      <th>rougher.state.floatbank10_c_level</th>\n",
       "      <td>1</td>\n",
       "    </tr>\n",
       "    <tr>\n",
       "      <th>rougher.state.floatbank10_e_air</th>\n",
       "      <td>7</td>\n",
       "    </tr>\n",
       "    <tr>\n",
       "      <th>rougher.input.floatbank11_sulfate</th>\n",
       "      <td>8</td>\n",
       "    </tr>\n",
       "    <tr>\n",
       "      <th>rougher.input.floatbank11_xanthate</th>\n",
       "      <td>46</td>\n",
       "    </tr>\n",
       "    <tr>\n",
       "      <th>primary_cleaner.input.sulfate</th>\n",
       "      <td>1</td>\n",
       "    </tr>\n",
       "    <tr>\n",
       "      <th>primary_cleaner.input.depressant</th>\n",
       "      <td>9</td>\n",
       "    </tr>\n",
       "    <tr>\n",
       "      <th>primary_cleaner.input.xanthate</th>\n",
       "      <td>43</td>\n",
       "    </tr>\n",
       "    <tr>\n",
       "      <th>primary_cleaner.state.floatbank8_a_air</th>\n",
       "      <td>1</td>\n",
       "    </tr>\n",
       "    <tr>\n",
       "      <th>primary_cleaner.state.floatbank8_a_level</th>\n",
       "      <td>1</td>\n",
       "    </tr>\n",
       "    <tr>\n",
       "      <th>primary_cleaner.state.floatbank8_b_air</th>\n",
       "      <td>1</td>\n",
       "    </tr>\n",
       "    <tr>\n",
       "      <th>primary_cleaner.state.floatbank8_b_level</th>\n",
       "      <td>1</td>\n",
       "    </tr>\n",
       "    <tr>\n",
       "      <th>primary_cleaner.state.floatbank8_c_air</th>\n",
       "      <td>2</td>\n",
       "    </tr>\n",
       "    <tr>\n",
       "      <th>primary_cleaner.state.floatbank8_c_level</th>\n",
       "      <td>1</td>\n",
       "    </tr>\n",
       "    <tr>\n",
       "      <th>primary_cleaner.state.floatbank8_d_air</th>\n",
       "      <td>2</td>\n",
       "    </tr>\n",
       "    <tr>\n",
       "      <th>primary_cleaner.state.floatbank8_d_level</th>\n",
       "      <td>1</td>\n",
       "    </tr>\n",
       "    <tr>\n",
       "      <th>secondary_cleaner.state.floatbank2_a_air</th>\n",
       "      <td>126</td>\n",
       "    </tr>\n",
       "    <tr>\n",
       "      <th>secondary_cleaner.state.floatbank2_a_level</th>\n",
       "      <td>1</td>\n",
       "    </tr>\n",
       "    <tr>\n",
       "      <th>secondary_cleaner.state.floatbank2_b_air</th>\n",
       "      <td>1</td>\n",
       "    </tr>\n",
       "    <tr>\n",
       "      <th>secondary_cleaner.state.floatbank2_b_level</th>\n",
       "      <td>1</td>\n",
       "    </tr>\n",
       "    <tr>\n",
       "      <th>secondary_cleaner.state.floatbank3_a_air</th>\n",
       "      <td>1</td>\n",
       "    </tr>\n",
       "    <tr>\n",
       "      <th>secondary_cleaner.state.floatbank3_a_level</th>\n",
       "      <td>1</td>\n",
       "    </tr>\n",
       "    <tr>\n",
       "      <th>secondary_cleaner.state.floatbank3_b_air</th>\n",
       "      <td>1</td>\n",
       "    </tr>\n",
       "    <tr>\n",
       "      <th>secondary_cleaner.state.floatbank3_b_level</th>\n",
       "      <td>1</td>\n",
       "    </tr>\n",
       "    <tr>\n",
       "      <th>secondary_cleaner.state.floatbank4_a_air</th>\n",
       "      <td>1</td>\n",
       "    </tr>\n",
       "    <tr>\n",
       "      <th>secondary_cleaner.state.floatbank4_a_level</th>\n",
       "      <td>1</td>\n",
       "    </tr>\n",
       "    <tr>\n",
       "      <th>secondary_cleaner.state.floatbank4_b_air</th>\n",
       "      <td>1</td>\n",
       "    </tr>\n",
       "    <tr>\n",
       "      <th>secondary_cleaner.state.floatbank4_b_level</th>\n",
       "      <td>1</td>\n",
       "    </tr>\n",
       "    <tr>\n",
       "      <th>secondary_cleaner.state.floatbank5_a_air</th>\n",
       "      <td>1</td>\n",
       "    </tr>\n",
       "    <tr>\n",
       "      <th>secondary_cleaner.state.floatbank5_a_level</th>\n",
       "      <td>1</td>\n",
       "    </tr>\n",
       "    <tr>\n",
       "      <th>secondary_cleaner.state.floatbank5_b_air</th>\n",
       "      <td>1</td>\n",
       "    </tr>\n",
       "    <tr>\n",
       "      <th>secondary_cleaner.state.floatbank5_b_level</th>\n",
       "      <td>1</td>\n",
       "    </tr>\n",
       "    <tr>\n",
       "      <th>secondary_cleaner.state.floatbank6_a_air</th>\n",
       "      <td>1</td>\n",
       "    </tr>\n",
       "    <tr>\n",
       "      <th>secondary_cleaner.state.floatbank6_a_level</th>\n",
       "      <td>1</td>\n",
       "    </tr>\n",
       "  </tbody>\n",
       "</table>\n",
       "</div>"
      ],
      "text/plain": [
       "                                            Пропуски\n",
       "rougher.input.feed_pb                             28\n",
       "rougher.input.feed_sol                            22\n",
       "rougher.input.feed_rate                            4\n",
       "rougher.input.feed_size                           44\n",
       "rougher.input.floatbank10_sulfate                  3\n",
       "rougher.input.floatbank10_xanthate                 1\n",
       "rougher.state.floatbank10_a_air                    1\n",
       "rougher.state.floatbank10_a_level                  1\n",
       "rougher.state.floatbank10_b_air                    1\n",
       "rougher.state.floatbank10_b_level                  1\n",
       "rougher.state.floatbank10_c_air                    1\n",
       "rougher.state.floatbank10_c_level                  1\n",
       "rougher.state.floatbank10_e_air                    7\n",
       "rougher.input.floatbank11_sulfate                  8\n",
       "rougher.input.floatbank11_xanthate                46\n",
       "primary_cleaner.input.sulfate                      1\n",
       "primary_cleaner.input.depressant                   9\n",
       "primary_cleaner.input.xanthate                    43\n",
       "primary_cleaner.state.floatbank8_a_air             1\n",
       "primary_cleaner.state.floatbank8_a_level           1\n",
       "primary_cleaner.state.floatbank8_b_air             1\n",
       "primary_cleaner.state.floatbank8_b_level           1\n",
       "primary_cleaner.state.floatbank8_c_air             2\n",
       "primary_cleaner.state.floatbank8_c_level           1\n",
       "primary_cleaner.state.floatbank8_d_air             2\n",
       "primary_cleaner.state.floatbank8_d_level           1\n",
       "secondary_cleaner.state.floatbank2_a_air         126\n",
       "secondary_cleaner.state.floatbank2_a_level         1\n",
       "secondary_cleaner.state.floatbank2_b_air           1\n",
       "secondary_cleaner.state.floatbank2_b_level         1\n",
       "secondary_cleaner.state.floatbank3_a_air           1\n",
       "secondary_cleaner.state.floatbank3_a_level         1\n",
       "secondary_cleaner.state.floatbank3_b_air           1\n",
       "secondary_cleaner.state.floatbank3_b_level         1\n",
       "secondary_cleaner.state.floatbank4_a_air           1\n",
       "secondary_cleaner.state.floatbank4_a_level         1\n",
       "secondary_cleaner.state.floatbank4_b_air           1\n",
       "secondary_cleaner.state.floatbank4_b_level         1\n",
       "secondary_cleaner.state.floatbank5_a_air           1\n",
       "secondary_cleaner.state.floatbank5_a_level         1\n",
       "secondary_cleaner.state.floatbank5_b_air           1\n",
       "secondary_cleaner.state.floatbank5_b_level         1\n",
       "secondary_cleaner.state.floatbank6_a_air           1\n",
       "secondary_cleaner.state.floatbank6_a_level         1"
      ]
     },
     "metadata": {},
     "output_type": "display_data"
    }
   ],
   "source": [
    "# Проверка на пропуски\n",
    "print('Полный датасет:')\n",
    "display(df.isna().sum().to_frame(name=\"Пропуски\").query(\"Пропуски > 0\"))\n",
    "print('Обучающий датасет:')\n",
    "display(df_train.isna().sum().to_frame(name=\"Пропуски\").query(\"Пропуски > 0\"))\n",
    "print('Тестовый датасет:')\n",
    "display(df_test.isna().sum().to_frame(name=\"Пропуски\").query(\"Пропуски > 0\"))"
   ]
  },
  {
   "cell_type": "code",
   "execution_count": 14,
   "metadata": {
    "scrolled": false
   },
   "outputs": [],
   "source": [
    "# Так как в описании проекта сказано, что соседние по времени параметры часто похожи, то можно заполнить\n",
    "# пропуски методом k – ближайщих соседей\n",
    "df = df.fillna(method='bfill')\n",
    "df_train = df_train.fillna(method='bfill')\n",
    "df_test = df_test.fillna(method='bfill')"
   ]
  },
  {
   "cell_type": "code",
   "execution_count": 15,
   "metadata": {},
   "outputs": [
    {
     "name": "stdout",
     "output_type": "stream",
     "text": [
      "Полный датасет:\n"
     ]
    },
    {
     "data": {
      "text/html": [
       "<div>\n",
       "<style scoped>\n",
       "    .dataframe tbody tr th:only-of-type {\n",
       "        vertical-align: middle;\n",
       "    }\n",
       "\n",
       "    .dataframe tbody tr th {\n",
       "        vertical-align: top;\n",
       "    }\n",
       "\n",
       "    .dataframe thead th {\n",
       "        text-align: right;\n",
       "    }\n",
       "</style>\n",
       "<table border=\"1\" class=\"dataframe\">\n",
       "  <thead>\n",
       "    <tr style=\"text-align: right;\">\n",
       "      <th></th>\n",
       "      <th>Пропуски</th>\n",
       "    </tr>\n",
       "  </thead>\n",
       "  <tbody>\n",
       "  </tbody>\n",
       "</table>\n",
       "</div>"
      ],
      "text/plain": [
       "Empty DataFrame\n",
       "Columns: [Пропуски]\n",
       "Index: []"
      ]
     },
     "metadata": {},
     "output_type": "display_data"
    },
    {
     "name": "stdout",
     "output_type": "stream",
     "text": [
      "Обучающий датасет:\n"
     ]
    },
    {
     "data": {
      "text/html": [
       "<div>\n",
       "<style scoped>\n",
       "    .dataframe tbody tr th:only-of-type {\n",
       "        vertical-align: middle;\n",
       "    }\n",
       "\n",
       "    .dataframe tbody tr th {\n",
       "        vertical-align: top;\n",
       "    }\n",
       "\n",
       "    .dataframe thead th {\n",
       "        text-align: right;\n",
       "    }\n",
       "</style>\n",
       "<table border=\"1\" class=\"dataframe\">\n",
       "  <thead>\n",
       "    <tr style=\"text-align: right;\">\n",
       "      <th></th>\n",
       "      <th>Пропуски</th>\n",
       "    </tr>\n",
       "  </thead>\n",
       "  <tbody>\n",
       "  </tbody>\n",
       "</table>\n",
       "</div>"
      ],
      "text/plain": [
       "Empty DataFrame\n",
       "Columns: [Пропуски]\n",
       "Index: []"
      ]
     },
     "metadata": {},
     "output_type": "display_data"
    },
    {
     "name": "stdout",
     "output_type": "stream",
     "text": [
      "Тестовый датасет:\n"
     ]
    },
    {
     "data": {
      "text/html": [
       "<div>\n",
       "<style scoped>\n",
       "    .dataframe tbody tr th:only-of-type {\n",
       "        vertical-align: middle;\n",
       "    }\n",
       "\n",
       "    .dataframe tbody tr th {\n",
       "        vertical-align: top;\n",
       "    }\n",
       "\n",
       "    .dataframe thead th {\n",
       "        text-align: right;\n",
       "    }\n",
       "</style>\n",
       "<table border=\"1\" class=\"dataframe\">\n",
       "  <thead>\n",
       "    <tr style=\"text-align: right;\">\n",
       "      <th></th>\n",
       "      <th>Пропуски</th>\n",
       "    </tr>\n",
       "  </thead>\n",
       "  <tbody>\n",
       "  </tbody>\n",
       "</table>\n",
       "</div>"
      ],
      "text/plain": [
       "Empty DataFrame\n",
       "Columns: [Пропуски]\n",
       "Index: []"
      ]
     },
     "metadata": {},
     "output_type": "display_data"
    }
   ],
   "source": [
    "# Проверка на пропуски после их заполнения\n",
    "print('Полный датасет:')\n",
    "display(df.isna().sum().to_frame(name=\"Пропуски\").query(\"Пропуски > 0\"))\n",
    "print('Обучающий датасет:')\n",
    "display(df_train.isna().sum().to_frame(name=\"Пропуски\").query(\"Пропуски > 0\"))\n",
    "print('Тестовый датасет:')\n",
    "display(df_test.isna().sum().to_frame(name=\"Пропуски\").query(\"Пропуски > 0\"))"
   ]
  },
  {
   "cell_type": "code",
   "execution_count": 16,
   "metadata": {},
   "outputs": [
    {
     "data": {
      "text/plain": [
       "0"
      ]
     },
     "execution_count": 16,
     "metadata": {},
     "output_type": "execute_result"
    }
   ],
   "source": [
    "# Проверим на дубликаты:\n",
    "\n",
    "df['date'].duplicated().sum()"
   ]
  },
  {
   "cell_type": "code",
   "execution_count": 17,
   "metadata": {},
   "outputs": [
    {
     "data": {
      "text/plain": [
       "0"
      ]
     },
     "execution_count": 17,
     "metadata": {},
     "output_type": "execute_result"
    }
   ],
   "source": [
    "df_train['date'].duplicated().sum()"
   ]
  },
  {
   "cell_type": "code",
   "execution_count": 18,
   "metadata": {},
   "outputs": [
    {
     "data": {
      "text/plain": [
       "0"
      ]
     },
     "execution_count": 18,
     "metadata": {},
     "output_type": "execute_result"
    }
   ],
   "source": [
    "df_test['date'].duplicated().sum()"
   ]
  },
  {
   "cell_type": "code",
   "execution_count": 19,
   "metadata": {},
   "outputs": [],
   "source": [
    "# Удалим все столбцы из обучающих данных, которых нет в тестовых данных\n",
    "df_train = df_train[df_test.columns]"
   ]
  },
  {
   "cell_type": "code",
   "execution_count": 20,
   "metadata": {},
   "outputs": [
    {
     "data": {
      "text/html": [
       "<div>\n",
       "<style scoped>\n",
       "    .dataframe tbody tr th:only-of-type {\n",
       "        vertical-align: middle;\n",
       "    }\n",
       "\n",
       "    .dataframe tbody tr th {\n",
       "        vertical-align: top;\n",
       "    }\n",
       "\n",
       "    .dataframe thead th {\n",
       "        text-align: right;\n",
       "    }\n",
       "</style>\n",
       "<table border=\"1\" class=\"dataframe\">\n",
       "  <thead>\n",
       "    <tr style=\"text-align: right;\">\n",
       "      <th></th>\n",
       "      <th>date</th>\n",
       "      <th>rougher.input.feed_au</th>\n",
       "      <th>rougher.input.feed_ag</th>\n",
       "      <th>rougher.input.feed_pb</th>\n",
       "      <th>rougher.input.feed_sol</th>\n",
       "      <th>rougher.input.feed_rate</th>\n",
       "      <th>rougher.input.feed_size</th>\n",
       "      <th>rougher.input.floatbank10_sulfate</th>\n",
       "      <th>rougher.input.floatbank10_xanthate</th>\n",
       "      <th>rougher.state.floatbank10_a_air</th>\n",
       "      <th>rougher.state.floatbank10_a_level</th>\n",
       "      <th>rougher.state.floatbank10_b_air</th>\n",
       "      <th>rougher.state.floatbank10_b_level</th>\n",
       "      <th>rougher.state.floatbank10_c_air</th>\n",
       "      <th>rougher.state.floatbank10_c_level</th>\n",
       "      <th>rougher.state.floatbank10_d_air</th>\n",
       "      <th>rougher.state.floatbank10_d_level</th>\n",
       "      <th>rougher.state.floatbank10_e_air</th>\n",
       "      <th>rougher.state.floatbank10_e_level</th>\n",
       "      <th>rougher.state.floatbank10_f_air</th>\n",
       "      <th>rougher.state.floatbank10_f_level</th>\n",
       "      <th>rougher.input.floatbank11_sulfate</th>\n",
       "      <th>rougher.input.floatbank11_xanthate</th>\n",
       "      <th>primary_cleaner.input.sulfate</th>\n",
       "      <th>primary_cleaner.input.depressant</th>\n",
       "      <th>primary_cleaner.input.feed_size</th>\n",
       "      <th>primary_cleaner.input.xanthate</th>\n",
       "      <th>primary_cleaner.state.floatbank8_a_air</th>\n",
       "      <th>primary_cleaner.state.floatbank8_a_level</th>\n",
       "      <th>primary_cleaner.state.floatbank8_b_air</th>\n",
       "      <th>primary_cleaner.state.floatbank8_b_level</th>\n",
       "      <th>primary_cleaner.state.floatbank8_c_air</th>\n",
       "      <th>primary_cleaner.state.floatbank8_c_level</th>\n",
       "      <th>primary_cleaner.state.floatbank8_d_air</th>\n",
       "      <th>primary_cleaner.state.floatbank8_d_level</th>\n",
       "      <th>secondary_cleaner.state.floatbank2_a_air</th>\n",
       "      <th>secondary_cleaner.state.floatbank2_a_level</th>\n",
       "      <th>secondary_cleaner.state.floatbank2_b_air</th>\n",
       "      <th>secondary_cleaner.state.floatbank2_b_level</th>\n",
       "      <th>secondary_cleaner.state.floatbank3_a_air</th>\n",
       "      <th>secondary_cleaner.state.floatbank3_a_level</th>\n",
       "      <th>secondary_cleaner.state.floatbank3_b_air</th>\n",
       "      <th>secondary_cleaner.state.floatbank3_b_level</th>\n",
       "      <th>secondary_cleaner.state.floatbank4_a_air</th>\n",
       "      <th>secondary_cleaner.state.floatbank4_a_level</th>\n",
       "      <th>secondary_cleaner.state.floatbank4_b_air</th>\n",
       "      <th>secondary_cleaner.state.floatbank4_b_level</th>\n",
       "      <th>secondary_cleaner.state.floatbank5_a_air</th>\n",
       "      <th>secondary_cleaner.state.floatbank5_a_level</th>\n",
       "      <th>secondary_cleaner.state.floatbank5_b_air</th>\n",
       "      <th>secondary_cleaner.state.floatbank5_b_level</th>\n",
       "      <th>secondary_cleaner.state.floatbank6_a_air</th>\n",
       "      <th>secondary_cleaner.state.floatbank6_a_level</th>\n",
       "      <th>rougher.output.recovery</th>\n",
       "      <th>final.output.recovery</th>\n",
       "    </tr>\n",
       "  </thead>\n",
       "  <tbody>\n",
       "    <tr>\n",
       "      <th>0</th>\n",
       "      <td>2016-01-15 00:00:00</td>\n",
       "      <td>6.49</td>\n",
       "      <td>6.10</td>\n",
       "      <td>2.28</td>\n",
       "      <td>36.81</td>\n",
       "      <td>523.55</td>\n",
       "      <td>55.49</td>\n",
       "      <td>11.99</td>\n",
       "      <td>6.01</td>\n",
       "      <td>999.71</td>\n",
       "      <td>-404.07</td>\n",
       "      <td>1603.01</td>\n",
       "      <td>-434.72</td>\n",
       "      <td>1602.38</td>\n",
       "      <td>-442.20</td>\n",
       "      <td>1598.94</td>\n",
       "      <td>-451.29</td>\n",
       "      <td>1404.47</td>\n",
       "      <td>-455.46</td>\n",
       "      <td>1416.35</td>\n",
       "      <td>-451.94</td>\n",
       "      <td>11.84</td>\n",
       "      <td>6.01</td>\n",
       "      <td>127.09</td>\n",
       "      <td>10.13</td>\n",
       "      <td>7.25</td>\n",
       "      <td>0.99</td>\n",
       "      <td>1549.78</td>\n",
       "      <td>-498.91</td>\n",
       "      <td>1551.43</td>\n",
       "      <td>-516.40</td>\n",
       "      <td>1549.87</td>\n",
       "      <td>-498.67</td>\n",
       "      <td>1554.37</td>\n",
       "      <td>-493.43</td>\n",
       "      <td>25.85</td>\n",
       "      <td>-498.53</td>\n",
       "      <td>23.89</td>\n",
       "      <td>-501.41</td>\n",
       "      <td>23.96</td>\n",
       "      <td>-495.26</td>\n",
       "      <td>21.94</td>\n",
       "      <td>-499.34</td>\n",
       "      <td>14.02</td>\n",
       "      <td>-502.49</td>\n",
       "      <td>12.10</td>\n",
       "      <td>-504.72</td>\n",
       "      <td>9.93</td>\n",
       "      <td>-498.31</td>\n",
       "      <td>8.08</td>\n",
       "      <td>-500.47</td>\n",
       "      <td>14.15</td>\n",
       "      <td>-605.84</td>\n",
       "      <td>87.11</td>\n",
       "      <td>70.54</td>\n",
       "    </tr>\n",
       "    <tr>\n",
       "      <th>1</th>\n",
       "      <td>2016-01-15 01:00:00</td>\n",
       "      <td>6.48</td>\n",
       "      <td>6.16</td>\n",
       "      <td>2.27</td>\n",
       "      <td>35.75</td>\n",
       "      <td>525.29</td>\n",
       "      <td>57.28</td>\n",
       "      <td>11.97</td>\n",
       "      <td>6.01</td>\n",
       "      <td>1000.29</td>\n",
       "      <td>-400.07</td>\n",
       "      <td>1600.75</td>\n",
       "      <td>-449.95</td>\n",
       "      <td>1600.48</td>\n",
       "      <td>-449.83</td>\n",
       "      <td>1600.53</td>\n",
       "      <td>-449.95</td>\n",
       "      <td>1399.23</td>\n",
       "      <td>-450.87</td>\n",
       "      <td>1399.72</td>\n",
       "      <td>-450.12</td>\n",
       "      <td>12.00</td>\n",
       "      <td>6.01</td>\n",
       "      <td>125.63</td>\n",
       "      <td>10.30</td>\n",
       "      <td>7.25</td>\n",
       "      <td>1.00</td>\n",
       "      <td>1576.17</td>\n",
       "      <td>-500.90</td>\n",
       "      <td>1575.95</td>\n",
       "      <td>-499.87</td>\n",
       "      <td>1575.99</td>\n",
       "      <td>-499.32</td>\n",
       "      <td>1574.48</td>\n",
       "      <td>-498.93</td>\n",
       "      <td>25.88</td>\n",
       "      <td>-499.99</td>\n",
       "      <td>23.89</td>\n",
       "      <td>-500.37</td>\n",
       "      <td>23.97</td>\n",
       "      <td>-500.09</td>\n",
       "      <td>22.09</td>\n",
       "      <td>-499.45</td>\n",
       "      <td>13.99</td>\n",
       "      <td>-505.50</td>\n",
       "      <td>11.95</td>\n",
       "      <td>-501.33</td>\n",
       "      <td>10.04</td>\n",
       "      <td>-500.17</td>\n",
       "      <td>7.98</td>\n",
       "      <td>-500.58</td>\n",
       "      <td>14.00</td>\n",
       "      <td>-599.79</td>\n",
       "      <td>86.84</td>\n",
       "      <td>69.27</td>\n",
       "    </tr>\n",
       "    <tr>\n",
       "      <th>2</th>\n",
       "      <td>2016-01-15 02:00:00</td>\n",
       "      <td>6.36</td>\n",
       "      <td>6.12</td>\n",
       "      <td>2.16</td>\n",
       "      <td>35.97</td>\n",
       "      <td>530.03</td>\n",
       "      <td>57.51</td>\n",
       "      <td>11.92</td>\n",
       "      <td>6.20</td>\n",
       "      <td>999.72</td>\n",
       "      <td>-400.07</td>\n",
       "      <td>1599.34</td>\n",
       "      <td>-450.01</td>\n",
       "      <td>1599.67</td>\n",
       "      <td>-449.95</td>\n",
       "      <td>1599.85</td>\n",
       "      <td>-449.95</td>\n",
       "      <td>1399.18</td>\n",
       "      <td>-449.94</td>\n",
       "      <td>1400.32</td>\n",
       "      <td>-450.53</td>\n",
       "      <td>11.92</td>\n",
       "      <td>6.20</td>\n",
       "      <td>123.82</td>\n",
       "      <td>11.32</td>\n",
       "      <td>7.25</td>\n",
       "      <td>0.99</td>\n",
       "      <td>1601.56</td>\n",
       "      <td>-500.00</td>\n",
       "      <td>1600.39</td>\n",
       "      <td>-500.61</td>\n",
       "      <td>1602.00</td>\n",
       "      <td>-500.87</td>\n",
       "      <td>1599.54</td>\n",
       "      <td>-499.83</td>\n",
       "      <td>26.01</td>\n",
       "      <td>-499.93</td>\n",
       "      <td>23.89</td>\n",
       "      <td>-499.95</td>\n",
       "      <td>23.91</td>\n",
       "      <td>-499.44</td>\n",
       "      <td>23.96</td>\n",
       "      <td>-499.90</td>\n",
       "      <td>14.02</td>\n",
       "      <td>-502.52</td>\n",
       "      <td>11.91</td>\n",
       "      <td>-501.13</td>\n",
       "      <td>10.07</td>\n",
       "      <td>-500.13</td>\n",
       "      <td>8.01</td>\n",
       "      <td>-500.52</td>\n",
       "      <td>14.03</td>\n",
       "      <td>-601.43</td>\n",
       "      <td>86.84</td>\n",
       "      <td>68.12</td>\n",
       "    </tr>\n",
       "    <tr>\n",
       "      <th>3</th>\n",
       "      <td>2016-01-15 03:00:00</td>\n",
       "      <td>6.12</td>\n",
       "      <td>6.04</td>\n",
       "      <td>2.04</td>\n",
       "      <td>36.86</td>\n",
       "      <td>542.59</td>\n",
       "      <td>57.79</td>\n",
       "      <td>11.63</td>\n",
       "      <td>6.20</td>\n",
       "      <td>999.81</td>\n",
       "      <td>-400.20</td>\n",
       "      <td>1600.06</td>\n",
       "      <td>-450.62</td>\n",
       "      <td>1600.01</td>\n",
       "      <td>-449.91</td>\n",
       "      <td>1597.73</td>\n",
       "      <td>-450.13</td>\n",
       "      <td>1400.94</td>\n",
       "      <td>-450.03</td>\n",
       "      <td>1400.23</td>\n",
       "      <td>-449.79</td>\n",
       "      <td>11.69</td>\n",
       "      <td>6.20</td>\n",
       "      <td>122.27</td>\n",
       "      <td>11.32</td>\n",
       "      <td>7.25</td>\n",
       "      <td>1.00</td>\n",
       "      <td>1599.97</td>\n",
       "      <td>-500.95</td>\n",
       "      <td>1600.66</td>\n",
       "      <td>-499.68</td>\n",
       "      <td>1600.30</td>\n",
       "      <td>-500.73</td>\n",
       "      <td>1600.45</td>\n",
       "      <td>-500.05</td>\n",
       "      <td>25.94</td>\n",
       "      <td>-499.18</td>\n",
       "      <td>23.96</td>\n",
       "      <td>-499.85</td>\n",
       "      <td>23.97</td>\n",
       "      <td>-500.01</td>\n",
       "      <td>23.95</td>\n",
       "      <td>-499.94</td>\n",
       "      <td>14.04</td>\n",
       "      <td>-500.86</td>\n",
       "      <td>12.00</td>\n",
       "      <td>-501.19</td>\n",
       "      <td>9.97</td>\n",
       "      <td>-499.20</td>\n",
       "      <td>7.98</td>\n",
       "      <td>-500.26</td>\n",
       "      <td>14.01</td>\n",
       "      <td>-600.00</td>\n",
       "      <td>87.23</td>\n",
       "      <td>68.35</td>\n",
       "    </tr>\n",
       "    <tr>\n",
       "      <th>4</th>\n",
       "      <td>2016-01-15 04:00:00</td>\n",
       "      <td>5.66</td>\n",
       "      <td>6.06</td>\n",
       "      <td>1.79</td>\n",
       "      <td>34.35</td>\n",
       "      <td>540.53</td>\n",
       "      <td>56.05</td>\n",
       "      <td>10.96</td>\n",
       "      <td>6.20</td>\n",
       "      <td>999.68</td>\n",
       "      <td>-399.75</td>\n",
       "      <td>1600.21</td>\n",
       "      <td>-449.60</td>\n",
       "      <td>1600.36</td>\n",
       "      <td>-450.03</td>\n",
       "      <td>1599.76</td>\n",
       "      <td>-449.91</td>\n",
       "      <td>1401.56</td>\n",
       "      <td>-448.88</td>\n",
       "      <td>1401.16</td>\n",
       "      <td>-450.41</td>\n",
       "      <td>10.96</td>\n",
       "      <td>6.19</td>\n",
       "      <td>117.99</td>\n",
       "      <td>11.91</td>\n",
       "      <td>7.25</td>\n",
       "      <td>1.01</td>\n",
       "      <td>1601.34</td>\n",
       "      <td>-498.98</td>\n",
       "      <td>1601.44</td>\n",
       "      <td>-500.32</td>\n",
       "      <td>1599.58</td>\n",
       "      <td>-500.89</td>\n",
       "      <td>1602.65</td>\n",
       "      <td>-500.59</td>\n",
       "      <td>26.02</td>\n",
       "      <td>-500.28</td>\n",
       "      <td>23.96</td>\n",
       "      <td>-500.59</td>\n",
       "      <td>23.99</td>\n",
       "      <td>-500.08</td>\n",
       "      <td>23.96</td>\n",
       "      <td>-499.99</td>\n",
       "      <td>14.03</td>\n",
       "      <td>-499.84</td>\n",
       "      <td>11.95</td>\n",
       "      <td>-501.05</td>\n",
       "      <td>9.93</td>\n",
       "      <td>-501.69</td>\n",
       "      <td>7.89</td>\n",
       "      <td>-500.36</td>\n",
       "      <td>14.00</td>\n",
       "      <td>-601.50</td>\n",
       "      <td>86.69</td>\n",
       "      <td>66.93</td>\n",
       "    </tr>\n",
       "  </tbody>\n",
       "</table>\n",
       "</div>"
      ],
      "text/plain": [
       "                 date  rougher.input.feed_au  rougher.input.feed_ag  \\\n",
       "0 2016-01-15 00:00:00                   6.49                   6.10   \n",
       "1 2016-01-15 01:00:00                   6.48                   6.16   \n",
       "2 2016-01-15 02:00:00                   6.36                   6.12   \n",
       "3 2016-01-15 03:00:00                   6.12                   6.04   \n",
       "4 2016-01-15 04:00:00                   5.66                   6.06   \n",
       "\n",
       "   rougher.input.feed_pb  rougher.input.feed_sol  rougher.input.feed_rate  \\\n",
       "0                   2.28                   36.81                   523.55   \n",
       "1                   2.27                   35.75                   525.29   \n",
       "2                   2.16                   35.97                   530.03   \n",
       "3                   2.04                   36.86                   542.59   \n",
       "4                   1.79                   34.35                   540.53   \n",
       "\n",
       "   rougher.input.feed_size  rougher.input.floatbank10_sulfate  \\\n",
       "0                    55.49                              11.99   \n",
       "1                    57.28                              11.97   \n",
       "2                    57.51                              11.92   \n",
       "3                    57.79                              11.63   \n",
       "4                    56.05                              10.96   \n",
       "\n",
       "   rougher.input.floatbank10_xanthate  rougher.state.floatbank10_a_air  \\\n",
       "0                                6.01                           999.71   \n",
       "1                                6.01                          1000.29   \n",
       "2                                6.20                           999.72   \n",
       "3                                6.20                           999.81   \n",
       "4                                6.20                           999.68   \n",
       "\n",
       "   rougher.state.floatbank10_a_level  rougher.state.floatbank10_b_air  \\\n",
       "0                            -404.07                          1603.01   \n",
       "1                            -400.07                          1600.75   \n",
       "2                            -400.07                          1599.34   \n",
       "3                            -400.20                          1600.06   \n",
       "4                            -399.75                          1600.21   \n",
       "\n",
       "   rougher.state.floatbank10_b_level  rougher.state.floatbank10_c_air  \\\n",
       "0                            -434.72                          1602.38   \n",
       "1                            -449.95                          1600.48   \n",
       "2                            -450.01                          1599.67   \n",
       "3                            -450.62                          1600.01   \n",
       "4                            -449.60                          1600.36   \n",
       "\n",
       "   rougher.state.floatbank10_c_level  rougher.state.floatbank10_d_air  \\\n",
       "0                            -442.20                          1598.94   \n",
       "1                            -449.83                          1600.53   \n",
       "2                            -449.95                          1599.85   \n",
       "3                            -449.91                          1597.73   \n",
       "4                            -450.03                          1599.76   \n",
       "\n",
       "   rougher.state.floatbank10_d_level  rougher.state.floatbank10_e_air  \\\n",
       "0                            -451.29                          1404.47   \n",
       "1                            -449.95                          1399.23   \n",
       "2                            -449.95                          1399.18   \n",
       "3                            -450.13                          1400.94   \n",
       "4                            -449.91                          1401.56   \n",
       "\n",
       "   rougher.state.floatbank10_e_level  rougher.state.floatbank10_f_air  \\\n",
       "0                            -455.46                          1416.35   \n",
       "1                            -450.87                          1399.72   \n",
       "2                            -449.94                          1400.32   \n",
       "3                            -450.03                          1400.23   \n",
       "4                            -448.88                          1401.16   \n",
       "\n",
       "   rougher.state.floatbank10_f_level  rougher.input.floatbank11_sulfate  \\\n",
       "0                            -451.94                              11.84   \n",
       "1                            -450.12                              12.00   \n",
       "2                            -450.53                              11.92   \n",
       "3                            -449.79                              11.69   \n",
       "4                            -450.41                              10.96   \n",
       "\n",
       "   rougher.input.floatbank11_xanthate  primary_cleaner.input.sulfate  \\\n",
       "0                                6.01                         127.09   \n",
       "1                                6.01                         125.63   \n",
       "2                                6.20                         123.82   \n",
       "3                                6.20                         122.27   \n",
       "4                                6.19                         117.99   \n",
       "\n",
       "   primary_cleaner.input.depressant  primary_cleaner.input.feed_size  \\\n",
       "0                             10.13                             7.25   \n",
       "1                             10.30                             7.25   \n",
       "2                             11.32                             7.25   \n",
       "3                             11.32                             7.25   \n",
       "4                             11.91                             7.25   \n",
       "\n",
       "   primary_cleaner.input.xanthate  primary_cleaner.state.floatbank8_a_air  \\\n",
       "0                            0.99                                 1549.78   \n",
       "1                            1.00                                 1576.17   \n",
       "2                            0.99                                 1601.56   \n",
       "3                            1.00                                 1599.97   \n",
       "4                            1.01                                 1601.34   \n",
       "\n",
       "   primary_cleaner.state.floatbank8_a_level  \\\n",
       "0                                   -498.91   \n",
       "1                                   -500.90   \n",
       "2                                   -500.00   \n",
       "3                                   -500.95   \n",
       "4                                   -498.98   \n",
       "\n",
       "   primary_cleaner.state.floatbank8_b_air  \\\n",
       "0                                 1551.43   \n",
       "1                                 1575.95   \n",
       "2                                 1600.39   \n",
       "3                                 1600.66   \n",
       "4                                 1601.44   \n",
       "\n",
       "   primary_cleaner.state.floatbank8_b_level  \\\n",
       "0                                   -516.40   \n",
       "1                                   -499.87   \n",
       "2                                   -500.61   \n",
       "3                                   -499.68   \n",
       "4                                   -500.32   \n",
       "\n",
       "   primary_cleaner.state.floatbank8_c_air  \\\n",
       "0                                 1549.87   \n",
       "1                                 1575.99   \n",
       "2                                 1602.00   \n",
       "3                                 1600.30   \n",
       "4                                 1599.58   \n",
       "\n",
       "   primary_cleaner.state.floatbank8_c_level  \\\n",
       "0                                   -498.67   \n",
       "1                                   -499.32   \n",
       "2                                   -500.87   \n",
       "3                                   -500.73   \n",
       "4                                   -500.89   \n",
       "\n",
       "   primary_cleaner.state.floatbank8_d_air  \\\n",
       "0                                 1554.37   \n",
       "1                                 1574.48   \n",
       "2                                 1599.54   \n",
       "3                                 1600.45   \n",
       "4                                 1602.65   \n",
       "\n",
       "   primary_cleaner.state.floatbank8_d_level  \\\n",
       "0                                   -493.43   \n",
       "1                                   -498.93   \n",
       "2                                   -499.83   \n",
       "3                                   -500.05   \n",
       "4                                   -500.59   \n",
       "\n",
       "   secondary_cleaner.state.floatbank2_a_air  \\\n",
       "0                                     25.85   \n",
       "1                                     25.88   \n",
       "2                                     26.01   \n",
       "3                                     25.94   \n",
       "4                                     26.02   \n",
       "\n",
       "   secondary_cleaner.state.floatbank2_a_level  \\\n",
       "0                                     -498.53   \n",
       "1                                     -499.99   \n",
       "2                                     -499.93   \n",
       "3                                     -499.18   \n",
       "4                                     -500.28   \n",
       "\n",
       "   secondary_cleaner.state.floatbank2_b_air  \\\n",
       "0                                     23.89   \n",
       "1                                     23.89   \n",
       "2                                     23.89   \n",
       "3                                     23.96   \n",
       "4                                     23.96   \n",
       "\n",
       "   secondary_cleaner.state.floatbank2_b_level  \\\n",
       "0                                     -501.41   \n",
       "1                                     -500.37   \n",
       "2                                     -499.95   \n",
       "3                                     -499.85   \n",
       "4                                     -500.59   \n",
       "\n",
       "   secondary_cleaner.state.floatbank3_a_air  \\\n",
       "0                                     23.96   \n",
       "1                                     23.97   \n",
       "2                                     23.91   \n",
       "3                                     23.97   \n",
       "4                                     23.99   \n",
       "\n",
       "   secondary_cleaner.state.floatbank3_a_level  \\\n",
       "0                                     -495.26   \n",
       "1                                     -500.09   \n",
       "2                                     -499.44   \n",
       "3                                     -500.01   \n",
       "4                                     -500.08   \n",
       "\n",
       "   secondary_cleaner.state.floatbank3_b_air  \\\n",
       "0                                     21.94   \n",
       "1                                     22.09   \n",
       "2                                     23.96   \n",
       "3                                     23.95   \n",
       "4                                     23.96   \n",
       "\n",
       "   secondary_cleaner.state.floatbank3_b_level  \\\n",
       "0                                     -499.34   \n",
       "1                                     -499.45   \n",
       "2                                     -499.90   \n",
       "3                                     -499.94   \n",
       "4                                     -499.99   \n",
       "\n",
       "   secondary_cleaner.state.floatbank4_a_air  \\\n",
       "0                                     14.02   \n",
       "1                                     13.99   \n",
       "2                                     14.02   \n",
       "3                                     14.04   \n",
       "4                                     14.03   \n",
       "\n",
       "   secondary_cleaner.state.floatbank4_a_level  \\\n",
       "0                                     -502.49   \n",
       "1                                     -505.50   \n",
       "2                                     -502.52   \n",
       "3                                     -500.86   \n",
       "4                                     -499.84   \n",
       "\n",
       "   secondary_cleaner.state.floatbank4_b_air  \\\n",
       "0                                     12.10   \n",
       "1                                     11.95   \n",
       "2                                     11.91   \n",
       "3                                     12.00   \n",
       "4                                     11.95   \n",
       "\n",
       "   secondary_cleaner.state.floatbank4_b_level  \\\n",
       "0                                     -504.72   \n",
       "1                                     -501.33   \n",
       "2                                     -501.13   \n",
       "3                                     -501.19   \n",
       "4                                     -501.05   \n",
       "\n",
       "   secondary_cleaner.state.floatbank5_a_air  \\\n",
       "0                                      9.93   \n",
       "1                                     10.04   \n",
       "2                                     10.07   \n",
       "3                                      9.97   \n",
       "4                                      9.93   \n",
       "\n",
       "   secondary_cleaner.state.floatbank5_a_level  \\\n",
       "0                                     -498.31   \n",
       "1                                     -500.17   \n",
       "2                                     -500.13   \n",
       "3                                     -499.20   \n",
       "4                                     -501.69   \n",
       "\n",
       "   secondary_cleaner.state.floatbank5_b_air  \\\n",
       "0                                      8.08   \n",
       "1                                      7.98   \n",
       "2                                      8.01   \n",
       "3                                      7.98   \n",
       "4                                      7.89   \n",
       "\n",
       "   secondary_cleaner.state.floatbank5_b_level  \\\n",
       "0                                     -500.47   \n",
       "1                                     -500.58   \n",
       "2                                     -500.52   \n",
       "3                                     -500.26   \n",
       "4                                     -500.36   \n",
       "\n",
       "   secondary_cleaner.state.floatbank6_a_air  \\\n",
       "0                                     14.15   \n",
       "1                                     14.00   \n",
       "2                                     14.03   \n",
       "3                                     14.01   \n",
       "4                                     14.00   \n",
       "\n",
       "   secondary_cleaner.state.floatbank6_a_level  rougher.output.recovery  \\\n",
       "0                                     -605.84                    87.11   \n",
       "1                                     -599.79                    86.84   \n",
       "2                                     -601.43                    86.84   \n",
       "3                                     -600.00                    87.23   \n",
       "4                                     -601.50                    86.69   \n",
       "\n",
       "   final.output.recovery  \n",
       "0                  70.54  \n",
       "1                  69.27  \n",
       "2                  68.12  \n",
       "3                  68.35  \n",
       "4                  66.93  "
      ]
     },
     "execution_count": 20,
     "metadata": {},
     "output_type": "execute_result"
    }
   ],
   "source": [
    "# Создадим фрейм данных, которые содержат дату и целевые прризнаки\n",
    "all_target = df[['date', 'rougher.output.recovery', 'final.output.recovery']]\n",
    "# Добавим целевые признаки по дате в обучающие и тестовые данные\n",
    "df_train = df_train.merge(all_target, on='date', how='left')\n",
    "df_test = df_test.merge(all_target, on='date', how='left')\n",
    "df_train.head()"
   ]
  },
  {
   "cell_type": "code",
   "execution_count": 21,
   "metadata": {
    "scrolled": true
   },
   "outputs": [
    {
     "data": {
      "text/html": [
       "<div>\n",
       "<style scoped>\n",
       "    .dataframe tbody tr th:only-of-type {\n",
       "        vertical-align: middle;\n",
       "    }\n",
       "\n",
       "    .dataframe tbody tr th {\n",
       "        vertical-align: top;\n",
       "    }\n",
       "\n",
       "    .dataframe thead th {\n",
       "        text-align: right;\n",
       "    }\n",
       "</style>\n",
       "<table border=\"1\" class=\"dataframe\">\n",
       "  <thead>\n",
       "    <tr style=\"text-align: right;\">\n",
       "      <th></th>\n",
       "      <th>date</th>\n",
       "      <th>rougher.input.feed_au</th>\n",
       "      <th>rougher.input.feed_ag</th>\n",
       "      <th>rougher.input.feed_pb</th>\n",
       "      <th>rougher.input.feed_sol</th>\n",
       "      <th>rougher.input.feed_rate</th>\n",
       "      <th>rougher.input.feed_size</th>\n",
       "      <th>rougher.input.floatbank10_sulfate</th>\n",
       "      <th>rougher.input.floatbank10_xanthate</th>\n",
       "      <th>rougher.state.floatbank10_a_air</th>\n",
       "      <th>rougher.state.floatbank10_a_level</th>\n",
       "      <th>rougher.state.floatbank10_b_air</th>\n",
       "      <th>rougher.state.floatbank10_b_level</th>\n",
       "      <th>rougher.state.floatbank10_c_air</th>\n",
       "      <th>rougher.state.floatbank10_c_level</th>\n",
       "      <th>rougher.state.floatbank10_d_air</th>\n",
       "      <th>rougher.state.floatbank10_d_level</th>\n",
       "      <th>rougher.state.floatbank10_e_air</th>\n",
       "      <th>rougher.state.floatbank10_e_level</th>\n",
       "      <th>rougher.state.floatbank10_f_air</th>\n",
       "      <th>rougher.state.floatbank10_f_level</th>\n",
       "      <th>rougher.input.floatbank11_sulfate</th>\n",
       "      <th>rougher.input.floatbank11_xanthate</th>\n",
       "      <th>primary_cleaner.input.sulfate</th>\n",
       "      <th>primary_cleaner.input.depressant</th>\n",
       "      <th>primary_cleaner.input.feed_size</th>\n",
       "      <th>primary_cleaner.input.xanthate</th>\n",
       "      <th>primary_cleaner.state.floatbank8_a_air</th>\n",
       "      <th>primary_cleaner.state.floatbank8_a_level</th>\n",
       "      <th>primary_cleaner.state.floatbank8_b_air</th>\n",
       "      <th>primary_cleaner.state.floatbank8_b_level</th>\n",
       "      <th>primary_cleaner.state.floatbank8_c_air</th>\n",
       "      <th>primary_cleaner.state.floatbank8_c_level</th>\n",
       "      <th>primary_cleaner.state.floatbank8_d_air</th>\n",
       "      <th>primary_cleaner.state.floatbank8_d_level</th>\n",
       "      <th>secondary_cleaner.state.floatbank2_a_air</th>\n",
       "      <th>secondary_cleaner.state.floatbank2_a_level</th>\n",
       "      <th>secondary_cleaner.state.floatbank2_b_air</th>\n",
       "      <th>secondary_cleaner.state.floatbank2_b_level</th>\n",
       "      <th>secondary_cleaner.state.floatbank3_a_air</th>\n",
       "      <th>secondary_cleaner.state.floatbank3_a_level</th>\n",
       "      <th>secondary_cleaner.state.floatbank3_b_air</th>\n",
       "      <th>secondary_cleaner.state.floatbank3_b_level</th>\n",
       "      <th>secondary_cleaner.state.floatbank4_a_air</th>\n",
       "      <th>secondary_cleaner.state.floatbank4_a_level</th>\n",
       "      <th>secondary_cleaner.state.floatbank4_b_air</th>\n",
       "      <th>secondary_cleaner.state.floatbank4_b_level</th>\n",
       "      <th>secondary_cleaner.state.floatbank5_a_air</th>\n",
       "      <th>secondary_cleaner.state.floatbank5_a_level</th>\n",
       "      <th>secondary_cleaner.state.floatbank5_b_air</th>\n",
       "      <th>secondary_cleaner.state.floatbank5_b_level</th>\n",
       "      <th>secondary_cleaner.state.floatbank6_a_air</th>\n",
       "      <th>secondary_cleaner.state.floatbank6_a_level</th>\n",
       "      <th>rougher.output.recovery</th>\n",
       "      <th>final.output.recovery</th>\n",
       "    </tr>\n",
       "  </thead>\n",
       "  <tbody>\n",
       "    <tr>\n",
       "      <th>0</th>\n",
       "      <td>2017-12-09 14:59:59</td>\n",
       "      <td>4.37</td>\n",
       "      <td>6.16</td>\n",
       "      <td>3.88</td>\n",
       "      <td>39.14</td>\n",
       "      <td>555.82</td>\n",
       "      <td>94.54</td>\n",
       "      <td>6.15</td>\n",
       "      <td>9.31</td>\n",
       "      <td>1196.24</td>\n",
       "      <td>-299.86</td>\n",
       "      <td>1147.25</td>\n",
       "      <td>-500.36</td>\n",
       "      <td>1047.28</td>\n",
       "      <td>-500.35</td>\n",
       "      <td>948.76</td>\n",
       "      <td>-498.44</td>\n",
       "      <td>849.44</td>\n",
       "      <td>-499.26</td>\n",
       "      <td>850.11</td>\n",
       "      <td>-499.41</td>\n",
       "      <td>6.17</td>\n",
       "      <td>9.31</td>\n",
       "      <td>95.25</td>\n",
       "      <td>8.08</td>\n",
       "      <td>6.50</td>\n",
       "      <td>1.28</td>\n",
       "      <td>1648.76</td>\n",
       "      <td>-399.86</td>\n",
       "      <td>1650.14</td>\n",
       "      <td>-399.96</td>\n",
       "      <td>1648.83</td>\n",
       "      <td>-400.59</td>\n",
       "      <td>1649.46</td>\n",
       "      <td>-400.67</td>\n",
       "      <td>34.94</td>\n",
       "      <td>-500.15</td>\n",
       "      <td>30.03</td>\n",
       "      <td>-500.33</td>\n",
       "      <td>26.03</td>\n",
       "      <td>-500.15</td>\n",
       "      <td>22.95</td>\n",
       "      <td>-500.04</td>\n",
       "      <td>23.02</td>\n",
       "      <td>-500.49</td>\n",
       "      <td>20.02</td>\n",
       "      <td>-500.22</td>\n",
       "      <td>17.96</td>\n",
       "      <td>-499.94</td>\n",
       "      <td>12.99</td>\n",
       "      <td>-500.08</td>\n",
       "      <td>19.99</td>\n",
       "      <td>-499.19</td>\n",
       "      <td>89.51</td>\n",
       "      <td>70.28</td>\n",
       "    </tr>\n",
       "    <tr>\n",
       "      <th>1</th>\n",
       "      <td>2017-12-09 15:59:59</td>\n",
       "      <td>4.36</td>\n",
       "      <td>6.05</td>\n",
       "      <td>3.90</td>\n",
       "      <td>39.71</td>\n",
       "      <td>544.73</td>\n",
       "      <td>123.74</td>\n",
       "      <td>6.21</td>\n",
       "      <td>9.30</td>\n",
       "      <td>1201.90</td>\n",
       "      <td>-299.91</td>\n",
       "      <td>1154.09</td>\n",
       "      <td>-500.04</td>\n",
       "      <td>1054.01</td>\n",
       "      <td>-500.24</td>\n",
       "      <td>944.14</td>\n",
       "      <td>-496.87</td>\n",
       "      <td>851.59</td>\n",
       "      <td>-499.04</td>\n",
       "      <td>851.35</td>\n",
       "      <td>-499.12</td>\n",
       "      <td>6.21</td>\n",
       "      <td>9.30</td>\n",
       "      <td>98.88</td>\n",
       "      <td>7.98</td>\n",
       "      <td>6.50</td>\n",
       "      <td>1.24</td>\n",
       "      <td>1646.55</td>\n",
       "      <td>-398.98</td>\n",
       "      <td>1648.21</td>\n",
       "      <td>-400.38</td>\n",
       "      <td>1648.92</td>\n",
       "      <td>-399.52</td>\n",
       "      <td>1651.50</td>\n",
       "      <td>-399.75</td>\n",
       "      <td>34.98</td>\n",
       "      <td>-498.13</td>\n",
       "      <td>29.97</td>\n",
       "      <td>-586.01</td>\n",
       "      <td>25.97</td>\n",
       "      <td>-499.61</td>\n",
       "      <td>22.96</td>\n",
       "      <td>-499.82</td>\n",
       "      <td>23.02</td>\n",
       "      <td>-501.15</td>\n",
       "      <td>20.05</td>\n",
       "      <td>-500.31</td>\n",
       "      <td>17.98</td>\n",
       "      <td>-499.27</td>\n",
       "      <td>12.99</td>\n",
       "      <td>-499.98</td>\n",
       "      <td>20.01</td>\n",
       "      <td>-500.63</td>\n",
       "      <td>89.86</td>\n",
       "      <td>65.52</td>\n",
       "    </tr>\n",
       "    <tr>\n",
       "      <th>2</th>\n",
       "      <td>2017-12-09 16:59:59</td>\n",
       "      <td>5.08</td>\n",
       "      <td>6.08</td>\n",
       "      <td>4.56</td>\n",
       "      <td>37.21</td>\n",
       "      <td>558.16</td>\n",
       "      <td>82.61</td>\n",
       "      <td>7.36</td>\n",
       "      <td>9.00</td>\n",
       "      <td>1200.83</td>\n",
       "      <td>-300.12</td>\n",
       "      <td>1150.75</td>\n",
       "      <td>-499.99</td>\n",
       "      <td>1049.18</td>\n",
       "      <td>-500.01</td>\n",
       "      <td>948.09</td>\n",
       "      <td>-500.00</td>\n",
       "      <td>850.17</td>\n",
       "      <td>-500.27</td>\n",
       "      <td>849.56</td>\n",
       "      <td>-500.20</td>\n",
       "      <td>7.36</td>\n",
       "      <td>9.00</td>\n",
       "      <td>119.50</td>\n",
       "      <td>8.00</td>\n",
       "      <td>6.50</td>\n",
       "      <td>1.26</td>\n",
       "      <td>1647.37</td>\n",
       "      <td>-399.79</td>\n",
       "      <td>1648.40</td>\n",
       "      <td>-400.17</td>\n",
       "      <td>1648.95</td>\n",
       "      <td>-400.47</td>\n",
       "      <td>1649.82</td>\n",
       "      <td>-400.07</td>\n",
       "      <td>34.95</td>\n",
       "      <td>-501.20</td>\n",
       "      <td>29.93</td>\n",
       "      <td>-500.11</td>\n",
       "      <td>25.98</td>\n",
       "      <td>-499.89</td>\n",
       "      <td>23.00</td>\n",
       "      <td>-500.01</td>\n",
       "      <td>22.99</td>\n",
       "      <td>-501.56</td>\n",
       "      <td>20.03</td>\n",
       "      <td>-500.00</td>\n",
       "      <td>18.01</td>\n",
       "      <td>-500.02</td>\n",
       "      <td>13.02</td>\n",
       "      <td>-500.06</td>\n",
       "      <td>19.97</td>\n",
       "      <td>-501.39</td>\n",
       "      <td>91.82</td>\n",
       "      <td>74.82</td>\n",
       "    </tr>\n",
       "    <tr>\n",
       "      <th>3</th>\n",
       "      <td>2017-12-09 17:59:59</td>\n",
       "      <td>5.15</td>\n",
       "      <td>6.08</td>\n",
       "      <td>4.77</td>\n",
       "      <td>36.81</td>\n",
       "      <td>539.71</td>\n",
       "      <td>77.98</td>\n",
       "      <td>6.93</td>\n",
       "      <td>8.96</td>\n",
       "      <td>1199.29</td>\n",
       "      <td>-299.78</td>\n",
       "      <td>1152.51</td>\n",
       "      <td>-500.34</td>\n",
       "      <td>1052.60</td>\n",
       "      <td>-499.70</td>\n",
       "      <td>955.17</td>\n",
       "      <td>-500.29</td>\n",
       "      <td>851.96</td>\n",
       "      <td>-499.78</td>\n",
       "      <td>850.77</td>\n",
       "      <td>-501.03</td>\n",
       "      <td>6.93</td>\n",
       "      <td>8.92</td>\n",
       "      <td>108.08</td>\n",
       "      <td>7.97</td>\n",
       "      <td>6.66</td>\n",
       "      <td>0.77</td>\n",
       "      <td>1652.66</td>\n",
       "      <td>-399.70</td>\n",
       "      <td>1651.20</td>\n",
       "      <td>-400.29</td>\n",
       "      <td>1651.92</td>\n",
       "      <td>-398.06</td>\n",
       "      <td>1650.78</td>\n",
       "      <td>-399.60</td>\n",
       "      <td>35.04</td>\n",
       "      <td>-500.10</td>\n",
       "      <td>30.07</td>\n",
       "      <td>-500.21</td>\n",
       "      <td>26.01</td>\n",
       "      <td>-500.05</td>\n",
       "      <td>22.99</td>\n",
       "      <td>-499.98</td>\n",
       "      <td>23.03</td>\n",
       "      <td>-501.29</td>\n",
       "      <td>19.98</td>\n",
       "      <td>-500.16</td>\n",
       "      <td>17.98</td>\n",
       "      <td>-500.50</td>\n",
       "      <td>12.95</td>\n",
       "      <td>-500.01</td>\n",
       "      <td>20.01</td>\n",
       "      <td>-508.34</td>\n",
       "      <td>88.48</td>\n",
       "      <td>63.08</td>\n",
       "    </tr>\n",
       "    <tr>\n",
       "      <th>4</th>\n",
       "      <td>2017-12-09 18:59:59</td>\n",
       "      <td>5.74</td>\n",
       "      <td>6.17</td>\n",
       "      <td>4.51</td>\n",
       "      <td>37.81</td>\n",
       "      <td>558.71</td>\n",
       "      <td>86.43</td>\n",
       "      <td>7.82</td>\n",
       "      <td>7.49</td>\n",
       "      <td>1198.01</td>\n",
       "      <td>-300.28</td>\n",
       "      <td>1099.48</td>\n",
       "      <td>-499.70</td>\n",
       "      <td>999.54</td>\n",
       "      <td>-499.31</td>\n",
       "      <td>889.45</td>\n",
       "      <td>-498.12</td>\n",
       "      <td>800.53</td>\n",
       "      <td>-499.77</td>\n",
       "      <td>800.51</td>\n",
       "      <td>-497.29</td>\n",
       "      <td>7.82</td>\n",
       "      <td>7.50</td>\n",
       "      <td>117.75</td>\n",
       "      <td>6.95</td>\n",
       "      <td>6.43</td>\n",
       "      <td>0.73</td>\n",
       "      <td>1649.41</td>\n",
       "      <td>-399.85</td>\n",
       "      <td>1648.92</td>\n",
       "      <td>-400.32</td>\n",
       "      <td>1649.12</td>\n",
       "      <td>-399.65</td>\n",
       "      <td>1650.40</td>\n",
       "      <td>-400.65</td>\n",
       "      <td>34.89</td>\n",
       "      <td>-498.44</td>\n",
       "      <td>30.02</td>\n",
       "      <td>-533.83</td>\n",
       "      <td>26.02</td>\n",
       "      <td>-499.73</td>\n",
       "      <td>22.99</td>\n",
       "      <td>-499.89</td>\n",
       "      <td>23.00</td>\n",
       "      <td>-499.95</td>\n",
       "      <td>20.02</td>\n",
       "      <td>-499.71</td>\n",
       "      <td>17.99</td>\n",
       "      <td>-500.33</td>\n",
       "      <td>13.01</td>\n",
       "      <td>-499.97</td>\n",
       "      <td>20.00</td>\n",
       "      <td>-499.79</td>\n",
       "      <td>89.23</td>\n",
       "      <td>74.46</td>\n",
       "    </tr>\n",
       "  </tbody>\n",
       "</table>\n",
       "</div>"
      ],
      "text/plain": [
       "                 date  rougher.input.feed_au  rougher.input.feed_ag  \\\n",
       "0 2017-12-09 14:59:59                   4.37                   6.16   \n",
       "1 2017-12-09 15:59:59                   4.36                   6.05   \n",
       "2 2017-12-09 16:59:59                   5.08                   6.08   \n",
       "3 2017-12-09 17:59:59                   5.15                   6.08   \n",
       "4 2017-12-09 18:59:59                   5.74                   6.17   \n",
       "\n",
       "   rougher.input.feed_pb  rougher.input.feed_sol  rougher.input.feed_rate  \\\n",
       "0                   3.88                   39.14                   555.82   \n",
       "1                   3.90                   39.71                   544.73   \n",
       "2                   4.56                   37.21                   558.16   \n",
       "3                   4.77                   36.81                   539.71   \n",
       "4                   4.51                   37.81                   558.71   \n",
       "\n",
       "   rougher.input.feed_size  rougher.input.floatbank10_sulfate  \\\n",
       "0                    94.54                               6.15   \n",
       "1                   123.74                               6.21   \n",
       "2                    82.61                               7.36   \n",
       "3                    77.98                               6.93   \n",
       "4                    86.43                               7.82   \n",
       "\n",
       "   rougher.input.floatbank10_xanthate  rougher.state.floatbank10_a_air  \\\n",
       "0                                9.31                          1196.24   \n",
       "1                                9.30                          1201.90   \n",
       "2                                9.00                          1200.83   \n",
       "3                                8.96                          1199.29   \n",
       "4                                7.49                          1198.01   \n",
       "\n",
       "   rougher.state.floatbank10_a_level  rougher.state.floatbank10_b_air  \\\n",
       "0                            -299.86                          1147.25   \n",
       "1                            -299.91                          1154.09   \n",
       "2                            -300.12                          1150.75   \n",
       "3                            -299.78                          1152.51   \n",
       "4                            -300.28                          1099.48   \n",
       "\n",
       "   rougher.state.floatbank10_b_level  rougher.state.floatbank10_c_air  \\\n",
       "0                            -500.36                          1047.28   \n",
       "1                            -500.04                          1054.01   \n",
       "2                            -499.99                          1049.18   \n",
       "3                            -500.34                          1052.60   \n",
       "4                            -499.70                           999.54   \n",
       "\n",
       "   rougher.state.floatbank10_c_level  rougher.state.floatbank10_d_air  \\\n",
       "0                            -500.35                           948.76   \n",
       "1                            -500.24                           944.14   \n",
       "2                            -500.01                           948.09   \n",
       "3                            -499.70                           955.17   \n",
       "4                            -499.31                           889.45   \n",
       "\n",
       "   rougher.state.floatbank10_d_level  rougher.state.floatbank10_e_air  \\\n",
       "0                            -498.44                           849.44   \n",
       "1                            -496.87                           851.59   \n",
       "2                            -500.00                           850.17   \n",
       "3                            -500.29                           851.96   \n",
       "4                            -498.12                           800.53   \n",
       "\n",
       "   rougher.state.floatbank10_e_level  rougher.state.floatbank10_f_air  \\\n",
       "0                            -499.26                           850.11   \n",
       "1                            -499.04                           851.35   \n",
       "2                            -500.27                           849.56   \n",
       "3                            -499.78                           850.77   \n",
       "4                            -499.77                           800.51   \n",
       "\n",
       "   rougher.state.floatbank10_f_level  rougher.input.floatbank11_sulfate  \\\n",
       "0                            -499.41                               6.17   \n",
       "1                            -499.12                               6.21   \n",
       "2                            -500.20                               7.36   \n",
       "3                            -501.03                               6.93   \n",
       "4                            -497.29                               7.82   \n",
       "\n",
       "   rougher.input.floatbank11_xanthate  primary_cleaner.input.sulfate  \\\n",
       "0                                9.31                          95.25   \n",
       "1                                9.30                          98.88   \n",
       "2                                9.00                         119.50   \n",
       "3                                8.92                         108.08   \n",
       "4                                7.50                         117.75   \n",
       "\n",
       "   primary_cleaner.input.depressant  primary_cleaner.input.feed_size  \\\n",
       "0                              8.08                             6.50   \n",
       "1                              7.98                             6.50   \n",
       "2                              8.00                             6.50   \n",
       "3                              7.97                             6.66   \n",
       "4                              6.95                             6.43   \n",
       "\n",
       "   primary_cleaner.input.xanthate  primary_cleaner.state.floatbank8_a_air  \\\n",
       "0                            1.28                                 1648.76   \n",
       "1                            1.24                                 1646.55   \n",
       "2                            1.26                                 1647.37   \n",
       "3                            0.77                                 1652.66   \n",
       "4                            0.73                                 1649.41   \n",
       "\n",
       "   primary_cleaner.state.floatbank8_a_level  \\\n",
       "0                                   -399.86   \n",
       "1                                   -398.98   \n",
       "2                                   -399.79   \n",
       "3                                   -399.70   \n",
       "4                                   -399.85   \n",
       "\n",
       "   primary_cleaner.state.floatbank8_b_air  \\\n",
       "0                                 1650.14   \n",
       "1                                 1648.21   \n",
       "2                                 1648.40   \n",
       "3                                 1651.20   \n",
       "4                                 1648.92   \n",
       "\n",
       "   primary_cleaner.state.floatbank8_b_level  \\\n",
       "0                                   -399.96   \n",
       "1                                   -400.38   \n",
       "2                                   -400.17   \n",
       "3                                   -400.29   \n",
       "4                                   -400.32   \n",
       "\n",
       "   primary_cleaner.state.floatbank8_c_air  \\\n",
       "0                                 1648.83   \n",
       "1                                 1648.92   \n",
       "2                                 1648.95   \n",
       "3                                 1651.92   \n",
       "4                                 1649.12   \n",
       "\n",
       "   primary_cleaner.state.floatbank8_c_level  \\\n",
       "0                                   -400.59   \n",
       "1                                   -399.52   \n",
       "2                                   -400.47   \n",
       "3                                   -398.06   \n",
       "4                                   -399.65   \n",
       "\n",
       "   primary_cleaner.state.floatbank8_d_air  \\\n",
       "0                                 1649.46   \n",
       "1                                 1651.50   \n",
       "2                                 1649.82   \n",
       "3                                 1650.78   \n",
       "4                                 1650.40   \n",
       "\n",
       "   primary_cleaner.state.floatbank8_d_level  \\\n",
       "0                                   -400.67   \n",
       "1                                   -399.75   \n",
       "2                                   -400.07   \n",
       "3                                   -399.60   \n",
       "4                                   -400.65   \n",
       "\n",
       "   secondary_cleaner.state.floatbank2_a_air  \\\n",
       "0                                     34.94   \n",
       "1                                     34.98   \n",
       "2                                     34.95   \n",
       "3                                     35.04   \n",
       "4                                     34.89   \n",
       "\n",
       "   secondary_cleaner.state.floatbank2_a_level  \\\n",
       "0                                     -500.15   \n",
       "1                                     -498.13   \n",
       "2                                     -501.20   \n",
       "3                                     -500.10   \n",
       "4                                     -498.44   \n",
       "\n",
       "   secondary_cleaner.state.floatbank2_b_air  \\\n",
       "0                                     30.03   \n",
       "1                                     29.97   \n",
       "2                                     29.93   \n",
       "3                                     30.07   \n",
       "4                                     30.02   \n",
       "\n",
       "   secondary_cleaner.state.floatbank2_b_level  \\\n",
       "0                                     -500.33   \n",
       "1                                     -586.01   \n",
       "2                                     -500.11   \n",
       "3                                     -500.21   \n",
       "4                                     -533.83   \n",
       "\n",
       "   secondary_cleaner.state.floatbank3_a_air  \\\n",
       "0                                     26.03   \n",
       "1                                     25.97   \n",
       "2                                     25.98   \n",
       "3                                     26.01   \n",
       "4                                     26.02   \n",
       "\n",
       "   secondary_cleaner.state.floatbank3_a_level  \\\n",
       "0                                     -500.15   \n",
       "1                                     -499.61   \n",
       "2                                     -499.89   \n",
       "3                                     -500.05   \n",
       "4                                     -499.73   \n",
       "\n",
       "   secondary_cleaner.state.floatbank3_b_air  \\\n",
       "0                                     22.95   \n",
       "1                                     22.96   \n",
       "2                                     23.00   \n",
       "3                                     22.99   \n",
       "4                                     22.99   \n",
       "\n",
       "   secondary_cleaner.state.floatbank3_b_level  \\\n",
       "0                                     -500.04   \n",
       "1                                     -499.82   \n",
       "2                                     -500.01   \n",
       "3                                     -499.98   \n",
       "4                                     -499.89   \n",
       "\n",
       "   secondary_cleaner.state.floatbank4_a_air  \\\n",
       "0                                     23.02   \n",
       "1                                     23.02   \n",
       "2                                     22.99   \n",
       "3                                     23.03   \n",
       "4                                     23.00   \n",
       "\n",
       "   secondary_cleaner.state.floatbank4_a_level  \\\n",
       "0                                     -500.49   \n",
       "1                                     -501.15   \n",
       "2                                     -501.56   \n",
       "3                                     -501.29   \n",
       "4                                     -499.95   \n",
       "\n",
       "   secondary_cleaner.state.floatbank4_b_air  \\\n",
       "0                                     20.02   \n",
       "1                                     20.05   \n",
       "2                                     20.03   \n",
       "3                                     19.98   \n",
       "4                                     20.02   \n",
       "\n",
       "   secondary_cleaner.state.floatbank4_b_level  \\\n",
       "0                                     -500.22   \n",
       "1                                     -500.31   \n",
       "2                                     -500.00   \n",
       "3                                     -500.16   \n",
       "4                                     -499.71   \n",
       "\n",
       "   secondary_cleaner.state.floatbank5_a_air  \\\n",
       "0                                     17.96   \n",
       "1                                     17.98   \n",
       "2                                     18.01   \n",
       "3                                     17.98   \n",
       "4                                     17.99   \n",
       "\n",
       "   secondary_cleaner.state.floatbank5_a_level  \\\n",
       "0                                     -499.94   \n",
       "1                                     -499.27   \n",
       "2                                     -500.02   \n",
       "3                                     -500.50   \n",
       "4                                     -500.33   \n",
       "\n",
       "   secondary_cleaner.state.floatbank5_b_air  \\\n",
       "0                                     12.99   \n",
       "1                                     12.99   \n",
       "2                                     13.02   \n",
       "3                                     12.95   \n",
       "4                                     13.01   \n",
       "\n",
       "   secondary_cleaner.state.floatbank5_b_level  \\\n",
       "0                                     -500.08   \n",
       "1                                     -499.98   \n",
       "2                                     -500.06   \n",
       "3                                     -500.01   \n",
       "4                                     -499.97   \n",
       "\n",
       "   secondary_cleaner.state.floatbank6_a_air  \\\n",
       "0                                     19.99   \n",
       "1                                     20.01   \n",
       "2                                     19.97   \n",
       "3                                     20.01   \n",
       "4                                     20.00   \n",
       "\n",
       "   secondary_cleaner.state.floatbank6_a_level  rougher.output.recovery  \\\n",
       "0                                     -499.19                    89.51   \n",
       "1                                     -500.63                    89.86   \n",
       "2                                     -501.39                    91.82   \n",
       "3                                     -508.34                    88.48   \n",
       "4                                     -499.79                    89.23   \n",
       "\n",
       "   final.output.recovery  \n",
       "0                  70.28  \n",
       "1                  65.52  \n",
       "2                  74.82  \n",
       "3                  63.08  \n",
       "4                  74.46  "
      ]
     },
     "execution_count": 21,
     "metadata": {},
     "output_type": "execute_result"
    }
   ],
   "source": [
    "df_test.head()"
   ]
  },
  {
   "cell_type": "markdown",
   "metadata": {},
   "source": [
    "### Вывод по подготвке данных:\n",
    "\n",
    "- Проведена проверка расчета эффективности обогащения, значение метрики МАЕ, рассчитаное на данных полного датафрейма стремится к нулю, что говорит о корректности формулы.\n",
    "- В обучающих данных присутсвует несколько столбцов с параметрами, которые описывают характеристики руды после технологических процессов. В реальных условиях таких данных у моделей не будет. Описанные столбцы удалены из обучающего датасета.\n",
    "- К обучающему и тестовому датасетам добавлены цлевые признаки.\n",
    "- Пропуски в данных заполнены ближайщими предыдущими значениями."
   ]
  },
  {
   "cell_type": "markdown",
   "metadata": {},
   "source": [
    "## Анализ данных"
   ]
  },
  {
   "cell_type": "markdown",
   "metadata": {},
   "source": [
    "### Изменение концентрации металлов (Au, Ag, Pb) на различных этапах"
   ]
  },
  {
   "cell_type": "code",
   "execution_count": 22,
   "metadata": {},
   "outputs": [],
   "source": [
    "def element_concentration(data, element):\n",
    "    str_element = str(element)\n",
    "    primary_concentration = data['rougher.input.feed_' + str_element]\n",
    "    rougher_concentration = data['rougher.output.concentrate_' + str_element]\n",
    "    primary_cleaner_concentration = data['primary_cleaner.output.concentrate_' + str_element]\n",
    "    secondary_cleaner_concentration = data['final.output.concentrate_' + str_element]\n",
    "    all_concentration = pd.concat([primary_concentration, \n",
    "                                   rougher_concentration,\n",
    "                                   primary_cleaner_concentration,\n",
    "                                   secondary_cleaner_concentration,], axis=1)\n",
    "    all_concentration.columns = ['primary', 'rougher', 'primary_cleaner', 'secondary_cleaner']\n",
    "    \n",
    "    plt.figure(figsize=(16, 8))\n",
    "    plt.title('Концентрация '+ element +' на всех этапах')\n",
    "    primary_hist = sns.distplot( a=all_concentration['primary'], label='Сырье',\n",
    "                                hist=True, kde=True, rug=False)\n",
    "    rougher_hist = sns.distplot( a=all_concentration['rougher'], label='Флотация',\n",
    "                                hist=True, kde=True, rug=False)\n",
    "    primary_cleaner_hist = sns.distplot( a=all_concentration['primary_cleaner'], label='Первая очистка',\n",
    "                                        hist=True, kde=True, rug=False, )\n",
    "    secondary_cleaner_hist = sns.distplot( a=all_concentration['secondary_cleaner'], label='Финальный концентрат',\n",
    "                                          hist=True, kde=True, rug=False)\n",
    "    \n",
    "    plt.legend()\n",
    "    plt.xlabel('Концентрация')\n",
    "    plt.ylabel('Плотность вероятностей')    \n",
    "    return rougher_hist, primary_cleaner_hist, secondary_cleaner_hist"
   ]
  },
  {
   "cell_type": "code",
   "execution_count": 23,
   "metadata": {
    "scrolled": false
   },
   "outputs": [
    {
     "data": {
      "image/png": "[encoded data removed]",
      "text/plain": [
       "<Figure size 1152x576 with 1 Axes>"
      ]
     },
     "metadata": {
      "needs_background": "light"
     },
     "output_type": "display_data"
    },
    {
     "data": {
      "image/png": "[encoded data removed]",
      "text/plain": [
       "<Figure size 1152x576 with 1 Axes>"
      ]
     },
     "metadata": {
      "needs_background": "light"
     },
     "output_type": "display_data"
    },
    {
     "data": {
      "image/png": "[encoded data removed]",
      "text/plain": [
       "<Figure size 1152x576 with 1 Axes>"
      ]
     },
     "metadata": {
      "needs_background": "light"
     },
     "output_type": "display_data"
    }
   ],
   "source": [
    "elements = ['au', 'ag', 'pb']\n",
    "for i in elements:\n",
    "    element_concentration(df, i)"
   ]
  },
  {
   "cell_type": "markdown",
   "metadata": {},
   "source": [
    "Из гистограммах изменения концентрации металлов (Au, Ag, Pb) на различных этапах хорошо видно, что:\n",
    "- Концентрация золота (Au) увеличивается после каждого технологического этапа. До начала обратотки концентрация находилась в  в диапазоне 5- 12, после вторичной очистки (на финальном этапе) концентрация находится в диапазоне 40-50. Концентрация после прохождения всех этапов очистки увеличивается почти в 5 раз.\n",
    "- Концентрация серебра (Ag) до обработки составляет 5-12 и растёт на первых двух этапах (флотация и первая очистка). После вторичной очистки концентрация падает и её значение становится меньше, чем было до начала обработки. Это может говорить о том, что в отвальных хвостах после финального этапа очистки находится руда с большой концентрацией серебра. \n",
    "- Концентрация свинца (Pb) после флотации увеличивается примерно в 2.5 раза. После прохождения первой очистки увеличивается еще в полтора раза, но до получения финального концентрата сильно не меняется.\n",
    "- Наблюдаются выбросы концентрации в районе нуля на каждом этапе очистки. Возможно, это данные неудачных, то есть не содержащих никаких нужных веществ, заборов руды. Такие выбросы логично удалить, чтобы сконцентрироваться на анализе эффективных заборах руды."
   ]
  },
  {
   "cell_type": "code",
   "execution_count": 24,
   "metadata": {},
   "outputs": [],
   "source": [
    "# Удаление выбросов в районе нуля на всех этапах очистки из полного датафрейма:\n",
    "df = df[(df['rougher.input.feed_ag'] >=1) &\n",
    "            (df['rougher.input.feed_pb'] >=1) &\n",
    "            (df['rougher.input.feed_au'] >=1) &\n",
    "            (df['rougher.output.concentrate_ag'] >=1) &\n",
    "            (df['rougher.output.concentrate_pb'] >=1) &\n",
    "            (df['rougher.output.concentrate_au'] >=1) &\n",
    "            (df['primary_cleaner.output.concentrate_ag'] >=1) &\n",
    "            (df['primary_cleaner.output.concentrate_pb'] >=1) &\n",
    "            (df['primary_cleaner.output.concentrate_au'] >=1) &\n",
    "            (df['final.output.concentrate_ag'] >=1) &\n",
    "            (df['final.output.concentrate_pb'] >=1) &\n",
    "            (df['final.output.concentrate_au'] >=1)]"
   ]
  },
  {
   "cell_type": "code",
   "execution_count": 25,
   "metadata": {
    "scrolled": false
   },
   "outputs": [],
   "source": [
    "# Оставим в обучающем датафрейме только те строки 'date', которых есть в столбце 'date' у full выборки:\n",
    "df_train = df_train[df_train['date'].isin(df['date'])]"
   ]
  },
  {
   "cell_type": "code",
   "execution_count": 26,
   "metadata": {},
   "outputs": [],
   "source": [
    "# Удалим столбцы с информацией о дате, т.к. в ней больше нет необходимости\n",
    "df = df.drop('date', axis=1)\n",
    "df_test = df_test.drop('date', axis=1)\n",
    "df_train = df_train.drop('date', axis=1)"
   ]
  },
  {
   "cell_type": "markdown",
   "metadata": {},
   "source": [
    "### Сравнение распределения размеров гранул исходного сырья на обучающей и тестовой выборках"
   ]
  },
  {
   "cell_type": "code",
   "execution_count": 27,
   "metadata": {
    "scrolled": false
   },
   "outputs": [
    {
     "name": "stdout",
     "output_type": "stream",
     "text": [
      "Средний размер гранул в обучающей выборке: 58.789762559813546\n",
      "Средний размер гранул в тестовой выборке: 59.080175097036566\n"
     ]
    },
    {
     "data": {
      "image/png": "[encoded data removed]",
      "text/plain": [
       "<Figure size 1152x576 with 1 Axes>"
      ]
     },
     "metadata": {
      "needs_background": "light"
     },
     "output_type": "display_data"
    }
   ],
   "source": [
    "plt.figure(figsize=(16, 8))\n",
    "plt.title('Распределение размеров гранул в обучающей и тестовой выборках')\n",
    "sns.distplot(a=df_train['rougher.input.feed_size'], label='Обучающая выборка', hist=True, kde=True, rug=False, bins=150)\n",
    "sns.distplot(a=df_test['rougher.input.feed_size'], label='Тестовая выборка', hist=True, kde=True, rug=False, bins=150)\n",
    "plt.legend()\n",
    "plt.xlabel('Размеры гранул')\n",
    "plt.ylabel('Плотность вероятностей')   \n",
    "plt.xlim(0, 150);\n",
    "print('Средний размер гранул в обучающей выборке:', df_train['rougher.input.feed_size'].mean())\n",
    "print('Средний размер гранул в тестовой выборке:', df_test['rougher.input.feed_size'].mean())"
   ]
  },
  {
   "cell_type": "markdown",
   "metadata": {},
   "source": [
    "- Распределения размеров гранул исходного сырья на обучающей и тестовой выборках имеют похожий характер, что говорит об однородности распределения данных в обоих выборках."
   ]
  },
  {
   "cell_type": "markdown",
   "metadata": {},
   "source": [
    "- На этапе флотации размер гранул и его распределение имеют одиноковые распределения (близкое к нормальному)."
   ]
  },
  {
   "cell_type": "markdown",
   "metadata": {},
   "source": [
    "### Cуммарная концентрация металлов на разных стадиях: в сырье, в черновом концентрате, в концентрате после первой очистки и в финальном концентрате."
   ]
  },
  {
   "cell_type": "code",
   "execution_count": 28,
   "metadata": {},
   "outputs": [
    {
     "data": {
      "text/html": [
       "<div>\n",
       "<style scoped>\n",
       "    .dataframe tbody tr th:only-of-type {\n",
       "        vertical-align: middle;\n",
       "    }\n",
       "\n",
       "    .dataframe tbody tr th {\n",
       "        vertical-align: top;\n",
       "    }\n",
       "\n",
       "    .dataframe thead th {\n",
       "        text-align: right;\n",
       "    }\n",
       "</style>\n",
       "<table border=\"1\" class=\"dataframe\">\n",
       "  <thead>\n",
       "    <tr style=\"text-align: right;\">\n",
       "      <th></th>\n",
       "      <th>rougher</th>\n",
       "      <th>input</th>\n",
       "      <th>primary_cleaner</th>\n",
       "      <th>secondary_cleaner</th>\n",
       "    </tr>\n",
       "  </thead>\n",
       "  <tbody>\n",
       "    <tr>\n",
       "      <th>0</th>\n",
       "      <td>66.42</td>\n",
       "      <td>51.68</td>\n",
       "      <td>72.64</td>\n",
       "      <td>63.64</td>\n",
       "    </tr>\n",
       "    <tr>\n",
       "      <th>1</th>\n",
       "      <td>67.01</td>\n",
       "      <td>50.66</td>\n",
       "      <td>72.54</td>\n",
       "      <td>63.96</td>\n",
       "    </tr>\n",
       "    <tr>\n",
       "      <th>2</th>\n",
       "      <td>66.10</td>\n",
       "      <td>50.61</td>\n",
       "      <td>72.10</td>\n",
       "      <td>64.31</td>\n",
       "    </tr>\n",
       "    <tr>\n",
       "      <th>3</th>\n",
       "      <td>65.75</td>\n",
       "      <td>51.06</td>\n",
       "      <td>59.96</td>\n",
       "      <td>63.57</td>\n",
       "    </tr>\n",
       "    <tr>\n",
       "      <th>4</th>\n",
       "      <td>65.91</td>\n",
       "      <td>47.86</td>\n",
       "      <td>71.32</td>\n",
       "      <td>64.00</td>\n",
       "    </tr>\n",
       "  </tbody>\n",
       "</table>\n",
       "</div>"
      ],
      "text/plain": [
       "   rougher  input  primary_cleaner  secondary_cleaner\n",
       "0    66.42  51.68            72.64              63.64\n",
       "1    67.01  50.66            72.54              63.96\n",
       "2    66.10  50.61            72.10              64.31\n",
       "3    65.75  51.06            59.96              63.57\n",
       "4    65.91  47.86            71.32              64.00"
      ]
     },
     "execution_count": 28,
     "metadata": {},
     "output_type": "execute_result"
    }
   ],
   "source": [
    "sum_concentrate = pd.DataFrame(df['rougher.output.concentrate_ag'] + df['rougher.output.concentrate_pb']\n",
    "                              + df['rougher.output.concentrate_sol'] + df['rougher.output.concentrate_au'],\n",
    "                               columns=['rougher'], index=df.index)\n",
    "sum_concentrate['input'] = (df['rougher.input.feed_ag']\n",
    "                            + df['rougher.input.feed_pb']\n",
    "                            + df['rougher.input.feed_sol']\n",
    "                            + df['rougher.input.feed_au'])\n",
    "sum_concentrate['primary_cleaner'] = (df['primary_cleaner.output.concentrate_ag']\n",
    "                                      + df['primary_cleaner.output.concentrate_pb'] \n",
    "                                      + df['primary_cleaner.output.concentrate_sol']\n",
    "                                      + df['primary_cleaner.output.concentrate_au'])\n",
    "sum_concentrate['secondary_cleaner'] = (df['final.output.concentrate_ag'] + df['final.output.concentrate_pb'] \n",
    "                                        + df['final.output.concentrate_sol'] + df['final.output.concentrate_au'])\n",
    "sum_concentrate.head()"
   ]
  },
  {
   "cell_type": "code",
   "execution_count": 29,
   "metadata": {},
   "outputs": [
    {
     "data": {
      "image/png": "[encoded data removed]",
      "text/plain": [
       "<Figure size 1152x576 with 1 Axes>"
      ]
     },
     "metadata": {
      "needs_background": "light"
     },
     "output_type": "display_data"
    }
   ],
   "source": [
    "plt.figure(figsize=(16, 8))\n",
    "plt.title('Сумма концентраций всех веществ на разных производственных этапах:')\n",
    "sns.distplot(a=sum_concentrate['input'], label='Сырье', hist=True, kde=True, rug=False, bins=50)\n",
    "sns.distplot(a=sum_concentrate['rougher'], label='Флотация', hist=True, kde=True, rug=False, bins=50)\n",
    "sns.distplot(a=sum_concentrate['primary_cleaner'], label='Первичная очистка', hist=True, kde=True, rug=False, bins=50)\n",
    "sns.distplot(a=sum_concentrate['secondary_cleaner'], label='Финальный концентрат', hist=True, kde=True, rug=False, bins=50)\n",
    "plt.legend()\n",
    "plt.xlabel('Сумарная концентрация')\n",
    "plt.ylabel('Плотность вероятностей');"
   ]
  },
  {
   "cell_type": "markdown",
   "metadata": {},
   "source": [
    "- Из проведенного ранее анализа было установлено, что концентрация золота и свинца растет каждым этапом очистки, в отличие от серебра. Поэтому вполне ожидаемо, что после флотации сумма всех концентраций иногда выше, чем после вторичной очистки. Суммарная концентрация веществ в сырье самая маленькая. "
   ]
  },
  {
   "cell_type": "markdown",
   "metadata": {},
   "source": [
    "## Модель"
   ]
  },
  {
   "cell_type": "markdown",
   "metadata": {},
   "source": [
    "### Функция для вычисления итоговой sMAPE"
   ]
  },
  {
   "cell_type": "code",
   "execution_count": 30,
   "metadata": {},
   "outputs": [],
   "source": [
    "# вспомогательная функция:\n",
    "def calculate_smape(target, predict):\n",
    "    n = len(target)\n",
    "    smape = (1/n) * np.sum(2 * np.abs(predict - target) / (np.abs(target) + np.abs(predict))) * 100\n",
    "    return smape\n",
    "# Итогавая функция sMAPE:\n",
    "def smape_summary(rougher, final):\n",
    "    return (0.25 * rougher + 0.75 * final)\n",
    "def calculate_total_smape(rougher_target, final_target, rougher_predict, final_predict):  \n",
    "    rougher_metric = calculate_smape(rougher_target, rougher_predict)\n",
    "    final_metric = calculate_smape(final_target, final_predict)\n",
    "    return 0.25 * rougher_metric + 0.75 * final_metric\n",
    "    "
   ]
  },
  {
   "cell_type": "markdown",
   "metadata": {},
   "source": [
    "### Обучение различных моделей"
   ]
  },
  {
   "cell_type": "markdown",
   "metadata": {},
   "source": [
    "#### Подготовка признаков"
   ]
  },
  {
   "cell_type": "markdown",
   "metadata": {},
   "source": [
    "- Необходимо предсказвть два целевых признака одновременно. Для этого создадим два набора данных для обучения моделей: \n",
    "\n",
    "    1. Для предсказания целевого признака после флотации.\n",
    "    2. Для целевого признака после окончания обработки. \n",
    "\n",
    "\n",
    "- Для убобства создадим список столбцов свойственнй для флотации:"
   ]
  },
  {
   "cell_type": "code",
   "execution_count": 31,
   "metadata": {},
   "outputs": [],
   "source": [
    "rougher_features_list = ['rougher.input.feed_ag', 'rougher.input.feed_pb', 'rougher.input.feed_rate',\n",
    "                         'rougher.input.feed_size', 'rougher.input.feed_sol', 'rougher.input.feed_au',\n",
    "                         'rougher.input.floatbank10_sulfate', 'rougher.input.floatbank10_xanthate',\n",
    "                         'rougher.input.floatbank11_sulfate', 'rougher.input.floatbank11_xanthate',\n",
    "                         'rougher.state.floatbank10_a_air', 'rougher.state.floatbank10_a_level',\n",
    "                         'rougher.state.floatbank10_b_air', 'rougher.state.floatbank10_b_level',\n",
    "                         'rougher.state.floatbank10_c_air', 'rougher.state.floatbank10_c_level', \n",
    "                         'rougher.state.floatbank10_d_air', 'rougher.state.floatbank10_d_level',\n",
    "                         'rougher.state.floatbank10_e_air', 'rougher.state.floatbank10_e_level',\n",
    "                         'rougher.state.floatbank10_f_air', 'rougher.state.floatbank10_f_level']"
   ]
  },
  {
   "cell_type": "code",
   "execution_count": 32,
   "metadata": {},
   "outputs": [],
   "source": [
    "rougher_features = df_train[rougher_features_list]\n",
    "final_features = df_train.drop(['rougher.output.recovery', 'final.output.recovery'], axis=1)\n",
    "rougher_target = df_train['rougher.output.recovery']\n",
    "final_target = df_train['final.output.recovery']"
   ]
  },
  {
   "cell_type": "code",
   "execution_count": 33,
   "metadata": {},
   "outputs": [],
   "source": [
    "# функция для оценки результатов модели:\n",
    "smape = make_scorer(calculate_smape, greater_is_better=True)"
   ]
  },
  {
   "cell_type": "markdown",
   "metadata": {},
   "source": [
    "#### Линейная регрессия"
   ]
  },
  {
   "cell_type": "code",
   "execution_count": 34,
   "metadata": {},
   "outputs": [],
   "source": [
    "model_lr_rougher = LinearRegression()"
   ]
  },
  {
   "cell_type": "code",
   "execution_count": 35,
   "metadata": {
    "scrolled": true
   },
   "outputs": [
    {
     "name": "stdout",
     "output_type": "stream",
     "text": [
      "Средняя оценка качества sMape_rougher 6.246\n",
      "Средняя оценка качества sMape_final 9.219\n"
     ]
    }
   ],
   "source": [
    "# Оценим модель с помощью кроссвалидации:\n",
    "scores_lr_rougher = cross_val_score(model_lr_rougher,  \n",
    "                                          rougher_features, rougher_target, \n",
    "                                          scoring = smape,\n",
    "                                          cv = 6)\n",
    "smape_rougher = np.mean(abs(scores_lr_rougher))\n",
    "scores_lr_final = cross_val_score(model_lr_rougher,  \n",
    "                                          final_features, final_target, \n",
    "                                          scoring = smape,\n",
    "                                          cv = 6)\n",
    "smape_final = np.mean(abs(scores_lr_final))\n",
    "print('Средняя оценка качества sMape_rougher', round(smape_rougher, 4))\n",
    "print('Средняя оценка качества sMape_final', round(smape_final, 4))"
   ]
  },
  {
   "cell_type": "code",
   "execution_count": 36,
   "metadata": {},
   "outputs": [
    {
     "name": "stdout",
     "output_type": "stream",
     "text": [
      "Средняя итоговая оценка sMape: 8.475756284279688\n"
     ]
    }
   ],
   "source": [
    "total_smape = smape_summary(smape_rougher, smape_final)\n",
    "print('Средняя итоговая оценка sMape:', total_smape)"
   ]
  },
  {
   "cell_type": "markdown",
   "metadata": {},
   "source": [
    "#### Дерево решений"
   ]
  },
  {
   "cell_type": "code",
   "execution_count": 37,
   "metadata": {},
   "outputs": [],
   "source": [
    "tree = DecisionTreeRegressor(random_state=SEED)"
   ]
  },
  {
   "cell_type": "code",
   "execution_count": 38,
   "metadata": {},
   "outputs": [],
   "source": [
    "param_grid = {'max_depth': [5, 10, 20], 'min_samples_split': [2, 5, 10], 'max_features': [5, 10, 30]}"
   ]
  },
  {
   "cell_type": "code",
   "execution_count": 39,
   "metadata": {},
   "outputs": [],
   "source": [
    "grid_search = GridSearchCV(tree, param_grid, cv=5, scoring=smape)"
   ]
  },
  {
   "cell_type": "code",
   "execution_count": 40,
   "metadata": {},
   "outputs": [
    {
     "name": "stdout",
     "output_type": "stream",
     "text": [
      "Лучшие гиперпараметры для модели этапа флотации: {'max_depth': 20, 'max_features': 10, 'min_samples_split': 5}\n",
      "\n",
      "Лучшее значение метрики для наилучшей модели: 9.8519400252523\n",
      "\n",
      "CPU times: user 7.9 s, sys: 10.7 ms, total: 7.91 s\n",
      "Wall time: 7.97 s\n"
     ]
    }
   ],
   "source": [
    "%%time\n",
    "tree_rougher = grid_search.fit(rougher_features, rougher_target)\n",
    "print('Лучшие гиперпараметры для модели этапа флотации:', tree_rougher.best_params_)\n",
    "print()\n",
    "print('Лучшее значение метрики для наилучшей модели:', tree_rougher.best_score_)\n",
    "print()"
   ]
  },
  {
   "cell_type": "code",
   "execution_count": 41,
   "metadata": {
    "scrolled": false
   },
   "outputs": [
    {
     "name": "stdout",
     "output_type": "stream",
     "text": [
      "Лучшие гиперпараметры для модели этапа флотации: {'max_depth': 20, 'max_features': 30, 'min_samples_split': 10}\n",
      "\n",
      "Лучшее значение метрики для наилучшей модели: 16.289365652339463\n",
      "\n",
      "CPU times: user 22.6 s, sys: 21.2 ms, total: 22.7 s\n",
      "Wall time: 22.7 s\n"
     ]
    }
   ],
   "source": [
    "%%time\n",
    "tree_final = grid_search.fit(final_features, final_target)\n",
    "print('Лучшие гиперпараметры для модели этапа флотации:', tree_final.best_params_)\n",
    "print()\n",
    "print('Лучшее значение метрики для наилучшей модели:', tree_final.best_score_)\n",
    "print()"
   ]
  },
  {
   "cell_type": "code",
   "execution_count": 42,
   "metadata": {},
   "outputs": [
    {
     "name": "stdout",
     "output_type": "stream",
     "text": [
      "Итоговое значение sMAPE для решающего дерева: 16.289365652339463\n"
     ]
    }
   ],
   "source": [
    "total_smape_tree = smape_summary(tree_rougher.best_score_, tree_final.best_score_)\n",
    "print('Итоговое значение sMAPE для решающего дерева:', total_smape_tree)"
   ]
  },
  {
   "cell_type": "markdown",
   "metadata": {},
   "source": [
    "#### Случайный лес"
   ]
  },
  {
   "cell_type": "code",
   "execution_count": 43,
   "metadata": {},
   "outputs": [],
   "source": [
    "param_grid_rf = {'n_estimators': [80, 120, 240], \n",
    "                 'max_depth': [4, 7, 12],\n",
    "                 'max_features': [3, 4, 8]}"
   ]
  },
  {
   "cell_type": "code",
   "execution_count": 44,
   "metadata": {},
   "outputs": [],
   "source": [
    "forest = RandomForestRegressor(random_state=SEED)"
   ]
  },
  {
   "cell_type": "code",
   "execution_count": 45,
   "metadata": {},
   "outputs": [],
   "source": [
    "grid_search_rf = GridSearchCV(forest, param_grid_rf, scoring=smape, cv=5)"
   ]
  },
  {
   "cell_type": "code",
   "execution_count": 46,
   "metadata": {
    "scrolled": true
   },
   "outputs": [
    {
     "name": "stdout",
     "output_type": "stream",
     "text": [
      "Лучшие гиперпараметры для модели этапа флотации: {'max_depth': 12, 'max_features': 3, 'n_estimators': 120}\n",
      "\n",
      "Лучшее значение метрики для наилучшей модели: 6.4428143100961535\n",
      "\n",
      "CPU times: user 8min 28s, sys: 683 ms, total: 8min 29s\n",
      "Wall time: 8min 30s\n"
     ]
    }
   ],
   "source": [
    "%%time\n",
    "forest_rougher = grid_search_rf.fit(rougher_features, rougher_target)\n",
    "print('Лучшие гиперпараметры для модели этапа флотации:', forest_rougher.best_params_)\n",
    "print()\n",
    "print('Лучшее значение метрики для наилучшей модели:', forest_rougher.best_score_)\n",
    "print()"
   ]
  },
  {
   "cell_type": "code",
   "execution_count": 47,
   "metadata": {
    "scrolled": true
   },
   "outputs": [
    {
     "name": "stdout",
     "output_type": "stream",
     "text": [
      "Лучшие гиперпараметры для модели этапа флотации: {'max_depth': 7, 'max_features': 3, 'n_estimators': 80}\n",
      "\n",
      "Лучшее значение sMAPE для наилучшей модели: 8.798854643463532\n",
      "\n",
      "CPU times: user 8min 40s, sys: 615 ms, total: 8min 41s\n",
      "Wall time: 8min 44s\n"
     ]
    }
   ],
   "source": [
    "%%time\n",
    "forest_final = grid_search_rf.fit(final_features, final_target)\n",
    "print('Лучшие гиперпараметры для модели этапа флотации:', forest_final.best_params_)\n",
    "print()\n",
    "print('Лучшее значение sMAPE для наилучшей модели:', forest_final.best_score_)\n",
    "print()"
   ]
  },
  {
   "cell_type": "code",
   "execution_count": 48,
   "metadata": {},
   "outputs": [
    {
     "name": "stdout",
     "output_type": "stream",
     "text": [
      "Итоговое значение sMAPE для случайного леса: 8.798854643463532\n"
     ]
    }
   ],
   "source": [
    "# Итоговое sMAPE для случайного леса:\n",
    "total_smape_forest = smape_summary(forest_rougher.best_score_, forest_final.best_score_)\n",
    "print('Итоговое значение sMAPE для случайного леса:', total_smape_forest)\n"
   ]
  },
  {
   "cell_type": "markdown",
   "metadata": {},
   "source": [
    "- На данном этапе обучены 3 модели - дерево решений, случайный лес и линейная регрессия - с применением кросс-валидации. Случайный лес показал лучшие метрики качества с параметрами:\n",
    "\n",
    "    1. для этапа rougher глубина 12, количество деревьев 120;\n",
    "    \n",
    "    2. для этапа final глубина 7, количество деревьев 80;"
   ]
  },
  {
   "cell_type": "markdown",
   "metadata": {},
   "source": [
    "#### Выбор лучшей модели"
   ]
  },
  {
   "cell_type": "code",
   "execution_count": 49,
   "metadata": {},
   "outputs": [],
   "source": [
    "# Модели с наилучшими значениями метрики sMAPE:\n",
    "rougher_model = RandomForestRegressor(max_depth=12, max_features=3, n_estimators=120, random_state=SEED)\n",
    "final_model = RandomForestRegressor(max_depth=7, max_features=3, n_estimators=80, random_state=SEED)\n",
    "\n",
    "rougher_model.fit(rougher_features, rougher_target)\n",
    "final_model.fit(final_features, final_target);"
   ]
  },
  {
   "cell_type": "code",
   "execution_count": 50,
   "metadata": {},
   "outputs": [],
   "source": [
    "# Разделим тестовые данные на признаки:\n",
    "test_rougher_features = df_test[rougher_features_list]\n",
    "test_final_features = df_test.drop(['rougher.output.recovery', 'final.output.recovery'], axis=1)\n",
    "test_rougher_target = df_test['rougher.output.recovery']\n",
    "test_final_target = df_test['final.output.recovery']"
   ]
  },
  {
   "cell_type": "code",
   "execution_count": 51,
   "metadata": {},
   "outputs": [
    {
     "name": "stdout",
     "output_type": "stream",
     "text": [
      "sMAPE константной модели = 8.294399761125558\n"
     ]
    }
   ],
   "source": [
    "# Проверка адекватности модели:\n",
    "dummy_rf_rougher = DummyRegressor(strategy='median')\n",
    "dummy_rf_final = DummyRegressor(strategy='median')\n",
    "\n",
    "dummy_rf_rougher.fit(rougher_features, rougher_target)\n",
    "dummy_rf_final.fit(final_features, final_target)\n",
    "\n",
    "dummy_rf_rougher_predict = dummy_rf_rougher.predict(test_rougher_features)\n",
    "dummy_rf_final_predict = dummy_rf_final.predict(test_final_features)\n",
    "\n",
    "dummy_smape = calculate_total_smape(test_rougher_target, test_final_target, dummy_rf_rougher_predict, dummy_rf_final_predict)\n",
    "print('sMAPE константной модели =', dummy_smape)"
   ]
  },
  {
   "cell_type": "code",
   "execution_count": 52,
   "metadata": {},
   "outputs": [],
   "source": [
    "# Предсказанные значения целевого признака для выбранных моделей:\n",
    "rougher_predictions_test = rougher_model.predict(test_rougher_features)\n",
    "final_predictions_test = final_model.predict(test_final_features)"
   ]
  },
  {
   "cell_type": "code",
   "execution_count": 53,
   "metadata": {},
   "outputs": [
    {
     "name": "stdout",
     "output_type": "stream",
     "text": [
      "Значение метрики sMAPE для тестовой выборки sMAPE =  6.1922840422957535\n"
     ]
    }
   ],
   "source": [
    "# Итоговая метрика sMAPE для выбранных моделей:\n",
    "final_score = calculate_total_smape(test_rougher_target, test_final_target, rougher_predictions_test, final_predictions_test)\n",
    "print('Значение метрики sMAPE для тестовой выборки sMAPE = ', final_score)"
   ]
  },
  {
   "cell_type": "markdown",
   "metadata": {},
   "source": [
    "## Заключение"
   ]
  },
  {
   "cell_type": "markdown",
   "metadata": {},
   "source": [
    "В ходе данной работы подготовлен прототип модели машинного обучения для компании «Цифры», разрабатывающей решения для эффективной работы промышленных предприятий. Модель предсказывает коэффициент восстановления  золота из золотосодержащей руды на основе доступных данных. Модель предполагается использовать для предсказания коэффициента восстановления для новых данных. Для оценки точности прогнозов в исследовании использовали метрику sMAPE (симметричное среднее абсолютное процентное отклонение) - метрику оценки точности прогнозов, которая измеряет процентное отклонение между прогнозами и фактическими значениями в понятном для восприятия виде. \n",
    "\n",
    "Перед созданием прототипа были изучены предоставленные данные, проведена предварительная обработка, анализ, выбор и обучение оптимальной модели.\n",
    "\n",
    "Выбранная стратегия выполнения исследования позволила получить значение метрики sMAPE = 8.8, что составляет небольшую разницу с результатом, полученным с помощью константной модели. Это может говорить о том что константная модель не является плохим решением для данного производственного цикла.\n"
   ]
  },
  {
   "cell_type": "markdown",
   "metadata": {},
   "source": [
    "\n",
    "## Выводы\n",
    "\n",
    "1. На этапе предобработки добавлены целевые признаки в тестовые данные из общего массива данных. Из обучающих данных были удалены признаки, которых нет в тестовых данных (они становятся известны уже после выполнения всех этапов обработки сырья). Заполены пропуски в обучающих данных наиболее вероятными для них значениями.\n",
    "\n",
    "2. На этапе анализа данных было выявлено, что концентрация золота вырастает в несколько раз после финальной очистки, в то время как концентрация серебра сильно падает по сравнению с его концентрацией в сырье, а концентрация свинца увеличивается после флотации, но после первичной очистки и до завершающего цикла не изменяется. В данных были обнаружены аномалии(значения, где концентрация веществ на каждом этапе равна 0), данные значения классифицированы как ошибочные и были удалены. Размер гранул в выборках из данных разный, но после этапа флотации размер гранул имеет меньший разброс значений, и при этом этот диапазон одинаковый для обеих выборок. Это говорит о том что разммер гранул значения не имеет. Суммарная концентрация не очень информативна, потому что к завершающему этапу концентрация золота увеличивается в несколько раз, при этом концентрации серебра падает, поэтому вполне ожидаемо, что после флотации сумма всех концентраций иногда выше, чем после вторичной очистки. Суммарная концентрация веществ в сырье самая маленькая. \n",
    "\n",
    "3. На этапе обучения моделей были построены и проверены несколько моделей с различными параметрами:\n",
    "    Линейная регрессия;\n",
    "    Решающее дерево;\n",
    "    Случайный лес.\n",
    "    \n",
    "В результате анализа анализа метрикой sMAPE для указанных моделей были выбраны модели с наилучшими показателями:\n",
    "Для процесса флотации - случайный лес размером 120, с глубиной дерева 12, учитывающий значения 3-х признаков\n",
    "Для оценки после вторичной очистки - случайный лес размером 80, с глубиной дерева 7, учитывающий значения также 3-х признаков.\n",
    "Обучена модель, выбирающая медианное значение в качестве предсказаний - для оценки адекватности выбранного решения.\n",
    "Протестированы выбранные модели, результат оказался лучше, чем у константной модели."
   ]
  }
 ],
 "metadata": {
  "ExecuteTimeLog": [
   {
    "duration": 1555,
    "start_time": "2023-08-02T18:55:25.810Z"
   },
   {
    "duration": 1980,
    "start_time": "2023-08-02T18:55:59.005Z"
   },
   {
    "duration": 720,
    "start_time": "2023-08-02T18:56:11.301Z"
   },
   {
    "duration": 6,
    "start_time": "2023-08-02T18:56:25.045Z"
   },
   {
    "duration": 4,
    "start_time": "2023-08-02T18:59:05.741Z"
   },
   {
    "duration": 864,
    "start_time": "2023-08-02T18:59:55.605Z"
   },
   {
    "duration": 4,
    "start_time": "2023-08-02T19:02:09.257Z"
   },
   {
    "duration": 616,
    "start_time": "2023-08-02T19:02:10.902Z"
   },
   {
    "duration": 870,
    "start_time": "2023-08-02T19:02:22.545Z"
   },
   {
    "duration": 559,
    "start_time": "2023-08-02T19:02:42.039Z"
   },
   {
    "duration": 3163,
    "start_time": "2023-08-02T19:04:05.103Z"
   },
   {
    "duration": 693,
    "start_time": "2023-08-02T19:04:13.598Z"
   },
   {
    "duration": 4,
    "start_time": "2023-08-02T19:04:47.173Z"
   },
   {
    "duration": 3,
    "start_time": "2023-08-02T19:05:38.664Z"
   },
   {
    "duration": 1577,
    "start_time": "2023-08-03T12:46:21.049Z"
   },
   {
    "duration": 881,
    "start_time": "2023-08-03T12:46:32.554Z"
   },
   {
    "duration": 3,
    "start_time": "2023-08-03T12:47:14.615Z"
   },
   {
    "duration": 839,
    "start_time": "2023-08-03T12:48:25.391Z"
   },
   {
    "duration": 33,
    "start_time": "2023-08-03T12:49:56.424Z"
   },
   {
    "duration": 4,
    "start_time": "2023-08-03T12:50:54.912Z"
   },
   {
    "duration": 796,
    "start_time": "2023-08-03T12:50:56.897Z"
   },
   {
    "duration": 4,
    "start_time": "2023-08-03T12:50:58.509Z"
   },
   {
    "duration": 43,
    "start_time": "2023-08-03T12:50:59.422Z"
   },
   {
    "duration": 50,
    "start_time": "2023-08-03T12:52:04.639Z"
   },
   {
    "duration": 49,
    "start_time": "2023-08-03T12:52:55.372Z"
   },
   {
    "duration": 56,
    "start_time": "2023-08-03T12:53:53.625Z"
   },
   {
    "duration": 5,
    "start_time": "2023-08-03T12:54:08.470Z"
   },
   {
    "duration": 878,
    "start_time": "2023-08-03T12:54:34.223Z"
   },
   {
    "duration": 6,
    "start_time": "2023-08-03T12:54:35.770Z"
   },
   {
    "duration": 45,
    "start_time": "2023-08-03T12:54:43.600Z"
   },
   {
    "duration": 963,
    "start_time": "2023-08-03T12:55:50.816Z"
   },
   {
    "duration": 3,
    "start_time": "2023-08-03T12:55:51.901Z"
   },
   {
    "duration": 56,
    "start_time": "2023-08-03T12:55:52.328Z"
   },
   {
    "duration": 4,
    "start_time": "2023-08-03T12:56:08.898Z"
   },
   {
    "duration": 67,
    "start_time": "2023-08-03T13:20:47.426Z"
   },
   {
    "duration": 48,
    "start_time": "2023-08-03T13:20:58.987Z"
   },
   {
    "duration": 62,
    "start_time": "2023-08-03T13:21:20.850Z"
   },
   {
    "duration": 7,
    "start_time": "2023-08-03T13:21:22.655Z"
   },
   {
    "duration": 922,
    "start_time": "2023-08-03T13:21:23.593Z"
   },
   {
    "duration": 3,
    "start_time": "2023-08-03T13:21:24.517Z"
   },
   {
    "duration": 44,
    "start_time": "2023-08-03T13:21:25.140Z"
   },
   {
    "duration": 4,
    "start_time": "2023-08-03T13:21:27.033Z"
   },
   {
    "duration": 332,
    "start_time": "2023-08-03T13:39:25.167Z"
   },
   {
    "duration": 313,
    "start_time": "2023-08-03T13:39:42.674Z"
   },
   {
    "duration": 321,
    "start_time": "2023-08-03T13:39:57.793Z"
   },
   {
    "duration": 333,
    "start_time": "2023-08-03T13:40:30.950Z"
   },
   {
    "duration": 304,
    "start_time": "2023-08-03T13:40:52.899Z"
   },
   {
    "duration": 29,
    "start_time": "2023-08-03T13:48:53.171Z"
   },
   {
    "duration": 169,
    "start_time": "2023-08-03T13:52:59.446Z"
   },
   {
    "duration": 126,
    "start_time": "2023-08-03T13:53:20.521Z"
   },
   {
    "duration": 185,
    "start_time": "2023-08-03T13:53:39.790Z"
   },
   {
    "duration": 39,
    "start_time": "2023-08-03T13:53:54.350Z"
   },
   {
    "duration": 13,
    "start_time": "2023-08-03T13:54:02.202Z"
   },
   {
    "duration": 12,
    "start_time": "2023-08-03T13:54:09.671Z"
   },
   {
    "duration": 231,
    "start_time": "2023-08-03T13:54:20.848Z"
   },
   {
    "duration": 302,
    "start_time": "2023-08-03T13:54:47.521Z"
   },
   {
    "duration": 10,
    "start_time": "2023-08-03T13:55:30.793Z"
   },
   {
    "duration": 5,
    "start_time": "2023-08-03T13:55:45.525Z"
   },
   {
    "duration": 220,
    "start_time": "2023-08-03T13:55:57.169Z"
   },
   {
    "duration": 4,
    "start_time": "2023-08-03T13:57:35.944Z"
   },
   {
    "duration": 208,
    "start_time": "2023-08-03T13:59:46.928Z"
   },
   {
    "duration": 134,
    "start_time": "2023-08-03T14:00:16.235Z"
   },
   {
    "duration": 136,
    "start_time": "2023-08-03T14:00:28.537Z"
   },
   {
    "duration": 124,
    "start_time": "2023-08-03T14:00:56.603Z"
   },
   {
    "duration": 176,
    "start_time": "2023-08-03T14:01:05.547Z"
   },
   {
    "duration": 185,
    "start_time": "2023-08-03T14:01:43.958Z"
   },
   {
    "duration": 5,
    "start_time": "2023-08-03T14:01:54.313Z"
   },
   {
    "duration": 4,
    "start_time": "2023-08-03T14:02:13.698Z"
   },
   {
    "duration": 4,
    "start_time": "2023-08-03T14:02:26.908Z"
   },
   {
    "duration": 4,
    "start_time": "2023-08-03T14:03:06.634Z"
   },
   {
    "duration": 203,
    "start_time": "2023-08-03T14:03:24.803Z"
   },
   {
    "duration": 5,
    "start_time": "2023-08-03T14:03:42.314Z"
   },
   {
    "duration": 5,
    "start_time": "2023-08-03T14:04:26.946Z"
   },
   {
    "duration": 5,
    "start_time": "2023-08-03T14:04:59.811Z"
   },
   {
    "duration": 198,
    "start_time": "2023-08-03T14:05:47.811Z"
   },
   {
    "duration": 187,
    "start_time": "2023-08-03T14:06:05.652Z"
   },
   {
    "duration": 4,
    "start_time": "2023-08-03T14:06:38.736Z"
   },
   {
    "duration": 5,
    "start_time": "2023-08-03T14:07:28.686Z"
   },
   {
    "duration": 3,
    "start_time": "2023-08-03T14:09:20.228Z"
   },
   {
    "duration": 99,
    "start_time": "2023-08-03T14:16:39.603Z"
   },
   {
    "duration": 38,
    "start_time": "2023-08-03T14:17:48.498Z"
   },
   {
    "duration": 33,
    "start_time": "2023-08-03T14:18:16.901Z"
   },
   {
    "duration": 47,
    "start_time": "2023-08-04T10:16:59.178Z"
   },
   {
    "duration": 1541,
    "start_time": "2023-08-04T10:19:29.559Z"
   },
   {
    "duration": 3,
    "start_time": "2023-08-04T10:19:31.101Z"
   },
   {
    "duration": 2020,
    "start_time": "2023-08-04T10:19:31.106Z"
   },
   {
    "duration": 3,
    "start_time": "2023-08-04T10:19:33.128Z"
   },
   {
    "duration": 35,
    "start_time": "2023-08-04T10:19:33.132Z"
   },
   {
    "duration": 4,
    "start_time": "2023-08-04T10:19:33.543Z"
   },
   {
    "duration": 3,
    "start_time": "2023-08-04T10:19:34.384Z"
   },
   {
    "duration": 17,
    "start_time": "2023-08-04T10:19:40.520Z"
   },
   {
    "duration": 204,
    "start_time": "2023-08-04T10:19:41.227Z"
   },
   {
    "duration": 202,
    "start_time": "2023-08-04T10:19:42.120Z"
   },
   {
    "duration": 32,
    "start_time": "2023-08-04T10:19:44.737Z"
   },
   {
    "duration": 236,
    "start_time": "2023-08-04T10:19:45.863Z"
   },
   {
    "duration": 136,
    "start_time": "2023-08-04T10:21:51.387Z"
   },
   {
    "duration": 99,
    "start_time": "2023-08-04T10:21:58.278Z"
   },
   {
    "duration": 22,
    "start_time": "2023-08-04T10:27:32.314Z"
   },
   {
    "duration": 34,
    "start_time": "2023-08-04T10:28:06.563Z"
   },
   {
    "duration": 4,
    "start_time": "2023-08-04T10:30:43.286Z"
   },
   {
    "duration": 5,
    "start_time": "2023-08-04T10:31:00.489Z"
   },
   {
    "duration": 4,
    "start_time": "2023-08-04T10:31:13.566Z"
   },
   {
    "duration": 5,
    "start_time": "2023-08-04T10:31:29.590Z"
   },
   {
    "duration": 8,
    "start_time": "2023-08-04T11:10:01.498Z"
   },
   {
    "duration": 5,
    "start_time": "2023-08-04T11:12:33.831Z"
   },
   {
    "duration": 6,
    "start_time": "2023-08-04T11:23:06.178Z"
   },
   {
    "duration": 33,
    "start_time": "2023-08-04T11:23:28.561Z"
   },
   {
    "duration": 22,
    "start_time": "2023-08-04T11:23:49.065Z"
   },
   {
    "duration": 14,
    "start_time": "2023-08-04T11:27:42.032Z"
   },
   {
    "duration": 9,
    "start_time": "2023-08-04T12:31:53.653Z"
   },
   {
    "duration": 8,
    "start_time": "2023-08-04T12:32:17.217Z"
   },
   {
    "duration": 4,
    "start_time": "2023-08-04T12:32:39.818Z"
   },
   {
    "duration": 3,
    "start_time": "2023-08-04T12:32:40.665Z"
   },
   {
    "duration": 700,
    "start_time": "2023-08-04T12:32:41.850Z"
   },
   {
    "duration": 2,
    "start_time": "2023-08-04T12:32:42.552Z"
   },
   {
    "duration": 26,
    "start_time": "2023-08-04T12:32:42.841Z"
   },
   {
    "duration": 4,
    "start_time": "2023-08-04T12:32:43.352Z"
   },
   {
    "duration": 8,
    "start_time": "2023-08-04T12:32:43.893Z"
   },
   {
    "duration": 3,
    "start_time": "2023-08-04T12:32:57.256Z"
   },
   {
    "duration": 4,
    "start_time": "2023-08-04T12:39:12.258Z"
   },
   {
    "duration": 3,
    "start_time": "2023-08-04T12:39:29.110Z"
   },
   {
    "duration": 3,
    "start_time": "2023-08-04T12:39:41.178Z"
   },
   {
    "duration": 68,
    "start_time": "2023-08-04T12:41:27.668Z"
   },
   {
    "duration": 75,
    "start_time": "2023-08-04T12:41:39.000Z"
   },
   {
    "duration": 94,
    "start_time": "2023-08-04T12:41:52.748Z"
   },
   {
    "duration": 3,
    "start_time": "2023-08-04T12:42:07.819Z"
   },
   {
    "duration": 3,
    "start_time": "2023-08-04T12:42:29.296Z"
   },
   {
    "duration": 3,
    "start_time": "2023-08-04T12:42:44.675Z"
   },
   {
    "duration": 3,
    "start_time": "2023-08-04T12:42:58.108Z"
   },
   {
    "duration": 3,
    "start_time": "2023-08-04T12:43:11.252Z"
   },
   {
    "duration": 3,
    "start_time": "2023-08-04T12:43:32.356Z"
   },
   {
    "duration": 3,
    "start_time": "2023-08-04T12:43:43.352Z"
   },
   {
    "duration": 8,
    "start_time": "2023-08-04T12:43:51.180Z"
   },
   {
    "duration": 3,
    "start_time": "2023-08-04T12:43:55.510Z"
   },
   {
    "duration": 3,
    "start_time": "2023-08-04T12:44:01.076Z"
   },
   {
    "duration": 104,
    "start_time": "2023-08-04T12:44:52.454Z"
   },
   {
    "duration": 3,
    "start_time": "2023-08-04T12:45:29.673Z"
   },
   {
    "duration": 3,
    "start_time": "2023-08-04T12:46:31.407Z"
   },
   {
    "duration": 16,
    "start_time": "2023-08-04T12:46:57.645Z"
   },
   {
    "duration": 185,
    "start_time": "2023-08-04T12:46:58.206Z"
   },
   {
    "duration": 184,
    "start_time": "2023-08-04T12:46:58.503Z"
   },
   {
    "duration": 6,
    "start_time": "2023-08-04T12:47:00.325Z"
   },
   {
    "duration": 4,
    "start_time": "2023-08-04T12:47:02.902Z"
   },
   {
    "duration": 5,
    "start_time": "2023-08-04T12:47:25.229Z"
   },
   {
    "duration": 48,
    "start_time": "2023-08-04T12:47:26.492Z"
   },
   {
    "duration": 23,
    "start_time": "2023-08-04T12:47:29.593Z"
   },
   {
    "duration": 11,
    "start_time": "2023-08-04T12:47:30.725Z"
   },
   {
    "duration": 32,
    "start_time": "2023-08-04T12:47:31.592Z"
   },
   {
    "duration": 11,
    "start_time": "2023-08-04T12:47:33.830Z"
   },
   {
    "duration": 12,
    "start_time": "2023-08-04T12:48:06.126Z"
   },
   {
    "duration": 23,
    "start_time": "2023-08-04T12:48:07.439Z"
   },
   {
    "duration": 2089,
    "start_time": "2023-08-04T12:48:08.673Z"
   },
   {
    "duration": 0,
    "start_time": "2023-08-04T12:48:10.763Z"
   },
   {
    "duration": 2202,
    "start_time": "2023-08-04T12:48:10.832Z"
   },
   {
    "duration": 23,
    "start_time": "2023-08-04T12:48:46.310Z"
   },
   {
    "duration": 10,
    "start_time": "2023-08-04T12:48:47.615Z"
   },
   {
    "duration": 21,
    "start_time": "2023-08-04T12:48:48.231Z"
   },
   {
    "duration": 1513,
    "start_time": "2023-08-04T12:48:48.880Z"
   },
   {
    "duration": 0,
    "start_time": "2023-08-04T12:48:50.395Z"
   },
   {
    "duration": 0,
    "start_time": "2023-08-04T12:48:50.396Z"
   },
   {
    "duration": 15,
    "start_time": "2023-08-04T12:48:55.776Z"
   },
   {
    "duration": 1702,
    "start_time": "2023-08-04T12:49:10.662Z"
   },
   {
    "duration": 30,
    "start_time": "2023-08-04T12:50:12.594Z"
   },
   {
    "duration": 11,
    "start_time": "2023-08-04T12:50:35.600Z"
   },
   {
    "duration": 11,
    "start_time": "2023-08-04T12:50:36.340Z"
   },
   {
    "duration": 3,
    "start_time": "2023-08-04T12:50:42.492Z"
   },
   {
    "duration": 3,
    "start_time": "2023-08-04T12:50:43.271Z"
   },
   {
    "duration": 655,
    "start_time": "2023-08-04T12:50:44.535Z"
   },
   {
    "duration": 7,
    "start_time": "2023-08-04T12:50:45.192Z"
   },
   {
    "duration": 28,
    "start_time": "2023-08-04T12:50:45.817Z"
   },
   {
    "duration": 4,
    "start_time": "2023-08-04T12:50:46.336Z"
   },
   {
    "duration": 3,
    "start_time": "2023-08-04T12:50:46.799Z"
   },
   {
    "duration": 20,
    "start_time": "2023-08-04T12:50:47.767Z"
   },
   {
    "duration": 193,
    "start_time": "2023-08-04T12:50:48.296Z"
   },
   {
    "duration": 209,
    "start_time": "2023-08-04T12:50:48.834Z"
   },
   {
    "duration": 7,
    "start_time": "2023-08-04T12:50:51.512Z"
   },
   {
    "duration": 6,
    "start_time": "2023-08-04T12:50:53.618Z"
   },
   {
    "duration": 45,
    "start_time": "2023-08-04T12:50:55.528Z"
   },
   {
    "duration": 15,
    "start_time": "2023-08-04T12:50:56.631Z"
   },
   {
    "duration": 24,
    "start_time": "2023-08-04T12:50:59.247Z"
   },
   {
    "duration": 5,
    "start_time": "2023-08-04T12:51:01.480Z"
   },
   {
    "duration": 5,
    "start_time": "2023-08-04T12:51:06.910Z"
   },
   {
    "duration": 5,
    "start_time": "2023-08-04T12:51:07.539Z"
   },
   {
    "duration": 5,
    "start_time": "2023-08-04T12:51:09.169Z"
   },
   {
    "duration": 47,
    "start_time": "2023-08-04T12:51:10.769Z"
   },
   {
    "duration": 24,
    "start_time": "2023-08-04T12:51:51.621Z"
   },
   {
    "duration": 11,
    "start_time": "2023-08-04T12:51:52.317Z"
   },
   {
    "duration": 6,
    "start_time": "2023-08-04T12:59:44.021Z"
   },
   {
    "duration": 5907,
    "start_time": "2023-08-04T13:03:55.541Z"
   },
   {
    "duration": 13,
    "start_time": "2023-08-04T13:07:48.782Z"
   },
   {
    "duration": 1257,
    "start_time": "2023-08-04T13:08:00.059Z"
   },
   {
    "duration": 3,
    "start_time": "2023-08-04T13:08:01.318Z"
   },
   {
    "duration": 731,
    "start_time": "2023-08-04T13:08:01.322Z"
   },
   {
    "duration": 2,
    "start_time": "2023-08-04T13:08:02.055Z"
   },
   {
    "duration": 68,
    "start_time": "2023-08-04T13:08:02.059Z"
   },
   {
    "duration": 12,
    "start_time": "2023-08-04T13:08:02.129Z"
   },
   {
    "duration": 52,
    "start_time": "2023-08-04T13:08:02.142Z"
   },
   {
    "duration": 60,
    "start_time": "2023-08-04T13:08:02.195Z"
   },
   {
    "duration": 228,
    "start_time": "2023-08-04T13:08:02.256Z"
   },
   {
    "duration": 201,
    "start_time": "2023-08-04T13:08:02.486Z"
   },
   {
    "duration": 12,
    "start_time": "2023-08-04T13:08:02.689Z"
   },
   {
    "duration": 44,
    "start_time": "2023-08-04T13:08:02.702Z"
   },
   {
    "duration": 43,
    "start_time": "2023-08-04T13:08:02.748Z"
   },
   {
    "duration": 25,
    "start_time": "2023-08-04T13:08:02.793Z"
   },
   {
    "duration": 31,
    "start_time": "2023-08-04T13:08:02.820Z"
   },
   {
    "duration": 7,
    "start_time": "2023-08-04T13:08:02.853Z"
   },
   {
    "duration": 32,
    "start_time": "2023-08-04T13:08:02.861Z"
   },
   {
    "duration": 13,
    "start_time": "2023-08-04T13:08:02.895Z"
   },
   {
    "duration": 38,
    "start_time": "2023-08-04T13:08:02.909Z"
   },
   {
    "duration": 53,
    "start_time": "2023-08-04T13:08:02.949Z"
   },
   {
    "duration": 21,
    "start_time": "2023-08-04T13:08:03.004Z"
   },
   {
    "duration": 38,
    "start_time": "2023-08-04T13:08:03.026Z"
   },
   {
    "duration": 15,
    "start_time": "2023-08-04T13:08:03.066Z"
   },
   {
    "duration": 5443,
    "start_time": "2023-08-04T13:08:03.082Z"
   },
   {
    "duration": 5,
    "start_time": "2023-08-04T13:14:16.516Z"
   },
   {
    "duration": 2264,
    "start_time": "2023-08-04T13:14:41.514Z"
   },
   {
    "duration": 5,
    "start_time": "2023-08-04T13:15:09.793Z"
   },
   {
    "duration": 5,
    "start_time": "2023-08-04T13:18:36.171Z"
   },
   {
    "duration": 1913,
    "start_time": "2023-08-04T13:19:36.293Z"
   },
   {
    "duration": 8,
    "start_time": "2023-08-04T13:21:20.653Z"
   },
   {
    "duration": 1999,
    "start_time": "2023-08-04T13:21:21.621Z"
   },
   {
    "duration": 2110,
    "start_time": "2023-08-04T13:26:44.037Z"
   },
   {
    "duration": 2010,
    "start_time": "2023-08-04T13:26:56.934Z"
   },
   {
    "duration": 4,
    "start_time": "2023-08-04T13:29:10.191Z"
   },
   {
    "duration": 2227,
    "start_time": "2023-08-04T13:29:12.839Z"
   },
   {
    "duration": 1784,
    "start_time": "2023-08-04T13:29:20.164Z"
   },
   {
    "duration": 1289,
    "start_time": "2023-08-04T13:29:28.343Z"
   },
   {
    "duration": 3,
    "start_time": "2023-08-04T13:29:29.634Z"
   },
   {
    "duration": 714,
    "start_time": "2023-08-04T13:29:29.639Z"
   },
   {
    "duration": 3,
    "start_time": "2023-08-04T13:29:30.355Z"
   },
   {
    "duration": 84,
    "start_time": "2023-08-04T13:29:30.359Z"
   },
   {
    "duration": 21,
    "start_time": "2023-08-04T13:29:30.445Z"
   },
   {
    "duration": 54,
    "start_time": "2023-08-04T13:29:30.468Z"
   },
   {
    "duration": 55,
    "start_time": "2023-08-04T13:29:30.524Z"
   },
   {
    "duration": 221,
    "start_time": "2023-08-04T13:29:30.580Z"
   },
   {
    "duration": 209,
    "start_time": "2023-08-04T13:29:30.803Z"
   },
   {
    "duration": 9,
    "start_time": "2023-08-04T13:29:31.014Z"
   },
   {
    "duration": 30,
    "start_time": "2023-08-04T13:29:31.025Z"
   },
   {
    "duration": 71,
    "start_time": "2023-08-04T13:29:31.057Z"
   },
   {
    "duration": 19,
    "start_time": "2023-08-04T13:29:31.129Z"
   },
   {
    "duration": 40,
    "start_time": "2023-08-04T13:29:31.149Z"
   },
   {
    "duration": 4,
    "start_time": "2023-08-04T13:29:31.200Z"
   },
   {
    "duration": 20,
    "start_time": "2023-08-04T13:29:31.205Z"
   },
   {
    "duration": 36,
    "start_time": "2023-08-04T13:29:31.227Z"
   },
   {
    "duration": 36,
    "start_time": "2023-08-04T13:29:31.264Z"
   },
   {
    "duration": 50,
    "start_time": "2023-08-04T13:29:31.302Z"
   },
   {
    "duration": 29,
    "start_time": "2023-08-04T13:29:31.353Z"
   },
   {
    "duration": 42,
    "start_time": "2023-08-04T13:29:31.383Z"
   },
   {
    "duration": 44,
    "start_time": "2023-08-04T13:29:31.426Z"
   },
   {
    "duration": 143,
    "start_time": "2023-08-04T13:29:31.472Z"
   },
   {
    "duration": 2467,
    "start_time": "2023-08-04T13:29:49.398Z"
   },
   {
    "duration": 5,
    "start_time": "2023-08-04T13:31:05.469Z"
   },
   {
    "duration": 2499,
    "start_time": "2023-08-04T13:31:06.259Z"
   },
   {
    "duration": 4,
    "start_time": "2023-08-04T13:32:12.265Z"
   },
   {
    "duration": 2108,
    "start_time": "2023-08-04T13:32:13.061Z"
   },
   {
    "duration": 1532,
    "start_time": "2023-08-04T13:33:33.399Z"
   },
   {
    "duration": 5,
    "start_time": "2023-08-04T13:36:36.801Z"
   },
   {
    "duration": 1257,
    "start_time": "2023-08-04T13:36:51.279Z"
   },
   {
    "duration": 7,
    "start_time": "2023-08-04T13:39:53.331Z"
   },
   {
    "duration": 6188,
    "start_time": "2023-08-04T13:39:55.978Z"
   },
   {
    "duration": 4415,
    "start_time": "2023-08-04T13:42:25.450Z"
   },
   {
    "duration": 10,
    "start_time": "2023-08-04T16:29:37.909Z"
   },
   {
    "duration": 45,
    "start_time": "2023-08-04T16:29:40.100Z"
   },
   {
    "duration": 1580,
    "start_time": "2023-08-04T16:29:48.907Z"
   },
   {
    "duration": 3,
    "start_time": "2023-08-04T16:29:50.489Z"
   },
   {
    "duration": 2240,
    "start_time": "2023-08-04T16:29:50.494Z"
   },
   {
    "duration": 3,
    "start_time": "2023-08-04T16:29:52.736Z"
   },
   {
    "duration": 44,
    "start_time": "2023-08-04T16:29:52.740Z"
   },
   {
    "duration": 15,
    "start_time": "2023-08-04T16:29:52.786Z"
   },
   {
    "duration": 9,
    "start_time": "2023-08-04T16:29:52.803Z"
   },
   {
    "duration": 39,
    "start_time": "2023-08-04T16:29:52.814Z"
   },
   {
    "duration": 224,
    "start_time": "2023-08-04T16:29:52.855Z"
   },
   {
    "duration": 228,
    "start_time": "2023-08-04T16:29:53.082Z"
   },
   {
    "duration": 9,
    "start_time": "2023-08-04T16:29:53.312Z"
   },
   {
    "duration": 30,
    "start_time": "2023-08-04T16:29:53.323Z"
   },
   {
    "duration": 57,
    "start_time": "2023-08-04T16:29:53.355Z"
   },
   {
    "duration": 41,
    "start_time": "2023-08-04T16:29:53.414Z"
   },
   {
    "duration": 25,
    "start_time": "2023-08-04T16:29:53.457Z"
   },
   {
    "duration": 8,
    "start_time": "2023-08-04T16:29:53.483Z"
   },
   {
    "duration": 28,
    "start_time": "2023-08-04T16:29:53.493Z"
   },
   {
    "duration": 27,
    "start_time": "2023-08-04T16:29:53.522Z"
   },
   {
    "duration": 15,
    "start_time": "2023-08-04T16:29:53.551Z"
   },
   {
    "duration": 41,
    "start_time": "2023-08-04T16:29:53.568Z"
   },
   {
    "duration": 25,
    "start_time": "2023-08-04T16:29:53.611Z"
   },
   {
    "duration": 32,
    "start_time": "2023-08-04T16:29:53.638Z"
   },
   {
    "duration": 11,
    "start_time": "2023-08-04T16:29:53.672Z"
   },
   {
    "duration": 1623,
    "start_time": "2023-08-04T16:29:53.684Z"
   },
   {
    "duration": 10,
    "start_time": "2023-08-04T16:33:02.073Z"
   },
   {
    "duration": 6,
    "start_time": "2023-08-04T16:33:06.376Z"
   },
   {
    "duration": 1234,
    "start_time": "2023-08-04T16:33:08.232Z"
   },
   {
    "duration": 4,
    "start_time": "2023-08-04T16:33:19.273Z"
   },
   {
    "duration": 3,
    "start_time": "2023-08-04T16:33:20.032Z"
   },
   {
    "duration": 760,
    "start_time": "2023-08-04T16:33:21.147Z"
   },
   {
    "duration": 3,
    "start_time": "2023-08-04T16:33:21.909Z"
   },
   {
    "duration": 34,
    "start_time": "2023-08-04T16:33:21.913Z"
   },
   {
    "duration": 7,
    "start_time": "2023-08-04T16:33:21.948Z"
   },
   {
    "duration": 4,
    "start_time": "2023-08-04T16:33:22.339Z"
   },
   {
    "duration": 17,
    "start_time": "2023-08-04T16:33:23.208Z"
   },
   {
    "duration": 227,
    "start_time": "2023-08-04T16:33:23.652Z"
   },
   {
    "duration": 317,
    "start_time": "2023-08-04T16:33:24.080Z"
   },
   {
    "duration": 7,
    "start_time": "2023-08-04T16:33:25.520Z"
   },
   {
    "duration": 4,
    "start_time": "2023-08-04T16:33:27.009Z"
   },
   {
    "duration": 33,
    "start_time": "2023-08-04T16:33:28.307Z"
   },
   {
    "duration": 17,
    "start_time": "2023-08-04T16:33:28.753Z"
   },
   {
    "duration": 27,
    "start_time": "2023-08-04T16:33:29.168Z"
   },
   {
    "duration": 6,
    "start_time": "2023-08-04T16:33:29.640Z"
   },
   {
    "duration": 6,
    "start_time": "2023-08-04T16:33:30.066Z"
   },
   {
    "duration": 6,
    "start_time": "2023-08-04T16:33:30.633Z"
   },
   {
    "duration": 5,
    "start_time": "2023-08-04T16:33:31.106Z"
   },
   {
    "duration": 64,
    "start_time": "2023-08-04T16:33:31.568Z"
   },
   {
    "duration": 33,
    "start_time": "2023-08-04T16:33:32.178Z"
   },
   {
    "duration": 14,
    "start_time": "2023-08-04T16:33:32.650Z"
   },
   {
    "duration": 6,
    "start_time": "2023-08-04T16:33:35.344Z"
   },
   {
    "duration": 1436,
    "start_time": "2023-08-04T16:33:36.008Z"
   },
   {
    "duration": 4726,
    "start_time": "2023-08-04T16:34:00.842Z"
   },
   {
    "duration": 5,
    "start_time": "2023-08-04T16:35:25.671Z"
   },
   {
    "duration": 1545,
    "start_time": "2023-08-04T16:35:28.931Z"
   },
   {
    "duration": 118,
    "start_time": "2023-08-04T16:43:36.680Z"
   },
   {
    "duration": 5370,
    "start_time": "2023-08-04T16:43:37.290Z"
   },
   {
    "duration": 11,
    "start_time": "2023-08-04T16:44:04.951Z"
   },
   {
    "duration": 4956,
    "start_time": "2023-08-04T16:44:06.676Z"
   },
   {
    "duration": 979,
    "start_time": "2023-08-04T17:03:22.952Z"
   },
   {
    "duration": 877,
    "start_time": "2023-08-04T17:04:52.901Z"
   },
   {
    "duration": 583,
    "start_time": "2023-08-04T17:23:28.038Z"
   },
   {
    "duration": 21,
    "start_time": "2023-08-04T17:30:07.857Z"
   },
   {
    "duration": 1545,
    "start_time": "2023-08-04T17:30:17.808Z"
   },
   {
    "duration": 1755,
    "start_time": "2023-08-04T17:32:59.107Z"
   },
   {
    "duration": 61,
    "start_time": "2023-08-06T12:34:11.671Z"
   },
   {
    "duration": 1596,
    "start_time": "2023-08-06T12:34:20.579Z"
   },
   {
    "duration": 8,
    "start_time": "2023-08-06T12:34:22.176Z"
   },
   {
    "duration": 3088,
    "start_time": "2023-08-06T12:34:22.440Z"
   },
   {
    "duration": 7,
    "start_time": "2023-08-06T12:34:25.534Z"
   },
   {
    "duration": 80,
    "start_time": "2023-08-06T12:34:25.543Z"
   },
   {
    "duration": 22,
    "start_time": "2023-08-06T12:34:25.625Z"
   },
   {
    "duration": 33,
    "start_time": "2023-08-06T12:34:25.649Z"
   },
   {
    "duration": 34,
    "start_time": "2023-08-06T12:34:25.806Z"
   },
   {
    "duration": 275,
    "start_time": "2023-08-06T12:34:26.265Z"
   },
   {
    "duration": 315,
    "start_time": "2023-08-06T12:34:26.767Z"
   },
   {
    "duration": 8,
    "start_time": "2023-08-06T12:34:28.730Z"
   },
   {
    "duration": 5,
    "start_time": "2023-08-06T12:34:30.042Z"
   },
   {
    "duration": 6,
    "start_time": "2023-08-06T12:34:42.831Z"
   },
   {
    "duration": 5,
    "start_time": "2023-08-06T12:34:44.826Z"
   },
   {
    "duration": 57,
    "start_time": "2023-08-06T12:34:46.395Z"
   },
   {
    "duration": 18,
    "start_time": "2023-08-06T12:34:46.722Z"
   },
   {
    "duration": 24,
    "start_time": "2023-08-06T12:34:47.026Z"
   },
   {
    "duration": 5,
    "start_time": "2023-08-06T12:34:47.436Z"
   },
   {
    "duration": 11,
    "start_time": "2023-08-06T12:34:48.024Z"
   },
   {
    "duration": 6,
    "start_time": "2023-08-06T12:34:48.471Z"
   },
   {
    "duration": 16,
    "start_time": "2023-08-06T12:34:48.692Z"
   },
   {
    "duration": 64,
    "start_time": "2023-08-06T12:34:48.892Z"
   },
   {
    "duration": 42,
    "start_time": "2023-08-06T12:34:49.099Z"
   },
   {
    "duration": 17,
    "start_time": "2023-08-06T12:34:49.292Z"
   },
   {
    "duration": 8,
    "start_time": "2023-08-06T12:34:50.176Z"
   },
   {
    "duration": 4614,
    "start_time": "2023-08-06T12:34:50.845Z"
   },
   {
    "duration": 1112,
    "start_time": "2023-08-06T12:34:55.461Z"
   },
   {
    "duration": 800,
    "start_time": "2023-08-06T12:34:56.575Z"
   },
   {
    "duration": 18,
    "start_time": "2023-08-06T12:34:57.378Z"
   },
   {
    "duration": 1579,
    "start_time": "2023-08-06T12:34:57.397Z"
   },
   {
    "duration": 6,
    "start_time": "2023-08-06T12:34:58.978Z"
   },
   {
    "duration": 8,
    "start_time": "2023-08-06T12:35:23.534Z"
   },
   {
    "duration": 5,
    "start_time": "2023-08-06T12:35:47.071Z"
   },
   {
    "duration": 182,
    "start_time": "2023-08-06T12:36:02.716Z"
   },
   {
    "duration": 202,
    "start_time": "2023-08-06T12:36:14.329Z"
   },
   {
    "duration": 6,
    "start_time": "2023-08-06T12:47:13.447Z"
   },
   {
    "duration": 4,
    "start_time": "2023-08-06T12:47:33.983Z"
   },
   {
    "duration": 13,
    "start_time": "2023-08-06T12:47:44.021Z"
   },
   {
    "duration": 12,
    "start_time": "2023-08-06T12:47:56.579Z"
   },
   {
    "duration": 5,
    "start_time": "2023-08-06T12:48:47.535Z"
   },
   {
    "duration": 4,
    "start_time": "2023-08-06T12:48:48.426Z"
   },
   {
    "duration": 13,
    "start_time": "2023-08-06T12:48:49.838Z"
   },
   {
    "duration": 5,
    "start_time": "2023-08-06T12:53:36.375Z"
   },
   {
    "duration": 3,
    "start_time": "2023-08-06T12:53:37.238Z"
   },
   {
    "duration": 12,
    "start_time": "2023-08-06T12:53:37.832Z"
   },
   {
    "duration": 4,
    "start_time": "2023-08-06T12:53:50.528Z"
   },
   {
    "duration": 3,
    "start_time": "2023-08-06T12:53:51.091Z"
   },
   {
    "duration": 18,
    "start_time": "2023-08-06T12:53:52.326Z"
   },
   {
    "duration": 1438,
    "start_time": "2023-08-06T12:54:00.427Z"
   },
   {
    "duration": 4,
    "start_time": "2023-08-06T12:54:01.867Z"
   },
   {
    "duration": 909,
    "start_time": "2023-08-06T12:54:01.873Z"
   },
   {
    "duration": 3,
    "start_time": "2023-08-06T12:54:02.783Z"
   },
   {
    "duration": 79,
    "start_time": "2023-08-06T12:54:02.789Z"
   },
   {
    "duration": 14,
    "start_time": "2023-08-06T12:54:02.869Z"
   },
   {
    "duration": 48,
    "start_time": "2023-08-06T12:54:02.885Z"
   },
   {
    "duration": 30,
    "start_time": "2023-08-06T12:54:02.934Z"
   },
   {
    "duration": 222,
    "start_time": "2023-08-06T12:54:02.966Z"
   },
   {
    "duration": 239,
    "start_time": "2023-08-06T12:54:03.189Z"
   },
   {
    "duration": 8,
    "start_time": "2023-08-06T12:54:03.430Z"
   },
   {
    "duration": 6,
    "start_time": "2023-08-06T12:54:03.440Z"
   },
   {
    "duration": 37,
    "start_time": "2023-08-06T12:54:03.448Z"
   },
   {
    "duration": 37,
    "start_time": "2023-08-06T12:54:03.488Z"
   },
   {
    "duration": 28,
    "start_time": "2023-08-06T12:54:03.530Z"
   },
   {
    "duration": 4,
    "start_time": "2023-08-06T12:54:03.559Z"
   },
   {
    "duration": 7,
    "start_time": "2023-08-06T12:54:03.564Z"
   },
   {
    "duration": 4,
    "start_time": "2023-08-06T12:54:03.572Z"
   },
   {
    "duration": 41,
    "start_time": "2023-08-06T12:54:03.578Z"
   },
   {
    "duration": 44,
    "start_time": "2023-08-06T12:54:03.625Z"
   },
   {
    "duration": 23,
    "start_time": "2023-08-06T12:54:03.671Z"
   },
   {
    "duration": 16,
    "start_time": "2023-08-06T12:54:03.695Z"
   },
   {
    "duration": 24,
    "start_time": "2023-08-06T12:54:03.713Z"
   },
   {
    "duration": 4481,
    "start_time": "2023-08-06T12:54:03.739Z"
   },
   {
    "duration": 875,
    "start_time": "2023-08-06T12:54:08.221Z"
   },
   {
    "duration": 639,
    "start_time": "2023-08-06T12:54:09.097Z"
   },
   {
    "duration": 12,
    "start_time": "2023-08-06T12:54:09.738Z"
   },
   {
    "duration": 1373,
    "start_time": "2023-08-06T12:54:09.751Z"
   },
   {
    "duration": 7,
    "start_time": "2023-08-06T12:54:11.130Z"
   },
   {
    "duration": 23,
    "start_time": "2023-08-06T12:54:11.139Z"
   },
   {
    "duration": 188,
    "start_time": "2023-08-06T12:54:11.163Z"
   },
   {
    "duration": 4,
    "start_time": "2023-08-06T12:54:11.353Z"
   },
   {
    "duration": 8,
    "start_time": "2023-08-06T12:54:11.358Z"
   },
   {
    "duration": 126,
    "start_time": "2023-08-06T12:54:11.367Z"
   },
   {
    "duration": 14,
    "start_time": "2023-08-06T12:56:58.826Z"
   },
   {
    "duration": 5,
    "start_time": "2023-08-06T12:57:00.730Z"
   },
   {
    "duration": 14,
    "start_time": "2023-08-06T12:57:01.864Z"
   },
   {
    "duration": 3,
    "start_time": "2023-08-06T12:57:40.475Z"
   },
   {
    "duration": 15,
    "start_time": "2023-08-06T12:57:41.597Z"
   },
   {
    "duration": 13,
    "start_time": "2023-08-06T12:57:41.883Z"
   },
   {
    "duration": 5,
    "start_time": "2023-08-06T12:57:59.028Z"
   },
   {
    "duration": 5,
    "start_time": "2023-08-06T12:57:59.580Z"
   },
   {
    "duration": 7,
    "start_time": "2023-08-06T12:58:00.087Z"
   },
   {
    "duration": 4,
    "start_time": "2023-08-06T12:59:57.139Z"
   },
   {
    "duration": 4,
    "start_time": "2023-08-06T12:59:57.849Z"
   },
   {
    "duration": 9,
    "start_time": "2023-08-06T13:00:02.651Z"
   },
   {
    "duration": 11,
    "start_time": "2023-08-06T13:06:02.551Z"
   },
   {
    "duration": 14,
    "start_time": "2023-08-06T13:06:25.220Z"
   },
   {
    "duration": 3,
    "start_time": "2023-08-06T13:06:52.888Z"
   },
   {
    "duration": 3,
    "start_time": "2023-08-06T13:09:23.221Z"
   },
   {
    "duration": 4,
    "start_time": "2023-08-06T13:19:40.547Z"
   },
   {
    "duration": 7,
    "start_time": "2023-08-06T13:19:48.990Z"
   },
   {
    "duration": 3,
    "start_time": "2023-08-06T13:21:53.489Z"
   },
   {
    "duration": 12,
    "start_time": "2023-08-06T13:25:01.431Z"
   },
   {
    "duration": 2,
    "start_time": "2023-08-06T13:25:04.241Z"
   },
   {
    "duration": 9,
    "start_time": "2023-08-06T13:25:04.636Z"
   },
   {
    "duration": 1201,
    "start_time": "2023-08-06T13:25:29.530Z"
   },
   {
    "duration": 1244,
    "start_time": "2023-08-06T13:25:46.593Z"
   },
   {
    "duration": 3988,
    "start_time": "2023-08-06T13:27:17.735Z"
   },
   {
    "duration": 4579,
    "start_time": "2023-08-06T13:27:26.261Z"
   },
   {
    "duration": 4440,
    "start_time": "2023-08-06T13:28:15.888Z"
   },
   {
    "duration": 4626,
    "start_time": "2023-08-06T13:29:38.085Z"
   },
   {
    "duration": 3777,
    "start_time": "2023-08-06T13:30:10.159Z"
   },
   {
    "duration": 6188,
    "start_time": "2023-08-06T13:30:25.225Z"
   },
   {
    "duration": 5992,
    "start_time": "2023-08-06T13:31:22.832Z"
   },
   {
    "duration": 5167,
    "start_time": "2023-08-06T13:31:44.054Z"
   },
   {
    "duration": 5197,
    "start_time": "2023-08-06T13:32:00.649Z"
   },
   {
    "duration": 5486,
    "start_time": "2023-08-06T13:32:28.239Z"
   },
   {
    "duration": 2,
    "start_time": "2023-08-06T13:33:16.571Z"
   },
   {
    "duration": 15,
    "start_time": "2023-08-06T13:33:17.498Z"
   },
   {
    "duration": 5572,
    "start_time": "2023-08-06T13:33:18.449Z"
   },
   {
    "duration": 4,
    "start_time": "2023-08-06T13:33:32.424Z"
   },
   {
    "duration": 4453,
    "start_time": "2023-08-06T13:33:44.368Z"
   },
   {
    "duration": 12,
    "start_time": "2023-08-06T16:00:28.997Z"
   },
   {
    "duration": 2,
    "start_time": "2023-08-06T16:00:42.081Z"
   },
   {
    "duration": 3,
    "start_time": "2023-08-06T16:01:18.722Z"
   },
   {
    "duration": 3,
    "start_time": "2023-08-06T16:01:48.812Z"
   },
   {
    "duration": 77,
    "start_time": "2023-08-06T16:02:29.196Z"
   },
   {
    "duration": 15991,
    "start_time": "2023-08-06T16:02:34.459Z"
   },
   {
    "duration": 16770,
    "start_time": "2023-08-06T16:02:53.260Z"
   },
   {
    "duration": 16692,
    "start_time": "2023-08-06T16:05:51.132Z"
   },
   {
    "duration": 91,
    "start_time": "2023-08-06T16:07:56.340Z"
   },
   {
    "duration": 2,
    "start_time": "2023-08-06T16:08:09.749Z"
   },
   {
    "duration": 3,
    "start_time": "2023-08-06T16:08:36.766Z"
   },
   {
    "duration": 3,
    "start_time": "2023-08-06T16:08:37.732Z"
   },
   {
    "duration": 15700,
    "start_time": "2023-08-06T16:08:38.583Z"
   },
   {
    "duration": 4,
    "start_time": "2023-08-06T16:09:28.311Z"
   },
   {
    "duration": 3,
    "start_time": "2023-08-06T16:09:29.015Z"
   },
   {
    "duration": 15902,
    "start_time": "2023-08-06T16:09:29.536Z"
   },
   {
    "duration": 10,
    "start_time": "2023-08-06T16:13:00.142Z"
   },
   {
    "duration": 3,
    "start_time": "2023-08-06T16:13:07.971Z"
   },
   {
    "duration": 2,
    "start_time": "2023-08-06T16:13:08.877Z"
   },
   {
    "duration": 16186,
    "start_time": "2023-08-06T16:13:09.280Z"
   },
   {
    "duration": 5,
    "start_time": "2023-08-06T16:13:37.998Z"
   },
   {
    "duration": 7,
    "start_time": "2023-08-06T16:13:39.704Z"
   },
   {
    "duration": 6745,
    "start_time": "2023-08-06T16:13:40.155Z"
   },
   {
    "duration": 3,
    "start_time": "2023-08-06T16:14:52.191Z"
   },
   {
    "duration": 3,
    "start_time": "2023-08-06T16:15:24.811Z"
   },
   {
    "duration": 3,
    "start_time": "2023-08-06T16:15:25.376Z"
   },
   {
    "duration": 11223,
    "start_time": "2023-08-06T16:15:25.911Z"
   },
   {
    "duration": 3,
    "start_time": "2023-08-06T16:15:49.459Z"
   },
   {
    "duration": 3,
    "start_time": "2023-08-06T16:15:51.487Z"
   },
   {
    "duration": 8862,
    "start_time": "2023-08-06T16:15:51.887Z"
   },
   {
    "duration": 24947,
    "start_time": "2023-08-06T16:17:17.384Z"
   },
   {
    "duration": 4277,
    "start_time": "2023-08-06T16:20:58.234Z"
   },
   {
    "duration": 2,
    "start_time": "2023-08-06T16:21:42.395Z"
   },
   {
    "duration": 85,
    "start_time": "2023-08-06T16:21:51.942Z"
   },
   {
    "duration": 3,
    "start_time": "2023-08-06T16:21:56.271Z"
   },
   {
    "duration": 2,
    "start_time": "2023-08-06T16:22:04.296Z"
   },
   {
    "duration": 8556,
    "start_time": "2023-08-06T16:22:12.062Z"
   },
   {
    "duration": 25671,
    "start_time": "2023-08-06T16:22:22.187Z"
   },
   {
    "duration": 4,
    "start_time": "2023-08-06T16:24:45.218Z"
   },
   {
    "duration": 2,
    "start_time": "2023-08-06T16:24:55.181Z"
   },
   {
    "duration": 3,
    "start_time": "2023-08-06T16:25:23.769Z"
   },
   {
    "duration": 3,
    "start_time": "2023-08-06T16:25:36.118Z"
   },
   {
    "duration": 9,
    "start_time": "2023-08-06T16:25:36.570Z"
   },
   {
    "duration": 2,
    "start_time": "2023-08-06T16:26:01.082Z"
   },
   {
    "duration": 24432,
    "start_time": "2023-08-06T16:27:05.165Z"
   },
   {
    "duration": 24861,
    "start_time": "2023-08-06T16:27:42.668Z"
   },
   {
    "duration": 89,
    "start_time": "2023-08-06T16:28:07.530Z"
   },
   {
    "duration": 9,
    "start_time": "2023-08-06T16:28:14.002Z"
   },
   {
    "duration": 11,
    "start_time": "2023-08-06T16:28:14.403Z"
   },
   {
    "duration": 3,
    "start_time": "2023-08-06T16:28:14.869Z"
   },
   {
    "duration": 97,
    "start_time": "2023-08-06T16:28:15.772Z"
   },
   {
    "duration": 187030,
    "start_time": "2023-08-06T16:28:41.666Z"
   },
   {
    "duration": 5,
    "start_time": "2023-08-06T16:31:58.733Z"
   },
   {
    "duration": 2,
    "start_time": "2023-08-06T16:31:59.327Z"
   },
   {
    "duration": 4,
    "start_time": "2023-08-06T16:32:00.084Z"
   },
   {
    "duration": 559950,
    "start_time": "2023-08-06T16:32:00.975Z"
   },
   {
    "duration": 18717,
    "start_time": "2023-08-06T16:41:20.926Z"
   },
   {
    "duration": 2,
    "start_time": "2023-08-06T16:41:39.646Z"
   },
   {
    "duration": 11,
    "start_time": "2023-08-06T16:41:39.649Z"
   },
   {
    "duration": 8,
    "start_time": "2023-08-06T16:41:39.661Z"
   },
   {
    "duration": 21842,
    "start_time": "2023-08-06T16:41:39.671Z"
   },
   {
    "duration": 8,
    "start_time": "2023-08-06T16:42:01.519Z"
   },
   {
    "duration": 1381,
    "start_time": "2023-08-06T16:42:05.965Z"
   },
   {
    "duration": 3,
    "start_time": "2023-08-06T16:42:07.347Z"
   },
   {
    "duration": 792,
    "start_time": "2023-08-06T16:42:07.351Z"
   },
   {
    "duration": 3,
    "start_time": "2023-08-06T16:42:08.145Z"
   },
   {
    "duration": 50,
    "start_time": "2023-08-06T16:42:08.149Z"
   },
   {
    "duration": 5,
    "start_time": "2023-08-06T16:42:08.201Z"
   },
   {
    "duration": 34,
    "start_time": "2023-08-06T16:42:08.207Z"
   },
   {
    "duration": 23,
    "start_time": "2023-08-06T16:42:08.242Z"
   },
   {
    "duration": 212,
    "start_time": "2023-08-06T16:42:08.267Z"
   },
   {
    "duration": 213,
    "start_time": "2023-08-06T16:42:08.481Z"
   },
   {
    "duration": 33,
    "start_time": "2023-08-06T16:42:08.696Z"
   },
   {
    "duration": 10,
    "start_time": "2023-08-06T16:42:08.731Z"
   },
   {
    "duration": 35,
    "start_time": "2023-08-06T16:42:08.742Z"
   },
   {
    "duration": 14,
    "start_time": "2023-08-06T16:42:08.778Z"
   },
   {
    "duration": 52,
    "start_time": "2023-08-06T16:42:08.794Z"
   },
   {
    "duration": 12,
    "start_time": "2023-08-06T16:42:08.847Z"
   },
   {
    "duration": 18,
    "start_time": "2023-08-06T16:42:08.860Z"
   },
   {
    "duration": 7,
    "start_time": "2023-08-06T16:42:08.879Z"
   },
   {
    "duration": 9,
    "start_time": "2023-08-06T16:42:08.887Z"
   },
   {
    "duration": 75,
    "start_time": "2023-08-06T16:42:08.897Z"
   },
   {
    "duration": 23,
    "start_time": "2023-08-06T16:42:08.973Z"
   },
   {
    "duration": 46,
    "start_time": "2023-08-06T16:42:08.997Z"
   },
   {
    "duration": 12,
    "start_time": "2023-08-06T16:42:09.045Z"
   },
   {
    "duration": 4370,
    "start_time": "2023-08-06T16:42:09.058Z"
   },
   {
    "duration": 1012,
    "start_time": "2023-08-06T16:42:13.430Z"
   },
   {
    "duration": 553,
    "start_time": "2023-08-06T16:42:14.443Z"
   },
   {
    "duration": 37,
    "start_time": "2023-08-06T16:42:14.997Z"
   },
   {
    "duration": 1455,
    "start_time": "2023-08-06T16:42:15.037Z"
   },
   {
    "duration": 22,
    "start_time": "2023-08-06T16:42:16.494Z"
   },
   {
    "duration": 44,
    "start_time": "2023-08-06T16:42:16.521Z"
   },
   {
    "duration": 230,
    "start_time": "2023-08-06T16:42:16.566Z"
   },
   {
    "duration": 11,
    "start_time": "2023-08-06T16:42:16.798Z"
   },
   {
    "duration": 8,
    "start_time": "2023-08-06T16:42:16.813Z"
   },
   {
    "duration": 29,
    "start_time": "2023-08-06T16:42:16.830Z"
   },
   {
    "duration": 10,
    "start_time": "2023-08-06T16:42:16.861Z"
   },
   {
    "duration": 17,
    "start_time": "2023-08-06T16:42:16.872Z"
   },
   {
    "duration": 5931,
    "start_time": "2023-08-06T16:42:16.891Z"
   },
   {
    "duration": 3,
    "start_time": "2023-08-06T16:42:22.834Z"
   },
   {
    "duration": 94,
    "start_time": "2023-08-06T16:42:22.844Z"
   },
   {
    "duration": 12,
    "start_time": "2023-08-06T16:42:22.939Z"
   },
   {
    "duration": 9280,
    "start_time": "2023-08-06T16:42:22.953Z"
   },
   {
    "duration": 25801,
    "start_time": "2023-08-06T16:42:32.236Z"
   },
   {
    "duration": 3,
    "start_time": "2023-08-06T16:42:58.038Z"
   },
   {
    "duration": 11,
    "start_time": "2023-08-06T16:42:58.042Z"
   },
   {
    "duration": 17,
    "start_time": "2023-08-06T16:42:58.054Z"
   },
   {
    "duration": 402902,
    "start_time": "2023-08-06T16:42:58.073Z"
   },
   {
    "duration": 19254,
    "start_time": "2023-08-06T16:49:40.977Z"
   },
   {
    "duration": 77,
    "start_time": "2023-08-06T16:50:00.239Z"
   },
   {
    "duration": 45,
    "start_time": "2023-08-06T16:50:00.321Z"
   },
   {
    "duration": 1426,
    "start_time": "2023-08-06T16:50:34.696Z"
   },
   {
    "duration": 3,
    "start_time": "2023-08-06T16:50:36.124Z"
   },
   {
    "duration": 735,
    "start_time": "2023-08-06T16:50:36.129Z"
   },
   {
    "duration": 2,
    "start_time": "2023-08-06T16:50:36.866Z"
   },
   {
    "duration": 46,
    "start_time": "2023-08-06T16:50:36.869Z"
   },
   {
    "duration": 12,
    "start_time": "2023-08-06T16:50:36.916Z"
   },
   {
    "duration": 7,
    "start_time": "2023-08-06T16:50:36.930Z"
   },
   {
    "duration": 29,
    "start_time": "2023-08-06T16:50:36.939Z"
   },
   {
    "duration": 211,
    "start_time": "2023-08-06T16:50:36.969Z"
   },
   {
    "duration": 215,
    "start_time": "2023-08-06T16:50:37.182Z"
   },
   {
    "duration": 17,
    "start_time": "2023-08-06T16:50:37.398Z"
   },
   {
    "duration": 7,
    "start_time": "2023-08-06T16:50:37.417Z"
   },
   {
    "duration": 29,
    "start_time": "2023-08-06T16:50:37.426Z"
   },
   {
    "duration": 13,
    "start_time": "2023-08-06T16:50:37.456Z"
   },
   {
    "duration": 59,
    "start_time": "2023-08-06T16:50:37.471Z"
   },
   {
    "duration": 5,
    "start_time": "2023-08-06T16:50:37.531Z"
   },
   {
    "duration": 11,
    "start_time": "2023-08-06T16:50:37.538Z"
   },
   {
    "duration": 11,
    "start_time": "2023-08-06T16:50:37.551Z"
   },
   {
    "duration": 16,
    "start_time": "2023-08-06T16:50:37.564Z"
   },
   {
    "duration": 43,
    "start_time": "2023-08-06T16:50:37.582Z"
   },
   {
    "duration": 22,
    "start_time": "2023-08-06T16:50:37.626Z"
   },
   {
    "duration": 20,
    "start_time": "2023-08-06T16:50:37.650Z"
   },
   {
    "duration": 6,
    "start_time": "2023-08-06T16:50:37.671Z"
   },
   {
    "duration": 4231,
    "start_time": "2023-08-06T16:50:37.678Z"
   },
   {
    "duration": 951,
    "start_time": "2023-08-06T16:50:41.912Z"
   },
   {
    "duration": 530,
    "start_time": "2023-08-06T16:50:42.864Z"
   },
   {
    "duration": 19,
    "start_time": "2023-08-06T16:50:43.400Z"
   },
   {
    "duration": 1364,
    "start_time": "2023-08-06T16:50:43.422Z"
   },
   {
    "duration": 17,
    "start_time": "2023-08-06T16:50:44.788Z"
   },
   {
    "duration": 12,
    "start_time": "2023-08-06T16:50:44.806Z"
   },
   {
    "duration": 168,
    "start_time": "2023-08-06T16:50:44.819Z"
   },
   {
    "duration": 4,
    "start_time": "2023-08-06T16:50:44.989Z"
   },
   {
    "duration": 58,
    "start_time": "2023-08-06T16:50:44.994Z"
   },
   {
    "duration": 29,
    "start_time": "2023-08-06T16:50:45.053Z"
   },
   {
    "duration": 12,
    "start_time": "2023-08-06T16:50:45.083Z"
   },
   {
    "duration": 38,
    "start_time": "2023-08-06T16:50:45.097Z"
   },
   {
    "duration": 3787,
    "start_time": "2023-08-06T16:50:45.137Z"
   },
   {
    "duration": 3,
    "start_time": "2023-08-06T16:50:48.926Z"
   },
   {
    "duration": 79,
    "start_time": "2023-08-06T16:50:48.930Z"
   },
   {
    "duration": 2,
    "start_time": "2023-08-06T16:50:49.011Z"
   },
   {
    "duration": 8676,
    "start_time": "2023-08-06T16:50:49.015Z"
   },
   {
    "duration": 24879,
    "start_time": "2023-08-06T16:50:57.692Z"
   },
   {
    "duration": 3,
    "start_time": "2023-08-06T16:51:22.572Z"
   },
   {
    "duration": 16,
    "start_time": "2023-08-06T16:51:22.577Z"
   },
   {
    "duration": 25,
    "start_time": "2023-08-06T16:51:22.595Z"
   },
   {
    "duration": 4274,
    "start_time": "2023-08-06T17:07:14.964Z"
   },
   {
    "duration": 2230,
    "start_time": "2023-08-06T17:07:19.241Z"
   },
   {
    "duration": 3,
    "start_time": "2023-08-06T17:07:43.160Z"
   },
   {
    "duration": 3,
    "start_time": "2023-08-06T17:07:44.176Z"
   },
   {
    "duration": 3,
    "start_time": "2023-08-06T17:07:44.882Z"
   },
   {
    "duration": 566214,
    "start_time": "2023-08-06T17:07:45.730Z"
   },
   {
    "duration": 569796,
    "start_time": "2023-08-06T17:17:35.038Z"
   },
   {
    "duration": 6,
    "start_time": "2023-08-06T18:19:09.104Z"
   },
   {
    "duration": 11,
    "start_time": "2023-08-06T18:19:14.426Z"
   },
   {
    "duration": 12,
    "start_time": "2023-08-06T18:20:03.780Z"
   },
   {
    "duration": 16,
    "start_time": "2023-08-06T18:20:32.414Z"
   },
   {
    "duration": 11,
    "start_time": "2023-08-06T18:20:35.489Z"
   },
   {
    "duration": 11,
    "start_time": "2023-08-06T18:21:09.102Z"
   },
   {
    "duration": 15,
    "start_time": "2023-08-06T18:21:16.196Z"
   },
   {
    "duration": 13,
    "start_time": "2023-08-06T18:21:28.482Z"
   },
   {
    "duration": 13,
    "start_time": "2023-08-06T18:22:14.949Z"
   },
   {
    "duration": 10,
    "start_time": "2023-08-06T18:24:12.257Z"
   },
   {
    "duration": 18,
    "start_time": "2023-08-06T18:24:51.098Z"
   },
   {
    "duration": 9,
    "start_time": "2023-08-06T18:25:02.479Z"
   },
   {
    "duration": 11,
    "start_time": "2023-08-06T18:25:54.217Z"
   },
   {
    "duration": 8,
    "start_time": "2023-08-06T18:27:12.361Z"
   },
   {
    "duration": 8,
    "start_time": "2023-08-06T18:27:23.157Z"
   },
   {
    "duration": 3,
    "start_time": "2023-08-06T18:29:12.266Z"
   },
   {
    "duration": 6,
    "start_time": "2023-08-06T18:29:14.043Z"
   },
   {
    "duration": 9,
    "start_time": "2023-08-06T18:29:14.720Z"
   },
   {
    "duration": 13,
    "start_time": "2023-08-06T18:29:17.453Z"
   },
   {
    "duration": 12,
    "start_time": "2023-08-06T18:29:49.971Z"
   },
   {
    "duration": 1371,
    "start_time": "2023-08-06T18:29:57.650Z"
   },
   {
    "duration": 3,
    "start_time": "2023-08-06T18:29:59.023Z"
   },
   {
    "duration": 809,
    "start_time": "2023-08-06T18:29:59.028Z"
   },
   {
    "duration": 3,
    "start_time": "2023-08-06T18:29:59.840Z"
   },
   {
    "duration": 36,
    "start_time": "2023-08-06T18:29:59.844Z"
   },
   {
    "duration": 31,
    "start_time": "2023-08-06T18:29:59.882Z"
   },
   {
    "duration": 18,
    "start_time": "2023-08-06T18:29:59.914Z"
   },
   {
    "duration": 23,
    "start_time": "2023-08-06T18:29:59.934Z"
   },
   {
    "duration": 223,
    "start_time": "2023-08-06T18:29:59.959Z"
   },
   {
    "duration": 234,
    "start_time": "2023-08-06T18:30:00.185Z"
   },
   {
    "duration": 14,
    "start_time": "2023-08-06T18:30:00.421Z"
   },
   {
    "duration": 36,
    "start_time": "2023-08-06T18:30:00.437Z"
   },
   {
    "duration": 71,
    "start_time": "2023-08-06T18:30:00.474Z"
   },
   {
    "duration": 17,
    "start_time": "2023-08-06T18:30:00.547Z"
   },
   {
    "duration": 55,
    "start_time": "2023-08-06T18:30:00.565Z"
   },
   {
    "duration": 22,
    "start_time": "2023-08-06T18:30:00.622Z"
   },
   {
    "duration": 34,
    "start_time": "2023-08-06T18:30:00.646Z"
   },
   {
    "duration": 43,
    "start_time": "2023-08-06T18:30:00.682Z"
   },
   {
    "duration": 45,
    "start_time": "2023-08-06T18:30:00.727Z"
   },
   {
    "duration": 80,
    "start_time": "2023-08-06T18:30:00.774Z"
   },
   {
    "duration": 25,
    "start_time": "2023-08-06T18:30:00.856Z"
   },
   {
    "duration": 52,
    "start_time": "2023-08-06T18:30:00.883Z"
   },
   {
    "duration": 30,
    "start_time": "2023-08-06T18:30:00.937Z"
   },
   {
    "duration": 4463,
    "start_time": "2023-08-06T18:30:00.969Z"
   },
   {
    "duration": 955,
    "start_time": "2023-08-06T18:30:05.434Z"
   },
   {
    "duration": 477,
    "start_time": "2023-08-06T18:30:06.390Z"
   },
   {
    "duration": 14,
    "start_time": "2023-08-06T18:30:06.868Z"
   },
   {
    "duration": 1428,
    "start_time": "2023-08-06T18:30:06.885Z"
   },
   {
    "duration": 7,
    "start_time": "2023-08-06T18:30:08.315Z"
   },
   {
    "duration": 24,
    "start_time": "2023-08-06T18:30:08.323Z"
   },
   {
    "duration": 178,
    "start_time": "2023-08-06T18:30:08.348Z"
   },
   {
    "duration": 4,
    "start_time": "2023-08-06T18:30:08.527Z"
   },
   {
    "duration": 17,
    "start_time": "2023-08-06T18:30:08.531Z"
   },
   {
    "duration": 12,
    "start_time": "2023-08-06T18:30:08.550Z"
   },
   {
    "duration": 11,
    "start_time": "2023-08-06T18:30:08.563Z"
   },
   {
    "duration": 16,
    "start_time": "2023-08-06T18:30:08.575Z"
   },
   {
    "duration": 3629,
    "start_time": "2023-08-06T18:30:08.592Z"
   },
   {
    "duration": 87,
    "start_time": "2023-08-06T18:30:12.223Z"
   },
   {
    "duration": 22,
    "start_time": "2023-08-06T18:30:12.322Z"
   },
   {
    "duration": 9,
    "start_time": "2023-08-06T18:30:12.405Z"
   },
   {
    "duration": 8405,
    "start_time": "2023-08-06T18:30:12.416Z"
   },
   {
    "duration": 24444,
    "start_time": "2023-08-06T18:30:20.823Z"
   },
   {
    "duration": 3,
    "start_time": "2023-08-06T18:30:45.268Z"
   },
   {
    "duration": 78,
    "start_time": "2023-08-06T18:30:45.272Z"
   },
   {
    "duration": 29,
    "start_time": "2023-08-06T18:30:45.351Z"
   },
   {
    "duration": 556699,
    "start_time": "2023-08-06T18:30:45.382Z"
   },
   {
    "duration": 568101,
    "start_time": "2023-08-06T18:40:02.082Z"
   },
   {
    "duration": 3,
    "start_time": "2023-08-06T18:49:30.184Z"
   },
   {
    "duration": 73,
    "start_time": "2023-08-06T18:49:30.188Z"
   },
   {
    "duration": 53,
    "start_time": "2023-08-06T18:49:30.262Z"
   },
   {
    "duration": 164,
    "start_time": "2023-08-06T18:49:30.317Z"
   },
   {
    "duration": 0,
    "start_time": "2023-08-06T18:49:30.482Z"
   },
   {
    "duration": 10172,
    "start_time": "2023-08-06T19:28:03.462Z"
   },
   {
    "duration": 5,
    "start_time": "2023-08-06T19:28:17.845Z"
   },
   {
    "duration": 8,
    "start_time": "2023-08-06T19:28:18.755Z"
   },
   {
    "duration": 82,
    "start_time": "2023-08-06T19:28:19.560Z"
   },
   {
    "duration": 6,
    "start_time": "2023-08-06T19:28:21.152Z"
   },
   {
    "duration": 10155,
    "start_time": "2023-08-06T19:29:47.727Z"
   },
   {
    "duration": 21,
    "start_time": "2023-08-06T19:32:21.395Z"
   },
   {
    "duration": 1828,
    "start_time": "2023-08-07T12:54:47.876Z"
   },
   {
    "duration": 4,
    "start_time": "2023-08-07T12:54:49.706Z"
   },
   {
    "duration": 4007,
    "start_time": "2023-08-07T12:54:49.711Z"
   },
   {
    "duration": 2,
    "start_time": "2023-08-07T12:54:53.720Z"
   },
   {
    "duration": 51,
    "start_time": "2023-08-07T12:54:53.725Z"
   },
   {
    "duration": 4,
    "start_time": "2023-08-07T12:54:53.777Z"
   },
   {
    "duration": 15,
    "start_time": "2023-08-07T12:54:53.782Z"
   },
   {
    "duration": 22,
    "start_time": "2023-08-07T12:54:53.798Z"
   },
   {
    "duration": 320,
    "start_time": "2023-08-07T12:54:53.821Z"
   },
   {
    "duration": 380,
    "start_time": "2023-08-07T12:54:54.144Z"
   },
   {
    "duration": 8,
    "start_time": "2023-08-07T12:54:54.525Z"
   },
   {
    "duration": 5,
    "start_time": "2023-08-07T12:54:54.535Z"
   },
   {
    "duration": 47,
    "start_time": "2023-08-07T12:54:54.560Z"
   },
   {
    "duration": 21,
    "start_time": "2023-08-07T12:54:54.611Z"
   },
   {
    "duration": 39,
    "start_time": "2023-08-07T12:54:54.663Z"
   },
   {
    "duration": 6,
    "start_time": "2023-08-07T12:54:54.704Z"
   },
   {
    "duration": 9,
    "start_time": "2023-08-07T12:54:54.712Z"
   },
   {
    "duration": 41,
    "start_time": "2023-08-07T12:54:54.724Z"
   },
   {
    "duration": 8,
    "start_time": "2023-08-07T12:54:54.773Z"
   },
   {
    "duration": 89,
    "start_time": "2023-08-07T12:54:54.783Z"
   },
   {
    "duration": 30,
    "start_time": "2023-08-07T12:54:54.873Z"
   },
   {
    "duration": 27,
    "start_time": "2023-08-07T12:54:54.905Z"
   },
   {
    "duration": 16,
    "start_time": "2023-08-07T12:54:54.934Z"
   },
   {
    "duration": 5046,
    "start_time": "2023-08-07T12:54:54.952Z"
   },
   {
    "duration": 1026,
    "start_time": "2023-08-07T12:55:00.000Z"
   },
   {
    "duration": 754,
    "start_time": "2023-08-07T12:55:01.028Z"
   },
   {
    "duration": 16,
    "start_time": "2023-08-07T12:55:01.784Z"
   },
   {
    "duration": 1688,
    "start_time": "2023-08-07T12:55:01.802Z"
   },
   {
    "duration": 8,
    "start_time": "2023-08-07T12:55:03.492Z"
   },
   {
    "duration": 14,
    "start_time": "2023-08-07T12:55:03.502Z"
   },
   {
    "duration": 269,
    "start_time": "2023-08-07T12:55:03.518Z"
   },
   {
    "duration": 5,
    "start_time": "2023-08-07T12:55:03.788Z"
   },
   {
    "duration": 20,
    "start_time": "2023-08-07T12:55:03.795Z"
   },
   {
    "duration": 30,
    "start_time": "2023-08-07T12:55:03.817Z"
   },
   {
    "duration": 20,
    "start_time": "2023-08-07T12:55:03.849Z"
   },
   {
    "duration": 12,
    "start_time": "2023-08-07T12:55:03.874Z"
   },
   {
    "duration": 5183,
    "start_time": "2023-08-07T12:55:03.888Z"
   },
   {
    "duration": 5,
    "start_time": "2023-08-07T12:55:09.079Z"
   },
   {
    "duration": 19,
    "start_time": "2023-08-07T12:55:09.085Z"
   },
   {
    "duration": 66,
    "start_time": "2023-08-07T12:55:09.106Z"
   },
   {
    "duration": 8514,
    "start_time": "2023-08-07T12:55:09.179Z"
   },
   {
    "duration": 24973,
    "start_time": "2023-08-07T12:55:17.695Z"
   },
   {
    "duration": 8,
    "start_time": "2023-08-07T12:55:42.670Z"
   },
   {
    "duration": 34,
    "start_time": "2023-08-07T12:55:42.680Z"
   },
   {
    "duration": 23,
    "start_time": "2023-08-07T12:55:42.716Z"
   },
   {
    "duration": 11,
    "start_time": "2023-08-08T13:17:13.804Z"
   },
   {
    "duration": 355,
    "start_time": "2023-08-08T13:17:26.558Z"
   },
   {
    "duration": 6901,
    "start_time": "2023-08-08T13:20:49.186Z"
   },
   {
    "duration": 4,
    "start_time": "2023-08-08T13:20:56.090Z"
   },
   {
    "duration": 4206,
    "start_time": "2023-08-08T13:20:56.096Z"
   },
   {
    "duration": 3,
    "start_time": "2023-08-08T13:21:00.305Z"
   },
   {
    "duration": 77,
    "start_time": "2023-08-08T13:21:00.310Z"
   },
   {
    "duration": 11,
    "start_time": "2023-08-08T13:21:00.389Z"
   },
   {
    "duration": 42,
    "start_time": "2023-08-08T13:21:00.401Z"
   },
   {
    "duration": 79,
    "start_time": "2023-08-08T13:21:00.445Z"
   },
   {
    "duration": 293,
    "start_time": "2023-08-08T13:21:00.525Z"
   },
   {
    "duration": 306,
    "start_time": "2023-08-08T13:21:00.821Z"
   },
   {
    "duration": 10,
    "start_time": "2023-08-08T13:21:01.129Z"
   },
   {
    "duration": 171,
    "start_time": "2023-08-08T13:21:01.141Z"
   },
   {
    "duration": 306,
    "start_time": "2023-08-08T13:21:01.314Z"
   },
   {
    "duration": 83,
    "start_time": "2023-08-08T13:21:01.622Z"
   },
   {
    "duration": 77,
    "start_time": "2023-08-08T13:21:01.707Z"
   },
   {
    "duration": 98,
    "start_time": "2023-08-08T13:21:01.786Z"
   },
   {
    "duration": 99,
    "start_time": "2023-08-08T13:21:01.886Z"
   },
   {
    "duration": 77,
    "start_time": "2023-08-08T13:21:01.987Z"
   },
   {
    "duration": 178,
    "start_time": "2023-08-08T13:21:02.067Z"
   },
   {
    "duration": 116,
    "start_time": "2023-08-08T13:21:02.248Z"
   },
   {
    "duration": 52,
    "start_time": "2023-08-08T13:21:02.366Z"
   },
   {
    "duration": 228,
    "start_time": "2023-08-08T13:21:02.421Z"
   },
   {
    "duration": 30,
    "start_time": "2023-08-08T13:21:02.652Z"
   },
   {
    "duration": 5327,
    "start_time": "2023-08-08T13:21:02.686Z"
   },
   {
    "duration": 1285,
    "start_time": "2023-08-08T13:21:08.015Z"
   },
   {
    "duration": 708,
    "start_time": "2023-08-08T13:21:09.302Z"
   },
   {
    "duration": 18,
    "start_time": "2023-08-08T13:21:10.012Z"
   },
   {
    "duration": 1765,
    "start_time": "2023-08-08T13:21:10.035Z"
   },
   {
    "duration": 10,
    "start_time": "2023-08-08T13:21:11.802Z"
   },
   {
    "duration": 6,
    "start_time": "2023-08-08T13:21:11.814Z"
   },
   {
    "duration": 289,
    "start_time": "2023-08-08T13:21:11.822Z"
   },
   {
    "duration": 5,
    "start_time": "2023-08-08T13:21:12.114Z"
   },
   {
    "duration": 10,
    "start_time": "2023-08-08T13:21:12.122Z"
   },
   {
    "duration": 14,
    "start_time": "2023-08-08T13:21:12.134Z"
   },
   {
    "duration": 5,
    "start_time": "2023-08-08T13:21:12.150Z"
   },
   {
    "duration": 10045,
    "start_time": "2023-08-08T13:21:35.291Z"
   },
   {
    "duration": 7,
    "start_time": "2023-08-08T13:21:45.338Z"
   },
   {
    "duration": 50,
    "start_time": "2023-08-08T13:21:45.347Z"
   },
   {
    "duration": 102,
    "start_time": "2023-08-08T13:21:45.400Z"
   },
   {
    "duration": 14,
    "start_time": "2023-08-08T13:21:45.504Z"
   },
   {
    "duration": 1649,
    "start_time": "2023-08-08T15:22:05.448Z"
   },
   {
    "duration": 4,
    "start_time": "2023-08-08T15:22:46.154Z"
   },
   {
    "duration": 3347,
    "start_time": "2023-08-08T15:22:47.965Z"
   },
   {
    "duration": 3,
    "start_time": "2023-08-08T15:23:00.867Z"
   },
   {
    "duration": 37,
    "start_time": "2023-08-08T15:23:01.393Z"
   },
   {
    "duration": 5,
    "start_time": "2023-08-08T15:23:02.204Z"
   },
   {
    "duration": 3,
    "start_time": "2023-08-08T15:23:03.362Z"
   },
   {
    "duration": 19,
    "start_time": "2023-08-08T15:23:04.883Z"
   },
   {
    "duration": 239,
    "start_time": "2023-08-08T15:23:05.530Z"
   },
   {
    "duration": 240,
    "start_time": "2023-08-08T15:23:06.231Z"
   },
   {
    "duration": 9,
    "start_time": "2023-08-08T15:23:28.755Z"
   },
   {
    "duration": 4,
    "start_time": "2023-08-08T15:23:40.546Z"
   },
   {
    "duration": 33,
    "start_time": "2023-08-08T15:24:07.748Z"
   },
   {
    "duration": 29,
    "start_time": "2023-08-08T15:24:08.394Z"
   },
   {
    "duration": 28,
    "start_time": "2023-08-08T15:24:09.290Z"
   },
   {
    "duration": 5,
    "start_time": "2023-08-08T15:24:17.036Z"
   },
   {
    "duration": 6,
    "start_time": "2023-08-08T15:24:17.587Z"
   },
   {
    "duration": 6,
    "start_time": "2023-08-08T15:24:18.149Z"
   },
   {
    "duration": 5,
    "start_time": "2023-08-08T15:24:18.754Z"
   },
   {
    "duration": 39,
    "start_time": "2023-08-08T15:24:32.685Z"
   },
   {
    "duration": 27,
    "start_time": "2023-08-08T15:24:33.902Z"
   },
   {
    "duration": 18,
    "start_time": "2023-08-08T15:24:40.829Z"
   },
   {
    "duration": 8,
    "start_time": "2023-08-08T15:25:04.375Z"
   },
   {
    "duration": 4891,
    "start_time": "2023-08-08T15:25:05.188Z"
   },
   {
    "duration": 932,
    "start_time": "2023-08-08T15:25:22.282Z"
   },
   {
    "duration": 1092,
    "start_time": "2023-08-08T15:37:02.403Z"
   },
   {
    "duration": 906,
    "start_time": "2023-08-08T15:37:19.766Z"
   },
   {
    "duration": 1019,
    "start_time": "2023-08-08T15:37:39.848Z"
   },
   {
    "duration": 921,
    "start_time": "2023-08-08T15:38:13.899Z"
   },
   {
    "duration": 1017,
    "start_time": "2023-08-08T15:40:34.404Z"
   },
   {
    "duration": 5,
    "start_time": "2023-08-08T18:47:00.498Z"
   },
   {
    "duration": 51,
    "start_time": "2023-08-08T18:49:59.497Z"
   },
   {
    "duration": 1588,
    "start_time": "2023-08-08T18:50:10.307Z"
   },
   {
    "duration": 4,
    "start_time": "2023-08-08T18:50:11.897Z"
   },
   {
    "duration": 2354,
    "start_time": "2023-08-08T18:50:12.798Z"
   },
   {
    "duration": 3,
    "start_time": "2023-08-08T18:50:15.154Z"
   },
   {
    "duration": 75,
    "start_time": "2023-08-08T18:50:15.159Z"
   },
   {
    "duration": 7,
    "start_time": "2023-08-08T18:50:15.237Z"
   },
   {
    "duration": 21,
    "start_time": "2023-08-08T18:50:15.246Z"
   },
   {
    "duration": 43,
    "start_time": "2023-08-08T18:50:15.269Z"
   },
   {
    "duration": 288,
    "start_time": "2023-08-08T18:50:15.315Z"
   },
   {
    "duration": 273,
    "start_time": "2023-08-08T18:50:15.606Z"
   },
   {
    "duration": 9,
    "start_time": "2023-08-08T18:50:16.162Z"
   },
   {
    "duration": 5,
    "start_time": "2023-08-08T18:50:17.267Z"
   },
   {
    "duration": 44,
    "start_time": "2023-08-08T18:50:18.251Z"
   },
   {
    "duration": 22,
    "start_time": "2023-08-08T18:50:18.494Z"
   },
   {
    "duration": 33,
    "start_time": "2023-08-08T18:50:18.797Z"
   },
   {
    "duration": 7,
    "start_time": "2023-08-08T18:50:19.694Z"
   },
   {
    "duration": 7,
    "start_time": "2023-08-08T18:50:19.910Z"
   },
   {
    "duration": 6,
    "start_time": "2023-08-08T18:50:20.097Z"
   },
   {
    "duration": 9,
    "start_time": "2023-08-08T18:50:20.256Z"
   },
   {
    "duration": 40,
    "start_time": "2023-08-08T18:50:20.955Z"
   },
   {
    "duration": 28,
    "start_time": "2023-08-08T18:50:21.171Z"
   },
   {
    "duration": 16,
    "start_time": "2023-08-08T18:50:22.027Z"
   },
   {
    "duration": 7,
    "start_time": "2023-08-08T18:50:24.545Z"
   },
   {
    "duration": 4996,
    "start_time": "2023-08-08T18:50:25.922Z"
   },
   {
    "duration": 9,
    "start_time": "2023-08-08T18:50:30.920Z"
   },
   {
    "duration": 5139,
    "start_time": "2023-08-08T18:50:38.322Z"
   },
   {
    "duration": 12,
    "start_time": "2023-08-08T18:50:43.464Z"
   },
   {
    "duration": 5,
    "start_time": "2023-08-08T18:51:45.204Z"
   },
   {
    "duration": 207,
    "start_time": "2023-08-08T18:52:07.694Z"
   },
   {
    "duration": 964,
    "start_time": "2023-08-08T18:52:18.660Z"
   },
   {
    "duration": 3,
    "start_time": "2023-08-08T18:52:28.554Z"
   },
   {
    "duration": 17,
    "start_time": "2023-08-08T18:52:31.002Z"
   },
   {
    "duration": 1711,
    "start_time": "2023-08-08T18:52:32.610Z"
   },
   {
    "duration": 1625,
    "start_time": "2023-08-08T18:52:52.694Z"
   },
   {
    "duration": 3,
    "start_time": "2023-08-08T18:52:54.322Z"
   },
   {
    "duration": 868,
    "start_time": "2023-08-08T18:52:54.327Z"
   },
   {
    "duration": 3,
    "start_time": "2023-08-08T18:52:55.198Z"
   },
   {
    "duration": 47,
    "start_time": "2023-08-08T18:52:55.205Z"
   },
   {
    "duration": 5,
    "start_time": "2023-08-08T18:52:55.259Z"
   },
   {
    "duration": 14,
    "start_time": "2023-08-08T18:52:55.266Z"
   },
   {
    "duration": 35,
    "start_time": "2023-08-08T18:52:55.282Z"
   },
   {
    "duration": 327,
    "start_time": "2023-08-08T18:52:55.320Z"
   },
   {
    "duration": 268,
    "start_time": "2023-08-08T18:52:55.649Z"
   },
   {
    "duration": 9,
    "start_time": "2023-08-08T18:52:55.919Z"
   },
   {
    "duration": 8,
    "start_time": "2023-08-08T18:52:55.930Z"
   },
   {
    "duration": 50,
    "start_time": "2023-08-08T18:52:55.958Z"
   },
   {
    "duration": 49,
    "start_time": "2023-08-08T18:52:56.013Z"
   },
   {
    "duration": 40,
    "start_time": "2023-08-08T18:52:56.064Z"
   },
   {
    "duration": 6,
    "start_time": "2023-08-08T18:52:56.107Z"
   },
   {
    "duration": 44,
    "start_time": "2023-08-08T18:52:56.115Z"
   },
   {
    "duration": 6,
    "start_time": "2023-08-08T18:52:56.162Z"
   },
   {
    "duration": 20,
    "start_time": "2023-08-08T18:52:56.170Z"
   },
   {
    "duration": 76,
    "start_time": "2023-08-08T18:52:56.193Z"
   },
   {
    "duration": 39,
    "start_time": "2023-08-08T18:52:56.272Z"
   },
   {
    "duration": 19,
    "start_time": "2023-08-08T18:52:56.313Z"
   },
   {
    "duration": 10,
    "start_time": "2023-08-08T18:52:56.358Z"
   },
   {
    "duration": 4941,
    "start_time": "2023-08-08T18:52:56.370Z"
   },
   {
    "duration": 10,
    "start_time": "2023-08-08T18:53:01.313Z"
   },
   {
    "duration": 84,
    "start_time": "2023-08-08T18:53:01.325Z"
   },
   {
    "duration": 249,
    "start_time": "2023-08-08T18:53:01.411Z"
   },
   {
    "duration": 1297,
    "start_time": "2023-08-08T18:53:01.662Z"
   },
   {
    "duration": 4,
    "start_time": "2023-08-08T18:53:02.961Z"
   },
   {
    "duration": 35,
    "start_time": "2023-08-08T18:53:02.967Z"
   },
   {
    "duration": 1889,
    "start_time": "2023-08-08T18:53:03.004Z"
   },
   {
    "duration": 10,
    "start_time": "2023-08-08T18:53:04.895Z"
   },
   {
    "duration": 15,
    "start_time": "2023-08-08T18:53:04.908Z"
   },
   {
    "duration": 260,
    "start_time": "2023-08-08T18:53:04.925Z"
   },
   {
    "duration": 4,
    "start_time": "2023-08-08T18:53:05.187Z"
   },
   {
    "duration": 238,
    "start_time": "2023-08-08T18:53:05.193Z"
   },
   {
    "duration": 15,
    "start_time": "2023-08-08T18:53:05.433Z"
   },
   {
    "duration": 8,
    "start_time": "2023-08-08T18:53:05.450Z"
   },
   {
    "duration": 11,
    "start_time": "2023-08-08T18:53:05.461Z"
   },
   {
    "duration": 3588,
    "start_time": "2023-08-08T18:53:05.474Z"
   },
   {
    "duration": 88,
    "start_time": "2023-08-08T18:53:09.071Z"
   },
   {
    "duration": 7,
    "start_time": "2023-08-08T18:53:09.161Z"
   },
   {
    "duration": 8,
    "start_time": "2023-08-08T18:53:09.170Z"
   },
   {
    "duration": 8266,
    "start_time": "2023-08-08T18:53:09.180Z"
   },
   {
    "duration": 24304,
    "start_time": "2023-08-08T18:53:17.448Z"
   },
   {
    "duration": 6,
    "start_time": "2023-08-08T18:53:41.754Z"
   },
   {
    "duration": 14,
    "start_time": "2023-08-08T18:53:41.762Z"
   },
   {
    "duration": 9,
    "start_time": "2023-08-08T18:53:41.777Z"
   },
   {
    "duration": 551515,
    "start_time": "2023-08-08T18:53:41.788Z"
   },
   {
    "duration": 583638,
    "start_time": "2023-08-08T19:02:53.305Z"
   },
   {
    "duration": 9759,
    "start_time": "2023-08-08T19:12:36.945Z"
   },
   {
    "duration": 6,
    "start_time": "2023-08-08T19:12:46.706Z"
   },
   {
    "duration": 14,
    "start_time": "2023-08-08T19:12:46.713Z"
   },
   {
    "duration": 103,
    "start_time": "2023-08-08T19:12:46.728Z"
   },
   {
    "duration": 7,
    "start_time": "2023-08-08T19:12:46.833Z"
   },
   {
    "duration": 5,
    "start_time": "2023-08-08T20:21:07.010Z"
   },
   {
    "duration": 3,
    "start_time": "2023-08-08T20:21:07.909Z"
   },
   {
    "duration": 783,
    "start_time": "2023-08-08T20:21:08.709Z"
   },
   {
    "duration": 3,
    "start_time": "2023-08-08T20:21:09.493Z"
   },
   {
    "duration": 39,
    "start_time": "2023-08-08T20:21:09.643Z"
   },
   {
    "duration": 5,
    "start_time": "2023-08-08T20:21:09.922Z"
   },
   {
    "duration": 4,
    "start_time": "2023-08-08T20:21:10.171Z"
   },
   {
    "duration": 29,
    "start_time": "2023-08-08T20:21:10.642Z"
   },
   {
    "duration": 265,
    "start_time": "2023-08-08T20:21:10.882Z"
   },
   {
    "duration": 251,
    "start_time": "2023-08-08T20:21:11.290Z"
   },
   {
    "duration": 7,
    "start_time": "2023-08-08T20:21:12.307Z"
   },
   {
    "duration": 5,
    "start_time": "2023-08-08T20:21:13.693Z"
   },
   {
    "duration": 43,
    "start_time": "2023-08-08T20:22:04.982Z"
   },
   {
    "duration": 25,
    "start_time": "2023-08-08T20:22:05.917Z"
   },
   {
    "duration": 30,
    "start_time": "2023-08-08T20:22:06.324Z"
   },
   {
    "duration": 6,
    "start_time": "2023-08-08T20:22:07.152Z"
   },
   {
    "duration": 6,
    "start_time": "2023-08-08T20:22:07.574Z"
   },
   {
    "duration": 7,
    "start_time": "2023-08-08T20:22:07.765Z"
   },
   {
    "duration": 5,
    "start_time": "2023-08-08T20:22:07.949Z"
   },
   {
    "duration": 43,
    "start_time": "2023-08-08T20:22:08.810Z"
   },
   {
    "duration": 29,
    "start_time": "2023-08-08T20:22:09.144Z"
   },
   {
    "duration": 16,
    "start_time": "2023-08-08T20:22:10.051Z"
   },
   {
    "duration": 7,
    "start_time": "2023-08-08T20:22:12.479Z"
   },
   {
    "duration": 5040,
    "start_time": "2023-08-08T20:22:13.726Z"
   },
   {
    "duration": 8,
    "start_time": "2023-08-08T20:22:18.769Z"
   },
   {
    "duration": 14,
    "start_time": "2023-08-08T20:22:18.779Z"
   },
   {
    "duration": 1832,
    "start_time": "2023-08-08T20:22:18.796Z"
   },
   {
    "duration": 18,
    "start_time": "2023-08-08T20:25:47.697Z"
   },
   {
    "duration": 27,
    "start_time": "2023-08-08T20:27:53.944Z"
   },
   {
    "duration": 3,
    "start_time": "2023-08-08T20:27:55.007Z"
   },
   {
    "duration": 7,
    "start_time": "2023-08-08T20:27:58.497Z"
   },
   {
    "duration": 4892,
    "start_time": "2023-08-08T20:27:59.230Z"
   },
   {
    "duration": 19,
    "start_time": "2023-08-08T20:28:53.118Z"
   },
   {
    "duration": 12,
    "start_time": "2023-08-08T20:33:53.698Z"
   },
   {
    "duration": 1219,
    "start_time": "2023-08-08T20:33:54.684Z"
   },
   {
    "duration": 8,
    "start_time": "2023-08-08T20:34:11.294Z"
   },
   {
    "duration": 1228,
    "start_time": "2023-08-08T20:34:13.496Z"
   },
   {
    "duration": 1554,
    "start_time": "2023-08-08T20:34:30.156Z"
   },
   {
    "duration": 5,
    "start_time": "2023-08-08T20:34:31.712Z"
   },
   {
    "duration": 844,
    "start_time": "2023-08-08T20:34:31.718Z"
   },
   {
    "duration": 3,
    "start_time": "2023-08-08T20:34:32.564Z"
   },
   {
    "duration": 45,
    "start_time": "2023-08-08T20:34:32.570Z"
   },
   {
    "duration": 6,
    "start_time": "2023-08-08T20:34:32.617Z"
   },
   {
    "duration": 12,
    "start_time": "2023-08-08T20:34:32.625Z"
   },
   {
    "duration": 39,
    "start_time": "2023-08-08T20:34:32.640Z"
   },
   {
    "duration": 270,
    "start_time": "2023-08-08T20:34:32.681Z"
   },
   {
    "duration": 275,
    "start_time": "2023-08-08T20:34:32.954Z"
   },
   {
    "duration": 10,
    "start_time": "2023-08-08T20:34:33.231Z"
   },
   {
    "duration": 21,
    "start_time": "2023-08-08T20:34:33.243Z"
   },
   {
    "duration": 44,
    "start_time": "2023-08-08T20:34:33.266Z"
   },
   {
    "duration": 23,
    "start_time": "2023-08-08T20:34:33.312Z"
   },
   {
    "duration": 33,
    "start_time": "2023-08-08T20:34:33.358Z"
   },
   {
    "duration": 6,
    "start_time": "2023-08-08T20:34:33.394Z"
   },
   {
    "duration": 13,
    "start_time": "2023-08-08T20:34:33.402Z"
   },
   {
    "duration": 42,
    "start_time": "2023-08-08T20:34:33.417Z"
   },
   {
    "duration": 7,
    "start_time": "2023-08-08T20:34:33.461Z"
   },
   {
    "duration": 51,
    "start_time": "2023-08-08T20:34:33.470Z"
   },
   {
    "duration": 45,
    "start_time": "2023-08-08T20:34:33.523Z"
   },
   {
    "duration": 5,
    "start_time": "2023-08-08T20:34:33.570Z"
   },
   {
    "duration": 7,
    "start_time": "2023-08-08T20:34:33.577Z"
   },
   {
    "duration": 5134,
    "start_time": "2023-08-08T20:34:33.586Z"
   },
   {
    "duration": 12,
    "start_time": "2023-08-08T20:34:38.722Z"
   },
   {
    "duration": 23,
    "start_time": "2023-08-08T20:34:38.736Z"
   },
   {
    "duration": 14,
    "start_time": "2023-08-08T20:34:38.761Z"
   },
   {
    "duration": 2,
    "start_time": "2023-08-08T20:34:38.779Z"
   },
   {
    "duration": 1140,
    "start_time": "2023-08-08T20:34:38.783Z"
   },
   {
    "duration": 3,
    "start_time": "2023-08-08T20:34:39.924Z"
   },
   {
    "duration": 34,
    "start_time": "2023-08-08T20:34:39.929Z"
   },
   {
    "duration": 1560,
    "start_time": "2023-08-08T20:34:39.965Z"
   },
   {
    "duration": 15,
    "start_time": "2023-08-08T20:34:41.528Z"
   },
   {
    "duration": 17,
    "start_time": "2023-08-08T20:34:41.545Z"
   },
   {
    "duration": 241,
    "start_time": "2023-08-08T20:34:41.565Z"
   },
   {
    "duration": 4,
    "start_time": "2023-08-08T20:34:41.808Z"
   },
   {
    "duration": 9,
    "start_time": "2023-08-08T20:34:41.814Z"
   },
   {
    "duration": 22,
    "start_time": "2023-08-08T20:34:41.825Z"
   },
   {
    "duration": 10,
    "start_time": "2023-08-08T20:34:41.849Z"
   },
   {
    "duration": 4,
    "start_time": "2023-08-08T20:34:41.861Z"
   },
   {
    "duration": 1126,
    "start_time": "2023-08-08T20:34:41.866Z"
   },
   {
    "duration": 3,
    "start_time": "2023-08-08T20:34:42.994Z"
   },
   {
    "duration": 7,
    "start_time": "2023-08-08T20:34:42.998Z"
   },
   {
    "duration": 10,
    "start_time": "2023-08-08T20:34:43.007Z"
   },
   {
    "duration": 11079,
    "start_time": "2023-08-08T20:34:43.018Z"
   },
   {
    "duration": 1046,
    "start_time": "2023-08-08T20:34:54.099Z"
   },
   {
    "duration": 3,
    "start_time": "2023-08-08T20:34:55.147Z"
   },
   {
    "duration": 18,
    "start_time": "2023-08-08T20:34:55.151Z"
   },
   {
    "duration": 11,
    "start_time": "2023-08-08T20:34:55.170Z"
   },
   {
    "duration": 736822,
    "start_time": "2023-08-08T20:34:55.183Z"
   },
   {
    "duration": 957,
    "start_time": "2023-08-08T20:47:12.007Z"
   },
   {
    "duration": 4582,
    "start_time": "2023-08-08T20:47:12.966Z"
   },
   {
    "duration": 0,
    "start_time": "2023-08-08T20:47:17.550Z"
   },
   {
    "duration": 0,
    "start_time": "2023-08-08T20:47:17.551Z"
   },
   {
    "duration": 0,
    "start_time": "2023-08-08T20:47:17.553Z"
   },
   {
    "duration": 0,
    "start_time": "2023-08-08T20:47:17.554Z"
   },
   {
    "duration": 5,
    "start_time": "2023-08-08T21:01:46.130Z"
   },
   {
    "duration": 4,
    "start_time": "2023-08-08T21:01:47.081Z"
   },
   {
    "duration": 1007,
    "start_time": "2023-08-08T21:01:48.339Z"
   },
   {
    "duration": 3,
    "start_time": "2023-08-08T21:01:49.587Z"
   },
   {
    "duration": 54,
    "start_time": "2023-08-08T21:01:50.028Z"
   },
   {
    "duration": 6,
    "start_time": "2023-08-08T21:01:50.487Z"
   },
   {
    "duration": 4,
    "start_time": "2023-08-08T21:01:51.042Z"
   },
   {
    "duration": 26,
    "start_time": "2023-08-08T21:01:52.011Z"
   },
   {
    "duration": 296,
    "start_time": "2023-08-08T21:01:52.556Z"
   },
   {
    "duration": 341,
    "start_time": "2023-08-08T21:01:53.240Z"
   },
   {
    "duration": 7,
    "start_time": "2023-08-08T21:01:57.213Z"
   },
   {
    "duration": 13,
    "start_time": "2023-08-08T21:01:59.381Z"
   },
   {
    "duration": 37,
    "start_time": "2023-08-08T21:02:01.599Z"
   },
   {
    "duration": 31,
    "start_time": "2023-08-08T21:02:02.106Z"
   },
   {
    "duration": 30,
    "start_time": "2023-08-08T21:02:02.722Z"
   },
   {
    "duration": 9,
    "start_time": "2023-08-08T21:02:04.285Z"
   },
   {
    "duration": 5,
    "start_time": "2023-08-08T21:02:04.505Z"
   },
   {
    "duration": 6,
    "start_time": "2023-08-08T21:02:04.687Z"
   },
   {
    "duration": 9,
    "start_time": "2023-08-08T21:02:05.099Z"
   },
   {
    "duration": 81,
    "start_time": "2023-08-08T21:02:21.554Z"
   },
   {
    "duration": 50,
    "start_time": "2023-08-08T21:02:24.387Z"
   },
   {
    "duration": 5,
    "start_time": "2023-08-08T21:02:26.287Z"
   },
   {
    "duration": 7,
    "start_time": "2023-08-08T21:02:28.989Z"
   },
   {
    "duration": 5052,
    "start_time": "2023-08-08T21:02:30.289Z"
   },
   {
    "duration": 21,
    "start_time": "2023-08-08T21:02:38.385Z"
   },
   {
    "duration": 11,
    "start_time": "2023-08-08T21:02:39.033Z"
   },
   {
    "duration": 3,
    "start_time": "2023-08-08T21:02:43.193Z"
   },
   {
    "duration": 29,
    "start_time": "2023-08-08T21:02:43.650Z"
   },
   {
    "duration": 1188,
    "start_time": "2023-08-08T21:02:46.775Z"
   },
   {
    "duration": 3,
    "start_time": "2023-08-08T21:02:55.402Z"
   },
   {
    "duration": 33,
    "start_time": "2023-08-08T21:02:58.443Z"
   },
   {
    "duration": 1799,
    "start_time": "2023-08-08T21:02:59.996Z"
   },
   {
    "duration": 1656,
    "start_time": "2023-08-08T21:03:11.285Z"
   },
   {
    "duration": 1373,
    "start_time": "2023-08-08T21:11:23.470Z"
   },
   {
    "duration": 11,
    "start_time": "2023-08-08T21:12:05.306Z"
   },
   {
    "duration": 15,
    "start_time": "2023-08-08T21:12:53.815Z"
   },
   {
    "duration": 18,
    "start_time": "2023-08-08T21:13:01.957Z"
   },
   {
    "duration": 1564,
    "start_time": "2023-08-08T21:13:21.957Z"
   },
   {
    "duration": 4,
    "start_time": "2023-08-08T21:13:23.523Z"
   },
   {
    "duration": 881,
    "start_time": "2023-08-08T21:13:23.529Z"
   },
   {
    "duration": 3,
    "start_time": "2023-08-08T21:13:24.413Z"
   },
   {
    "duration": 57,
    "start_time": "2023-08-08T21:13:24.417Z"
   },
   {
    "duration": 15,
    "start_time": "2023-08-08T21:13:24.476Z"
   },
   {
    "duration": 18,
    "start_time": "2023-08-08T21:13:24.493Z"
   },
   {
    "duration": 38,
    "start_time": "2023-08-08T21:13:24.513Z"
   },
   {
    "duration": 275,
    "start_time": "2023-08-08T21:13:24.553Z"
   },
   {
    "duration": 299,
    "start_time": "2023-08-08T21:13:24.832Z"
   },
   {
    "duration": 8,
    "start_time": "2023-08-08T21:13:25.133Z"
   },
   {
    "duration": 32,
    "start_time": "2023-08-08T21:13:25.142Z"
   },
   {
    "duration": 49,
    "start_time": "2023-08-08T21:13:25.176Z"
   },
   {
    "duration": 38,
    "start_time": "2023-08-08T21:13:25.227Z"
   },
   {
    "duration": 30,
    "start_time": "2023-08-08T21:13:25.273Z"
   },
   {
    "duration": 6,
    "start_time": "2023-08-08T21:13:25.305Z"
   },
   {
    "duration": 18,
    "start_time": "2023-08-08T21:13:25.313Z"
   },
   {
    "duration": 29,
    "start_time": "2023-08-08T21:13:25.333Z"
   },
   {
    "duration": 61,
    "start_time": "2023-08-08T21:13:25.365Z"
   },
   {
    "duration": 57,
    "start_time": "2023-08-08T21:13:25.428Z"
   },
   {
    "duration": 27,
    "start_time": "2023-08-08T21:13:25.489Z"
   },
   {
    "duration": 26,
    "start_time": "2023-08-08T21:13:25.518Z"
   },
   {
    "duration": 6,
    "start_time": "2023-08-08T21:13:25.547Z"
   },
   {
    "duration": 5039,
    "start_time": "2023-08-08T21:13:25.554Z"
   },
   {
    "duration": 13,
    "start_time": "2023-08-08T21:13:30.595Z"
   },
   {
    "duration": 1491,
    "start_time": "2023-08-08T21:13:30.610Z"
   },
   {
    "duration": 0,
    "start_time": "2023-08-08T21:13:32.104Z"
   },
   {
    "duration": 0,
    "start_time": "2023-08-08T21:13:32.105Z"
   },
   {
    "duration": 0,
    "start_time": "2023-08-08T21:13:32.107Z"
   },
   {
    "duration": 0,
    "start_time": "2023-08-08T21:13:32.111Z"
   },
   {
    "duration": 0,
    "start_time": "2023-08-08T21:13:32.112Z"
   },
   {
    "duration": 0,
    "start_time": "2023-08-08T21:13:32.113Z"
   },
   {
    "duration": 0,
    "start_time": "2023-08-08T21:13:32.115Z"
   },
   {
    "duration": 0,
    "start_time": "2023-08-08T21:13:32.116Z"
   },
   {
    "duration": 0,
    "start_time": "2023-08-08T21:13:32.118Z"
   },
   {
    "duration": 0,
    "start_time": "2023-08-08T21:13:32.119Z"
   },
   {
    "duration": 0,
    "start_time": "2023-08-08T21:13:32.120Z"
   },
   {
    "duration": 0,
    "start_time": "2023-08-08T21:13:32.121Z"
   },
   {
    "duration": 0,
    "start_time": "2023-08-08T21:13:32.122Z"
   },
   {
    "duration": 0,
    "start_time": "2023-08-08T21:13:32.123Z"
   },
   {
    "duration": 0,
    "start_time": "2023-08-08T21:13:32.124Z"
   },
   {
    "duration": 0,
    "start_time": "2023-08-08T21:13:32.125Z"
   },
   {
    "duration": 0,
    "start_time": "2023-08-08T21:13:32.126Z"
   },
   {
    "duration": 0,
    "start_time": "2023-08-08T21:13:32.127Z"
   },
   {
    "duration": 0,
    "start_time": "2023-08-08T21:13:32.128Z"
   },
   {
    "duration": 0,
    "start_time": "2023-08-08T21:13:32.129Z"
   },
   {
    "duration": 0,
    "start_time": "2023-08-08T21:13:32.130Z"
   },
   {
    "duration": 0,
    "start_time": "2023-08-08T21:13:32.131Z"
   },
   {
    "duration": 0,
    "start_time": "2023-08-08T21:13:32.133Z"
   },
   {
    "duration": 0,
    "start_time": "2023-08-08T21:13:32.134Z"
   },
   {
    "duration": 0,
    "start_time": "2023-08-08T21:13:32.135Z"
   },
   {
    "duration": 0,
    "start_time": "2023-08-08T21:13:32.136Z"
   },
   {
    "duration": 0,
    "start_time": "2023-08-08T21:13:32.137Z"
   },
   {
    "duration": 0,
    "start_time": "2023-08-08T21:13:32.138Z"
   },
   {
    "duration": 0,
    "start_time": "2023-08-08T21:13:32.139Z"
   },
   {
    "duration": 1407,
    "start_time": "2023-08-08T21:14:10.240Z"
   },
   {
    "duration": 2,
    "start_time": "2023-08-08T21:20:33.411Z"
   },
   {
    "duration": 7,
    "start_time": "2023-08-08T21:20:37.796Z"
   },
   {
    "duration": 4890,
    "start_time": "2023-08-08T21:20:39.793Z"
   },
   {
    "duration": 14,
    "start_time": "2023-08-08T21:20:49.410Z"
   },
   {
    "duration": 1565,
    "start_time": "2023-08-08T21:20:50.209Z"
   },
   {
    "duration": 41,
    "start_time": "2023-08-08T21:21:10.044Z"
   },
   {
    "duration": 805,
    "start_time": "2023-08-08T21:21:34.787Z"
   },
   {
    "duration": 5,
    "start_time": "2023-08-08T21:21:40.002Z"
   },
   {
    "duration": 4,
    "start_time": "2023-08-08T21:21:40.826Z"
   },
   {
    "duration": 733,
    "start_time": "2023-08-08T21:21:41.396Z"
   },
   {
    "duration": 3,
    "start_time": "2023-08-08T21:21:42.131Z"
   },
   {
    "duration": 52,
    "start_time": "2023-08-08T21:21:42.135Z"
   },
   {
    "duration": 5,
    "start_time": "2023-08-08T21:21:42.189Z"
   },
   {
    "duration": 6,
    "start_time": "2023-08-08T21:21:42.200Z"
   },
   {
    "duration": 19,
    "start_time": "2023-08-08T21:21:42.626Z"
   },
   {
    "duration": 261,
    "start_time": "2023-08-08T21:21:42.819Z"
   },
   {
    "duration": 258,
    "start_time": "2023-08-08T21:21:43.082Z"
   },
   {
    "duration": 9,
    "start_time": "2023-08-08T21:21:43.771Z"
   },
   {
    "duration": 6,
    "start_time": "2023-08-08T21:21:45.401Z"
   },
   {
    "duration": 40,
    "start_time": "2023-08-08T21:21:47.376Z"
   },
   {
    "duration": 22,
    "start_time": "2023-08-08T21:21:47.810Z"
   },
   {
    "duration": 39,
    "start_time": "2023-08-08T21:21:48.496Z"
   },
   {
    "duration": 6,
    "start_time": "2023-08-08T21:21:50.097Z"
   },
   {
    "duration": 8,
    "start_time": "2023-08-08T21:21:50.258Z"
   },
   {
    "duration": 5,
    "start_time": "2023-08-08T21:21:50.449Z"
   },
   {
    "duration": 6,
    "start_time": "2023-08-08T21:21:50.997Z"
   },
   {
    "duration": 46,
    "start_time": "2023-08-08T21:22:00.044Z"
   },
   {
    "duration": 28,
    "start_time": "2023-08-08T21:22:02.108Z"
   },
   {
    "duration": 2,
    "start_time": "2023-08-08T21:22:04.388Z"
   },
   {
    "duration": 14,
    "start_time": "2023-08-08T21:22:07.258Z"
   },
   {
    "duration": 5020,
    "start_time": "2023-08-08T21:22:07.960Z"
   },
   {
    "duration": 12,
    "start_time": "2023-08-08T21:22:15.409Z"
   },
   {
    "duration": 37,
    "start_time": "2023-08-08T21:22:17.264Z"
   },
   {
    "duration": 14,
    "start_time": "2023-08-08T21:22:19.074Z"
   },
   {
    "duration": 3,
    "start_time": "2023-08-08T21:22:24.909Z"
   },
   {
    "duration": 1034,
    "start_time": "2023-08-08T21:22:37.954Z"
   },
   {
    "duration": 30,
    "start_time": "2023-08-08T21:22:45.043Z"
   },
   {
    "duration": 1799,
    "start_time": "2023-08-08T21:22:46.897Z"
   },
   {
    "duration": 15,
    "start_time": "2023-08-08T21:23:36.072Z"
   },
   {
    "duration": 20,
    "start_time": "2023-08-08T21:24:08.194Z"
   },
   {
    "duration": 26,
    "start_time": "2023-08-08T21:27:29.654Z"
   },
   {
    "duration": 16,
    "start_time": "2023-08-08T21:27:54.317Z"
   },
   {
    "duration": 1798,
    "start_time": "2023-08-09T11:12:49.761Z"
   },
   {
    "duration": 4,
    "start_time": "2023-08-09T11:12:51.562Z"
   },
   {
    "duration": 3155,
    "start_time": "2023-08-09T11:12:51.568Z"
   },
   {
    "duration": 4,
    "start_time": "2023-08-09T11:12:54.726Z"
   },
   {
    "duration": 52,
    "start_time": "2023-08-09T11:12:54.732Z"
   },
   {
    "duration": 15,
    "start_time": "2023-08-09T11:12:54.786Z"
   },
   {
    "duration": 6,
    "start_time": "2023-08-09T11:12:54.806Z"
   },
   {
    "duration": 36,
    "start_time": "2023-08-09T11:12:54.813Z"
   },
   {
    "duration": 322,
    "start_time": "2023-08-09T11:12:54.851Z"
   },
   {
    "duration": 331,
    "start_time": "2023-08-09T11:12:55.176Z"
   },
   {
    "duration": 18,
    "start_time": "2023-08-09T11:12:55.513Z"
   },
   {
    "duration": 10,
    "start_time": "2023-08-09T11:12:55.625Z"
   },
   {
    "duration": 63,
    "start_time": "2023-08-09T11:12:58.682Z"
   },
   {
    "duration": 19,
    "start_time": "2023-08-09T11:12:58.963Z"
   },
   {
    "duration": 59,
    "start_time": "2023-08-09T11:12:59.168Z"
   },
   {
    "duration": 7,
    "start_time": "2023-08-09T11:12:59.513Z"
   },
   {
    "duration": 7,
    "start_time": "2023-08-09T11:13:00.130Z"
   },
   {
    "duration": 7,
    "start_time": "2023-08-09T11:13:00.322Z"
   },
   {
    "duration": 9,
    "start_time": "2023-08-09T11:13:00.730Z"
   },
   {
    "duration": 76,
    "start_time": "2023-08-09T11:13:02.274Z"
   },
   {
    "duration": 43,
    "start_time": "2023-08-09T11:13:03.314Z"
   },
   {
    "duration": 3,
    "start_time": "2023-08-09T11:13:04.482Z"
   },
   {
    "duration": 9,
    "start_time": "2023-08-09T11:13:12.749Z"
   },
   {
    "duration": 2603,
    "start_time": "2023-08-09T11:13:12.760Z"
   },
   {
    "duration": 5593,
    "start_time": "2023-08-09T11:13:24.257Z"
   },
   {
    "duration": 16,
    "start_time": "2023-08-09T11:14:04.872Z"
   },
   {
    "duration": 20,
    "start_time": "2023-08-09T11:14:06.153Z"
   },
   {
    "duration": 18,
    "start_time": "2023-08-09T11:14:27.838Z"
   },
   {
    "duration": 36,
    "start_time": "2023-08-09T11:14:53.688Z"
   },
   {
    "duration": 25,
    "start_time": "2023-08-09T11:15:32.187Z"
   },
   {
    "duration": 15,
    "start_time": "2023-08-09T11:15:42.928Z"
   },
   {
    "duration": 89,
    "start_time": "2023-08-09T11:25:33.910Z"
   },
   {
    "duration": 19,
    "start_time": "2023-08-09T11:30:04.823Z"
   },
   {
    "duration": 48,
    "start_time": "2023-08-09T11:30:58.523Z"
   },
   {
    "duration": 49,
    "start_time": "2023-08-09T11:31:04.312Z"
   },
   {
    "duration": 65,
    "start_time": "2023-08-09T11:31:23.185Z"
   },
   {
    "duration": 19,
    "start_time": "2023-08-09T11:31:29.722Z"
   },
   {
    "duration": 18,
    "start_time": "2023-08-09T11:31:34.321Z"
   },
   {
    "duration": 164,
    "start_time": "2023-08-09T11:32:02.345Z"
   },
   {
    "duration": 14,
    "start_time": "2023-08-09T11:32:09.444Z"
   },
   {
    "duration": 59,
    "start_time": "2023-08-09T11:33:12.451Z"
   },
   {
    "duration": 136,
    "start_time": "2023-08-09T11:42:22.970Z"
   },
   {
    "duration": 116,
    "start_time": "2023-08-09T11:42:36.244Z"
   },
   {
    "duration": 148,
    "start_time": "2023-08-09T11:42:46.167Z"
   },
   {
    "duration": 7,
    "start_time": "2023-08-09T11:44:24.634Z"
   },
   {
    "duration": 1836,
    "start_time": "2023-08-09T11:44:26.025Z"
   },
   {
    "duration": 1801,
    "start_time": "2023-08-09T11:51:22.250Z"
   },
   {
    "duration": 1264,
    "start_time": "2023-08-09T11:56:46.631Z"
   },
   {
    "duration": 20,
    "start_time": "2023-08-09T12:05:10.105Z"
   },
   {
    "duration": 17,
    "start_time": "2023-08-09T12:05:43.551Z"
   },
   {
    "duration": 11,
    "start_time": "2023-08-09T12:05:51.056Z"
   },
   {
    "duration": 10,
    "start_time": "2023-08-09T12:05:52.930Z"
   },
   {
    "duration": 5283,
    "start_time": "2023-08-09T12:05:55.298Z"
   },
   {
    "duration": 21,
    "start_time": "2023-08-09T12:09:58.806Z"
   },
   {
    "duration": 10,
    "start_time": "2023-08-09T12:09:59.810Z"
   },
   {
    "duration": 5107,
    "start_time": "2023-08-09T12:10:00.714Z"
   },
   {
    "duration": 19,
    "start_time": "2023-08-09T12:10:43.625Z"
   },
   {
    "duration": 9,
    "start_time": "2023-08-09T12:10:44.529Z"
   },
   {
    "duration": 5178,
    "start_time": "2023-08-09T12:10:44.964Z"
   },
   {
    "duration": 30,
    "start_time": "2023-08-09T12:11:59.408Z"
   },
   {
    "duration": 6,
    "start_time": "2023-08-09T12:12:00.072Z"
   },
   {
    "duration": 5107,
    "start_time": "2023-08-09T12:12:00.625Z"
   },
   {
    "duration": 11,
    "start_time": "2023-08-09T12:12:47.927Z"
   },
   {
    "duration": 6,
    "start_time": "2023-08-09T12:12:48.562Z"
   },
   {
    "duration": 4965,
    "start_time": "2023-08-09T12:12:49.438Z"
   },
   {
    "duration": 26,
    "start_time": "2023-08-09T12:12:54.405Z"
   },
   {
    "duration": 15,
    "start_time": "2023-08-09T12:12:54.432Z"
   },
   {
    "duration": 11,
    "start_time": "2023-08-09T12:13:28.419Z"
   },
   {
    "duration": 19,
    "start_time": "2023-08-09T12:13:38.614Z"
   },
   {
    "duration": 20,
    "start_time": "2023-08-09T12:14:24.310Z"
   },
   {
    "duration": 1193,
    "start_time": "2023-08-09T12:14:31.558Z"
   },
   {
    "duration": 15,
    "start_time": "2023-08-09T12:14:42.545Z"
   },
   {
    "duration": 1505,
    "start_time": "2023-08-09T12:14:43.419Z"
   },
   {
    "duration": 9,
    "start_time": "2023-08-09T12:17:08.028Z"
   },
   {
    "duration": 5175,
    "start_time": "2023-08-09T12:17:09.997Z"
   },
   {
    "duration": 1586,
    "start_time": "2023-08-09T12:17:24.877Z"
   },
   {
    "duration": 3,
    "start_time": "2023-08-09T12:17:26.466Z"
   },
   {
    "duration": 905,
    "start_time": "2023-08-09T12:17:26.470Z"
   },
   {
    "duration": 2,
    "start_time": "2023-08-09T12:17:27.377Z"
   },
   {
    "duration": 74,
    "start_time": "2023-08-09T12:17:27.382Z"
   },
   {
    "duration": 28,
    "start_time": "2023-08-09T12:17:27.457Z"
   },
   {
    "duration": 44,
    "start_time": "2023-08-09T12:17:27.487Z"
   },
   {
    "duration": 69,
    "start_time": "2023-08-09T12:17:27.536Z"
   },
   {
    "duration": 335,
    "start_time": "2023-08-09T12:17:27.606Z"
   },
   {
    "duration": 283,
    "start_time": "2023-08-09T12:17:27.943Z"
   },
   {
    "duration": 8,
    "start_time": "2023-08-09T12:17:28.236Z"
   },
   {
    "duration": 40,
    "start_time": "2023-08-09T12:17:28.245Z"
   },
   {
    "duration": 79,
    "start_time": "2023-08-09T12:17:28.286Z"
   },
   {
    "duration": 35,
    "start_time": "2023-08-09T12:17:28.368Z"
   },
   {
    "duration": 57,
    "start_time": "2023-08-09T12:17:28.405Z"
   },
   {
    "duration": 9,
    "start_time": "2023-08-09T12:17:28.463Z"
   },
   {
    "duration": 46,
    "start_time": "2023-08-09T12:17:28.473Z"
   },
   {
    "duration": 8,
    "start_time": "2023-08-09T12:17:28.521Z"
   },
   {
    "duration": 31,
    "start_time": "2023-08-09T12:17:28.530Z"
   },
   {
    "duration": 54,
    "start_time": "2023-08-09T12:17:28.563Z"
   },
   {
    "duration": 41,
    "start_time": "2023-08-09T12:17:28.619Z"
   },
   {
    "duration": 3,
    "start_time": "2023-08-09T12:17:28.663Z"
   },
   {
    "duration": 8,
    "start_time": "2023-08-09T12:17:28.667Z"
   },
   {
    "duration": 5038,
    "start_time": "2023-08-09T12:17:28.676Z"
   },
   {
    "duration": 18,
    "start_time": "2023-08-09T12:17:33.715Z"
   },
   {
    "duration": 9,
    "start_time": "2023-08-09T12:17:33.735Z"
   },
   {
    "duration": 9,
    "start_time": "2023-08-09T12:17:33.746Z"
   },
   {
    "duration": 16,
    "start_time": "2023-08-09T12:17:33.757Z"
   },
   {
    "duration": 15,
    "start_time": "2023-08-09T12:17:33.774Z"
   },
   {
    "duration": 20,
    "start_time": "2023-08-09T12:17:33.790Z"
   },
   {
    "duration": 1167,
    "start_time": "2023-08-09T12:17:33.812Z"
   },
   {
    "duration": 17,
    "start_time": "2023-08-09T12:17:34.981Z"
   },
   {
    "duration": 162,
    "start_time": "2023-08-09T12:17:35.000Z"
   },
   {
    "duration": 1608,
    "start_time": "2023-08-09T12:17:35.166Z"
   },
   {
    "duration": 3,
    "start_time": "2023-08-09T12:17:36.776Z"
   },
   {
    "duration": 67,
    "start_time": "2023-08-09T12:17:36.780Z"
   },
   {
    "duration": 298,
    "start_time": "2023-08-09T12:17:36.849Z"
   },
   {
    "duration": 6,
    "start_time": "2023-08-09T12:17:37.148Z"
   },
   {
    "duration": 39,
    "start_time": "2023-08-09T12:17:37.155Z"
   },
   {
    "duration": 44,
    "start_time": "2023-08-09T12:17:37.196Z"
   },
   {
    "duration": 29,
    "start_time": "2023-08-09T12:17:37.244Z"
   },
   {
    "duration": 49,
    "start_time": "2023-08-09T12:17:37.275Z"
   },
   {
    "duration": 8223,
    "start_time": "2023-08-09T12:17:37.326Z"
   },
   {
    "duration": 5,
    "start_time": "2023-08-09T12:17:45.591Z"
   },
   {
    "duration": 12,
    "start_time": "2023-08-09T12:17:45.600Z"
   },
   {
    "duration": 8,
    "start_time": "2023-08-09T12:17:45.623Z"
   },
   {
    "duration": 8925,
    "start_time": "2023-08-09T12:17:45.639Z"
   },
   {
    "duration": 24599,
    "start_time": "2023-08-09T12:17:54.566Z"
   },
   {
    "duration": 3,
    "start_time": "2023-08-09T12:18:19.166Z"
   },
   {
    "duration": 20,
    "start_time": "2023-08-09T12:18:19.171Z"
   },
   {
    "duration": 11,
    "start_time": "2023-08-09T12:18:19.192Z"
   },
   {
    "duration": 583931,
    "start_time": "2023-08-09T12:18:19.206Z"
   },
   {
    "duration": 559380,
    "start_time": "2023-08-09T12:28:03.139Z"
   },
   {
    "duration": 9605,
    "start_time": "2023-08-09T12:37:22.524Z"
   },
   {
    "duration": 6,
    "start_time": "2023-08-09T12:37:32.135Z"
   },
   {
    "duration": 34,
    "start_time": "2023-08-09T12:37:32.142Z"
   },
   {
    "duration": 132,
    "start_time": "2023-08-09T12:37:32.178Z"
   },
   {
    "duration": 15,
    "start_time": "2023-08-09T12:37:32.315Z"
   },
   {
    "duration": 3,
    "start_time": "2023-08-09T12:46:22.753Z"
   },
   {
    "duration": 1760,
    "start_time": "2023-08-09T12:46:23.302Z"
   },
   {
    "duration": 0,
    "start_time": "2023-08-09T12:46:25.065Z"
   },
   {
    "duration": 4,
    "start_time": "2023-08-09T12:46:36.431Z"
   },
   {
    "duration": 4,
    "start_time": "2023-08-09T12:46:37.415Z"
   },
   {
    "duration": 794,
    "start_time": "2023-08-09T12:46:37.910Z"
   },
   {
    "duration": 4,
    "start_time": "2023-08-09T12:46:38.707Z"
   },
   {
    "duration": 61,
    "start_time": "2023-08-09T12:46:38.712Z"
   },
   {
    "duration": 5,
    "start_time": "2023-08-09T12:46:38.774Z"
   },
   {
    "duration": 3,
    "start_time": "2023-08-09T12:46:38.860Z"
   },
   {
    "duration": 18,
    "start_time": "2023-08-09T12:46:39.863Z"
   },
   {
    "duration": 231,
    "start_time": "2023-08-09T12:46:40.217Z"
   },
   {
    "duration": 279,
    "start_time": "2023-08-09T12:46:40.972Z"
   },
   {
    "duration": 8,
    "start_time": "2023-08-09T12:46:43.024Z"
   },
   {
    "duration": 6,
    "start_time": "2023-08-09T12:46:45.025Z"
   },
   {
    "duration": 46,
    "start_time": "2023-08-09T12:46:48.270Z"
   },
   {
    "duration": 18,
    "start_time": "2023-08-09T12:46:51.736Z"
   },
   {
    "duration": 28,
    "start_time": "2023-08-09T12:46:52.561Z"
   },
   {
    "duration": 5,
    "start_time": "2023-08-09T12:46:54.425Z"
   },
   {
    "duration": 11,
    "start_time": "2023-08-09T12:46:54.915Z"
   },
   {
    "duration": 5,
    "start_time": "2023-08-09T12:46:55.360Z"
   },
   {
    "duration": 5,
    "start_time": "2023-08-09T12:46:55.921Z"
   },
   {
    "duration": 40,
    "start_time": "2023-08-09T12:46:57.913Z"
   },
   {
    "duration": 42,
    "start_time": "2023-08-09T12:46:59.971Z"
   },
   {
    "duration": 2,
    "start_time": "2023-08-09T12:47:02.516Z"
   },
   {
    "duration": 6,
    "start_time": "2023-08-09T12:47:06.175Z"
   },
   {
    "duration": 5033,
    "start_time": "2023-08-09T12:47:06.913Z"
   },
   {
    "duration": 21,
    "start_time": "2023-08-09T12:47:13.496Z"
   },
   {
    "duration": 3,
    "start_time": "2023-08-09T12:47:14.960Z"
   },
   {
    "duration": 18,
    "start_time": "2023-08-09T12:47:17.184Z"
   },
   {
    "duration": 15,
    "start_time": "2023-08-09T12:47:19.631Z"
   },
   {
    "duration": 2,
    "start_time": "2023-08-09T12:47:24.161Z"
   },
   {
    "duration": 2,
    "start_time": "2023-08-09T12:47:25.471Z"
   },
   {
    "duration": 11,
    "start_time": "2023-08-09T12:47:26.336Z"
   },
   {
    "duration": 964,
    "start_time": "2023-08-09T12:47:33.103Z"
   },
   {
    "duration": 6,
    "start_time": "2023-08-09T12:47:37.104Z"
   },
   {
    "duration": 16,
    "start_time": "2023-08-09T12:47:42.135Z"
   },
   {
    "duration": 1769,
    "start_time": "2023-08-09T12:47:44.909Z"
   },
   {
    "duration": 3,
    "start_time": "2023-08-09T12:47:53.743Z"
   },
   {
    "duration": 8,
    "start_time": "2023-08-09T12:47:54.881Z"
   },
   {
    "duration": 207,
    "start_time": "2023-08-09T12:47:57.942Z"
   },
   {
    "duration": 10,
    "start_time": "2023-08-09T13:24:36.250Z"
   },
   {
    "duration": 2,
    "start_time": "2023-08-09T13:26:37.569Z"
   },
   {
    "duration": 6,
    "start_time": "2023-08-09T13:26:37.984Z"
   },
   {
    "duration": 2,
    "start_time": "2023-08-09T13:26:38.421Z"
   },
   {
    "duration": 11,
    "start_time": "2023-08-09T13:33:43.630Z"
   },
   {
    "duration": 4,
    "start_time": "2023-08-09T13:33:44.051Z"
   },
   {
    "duration": 6,
    "start_time": "2023-08-09T13:33:45.009Z"
   },
   {
    "duration": 8791,
    "start_time": "2023-08-09T13:33:45.747Z"
   },
   {
    "duration": 26671,
    "start_time": "2023-08-09T13:33:54.543Z"
   },
   {
    "duration": 7123,
    "start_time": "2023-08-09T13:47:18.790Z"
   },
   {
    "duration": 18,
    "start_time": "2023-08-09T13:47:36.764Z"
   },
   {
    "duration": 38,
    "start_time": "2023-08-09T13:47:37.327Z"
   },
   {
    "duration": 210,
    "start_time": "2023-08-09T13:47:41.683Z"
   },
   {
    "duration": 26,
    "start_time": "2023-08-09T13:47:42.185Z"
   },
   {
    "duration": 7,
    "start_time": "2023-08-09T13:57:27.000Z"
   },
   {
    "duration": 4,
    "start_time": "2023-08-09T13:57:28.335Z"
   },
   {
    "duration": 1197,
    "start_time": "2023-08-09T13:57:29.769Z"
   },
   {
    "duration": 7,
    "start_time": "2023-08-09T13:57:31.124Z"
   },
   {
    "duration": 63,
    "start_time": "2023-08-09T13:57:31.614Z"
   },
   {
    "duration": 5,
    "start_time": "2023-08-09T13:57:32.171Z"
   },
   {
    "duration": 4,
    "start_time": "2023-08-09T13:57:32.971Z"
   },
   {
    "duration": 31,
    "start_time": "2023-08-09T13:57:34.202Z"
   },
   {
    "duration": 400,
    "start_time": "2023-08-09T13:57:34.712Z"
   },
   {
    "duration": 417,
    "start_time": "2023-08-09T13:57:35.252Z"
   },
   {
    "duration": 12,
    "start_time": "2023-08-09T13:57:38.623Z"
   },
   {
    "duration": 6,
    "start_time": "2023-08-09T13:57:41.580Z"
   },
   {
    "duration": 39,
    "start_time": "2023-08-09T13:57:43.836Z"
   },
   {
    "duration": 33,
    "start_time": "2023-08-09T13:57:44.308Z"
   },
   {
    "duration": 50,
    "start_time": "2023-08-09T13:57:44.812Z"
   },
   {
    "duration": 8,
    "start_time": "2023-08-09T13:57:45.816Z"
   },
   {
    "duration": 22,
    "start_time": "2023-08-09T13:57:46.295Z"
   },
   {
    "duration": 11,
    "start_time": "2023-08-09T13:57:46.786Z"
   },
   {
    "duration": 8,
    "start_time": "2023-08-09T13:57:47.262Z"
   },
   {
    "duration": 88,
    "start_time": "2023-08-09T13:57:48.732Z"
   },
   {
    "duration": 45,
    "start_time": "2023-08-09T13:57:49.452Z"
   },
   {
    "duration": 3,
    "start_time": "2023-08-09T13:57:51.155Z"
   },
   {
    "duration": 12,
    "start_time": "2023-08-09T13:57:55.348Z"
   },
   {
    "duration": 5588,
    "start_time": "2023-08-09T13:57:56.574Z"
   },
   {
    "duration": 15,
    "start_time": "2023-08-09T13:58:05.141Z"
   },
   {
    "duration": 7,
    "start_time": "2023-08-09T13:58:06.108Z"
   },
   {
    "duration": 14,
    "start_time": "2023-08-09T13:58:06.986Z"
   },
   {
    "duration": 3,
    "start_time": "2023-08-09T13:58:07.859Z"
   },
   {
    "duration": 3,
    "start_time": "2023-08-09T13:58:08.253Z"
   },
   {
    "duration": 24,
    "start_time": "2023-08-09T13:58:08.656Z"
   },
   {
    "duration": 1335,
    "start_time": "2023-08-09T13:58:11.041Z"
   },
   {
    "duration": 5,
    "start_time": "2023-08-09T13:58:16.908Z"
   },
   {
    "duration": 26,
    "start_time": "2023-08-09T13:58:21.406Z"
   },
   {
    "duration": 2417,
    "start_time": "2023-08-09T13:58:22.463Z"
   },
   {
    "duration": 4,
    "start_time": "2023-08-09T13:58:36.222Z"
   },
   {
    "duration": 3,
    "start_time": "2023-08-09T13:58:36.764Z"
   },
   {
    "duration": 2,
    "start_time": "2023-08-09T13:58:37.650Z"
   },
   {
    "duration": 12,
    "start_time": "2023-08-09T13:58:42.521Z"
   },
   {
    "duration": 14,
    "start_time": "2023-08-09T13:58:50.231Z"
   },
   {
    "duration": 10,
    "start_time": "2023-08-09T13:58:51.297Z"
   },
   {
    "duration": 11,
    "start_time": "2023-08-09T13:58:56.198Z"
   },
   {
    "duration": 31,
    "start_time": "2023-08-09T13:58:58.186Z"
   },
   {
    "duration": 4116,
    "start_time": "2023-08-09T13:58:58.930Z"
   },
   {
    "duration": 10,
    "start_time": "2023-08-09T13:59:07.307Z"
   },
   {
    "duration": 8,
    "start_time": "2023-08-09T13:59:07.984Z"
   },
   {
    "duration": 3,
    "start_time": "2023-08-09T13:59:10.369Z"
   },
   {
    "duration": 10198,
    "start_time": "2023-08-09T13:59:11.478Z"
   },
   {
    "duration": 9941,
    "start_time": "2023-08-09T13:59:43.734Z"
   },
   {
    "duration": 10925,
    "start_time": "2023-08-09T14:00:03.636Z"
   },
   {
    "duration": 34919,
    "start_time": "2023-08-09T14:00:25.681Z"
   },
   {
    "duration": 7,
    "start_time": "2023-08-09T14:01:08.803Z"
   },
   {
    "duration": 6,
    "start_time": "2023-08-09T14:01:10.174Z"
   },
   {
    "duration": 11,
    "start_time": "2023-08-09T14:01:10.287Z"
   },
   {
    "duration": 734360,
    "start_time": "2023-08-09T14:01:16.393Z"
   },
   {
    "duration": 789572,
    "start_time": "2023-08-09T14:15:37.105Z"
   },
   {
    "duration": 8517,
    "start_time": "2023-08-09T14:30:18.542Z"
   },
   {
    "duration": 25,
    "start_time": "2023-08-09T14:30:27.062Z"
   },
   {
    "duration": 42,
    "start_time": "2023-08-09T14:30:27.090Z"
   },
   {
    "duration": 207,
    "start_time": "2023-08-09T14:30:30.022Z"
   },
   {
    "duration": 28,
    "start_time": "2023-08-09T14:30:30.563Z"
   },
   {
    "duration": 1574,
    "start_time": "2023-08-10T13:33:07.846Z"
   },
   {
    "duration": 3,
    "start_time": "2023-08-10T13:33:09.546Z"
   },
   {
    "duration": 2226,
    "start_time": "2023-08-10T13:33:10.985Z"
   },
   {
    "duration": 2,
    "start_time": "2023-08-10T13:33:13.213Z"
   },
   {
    "duration": 45,
    "start_time": "2023-08-10T13:33:13.217Z"
   },
   {
    "duration": 4,
    "start_time": "2023-08-10T13:33:13.782Z"
   },
   {
    "duration": 3,
    "start_time": "2023-08-10T13:33:14.032Z"
   },
   {
    "duration": 18,
    "start_time": "2023-08-10T13:33:14.438Z"
   },
   {
    "duration": 238,
    "start_time": "2023-08-10T13:33:14.673Z"
   },
   {
    "duration": 251,
    "start_time": "2023-08-10T13:33:14.912Z"
   },
   {
    "duration": 8,
    "start_time": "2023-08-10T13:33:15.886Z"
   },
   {
    "duration": 4,
    "start_time": "2023-08-10T13:33:16.615Z"
   },
   {
    "duration": 35,
    "start_time": "2023-08-10T13:33:17.408Z"
   },
   {
    "duration": 20,
    "start_time": "2023-08-10T13:33:17.590Z"
   },
   {
    "duration": 25,
    "start_time": "2023-08-10T13:33:17.816Z"
   },
   {
    "duration": 5,
    "start_time": "2023-08-10T13:33:18.296Z"
   },
   {
    "duration": 5,
    "start_time": "2023-08-10T13:33:18.495Z"
   },
   {
    "duration": 6,
    "start_time": "2023-08-10T13:33:18.726Z"
   },
   {
    "duration": 6,
    "start_time": "2023-08-10T13:33:19.023Z"
   },
   {
    "duration": 42,
    "start_time": "2023-08-10T13:33:19.512Z"
   },
   {
    "duration": 27,
    "start_time": "2023-08-10T13:33:19.736Z"
   },
   {
    "duration": 2,
    "start_time": "2023-08-10T13:33:20.200Z"
   },
   {
    "duration": 7,
    "start_time": "2023-08-10T13:33:23.432Z"
   },
   {
    "duration": 4906,
    "start_time": "2023-08-10T13:33:23.888Z"
   },
   {
    "duration": 14,
    "start_time": "2023-08-10T13:33:28.796Z"
   },
   {
    "duration": 17,
    "start_time": "2023-08-10T13:33:28.812Z"
   },
   {
    "duration": 9,
    "start_time": "2023-08-10T13:33:31.380Z"
   },
   {
    "duration": 2,
    "start_time": "2023-08-10T13:33:31.778Z"
   },
   {
    "duration": 2,
    "start_time": "2023-08-10T13:33:32.199Z"
   },
   {
    "duration": 14,
    "start_time": "2023-08-10T13:33:32.686Z"
   },
   {
    "duration": 968,
    "start_time": "2023-08-10T13:33:35.782Z"
   },
   {
    "duration": 3,
    "start_time": "2023-08-10T13:33:38.497Z"
   },
   {
    "duration": 135,
    "start_time": "2023-08-10T13:33:40.799Z"
   },
   {
    "duration": 1630,
    "start_time": "2023-08-10T13:33:41.504Z"
   },
   {
    "duration": 3,
    "start_time": "2023-08-10T13:33:44.021Z"
   },
   {
    "duration": 2,
    "start_time": "2023-08-10T13:33:44.992Z"
   },
   {
    "duration": 2,
    "start_time": "2023-08-10T13:33:45.211Z"
   },
   {
    "duration": 4,
    "start_time": "2023-08-10T13:33:49.966Z"
   },
   {
    "duration": 3,
    "start_time": "2023-08-10T13:33:53.447Z"
   },
   {
    "duration": 7,
    "start_time": "2023-08-10T13:33:53.992Z"
   },
   {
    "duration": 3,
    "start_time": "2023-08-10T13:33:55.519Z"
   },
   {
    "duration": 3,
    "start_time": "2023-08-10T13:34:01.217Z"
   },
   {
    "duration": 2964,
    "start_time": "2023-08-10T13:34:03.096Z"
   },
   {
    "duration": 291,
    "start_time": "2023-08-10T13:34:06.064Z"
   },
   {
    "duration": 7,
    "start_time": "2023-08-10T13:34:22.122Z"
   },
   {
    "duration": 4,
    "start_time": "2023-08-10T13:34:46.693Z"
   },
   {
    "duration": 9,
    "start_time": "2023-08-10T13:35:01.283Z"
   },
   {
    "duration": 4,
    "start_time": "2023-08-10T13:47:46.834Z"
   },
   {
    "duration": 15,
    "start_time": "2023-08-10T13:48:57.967Z"
   },
   {
    "duration": 2892,
    "start_time": "2023-08-10T13:49:00.167Z"
   },
   {
    "duration": 94,
    "start_time": "2023-08-10T13:49:03.061Z"
   },
   {
    "duration": 9,
    "start_time": "2023-08-10T13:49:31.216Z"
   },
   {
    "duration": 1550,
    "start_time": "2023-08-10T13:49:42.225Z"
   },
   {
    "duration": 3,
    "start_time": "2023-08-10T13:49:43.778Z"
   },
   {
    "duration": 819,
    "start_time": "2023-08-10T13:49:43.782Z"
   },
   {
    "duration": 3,
    "start_time": "2023-08-10T13:49:44.603Z"
   },
   {
    "duration": 51,
    "start_time": "2023-08-10T13:49:44.607Z"
   },
   {
    "duration": 4,
    "start_time": "2023-08-10T13:49:44.660Z"
   },
   {
    "duration": 9,
    "start_time": "2023-08-10T13:49:44.666Z"
   },
   {
    "duration": 28,
    "start_time": "2023-08-10T13:49:44.677Z"
   },
   {
    "duration": 275,
    "start_time": "2023-08-10T13:49:44.707Z"
   },
   {
    "duration": 260,
    "start_time": "2023-08-10T13:49:44.986Z"
   },
   {
    "duration": 13,
    "start_time": "2023-08-10T13:49:45.248Z"
   },
   {
    "duration": 27,
    "start_time": "2023-08-10T13:49:45.263Z"
   },
   {
    "duration": 45,
    "start_time": "2023-08-10T13:49:45.292Z"
   },
   {
    "duration": 28,
    "start_time": "2023-08-10T13:49:45.339Z"
   },
   {
    "duration": 30,
    "start_time": "2023-08-10T13:49:45.369Z"
   },
   {
    "duration": 5,
    "start_time": "2023-08-10T13:49:45.401Z"
   },
   {
    "duration": 24,
    "start_time": "2023-08-10T13:49:45.408Z"
   },
   {
    "duration": 25,
    "start_time": "2023-08-10T13:49:45.433Z"
   },
   {
    "duration": 20,
    "start_time": "2023-08-10T13:49:45.460Z"
   },
   {
    "duration": 59,
    "start_time": "2023-08-10T13:49:45.481Z"
   },
   {
    "duration": 27,
    "start_time": "2023-08-10T13:49:45.542Z"
   },
   {
    "duration": 22,
    "start_time": "2023-08-10T13:49:45.571Z"
   },
   {
    "duration": 23,
    "start_time": "2023-08-10T13:49:45.594Z"
   },
   {
    "duration": 4996,
    "start_time": "2023-08-10T13:49:45.618Z"
   },
   {
    "duration": 15,
    "start_time": "2023-08-10T13:49:50.615Z"
   },
   {
    "duration": 18,
    "start_time": "2023-08-10T13:49:50.632Z"
   },
   {
    "duration": 25,
    "start_time": "2023-08-10T13:49:50.652Z"
   },
   {
    "duration": 11,
    "start_time": "2023-08-10T13:49:50.681Z"
   },
   {
    "duration": 24,
    "start_time": "2023-08-10T13:49:50.694Z"
   },
   {
    "duration": 36,
    "start_time": "2023-08-10T13:49:50.720Z"
   },
   {
    "duration": 1061,
    "start_time": "2023-08-10T13:49:50.757Z"
   },
   {
    "duration": 3,
    "start_time": "2023-08-10T13:49:51.819Z"
   },
   {
    "duration": 33,
    "start_time": "2023-08-10T13:49:51.823Z"
   },
   {
    "duration": 1656,
    "start_time": "2023-08-10T13:49:51.857Z"
   },
   {
    "duration": 3,
    "start_time": "2023-08-10T13:49:53.515Z"
   },
   {
    "duration": 62,
    "start_time": "2023-08-10T13:49:53.520Z"
   },
   {
    "duration": 22,
    "start_time": "2023-08-10T13:49:53.584Z"
   },
   {
    "duration": 7,
    "start_time": "2023-08-10T13:49:53.607Z"
   },
   {
    "duration": 23,
    "start_time": "2023-08-10T13:49:53.616Z"
   },
   {
    "duration": 41,
    "start_time": "2023-08-10T13:49:53.640Z"
   },
   {
    "duration": 44,
    "start_time": "2023-08-10T13:49:53.682Z"
   },
   {
    "duration": 28,
    "start_time": "2023-08-10T13:49:53.727Z"
   },
   {
    "duration": 3102,
    "start_time": "2023-08-10T13:49:53.756Z"
   },
   {
    "duration": 187,
    "start_time": "2023-08-10T13:49:56.860Z"
   },
   {
    "duration": 0,
    "start_time": "2023-08-10T13:49:57.050Z"
   },
   {
    "duration": 0,
    "start_time": "2023-08-10T13:49:57.054Z"
   },
   {
    "duration": 0,
    "start_time": "2023-08-10T13:49:57.055Z"
   },
   {
    "duration": 0,
    "start_time": "2023-08-10T13:49:57.056Z"
   },
   {
    "duration": 0,
    "start_time": "2023-08-10T13:49:57.057Z"
   },
   {
    "duration": 0,
    "start_time": "2023-08-10T13:49:57.059Z"
   },
   {
    "duration": 0,
    "start_time": "2023-08-10T13:49:57.060Z"
   },
   {
    "duration": 0,
    "start_time": "2023-08-10T13:49:57.061Z"
   },
   {
    "duration": 0,
    "start_time": "2023-08-10T13:49:57.062Z"
   },
   {
    "duration": 0,
    "start_time": "2023-08-10T13:49:57.063Z"
   },
   {
    "duration": 0,
    "start_time": "2023-08-10T13:49:57.064Z"
   },
   {
    "duration": 1,
    "start_time": "2023-08-10T13:49:57.065Z"
   },
   {
    "duration": 0,
    "start_time": "2023-08-10T13:49:57.067Z"
   },
   {
    "duration": 6,
    "start_time": "2023-08-10T13:50:08.033Z"
   },
   {
    "duration": 5,
    "start_time": "2023-08-10T13:50:11.529Z"
   },
   {
    "duration": 10,
    "start_time": "2023-08-10T13:50:28.193Z"
   },
   {
    "duration": 4,
    "start_time": "2023-08-10T13:56:08.673Z"
   },
   {
    "duration": 3,
    "start_time": "2023-08-10T13:56:19.826Z"
   },
   {
    "duration": 7,
    "start_time": "2023-08-10T13:56:20.264Z"
   },
   {
    "duration": 3,
    "start_time": "2023-08-10T13:56:21.625Z"
   },
   {
    "duration": 3,
    "start_time": "2023-08-10T13:56:23.165Z"
   },
   {
    "duration": 2793,
    "start_time": "2023-08-10T13:56:23.661Z"
   },
   {
    "duration": 15,
    "start_time": "2023-08-10T13:56:26.457Z"
   },
   {
    "duration": 7,
    "start_time": "2023-08-10T13:58:05.116Z"
   },
   {
    "duration": 9,
    "start_time": "2023-08-10T13:59:21.996Z"
   },
   {
    "duration": 10,
    "start_time": "2023-08-10T14:07:17.905Z"
   },
   {
    "duration": 10,
    "start_time": "2023-08-10T14:09:34.059Z"
   },
   {
    "duration": 5,
    "start_time": "2023-08-10T14:11:48.903Z"
   },
   {
    "duration": 4,
    "start_time": "2023-08-10T14:11:54.564Z"
   },
   {
    "duration": 8,
    "start_time": "2023-08-10T14:11:54.963Z"
   },
   {
    "duration": 2,
    "start_time": "2023-08-10T14:11:56.377Z"
   },
   {
    "duration": 3,
    "start_time": "2023-08-10T14:11:58.092Z"
   },
   {
    "duration": 2899,
    "start_time": "2023-08-10T14:11:58.959Z"
   },
   {
    "duration": 3,
    "start_time": "2023-08-10T14:12:24.880Z"
   },
   {
    "duration": 3,
    "start_time": "2023-08-10T14:13:27.167Z"
   },
   {
    "duration": 10,
    "start_time": "2023-08-10T14:13:33.894Z"
   },
   {
    "duration": 6,
    "start_time": "2023-08-10T14:13:58.023Z"
   },
   {
    "duration": 4,
    "start_time": "2023-08-10T14:14:01.022Z"
   },
   {
    "duration": 9,
    "start_time": "2023-08-10T14:14:01.591Z"
   },
   {
    "duration": 3,
    "start_time": "2023-08-10T14:14:03.376Z"
   },
   {
    "duration": 3,
    "start_time": "2023-08-10T14:14:05.629Z"
   },
   {
    "duration": 2874,
    "start_time": "2023-08-10T14:14:06.983Z"
   },
   {
    "duration": 5,
    "start_time": "2023-08-10T14:14:15.387Z"
   },
   {
    "duration": 2636,
    "start_time": "2023-08-10T14:14:19.919Z"
   },
   {
    "duration": 9,
    "start_time": "2023-08-10T14:14:22.558Z"
   },
   {
    "duration": 3,
    "start_time": "2023-08-10T14:15:38.527Z"
   },
   {
    "duration": 10,
    "start_time": "2023-08-10T14:22:16.603Z"
   },
   {
    "duration": 4873,
    "start_time": "2023-08-10T14:22:28.211Z"
   },
   {
    "duration": 6,
    "start_time": "2023-08-10T14:22:33.086Z"
   },
   {
    "duration": 10,
    "start_time": "2023-08-10T14:22:33.739Z"
   },
   {
    "duration": 100,
    "start_time": "2023-08-10T14:22:35.471Z"
   },
   {
    "duration": 8,
    "start_time": "2023-08-10T14:22:36.391Z"
   },
   {
    "duration": 5,
    "start_time": "2023-08-10T14:24:04.219Z"
   },
   {
    "duration": 4,
    "start_time": "2023-08-10T14:24:07.171Z"
   },
   {
    "duration": 9,
    "start_time": "2023-08-10T14:24:07.679Z"
   },
   {
    "duration": 3,
    "start_time": "2023-08-10T14:24:11.703Z"
   },
   {
    "duration": 3,
    "start_time": "2023-08-10T14:24:13.330Z"
   },
   {
    "duration": 3670,
    "start_time": "2023-08-10T14:24:13.892Z"
   },
   {
    "duration": 84,
    "start_time": "2023-08-10T14:24:17.570Z"
   },
   {
    "duration": 3,
    "start_time": "2023-08-10T14:24:40.176Z"
   },
   {
    "duration": 4,
    "start_time": "2023-08-10T14:24:40.427Z"
   },
   {
    "duration": 3,
    "start_time": "2023-08-10T14:24:40.934Z"
   },
   {
    "duration": 7896,
    "start_time": "2023-08-10T14:24:41.214Z"
   },
   {
    "duration": 22742,
    "start_time": "2023-08-10T14:24:49.112Z"
   },
   {
    "duration": 4,
    "start_time": "2023-08-10T14:25:11.856Z"
   },
   {
    "duration": 56,
    "start_time": "2023-08-10T14:25:11.863Z"
   },
   {
    "duration": 17,
    "start_time": "2023-08-10T14:25:11.921Z"
   },
   {
    "duration": 5215,
    "start_time": "2023-08-10T14:25:11.940Z"
   },
   {
    "duration": 6,
    "start_time": "2023-08-10T14:25:17.157Z"
   },
   {
    "duration": 35,
    "start_time": "2023-08-10T14:25:17.164Z"
   },
   {
    "duration": 110,
    "start_time": "2023-08-10T14:25:17.202Z"
   },
   {
    "duration": 22693,
    "start_time": "2023-08-10T14:25:22.225Z"
   },
   {
    "duration": 6,
    "start_time": "2023-08-10T14:30:47.119Z"
   },
   {
    "duration": 4,
    "start_time": "2023-08-10T14:30:48.831Z"
   },
   {
    "duration": 781,
    "start_time": "2023-08-10T14:30:50.000Z"
   },
   {
    "duration": 3,
    "start_time": "2023-08-10T14:30:50.887Z"
   },
   {
    "duration": 44,
    "start_time": "2023-08-10T14:30:51.401Z"
   },
   {
    "duration": 5,
    "start_time": "2023-08-10T14:30:51.913Z"
   },
   {
    "duration": 4,
    "start_time": "2023-08-10T14:30:52.491Z"
   },
   {
    "duration": 21,
    "start_time": "2023-08-10T14:30:53.514Z"
   },
   {
    "duration": 275,
    "start_time": "2023-08-10T14:30:54.099Z"
   },
   {
    "duration": 252,
    "start_time": "2023-08-10T14:30:54.618Z"
   },
   {
    "duration": 8,
    "start_time": "2023-08-10T14:30:56.733Z"
   },
   {
    "duration": 5,
    "start_time": "2023-08-10T14:30:59.396Z"
   },
   {
    "duration": 41,
    "start_time": "2023-08-10T14:31:02.237Z"
   },
   {
    "duration": 69,
    "start_time": "2023-08-10T14:31:02.280Z"
   },
   {
    "duration": 36,
    "start_time": "2023-08-10T14:31:02.568Z"
   },
   {
    "duration": 5,
    "start_time": "2023-08-10T14:31:03.700Z"
   },
   {
    "duration": 9,
    "start_time": "2023-08-10T14:31:04.172Z"
   },
   {
    "duration": 5,
    "start_time": "2023-08-10T14:31:04.580Z"
   },
   {
    "duration": 5,
    "start_time": "2023-08-10T14:31:05.015Z"
   },
   {
    "duration": 47,
    "start_time": "2023-08-10T14:31:06.014Z"
   },
   {
    "duration": 39,
    "start_time": "2023-08-10T14:31:06.692Z"
   },
   {
    "duration": 3,
    "start_time": "2023-08-10T14:31:08.621Z"
   },
   {
    "duration": 7,
    "start_time": "2023-08-10T14:31:16.639Z"
   },
   {
    "duration": 4826,
    "start_time": "2023-08-10T14:31:17.429Z"
   },
   {
    "duration": 17,
    "start_time": "2023-08-10T14:31:24.767Z"
   },
   {
    "duration": 3,
    "start_time": "2023-08-10T14:31:25.394Z"
   },
   {
    "duration": 10,
    "start_time": "2023-08-10T14:31:25.822Z"
   },
   {
    "duration": 3,
    "start_time": "2023-08-10T14:31:26.534Z"
   },
   {
    "duration": 3,
    "start_time": "2023-08-10T14:31:27.009Z"
   },
   {
    "duration": 13,
    "start_time": "2023-08-10T14:31:27.580Z"
   },
   {
    "duration": 1041,
    "start_time": "2023-08-10T14:31:31.022Z"
   },
   {
    "duration": 3,
    "start_time": "2023-08-10T14:31:34.697Z"
   },
   {
    "duration": 17,
    "start_time": "2023-08-10T14:31:38.664Z"
   },
   {
    "duration": 1847,
    "start_time": "2023-08-10T14:31:39.207Z"
   },
   {
    "duration": 3,
    "start_time": "2023-08-10T14:31:41.367Z"
   },
   {
    "duration": 3,
    "start_time": "2023-08-10T14:31:42.141Z"
   },
   {
    "duration": 3,
    "start_time": "2023-08-10T14:31:42.619Z"
   },
   {
    "duration": 7,
    "start_time": "2023-08-10T14:31:47.080Z"
   },
   {
    "duration": 5,
    "start_time": "2023-08-10T14:31:51.633Z"
   },
   {
    "duration": 8,
    "start_time": "2023-08-10T14:31:52.772Z"
   },
   {
    "duration": 3,
    "start_time": "2023-08-10T14:31:58.031Z"
   },
   {
    "duration": 3,
    "start_time": "2023-08-10T14:31:59.601Z"
   },
   {
    "duration": 3197,
    "start_time": "2023-08-10T14:32:00.871Z"
   },
   {
    "duration": 7,
    "start_time": "2023-08-10T14:32:04.155Z"
   },
   {
    "duration": 3,
    "start_time": "2023-08-10T14:32:09.675Z"
   },
   {
    "duration": 3,
    "start_time": "2023-08-10T14:32:25.487Z"
   },
   {
    "duration": 4,
    "start_time": "2023-08-10T14:32:26.976Z"
   },
   {
    "duration": 7833,
    "start_time": "2023-08-10T14:32:28.492Z"
   },
   {
    "duration": 22819,
    "start_time": "2023-08-10T14:32:47.791Z"
   },
   {
    "duration": 4,
    "start_time": "2023-08-10T14:33:17.534Z"
   },
   {
    "duration": 4,
    "start_time": "2023-08-10T14:33:18.006Z"
   },
   {
    "duration": 4,
    "start_time": "2023-08-10T14:33:18.496Z"
   },
   {
    "duration": 504405,
    "start_time": "2023-08-10T14:33:19.000Z"
   },
   {
    "duration": 513734,
    "start_time": "2023-08-10T14:48:07.496Z"
   },
   {
    "duration": 4,
    "start_time": "2023-08-10T14:56:41.232Z"
   },
   {
    "duration": 3,
    "start_time": "2023-08-10T14:57:40.330Z"
   },
   {
    "duration": 4,
    "start_time": "2023-08-10T14:58:41.965Z"
   },
   {
    "duration": 22150,
    "start_time": "2023-08-10T14:59:52.019Z"
   },
   {
    "duration": 4,
    "start_time": "2023-08-10T15:00:16.069Z"
   },
   {
    "duration": 4,
    "start_time": "2023-08-10T15:00:18.501Z"
   },
   {
    "duration": 4,
    "start_time": "2023-08-10T15:00:25.322Z"
   },
   {
    "duration": 4,
    "start_time": "2023-08-10T15:02:05.490Z"
   },
   {
    "duration": 3,
    "start_time": "2023-08-10T15:02:20.578Z"
   },
   {
    "duration": 407,
    "start_time": "2023-08-10T15:03:46.224Z"
   },
   {
    "duration": 7,
    "start_time": "2023-08-10T15:04:01.038Z"
   },
   {
    "duration": 108,
    "start_time": "2023-08-10T15:04:03.470Z"
   },
   {
    "duration": 9,
    "start_time": "2023-08-10T15:04:07.005Z"
   },
   {
    "duration": 5,
    "start_time": "2023-08-10T15:04:27.385Z"
   },
   {
    "duration": 4,
    "start_time": "2023-08-10T15:04:29.605Z"
   },
   {
    "duration": 783,
    "start_time": "2023-08-10T15:04:30.892Z"
   },
   {
    "duration": 3,
    "start_time": "2023-08-10T15:04:31.947Z"
   },
   {
    "duration": 50,
    "start_time": "2023-08-10T15:04:32.506Z"
   },
   {
    "duration": 4,
    "start_time": "2023-08-10T15:04:33.605Z"
   },
   {
    "duration": 3,
    "start_time": "2023-08-10T15:04:34.125Z"
   },
   {
    "duration": 18,
    "start_time": "2023-08-10T15:04:35.462Z"
   },
   {
    "duration": 247,
    "start_time": "2023-08-10T15:04:35.919Z"
   },
   {
    "duration": 258,
    "start_time": "2023-08-10T15:04:36.336Z"
   },
   {
    "duration": 8,
    "start_time": "2023-08-10T15:04:38.278Z"
   },
   {
    "duration": 5,
    "start_time": "2023-08-10T15:04:40.133Z"
   },
   {
    "duration": 35,
    "start_time": "2023-08-10T15:04:41.774Z"
   },
   {
    "duration": 19,
    "start_time": "2023-08-10T15:04:42.333Z"
   },
   {
    "duration": 43,
    "start_time": "2023-08-10T15:04:42.795Z"
   },
   {
    "duration": 6,
    "start_time": "2023-08-10T15:04:43.886Z"
   },
   {
    "duration": 6,
    "start_time": "2023-08-10T15:04:44.333Z"
   },
   {
    "duration": 6,
    "start_time": "2023-08-10T15:04:44.874Z"
   },
   {
    "duration": 10,
    "start_time": "2023-08-10T15:04:45.374Z"
   },
   {
    "duration": 57,
    "start_time": "2023-08-10T15:04:46.328Z"
   },
   {
    "duration": 27,
    "start_time": "2023-08-10T15:04:46.978Z"
   },
   {
    "duration": 3,
    "start_time": "2023-08-10T15:04:47.919Z"
   },
   {
    "duration": 7,
    "start_time": "2023-08-10T15:04:49.370Z"
   },
   {
    "duration": 5008,
    "start_time": "2023-08-10T15:04:49.574Z"
   },
   {
    "duration": 15,
    "start_time": "2023-08-10T15:04:58.517Z"
   },
   {
    "duration": 2,
    "start_time": "2023-08-10T15:04:59.199Z"
   },
   {
    "duration": 10,
    "start_time": "2023-08-10T15:04:59.693Z"
   },
   {
    "duration": 3,
    "start_time": "2023-08-10T15:05:00.137Z"
   },
   {
    "duration": 2,
    "start_time": "2023-08-10T15:05:00.766Z"
   },
   {
    "duration": 11,
    "start_time": "2023-08-10T15:05:02.959Z"
   },
   {
    "duration": 1120,
    "start_time": "2023-08-10T15:05:04.874Z"
   },
   {
    "duration": 4,
    "start_time": "2023-08-10T15:05:07.902Z"
   },
   {
    "duration": 17,
    "start_time": "2023-08-10T15:05:11.574Z"
   },
   {
    "duration": 1705,
    "start_time": "2023-08-10T15:05:12.487Z"
   },
   {
    "duration": 3,
    "start_time": "2023-08-10T15:05:16.178Z"
   },
   {
    "duration": 2,
    "start_time": "2023-08-10T15:05:16.634Z"
   },
   {
    "duration": 3,
    "start_time": "2023-08-10T15:05:17.170Z"
   },
   {
    "duration": 5,
    "start_time": "2023-08-10T15:05:21.578Z"
   },
   {
    "duration": 1569,
    "start_time": "2023-08-10T15:05:30.279Z"
   },
   {
    "duration": 4,
    "start_time": "2023-08-10T15:05:31.850Z"
   },
   {
    "duration": 999,
    "start_time": "2023-08-10T15:05:31.856Z"
   },
   {
    "duration": 2,
    "start_time": "2023-08-10T15:05:32.857Z"
   },
   {
    "duration": 50,
    "start_time": "2023-08-10T15:05:32.861Z"
   },
   {
    "duration": 24,
    "start_time": "2023-08-10T15:05:32.912Z"
   },
   {
    "duration": 43,
    "start_time": "2023-08-10T15:05:32.938Z"
   },
   {
    "duration": 31,
    "start_time": "2023-08-10T15:05:32.983Z"
   },
   {
    "duration": 247,
    "start_time": "2023-08-10T15:05:33.016Z"
   },
   {
    "duration": 256,
    "start_time": "2023-08-10T15:05:33.264Z"
   },
   {
    "duration": 108,
    "start_time": "2023-08-10T15:05:33.522Z"
   },
   {
    "duration": 6,
    "start_time": "2023-08-10T15:05:33.631Z"
   },
   {
    "duration": 44,
    "start_time": "2023-08-10T15:05:33.639Z"
   },
   {
    "duration": 23,
    "start_time": "2023-08-10T15:05:33.687Z"
   },
   {
    "duration": 59,
    "start_time": "2023-08-10T15:05:33.713Z"
   },
   {
    "duration": 6,
    "start_time": "2023-08-10T15:05:33.774Z"
   },
   {
    "duration": 456,
    "start_time": "2023-08-10T15:05:33.783Z"
   },
   {
    "duration": 43,
    "start_time": "2023-08-10T15:05:34.241Z"
   },
   {
    "duration": 51,
    "start_time": "2023-08-10T15:05:34.286Z"
   },
   {
    "duration": 58,
    "start_time": "2023-08-10T15:05:34.338Z"
   },
   {
    "duration": 40,
    "start_time": "2023-08-10T15:05:34.397Z"
   },
   {
    "duration": 29,
    "start_time": "2023-08-10T15:05:34.439Z"
   },
   {
    "duration": 34,
    "start_time": "2023-08-10T15:05:34.469Z"
   },
   {
    "duration": 5004,
    "start_time": "2023-08-10T15:05:34.505Z"
   },
   {
    "duration": 16,
    "start_time": "2023-08-10T15:05:39.511Z"
   },
   {
    "duration": 30,
    "start_time": "2023-08-10T15:05:39.530Z"
   },
   {
    "duration": 33,
    "start_time": "2023-08-10T15:05:39.561Z"
   },
   {
    "duration": 27,
    "start_time": "2023-08-10T15:05:39.596Z"
   },
   {
    "duration": 22,
    "start_time": "2023-08-10T15:05:39.625Z"
   },
   {
    "duration": 22,
    "start_time": "2023-08-10T15:05:39.649Z"
   },
   {
    "duration": 955,
    "start_time": "2023-08-10T15:05:39.673Z"
   },
   {
    "duration": 3,
    "start_time": "2023-08-10T15:05:40.630Z"
   },
   {
    "duration": 185,
    "start_time": "2023-08-10T15:05:40.635Z"
   },
   {
    "duration": 1753,
    "start_time": "2023-08-10T15:05:40.822Z"
   },
   {
    "duration": 4,
    "start_time": "2023-08-10T15:05:42.577Z"
   },
   {
    "duration": 32,
    "start_time": "2023-08-10T15:05:42.583Z"
   },
   {
    "duration": 12,
    "start_time": "2023-08-10T15:05:42.618Z"
   },
   {
    "duration": 17,
    "start_time": "2023-08-10T15:05:42.632Z"
   },
   {
    "duration": 21,
    "start_time": "2023-08-10T15:05:42.652Z"
   },
   {
    "duration": 56,
    "start_time": "2023-08-10T15:05:42.676Z"
   },
   {
    "duration": 11,
    "start_time": "2023-08-10T15:05:42.737Z"
   },
   {
    "duration": 25,
    "start_time": "2023-08-10T15:05:42.750Z"
   },
   {
    "duration": 2779,
    "start_time": "2023-08-10T15:05:42.777Z"
   },
   {
    "duration": 5,
    "start_time": "2023-08-10T15:05:45.558Z"
   },
   {
    "duration": 90,
    "start_time": "2023-08-10T15:05:45.565Z"
   },
   {
    "duration": 20,
    "start_time": "2023-08-10T15:05:45.657Z"
   },
   {
    "duration": 16,
    "start_time": "2023-08-10T15:05:45.679Z"
   },
   {
    "duration": 7690,
    "start_time": "2023-08-10T15:05:45.697Z"
   },
   {
    "duration": 21943,
    "start_time": "2023-08-10T15:05:53.389Z"
   },
   {
    "duration": 4,
    "start_time": "2023-08-10T15:06:15.334Z"
   },
   {
    "duration": 18,
    "start_time": "2023-08-10T15:06:15.354Z"
   },
   {
    "duration": 13,
    "start_time": "2023-08-10T15:06:15.374Z"
   },
   {
    "duration": 8,
    "start_time": "2023-08-10T15:06:15.389Z"
   },
   {
    "duration": 503728,
    "start_time": "2023-08-10T15:06:15.399Z"
   },
   {
    "duration": 511279,
    "start_time": "2023-08-10T15:14:39.130Z"
   },
   {
    "duration": 4,
    "start_time": "2023-08-10T15:23:10.410Z"
   },
   {
    "duration": 5124,
    "start_time": "2023-08-10T15:23:10.415Z"
   },
   {
    "duration": 13,
    "start_time": "2023-08-10T15:23:15.541Z"
   },
   {
    "duration": 26,
    "start_time": "2023-08-10T15:23:15.556Z"
   },
   {
    "duration": 93,
    "start_time": "2023-08-10T15:23:15.583Z"
   },
   {
    "duration": 8,
    "start_time": "2023-08-10T15:23:15.678Z"
   },
   {
    "duration": 5,
    "start_time": "2023-08-10T15:32:12.793Z"
   },
   {
    "duration": 3,
    "start_time": "2023-08-10T15:32:23.407Z"
   },
   {
    "duration": 177,
    "start_time": "2023-08-10T15:33:57.282Z"
   },
   {
    "duration": 5,
    "start_time": "2023-08-10T15:34:09.287Z"
   },
   {
    "duration": 3,
    "start_time": "2023-08-10T15:34:28.718Z"
   },
   {
    "duration": 5,
    "start_time": "2023-08-10T15:36:52.826Z"
   },
   {
    "duration": 10,
    "start_time": "2023-08-10T15:38:02.966Z"
   },
   {
    "duration": 4,
    "start_time": "2023-08-10T15:38:13.970Z"
   },
   {
    "duration": 3,
    "start_time": "2023-08-10T15:38:29.377Z"
   },
   {
    "duration": 3,
    "start_time": "2023-08-10T15:42:42.369Z"
   },
   {
    "duration": 6,
    "start_time": "2023-08-10T15:42:52.081Z"
   },
   {
    "duration": 6,
    "start_time": "2023-08-10T15:43:11.786Z"
   },
   {
    "duration": 6,
    "start_time": "2023-08-10T15:44:00.796Z"
   },
   {
    "duration": 2987,
    "start_time": "2023-08-10T15:44:55.568Z"
   },
   {
    "duration": 5396,
    "start_time": "2023-08-10T15:45:05.963Z"
   },
   {
    "duration": 4,
    "start_time": "2023-08-10T15:45:17.834Z"
   },
   {
    "duration": 134,
    "start_time": "2023-08-10T15:45:29.602Z"
   },
   {
    "duration": 4,
    "start_time": "2023-08-10T15:45:35.897Z"
   },
   {
    "duration": 19,
    "start_time": "2023-08-10T15:46:16.699Z"
   },
   {
    "duration": 13,
    "start_time": "2023-08-10T15:46:39.074Z"
   },
   {
    "duration": 19,
    "start_time": "2023-08-10T15:46:47.262Z"
   },
   {
    "duration": 5,
    "start_time": "2023-08-10T15:47:01.116Z"
   },
   {
    "duration": 4,
    "start_time": "2023-08-10T15:47:20.892Z"
   },
   {
    "duration": 4,
    "start_time": "2023-08-10T15:47:30.594Z"
   },
   {
    "duration": 5,
    "start_time": "2023-08-10T15:47:53.114Z"
   },
   {
    "duration": 13,
    "start_time": "2023-08-10T15:51:39.318Z"
   },
   {
    "duration": 5274,
    "start_time": "2023-08-10T15:51:40.885Z"
   },
   {
    "duration": 10,
    "start_time": "2023-08-10T15:51:46.161Z"
   },
   {
    "duration": 10,
    "start_time": "2023-08-10T15:52:05.808Z"
   },
   {
    "duration": 12,
    "start_time": "2023-08-10T15:52:21.295Z"
   },
   {
    "duration": 5,
    "start_time": "2023-08-10T15:53:27.665Z"
   },
   {
    "duration": 5,
    "start_time": "2023-08-10T15:53:52.916Z"
   },
   {
    "duration": 5,
    "start_time": "2023-08-10T15:53:53.918Z"
   },
   {
    "duration": 830,
    "start_time": "2023-08-10T15:53:54.797Z"
   },
   {
    "duration": 2,
    "start_time": "2023-08-10T15:53:55.629Z"
   },
   {
    "duration": 59,
    "start_time": "2023-08-10T15:53:55.634Z"
   },
   {
    "duration": 4,
    "start_time": "2023-08-10T15:53:55.695Z"
   },
   {
    "duration": 4,
    "start_time": "2023-08-10T15:53:55.831Z"
   },
   {
    "duration": 19,
    "start_time": "2023-08-10T15:53:56.196Z"
   },
   {
    "duration": 241,
    "start_time": "2023-08-10T15:53:56.396Z"
   },
   {
    "duration": 262,
    "start_time": "2023-08-10T15:53:56.640Z"
   },
   {
    "duration": 8,
    "start_time": "2023-08-10T15:53:57.425Z"
   },
   {
    "duration": 5,
    "start_time": "2023-08-10T15:53:58.384Z"
   },
   {
    "duration": 33,
    "start_time": "2023-08-10T15:53:59.385Z"
   },
   {
    "duration": 17,
    "start_time": "2023-08-10T15:53:59.700Z"
   },
   {
    "duration": 28,
    "start_time": "2023-08-10T15:53:59.969Z"
   },
   {
    "duration": 5,
    "start_time": "2023-08-10T15:54:00.375Z"
   },
   {
    "duration": 6,
    "start_time": "2023-08-10T15:54:00.636Z"
   },
   {
    "duration": 7,
    "start_time": "2023-08-10T15:54:00.987Z"
   },
   {
    "duration": 7,
    "start_time": "2023-08-10T15:54:01.273Z"
   },
   {
    "duration": 42,
    "start_time": "2023-08-10T15:54:01.878Z"
   },
   {
    "duration": 28,
    "start_time": "2023-08-10T15:54:02.116Z"
   },
   {
    "duration": 3,
    "start_time": "2023-08-10T15:54:03.427Z"
   },
   {
    "duration": 10,
    "start_time": "2023-08-10T15:54:06.070Z"
   },
   {
    "duration": 4778,
    "start_time": "2023-08-10T15:54:06.724Z"
   },
   {
    "duration": 21,
    "start_time": "2023-08-10T15:54:11.579Z"
   },
   {
    "duration": 2,
    "start_time": "2023-08-10T15:54:12.092Z"
   },
   {
    "duration": 10,
    "start_time": "2023-08-10T15:54:12.300Z"
   },
   {
    "duration": 3,
    "start_time": "2023-08-10T15:54:12.569Z"
   },
   {
    "duration": 3,
    "start_time": "2023-08-10T15:54:12.874Z"
   },
   {
    "duration": 11,
    "start_time": "2023-08-10T15:54:13.133Z"
   },
   {
    "duration": 1100,
    "start_time": "2023-08-10T15:54:15.086Z"
   },
   {
    "duration": 3,
    "start_time": "2023-08-10T15:54:16.396Z"
   },
   {
    "duration": 17,
    "start_time": "2023-08-10T15:54:19.377Z"
   },
   {
    "duration": 1723,
    "start_time": "2023-08-10T15:54:19.891Z"
   },
   {
    "duration": 2,
    "start_time": "2023-08-10T15:54:21.773Z"
   },
   {
    "duration": 3,
    "start_time": "2023-08-10T15:54:22.188Z"
   },
   {
    "duration": 4,
    "start_time": "2023-08-10T15:54:22.620Z"
   },
   {
    "duration": 4,
    "start_time": "2023-08-10T15:54:25.815Z"
   },
   {
    "duration": 5,
    "start_time": "2023-08-10T15:54:28.769Z"
   },
   {
    "duration": 8,
    "start_time": "2023-08-10T15:54:28.992Z"
   },
   {
    "duration": 3,
    "start_time": "2023-08-10T15:54:29.776Z"
   },
   {
    "duration": 3,
    "start_time": "2023-08-10T15:54:30.835Z"
   },
   {
    "duration": 3537,
    "start_time": "2023-08-10T15:54:31.116Z"
   },
   {
    "duration": 4,
    "start_time": "2023-08-10T15:54:34.656Z"
   },
   {
    "duration": 7,
    "start_time": "2023-08-10T15:54:34.662Z"
   },
   {
    "duration": 7,
    "start_time": "2023-08-10T15:54:34.671Z"
   },
   {
    "duration": 4,
    "start_time": "2023-08-10T15:54:35.582Z"
   },
   {
    "duration": 7939,
    "start_time": "2023-08-10T15:54:35.773Z"
   },
   {
    "duration": 22733,
    "start_time": "2023-08-10T15:54:43.715Z"
   },
   {
    "duration": 5,
    "start_time": "2023-08-10T15:55:06.450Z"
   },
   {
    "duration": 11,
    "start_time": "2023-08-10T16:01:42.682Z"
   },
   {
    "duration": 6,
    "start_time": "2023-08-10T16:02:22.764Z"
   },
   {
    "duration": 4,
    "start_time": "2023-08-10T16:02:49.100Z"
   },
   {
    "duration": 6,
    "start_time": "2023-08-10T16:02:52.583Z"
   },
   {
    "duration": 7,
    "start_time": "2023-08-10T16:03:09.480Z"
   },
   {
    "duration": 8,
    "start_time": "2023-08-10T16:03:15.196Z"
   },
   {
    "duration": 5,
    "start_time": "2023-08-10T16:05:32.467Z"
   },
   {
    "duration": 1573,
    "start_time": "2023-08-10T16:05:49.418Z"
   },
   {
    "duration": 5,
    "start_time": "2023-08-10T16:05:50.994Z"
   },
   {
    "duration": 1108,
    "start_time": "2023-08-10T16:05:51.001Z"
   },
   {
    "duration": 3,
    "start_time": "2023-08-10T16:05:52.112Z"
   },
   {
    "duration": 79,
    "start_time": "2023-08-10T16:05:52.116Z"
   },
   {
    "duration": 5,
    "start_time": "2023-08-10T16:05:52.200Z"
   },
   {
    "duration": 52,
    "start_time": "2023-08-10T16:05:52.207Z"
   },
   {
    "duration": 68,
    "start_time": "2023-08-10T16:05:52.261Z"
   },
   {
    "duration": 377,
    "start_time": "2023-08-10T16:05:52.331Z"
   },
   {
    "duration": 379,
    "start_time": "2023-08-10T16:05:52.713Z"
   },
   {
    "duration": 13,
    "start_time": "2023-08-10T16:05:53.094Z"
   },
   {
    "duration": 43,
    "start_time": "2023-08-10T16:05:53.109Z"
   },
   {
    "duration": 58,
    "start_time": "2023-08-10T16:05:53.156Z"
   },
   {
    "duration": 45,
    "start_time": "2023-08-10T16:05:53.217Z"
   },
   {
    "duration": 37,
    "start_time": "2023-08-10T16:05:53.264Z"
   },
   {
    "duration": 6,
    "start_time": "2023-08-10T16:05:53.304Z"
   },
   {
    "duration": 16,
    "start_time": "2023-08-10T16:05:53.312Z"
   },
   {
    "duration": 8,
    "start_time": "2023-08-10T16:05:53.355Z"
   },
   {
    "duration": 13,
    "start_time": "2023-08-10T16:05:53.366Z"
   },
   {
    "duration": 50,
    "start_time": "2023-08-10T16:05:53.381Z"
   },
   {
    "duration": 45,
    "start_time": "2023-08-10T16:05:53.433Z"
   },
   {
    "duration": 16,
    "start_time": "2023-08-10T16:05:53.480Z"
   },
   {
    "duration": 20,
    "start_time": "2023-08-10T16:05:53.498Z"
   },
   {
    "duration": 6215,
    "start_time": "2023-08-10T16:05:53.521Z"
   },
   {
    "duration": 27,
    "start_time": "2023-08-10T16:05:59.739Z"
   },
   {
    "duration": 15,
    "start_time": "2023-08-10T16:05:59.768Z"
   },
   {
    "duration": 16,
    "start_time": "2023-08-10T16:05:59.786Z"
   },
   {
    "duration": 4,
    "start_time": "2023-08-10T16:05:59.808Z"
   },
   {
    "duration": 29,
    "start_time": "2023-08-10T16:05:59.814Z"
   },
   {
    "duration": 26,
    "start_time": "2023-08-10T16:05:59.846Z"
   },
   {
    "duration": 1602,
    "start_time": "2023-08-10T16:05:59.875Z"
   },
   {
    "duration": 4,
    "start_time": "2023-08-10T16:06:01.479Z"
   },
   {
    "duration": 385,
    "start_time": "2023-08-10T16:06:01.485Z"
   },
   {
    "duration": 1978,
    "start_time": "2023-08-10T16:06:01.873Z"
   },
   {
    "duration": 4,
    "start_time": "2023-08-10T16:06:03.860Z"
   },
   {
    "duration": 275,
    "start_time": "2023-08-10T16:06:03.867Z"
   },
   {
    "duration": 74,
    "start_time": "2023-08-10T16:06:04.145Z"
   },
   {
    "duration": 67,
    "start_time": "2023-08-10T16:06:04.221Z"
   },
   {
    "duration": 493,
    "start_time": "2023-08-10T16:06:04.294Z"
   },
   {
    "duration": 404,
    "start_time": "2023-08-10T16:06:04.789Z"
   },
   {
    "duration": 16,
    "start_time": "2023-08-10T16:06:05.196Z"
   },
   {
    "duration": 18,
    "start_time": "2023-08-10T16:06:05.214Z"
   },
   {
    "duration": 3439,
    "start_time": "2023-08-10T16:06:05.236Z"
   },
   {
    "duration": 4,
    "start_time": "2023-08-10T16:06:08.682Z"
   },
   {
    "duration": 107,
    "start_time": "2023-08-10T16:06:08.688Z"
   },
   {
    "duration": 9,
    "start_time": "2023-08-10T16:06:08.797Z"
   },
   {
    "duration": 21,
    "start_time": "2023-08-10T16:06:08.809Z"
   },
   {
    "duration": 10142,
    "start_time": "2023-08-10T16:06:08.832Z"
   },
   {
    "duration": 26220,
    "start_time": "2023-08-10T16:06:18.976Z"
   },
   {
    "duration": 5,
    "start_time": "2023-08-10T16:06:45.199Z"
   },
   {
    "duration": 70,
    "start_time": "2023-08-10T16:06:45.206Z"
   },
   {
    "duration": 22,
    "start_time": "2023-08-10T16:06:45.278Z"
   },
   {
    "duration": 7,
    "start_time": "2023-08-10T16:06:45.302Z"
   },
   {
    "duration": 571630,
    "start_time": "2023-08-10T16:06:45.311Z"
   },
   {
    "duration": 562501,
    "start_time": "2023-08-10T16:16:16.944Z"
   },
   {
    "duration": 18,
    "start_time": "2023-08-10T16:25:39.447Z"
   },
   {
    "duration": 11,
    "start_time": "2023-08-10T16:25:39.469Z"
   },
   {
    "duration": 5358,
    "start_time": "2023-08-10T16:25:39.482Z"
   },
   {
    "duration": 6,
    "start_time": "2023-08-10T16:25:44.842Z"
   },
   {
    "duration": 28,
    "start_time": "2023-08-10T16:25:44.850Z"
   },
   {
    "duration": 101,
    "start_time": "2023-08-10T16:25:44.881Z"
   },
   {
    "duration": 127,
    "start_time": "2023-08-10T16:25:44.984Z"
   },
   {
    "duration": 18,
    "start_time": "2023-08-10T16:26:01.801Z"
   },
   {
    "duration": 13,
    "start_time": "2023-08-10T16:26:09.868Z"
   },
   {
    "duration": 11,
    "start_time": "2023-08-10T16:28:58.659Z"
   },
   {
    "duration": 5,
    "start_time": "2023-08-10T16:29:30.688Z"
   },
   {
    "duration": 6,
    "start_time": "2023-08-10T16:29:31.783Z"
   },
   {
    "duration": 847,
    "start_time": "2023-08-10T16:29:32.700Z"
   },
   {
    "duration": 9,
    "start_time": "2023-08-10T16:29:33.549Z"
   },
   {
    "duration": 71,
    "start_time": "2023-08-10T16:29:33.562Z"
   },
   {
    "duration": 5,
    "start_time": "2023-08-10T16:29:33.687Z"
   },
   {
    "duration": 4,
    "start_time": "2023-08-10T16:29:33.892Z"
   },
   {
    "duration": 23,
    "start_time": "2023-08-10T16:29:34.351Z"
   },
   {
    "duration": 259,
    "start_time": "2023-08-10T16:29:34.521Z"
   },
   {
    "duration": 291,
    "start_time": "2023-08-10T16:29:34.782Z"
   },
   {
    "duration": 9,
    "start_time": "2023-08-10T16:29:35.418Z"
   },
   {
    "duration": 11,
    "start_time": "2023-08-10T16:29:36.151Z"
   },
   {
    "duration": 41,
    "start_time": "2023-08-10T16:29:37.012Z"
   },
   {
    "duration": 18,
    "start_time": "2023-08-10T16:29:37.209Z"
   },
   {
    "duration": 37,
    "start_time": "2023-08-10T16:29:37.369Z"
   },
   {
    "duration": 6,
    "start_time": "2023-08-10T16:29:37.725Z"
   },
   {
    "duration": 10,
    "start_time": "2023-08-10T16:29:37.866Z"
   },
   {
    "duration": 10,
    "start_time": "2023-08-10T16:29:38.051Z"
   },
   {
    "duration": 5,
    "start_time": "2023-08-10T16:29:38.200Z"
   },
   {
    "duration": 38,
    "start_time": "2023-08-10T16:29:38.571Z"
   },
   {
    "duration": 27,
    "start_time": "2023-08-10T16:29:38.771Z"
   },
   {
    "duration": 3,
    "start_time": "2023-08-10T16:29:39.105Z"
   },
   {
    "duration": 10,
    "start_time": "2023-08-10T16:29:40.714Z"
   },
   {
    "duration": 5025,
    "start_time": "2023-08-10T16:29:40.996Z"
   },
   {
    "duration": 15,
    "start_time": "2023-08-10T16:29:46.024Z"
   },
   {
    "duration": 12,
    "start_time": "2023-08-10T16:29:46.059Z"
   },
   {
    "duration": 28,
    "start_time": "2023-08-10T16:29:46.074Z"
   },
   {
    "duration": 3,
    "start_time": "2023-08-10T16:29:46.105Z"
   },
   {
    "duration": 13,
    "start_time": "2023-08-10T16:29:46.111Z"
   },
   {
    "duration": 12,
    "start_time": "2023-08-10T16:29:46.291Z"
   },
   {
    "duration": 1155,
    "start_time": "2023-08-10T16:29:50.993Z"
   },
   {
    "duration": 6,
    "start_time": "2023-08-10T16:29:52.155Z"
   },
   {
    "duration": 22,
    "start_time": "2023-08-10T16:29:55.808Z"
   },
   {
    "duration": 1670,
    "start_time": "2023-08-10T16:29:56.569Z"
   },
   {
    "duration": 3,
    "start_time": "2023-08-10T16:29:59.401Z"
   },
   {
    "duration": 2,
    "start_time": "2023-08-10T16:29:59.676Z"
   },
   {
    "duration": 3,
    "start_time": "2023-08-10T16:29:59.890Z"
   },
   {
    "duration": 7,
    "start_time": "2023-08-10T16:30:02.980Z"
   },
   {
    "duration": 6,
    "start_time": "2023-08-10T16:30:36.303Z"
   },
   {
    "duration": 4,
    "start_time": "2023-08-10T16:30:38.804Z"
   },
   {
    "duration": 8,
    "start_time": "2023-08-10T16:30:39.724Z"
   },
   {
    "duration": 3,
    "start_time": "2023-08-10T16:31:03.704Z"
   },
   {
    "duration": 3,
    "start_time": "2023-08-10T16:31:04.712Z"
   },
   {
    "duration": 3470,
    "start_time": "2023-08-10T16:31:05.111Z"
   },
   {
    "duration": 5,
    "start_time": "2023-08-10T16:31:08.585Z"
   },
   {
    "duration": 3,
    "start_time": "2023-08-10T16:32:12.070Z"
   },
   {
    "duration": 4,
    "start_time": "2023-08-10T16:32:12.529Z"
   },
   {
    "duration": 3,
    "start_time": "2023-08-10T16:32:14.624Z"
   },
   {
    "duration": 8233,
    "start_time": "2023-08-10T16:32:23.072Z"
   },
   {
    "duration": 2646,
    "start_time": "2023-08-10T16:34:41.575Z"
   },
   {
    "duration": 29,
    "start_time": "2023-08-10T16:35:08.731Z"
   },
   {
    "duration": 16,
    "start_time": "2023-08-10T16:35:59.268Z"
   },
   {
    "duration": 2356,
    "start_time": "2023-08-10T16:36:15.420Z"
   },
   {
    "duration": 2452,
    "start_time": "2023-08-10T16:37:22.030Z"
   },
   {
    "duration": 824,
    "start_time": "2023-08-10T16:38:28.780Z"
   },
   {
    "duration": 5,
    "start_time": "2023-08-10T16:38:44.092Z"
   },
   {
    "duration": 4,
    "start_time": "2023-08-10T16:38:54.382Z"
   },
   {
    "duration": 5,
    "start_time": "2023-08-10T16:40:12.172Z"
   },
   {
    "duration": 4,
    "start_time": "2023-08-10T16:41:31.597Z"
   },
   {
    "duration": 4,
    "start_time": "2023-08-10T16:41:38.221Z"
   },
   {
    "duration": 4,
    "start_time": "2023-08-10T16:41:42.037Z"
   },
   {
    "duration": 3,
    "start_time": "2023-08-10T16:41:43.828Z"
   },
   {
    "duration": 4,
    "start_time": "2023-08-10T16:41:45.225Z"
   },
   {
    "duration": 3,
    "start_time": "2023-08-10T16:42:48.408Z"
   },
   {
    "duration": 2,
    "start_time": "2023-08-10T16:42:49.052Z"
   },
   {
    "duration": 4,
    "start_time": "2023-08-10T16:42:49.575Z"
   },
   {
    "duration": 560464,
    "start_time": "2023-08-10T16:42:50.135Z"
   },
   {
    "duration": 550237,
    "start_time": "2023-08-10T16:52:21.283Z"
   },
   {
    "duration": 5,
    "start_time": "2023-08-10T17:03:32.980Z"
   },
   {
    "duration": 6853,
    "start_time": "2023-08-10T17:04:52.781Z"
   },
   {
    "duration": 6865,
    "start_time": "2023-08-10T17:06:03.019Z"
   },
   {
    "duration": 6932,
    "start_time": "2023-08-10T17:06:16.515Z"
   },
   {
    "duration": 6531,
    "start_time": "2023-08-10T17:06:27.932Z"
   },
   {
    "duration": 6995,
    "start_time": "2023-08-10T17:07:08.768Z"
   },
   {
    "duration": 6946,
    "start_time": "2023-08-10T17:07:19.626Z"
   },
   {
    "duration": 7,
    "start_time": "2023-08-10T17:07:53.838Z"
   },
   {
    "duration": 5,
    "start_time": "2023-08-10T17:08:28.575Z"
   },
   {
    "duration": 4,
    "start_time": "2023-08-10T17:09:30.725Z"
   },
   {
    "duration": 4,
    "start_time": "2023-08-10T17:09:43.725Z"
   },
   {
    "duration": 6388,
    "start_time": "2023-08-10T17:09:55.157Z"
   },
   {
    "duration": 6698,
    "start_time": "2023-08-10T17:10:01.547Z"
   },
   {
    "duration": 9,
    "start_time": "2023-08-10T17:10:08.246Z"
   },
   {
    "duration": 36,
    "start_time": "2023-08-10T17:10:08.257Z"
   },
   {
    "duration": 3,
    "start_time": "2023-08-10T17:12:20.275Z"
   },
   {
    "duration": 8,
    "start_time": "2023-08-10T17:13:17.566Z"
   },
   {
    "duration": 5264,
    "start_time": "2023-08-10T17:13:36.430Z"
   },
   {
    "duration": 7,
    "start_time": "2023-08-10T17:13:41.696Z"
   },
   {
    "duration": 12,
    "start_time": "2023-08-10T17:13:46.715Z"
   },
   {
    "duration": 96,
    "start_time": "2023-08-10T17:13:50.818Z"
   },
   {
    "duration": 10,
    "start_time": "2023-08-10T17:13:51.687Z"
   },
   {
    "duration": 14,
    "start_time": "2023-08-10T17:14:03.532Z"
   },
   {
    "duration": 7,
    "start_time": "2023-08-10T17:14:12.176Z"
   },
   {
    "duration": 15,
    "start_time": "2023-08-10T17:14:32.761Z"
   },
   {
    "duration": 1530,
    "start_time": "2024-10-15T14:15:31.998Z"
   },
   {
    "duration": 3,
    "start_time": "2024-10-15T14:15:33.531Z"
   },
   {
    "duration": 3000,
    "start_time": "2024-10-15T14:15:33.535Z"
   },
   {
    "duration": 2,
    "start_time": "2024-10-15T14:15:36.538Z"
   },
   {
    "duration": 121,
    "start_time": "2024-10-15T14:15:36.542Z"
   },
   {
    "duration": 5,
    "start_time": "2024-10-15T14:15:36.665Z"
   },
   {
    "duration": 40,
    "start_time": "2024-10-15T14:15:36.671Z"
   },
   {
    "duration": 26,
    "start_time": "2024-10-15T14:15:36.712Z"
   },
   {
    "duration": 319,
    "start_time": "2024-10-15T14:15:36.739Z"
   },
   {
    "duration": 258,
    "start_time": "2024-10-15T14:15:37.061Z"
   },
   {
    "duration": 9,
    "start_time": "2024-10-15T14:15:37.322Z"
   },
   {
    "duration": 44,
    "start_time": "2024-10-15T14:15:37.333Z"
   },
   {
    "duration": 115,
    "start_time": "2024-10-15T14:15:37.379Z"
   },
   {
    "duration": 52,
    "start_time": "2024-10-15T14:15:37.495Z"
   },
   {
    "duration": 55,
    "start_time": "2024-10-15T14:15:37.549Z"
   },
   {
    "duration": 14,
    "start_time": "2024-10-15T14:15:37.606Z"
   },
   {
    "duration": 29,
    "start_time": "2024-10-15T14:15:37.621Z"
   },
   {
    "duration": 6,
    "start_time": "2024-10-15T14:15:37.652Z"
   },
   {
    "duration": 9,
    "start_time": "2024-10-15T14:15:37.659Z"
   },
   {
    "duration": 54,
    "start_time": "2024-10-15T14:15:37.670Z"
   },
   {
    "duration": 28,
    "start_time": "2024-10-15T14:15:37.726Z"
   },
   {
    "duration": 7,
    "start_time": "2024-10-15T14:15:37.756Z"
   },
   {
    "duration": 5180,
    "start_time": "2024-10-15T14:15:37.764Z"
   },
   {
    "duration": 14,
    "start_time": "2024-10-15T14:15:42.946Z"
   },
   {
    "duration": 8,
    "start_time": "2024-10-15T14:15:42.962Z"
   },
   {
    "duration": 13,
    "start_time": "2024-10-15T14:15:42.972Z"
   },
   {
    "duration": 1122,
    "start_time": "2024-10-15T14:15:42.987Z"
   },
   {
    "duration": 15,
    "start_time": "2024-10-15T14:15:44.120Z"
   },
   {
    "duration": 1670,
    "start_time": "2024-10-15T14:15:44.137Z"
   },
   {
    "duration": 13,
    "start_time": "2024-10-15T14:15:45.809Z"
   },
   {
    "duration": 20,
    "start_time": "2024-10-15T14:15:45.825Z"
   },
   {
    "duration": 25,
    "start_time": "2024-10-15T14:15:45.847Z"
   },
   {
    "duration": 9,
    "start_time": "2024-10-15T14:15:45.874Z"
   },
   {
    "duration": 8,
    "start_time": "2024-10-15T14:15:45.884Z"
   },
   {
    "duration": 2635,
    "start_time": "2024-10-15T14:15:45.893Z"
   },
   {
    "duration": 5,
    "start_time": "2024-10-15T14:15:48.620Z"
   },
   {
    "duration": 8,
    "start_time": "2024-10-15T14:15:48.629Z"
   },
   {
    "duration": 14,
    "start_time": "2024-10-15T14:15:48.638Z"
   },
   {
    "duration": 4,
    "start_time": "2024-10-15T14:15:48.654Z"
   },
   {
    "duration": 7978,
    "start_time": "2024-10-15T14:15:48.659Z"
   },
   {
    "duration": 22685,
    "start_time": "2024-10-15T14:15:56.638Z"
   },
   {
    "duration": 4,
    "start_time": "2024-10-15T14:16:19.326Z"
   },
   {
    "duration": 24,
    "start_time": "2024-10-15T14:16:19.332Z"
   },
   {
    "duration": 15,
    "start_time": "2024-10-15T14:16:19.359Z"
   },
   {
    "duration": 6,
    "start_time": "2024-10-15T14:16:19.375Z"
   },
   {
    "duration": 510366,
    "start_time": "2024-10-15T14:16:19.382Z"
   },
   {
    "duration": 524402,
    "start_time": "2024-10-15T14:24:49.750Z"
   },
   {
    "duration": 4,
    "start_time": "2024-10-15T14:33:34.154Z"
   },
   {
    "duration": 5133,
    "start_time": "2024-10-15T14:33:34.159Z"
   },
   {
    "duration": 6,
    "start_time": "2024-10-15T14:33:39.293Z"
   },
   {
    "duration": 24,
    "start_time": "2024-10-15T14:33:39.300Z"
   },
   {
    "duration": 102,
    "start_time": "2024-10-15T14:33:39.326Z"
   },
   {
    "duration": 6,
    "start_time": "2024-10-15T14:33:39.429Z"
   }
  ],
  "kernelspec": {
   "display_name": "Python 3 (ipykernel)",
   "language": "python",
   "name": "python3"
  },
  "language_info": {
   "codemirror_mode": {
    "name": "ipython",
    "version": 3
   },
   "file_extension": ".py",
   "mimetype": "text/x-python",
   "name": "python",
   "nbconvert_exporter": "python",
   "pygments_lexer": "ipython3",
   "version": "3.9.5"
  },
  "toc": {
   "base_numbering": 1,
   "nav_menu": {},
   "number_sections": true,
   "sideBar": true,
   "skip_h1_title": true,
   "title_cell": "Содержание",
   "title_sidebar": "Contents",
   "toc_cell": true,
   "toc_position": {
    "height": "calc(100% - 180px)",
    "left": "10px",
    "top": "150px",
    "width": "258.4px"
   },
   "toc_section_display": true,
   "toc_window_display": true
  }
 },
 "nbformat": 4,
 "nbformat_minor": 2
}
