{
 "cells": [
  {
   "cell_type": "markdown",
   "metadata": {
    "toc": true
   },
   "source": [
    "<h1>Содержание<span class=\"tocSkip\"></span></h1>\n",
    "<div class=\"toc\"><ul class=\"toc-item\"><li><span><a href=\"#Подготовка-данных\" data-toc-modified-id=\"Подготовка-данных-1\"><span class=\"toc-item-num\">1&nbsp;&nbsp;</span>Подготовка данных</a></span></li><li><span><a href=\"#Исследование-задачи\" data-toc-modified-id=\"Исследование-задачи-2\"><span class=\"toc-item-num\">2&nbsp;&nbsp;</span>Исследование задачи</a></span></li><li><span><a href=\"#Борьба-с-дисбалансом\" data-toc-modified-id=\"Борьба-с-дисбалансом-3\"><span class=\"toc-item-num\">3&nbsp;&nbsp;</span>Борьба с дисбалансом</a></span></li><li><span><a href=\"#Тестирование-модели\" data-toc-modified-id=\"Тестирование-модели-4\"><span class=\"toc-item-num\">4&nbsp;&nbsp;</span>Тестирование модели</a></span></li><li><span><a href=\"#Выводы-исследования\" data-toc-modified-id=\"Выводы-исследования-5\"><span class=\"toc-item-num\">5&nbsp;&nbsp;</span>Выводы исследования</a></span></li></ul></div>"
   ]
  },
  {
   "cell_type": "markdown",
   "metadata": {},
   "source": [
    "# Отток клиентов"
   ]
  },
  {
   "cell_type": "markdown",
   "metadata": {},
   "source": [
    "Из «Бета-Банка» стали уходить клиенты. Каждый месяц. Немного, но заметно. Банковские маркетологи посчитали: сохранять текущих клиентов дешевле, чем привлекать новых.\n",
    "\n",
    "Нужно спрогнозировать, уйдёт клиент из банка в ближайшее время или нет. Вам предоставлены исторические данные о поведении клиентов и расторжении договоров с банком. \n",
    "\n",
    "Постройте модель с предельно большим значением *F1*-меры. Чтобы сдать проект успешно, нужно довести метрику до 0.59. Проверьте *F1*-меру на тестовой выборке самостоятельно.\n",
    "\n",
    "Дополнительно измеряйте *AUC-ROC*, сравнивайте её значение с *F1*-мерой.\n",
    "\n",
    "Источник данных: [https://www.kaggle.com/barelydedicated/bank-customer-churn-modeling](https://www.kaggle.com/barelydedicated/bank-customer-churn-modeling)"
   ]
  },
  {
   "cell_type": "markdown",
   "metadata": {},
   "source": [
    "# Цель проекта:\n",
    "\n",
    "Спрогнозировать, уйдёт клиент из банка в ближайшее время или нет на основе предоставленных исторических данных о поведении клиентов и расторжении договоров с банком."
   ]
  },
  {
   "cell_type": "markdown",
   "metadata": {},
   "source": [
    "# Задачи:\n",
    "\n",
    "1. Построить модель с предельно большим значением F1-меры, довести метрику до 0.59. \n",
    "2. Проверить F1-меру на тестовой выборке.\n",
    "3. Дополнительно измерить AUC-ROC, сравнить её значение с F1-мерой."
   ]
  },
  {
   "cell_type": "markdown",
   "metadata": {},
   "source": [
    "## Подготовка данных"
   ]
  },
  {
   "cell_type": "code",
   "execution_count": 1,
   "metadata": {},
   "outputs": [],
   "source": [
    "# Импортируем необходимые библиотеки:\n",
    "\n",
    "import pandas as pd\n",
    "import numpy as np\n",
    "import matplotlib.pyplot as plt\n",
    "import seaborn as sns\n",
    "from sklearn.preprocessing import StandardScaler\n",
    "from sklearn.preprocessing import OneHotEncoder\n",
    "from sklearn.model_selection import train_test_split\n",
    "from sklearn.metrics import confusion_matrix, accuracy_score, f1_score, roc_auc_score, roc_curve \n",
    "from sklearn.utils import shuffle\n",
    "from sklearn.tree import DecisionTreeClassifier\n",
    "from sklearn.ensemble import RandomForestClassifier\n",
    "from sklearn.linear_model import LogisticRegression\n",
    "from sklearn.preprocessing import RobustScaler\n",
    "from sklearn.dummy import DummyClassifier"
   ]
  },
  {
   "cell_type": "code",
   "execution_count": 2,
   "metadata": {},
   "outputs": [],
   "source": [
    "#Загрузим данные:\n",
    "\n",
    "data = pd.read_csv('/datasets/Churn.csv')"
   ]
  },
  {
   "cell_type": "code",
   "execution_count": 3,
   "metadata": {
    "scrolled": false
   },
   "outputs": [
    {
     "name": "stdout",
     "output_type": "stream",
     "text": [
      "<class 'pandas.core.frame.DataFrame'>\n",
      "RangeIndex: 10000 entries, 0 to 9999\n",
      "Data columns (total 14 columns):\n",
      " #   Column           Non-Null Count  Dtype  \n",
      "---  ------           --------------  -----  \n",
      " 0   RowNumber        10000 non-null  int64  \n",
      " 1   CustomerId       10000 non-null  int64  \n",
      " 2   Surname          10000 non-null  object \n",
      " 3   CreditScore      10000 non-null  int64  \n",
      " 4   Geography        10000 non-null  object \n",
      " 5   Gender           10000 non-null  object \n",
      " 6   Age              10000 non-null  int64  \n",
      " 7   Tenure           9091 non-null   float64\n",
      " 8   Balance          10000 non-null  float64\n",
      " 9   NumOfProducts    10000 non-null  int64  \n",
      " 10  HasCrCard        10000 non-null  int64  \n",
      " 11  IsActiveMember   10000 non-null  int64  \n",
      " 12  EstimatedSalary  10000 non-null  float64\n",
      " 13  Exited           10000 non-null  int64  \n",
      "dtypes: float64(3), int64(8), object(3)\n",
      "memory usage: 1.1+ MB\n"
     ]
    }
   ],
   "source": [
    "# Изучим общую инфомацию\n",
    "\n",
    "data.info()"
   ]
  },
  {
   "cell_type": "code",
   "execution_count": 4,
   "metadata": {
    "scrolled": true
   },
   "outputs": [
    {
     "data": {
      "text/html": [
       "<div>\n",
       "<style scoped>\n",
       "    .dataframe tbody tr th:only-of-type {\n",
       "        vertical-align: middle;\n",
       "    }\n",
       "\n",
       "    .dataframe tbody tr th {\n",
       "        vertical-align: top;\n",
       "    }\n",
       "\n",
       "    .dataframe thead th {\n",
       "        text-align: right;\n",
       "    }\n",
       "</style>\n",
       "<table border=\"1\" class=\"dataframe\">\n",
       "  <thead>\n",
       "    <tr style=\"text-align: right;\">\n",
       "      <th></th>\n",
       "      <th>RowNumber</th>\n",
       "      <th>CustomerId</th>\n",
       "      <th>Surname</th>\n",
       "      <th>CreditScore</th>\n",
       "      <th>Geography</th>\n",
       "      <th>Gender</th>\n",
       "      <th>Age</th>\n",
       "      <th>Tenure</th>\n",
       "      <th>Balance</th>\n",
       "      <th>NumOfProducts</th>\n",
       "      <th>HasCrCard</th>\n",
       "      <th>IsActiveMember</th>\n",
       "      <th>EstimatedSalary</th>\n",
       "      <th>Exited</th>\n",
       "    </tr>\n",
       "  </thead>\n",
       "  <tbody>\n",
       "    <tr>\n",
       "      <th>0</th>\n",
       "      <td>1</td>\n",
       "      <td>15634602</td>\n",
       "      <td>Hargrave</td>\n",
       "      <td>619</td>\n",
       "      <td>France</td>\n",
       "      <td>Female</td>\n",
       "      <td>42</td>\n",
       "      <td>2.0</td>\n",
       "      <td>0.00</td>\n",
       "      <td>1</td>\n",
       "      <td>1</td>\n",
       "      <td>1</td>\n",
       "      <td>101348.88</td>\n",
       "      <td>1</td>\n",
       "    </tr>\n",
       "    <tr>\n",
       "      <th>1</th>\n",
       "      <td>2</td>\n",
       "      <td>15647311</td>\n",
       "      <td>Hill</td>\n",
       "      <td>608</td>\n",
       "      <td>Spain</td>\n",
       "      <td>Female</td>\n",
       "      <td>41</td>\n",
       "      <td>1.0</td>\n",
       "      <td>83807.86</td>\n",
       "      <td>1</td>\n",
       "      <td>0</td>\n",
       "      <td>1</td>\n",
       "      <td>112542.58</td>\n",
       "      <td>0</td>\n",
       "    </tr>\n",
       "    <tr>\n",
       "      <th>2</th>\n",
       "      <td>3</td>\n",
       "      <td>15619304</td>\n",
       "      <td>Onio</td>\n",
       "      <td>502</td>\n",
       "      <td>France</td>\n",
       "      <td>Female</td>\n",
       "      <td>42</td>\n",
       "      <td>8.0</td>\n",
       "      <td>159660.80</td>\n",
       "      <td>3</td>\n",
       "      <td>1</td>\n",
       "      <td>0</td>\n",
       "      <td>113931.57</td>\n",
       "      <td>1</td>\n",
       "    </tr>\n",
       "    <tr>\n",
       "      <th>3</th>\n",
       "      <td>4</td>\n",
       "      <td>15701354</td>\n",
       "      <td>Boni</td>\n",
       "      <td>699</td>\n",
       "      <td>France</td>\n",
       "      <td>Female</td>\n",
       "      <td>39</td>\n",
       "      <td>1.0</td>\n",
       "      <td>0.00</td>\n",
       "      <td>2</td>\n",
       "      <td>0</td>\n",
       "      <td>0</td>\n",
       "      <td>93826.63</td>\n",
       "      <td>0</td>\n",
       "    </tr>\n",
       "    <tr>\n",
       "      <th>4</th>\n",
       "      <td>5</td>\n",
       "      <td>15737888</td>\n",
       "      <td>Mitchell</td>\n",
       "      <td>850</td>\n",
       "      <td>Spain</td>\n",
       "      <td>Female</td>\n",
       "      <td>43</td>\n",
       "      <td>2.0</td>\n",
       "      <td>125510.82</td>\n",
       "      <td>1</td>\n",
       "      <td>1</td>\n",
       "      <td>1</td>\n",
       "      <td>79084.10</td>\n",
       "      <td>0</td>\n",
       "    </tr>\n",
       "  </tbody>\n",
       "</table>\n",
       "</div>"
      ],
      "text/plain": [
       "   RowNumber  CustomerId   Surname  CreditScore Geography  Gender  Age  \\\n",
       "0          1    15634602  Hargrave          619    France  Female   42   \n",
       "1          2    15647311      Hill          608     Spain  Female   41   \n",
       "2          3    15619304      Onio          502    France  Female   42   \n",
       "3          4    15701354      Boni          699    France  Female   39   \n",
       "4          5    15737888  Mitchell          850     Spain  Female   43   \n",
       "\n",
       "   Tenure    Balance  NumOfProducts  HasCrCard  IsActiveMember  \\\n",
       "0     2.0       0.00              1          1               1   \n",
       "1     1.0   83807.86              1          0               1   \n",
       "2     8.0  159660.80              3          1               0   \n",
       "3     1.0       0.00              2          0               0   \n",
       "4     2.0  125510.82              1          1               1   \n",
       "\n",
       "   EstimatedSalary  Exited  \n",
       "0        101348.88       1  \n",
       "1        112542.58       0  \n",
       "2        113931.57       1  \n",
       "3         93826.63       0  \n",
       "4         79084.10       0  "
      ]
     },
     "execution_count": 4,
     "metadata": {},
     "output_type": "execute_result"
    }
   ],
   "source": [
    "data.head()"
   ]
  },
  {
   "cell_type": "code",
   "execution_count": 5,
   "metadata": {
    "scrolled": true
   },
   "outputs": [
    {
     "data": {
      "text/plain": [
       "np.int64(0)"
      ]
     },
     "execution_count": 5,
     "metadata": {},
     "output_type": "execute_result"
    }
   ],
   "source": [
    "# Проверим дубликаты \n",
    "\n",
    "data.duplicated().sum()"
   ]
  },
  {
   "cell_type": "code",
   "execution_count": 6,
   "metadata": {},
   "outputs": [
    {
     "data": {
      "text/plain": [
       "RowNumber            0\n",
       "CustomerId           0\n",
       "Surname              0\n",
       "CreditScore          0\n",
       "Geography            0\n",
       "Gender               0\n",
       "Age                  0\n",
       "Tenure             909\n",
       "Balance              0\n",
       "NumOfProducts        0\n",
       "HasCrCard            0\n",
       "IsActiveMember       0\n",
       "EstimatedSalary      0\n",
       "Exited               0\n",
       "dtype: int64"
      ]
     },
     "execution_count": 6,
     "metadata": {},
     "output_type": "execute_result"
    }
   ],
   "source": [
    "# Проверим пропуски\n",
    "\n",
    "data.isna().sum()"
   ]
  },
  {
   "cell_type": "code",
   "execution_count": 7,
   "metadata": {},
   "outputs": [
    {
     "data": {
      "text/plain": [
       "RowNumber          0.00\n",
       "CustomerId         0.00\n",
       "Surname            0.00\n",
       "CreditScore        0.00\n",
       "Geography          0.00\n",
       "Gender             0.00\n",
       "Age                0.00\n",
       "Tenure             9.09\n",
       "Balance            0.00\n",
       "NumOfProducts      0.00\n",
       "HasCrCard          0.00\n",
       "IsActiveMember     0.00\n",
       "EstimatedSalary    0.00\n",
       "Exited             0.00\n",
       "dtype: float64"
      ]
     },
     "execution_count": 7,
     "metadata": {},
     "output_type": "execute_result"
    }
   ],
   "source": [
    "missing_values = data.isna().sum()\n",
    "total_values = data.shape[0]\n",
    "missing_persantage = (missing_values / total_values) * 100\n",
    "missing_persantage"
   ]
  },
  {
   "cell_type": "markdown",
   "metadata": {},
   "source": [
    "**Выводы по обзору данных:**\n",
    "\n",
    "Датасет состоит из 10000 записей (строк) и 14 признаков (столбцов).\n",
    "\n",
    "Среди признаков есть категориальные (Geography, Gender) и бинарные (HasCrCard, IsActiveMember, Exited).\n",
    "\n",
    "Также на данном этапе можно отметить, что признаки RowNumber, CustomerId и Surname не будут влиять на процесс прогнозирования, поэтому можно их удалить."
   ]
  },
  {
   "cell_type": "code",
   "execution_count": 8,
   "metadata": {},
   "outputs": [
    {
     "ename": "ValueError",
     "evalue": "could not convert string to float: 'Hargrave'",
     "output_type": "error",
     "traceback": [
      "\u001b[0;31m---------------------------------------------------------------------------\u001b[0m",
      "\u001b[0;31mValueError\u001b[0m                                Traceback (most recent call last)",
      "\u001b[0;32m/tmp/ipykernel_2143/2627137660.py\u001b[0m in \u001b[0;36m<module>\u001b[0;34m\u001b[0m\n\u001b[0;32m----> 1\u001b[0;31m \u001b[0mdata\u001b[0m\u001b[0;34m.\u001b[0m\u001b[0mcorr\u001b[0m\u001b[0;34m(\u001b[0m\u001b[0;34m)\u001b[0m\u001b[0;34m\u001b[0m\u001b[0;34m\u001b[0m\u001b[0m\n\u001b[0m",
      "\u001b[0;32m/opt/conda/lib/python3.9/site-packages/pandas/core/frame.py\u001b[0m in \u001b[0;36mcorr\u001b[0;34m(self, method, min_periods, numeric_only)\u001b[0m\n\u001b[1;32m  11047\u001b[0m         \u001b[0mcols\u001b[0m \u001b[0;34m=\u001b[0m \u001b[0mdata\u001b[0m\u001b[0;34m.\u001b[0m\u001b[0mcolumns\u001b[0m\u001b[0;34m\u001b[0m\u001b[0;34m\u001b[0m\u001b[0m\n\u001b[1;32m  11048\u001b[0m         \u001b[0midx\u001b[0m \u001b[0;34m=\u001b[0m \u001b[0mcols\u001b[0m\u001b[0;34m.\u001b[0m\u001b[0mcopy\u001b[0m\u001b[0;34m(\u001b[0m\u001b[0;34m)\u001b[0m\u001b[0;34m\u001b[0m\u001b[0;34m\u001b[0m\u001b[0m\n\u001b[0;32m> 11049\u001b[0;31m         \u001b[0mmat\u001b[0m \u001b[0;34m=\u001b[0m \u001b[0mdata\u001b[0m\u001b[0;34m.\u001b[0m\u001b[0mto_numpy\u001b[0m\u001b[0;34m(\u001b[0m\u001b[0mdtype\u001b[0m\u001b[0;34m=\u001b[0m\u001b[0mfloat\u001b[0m\u001b[0;34m,\u001b[0m \u001b[0mna_value\u001b[0m\u001b[0;34m=\u001b[0m\u001b[0mnp\u001b[0m\u001b[0;34m.\u001b[0m\u001b[0mnan\u001b[0m\u001b[0;34m,\u001b[0m \u001b[0mcopy\u001b[0m\u001b[0;34m=\u001b[0m\u001b[0;32mFalse\u001b[0m\u001b[0;34m)\u001b[0m\u001b[0;34m\u001b[0m\u001b[0;34m\u001b[0m\u001b[0m\n\u001b[0m\u001b[1;32m  11050\u001b[0m \u001b[0;34m\u001b[0m\u001b[0m\n\u001b[1;32m  11051\u001b[0m         \u001b[0;32mif\u001b[0m \u001b[0mmethod\u001b[0m \u001b[0;34m==\u001b[0m \u001b[0;34m\"pearson\"\u001b[0m\u001b[0;34m:\u001b[0m\u001b[0;34m\u001b[0m\u001b[0;34m\u001b[0m\u001b[0m\n",
      "\u001b[0;32m/opt/conda/lib/python3.9/site-packages/pandas/core/frame.py\u001b[0m in \u001b[0;36mto_numpy\u001b[0;34m(self, dtype, copy, na_value)\u001b[0m\n\u001b[1;32m   1991\u001b[0m         \u001b[0;32mif\u001b[0m \u001b[0mdtype\u001b[0m \u001b[0;32mis\u001b[0m \u001b[0;32mnot\u001b[0m \u001b[0;32mNone\u001b[0m\u001b[0;34m:\u001b[0m\u001b[0;34m\u001b[0m\u001b[0;34m\u001b[0m\u001b[0m\n\u001b[1;32m   1992\u001b[0m             \u001b[0mdtype\u001b[0m \u001b[0;34m=\u001b[0m \u001b[0mnp\u001b[0m\u001b[0;34m.\u001b[0m\u001b[0mdtype\u001b[0m\u001b[0;34m(\u001b[0m\u001b[0mdtype\u001b[0m\u001b[0;34m)\u001b[0m\u001b[0;34m\u001b[0m\u001b[0;34m\u001b[0m\u001b[0m\n\u001b[0;32m-> 1993\u001b[0;31m         \u001b[0mresult\u001b[0m \u001b[0;34m=\u001b[0m \u001b[0mself\u001b[0m\u001b[0;34m.\u001b[0m\u001b[0m_mgr\u001b[0m\u001b[0;34m.\u001b[0m\u001b[0mas_array\u001b[0m\u001b[0;34m(\u001b[0m\u001b[0mdtype\u001b[0m\u001b[0;34m=\u001b[0m\u001b[0mdtype\u001b[0m\u001b[0;34m,\u001b[0m \u001b[0mcopy\u001b[0m\u001b[0;34m=\u001b[0m\u001b[0mcopy\u001b[0m\u001b[0;34m,\u001b[0m \u001b[0mna_value\u001b[0m\u001b[0;34m=\u001b[0m\u001b[0mna_value\u001b[0m\u001b[0;34m)\u001b[0m\u001b[0;34m\u001b[0m\u001b[0;34m\u001b[0m\u001b[0m\n\u001b[0m\u001b[1;32m   1994\u001b[0m         \u001b[0;32mif\u001b[0m \u001b[0mresult\u001b[0m\u001b[0;34m.\u001b[0m\u001b[0mdtype\u001b[0m \u001b[0;32mis\u001b[0m \u001b[0;32mnot\u001b[0m \u001b[0mdtype\u001b[0m\u001b[0;34m:\u001b[0m\u001b[0;34m\u001b[0m\u001b[0;34m\u001b[0m\u001b[0m\n\u001b[1;32m   1995\u001b[0m             \u001b[0mresult\u001b[0m \u001b[0;34m=\u001b[0m \u001b[0mnp\u001b[0m\u001b[0;34m.\u001b[0m\u001b[0masarray\u001b[0m\u001b[0;34m(\u001b[0m\u001b[0mresult\u001b[0m\u001b[0;34m,\u001b[0m \u001b[0mdtype\u001b[0m\u001b[0;34m=\u001b[0m\u001b[0mdtype\u001b[0m\u001b[0;34m)\u001b[0m\u001b[0;34m\u001b[0m\u001b[0;34m\u001b[0m\u001b[0m\n",
      "\u001b[0;32m/opt/conda/lib/python3.9/site-packages/pandas/core/internals/managers.py\u001b[0m in \u001b[0;36mas_array\u001b[0;34m(self, dtype, copy, na_value)\u001b[0m\n\u001b[1;32m   1692\u001b[0m                 \u001b[0marr\u001b[0m\u001b[0;34m.\u001b[0m\u001b[0mflags\u001b[0m\u001b[0;34m.\u001b[0m\u001b[0mwriteable\u001b[0m \u001b[0;34m=\u001b[0m \u001b[0;32mFalse\u001b[0m\u001b[0;34m\u001b[0m\u001b[0;34m\u001b[0m\u001b[0m\n\u001b[1;32m   1693\u001b[0m         \u001b[0;32melse\u001b[0m\u001b[0;34m:\u001b[0m\u001b[0;34m\u001b[0m\u001b[0;34m\u001b[0m\u001b[0m\n\u001b[0;32m-> 1694\u001b[0;31m             \u001b[0marr\u001b[0m \u001b[0;34m=\u001b[0m \u001b[0mself\u001b[0m\u001b[0;34m.\u001b[0m\u001b[0m_interleave\u001b[0m\u001b[0;34m(\u001b[0m\u001b[0mdtype\u001b[0m\u001b[0;34m=\u001b[0m\u001b[0mdtype\u001b[0m\u001b[0;34m,\u001b[0m \u001b[0mna_value\u001b[0m\u001b[0;34m=\u001b[0m\u001b[0mna_value\u001b[0m\u001b[0;34m)\u001b[0m\u001b[0;34m\u001b[0m\u001b[0;34m\u001b[0m\u001b[0m\n\u001b[0m\u001b[1;32m   1695\u001b[0m             \u001b[0;31m# The underlying data was copied within _interleave, so no need\u001b[0m\u001b[0;34m\u001b[0m\u001b[0;34m\u001b[0m\u001b[0;34m\u001b[0m\u001b[0m\n\u001b[1;32m   1696\u001b[0m             \u001b[0;31m# to further copy if copy=True or setting na_value\u001b[0m\u001b[0;34m\u001b[0m\u001b[0;34m\u001b[0m\u001b[0;34m\u001b[0m\u001b[0m\n",
      "\u001b[0;32m/opt/conda/lib/python3.9/site-packages/pandas/core/internals/managers.py\u001b[0m in \u001b[0;36m_interleave\u001b[0;34m(self, dtype, na_value)\u001b[0m\n\u001b[1;32m   1751\u001b[0m             \u001b[0;32melse\u001b[0m\u001b[0;34m:\u001b[0m\u001b[0;34m\u001b[0m\u001b[0;34m\u001b[0m\u001b[0m\n\u001b[1;32m   1752\u001b[0m                 \u001b[0marr\u001b[0m \u001b[0;34m=\u001b[0m \u001b[0mblk\u001b[0m\u001b[0;34m.\u001b[0m\u001b[0mget_values\u001b[0m\u001b[0;34m(\u001b[0m\u001b[0mdtype\u001b[0m\u001b[0;34m)\u001b[0m\u001b[0;34m\u001b[0m\u001b[0;34m\u001b[0m\u001b[0m\n\u001b[0;32m-> 1753\u001b[0;31m             \u001b[0mresult\u001b[0m\u001b[0;34m[\u001b[0m\u001b[0mrl\u001b[0m\u001b[0;34m.\u001b[0m\u001b[0mindexer\u001b[0m\u001b[0;34m]\u001b[0m \u001b[0;34m=\u001b[0m \u001b[0marr\u001b[0m\u001b[0;34m\u001b[0m\u001b[0;34m\u001b[0m\u001b[0m\n\u001b[0m\u001b[1;32m   1754\u001b[0m             \u001b[0mitemmask\u001b[0m\u001b[0;34m[\u001b[0m\u001b[0mrl\u001b[0m\u001b[0;34m.\u001b[0m\u001b[0mindexer\u001b[0m\u001b[0;34m]\u001b[0m \u001b[0;34m=\u001b[0m \u001b[0;36m1\u001b[0m\u001b[0;34m\u001b[0m\u001b[0;34m\u001b[0m\u001b[0m\n\u001b[1;32m   1755\u001b[0m \u001b[0;34m\u001b[0m\u001b[0m\n",
      "\u001b[0;31mValueError\u001b[0m: could not convert string to float: 'Hargrave'"
     ]
    }
   ],
   "source": []
  },
  {
   "cell_type": "code",
   "execution_count": 9,
   "metadata": {},
   "outputs": [
    {
     "name": "stderr",
     "output_type": "stream",
     "text": [
      "/tmp/ipykernel_2143/2125147102.py:4: FutureWarning: A value is trying to be set on a copy of a DataFrame or Series through chained assignment using an inplace method.\n",
      "The behavior will change in pandas 3.0. This inplace method will never work because the intermediate object on which we are setting values always behaves as a copy.\n",
      "\n",
      "For example, when doing 'df[col].method(value, inplace=True)', try using 'df.method({col: value}, inplace=True)' or df[col] = df[col].method(value) instead, to perform the operation inplace on the original object.\n",
      "\n",
      "\n",
      "  data['Tenure'].fillna(median_value, inplace=True)\n"
     ]
    }
   ],
   "source": [
    "# Поскольку данные столбца особо не коррелируют с остальными, заполним пропущенные значения, например, медианой\n",
    "\n",
    "median_value = data['Tenure'].median()\n",
    "data['Tenure'].fillna(median_value, inplace=True)"
   ]
  },
  {
   "cell_type": "code",
   "execution_count": 10,
   "metadata": {},
   "outputs": [
    {
     "data": {
      "text/plain": [
       "np.int64(0)"
      ]
     },
     "execution_count": 10,
     "metadata": {},
     "output_type": "execute_result"
    }
   ],
   "source": [
    "# Проверка на пропуски после заполнения медианой\n",
    "\n",
    "data['Tenure'].isna().sum()"
   ]
  },
  {
   "cell_type": "code",
   "execution_count": 11,
   "metadata": {},
   "outputs": [
    {
     "data": {
      "text/html": [
       "<div>\n",
       "<style scoped>\n",
       "    .dataframe tbody tr th:only-of-type {\n",
       "        vertical-align: middle;\n",
       "    }\n",
       "\n",
       "    .dataframe tbody tr th {\n",
       "        vertical-align: top;\n",
       "    }\n",
       "\n",
       "    .dataframe thead th {\n",
       "        text-align: right;\n",
       "    }\n",
       "</style>\n",
       "<table border=\"1\" class=\"dataframe\">\n",
       "  <thead>\n",
       "    <tr style=\"text-align: right;\">\n",
       "      <th></th>\n",
       "      <th>CreditScore</th>\n",
       "      <th>Geography</th>\n",
       "      <th>Gender</th>\n",
       "      <th>Age</th>\n",
       "      <th>Tenure</th>\n",
       "      <th>Balance</th>\n",
       "      <th>NumOfProducts</th>\n",
       "      <th>HasCrCard</th>\n",
       "      <th>IsActiveMember</th>\n",
       "      <th>EstimatedSalary</th>\n",
       "      <th>Exited</th>\n",
       "    </tr>\n",
       "  </thead>\n",
       "  <tbody>\n",
       "    <tr>\n",
       "      <th>0</th>\n",
       "      <td>619</td>\n",
       "      <td>France</td>\n",
       "      <td>Female</td>\n",
       "      <td>42</td>\n",
       "      <td>2.0</td>\n",
       "      <td>0.00</td>\n",
       "      <td>1</td>\n",
       "      <td>1</td>\n",
       "      <td>1</td>\n",
       "      <td>101348.88</td>\n",
       "      <td>1</td>\n",
       "    </tr>\n",
       "    <tr>\n",
       "      <th>1</th>\n",
       "      <td>608</td>\n",
       "      <td>Spain</td>\n",
       "      <td>Female</td>\n",
       "      <td>41</td>\n",
       "      <td>1.0</td>\n",
       "      <td>83807.86</td>\n",
       "      <td>1</td>\n",
       "      <td>0</td>\n",
       "      <td>1</td>\n",
       "      <td>112542.58</td>\n",
       "      <td>0</td>\n",
       "    </tr>\n",
       "    <tr>\n",
       "      <th>2</th>\n",
       "      <td>502</td>\n",
       "      <td>France</td>\n",
       "      <td>Female</td>\n",
       "      <td>42</td>\n",
       "      <td>8.0</td>\n",
       "      <td>159660.80</td>\n",
       "      <td>3</td>\n",
       "      <td>1</td>\n",
       "      <td>0</td>\n",
       "      <td>113931.57</td>\n",
       "      <td>1</td>\n",
       "    </tr>\n",
       "    <tr>\n",
       "      <th>3</th>\n",
       "      <td>699</td>\n",
       "      <td>France</td>\n",
       "      <td>Female</td>\n",
       "      <td>39</td>\n",
       "      <td>1.0</td>\n",
       "      <td>0.00</td>\n",
       "      <td>2</td>\n",
       "      <td>0</td>\n",
       "      <td>0</td>\n",
       "      <td>93826.63</td>\n",
       "      <td>0</td>\n",
       "    </tr>\n",
       "    <tr>\n",
       "      <th>4</th>\n",
       "      <td>850</td>\n",
       "      <td>Spain</td>\n",
       "      <td>Female</td>\n",
       "      <td>43</td>\n",
       "      <td>2.0</td>\n",
       "      <td>125510.82</td>\n",
       "      <td>1</td>\n",
       "      <td>1</td>\n",
       "      <td>1</td>\n",
       "      <td>79084.10</td>\n",
       "      <td>0</td>\n",
       "    </tr>\n",
       "    <tr>\n",
       "      <th>...</th>\n",
       "      <td>...</td>\n",
       "      <td>...</td>\n",
       "      <td>...</td>\n",
       "      <td>...</td>\n",
       "      <td>...</td>\n",
       "      <td>...</td>\n",
       "      <td>...</td>\n",
       "      <td>...</td>\n",
       "      <td>...</td>\n",
       "      <td>...</td>\n",
       "      <td>...</td>\n",
       "    </tr>\n",
       "    <tr>\n",
       "      <th>9995</th>\n",
       "      <td>771</td>\n",
       "      <td>France</td>\n",
       "      <td>Male</td>\n",
       "      <td>39</td>\n",
       "      <td>5.0</td>\n",
       "      <td>0.00</td>\n",
       "      <td>2</td>\n",
       "      <td>1</td>\n",
       "      <td>0</td>\n",
       "      <td>96270.64</td>\n",
       "      <td>0</td>\n",
       "    </tr>\n",
       "    <tr>\n",
       "      <th>9996</th>\n",
       "      <td>516</td>\n",
       "      <td>France</td>\n",
       "      <td>Male</td>\n",
       "      <td>35</td>\n",
       "      <td>10.0</td>\n",
       "      <td>57369.61</td>\n",
       "      <td>1</td>\n",
       "      <td>1</td>\n",
       "      <td>1</td>\n",
       "      <td>101699.77</td>\n",
       "      <td>0</td>\n",
       "    </tr>\n",
       "    <tr>\n",
       "      <th>9997</th>\n",
       "      <td>709</td>\n",
       "      <td>France</td>\n",
       "      <td>Female</td>\n",
       "      <td>36</td>\n",
       "      <td>7.0</td>\n",
       "      <td>0.00</td>\n",
       "      <td>1</td>\n",
       "      <td>0</td>\n",
       "      <td>1</td>\n",
       "      <td>42085.58</td>\n",
       "      <td>1</td>\n",
       "    </tr>\n",
       "    <tr>\n",
       "      <th>9998</th>\n",
       "      <td>772</td>\n",
       "      <td>Germany</td>\n",
       "      <td>Male</td>\n",
       "      <td>42</td>\n",
       "      <td>3.0</td>\n",
       "      <td>75075.31</td>\n",
       "      <td>2</td>\n",
       "      <td>1</td>\n",
       "      <td>0</td>\n",
       "      <td>92888.52</td>\n",
       "      <td>1</td>\n",
       "    </tr>\n",
       "    <tr>\n",
       "      <th>9999</th>\n",
       "      <td>792</td>\n",
       "      <td>France</td>\n",
       "      <td>Female</td>\n",
       "      <td>28</td>\n",
       "      <td>5.0</td>\n",
       "      <td>130142.79</td>\n",
       "      <td>1</td>\n",
       "      <td>1</td>\n",
       "      <td>0</td>\n",
       "      <td>38190.78</td>\n",
       "      <td>0</td>\n",
       "    </tr>\n",
       "  </tbody>\n",
       "</table>\n",
       "<p>10000 rows × 11 columns</p>\n",
       "</div>"
      ],
      "text/plain": [
       "      CreditScore Geography  Gender  Age  Tenure    Balance  NumOfProducts  \\\n",
       "0             619    France  Female   42     2.0       0.00              1   \n",
       "1             608     Spain  Female   41     1.0   83807.86              1   \n",
       "2             502    France  Female   42     8.0  159660.80              3   \n",
       "3             699    France  Female   39     1.0       0.00              2   \n",
       "4             850     Spain  Female   43     2.0  125510.82              1   \n",
       "...           ...       ...     ...  ...     ...        ...            ...   \n",
       "9995          771    France    Male   39     5.0       0.00              2   \n",
       "9996          516    France    Male   35    10.0   57369.61              1   \n",
       "9997          709    France  Female   36     7.0       0.00              1   \n",
       "9998          772   Germany    Male   42     3.0   75075.31              2   \n",
       "9999          792    France  Female   28     5.0  130142.79              1   \n",
       "\n",
       "      HasCrCard  IsActiveMember  EstimatedSalary  Exited  \n",
       "0             1               1        101348.88       1  \n",
       "1             0               1        112542.58       0  \n",
       "2             1               0        113931.57       1  \n",
       "3             0               0         93826.63       0  \n",
       "4             1               1         79084.10       0  \n",
       "...         ...             ...              ...     ...  \n",
       "9995          1               0         96270.64       0  \n",
       "9996          1               1        101699.77       0  \n",
       "9997          0               1         42085.58       1  \n",
       "9998          1               0         92888.52       1  \n",
       "9999          1               0         38190.78       0  \n",
       "\n",
       "[10000 rows x 11 columns]"
      ]
     },
     "execution_count": 11,
     "metadata": {},
     "output_type": "execute_result"
    }
   ],
   "source": [
    "# Удалим ненужные столбцы\n",
    "\n",
    "data = data.drop(['RowNumber', 'CustomerId', 'Surname'], axis=1)\n",
    "data"
   ]
  },
  {
   "cell_type": "code",
   "execution_count": 14,
   "metadata": {},
   "outputs": [
    {
     "name": "stdout",
     "output_type": "stream",
     "text": [
      "Index(['credit_score', 'geography', 'gender', 'age', 'tenure', 'balance',\n",
      "       'num_of_products', 'has_cr_card', 'is_active_member', 'estimated_salar',\n",
      "       'exited'],\n",
      "      dtype='object')\n"
     ]
    }
   ],
   "source": [
    "import re\n",
    "\n",
    "data.columns = ['CreditScore', 'Geography', 'Gender', 'Age', 'Tenure', 'Balance', 'NumOfProducts', \n",
    "        'HasCrCard', 'IsActiveMember', 'EstimatedSalar', 'Exited']\n",
    "data.columns = [re.sub(r'(?<!^)(?=[A-Z])', '_', col).lower() for col in data.columns]\n",
    "print(data.columns)  # camel_case_name"
   ]
  },
  {
   "cell_type": "code",
   "execution_count": 15,
   "metadata": {},
   "outputs": [
    {
     "name": "stdout",
     "output_type": "stream",
     "text": [
      "<class 'pandas.core.frame.DataFrame'>\n",
      "RangeIndex: 10000 entries, 0 to 9999\n",
      "Data columns (total 11 columns):\n",
      " #   Column            Non-Null Count  Dtype  \n",
      "---  ------            --------------  -----  \n",
      " 0   credit_score      10000 non-null  int64  \n",
      " 1   geography         10000 non-null  object \n",
      " 2   gender            10000 non-null  object \n",
      " 3   age               10000 non-null  int64  \n",
      " 4   tenure            10000 non-null  float64\n",
      " 5   balance           10000 non-null  float64\n",
      " 6   num_of_products   10000 non-null  int64  \n",
      " 7   has_cr_card       10000 non-null  int64  \n",
      " 8   is_active_member  10000 non-null  int64  \n",
      " 9   estimated_salar   10000 non-null  float64\n",
      " 10  exited            10000 non-null  int64  \n",
      "dtypes: float64(3), int64(6), object(2)\n",
      "memory usage: 859.5+ KB\n"
     ]
    }
   ],
   "source": [
    "data.head()\n",
    "data.info()"
   ]
  },
  {
   "cell_type": "code",
   "execution_count": 16,
   "metadata": {},
   "outputs": [
    {
     "data": {
      "text/plain": [
       "gender\n",
       "Male      5457\n",
       "Female    4543\n",
       "Name: count, dtype: int64"
      ]
     },
     "execution_count": 16,
     "metadata": {},
     "output_type": "execute_result"
    }
   ],
   "source": [
    "# Проверим количество уникальных значений в колонках gender и geography\n",
    "data['gender'].value_counts()"
   ]
  },
  {
   "cell_type": "code",
   "execution_count": 17,
   "metadata": {},
   "outputs": [
    {
     "data": {
      "text/plain": [
       "geography\n",
       "France     5014\n",
       "Germany    2509\n",
       "Spain      2477\n",
       "Name: count, dtype: int64"
      ]
     },
     "execution_count": 17,
     "metadata": {},
     "output_type": "execute_result"
    }
   ],
   "source": [
    "data['geography'].value_counts()"
   ]
  },
  {
   "cell_type": "markdown",
   "metadata": {},
   "source": [
    "**Выводы по предобработке данных** \n",
    "\n",
    "Привели название столбцов к единому стилю\n",
    "\n",
    "Удалили ненужные столбцы"
   ]
  },
  {
   "cell_type": "markdown",
   "metadata": {},
   "source": [
    "## Исследование задачи"
   ]
  },
  {
   "cell_type": "code",
   "execution_count": 18,
   "metadata": {},
   "outputs": [],
   "source": [
    "# Сохраним обучающие признаки в переменной features, целевой признак в переменной target и объявим их:\n",
    "\n",
    "features = data.drop('exited', axis = 1)\n",
    "target = data['exited']"
   ]
  },
  {
   "cell_type": "markdown",
   "metadata": {},
   "source": [
    "Разделим весь набор данных один раз для выделения обучающей выборки - 70% для обучения и временно назначим остаток для тестирования. Затем еще раз, чтобы разбить оставшиеся данные поровну на датасеты для тестирования и валидации. Для пропорциональности классов при разделении на обучающий и проверяющий датасеты будем использовать параметр stratify функции train_test_split. "
   ]
  },
  {
   "cell_type": "code",
   "execution_count": 19,
   "metadata": {},
   "outputs": [],
   "source": [
    "features_train, features_test, target_train, target_test = train_test_split(\n",
    "    features, target, train_size=0.7, random_state=12345, stratify=target)"
   ]
  },
  {
   "cell_type": "code",
   "execution_count": 20,
   "metadata": {},
   "outputs": [],
   "source": [
    "features_test, features_valid, target_test, target_valid = train_test_split(\n",
    "    features_test, target_test, train_size=0.5, random_state=12345, stratify=target_test)"
   ]
  },
  {
   "cell_type": "code",
   "execution_count": 21,
   "metadata": {
    "scrolled": true
   },
   "outputs": [
    {
     "data": {
      "text/plain": [
       "(7000, 10)"
      ]
     },
     "metadata": {},
     "output_type": "display_data"
    },
    {
     "data": {
      "text/plain": [
       "(7000,)"
      ]
     },
     "metadata": {},
     "output_type": "display_data"
    },
    {
     "data": {
      "text/plain": [
       "(1500, 10)"
      ]
     },
     "metadata": {},
     "output_type": "display_data"
    },
    {
     "data": {
      "text/plain": [
       "(1500,)"
      ]
     },
     "metadata": {},
     "output_type": "display_data"
    },
    {
     "data": {
      "text/plain": [
       "(1500, 10)"
      ]
     },
     "metadata": {},
     "output_type": "display_data"
    },
    {
     "data": {
      "text/plain": [
       "(1500,)"
      ]
     },
     "metadata": {},
     "output_type": "display_data"
    }
   ],
   "source": [
    "# Проверим корректность разбиения\n",
    "\n",
    "display(\n",
    "    features_train.shape, \n",
    "    target_train.shape, \n",
    "    features_test.shape, \n",
    "    target_test.shape,\n",
    "    features_valid.shape, \n",
    "    target_valid.shape)"
   ]
  },
  {
   "cell_type": "code",
   "execution_count": null,
   "metadata": {},
   "outputs": [],
   "source": []
  },
  {
   "cell_type": "markdown",
   "metadata": {},
   "source": [
    "Оценим баланс целевого признака, т.е. отток клиентов:"
   ]
  },
  {
   "cell_type": "code",
   "execution_count": 22,
   "metadata": {},
   "outputs": [
    {
     "data": {
      "text/plain": [
       "exited\n",
       "0    0.7963\n",
       "1    0.2037\n",
       "Name: proportion, dtype: float64"
      ]
     },
     "metadata": {},
     "output_type": "display_data"
    }
   ],
   "source": [
    "display(data['exited'].value_counts(normalize=True))"
   ]
  },
  {
   "cell_type": "markdown",
   "metadata": {},
   "source": [
    "Вывод:\n",
    "\n",
    "классы несбалансированы, примерно в 80% случаев клиенты не уходят из банка.\n",
    "Визуализируем распределение:"
   ]
  },
  {
   "cell_type": "code",
   "execution_count": 23,
   "metadata": {},
   "outputs": [
    {
     "data": {
      "image/png": "[encoded data removed]",
      "text/plain": [
       "<Figure size 432x288 with 1 Axes>"
      ]
     },
     "metadata": {
      "needs_background": "light"
     },
     "output_type": "display_data"
    }
   ],
   "source": [
    "sns.countplot(x='exited', data=data)\n",
    "plt.title('Распределение оттока клиентов')\n",
    "plt.show()\n",
    "plt.show()"
   ]
  },
  {
   "cell_type": "markdown",
   "metadata": {},
   "source": [
    "Вывод:\n",
    "\n",
    "график также демонстрирует дисбаланс классов."
   ]
  },
  {
   "cell_type": "markdown",
   "metadata": {},
   "source": [
    "Используя технику OneHotEncoder закодируем категориальные переменные 'gender' и 'geography'"
   ]
  },
  {
   "cell_type": "code",
   "execution_count": 24,
   "metadata": {},
   "outputs": [],
   "source": [
    "# encoder = OneHotEncoder(sparse=False, drop='first')\n",
    "columns_to_encode = ['gender', 'geography']\n",
    "\n",
    "\n",
    "\n",
    "encoder = OneHotEncoder(sparse_output = False, drop='first')\n",
    "encoder.fit(features_train[columns_to_encode])\n",
    "\n",
    "\n",
    "# Преобразуем категориальные столбцы обучающей выборки\n",
    "# Метод .get_feature_names_out() позволяет получить названия столбцов, \n",
    "# которые получаться на выходе после енкодера\n",
    "features_train[encoder.get_feature_names_out()] = encoder.transform(features_train[columns_to_encode])\n",
    "\n",
    "\n",
    "# Преобразовываем тестовую и валидационную выборки\n",
    "features_test[encoder.get_feature_names_out()] = encoder.transform(features_test[columns_to_encode])\n",
    "features_valid[encoder.get_feature_names_out()] = encoder.transform(features_valid[columns_to_encode])\n",
    "\n",
    "# Далее удаляем исходные столбцы, поскольу они больше нам не нужны\n",
    "features_train = features_train.drop(columns_to_encode, axis=1)\n",
    "features_test = features_test.drop(columns_to_encode, axis=1)\n",
    "features_valid = features_valid.drop(columns_to_encode, axis=1)\n",
    "\n"
   ]
  },
  {
   "cell_type": "code",
   "execution_count": 25,
   "metadata": {},
   "outputs": [
    {
     "name": "stdout",
     "output_type": "stream",
     "text": [
      "(7000, 11)\n",
      "(1500, 11)\n",
      "(1500, 11)\n",
      "(7000,)\n",
      "(1500,)\n",
      "(1500,)\n"
     ]
    }
   ],
   "source": [
    "\n",
    "print(features_train.shape)\n",
    "print(features_valid.shape)\n",
    "print(features_test.shape)\n",
    "print(target_train.shape)\n",
    "print(target_valid.shape)\n",
    "print(target_test.shape)"
   ]
  },
  {
   "cell_type": "markdown",
   "metadata": {},
   "source": [
    "Обучим модели на обучающей выборке без учета дисбаланса классов и проверим её на валидационной выборке."
   ]
  },
  {
   "cell_type": "code",
   "execution_count": 26,
   "metadata": {},
   "outputs": [],
   "source": [
    "def roc_graph(target_valid, probabilities_one_valid):\n",
    "    fpr, tpr, thresholds = roc_curve(target_valid, probabilities_one_valid)\n",
    "    plt.figure()\n",
    "    plt.plot(fpr, tpr, color=\"darkorange\") \n",
    "    plt.plot([0, 1], [0, 1], linestyle='--')\n",
    "    plt.xlim([-0.02, 1.0])\n",
    "    plt.ylim([0.0, 1.02])\n",
    "    plt.xlabel(\"False Positive Rate\")\n",
    "    plt.ylabel(\"True Positive Rate\")\n",
    "    plt.title(\"ROC-кривая\") \n",
    "    plt.grid()\n",
    "    plt.show()"
   ]
  },
  {
   "cell_type": "code",
   "execution_count": 27,
   "metadata": {},
   "outputs": [
    {
     "name": "stdout",
     "output_type": "stream",
     "text": [
      "F1 для дерева решений = 0.6213592233009708\n",
      "при глубине дерева = 6\n",
      "AUC-ROC = 0.8580670827903147\n"
     ]
    },
    {
     "data": {
      "image/png": "[encoded data removed]",
      "text/plain": [
       "<Figure size 432x288 with 1 Axes>"
      ]
     },
     "metadata": {
      "needs_background": "light"
     },
     "output_type": "display_data"
    }
   ],
   "source": [
    "# Дерево решений \n",
    "\n",
    "best_model = None\n",
    "best_f1_model = 0\n",
    "best_depth = 0\n",
    "best_auc_roc = 0\n",
    "for depth in range(1, 20):\n",
    "    model = DecisionTreeClassifier(random_state=12345, max_depth = depth) \n",
    "    model.fit(features_train, target_train) \n",
    "    predictions = model.predict(features_valid) \n",
    "    result_f1 = f1_score(target_valid, predictions) \n",
    "    result_auc_roc = roc_auc_score(target_valid, model.predict_proba(features_valid)[:, 1])\n",
    "    if result_f1 > best_f1_model:\n",
    "        best_f1_model = result_f1\n",
    "        best_depth = depth\n",
    "        best_auc_roc = result_auc_roc\n",
    "        best_model = model # сохраним лучшую модель\n",
    "print('F1 для дерева решений =', best_f1_model)\n",
    "print('при глубине дерева =', best_depth)\n",
    "print('AUC-ROC =', best_auc_roc)\n",
    "\n",
    "roc_graph(target_valid,  model.predict_proba(features_valid)[:,1])"
   ]
  },
  {
   "cell_type": "code",
   "execution_count": 28,
   "metadata": {
    "scrolled": false
   },
   "outputs": [
    {
     "name": "stdout",
     "output_type": "stream",
     "text": [
      "F1 для случайного леса = 0.6134301270417423\n",
      "Максимальная глубина = 18\n",
      "Число деревьев = 7\n",
      "AUC-ROC = 0.8265628643939915\n"
     ]
    },
    {
     "data": {
      "image/png": "[encoded data removed]",
      "text/plain": [
       "<Figure size 432x288 with 1 Axes>"
      ]
     },
     "metadata": {
      "needs_background": "light"
     },
     "output_type": "display_data"
    },
    {
     "name": "stdout",
     "output_type": "stream",
     "text": [
      "CPU times: user 7.67 s, sys: 28 ms, total: 7.7 s\n",
      "Wall time: 7.86 s\n"
     ]
    }
   ],
   "source": [
    "%%time \n",
    "\n",
    "# Случайный лес\n",
    "\n",
    "best_model_rf = None\n",
    "best_f1_rf = 0\n",
    "best_depth_rf = 0\n",
    "best_est_rf = 0\n",
    "best_roc_auc_score_rf = 0\n",
    "for depth in range(1, 20):\n",
    "    for est in range(1, 10):\n",
    "        model_rf = RandomForestClassifier(random_state=12345, n_estimators=est, max_depth=depth)\n",
    "        model_rf.fit(features_train, target_train)\n",
    "        predictions_valid_rf = model_rf.predict(features_valid)\n",
    "        f1_rf = f1_score(target_valid, predictions_valid_rf)\n",
    "        roc_auc_score_rf = roc_auc_score(target_valid, model_rf.predict_proba(features_valid)[:,1])\n",
    "        if f1_rf > best_f1_rf:\n",
    "            best_f1_rf = f1_rf\n",
    "            best_depth_rf = depth\n",
    "            best_est_rf = est\n",
    "            best_roc_auc_score_rf = roc_auc_score_rf\n",
    "            best_model_rf = model_rf\n",
    "print('F1 для случайного леса =', best_f1_rf)\n",
    "print('Максимальная глубина =', best_depth_rf)\n",
    "print('Число деревьев =', best_est_rf)\n",
    "print('AUC-ROC =', best_roc_auc_score_rf)\n",
    "\n",
    "\n",
    "roc_graph(target_valid,  model_rf.predict_proba(features_valid)[:,1])"
   ]
  },
  {
   "cell_type": "code",
   "execution_count": 29,
   "metadata": {},
   "outputs": [
    {
     "name": "stdout",
     "output_type": "stream",
     "text": [
      "F1 для логистической регрессии = 0.35096153846153844\n",
      "AUC-ROC для логистической регрессии = 0.7760065848137733\n"
     ]
    }
   ],
   "source": [
    "# Создадим объект StandardScaler\n",
    "\n",
    "scaler = StandardScaler()\n",
    "\n",
    "# Масштабируем признаки обучающей выборки\n",
    "\n",
    "features_train_scaled = scaler.fit_transform(features_train)\n",
    "\n",
    "# Применяем трансформацию к валидационной выборке\n",
    "\n",
    "features_valid_scaled = scaler.transform(features_valid)\n",
    "\n",
    "# Инициализируем модель логистической регрессии и обучаем ее\n",
    "\n",
    "lr = LogisticRegression()\n",
    "lr.fit(features_train_scaled, target_train)\n",
    "\n",
    "# Оценим модель на валидационной выборке\n",
    "pred_val_lr = lr.predict(features_valid_scaled)\n",
    "print('F1 для логистической регрессии =', f1_score(target_valid, pred_val_lr))\n",
    "print('AUC-ROC для логистической регрессии =', roc_auc_score(target_valid, \n",
    "                                                             lr.predict_proba(features_valid_scaled)[:, 1]))\n",
    "\n"
   ]
  },
  {
   "cell_type": "markdown",
   "metadata": {},
   "source": [
    "**Выводы по исследованию задачи:**\n",
    "\n",
    "Без учёта дисбаланса наибольшее значение F1-меры наблюдается в моделях дерева решений и случайного леса - 0.573 и 0.578 соответственно. Поскольку значения почти одинаковые проверим обе модели с учетом дисбаланса классов."
   ]
  },
  {
   "cell_type": "markdown",
   "metadata": {},
   "source": [
    "## Борьба с дисбалансом"
   ]
  },
  {
   "cell_type": "code",
   "execution_count": 30,
   "metadata": {},
   "outputs": [
    {
     "name": "stdout",
     "output_type": "stream",
     "text": [
      "Collecting imblearn\n",
      "  Downloading imblearn-0.0-py2.py3-none-any.whl (1.9 kB)\n",
      "Collecting imbalanced-learn\n",
      "  Downloading imbalanced_learn-0.12.4-py3-none-any.whl (258 kB)\n",
      "\u001b[K     |████████████████████████████████| 258 kB 2.2 MB/s eta 0:00:01\n",
      "\u001b[?25hRequirement already satisfied: threadpoolctl>=2.0.0 in /opt/conda/lib/python3.9/site-packages (from imbalanced-learn->imblearn) (3.1.0)\n",
      "Requirement already satisfied: scikit-learn>=1.0.2 in /opt/conda/lib/python3.9/site-packages (from imbalanced-learn->imblearn) (1.5.2)\n",
      "Requirement already satisfied: numpy>=1.17.3 in /opt/conda/lib/python3.9/site-packages (from imbalanced-learn->imblearn) (2.0.2)\n",
      "Requirement already satisfied: joblib>=1.1.1 in /opt/conda/lib/python3.9/site-packages (from imbalanced-learn->imblearn) (1.4.2)\n",
      "Requirement already satisfied: scipy>=1.5.0 in /opt/conda/lib/python3.9/site-packages (from imbalanced-learn->imblearn) (1.13.1)\n",
      "Installing collected packages: imbalanced-learn, imblearn\n",
      "Successfully installed imbalanced-learn-0.12.4 imblearn-0.0\n"
     ]
    }
   ],
   "source": [
    "! pip install imblearn"
   ]
  },
  {
   "cell_type": "code",
   "execution_count": 31,
   "metadata": {
    "scrolled": true
   },
   "outputs": [
    {
     "name": "stdout",
     "output_type": "stream",
     "text": [
      "(2852, 11)\n",
      "0.5\n"
     ]
    }
   ],
   "source": [
    "from imblearn.under_sampling import RandomUnderSampler\n",
    "\n",
    "rus = RandomUnderSampler(random_state=42)\n",
    "\n",
    "features_train_res, target_train_res = rus.fit_resample(features_train, target_train)\n",
    "\n",
    "print(features_train_res.shape)\n",
    "print(target_train_res.mean())"
   ]
  },
  {
   "cell_type": "code",
   "execution_count": 32,
   "metadata": {},
   "outputs": [
    {
     "name": "stdout",
     "output_type": "stream",
     "text": [
      "Новая размерность увеличенной обучающей выборки:  (11148, 11)\n",
      "0.5\n",
      "Новая размерность уменьшенной обучающей выборки:  (2852, 11)\n",
      "0.5\n"
     ]
    }
   ],
   "source": [
    "from imblearn.over_sampling import SMOTE\n",
    "from imblearn.under_sampling import RandomUnderSampler\n",
    "\n",
    "# После импорта библиотеки может появиться ошибка, тогда просто перезапусти ядро jupyter-ноутбука и ошибка должна исчезнуть :)\n",
    "\n",
    "sm = SMOTE(random_state=42)\n",
    "\n",
    "features_train_up, target_train_up = sm.fit_resample(features_train, target_train)\n",
    "# features_valid_up, target_valid_up = sm.fit_resample(features_valid, target_valid)\n",
    "\n",
    "print(\"Новая размерность увеличенной обучающей выборки: \", features_train_up.shape)\n",
    "# print('Новая размерность увеличенной валидационной выборки:', features_valid_up.shape)\n",
    "print(target_train_up.mean())\n",
    "# print(target_valid_up.mean())\n",
    "\n",
    "# Аналогично для уменьшения выборки\n",
    "\n",
    "rus = RandomUnderSampler(random_state=42)\n",
    "\n",
    "features_train_down, target_train_down = rus.fit_resample(features_train, target_train)\n",
    "# features_valid_down, target_valid_down = rus.fit_resample(features_valid, target_valid)\n",
    "print(\"Новая размерность уменьшенной обучающей выборки: \", features_train_down.shape)\n",
    "# print('Новая размерномть уменьшенной валидационной выборки:', features_valid_down.shape)\n",
    "print(target_train_down.mean())\n",
    "# print(target_valid_down.mean())"
   ]
  },
  {
   "cell_type": "code",
   "execution_count": 33,
   "metadata": {},
   "outputs": [
    {
     "name": "stdout",
     "output_type": "stream",
     "text": [
      "F1 для дерева решений = 0.6246153846153846\n",
      "при глубине дерева = 7\n",
      "AUC-ROC = 0.8395939364839837\n"
     ]
    },
    {
     "data": {
      "image/png": "[encoded data removed]",
      "text/plain": [
       "<Figure size 432x288 with 1 Axes>"
      ]
     },
     "metadata": {
      "needs_background": "light"
     },
     "output_type": "display_data"
    }
   ],
   "source": [
    "# Дерево решений на увеличенной выборке\n",
    "\n",
    "best_model_up = None\n",
    "best_f1_model_up = 0\n",
    "best_depth_up = 0\n",
    "best_auc_roc_up = 0\n",
    "for depth in range(1, 30):\n",
    "    model_up = DecisionTreeClassifier(random_state=12345, max_depth = depth) \n",
    "    model_up.fit(features_train_up, target_train_up) \n",
    "    pred_up = model_up.predict(features_valid) \n",
    "    result_f1_up = f1_score(target_valid, pred_up) \n",
    "    result_auc_roc_up = roc_auc_score(target_valid, model_up.predict_proba(features_valid)[:, 1])\n",
    "    if result_f1_up > best_f1_model_up:\n",
    "        best_f1_model_up = result_f1_up\n",
    "        best_depth_up = depth\n",
    "        best_auc_roc_up = result_auc_roc_up\n",
    "        best_model_up = model_up # сохраним лучшую модель\n",
    "print('F1 для дерева решений =', best_f1_model_up)\n",
    "print('при глубине дерева =', best_depth_up)\n",
    "print('AUC-ROC =', best_auc_roc_up)\n",
    "\n",
    "roc_graph(target_valid,  model_up.predict_proba(features_valid)[:,1])"
   ]
  },
  {
   "cell_type": "code",
   "execution_count": 34,
   "metadata": {},
   "outputs": [
    {
     "name": "stdout",
     "output_type": "stream",
     "text": [
      "F1 для дерева решений на уменьшенной выборке = 0.5846153846153846\n",
      "при глубине дерева = 8\n",
      "AUC-ROC = 0.8166170519240004\n"
     ]
    },
    {
     "data": {
      "image/png": "[encoded data removed]",
      "text/plain": [
       "<Figure size 432x288 with 1 Axes>"
      ]
     },
     "metadata": {
      "needs_background": "light"
     },
     "output_type": "display_data"
    }
   ],
   "source": [
    "# Дерево решений на уменьшенной выборке\n",
    "\n",
    "best_model_down = None\n",
    "best_f1_model_down = 0\n",
    "best_depth_down = 0\n",
    "best_auc_roc_down = 0\n",
    "for depth in range(1, 30):\n",
    "    model_down = DecisionTreeClassifier(random_state=12345, max_depth = depth) \n",
    "    model_down.fit(features_train_down, target_train_down) \n",
    "    pred_down = model_down.predict(features_valid) \n",
    "    result_f1_down = f1_score(target_valid, pred_down) \n",
    "    result_auc_roc_down = roc_auc_score(target_valid, model_down.predict_proba(features_valid)[:, 1])\n",
    "    if result_f1_down > best_f1_model_down:\n",
    "        best_f1_model_down = result_f1_down\n",
    "        best_depth_down = depth\n",
    "        best_auc_roc_down = result_auc_roc_down\n",
    "        best_model_down = model_down # сохраним лучшую модель\n",
    "print('F1 для дерева решений на уменьшенной выборке =', best_f1_model_down)\n",
    "print('при глубине дерева =', best_depth_down)\n",
    "print('AUC-ROC =', best_auc_roc_down)\n",
    "\n",
    "roc_graph(target_valid,  model_down.predict_proba(features_valid)[:,1])"
   ]
  },
  {
   "cell_type": "code",
   "execution_count": 35,
   "metadata": {},
   "outputs": [
    {
     "name": "stdout",
     "output_type": "stream",
     "text": [
      "F1 для дерева решений взвешивание классов = 0.5846994535519126\n",
      "при глубине дерева = 10\n",
      "AUC-ROC = 0.6872556416763839\n"
     ]
    },
    {
     "data": {
      "image/png": "[encoded data removed]",
      "text/plain": [
       "<Figure size 432x288 with 1 Axes>"
      ]
     },
     "metadata": {
      "needs_background": "light"
     },
     "output_type": "display_data"
    }
   ],
   "source": [
    "# Дерево решений взвешивание классов\n",
    "\n",
    "best_model_clw = None\n",
    "best_f1_model_clw = 0\n",
    "best_depth_clw = 0\n",
    "best_auc_roc_clw = 0\n",
    "for depth in range(1, 30):\n",
    "    model_clw = DecisionTreeClassifier(random_state=12345, max_depth = depth, class_weight = 'balanced') \n",
    "    model_clw.fit(features_train, target_train) \n",
    "    pred_clw = model_clw.predict(features_valid) \n",
    "    result_f1_clw = f1_score(target_valid, pred_clw) \n",
    "    result_auc_roc_clw = roc_auc_score(target_valid, model_clw.predict_proba(features_valid)[:, 1])\n",
    "    if result_f1_clw > best_f1_model_clw:\n",
    "        best_f1_model_clw = result_f1_clw\n",
    "        best_depth_clw = depth\n",
    "        best_auc_roc_clw = result_auc_roc_down\n",
    "        best_model_clw = model_clw # сохраним лучшую модель\n",
    "print('F1 для дерева решений взвешивание классов =', best_f1_model_clw)\n",
    "print('при глубине дерева =', best_depth_clw)\n",
    "print('AUC-ROC =', best_auc_roc_clw)\n",
    "\n",
    "roc_graph(target_valid,  model_clw.predict_proba(features_valid)[:,1])"
   ]
  },
  {
   "cell_type": "code",
   "execution_count": 36,
   "metadata": {},
   "outputs": [
    {
     "name": "stdout",
     "output_type": "stream",
     "text": [
      "F1 для случайного леса на увеличенной выборке = 0.6366559485530546\n",
      "Максимальная глубина = 9\n",
      "Число деревьев = 9\n",
      "AUC-ROC = 0.8586158172714178\n"
     ]
    },
    {
     "data": {
      "image/png": "[encoded data removed]",
      "text/plain": [
       "<Figure size 432x288 with 1 Axes>"
      ]
     },
     "metadata": {
      "needs_background": "light"
     },
     "output_type": "display_data"
    },
    {
     "name": "stdout",
     "output_type": "stream",
     "text": [
      "CPU times: user 1min 10s, sys: 428 ms, total: 1min 11s\n",
      "Wall time: 1min 12s\n"
     ]
    }
   ],
   "source": [
    "%%time \n",
    "\n",
    "# Случайный лес на увеличенной выборке\n",
    "\n",
    "best_model_rf_up = None\n",
    "best_f1_rf_up = 0\n",
    "best_depth_rf_up = 0\n",
    "best_est_rf_up = 0\n",
    "best_roc_auc_score_rf_up = 0\n",
    "for depth in range(1, 30):\n",
    "    for est in range(1, 20):\n",
    "        model_rf_up = RandomForestClassifier(random_state=12345, n_estimators=est, max_depth=depth)\n",
    "        model_rf_up.fit(features_train_up, target_train_up)\n",
    "        pred_val_rf_up = model_rf_up.predict(features_valid)\n",
    "        f1_rf_up = f1_score(target_valid, pred_val_rf_up)\n",
    "        roc_auc_score_rf_up = roc_auc_score(target_valid, model_rf_up.predict_proba(features_valid)[:,1])\n",
    "        if f1_rf_up > best_f1_rf_up:\n",
    "            best_f1_rf_up = f1_rf_up\n",
    "            best_depth_rf_up = depth\n",
    "            best_est_rf_up = est\n",
    "            best_roc_auc_score_rf_up = roc_auc_score_rf_up\n",
    "            best_model_rf_up = model_rf_up\n",
    "print('F1 для случайного леса на увеличенной выборке =', best_f1_rf_up)\n",
    "print('Максимальная глубина =', best_depth_rf_up)\n",
    "print('Число деревьев =', best_est_rf_up)\n",
    "print('AUC-ROC =', best_roc_auc_score_rf_up)\n",
    "\n",
    "roc_graph(target_valid,  model_rf_up.predict_proba(features_valid)[:,1])"
   ]
  },
  {
   "cell_type": "code",
   "execution_count": 37,
   "metadata": {},
   "outputs": [
    {
     "name": "stdout",
     "output_type": "stream",
     "text": [
      "F1 для случайного леса на уменьшенной выборке = 0.6151930261519303\n",
      "Максимальная глубина = 8\n",
      "Число деревьев = 19\n",
      "AUC-ROC = 0.8677385280197545\n"
     ]
    },
    {
     "data": {
      "image/png": "[encoded data removed]",
      "text/plain": [
       "<Figure size 432x288 with 1 Axes>"
      ]
     },
     "metadata": {
      "needs_background": "light"
     },
     "output_type": "display_data"
    },
    {
     "name": "stdout",
     "output_type": "stream",
     "text": [
      "CPU times: user 26.8 s, sys: 92 ms, total: 26.9 s\n",
      "Wall time: 27.5 s\n"
     ]
    }
   ],
   "source": [
    "%%time \n",
    "\n",
    "# Случайный лес на уменьшенной выборке\n",
    "\n",
    "best_model_rа_down = None\n",
    "best_f1_rf_down = 0\n",
    "best_depth_rf_down = 0\n",
    "best_est_rf_down = 0\n",
    "best_roc_auc_score_rf_down = 0\n",
    "for depth in range(1, 30):\n",
    "    for est in range(1, 20):\n",
    "        model_rf_down = RandomForestClassifier(random_state=12345, n_estimators=est, max_depth=depth)\n",
    "        model_rf_down.fit(features_train_down, target_train_down)\n",
    "        pred_val_rf_down = model_rf_down.predict(features_valid)\n",
    "        f1_rf_down = f1_score(target_valid, pred_val_rf_down)\n",
    "        roc_auc_score_rf_down = roc_auc_score(target_valid, model_rf_down.predict_proba(features_valid)[:,1])\n",
    "        if f1_rf_down > best_f1_rf_down:\n",
    "            best_f1_rf_down = f1_rf_down\n",
    "            best_depth_rf_down = depth\n",
    "            best_est_rf_down = est\n",
    "            best_roc_auc_score_rf_down = roc_auc_score_rf_down\n",
    "            best_model_rf_down = model_rf_down\n",
    "print('F1 для случайного леса на уменьшенной выборке =', best_f1_rf_down)\n",
    "print('Максимальная глубина =', best_depth_rf_down)\n",
    "print('Число деревьев =', best_est_rf_down)\n",
    "print('AUC-ROC =', best_roc_auc_score_rf_down)\n",
    "\n",
    "roc_graph(target_valid,  model_rf_down.predict_proba(features_valid)[:,1])"
   ]
  },
  {
   "cell_type": "code",
   "execution_count": 38,
   "metadata": {},
   "outputs": [
    {
     "name": "stdout",
     "output_type": "stream",
     "text": [
      "F1 для случайного леса взвешивание классов = 0.637593984962406\n",
      "Максимальная глубина = 9\n",
      "Число деревьев = 17\n",
      "AUC-ROC = 0.8601824542149668\n"
     ]
    },
    {
     "data": {
      "image/png": "[encoded data removed]",
      "text/plain": [
       "<Figure size 432x288 with 1 Axes>"
      ]
     },
     "metadata": {
      "needs_background": "light"
     },
     "output_type": "display_data"
    },
    {
     "name": "stdout",
     "output_type": "stream",
     "text": [
      "CPU times: user 47.5 s, sys: 84 ms, total: 47.5 s\n",
      "Wall time: 48.5 s\n"
     ]
    }
   ],
   "source": [
    "%%time \n",
    "\n",
    "# Случайный лес взвешивание классов\n",
    "\n",
    "best_model_rа_clw = None\n",
    "best_f1_rf_clw = 0\n",
    "best_depth_rf_clw = 0\n",
    "best_est_rf_clw = 0\n",
    "best_roc_auc_score_rf_clw = 0\n",
    "for depth in range(1, 30):\n",
    "    for est in range(1, 20):\n",
    "        model_rf_clw = RandomForestClassifier(random_state=12345, n_estimators=est, max_depth=depth, class_weight='balanced')\n",
    "        model_rf_clw.fit(features_train, target_train)\n",
    "        pred_val_rf_clw = model_rf_clw.predict(features_valid)\n",
    "        f1_rf_clw = f1_score(target_valid, pred_val_rf_clw)\n",
    "        roc_auc_score_rf_clw = roc_auc_score(target_valid, model_rf_clw.predict_proba(features_valid)[:,1])\n",
    "        if f1_rf_clw > best_f1_rf_clw:\n",
    "            best_f1_rf_clw = f1_rf_clw\n",
    "            best_depth_rf_clw = depth\n",
    "            best_est_rf_clw = est\n",
    "            best_roc_auc_score_rf_clw = roc_auc_score_rf_clw\n",
    "            best_model_rf_clw = model_rf_clw\n",
    "print('F1 для случайного леса взвешивание классов =', best_f1_rf_clw)\n",
    "print('Максимальная глубина =', best_depth_rf_clw)\n",
    "print('Число деревьев =', best_est_rf_clw)\n",
    "print('AUC-ROC =', best_roc_auc_score_rf_clw)\n",
    "\n",
    "roc_graph(target_valid,  model_rf_clw.predict_proba(features_valid)[:,1])"
   ]
  },
  {
   "cell_type": "markdown",
   "metadata": {},
   "source": [
    "**Выводы по борьбе с дисбалансом:**\n",
    "\n",
    "Наибольшее значение F1-меры получили на для модели случайного леса, обученной на увеличенной выборке."
   ]
  },
  {
   "cell_type": "markdown",
   "metadata": {},
   "source": [
    "## Тестирование модели"
   ]
  },
  {
   "cell_type": "code",
   "execution_count": 39,
   "metadata": {},
   "outputs": [
    {
     "name": "stdout",
     "output_type": "stream",
     "text": [
      "F1 = 0.5984251968503937\n",
      "AUC-ROC = 0.8600710524299054\n",
      "Точность лучшей модели = 0.83\n"
     ]
    },
    {
     "data": {
      "image/png": "[encoded data removed]",
      "text/plain": [
       "<Figure size 432x288 with 1 Axes>"
      ]
     },
     "metadata": {
      "needs_background": "light"
     },
     "output_type": "display_data"
    }
   ],
   "source": [
    "# Тестирование лучшей модели случайного леса при взвещивании классов\n",
    "\n",
    "\n",
    "predictions_test = best_model_rf_clw.predict(features_test) # для предсказаний берём лучшую модель\n",
    "print('F1 =', f1_score(target_test, predictions_test))\n",
    "print('AUC-ROC =', roc_auc_score(target_test, best_model_rf_clw.predict_proba(features_test)[:,1]));\n",
    "print('Точность лучшей модели =', best_model_rf_clw.score(features_test, target_test))\n",
    "\n",
    "roc_graph(target_test, best_model_rf_clw.predict_proba(features_test)[:,1])"
   ]
  },
  {
   "cell_type": "markdown",
   "metadata": {},
   "source": [
    "Проведем проверку модели на адекватность с помощью DummyClassifier(), данная модель будет всегда выдавать самое часто встречающееся значение в целевом признаке вне зависимости от того какие данные ей подаются на вход.  \n",
    "Сравним нашу лучшую модель с данной константной моделью."
   ]
  },
  {
   "cell_type": "code",
   "execution_count": 40,
   "metadata": {
    "scrolled": true
   },
   "outputs": [
    {
     "name": "stdout",
     "output_type": "stream",
     "text": [
      "Точность константной модели = 0.796\n"
     ]
    }
   ],
   "source": [
    "dummy_clf = DummyClassifier(strategy=\"most_frequent\")\n",
    "dummy_clf.fit(features_test, target_test)\n",
    "DummyClassifier(strategy='most_frequent')\n",
    "dummy_clf.predict(features_test)\n",
    "print('Точность константной модели =', dummy_clf.score(features_test, target_test))"
   ]
  },
  {
   "cell_type": "markdown",
   "metadata": {},
   "source": [
    "## Выводы исследования\n",
    "\n",
    "Для прогнозирования оттока клиентов из \"Бета-Банка\" построили модель с предельно большим значением F1-меры на основе исторических данных поведении клиентов и расторжении договоров с банком. Для этого исследовали данные на дисбаланс и применили различные методы борьбы с дисбалансом классов - увеличение, уменьшение выборок, а также взвешивание классов.\n",
    "\n",
    "\n",
    "Были рассмотрены модели дерева решений и случайного леса.\n",
    "\n",
    "У модели случайного леса при взвешивании классов показатель F1 вырос до 64%, AUC-ROC = 86%, при этом результаты после увеличения числа наблюдений положительного класса дали похожие значения с небольшим уменьшением в третьем знаке после запятой.\n",
    "\n",
    "Следовательно наилучшей моделью считается случайный лес при взвешивании классов.\n",
    "\n",
    "Проверка модели на тестовой выборке подтвердила, что взвешивание классов помогло справиться с дисбалансом классов, достигая F1 59,84 %, AUC-ROC 86%.\n",
    "\n",
    "Поскольку F1 - среднее гармоническое полноты и точности (растет только вместе с полнотой и точностью), то увеличение F1 свидетельствует об изменении в алгоритме в лучшую сторону. То есть вероятность того, что клиент останется больше, чем вероятность того, что клиеент уйдет.\n",
    "\n",
    "Модель была также проверена на вменяемость с результатом точности предсказания = 0.83 против 0.796. Результат говорит о том, что модель работает адекватно и способна предсказать лучше, чем случайная."
   ]
  }
 ],
 "metadata": {
  "ExecuteTimeLog": [
   {
    "duration": 1677,
    "start_time": "2023-06-05T19:39:25.083Z"
   },
   {
    "duration": 91,
    "start_time": "2023-06-05T19:39:27.449Z"
   },
   {
    "duration": 15,
    "start_time": "2023-06-05T19:40:46.080Z"
   },
   {
    "duration": 19,
    "start_time": "2023-06-05T19:43:29.455Z"
   },
   {
    "duration": 22,
    "start_time": "2023-06-05T19:44:56.771Z"
   },
   {
    "duration": 11,
    "start_time": "2023-06-05T19:45:08.209Z"
   },
   {
    "duration": 41,
    "start_time": "2023-06-05T19:58:22.479Z"
   },
   {
    "duration": 21,
    "start_time": "2023-06-05T19:58:23.434Z"
   },
   {
    "duration": 3,
    "start_time": "2023-06-05T20:01:59.437Z"
   },
   {
    "duration": 41,
    "start_time": "2023-06-05T20:02:00.251Z"
   },
   {
    "duration": 18,
    "start_time": "2023-06-05T20:02:02.120Z"
   },
   {
    "duration": 20,
    "start_time": "2023-06-05T20:02:04.076Z"
   },
   {
    "duration": 8,
    "start_time": "2023-06-05T20:02:06.387Z"
   },
   {
    "duration": 45,
    "start_time": "2023-06-06T11:32:52.171Z"
   },
   {
    "duration": 1659,
    "start_time": "2023-06-06T11:32:57.443Z"
   },
   {
    "duration": 82,
    "start_time": "2023-06-06T11:32:59.104Z"
   },
   {
    "duration": 13,
    "start_time": "2023-06-06T11:32:59.921Z"
   },
   {
    "duration": 16,
    "start_time": "2023-06-06T11:33:00.688Z"
   },
   {
    "duration": 8,
    "start_time": "2023-06-06T11:33:01.478Z"
   },
   {
    "duration": 448,
    "start_time": "2023-06-06T11:33:02.412Z"
   },
   {
    "duration": 74,
    "start_time": "2023-06-06T11:33:03.371Z"
   },
   {
    "duration": 8,
    "start_time": "2023-06-06T11:33:10.418Z"
   },
   {
    "duration": 9,
    "start_time": "2023-06-06T11:33:47.300Z"
   },
   {
    "duration": 8,
    "start_time": "2023-06-06T11:34:08.045Z"
   },
   {
    "duration": 9,
    "start_time": "2023-06-06T11:35:06.718Z"
   },
   {
    "duration": 4,
    "start_time": "2023-06-06T11:35:13.845Z"
   },
   {
    "duration": 4,
    "start_time": "2023-06-06T11:35:22.198Z"
   },
   {
    "duration": 14,
    "start_time": "2023-06-06T11:35:55.583Z"
   },
   {
    "duration": 21,
    "start_time": "2023-06-06T11:36:03.456Z"
   },
   {
    "duration": 123,
    "start_time": "2023-06-06T11:37:24.959Z"
   },
   {
    "duration": 9,
    "start_time": "2023-06-06T11:37:29.641Z"
   },
   {
    "duration": 6,
    "start_time": "2023-06-06T11:37:35.351Z"
   },
   {
    "duration": 4,
    "start_time": "2023-06-06T11:38:22.713Z"
   },
   {
    "duration": 6,
    "start_time": "2023-06-06T11:38:33.985Z"
   },
   {
    "duration": 5,
    "start_time": "2023-06-06T11:39:28.085Z"
   },
   {
    "duration": 6,
    "start_time": "2023-06-06T11:40:20.854Z"
   },
   {
    "duration": 5,
    "start_time": "2023-06-06T11:40:30.851Z"
   },
   {
    "duration": 9,
    "start_time": "2023-06-06T11:41:11.075Z"
   },
   {
    "duration": 5,
    "start_time": "2023-06-06T11:41:27.549Z"
   },
   {
    "duration": 5,
    "start_time": "2023-06-06T11:41:42.682Z"
   },
   {
    "duration": 8,
    "start_time": "2023-06-06T11:41:54.806Z"
   },
   {
    "duration": 7,
    "start_time": "2023-06-06T11:41:55.978Z"
   },
   {
    "duration": 2032,
    "start_time": "2023-06-06T11:42:03.401Z"
   },
   {
    "duration": 43,
    "start_time": "2023-06-06T11:42:05.435Z"
   },
   {
    "duration": 17,
    "start_time": "2023-06-06T11:42:05.480Z"
   },
   {
    "duration": 52,
    "start_time": "2023-06-06T11:42:05.498Z"
   },
   {
    "duration": 10,
    "start_time": "2023-06-06T11:42:05.552Z"
   },
   {
    "duration": 29,
    "start_time": "2023-06-06T11:42:05.563Z"
   },
   {
    "duration": 26,
    "start_time": "2023-06-06T11:42:05.594Z"
   },
   {
    "duration": 17,
    "start_time": "2023-06-06T11:42:05.622Z"
   },
   {
    "duration": 7,
    "start_time": "2023-06-06T11:42:09.549Z"
   },
   {
    "duration": 5,
    "start_time": "2023-06-06T11:42:10.617Z"
   },
   {
    "duration": 8,
    "start_time": "2023-06-06T11:42:25.370Z"
   },
   {
    "duration": 4,
    "start_time": "2023-06-06T11:42:26.753Z"
   },
   {
    "duration": 379,
    "start_time": "2023-06-06T11:43:12.113Z"
   },
   {
    "duration": 125,
    "start_time": "2023-06-06T11:43:28.985Z"
   },
   {
    "duration": 10,
    "start_time": "2023-06-06T11:43:52.421Z"
   },
   {
    "duration": 5,
    "start_time": "2023-06-06T11:44:01.709Z"
   },
   {
    "duration": 13,
    "start_time": "2023-06-06T13:21:23.097Z"
   },
   {
    "duration": 12,
    "start_time": "2023-06-06T13:22:44.946Z"
   },
   {
    "duration": 3,
    "start_time": "2023-06-06T13:23:15.514Z"
   },
   {
    "duration": 5,
    "start_time": "2023-06-06T13:23:20.190Z"
   },
   {
    "duration": 2234,
    "start_time": "2023-06-06T13:23:31.506Z"
   },
   {
    "duration": 44,
    "start_time": "2023-06-06T13:23:33.742Z"
   },
   {
    "duration": 12,
    "start_time": "2023-06-06T13:23:33.788Z"
   },
   {
    "duration": 20,
    "start_time": "2023-06-06T13:23:33.802Z"
   },
   {
    "duration": 11,
    "start_time": "2023-06-06T13:23:33.824Z"
   },
   {
    "duration": 7,
    "start_time": "2023-06-06T13:23:33.836Z"
   },
   {
    "duration": 5,
    "start_time": "2023-06-06T13:23:33.844Z"
   },
   {
    "duration": 12,
    "start_time": "2023-06-06T13:23:33.876Z"
   },
   {
    "duration": 5,
    "start_time": "2023-06-06T13:23:33.889Z"
   },
   {
    "duration": 17,
    "start_time": "2023-06-06T13:23:49.689Z"
   },
   {
    "duration": 11,
    "start_time": "2023-06-06T13:23:55.243Z"
   },
   {
    "duration": 5,
    "start_time": "2023-06-06T13:24:09.848Z"
   },
   {
    "duration": 41,
    "start_time": "2023-06-06T13:24:10.871Z"
   },
   {
    "duration": 11,
    "start_time": "2023-06-06T13:24:11.644Z"
   },
   {
    "duration": 17,
    "start_time": "2023-06-06T13:24:14.584Z"
   },
   {
    "duration": 13,
    "start_time": "2023-06-06T13:24:15.817Z"
   },
   {
    "duration": 9,
    "start_time": "2023-06-06T13:24:16.885Z"
   },
   {
    "duration": 11,
    "start_time": "2023-06-06T13:26:57.307Z"
   },
   {
    "duration": 6,
    "start_time": "2023-06-06T13:27:32.073Z"
   },
   {
    "duration": 113,
    "start_time": "2023-06-06T13:29:25.345Z"
   },
   {
    "duration": 6,
    "start_time": "2023-06-06T13:29:34.188Z"
   },
   {
    "duration": 7,
    "start_time": "2023-06-06T13:37:17.415Z"
   },
   {
    "duration": 5,
    "start_time": "2023-06-06T13:50:50.520Z"
   },
   {
    "duration": 12,
    "start_time": "2023-06-06T13:50:58.337Z"
   },
   {
    "duration": 1788,
    "start_time": "2023-06-07T11:23:39.270Z"
   },
   {
    "duration": 95,
    "start_time": "2023-06-07T11:23:41.060Z"
   },
   {
    "duration": 14,
    "start_time": "2023-06-07T11:23:41.156Z"
   },
   {
    "duration": 20,
    "start_time": "2023-06-07T11:23:42.720Z"
   },
   {
    "duration": 11,
    "start_time": "2023-06-07T11:23:44.743Z"
   },
   {
    "duration": 7,
    "start_time": "2023-06-07T11:23:45.796Z"
   },
   {
    "duration": 6,
    "start_time": "2023-06-07T11:23:46.797Z"
   },
   {
    "duration": 13,
    "start_time": "2023-06-07T11:23:49.924Z"
   },
   {
    "duration": 5,
    "start_time": "2023-06-07T11:23:51.112Z"
   },
   {
    "duration": 4,
    "start_time": "2023-06-07T11:23:52.343Z"
   },
   {
    "duration": 5,
    "start_time": "2023-06-07T11:23:55.873Z"
   },
   {
    "duration": 4,
    "start_time": "2023-06-07T11:23:58.872Z"
   },
   {
    "duration": 134,
    "start_time": "2023-06-07T11:24:03.684Z"
   },
   {
    "duration": 2550,
    "start_time": "2023-06-07T11:24:20.093Z"
   },
   {
    "duration": 3466,
    "start_time": "2023-06-07T11:24:23.073Z"
   },
   {
    "duration": 11,
    "start_time": "2023-06-07T11:25:14.389Z"
   },
   {
    "duration": 20,
    "start_time": "2023-06-07T11:25:54.698Z"
   },
   {
    "duration": 11,
    "start_time": "2023-06-07T11:25:56.880Z"
   },
   {
    "duration": 17,
    "start_time": "2023-06-07T11:26:19.448Z"
   },
   {
    "duration": 10,
    "start_time": "2023-06-07T11:26:21.943Z"
   },
   {
    "duration": 4,
    "start_time": "2023-06-07T11:26:45.638Z"
   },
   {
    "duration": 15,
    "start_time": "2023-06-07T11:27:22.543Z"
   },
   {
    "duration": 4307,
    "start_time": "2023-06-07T11:27:34.127Z"
   },
   {
    "duration": 0,
    "start_time": "2023-06-07T11:27:38.436Z"
   },
   {
    "duration": 1589,
    "start_time": "2023-06-07T11:27:57.618Z"
   },
   {
    "duration": 42,
    "start_time": "2023-06-07T11:27:59.209Z"
   },
   {
    "duration": 13,
    "start_time": "2023-06-07T11:27:59.252Z"
   },
   {
    "duration": 17,
    "start_time": "2023-06-07T11:27:59.267Z"
   },
   {
    "duration": 19,
    "start_time": "2023-06-07T11:27:59.287Z"
   },
   {
    "duration": 8,
    "start_time": "2023-06-07T11:27:59.308Z"
   },
   {
    "duration": 16,
    "start_time": "2023-06-07T11:27:59.318Z"
   },
   {
    "duration": 26,
    "start_time": "2023-06-07T11:27:59.336Z"
   },
   {
    "duration": 10,
    "start_time": "2023-06-07T11:27:59.363Z"
   },
   {
    "duration": 31,
    "start_time": "2023-06-07T11:27:59.375Z"
   },
   {
    "duration": 16,
    "start_time": "2023-06-07T11:27:59.408Z"
   },
   {
    "duration": 21,
    "start_time": "2023-06-07T11:27:59.426Z"
   },
   {
    "duration": 11,
    "start_time": "2023-06-07T11:27:59.448Z"
   },
   {
    "duration": 17,
    "start_time": "2023-06-07T11:27:59.462Z"
   },
   {
    "duration": 2675,
    "start_time": "2023-06-07T11:28:19.816Z"
   },
   {
    "duration": 3590,
    "start_time": "2023-06-07T11:28:30.182Z"
   },
   {
    "duration": 10,
    "start_time": "2023-06-07T11:28:36.792Z"
   },
   {
    "duration": 19,
    "start_time": "2023-06-07T11:28:44.200Z"
   },
   {
    "duration": 10,
    "start_time": "2023-06-07T11:29:05.140Z"
   },
   {
    "duration": 10,
    "start_time": "2023-06-07T11:31:54.847Z"
   },
   {
    "duration": 20,
    "start_time": "2023-06-07T11:32:14.706Z"
   },
   {
    "duration": 18,
    "start_time": "2023-06-07T11:32:34.273Z"
   },
   {
    "duration": 6,
    "start_time": "2023-06-07T11:32:57.077Z"
   },
   {
    "duration": 15,
    "start_time": "2023-06-07T11:33:21.576Z"
   },
   {
    "duration": 1549,
    "start_time": "2023-06-07T11:33:54.725Z"
   },
   {
    "duration": 42,
    "start_time": "2023-06-07T11:33:56.276Z"
   },
   {
    "duration": 13,
    "start_time": "2023-06-07T11:33:56.320Z"
   },
   {
    "duration": 17,
    "start_time": "2023-06-07T11:33:56.335Z"
   },
   {
    "duration": 11,
    "start_time": "2023-06-07T11:33:56.356Z"
   },
   {
    "duration": 13,
    "start_time": "2023-06-07T11:33:56.368Z"
   },
   {
    "duration": 5,
    "start_time": "2023-06-07T11:33:56.382Z"
   },
   {
    "duration": 13,
    "start_time": "2023-06-07T11:33:56.389Z"
   },
   {
    "duration": 5,
    "start_time": "2023-06-07T11:33:56.404Z"
   },
   {
    "duration": 21,
    "start_time": "2023-06-07T11:33:56.410Z"
   },
   {
    "duration": 4,
    "start_time": "2023-06-07T11:33:56.433Z"
   },
   {
    "duration": 59,
    "start_time": "2023-06-07T11:33:56.439Z"
   },
   {
    "duration": 19,
    "start_time": "2023-06-07T11:33:56.501Z"
   },
   {
    "duration": 16,
    "start_time": "2023-06-07T11:33:56.524Z"
   },
   {
    "duration": 17,
    "start_time": "2023-06-07T11:34:23.358Z"
   },
   {
    "duration": 2307,
    "start_time": "2023-06-07T11:36:05.118Z"
   },
   {
    "duration": 137,
    "start_time": "2023-06-07T11:37:08.177Z"
   },
   {
    "duration": 3561,
    "start_time": "2023-06-07T11:37:32.745Z"
   },
   {
    "duration": 2170,
    "start_time": "2023-06-07T11:40:34.436Z"
   },
   {
    "duration": 2175,
    "start_time": "2023-06-07T11:40:53.001Z"
   },
   {
    "duration": 2002,
    "start_time": "2023-06-07T11:41:21.373Z"
   },
   {
    "duration": 3,
    "start_time": "2023-06-07T12:37:56.634Z"
   },
   {
    "duration": 41,
    "start_time": "2023-06-07T12:37:57.609Z"
   },
   {
    "duration": 13,
    "start_time": "2023-06-07T12:37:58.686Z"
   },
   {
    "duration": 16,
    "start_time": "2023-06-07T12:37:59.393Z"
   },
   {
    "duration": 16,
    "start_time": "2023-06-07T12:38:01.783Z"
   },
   {
    "duration": 8,
    "start_time": "2023-06-07T12:38:03.412Z"
   },
   {
    "duration": 5,
    "start_time": "2023-06-07T12:38:05.925Z"
   },
   {
    "duration": 6,
    "start_time": "2023-06-07T12:39:37.885Z"
   },
   {
    "duration": 4,
    "start_time": "2023-06-07T12:40:23.978Z"
   },
   {
    "duration": 13,
    "start_time": "2023-06-07T12:40:27.343Z"
   },
   {
    "duration": 5,
    "start_time": "2023-06-07T12:40:28.621Z"
   },
   {
    "duration": 20,
    "start_time": "2023-06-07T12:40:33.124Z"
   },
   {
    "duration": 5,
    "start_time": "2023-06-07T12:40:38.127Z"
   },
   {
    "duration": 12,
    "start_time": "2023-06-07T12:40:53.091Z"
   },
   {
    "duration": 26,
    "start_time": "2023-06-07T12:41:11.193Z"
   },
   {
    "duration": 17,
    "start_time": "2023-06-07T12:41:23.844Z"
   },
   {
    "duration": 2202,
    "start_time": "2023-06-07T12:41:29.288Z"
   },
   {
    "duration": 1791,
    "start_time": "2023-06-07T12:41:46.974Z"
   },
   {
    "duration": 18,
    "start_time": "2023-06-07T12:42:10.301Z"
   },
   {
    "duration": 6,
    "start_time": "2023-06-07T12:42:25.076Z"
   },
   {
    "duration": 18,
    "start_time": "2023-06-07T12:42:27.185Z"
   },
   {
    "duration": 1527,
    "start_time": "2023-06-07T12:42:55.425Z"
   },
   {
    "duration": 50,
    "start_time": "2023-06-07T12:42:56.955Z"
   },
   {
    "duration": 19,
    "start_time": "2023-06-07T12:42:57.007Z"
   },
   {
    "duration": 22,
    "start_time": "2023-06-07T12:42:57.029Z"
   },
   {
    "duration": 27,
    "start_time": "2023-06-07T12:42:57.053Z"
   },
   {
    "duration": 9,
    "start_time": "2023-06-07T12:42:57.082Z"
   },
   {
    "duration": 9,
    "start_time": "2023-06-07T12:42:57.093Z"
   },
   {
    "duration": 12,
    "start_time": "2023-06-07T12:42:57.104Z"
   },
   {
    "duration": 5,
    "start_time": "2023-06-07T12:42:57.117Z"
   },
   {
    "duration": 32,
    "start_time": "2023-06-07T12:42:57.125Z"
   },
   {
    "duration": 29,
    "start_time": "2023-06-07T12:42:57.159Z"
   },
   {
    "duration": 31,
    "start_time": "2023-06-07T12:42:57.190Z"
   },
   {
    "duration": 10,
    "start_time": "2023-06-07T12:42:57.223Z"
   },
   {
    "duration": 19,
    "start_time": "2023-06-07T12:42:57.235Z"
   },
   {
    "duration": 1851,
    "start_time": "2023-06-07T12:50:22.787Z"
   },
   {
    "duration": 1761,
    "start_time": "2023-06-07T12:50:38.110Z"
   },
   {
    "duration": 2495,
    "start_time": "2023-06-07T12:50:45.897Z"
   },
   {
    "duration": 4,
    "start_time": "2023-06-07T12:50:54.512Z"
   },
   {
    "duration": 40,
    "start_time": "2023-06-07T12:50:55.208Z"
   },
   {
    "duration": 12,
    "start_time": "2023-06-07T12:50:55.925Z"
   },
   {
    "duration": 13,
    "start_time": "2023-06-07T12:50:56.651Z"
   },
   {
    "duration": 13,
    "start_time": "2023-06-07T12:50:58.117Z"
   },
   {
    "duration": 8,
    "start_time": "2023-06-07T12:50:58.685Z"
   },
   {
    "duration": 5,
    "start_time": "2023-06-07T12:50:59.467Z"
   },
   {
    "duration": 11,
    "start_time": "2023-06-07T12:51:02.452Z"
   },
   {
    "duration": 6,
    "start_time": "2023-06-07T12:51:06.173Z"
   },
   {
    "duration": 19,
    "start_time": "2023-06-07T12:51:07.252Z"
   },
   {
    "duration": 4,
    "start_time": "2023-06-07T12:51:09.231Z"
   },
   {
    "duration": 21,
    "start_time": "2023-06-07T12:51:12.884Z"
   },
   {
    "duration": 9,
    "start_time": "2023-06-07T12:51:14.266Z"
   },
   {
    "duration": 21,
    "start_time": "2023-06-07T12:51:18.888Z"
   },
   {
    "duration": 1892,
    "start_time": "2023-06-07T12:51:45.820Z"
   },
   {
    "duration": 5,
    "start_time": "2023-06-07T12:51:52.780Z"
   },
   {
    "duration": 41,
    "start_time": "2023-06-07T12:51:53.508Z"
   },
   {
    "duration": 14,
    "start_time": "2023-06-07T12:51:54.270Z"
   },
   {
    "duration": 16,
    "start_time": "2023-06-07T12:51:54.970Z"
   },
   {
    "duration": 17,
    "start_time": "2023-06-07T12:51:56.497Z"
   },
   {
    "duration": 8,
    "start_time": "2023-06-07T12:51:57.304Z"
   },
   {
    "duration": 6,
    "start_time": "2023-06-07T12:51:57.999Z"
   },
   {
    "duration": 12,
    "start_time": "2023-06-07T12:51:59.647Z"
   },
   {
    "duration": 6,
    "start_time": "2023-06-07T12:52:00.157Z"
   },
   {
    "duration": 20,
    "start_time": "2023-06-07T12:52:01.103Z"
   },
   {
    "duration": 6,
    "start_time": "2023-06-07T12:52:02.198Z"
   },
   {
    "duration": 20,
    "start_time": "2023-06-07T12:52:03.137Z"
   },
   {
    "duration": 23,
    "start_time": "2023-06-07T12:52:04.542Z"
   },
   {
    "duration": 3417,
    "start_time": "2023-06-07T12:57:18.748Z"
   },
   {
    "duration": 4,
    "start_time": "2023-06-07T12:57:32.101Z"
   },
   {
    "duration": 42,
    "start_time": "2023-06-07T12:57:32.887Z"
   },
   {
    "duration": 15,
    "start_time": "2023-06-07T12:57:33.749Z"
   },
   {
    "duration": 15,
    "start_time": "2023-06-07T12:57:34.231Z"
   },
   {
    "duration": 13,
    "start_time": "2023-06-07T12:57:35.965Z"
   },
   {
    "duration": 8,
    "start_time": "2023-06-07T12:57:36.892Z"
   },
   {
    "duration": 5,
    "start_time": "2023-06-07T12:57:37.803Z"
   },
   {
    "duration": 725,
    "start_time": "2023-06-07T12:57:40.311Z"
   },
   {
    "duration": 12,
    "start_time": "2023-06-07T12:57:47.830Z"
   },
   {
    "duration": 5,
    "start_time": "2023-06-07T12:57:49.985Z"
   },
   {
    "duration": 20,
    "start_time": "2023-06-07T12:57:58.228Z"
   },
   {
    "duration": 6,
    "start_time": "2023-06-07T12:57:59.184Z"
   },
   {
    "duration": 19,
    "start_time": "2023-06-07T12:58:00.313Z"
   },
   {
    "duration": 24,
    "start_time": "2023-06-07T12:58:02.285Z"
   },
   {
    "duration": 16,
    "start_time": "2023-06-07T13:00:06.964Z"
   },
   {
    "duration": 24,
    "start_time": "2023-06-07T13:00:21.913Z"
   },
   {
    "duration": 8,
    "start_time": "2023-06-07T13:01:20.967Z"
   },
   {
    "duration": 12,
    "start_time": "2023-06-07T13:01:56.293Z"
   },
   {
    "duration": 7,
    "start_time": "2023-06-07T13:02:01.514Z"
   },
   {
    "duration": 10,
    "start_time": "2023-06-07T13:08:08.843Z"
   },
   {
    "duration": 2048,
    "start_time": "2023-06-07T13:12:17.058Z"
   },
   {
    "duration": 4,
    "start_time": "2023-06-07T13:12:27.373Z"
   },
   {
    "duration": 41,
    "start_time": "2023-06-07T13:12:28.225Z"
   },
   {
    "duration": 13,
    "start_time": "2023-06-07T13:12:29.045Z"
   },
   {
    "duration": 13,
    "start_time": "2023-06-07T13:12:29.591Z"
   },
   {
    "duration": 12,
    "start_time": "2023-06-07T13:12:31.004Z"
   },
   {
    "duration": 11,
    "start_time": "2023-06-07T13:12:31.608Z"
   },
   {
    "duration": 5,
    "start_time": "2023-06-07T13:12:32.312Z"
   },
   {
    "duration": 11,
    "start_time": "2023-06-07T13:12:33.928Z"
   },
   {
    "duration": 5,
    "start_time": "2023-06-07T13:12:34.524Z"
   },
   {
    "duration": 19,
    "start_time": "2023-06-07T13:12:36.740Z"
   },
   {
    "duration": 6,
    "start_time": "2023-06-07T13:12:38.282Z"
   },
   {
    "duration": 22,
    "start_time": "2023-06-07T13:12:40.496Z"
   },
   {
    "duration": 6,
    "start_time": "2023-06-07T13:12:42.203Z"
   },
   {
    "duration": 2973,
    "start_time": "2023-06-07T13:13:15.981Z"
   },
   {
    "duration": 16,
    "start_time": "2023-06-07T13:13:25.017Z"
   },
   {
    "duration": 9,
    "start_time": "2023-06-07T13:13:47.068Z"
   },
   {
    "duration": 7,
    "start_time": "2023-06-07T13:14:00.713Z"
   },
   {
    "duration": 7,
    "start_time": "2023-06-07T13:14:01.770Z"
   },
   {
    "duration": 5,
    "start_time": "2023-06-07T13:25:54.691Z"
   },
   {
    "duration": 7,
    "start_time": "2023-06-07T13:27:42.081Z"
   },
   {
    "duration": 8,
    "start_time": "2023-06-07T13:29:28.790Z"
   },
   {
    "duration": 7,
    "start_time": "2023-06-07T13:29:41.991Z"
   },
   {
    "duration": 12,
    "start_time": "2023-06-07T13:30:14.524Z"
   },
   {
    "duration": 9,
    "start_time": "2023-06-07T13:31:25.742Z"
   },
   {
    "duration": 52,
    "start_time": "2023-06-07T13:32:56.724Z"
   },
   {
    "duration": 8,
    "start_time": "2023-06-07T13:34:06.596Z"
   },
   {
    "duration": 5,
    "start_time": "2023-06-07T13:34:07.345Z"
   },
   {
    "duration": 9,
    "start_time": "2023-06-07T13:34:08.361Z"
   },
   {
    "duration": 45,
    "start_time": "2023-06-07T13:34:10.944Z"
   },
   {
    "duration": 5,
    "start_time": "2023-06-07T13:35:21.438Z"
   },
   {
    "duration": 9,
    "start_time": "2023-06-07T13:35:21.982Z"
   },
   {
    "duration": 44,
    "start_time": "2023-06-07T13:35:23.855Z"
   },
   {
    "duration": 52,
    "start_time": "2023-06-07T13:35:28.177Z"
   },
   {
    "duration": 94,
    "start_time": "2023-06-07T13:36:01.692Z"
   },
   {
    "duration": 9,
    "start_time": "2023-06-07T13:36:11.133Z"
   },
   {
    "duration": 6,
    "start_time": "2023-06-07T13:36:11.950Z"
   },
   {
    "duration": 10,
    "start_time": "2023-06-07T13:36:12.685Z"
   },
   {
    "duration": 49,
    "start_time": "2023-06-07T13:36:14.661Z"
   },
   {
    "duration": 1543,
    "start_time": "2023-06-17T10:38:55.643Z"
   },
   {
    "duration": 84,
    "start_time": "2023-06-17T10:38:57.188Z"
   },
   {
    "duration": 14,
    "start_time": "2023-06-17T10:38:57.447Z"
   },
   {
    "duration": 4,
    "start_time": "2023-06-17T10:38:59.730Z"
   },
   {
    "duration": 3,
    "start_time": "2023-06-17T10:39:16.457Z"
   },
   {
    "duration": 16,
    "start_time": "2023-06-17T10:39:25.540Z"
   },
   {
    "duration": 4,
    "start_time": "2023-06-17T10:39:31.328Z"
   },
   {
    "duration": 13,
    "start_time": "2023-06-17T10:39:41.192Z"
   },
   {
    "duration": 13,
    "start_time": "2023-06-17T10:39:49.812Z"
   },
   {
    "duration": 7,
    "start_time": "2023-06-17T10:39:51.028Z"
   },
   {
    "duration": 5,
    "start_time": "2023-06-17T10:39:56.552Z"
   },
   {
    "duration": 13,
    "start_time": "2023-06-17T10:40:16.653Z"
   },
   {
    "duration": 20,
    "start_time": "2023-06-17T10:43:07.002Z"
   },
   {
    "duration": 5,
    "start_time": "2023-06-17T10:43:09.572Z"
   },
   {
    "duration": 22,
    "start_time": "2023-06-17T10:43:12.612Z"
   },
   {
    "duration": 5,
    "start_time": "2023-06-17T10:43:19.138Z"
   },
   {
    "duration": 18,
    "start_time": "2023-06-17T10:43:46.916Z"
   },
   {
    "duration": 7,
    "start_time": "2023-06-17T10:44:03.623Z"
   },
   {
    "duration": 7,
    "start_time": "2023-06-17T10:44:12.404Z"
   },
   {
    "duration": 26,
    "start_time": "2023-06-17T10:44:20.441Z"
   },
   {
    "duration": 6,
    "start_time": "2023-06-17T11:16:44.203Z"
   },
   {
    "duration": 8,
    "start_time": "2023-06-17T11:17:24.214Z"
   },
   {
    "duration": 8,
    "start_time": "2023-06-17T11:17:25.563Z"
   },
   {
    "duration": 8,
    "start_time": "2023-06-17T11:17:26.845Z"
   },
   {
    "duration": 134,
    "start_time": "2023-06-17T11:17:39.618Z"
   },
   {
    "duration": 212,
    "start_time": "2023-06-17T11:24:11.491Z"
   },
   {
    "duration": 238,
    "start_time": "2023-06-17T11:26:03.557Z"
   },
   {
    "duration": 24,
    "start_time": "2023-06-17T11:30:23.015Z"
   },
   {
    "duration": 226,
    "start_time": "2023-06-17T11:30:55.724Z"
   },
   {
    "duration": 206,
    "start_time": "2023-06-17T11:31:31.666Z"
   },
   {
    "duration": 219,
    "start_time": "2023-06-17T11:38:01.997Z"
   },
   {
    "duration": 205,
    "start_time": "2023-06-17T11:38:21.446Z"
   },
   {
    "duration": 223,
    "start_time": "2023-06-17T11:38:45.899Z"
   },
   {
    "duration": 232,
    "start_time": "2023-06-17T11:39:01.647Z"
   },
   {
    "duration": 207,
    "start_time": "2023-06-17T11:39:55.226Z"
   },
   {
    "duration": 214,
    "start_time": "2023-06-17T11:40:29.696Z"
   },
   {
    "duration": 199,
    "start_time": "2023-06-17T11:41:20.854Z"
   },
   {
    "duration": 218,
    "start_time": "2023-06-17T11:41:30.648Z"
   },
   {
    "duration": 202,
    "start_time": "2023-06-17T11:41:36.488Z"
   },
   {
    "duration": 58779,
    "start_time": "2023-06-17T11:42:11.008Z"
   },
   {
    "duration": 8,
    "start_time": "2023-06-17T11:47:57.214Z"
   },
   {
    "duration": 0,
    "start_time": "2023-06-17T12:03:51.956Z"
   },
   {
    "duration": 0,
    "start_time": "2023-06-17T12:03:51.958Z"
   },
   {
    "duration": 7,
    "start_time": "2023-06-17T12:04:09.742Z"
   },
   {
    "duration": 7,
    "start_time": "2023-06-17T12:07:04.727Z"
   },
   {
    "duration": 159448,
    "start_time": "2023-06-17T12:07:12.715Z"
   },
   {
    "duration": 11,
    "start_time": "2023-06-17T12:12:02.975Z"
   },
   {
    "duration": 3,
    "start_time": "2023-06-17T12:12:42.287Z"
   },
   {
    "duration": 42,
    "start_time": "2023-06-17T12:12:50.777Z"
   },
   {
    "duration": 1932,
    "start_time": "2023-06-19T12:30:23.860Z"
   },
   {
    "duration": 193,
    "start_time": "2023-06-19T12:30:25.795Z"
   },
   {
    "duration": 18,
    "start_time": "2023-06-19T12:30:26.112Z"
   },
   {
    "duration": 25,
    "start_time": "2023-06-19T12:30:27.898Z"
   },
   {
    "duration": 13,
    "start_time": "2023-06-19T12:30:30.447Z"
   },
   {
    "duration": 10,
    "start_time": "2023-06-19T12:30:31.986Z"
   },
   {
    "duration": 6,
    "start_time": "2023-06-19T12:30:32.788Z"
   },
   {
    "duration": 12,
    "start_time": "2023-06-19T12:30:35.611Z"
   },
   {
    "duration": 6,
    "start_time": "2023-06-19T12:30:36.455Z"
   },
   {
    "duration": 19,
    "start_time": "2023-06-19T12:30:37.596Z"
   },
   {
    "duration": 6,
    "start_time": "2023-06-19T12:30:39.497Z"
   },
   {
    "duration": 20,
    "start_time": "2023-06-19T12:30:41.341Z"
   },
   {
    "duration": 7,
    "start_time": "2023-06-19T12:30:43.404Z"
   },
   {
    "duration": 6,
    "start_time": "2023-06-19T12:30:45.115Z"
   },
   {
    "duration": 36,
    "start_time": "2023-06-19T12:30:46.650Z"
   },
   {
    "duration": 7,
    "start_time": "2023-06-19T12:30:50.096Z"
   },
   {
    "duration": 9,
    "start_time": "2023-06-19T12:30:51.839Z"
   },
   {
    "duration": 8,
    "start_time": "2023-06-19T12:30:52.592Z"
   },
   {
    "duration": 9,
    "start_time": "2023-06-19T12:30:53.718Z"
   },
   {
    "duration": 223,
    "start_time": "2023-06-19T12:30:56.358Z"
   },
   {
    "duration": 12,
    "start_time": "2023-06-19T12:32:34.372Z"
   },
   {
    "duration": 5941,
    "start_time": "2023-06-19T12:32:48.692Z"
   },
   {
    "duration": 160726,
    "start_time": "2023-06-19T12:33:13.732Z"
   },
   {
    "duration": 11552,
    "start_time": "2023-06-19T12:36:37.584Z"
   },
   {
    "duration": 500909,
    "start_time": "2023-06-19T12:37:18.950Z"
   },
   {
    "duration": 62,
    "start_time": "2023-06-19T12:45:39.862Z"
   },
   {
    "duration": 5,
    "start_time": "2023-06-19T12:49:41.212Z"
   },
   {
    "duration": 7,
    "start_time": "2023-06-19T12:50:07.982Z"
   },
   {
    "duration": 43,
    "start_time": "2023-06-19T12:50:09.133Z"
   },
   {
    "duration": 14,
    "start_time": "2023-06-19T12:50:09.839Z"
   },
   {
    "duration": 13,
    "start_time": "2023-06-19T12:50:10.510Z"
   },
   {
    "duration": 16,
    "start_time": "2023-06-19T12:50:12.181Z"
   },
   {
    "duration": 8,
    "start_time": "2023-06-19T12:50:13.259Z"
   },
   {
    "duration": 6,
    "start_time": "2023-06-19T12:50:14.031Z"
   },
   {
    "duration": 16,
    "start_time": "2023-06-19T12:50:16.359Z"
   },
   {
    "duration": 5,
    "start_time": "2023-06-19T12:50:17.261Z"
   },
   {
    "duration": 19,
    "start_time": "2023-06-19T12:50:18.335Z"
   },
   {
    "duration": 7,
    "start_time": "2023-06-19T12:50:19.319Z"
   },
   {
    "duration": 18,
    "start_time": "2023-06-19T12:50:20.509Z"
   },
   {
    "duration": 8,
    "start_time": "2023-06-19T12:50:21.502Z"
   },
   {
    "duration": 7,
    "start_time": "2023-06-19T12:50:22.942Z"
   },
   {
    "duration": 29,
    "start_time": "2023-06-19T12:50:23.776Z"
   },
   {
    "duration": 6,
    "start_time": "2023-06-19T12:50:26.593Z"
   },
   {
    "duration": 15,
    "start_time": "2023-06-19T12:50:28.162Z"
   },
   {
    "duration": 7,
    "start_time": "2023-06-19T12:50:28.859Z"
   },
   {
    "duration": 9,
    "start_time": "2023-06-19T12:50:30.483Z"
   },
   {
    "duration": 223,
    "start_time": "2023-06-19T12:50:34.261Z"
   },
   {
    "duration": 485863,
    "start_time": "2023-06-19T14:16:51.301Z"
   },
   {
    "duration": 6,
    "start_time": "2023-06-19T15:18:23.996Z"
   },
   {
    "duration": 47,
    "start_time": "2023-06-19T15:18:25.440Z"
   },
   {
    "duration": 15,
    "start_time": "2023-06-19T15:18:26.140Z"
   },
   {
    "duration": 12,
    "start_time": "2023-06-19T15:18:26.982Z"
   },
   {
    "duration": 14,
    "start_time": "2023-06-19T15:18:28.750Z"
   },
   {
    "duration": 11,
    "start_time": "2023-06-19T15:18:34.289Z"
   },
   {
    "duration": 7,
    "start_time": "2023-06-19T15:18:35.165Z"
   },
   {
    "duration": 11,
    "start_time": "2023-06-19T15:18:36.890Z"
   },
   {
    "duration": 5,
    "start_time": "2023-06-19T15:18:37.643Z"
   },
   {
    "duration": 21,
    "start_time": "2023-06-19T15:18:38.859Z"
   },
   {
    "duration": 5,
    "start_time": "2023-06-19T15:18:39.729Z"
   },
   {
    "duration": 18,
    "start_time": "2023-06-19T15:18:40.643Z"
   },
   {
    "duration": 5,
    "start_time": "2023-06-19T15:18:41.564Z"
   },
   {
    "duration": 6,
    "start_time": "2023-06-19T15:18:42.881Z"
   },
   {
    "duration": 22,
    "start_time": "2023-06-19T15:18:43.629Z"
   },
   {
    "duration": 6,
    "start_time": "2023-06-19T15:18:46.379Z"
   },
   {
    "duration": 11,
    "start_time": "2023-06-19T15:18:47.809Z"
   },
   {
    "duration": 9,
    "start_time": "2023-06-19T15:18:48.704Z"
   },
   {
    "duration": 10,
    "start_time": "2023-06-19T15:18:49.842Z"
   },
   {
    "duration": 235,
    "start_time": "2023-06-19T15:18:53.440Z"
   },
   {
    "duration": 97,
    "start_time": "2023-06-19T15:22:01.529Z"
   },
   {
    "duration": 209,
    "start_time": "2023-06-19T15:22:15.580Z"
   },
   {
    "duration": 4980435,
    "start_time": "2023-06-19T15:24:24.629Z"
   },
   {
    "duration": 1695,
    "start_time": "2023-06-20T08:50:14.700Z"
   },
   {
    "duration": 156,
    "start_time": "2023-06-20T08:50:16.397Z"
   },
   {
    "duration": 13,
    "start_time": "2023-06-20T08:50:16.891Z"
   },
   {
    "duration": 20,
    "start_time": "2023-06-20T08:50:18.417Z"
   },
   {
    "duration": 13,
    "start_time": "2023-06-20T08:50:20.790Z"
   },
   {
    "duration": 8,
    "start_time": "2023-06-20T08:50:22.482Z"
   },
   {
    "duration": 5,
    "start_time": "2023-06-20T08:50:23.645Z"
   },
   {
    "duration": 12,
    "start_time": "2023-06-20T08:50:25.849Z"
   },
   {
    "duration": 6,
    "start_time": "2023-06-20T08:50:29.176Z"
   },
   {
    "duration": 33,
    "start_time": "2023-06-20T08:50:30.426Z"
   },
   {
    "duration": 7,
    "start_time": "2023-06-20T08:50:31.563Z"
   },
   {
    "duration": 32,
    "start_time": "2023-06-20T08:50:32.469Z"
   },
   {
    "duration": 6,
    "start_time": "2023-06-20T08:50:33.623Z"
   },
   {
    "duration": 6,
    "start_time": "2023-06-20T08:50:34.825Z"
   },
   {
    "duration": 35,
    "start_time": "2023-06-20T08:50:36.380Z"
   },
   {
    "duration": 6,
    "start_time": "2023-06-20T08:50:39.788Z"
   },
   {
    "duration": 10,
    "start_time": "2023-06-20T08:50:45.874Z"
   },
   {
    "duration": 9,
    "start_time": "2023-06-20T08:50:46.969Z"
   },
   {
    "duration": 13,
    "start_time": "2023-06-20T08:50:48.458Z"
   },
   {
    "duration": 233,
    "start_time": "2023-06-20T08:50:52.300Z"
   },
   {
    "duration": 772378,
    "start_time": "2023-06-20T08:51:01.612Z"
   },
   {
    "duration": 1863290,
    "start_time": "2023-06-20T09:04:05.528Z"
   },
   {
    "duration": 208,
    "start_time": "2023-06-20T09:40:23.469Z"
   },
   {
    "duration": 77,
    "start_time": "2023-06-20T09:41:01.723Z"
   },
   {
    "duration": 117,
    "start_time": "2023-06-20T09:41:13.067Z"
   },
   {
    "duration": 88,
    "start_time": "2023-06-20T09:41:40.044Z"
   },
   {
    "duration": 46,
    "start_time": "2023-06-20T09:42:30.858Z"
   },
   {
    "duration": 6,
    "start_time": "2023-06-20T09:43:16.718Z"
   },
   {
    "duration": 16,
    "start_time": "2023-06-20T09:43:25.847Z"
   },
   {
    "duration": 80,
    "start_time": "2023-06-20T09:45:08.971Z"
   },
   {
    "duration": 1193,
    "start_time": "2023-06-20T09:47:11.592Z"
   },
   {
    "duration": 18,
    "start_time": "2023-06-20T09:49:07.627Z"
   },
   {
    "duration": 64,
    "start_time": "2023-06-20T09:50:56.507Z"
   },
   {
    "duration": 39,
    "start_time": "2023-06-20T09:52:02.126Z"
   },
   {
    "duration": 680,
    "start_time": "2023-06-20T09:53:56.739Z"
   },
   {
    "duration": 37,
    "start_time": "2023-06-20T09:55:04.602Z"
   },
   {
    "duration": 463,
    "start_time": "2023-06-20T09:55:11.009Z"
   },
   {
    "duration": 10,
    "start_time": "2023-06-20T10:01:01.357Z"
   },
   {
    "duration": 15,
    "start_time": "2023-06-20T10:01:04.381Z"
   },
   {
    "duration": 12,
    "start_time": "2023-06-20T10:01:05.690Z"
   },
   {
    "duration": 33,
    "start_time": "2023-06-20T10:01:06.748Z"
   },
   {
    "duration": 374,
    "start_time": "2023-06-20T10:01:10.811Z"
   },
   {
    "duration": 635293,
    "start_time": "2023-06-20T10:01:20.507Z"
   },
   {
    "duration": 101,
    "start_time": "2023-06-20T10:12:08.160Z"
   },
   {
    "duration": 19,
    "start_time": "2023-06-20T10:12:15.121Z"
   },
   {
    "duration": 85,
    "start_time": "2023-06-20T10:12:16.897Z"
   },
   {
    "duration": 1509,
    "start_time": "2023-06-20T10:12:19.106Z"
   },
   {
    "duration": 30,
    "start_time": "2023-06-20T10:12:55.944Z"
   },
   {
    "duration": 56,
    "start_time": "2023-06-20T10:12:56.998Z"
   },
   {
    "duration": 1378,
    "start_time": "2023-06-20T10:13:03.694Z"
   },
   {
    "duration": 30,
    "start_time": "2023-06-20T10:14:01.244Z"
   },
   {
    "duration": 52,
    "start_time": "2023-06-20T10:14:03.335Z"
   },
   {
    "duration": 690,
    "start_time": "2023-06-20T10:14:08.246Z"
   },
   {
    "duration": 393,
    "start_time": "2023-06-20T11:59:33.714Z"
   },
   {
    "duration": 16,
    "start_time": "2023-06-20T12:02:53.875Z"
   },
   {
    "duration": 603,
    "start_time": "2023-06-20T12:03:08.577Z"
   },
   {
    "duration": 13,
    "start_time": "2023-06-20T12:03:12.232Z"
   },
   {
    "duration": 124,
    "start_time": "2023-06-20T12:03:28.244Z"
   },
   {
    "duration": 12,
    "start_time": "2023-06-20T12:11:03.187Z"
   },
   {
    "duration": 6,
    "start_time": "2023-06-20T12:11:42.294Z"
   },
   {
    "duration": 9,
    "start_time": "2023-06-20T12:11:49.642Z"
   },
   {
    "duration": 94,
    "start_time": "2023-06-20T12:13:35.633Z"
   },
   {
    "duration": 8,
    "start_time": "2023-06-20T12:14:40.607Z"
   },
   {
    "duration": 9,
    "start_time": "2023-06-20T12:17:09.646Z"
   },
   {
    "duration": 7,
    "start_time": "2023-06-20T12:17:10.774Z"
   },
   {
    "duration": 11,
    "start_time": "2023-06-20T12:17:11.575Z"
   },
   {
    "duration": 220,
    "start_time": "2023-06-20T12:17:14.623Z"
   },
   {
    "duration": 572087,
    "start_time": "2023-06-20T12:17:16.715Z"
   },
   {
    "duration": 160,
    "start_time": "2023-06-20T12:27:09.343Z"
   },
   {
    "duration": 234,
    "start_time": "2023-06-20T12:28:07.256Z"
   },
   {
    "duration": 28,
    "start_time": "2023-06-20T12:28:19.599Z"
   },
   {
    "duration": 111,
    "start_time": "2023-06-20T12:28:29.735Z"
   },
   {
    "duration": 2099,
    "start_time": "2023-06-20T12:28:39.482Z"
   },
   {
    "duration": 1729,
    "start_time": "2023-06-20T12:30:03.532Z"
   },
   {
    "duration": 22,
    "start_time": "2023-06-20T13:08:30.408Z"
   },
   {
    "duration": 20,
    "start_time": "2023-06-20T13:08:38.925Z"
   },
   {
    "duration": 32,
    "start_time": "2023-06-20T13:08:40.603Z"
   },
   {
    "duration": 119,
    "start_time": "2023-06-20T13:09:23.128Z"
   },
   {
    "duration": 8,
    "start_time": "2023-06-20T13:09:34.301Z"
   },
   {
    "duration": 59,
    "start_time": "2023-06-20T13:17:31.367Z"
   },
   {
    "duration": 64,
    "start_time": "2023-06-20T13:17:55.744Z"
   },
   {
    "duration": 29,
    "start_time": "2023-06-20T13:18:14.883Z"
   },
   {
    "duration": 102,
    "start_time": "2023-06-20T13:18:15.848Z"
   },
   {
    "duration": 1640,
    "start_time": "2023-06-20T13:18:21.363Z"
   },
   {
    "duration": 16,
    "start_time": "2023-06-20T13:18:25.094Z"
   },
   {
    "duration": 30,
    "start_time": "2023-06-20T13:18:26.609Z"
   },
   {
    "duration": 440,
    "start_time": "2023-06-20T13:18:30.594Z"
   },
   {
    "duration": 70,
    "start_time": "2023-06-20T13:18:37.408Z"
   },
   {
    "duration": 9,
    "start_time": "2023-06-20T13:18:50.307Z"
   },
   {
    "duration": 19,
    "start_time": "2023-06-20T13:25:10.157Z"
   },
   {
    "duration": 34,
    "start_time": "2023-06-20T13:25:11.617Z"
   },
   {
    "duration": 531,
    "start_time": "2023-06-20T13:25:13.402Z"
   },
   {
    "duration": 60,
    "start_time": "2023-06-20T13:25:18.209Z"
   },
   {
    "duration": 25,
    "start_time": "2023-06-20T13:25:33.310Z"
   },
   {
    "duration": 53,
    "start_time": "2023-06-20T13:25:34.246Z"
   },
   {
    "duration": 831,
    "start_time": "2023-06-20T13:25:35.285Z"
   },
   {
    "duration": 85,
    "start_time": "2023-06-20T13:25:38.299Z"
   },
   {
    "duration": 803,
    "start_time": "2023-06-20T13:25:44.607Z"
   },
   {
    "duration": 71,
    "start_time": "2023-06-20T13:25:47.090Z"
   },
   {
    "duration": 10,
    "start_time": "2023-06-20T13:25:49.021Z"
   },
   {
    "duration": 19,
    "start_time": "2023-06-20T13:26:00.386Z"
   },
   {
    "duration": 31,
    "start_time": "2023-06-20T13:26:02.198Z"
   },
   {
    "duration": 381,
    "start_time": "2023-06-20T13:26:04.394Z"
   },
   {
    "duration": 72,
    "start_time": "2023-06-20T13:26:08.336Z"
   },
   {
    "duration": 27,
    "start_time": "2023-06-20T13:27:33.334Z"
   },
   {
    "duration": 17,
    "start_time": "2023-06-20T13:28:00.613Z"
   },
   {
    "duration": 87,
    "start_time": "2023-06-20T13:28:03.252Z"
   },
   {
    "duration": 1649,
    "start_time": "2023-06-20T13:28:09.467Z"
   },
   {
    "duration": 31,
    "start_time": "2023-06-20T13:28:53.916Z"
   },
   {
    "duration": 20,
    "start_time": "2023-06-20T13:29:15.298Z"
   },
   {
    "duration": 36,
    "start_time": "2023-06-20T13:29:23.054Z"
   },
   {
    "duration": 18,
    "start_time": "2023-06-20T13:30:07.093Z"
   },
   {
    "duration": 29,
    "start_time": "2023-06-20T13:30:08.294Z"
   },
   {
    "duration": 436,
    "start_time": "2023-06-20T13:30:09.584Z"
   },
   {
    "duration": 87,
    "start_time": "2023-06-20T13:30:18.908Z"
   },
   {
    "duration": 8,
    "start_time": "2023-06-20T13:30:23.410Z"
   },
   {
    "duration": 15,
    "start_time": "2023-06-20T13:47:21.712Z"
   },
   {
    "duration": 21,
    "start_time": "2023-06-20T13:48:25.326Z"
   },
   {
    "duration": 102,
    "start_time": "2023-06-20T13:48:34.689Z"
   },
   {
    "duration": 108,
    "start_time": "2023-06-20T13:48:39.805Z"
   },
   {
    "duration": 1624,
    "start_time": "2023-06-20T13:49:00.206Z"
   },
   {
    "duration": 50,
    "start_time": "2023-06-20T13:49:01.832Z"
   },
   {
    "duration": 31,
    "start_time": "2023-06-20T13:49:01.885Z"
   },
   {
    "duration": 46,
    "start_time": "2023-06-20T13:49:01.918Z"
   },
   {
    "duration": 33,
    "start_time": "2023-06-20T13:49:01.969Z"
   },
   {
    "duration": 23,
    "start_time": "2023-06-20T13:49:02.004Z"
   },
   {
    "duration": 25,
    "start_time": "2023-06-20T13:49:02.029Z"
   },
   {
    "duration": 34,
    "start_time": "2023-06-20T13:49:02.056Z"
   },
   {
    "duration": 28,
    "start_time": "2023-06-20T13:49:02.092Z"
   },
   {
    "duration": 45,
    "start_time": "2023-06-20T13:49:02.123Z"
   },
   {
    "duration": 28,
    "start_time": "2023-06-20T13:49:02.170Z"
   },
   {
    "duration": 37,
    "start_time": "2023-06-20T13:49:02.201Z"
   },
   {
    "duration": 9,
    "start_time": "2023-06-20T13:49:02.240Z"
   },
   {
    "duration": 41,
    "start_time": "2023-06-20T13:49:02.258Z"
   },
   {
    "duration": 26,
    "start_time": "2023-06-20T13:49:02.302Z"
   },
   {
    "duration": 6,
    "start_time": "2023-06-20T13:49:02.330Z"
   },
   {
    "duration": 32,
    "start_time": "2023-06-20T13:49:02.338Z"
   },
   {
    "duration": 25,
    "start_time": "2023-06-20T13:49:02.373Z"
   },
   {
    "duration": 39,
    "start_time": "2023-06-20T13:49:02.401Z"
   },
   {
    "duration": 267,
    "start_time": "2023-06-20T13:49:02.443Z"
   },
   {
    "duration": 548141,
    "start_time": "2023-06-20T13:49:02.712Z"
   },
   {
    "duration": 207,
    "start_time": "2023-06-20T13:58:10.857Z"
   },
   {
    "duration": 113,
    "start_time": "2023-06-20T13:58:11.072Z"
   },
   {
    "duration": 114,
    "start_time": "2023-06-20T13:58:11.188Z"
   },
   {
    "duration": 2439,
    "start_time": "2023-06-20T13:58:11.304Z"
   },
   {
    "duration": 19,
    "start_time": "2023-06-20T13:58:13.745Z"
   },
   {
    "duration": 27,
    "start_time": "2023-06-20T13:58:13.765Z"
   },
   {
    "duration": 418,
    "start_time": "2023-06-20T13:58:13.794Z"
   },
   {
    "duration": 70,
    "start_time": "2023-06-20T13:58:14.214Z"
   },
   {
    "duration": 9,
    "start_time": "2023-06-20T13:58:14.287Z"
   },
   {
    "duration": 19,
    "start_time": "2023-06-20T13:58:14.300Z"
   },
   {
    "duration": 56,
    "start_time": "2023-06-20T13:58:14.321Z"
   },
   {
    "duration": 21,
    "start_time": "2023-06-20T14:05:51.803Z"
   },
   {
    "duration": 22,
    "start_time": "2023-06-20T14:05:53.032Z"
   },
   {
    "duration": 19,
    "start_time": "2023-06-20T14:05:55.450Z"
   },
   {
    "duration": 9,
    "start_time": "2023-06-20T14:05:56.202Z"
   },
   {
    "duration": 9,
    "start_time": "2023-06-20T14:05:56.991Z"
   },
   {
    "duration": 12,
    "start_time": "2023-06-20T14:05:59.688Z"
   },
   {
    "duration": 7,
    "start_time": "2023-06-20T14:06:00.003Z"
   },
   {
    "duration": 31,
    "start_time": "2023-06-20T14:06:00.982Z"
   },
   {
    "duration": 8,
    "start_time": "2023-06-20T14:06:02.012Z"
   },
   {
    "duration": 25,
    "start_time": "2023-06-20T14:06:03.000Z"
   },
   {
    "duration": 9,
    "start_time": "2023-06-20T14:06:03.825Z"
   },
   {
    "duration": 10,
    "start_time": "2023-06-20T14:06:05.132Z"
   },
   {
    "duration": 34,
    "start_time": "2023-06-20T14:06:06.443Z"
   },
   {
    "duration": 13,
    "start_time": "2023-06-20T14:06:09.093Z"
   },
   {
    "duration": 12,
    "start_time": "2023-06-20T14:06:11.356Z"
   },
   {
    "duration": 9,
    "start_time": "2023-06-20T14:06:12.348Z"
   },
   {
    "duration": 12,
    "start_time": "2023-06-20T14:06:13.448Z"
   },
   {
    "duration": 270,
    "start_time": "2023-06-20T14:06:16.999Z"
   },
   {
    "duration": 415778,
    "start_time": "2023-06-20T14:06:20.244Z"
   },
   {
    "duration": 199967,
    "start_time": "2023-06-20T14:15:26.905Z"
   },
   {
    "duration": 140,
    "start_time": "2023-06-20T14:21:30.988Z"
   },
   {
    "duration": 100,
    "start_time": "2023-06-20T14:21:47.946Z"
   },
   {
    "duration": 7,
    "start_time": "2023-06-20T14:22:27.016Z"
   },
   {
    "duration": 15,
    "start_time": "2023-06-20T14:23:38.891Z"
   },
   {
    "duration": 14,
    "start_time": "2023-06-20T14:23:59.906Z"
   },
   {
    "duration": 555313,
    "start_time": "2023-06-20T14:24:49.047Z"
   },
   {
    "duration": 1669,
    "start_time": "2023-06-21T09:56:20.321Z"
   },
   {
    "duration": 84,
    "start_time": "2023-06-21T09:56:21.992Z"
   },
   {
    "duration": 14,
    "start_time": "2023-06-21T09:56:22.078Z"
   },
   {
    "duration": 16,
    "start_time": "2023-06-21T10:07:34.027Z"
   },
   {
    "duration": 18,
    "start_time": "2023-06-21T10:07:36.901Z"
   },
   {
    "duration": 10,
    "start_time": "2023-06-21T10:07:38.442Z"
   },
   {
    "duration": 6,
    "start_time": "2023-06-21T10:07:39.530Z"
   },
   {
    "duration": 13,
    "start_time": "2023-06-21T10:07:41.655Z"
   },
   {
    "duration": 6,
    "start_time": "2023-06-21T10:07:42.437Z"
   },
   {
    "duration": 20,
    "start_time": "2023-06-21T10:07:43.226Z"
   },
   {
    "duration": 5,
    "start_time": "2023-06-21T10:07:44.336Z"
   },
   {
    "duration": 20,
    "start_time": "2023-06-21T10:07:45.736Z"
   },
   {
    "duration": 7,
    "start_time": "2023-06-21T10:07:46.596Z"
   },
   {
    "duration": 6,
    "start_time": "2023-06-21T10:07:48.097Z"
   },
   {
    "duration": 35,
    "start_time": "2023-06-21T10:07:49.249Z"
   },
   {
    "duration": 5,
    "start_time": "2023-06-21T10:07:56.405Z"
   },
   {
    "duration": 11,
    "start_time": "2023-06-21T10:07:57.998Z"
   },
   {
    "duration": 6,
    "start_time": "2023-06-21T10:07:58.725Z"
   },
   {
    "duration": 11,
    "start_time": "2023-06-21T10:07:59.496Z"
   },
   {
    "duration": 253,
    "start_time": "2023-06-21T10:08:02.957Z"
   },
   {
    "duration": 541929,
    "start_time": "2023-06-21T10:08:47.598Z"
   },
   {
    "duration": 149,
    "start_time": "2023-06-21T10:18:00.414Z"
   },
   {
    "duration": 21,
    "start_time": "2023-06-21T10:18:05.832Z"
   },
   {
    "duration": 533,
    "start_time": "2023-06-21T10:18:11.088Z"
   },
   {
    "duration": 1536,
    "start_time": "2023-06-21T10:18:35.769Z"
   },
   {
    "duration": 4744,
    "start_time": "2023-06-21T10:18:51.593Z"
   },
   {
    "duration": 9544,
    "start_time": "2023-06-21T10:19:09.114Z"
   },
   {
    "duration": 2260,
    "start_time": "2023-06-21T10:19:49.505Z"
   },
   {
    "duration": 2528,
    "start_time": "2023-06-21T10:20:09.647Z"
   },
   {
    "duration": 1998,
    "start_time": "2023-06-21T10:20:18.976Z"
   },
   {
    "duration": 142,
    "start_time": "2023-06-21T10:21:02.347Z"
   },
   {
    "duration": 2537,
    "start_time": "2023-06-21T10:21:25.993Z"
   },
   {
    "duration": 83,
    "start_time": "2023-06-21T10:21:58.997Z"
   },
   {
    "duration": 96,
    "start_time": "2023-06-21T10:22:15.316Z"
   },
   {
    "duration": 115,
    "start_time": "2023-06-21T10:22:22.216Z"
   },
   {
    "duration": 132,
    "start_time": "2023-06-21T10:22:28.342Z"
   },
   {
    "duration": 119,
    "start_time": "2023-06-21T10:22:34.892Z"
   },
   {
    "duration": 119,
    "start_time": "2023-06-21T10:22:47.497Z"
   },
   {
    "duration": 123,
    "start_time": "2023-06-21T10:28:35.014Z"
   },
   {
    "duration": 113,
    "start_time": "2023-06-21T10:28:53.194Z"
   },
   {
    "duration": 2586,
    "start_time": "2023-06-21T10:29:21.417Z"
   },
   {
    "duration": 241,
    "start_time": "2023-06-21T10:30:28.058Z"
   },
   {
    "duration": 14,
    "start_time": "2023-06-21T10:30:44.014Z"
   },
   {
    "duration": 22,
    "start_time": "2023-06-21T10:30:47.504Z"
   },
   {
    "duration": 405,
    "start_time": "2023-06-21T10:30:57.394Z"
   },
   {
    "duration": 755238,
    "start_time": "2023-06-21T10:33:58.368Z"
   },
   {
    "duration": 49,
    "start_time": "2023-06-21T10:46:33.608Z"
   },
   {
    "duration": 18,
    "start_time": "2023-06-21T10:47:57.797Z"
   },
   {
    "duration": 56,
    "start_time": "2023-06-21T10:50:42.136Z"
   },
   {
    "duration": 244,
    "start_time": "2023-06-21T10:56:56.905Z"
   },
   {
    "duration": 116,
    "start_time": "2023-06-21T10:58:05.105Z"
   },
   {
    "duration": 573428,
    "start_time": "2023-06-21T10:59:08.879Z"
   },
   {
    "duration": 73,
    "start_time": "2023-06-21T11:09:03.216Z"
   },
   {
    "duration": 118,
    "start_time": "2023-06-21T11:09:11.244Z"
   },
   {
    "duration": 1296,
    "start_time": "2023-06-21T11:09:20.580Z"
   },
   {
    "duration": 1351,
    "start_time": "2023-06-21T11:10:01.938Z"
   },
   {
    "duration": 115,
    "start_time": "2023-06-21T11:10:29.991Z"
   },
   {
    "duration": 1763,
    "start_time": "2023-06-21T11:12:41.441Z"
   },
   {
    "duration": 46,
    "start_time": "2023-06-21T11:12:43.207Z"
   },
   {
    "duration": 19,
    "start_time": "2023-06-21T11:12:43.263Z"
   },
   {
    "duration": 25,
    "start_time": "2023-06-21T11:12:43.284Z"
   },
   {
    "duration": 17,
    "start_time": "2023-06-21T11:12:43.315Z"
   },
   {
    "duration": 23,
    "start_time": "2023-06-21T11:12:43.334Z"
   },
   {
    "duration": 22,
    "start_time": "2023-06-21T11:12:43.362Z"
   },
   {
    "duration": 24,
    "start_time": "2023-06-21T11:12:43.386Z"
   },
   {
    "duration": 16,
    "start_time": "2023-06-21T11:12:43.412Z"
   },
   {
    "duration": 75,
    "start_time": "2023-06-21T11:12:43.430Z"
   },
   {
    "duration": 13,
    "start_time": "2023-06-21T11:12:43.507Z"
   },
   {
    "duration": 56,
    "start_time": "2023-06-21T11:12:43.523Z"
   },
   {
    "duration": 46,
    "start_time": "2023-06-21T11:12:43.581Z"
   },
   {
    "duration": 22,
    "start_time": "2023-06-21T11:12:43.630Z"
   },
   {
    "duration": 48,
    "start_time": "2023-06-21T11:12:43.654Z"
   },
   {
    "duration": 6,
    "start_time": "2023-06-21T11:12:43.704Z"
   },
   {
    "duration": 17,
    "start_time": "2023-06-21T11:12:43.712Z"
   },
   {
    "duration": 10,
    "start_time": "2023-06-21T11:12:43.731Z"
   },
   {
    "duration": 29,
    "start_time": "2023-06-21T11:12:43.744Z"
   },
   {
    "duration": 264,
    "start_time": "2023-06-21T11:12:43.776Z"
   },
   {
    "duration": 554125,
    "start_time": "2023-06-21T11:12:44.042Z"
   },
   {
    "duration": 84,
    "start_time": "2023-06-21T11:21:58.172Z"
   },
   {
    "duration": 162,
    "start_time": "2023-06-21T11:21:58.259Z"
   },
   {
    "duration": 92,
    "start_time": "2023-06-21T11:21:58.424Z"
   },
   {
    "duration": 1250,
    "start_time": "2023-06-21T11:21:58.517Z"
   },
   {
    "duration": 510,
    "start_time": "2023-06-21T11:21:59.770Z"
   },
   {
    "duration": 13,
    "start_time": "2023-06-21T11:22:00.282Z"
   },
   {
    "duration": 50,
    "start_time": "2023-06-21T11:22:00.297Z"
   },
   {
    "duration": 194,
    "start_time": "2023-06-21T11:22:00.349Z"
   },
   {
    "duration": 60,
    "start_time": "2023-06-21T11:22:00.545Z"
   },
   {
    "duration": 138,
    "start_time": "2023-06-21T11:34:34.432Z"
   },
   {
    "duration": 22,
    "start_time": "2023-06-21T11:34:43.409Z"
   },
   {
    "duration": 205,
    "start_time": "2023-06-21T11:35:30.995Z"
   },
   {
    "duration": 51,
    "start_time": "2023-06-21T11:35:54.624Z"
   },
   {
    "duration": 1366,
    "start_time": "2023-06-21T11:37:21.587Z"
   },
   {
    "duration": 83,
    "start_time": "2023-06-21T11:37:36.941Z"
   },
   {
    "duration": 8,
    "start_time": "2023-06-21T11:38:17.686Z"
   },
   {
    "duration": 1718,
    "start_time": "2023-06-21T11:38:38.735Z"
   },
   {
    "duration": 57,
    "start_time": "2023-06-21T11:38:40.460Z"
   },
   {
    "duration": 14,
    "start_time": "2023-06-21T11:38:40.519Z"
   },
   {
    "duration": 17,
    "start_time": "2023-06-21T11:38:40.535Z"
   },
   {
    "duration": 38,
    "start_time": "2023-06-21T11:38:40.569Z"
   },
   {
    "duration": 9,
    "start_time": "2023-06-21T11:38:40.609Z"
   },
   {
    "duration": 9,
    "start_time": "2023-06-21T11:38:40.620Z"
   },
   {
    "duration": 15,
    "start_time": "2023-06-21T11:38:40.631Z"
   },
   {
    "duration": 13,
    "start_time": "2023-06-21T11:38:40.648Z"
   },
   {
    "duration": 54,
    "start_time": "2023-06-21T11:38:40.666Z"
   },
   {
    "duration": 24,
    "start_time": "2023-06-21T11:38:40.721Z"
   },
   {
    "duration": 74,
    "start_time": "2023-06-21T11:38:40.747Z"
   },
   {
    "duration": 6,
    "start_time": "2023-06-21T11:38:40.823Z"
   },
   {
    "duration": 26,
    "start_time": "2023-06-21T11:38:40.834Z"
   },
   {
    "duration": 53,
    "start_time": "2023-06-21T11:38:40.866Z"
   },
   {
    "duration": 7,
    "start_time": "2023-06-21T11:38:40.921Z"
   },
   {
    "duration": 40,
    "start_time": "2023-06-21T11:38:40.931Z"
   },
   {
    "duration": 25,
    "start_time": "2023-06-21T11:38:40.986Z"
   },
   {
    "duration": 23,
    "start_time": "2023-06-21T11:38:41.013Z"
   },
   {
    "duration": 283,
    "start_time": "2023-06-21T11:38:41.038Z"
   },
   {
    "duration": 562792,
    "start_time": "2023-06-21T11:38:41.323Z"
   },
   {
    "duration": 52,
    "start_time": "2023-06-21T11:48:04.117Z"
   },
   {
    "duration": 42,
    "start_time": "2023-06-21T11:48:04.258Z"
   },
   {
    "duration": 132,
    "start_time": "2023-06-21T11:48:04.358Z"
   },
   {
    "duration": 1290,
    "start_time": "2023-06-21T11:48:04.492Z"
   },
   {
    "duration": 14,
    "start_time": "2023-06-21T11:48:05.784Z"
   },
   {
    "duration": 31,
    "start_time": "2023-06-21T11:48:05.799Z"
   },
   {
    "duration": 219,
    "start_time": "2023-06-21T11:48:05.832Z"
   },
   {
    "duration": 53,
    "start_time": "2023-06-21T11:48:06.053Z"
   },
   {
    "duration": 76,
    "start_time": "2023-06-21T11:48:06.108Z"
   },
   {
    "duration": 47,
    "start_time": "2023-06-21T12:29:42.203Z"
   },
   {
    "duration": 37,
    "start_time": "2023-06-21T12:31:14.157Z"
   },
   {
    "duration": 18,
    "start_time": "2023-06-21T12:32:08.507Z"
   },
   {
    "duration": 19,
    "start_time": "2023-06-21T12:32:16.752Z"
   },
   {
    "duration": 115,
    "start_time": "2023-06-21T12:32:53.598Z"
   },
   {
    "duration": 1475,
    "start_time": "2023-06-21T12:33:40.099Z"
   },
   {
    "duration": 43,
    "start_time": "2023-06-21T12:33:41.576Z"
   },
   {
    "duration": 14,
    "start_time": "2023-06-21T12:33:41.620Z"
   },
   {
    "duration": 20,
    "start_time": "2023-06-21T12:33:41.635Z"
   },
   {
    "duration": 23,
    "start_time": "2023-06-21T12:33:41.660Z"
   },
   {
    "duration": 9,
    "start_time": "2023-06-21T12:33:41.685Z"
   },
   {
    "duration": 15,
    "start_time": "2023-06-21T12:33:41.696Z"
   },
   {
    "duration": 24,
    "start_time": "2023-06-21T12:33:41.713Z"
   },
   {
    "duration": 17,
    "start_time": "2023-06-21T12:33:41.739Z"
   },
   {
    "duration": 31,
    "start_time": "2023-06-21T12:33:41.759Z"
   },
   {
    "duration": 6,
    "start_time": "2023-06-21T12:33:41.792Z"
   },
   {
    "duration": 28,
    "start_time": "2023-06-21T12:33:41.799Z"
   },
   {
    "duration": 8,
    "start_time": "2023-06-21T12:33:41.829Z"
   },
   {
    "duration": 28,
    "start_time": "2023-06-21T12:33:41.840Z"
   },
   {
    "duration": 30,
    "start_time": "2023-06-21T12:33:41.870Z"
   },
   {
    "duration": 6,
    "start_time": "2023-06-21T12:33:41.902Z"
   },
   {
    "duration": 17,
    "start_time": "2023-06-21T12:33:41.909Z"
   },
   {
    "duration": 18,
    "start_time": "2023-06-21T12:33:41.928Z"
   },
   {
    "duration": 25,
    "start_time": "2023-06-21T12:33:41.948Z"
   },
   {
    "duration": 243,
    "start_time": "2023-06-21T12:33:41.975Z"
   },
   {
    "duration": 520916,
    "start_time": "2023-06-21T12:33:42.219Z"
   },
   {
    "duration": 44,
    "start_time": "2023-06-21T12:42:23.137Z"
   },
   {
    "duration": 119,
    "start_time": "2023-06-21T12:42:23.255Z"
   },
   {
    "duration": 99,
    "start_time": "2023-06-21T12:42:23.375Z"
   },
   {
    "duration": 1206,
    "start_time": "2023-06-21T12:42:23.477Z"
   },
   {
    "duration": 13,
    "start_time": "2023-06-21T12:42:24.685Z"
   },
   {
    "duration": 143,
    "start_time": "2023-06-21T12:42:24.700Z"
   },
   {
    "duration": 0,
    "start_time": "2023-06-21T12:42:24.845Z"
   },
   {
    "duration": 0,
    "start_time": "2023-06-21T12:42:24.847Z"
   },
   {
    "duration": 0,
    "start_time": "2023-06-21T12:42:24.854Z"
   },
   {
    "duration": 0,
    "start_time": "2023-06-21T12:42:24.855Z"
   },
   {
    "duration": 221,
    "start_time": "2023-06-21T12:47:29.426Z"
   },
   {
    "duration": 10,
    "start_time": "2023-06-21T12:47:45.954Z"
   },
   {
    "duration": 238,
    "start_time": "2023-06-21T12:48:55.500Z"
   },
   {
    "duration": 19,
    "start_time": "2023-06-21T12:49:04.214Z"
   },
   {
    "duration": 19,
    "start_time": "2023-06-21T12:49:21.918Z"
   },
   {
    "duration": 45,
    "start_time": "2023-06-21T12:49:24.309Z"
   },
   {
    "duration": 24,
    "start_time": "2023-06-21T12:50:04.217Z"
   },
   {
    "duration": 63,
    "start_time": "2023-06-21T12:50:57.455Z"
   },
   {
    "duration": 58,
    "start_time": "2023-06-21T12:52:09.761Z"
   },
   {
    "duration": 138,
    "start_time": "2023-06-21T12:52:30.011Z"
   },
   {
    "duration": 129,
    "start_time": "2023-06-21T12:53:04.737Z"
   },
   {
    "duration": 81,
    "start_time": "2023-06-21T12:53:51.322Z"
   },
   {
    "duration": 218,
    "start_time": "2023-06-21T12:54:07.849Z"
   },
   {
    "duration": 151,
    "start_time": "2023-06-21T12:54:13.907Z"
   },
   {
    "duration": 65,
    "start_time": "2023-06-21T12:54:25.536Z"
   },
   {
    "duration": 6,
    "start_time": "2023-06-21T12:54:31.727Z"
   },
   {
    "duration": 1593,
    "start_time": "2023-06-21T12:55:01.711Z"
   },
   {
    "duration": 40,
    "start_time": "2023-06-21T12:55:03.306Z"
   },
   {
    "duration": 12,
    "start_time": "2023-06-21T12:55:03.348Z"
   },
   {
    "duration": 69,
    "start_time": "2023-06-21T12:55:03.362Z"
   },
   {
    "duration": 38,
    "start_time": "2023-06-21T12:55:03.434Z"
   },
   {
    "duration": 19,
    "start_time": "2023-06-21T12:55:03.473Z"
   },
   {
    "duration": 23,
    "start_time": "2023-06-21T12:55:03.493Z"
   },
   {
    "duration": 40,
    "start_time": "2023-06-21T12:55:03.518Z"
   },
   {
    "duration": 5,
    "start_time": "2023-06-21T12:55:03.560Z"
   },
   {
    "duration": 50,
    "start_time": "2023-06-21T12:55:03.566Z"
   },
   {
    "duration": 18,
    "start_time": "2023-06-21T12:55:03.617Z"
   },
   {
    "duration": 52,
    "start_time": "2023-06-21T12:55:03.636Z"
   },
   {
    "duration": 18,
    "start_time": "2023-06-21T12:55:03.691Z"
   },
   {
    "duration": 22,
    "start_time": "2023-06-21T12:55:03.713Z"
   },
   {
    "duration": 50,
    "start_time": "2023-06-21T12:55:03.737Z"
   },
   {
    "duration": 26,
    "start_time": "2023-06-21T12:55:03.789Z"
   },
   {
    "duration": 30,
    "start_time": "2023-06-21T12:55:03.817Z"
   },
   {
    "duration": 15,
    "start_time": "2023-06-21T12:55:03.848Z"
   },
   {
    "duration": 41,
    "start_time": "2023-06-21T12:55:03.865Z"
   },
   {
    "duration": 231,
    "start_time": "2023-06-21T12:55:03.908Z"
   },
   {
    "duration": 519486,
    "start_time": "2023-06-21T12:55:04.141Z"
   },
   {
    "duration": 135,
    "start_time": "2023-06-21T13:03:43.629Z"
   },
   {
    "duration": 198,
    "start_time": "2023-06-21T13:03:43.767Z"
   },
   {
    "duration": 113,
    "start_time": "2023-06-21T13:03:43.967Z"
   },
   {
    "duration": 1278,
    "start_time": "2023-06-21T13:03:44.081Z"
   },
   {
    "duration": 14,
    "start_time": "2023-06-21T13:03:45.361Z"
   },
   {
    "duration": 76,
    "start_time": "2023-06-21T13:03:45.377Z"
   },
   {
    "duration": 93,
    "start_time": "2023-06-21T13:03:45.454Z"
   },
   {
    "duration": 68,
    "start_time": "2023-06-21T13:03:45.549Z"
   },
   {
    "duration": 12,
    "start_time": "2023-06-21T13:03:45.619Z"
   },
   {
    "duration": 7666,
    "start_time": "2023-06-21T13:13:25.271Z"
   },
   {
    "duration": 1718,
    "start_time": "2023-06-21T17:31:19.915Z"
   },
   {
    "duration": 80,
    "start_time": "2023-06-21T17:31:21.636Z"
   },
   {
    "duration": 12,
    "start_time": "2023-06-21T17:31:21.718Z"
   },
   {
    "duration": 19,
    "start_time": "2023-06-21T17:31:21.732Z"
   },
   {
    "duration": 17,
    "start_time": "2023-06-21T17:31:21.755Z"
   },
   {
    "duration": 8,
    "start_time": "2023-06-21T17:31:21.774Z"
   },
   {
    "duration": 8,
    "start_time": "2023-06-21T17:31:21.784Z"
   },
   {
    "duration": 16,
    "start_time": "2023-06-21T17:31:21.793Z"
   },
   {
    "duration": 4,
    "start_time": "2023-06-21T17:31:21.810Z"
   },
   {
    "duration": 21,
    "start_time": "2023-06-21T17:31:21.816Z"
   },
   {
    "duration": 14,
    "start_time": "2023-06-21T17:31:21.839Z"
   },
   {
    "duration": 24,
    "start_time": "2023-06-21T17:31:21.854Z"
   },
   {
    "duration": 20,
    "start_time": "2023-06-21T17:31:21.880Z"
   },
   {
    "duration": 6,
    "start_time": "2023-06-21T17:31:21.903Z"
   },
   {
    "duration": 36,
    "start_time": "2023-06-21T17:31:21.911Z"
   },
   {
    "duration": 5,
    "start_time": "2023-06-21T17:31:21.949Z"
   },
   {
    "duration": 17,
    "start_time": "2023-06-21T17:31:21.956Z"
   },
   {
    "duration": 13,
    "start_time": "2023-06-21T17:31:21.975Z"
   },
   {
    "duration": 11,
    "start_time": "2023-06-21T17:31:21.999Z"
   },
   {
    "duration": 260,
    "start_time": "2023-06-21T17:31:22.012Z"
   },
   {
    "duration": 7548,
    "start_time": "2023-06-21T17:31:22.274Z"
   },
   {
    "duration": 82,
    "start_time": "2023-06-21T17:31:29.824Z"
   },
   {
    "duration": 99,
    "start_time": "2023-06-21T17:31:29.908Z"
   },
   {
    "duration": 183,
    "start_time": "2023-06-21T17:31:30.012Z"
   },
   {
    "duration": 213,
    "start_time": "2023-06-21T17:31:30.196Z"
   },
   {
    "duration": 10,
    "start_time": "2023-06-21T17:31:30.411Z"
   },
   {
    "duration": 59,
    "start_time": "2023-06-21T17:31:30.423Z"
   },
   {
    "duration": 55,
    "start_time": "2023-06-21T17:31:30.484Z"
   },
   {
    "duration": 26,
    "start_time": "2023-06-21T17:31:30.540Z"
   },
   {
    "duration": 36,
    "start_time": "2023-06-21T17:31:30.568Z"
   },
   {
    "duration": 3749,
    "start_time": "2023-06-21T17:34:37.011Z"
   },
   {
    "duration": 40,
    "start_time": "2023-06-21T17:34:57.990Z"
   },
   {
    "duration": 40,
    "start_time": "2023-06-21T17:35:53.129Z"
   },
   {
    "duration": 92,
    "start_time": "2023-06-21T18:00:21.843Z"
   },
   {
    "duration": 405,
    "start_time": "2023-06-21T18:00:31.491Z"
   },
   {
    "duration": 410,
    "start_time": "2023-06-21T18:01:12.040Z"
   },
   {
    "duration": 6,
    "start_time": "2023-06-21T18:05:49.533Z"
   },
   {
    "duration": 403,
    "start_time": "2023-06-21T18:12:29.348Z"
   },
   {
    "duration": 478,
    "start_time": "2023-06-21T18:13:24.422Z"
   },
   {
    "duration": 292,
    "start_time": "2023-06-21T18:13:42.860Z"
   },
   {
    "duration": 207,
    "start_time": "2023-06-21T18:19:27.007Z"
   },
   {
    "duration": 4,
    "start_time": "2023-06-21T18:19:57.299Z"
   },
   {
    "duration": 3,
    "start_time": "2023-06-21T18:20:41.009Z"
   },
   {
    "duration": 8,
    "start_time": "2023-06-21T18:20:53.562Z"
   },
   {
    "duration": 3,
    "start_time": "2023-06-21T18:21:00.599Z"
   },
   {
    "duration": 3,
    "start_time": "2023-06-21T18:21:59.659Z"
   },
   {
    "duration": 4,
    "start_time": "2023-06-21T18:22:02.138Z"
   },
   {
    "duration": 207,
    "start_time": "2023-06-21T18:22:29.734Z"
   },
   {
    "duration": 226,
    "start_time": "2023-06-21T18:22:39.333Z"
   },
   {
    "duration": 220,
    "start_time": "2023-06-21T18:23:08.059Z"
   },
   {
    "duration": 227,
    "start_time": "2023-06-21T18:23:09.012Z"
   },
   {
    "duration": 223,
    "start_time": "2023-06-21T18:23:23.143Z"
   },
   {
    "duration": 228,
    "start_time": "2023-06-21T18:23:24.302Z"
   },
   {
    "duration": 7,
    "start_time": "2023-06-21T18:25:10.715Z"
   },
   {
    "duration": 4,
    "start_time": "2023-06-21T18:25:19.259Z"
   },
   {
    "duration": 473,
    "start_time": "2023-06-21T18:30:03.508Z"
   },
   {
    "duration": 640,
    "start_time": "2023-06-21T18:30:39.061Z"
   },
   {
    "duration": 828,
    "start_time": "2023-06-21T18:30:56.297Z"
   },
   {
    "duration": 16,
    "start_time": "2023-06-21T18:32:42.997Z"
   },
   {
    "duration": 180003,
    "start_time": "2023-06-21T18:40:59.889Z"
   },
   {
    "duration": 11903,
    "start_time": "2023-06-21T18:44:06.829Z"
   },
   {
    "duration": 20993,
    "start_time": "2023-06-21T18:46:07.303Z"
   },
   {
    "duration": 14,
    "start_time": "2023-06-21T18:48:39.048Z"
   },
   {
    "duration": 4,
    "start_time": "2023-06-21T18:48:58.140Z"
   },
   {
    "duration": 9,
    "start_time": "2023-06-21T18:49:01.812Z"
   },
   {
    "duration": 5,
    "start_time": "2023-06-21T18:49:14.907Z"
   },
   {
    "duration": 19,
    "start_time": "2023-06-21T18:49:49.078Z"
   },
   {
    "duration": 14,
    "start_time": "2023-06-21T18:50:07.531Z"
   },
   {
    "duration": 10,
    "start_time": "2023-06-21T18:50:18.252Z"
   },
   {
    "duration": 29203,
    "start_time": "2023-06-21T18:57:20.711Z"
   },
   {
    "duration": 10896,
    "start_time": "2023-06-21T18:59:50.603Z"
   },
   {
    "duration": 25475,
    "start_time": "2023-06-21T19:00:15.115Z"
   },
   {
    "duration": 13,
    "start_time": "2023-06-21T19:01:45.503Z"
   },
   {
    "duration": 49935,
    "start_time": "2023-06-21T19:02:09.003Z"
   },
   {
    "duration": 2616,
    "start_time": "2023-06-21T19:04:06.908Z"
   },
   {
    "duration": 15,
    "start_time": "2023-06-21T19:04:13.544Z"
   },
   {
    "duration": 1395,
    "start_time": "2023-06-21T19:07:22.134Z"
   },
   {
    "duration": 4,
    "start_time": "2023-06-21T19:07:35.448Z"
   },
   {
    "duration": 4,
    "start_time": "2023-06-21T19:07:45.355Z"
   },
   {
    "duration": 120,
    "start_time": "2023-06-21T19:09:33.110Z"
   },
   {
    "duration": 39,
    "start_time": "2023-06-21T19:10:13.762Z"
   },
   {
    "duration": 38,
    "start_time": "2023-06-21T19:10:24.890Z"
   },
   {
    "duration": 36,
    "start_time": "2023-06-21T19:13:54.251Z"
   },
   {
    "duration": 11,
    "start_time": "2023-06-21T19:13:55.030Z"
   },
   {
    "duration": 12,
    "start_time": "2023-06-21T19:13:55.729Z"
   },
   {
    "duration": 10,
    "start_time": "2023-06-21T19:13:56.948Z"
   },
   {
    "duration": 7,
    "start_time": "2023-06-21T19:14:01.085Z"
   },
   {
    "duration": 13,
    "start_time": "2023-06-21T19:14:29.925Z"
   },
   {
    "duration": 9,
    "start_time": "2023-06-21T19:14:34.003Z"
   },
   {
    "duration": 5,
    "start_time": "2023-06-21T19:14:48.729Z"
   },
   {
    "duration": 5,
    "start_time": "2023-06-21T19:14:53.599Z"
   },
   {
    "duration": 5,
    "start_time": "2023-06-21T19:14:57.399Z"
   },
   {
    "duration": 4,
    "start_time": "2023-06-21T19:15:06.171Z"
   },
   {
    "duration": 5,
    "start_time": "2023-06-21T19:15:10.426Z"
   },
   {
    "duration": 109,
    "start_time": "2023-06-21T19:15:16.105Z"
   },
   {
    "duration": 9,
    "start_time": "2023-06-21T19:15:27.136Z"
   },
   {
    "duration": 4,
    "start_time": "2023-06-21T19:15:36.896Z"
   },
   {
    "duration": 17,
    "start_time": "2023-06-21T19:15:38.915Z"
   },
   {
    "duration": 4,
    "start_time": "2023-06-21T19:15:39.927Z"
   },
   {
    "duration": 16,
    "start_time": "2023-06-21T19:15:40.347Z"
   },
   {
    "duration": 5,
    "start_time": "2023-06-21T19:15:42.833Z"
   },
   {
    "duration": 6,
    "start_time": "2023-06-21T19:15:43.960Z"
   },
   {
    "duration": 20,
    "start_time": "2023-06-21T19:15:45.604Z"
   },
   {
    "duration": 5,
    "start_time": "2023-06-21T19:15:47.953Z"
   },
   {
    "duration": 8,
    "start_time": "2023-06-21T19:15:49.031Z"
   },
   {
    "duration": 5,
    "start_time": "2023-06-21T19:15:49.936Z"
   },
   {
    "duration": 7,
    "start_time": "2023-06-21T19:15:50.334Z"
   },
   {
    "duration": 226,
    "start_time": "2023-06-21T19:15:53.146Z"
   },
   {
    "duration": 8,
    "start_time": "2023-06-21T19:16:23.009Z"
   },
   {
    "duration": 219,
    "start_time": "2023-06-21T19:16:28.920Z"
   },
   {
    "duration": 200,
    "start_time": "2023-06-21T19:16:37.521Z"
   },
   {
    "duration": 207,
    "start_time": "2023-06-21T19:16:52.222Z"
   },
   {
    "duration": 6257,
    "start_time": "2023-06-21T19:16:56.397Z"
   },
   {
    "duration": 77,
    "start_time": "2023-06-21T19:17:06.422Z"
   },
   {
    "duration": 17,
    "start_time": "2023-06-21T19:17:15.959Z"
   },
   {
    "duration": 75,
    "start_time": "2023-06-21T19:17:19.320Z"
   },
   {
    "duration": 200,
    "start_time": "2023-06-21T19:17:24.392Z"
   },
   {
    "duration": 554,
    "start_time": "2023-06-21T19:17:44.232Z"
   },
   {
    "duration": 201,
    "start_time": "2023-06-21T19:17:50.829Z"
   },
   {
    "duration": 7,
    "start_time": "2023-06-21T19:17:59.540Z"
   },
   {
    "duration": 5,
    "start_time": "2023-06-21T19:17:59.725Z"
   },
   {
    "duration": 8,
    "start_time": "2023-06-21T19:18:00.430Z"
   },
   {
    "duration": 245,
    "start_time": "2023-06-21T19:18:01.813Z"
   },
   {
    "duration": 6689,
    "start_time": "2023-06-21T19:18:08.642Z"
   },
   {
    "duration": 167,
    "start_time": "2023-06-21T19:18:15.333Z"
   },
   {
    "duration": 6,
    "start_time": "2023-06-21T19:18:35.000Z"
   },
   {
    "duration": 5,
    "start_time": "2023-06-21T19:18:35.308Z"
   },
   {
    "duration": 8,
    "start_time": "2023-06-21T19:18:35.901Z"
   },
   {
    "duration": 526,
    "start_time": "2023-06-21T19:21:54.423Z"
   },
   {
    "duration": 1233,
    "start_time": "2023-06-21T19:22:04.096Z"
   },
   {
    "duration": 207,
    "start_time": "2023-06-21T19:24:31.640Z"
   },
   {
    "duration": 221,
    "start_time": "2023-06-21T19:24:59.395Z"
   },
   {
    "duration": 3753,
    "start_time": "2023-06-22T08:03:27.356Z"
   },
   {
    "duration": 98,
    "start_time": "2023-06-22T08:03:31.112Z"
   },
   {
    "duration": 36,
    "start_time": "2023-06-22T08:03:31.212Z"
   },
   {
    "duration": 19,
    "start_time": "2023-06-22T08:03:32.307Z"
   },
   {
    "duration": 11,
    "start_time": "2023-06-22T08:03:34.062Z"
   },
   {
    "duration": 8,
    "start_time": "2023-06-22T08:03:37.058Z"
   },
   {
    "duration": 8,
    "start_time": "2023-06-22T08:03:38.200Z"
   },
   {
    "duration": 15,
    "start_time": "2023-06-22T08:03:45.001Z"
   },
   {
    "duration": 8,
    "start_time": "2023-06-22T08:03:48.792Z"
   },
   {
    "duration": 21,
    "start_time": "2023-06-22T08:03:51.348Z"
   },
   {
    "duration": 6441,
    "start_time": "2023-06-22T08:08:09.199Z"
   },
   {
    "duration": 48,
    "start_time": "2023-06-22T08:08:28.005Z"
   },
   {
    "duration": 14,
    "start_time": "2023-06-22T08:08:28.697Z"
   },
   {
    "duration": 14,
    "start_time": "2023-06-22T08:08:29.057Z"
   },
   {
    "duration": 25,
    "start_time": "2023-06-22T08:08:30.267Z"
   },
   {
    "duration": 8,
    "start_time": "2023-06-22T08:08:30.616Z"
   },
   {
    "duration": 6,
    "start_time": "2023-06-22T08:08:31.210Z"
   },
   {
    "duration": 16,
    "start_time": "2023-06-22T08:08:34.136Z"
   },
   {
    "duration": 5,
    "start_time": "2023-06-22T08:08:36.207Z"
   },
   {
    "duration": 25,
    "start_time": "2023-06-22T08:08:36.406Z"
   },
   {
    "duration": 7,
    "start_time": "2023-06-22T08:08:38.302Z"
   },
   {
    "duration": 23,
    "start_time": "2023-06-22T08:08:40.447Z"
   },
   {
    "duration": 8,
    "start_time": "2023-06-22T08:08:42.410Z"
   },
   {
    "duration": 9,
    "start_time": "2023-06-22T08:08:43.052Z"
   },
   {
    "duration": 18,
    "start_time": "2023-06-22T08:08:44.992Z"
   },
   {
    "duration": 13,
    "start_time": "2023-06-22T08:08:51.302Z"
   },
   {
    "duration": 9,
    "start_time": "2023-06-22T08:08:51.659Z"
   },
   {
    "duration": 13,
    "start_time": "2023-06-22T08:08:53.047Z"
   },
   {
    "duration": 53,
    "start_time": "2023-06-22T08:09:36.453Z"
   },
   {
    "duration": 36,
    "start_time": "2023-06-22T08:10:07.752Z"
   },
   {
    "duration": 26,
    "start_time": "2023-06-22T08:10:17.248Z"
   },
   {
    "duration": 10,
    "start_time": "2023-06-22T08:10:38.612Z"
   },
   {
    "duration": 8,
    "start_time": "2023-06-22T08:10:39.116Z"
   },
   {
    "duration": 10,
    "start_time": "2023-06-22T08:10:39.711Z"
   },
   {
    "duration": 5,
    "start_time": "2023-06-22T08:10:50.300Z"
   },
   {
    "duration": 111,
    "start_time": "2023-06-22T08:10:50.307Z"
   },
   {
    "duration": 17,
    "start_time": "2023-06-22T08:10:50.421Z"
   },
   {
    "duration": 34,
    "start_time": "2023-06-22T08:10:50.440Z"
   },
   {
    "duration": 60,
    "start_time": "2023-06-22T08:10:50.476Z"
   },
   {
    "duration": 18,
    "start_time": "2023-06-22T08:10:50.538Z"
   },
   {
    "duration": 13,
    "start_time": "2023-06-22T08:10:50.557Z"
   },
   {
    "duration": 46,
    "start_time": "2023-06-22T08:10:50.572Z"
   },
   {
    "duration": 5,
    "start_time": "2023-06-22T08:10:50.620Z"
   },
   {
    "duration": 32,
    "start_time": "2023-06-22T08:10:50.627Z"
   },
   {
    "duration": 8,
    "start_time": "2023-06-22T08:10:50.662Z"
   },
   {
    "duration": 46,
    "start_time": "2023-06-22T08:10:50.672Z"
   },
   {
    "duration": 13,
    "start_time": "2023-06-22T08:10:50.720Z"
   },
   {
    "duration": 20,
    "start_time": "2023-06-22T08:10:50.735Z"
   },
   {
    "duration": 38,
    "start_time": "2023-06-22T08:10:50.758Z"
   },
   {
    "duration": 34,
    "start_time": "2023-06-22T08:10:50.798Z"
   },
   {
    "duration": 7,
    "start_time": "2023-06-22T08:10:50.834Z"
   },
   {
    "duration": 16,
    "start_time": "2023-06-22T08:10:50.843Z"
   },
   {
    "duration": 14,
    "start_time": "2023-06-22T08:10:50.861Z"
   },
   {
    "duration": 25,
    "start_time": "2023-06-22T08:10:50.881Z"
   },
   {
    "duration": 285,
    "start_time": "2023-06-22T08:10:50.909Z"
   },
   {
    "duration": 7849,
    "start_time": "2023-06-22T08:10:55.796Z"
   },
   {
    "duration": 5,
    "start_time": "2023-06-22T08:11:07.546Z"
   },
   {
    "duration": 56,
    "start_time": "2023-06-22T08:11:08.540Z"
   },
   {
    "duration": 20,
    "start_time": "2023-06-22T08:11:09.381Z"
   },
   {
    "duration": 18,
    "start_time": "2023-06-22T08:11:09.707Z"
   },
   {
    "duration": 16,
    "start_time": "2023-06-22T08:11:10.616Z"
   },
   {
    "duration": 12,
    "start_time": "2023-06-22T08:11:11.006Z"
   },
   {
    "duration": 5,
    "start_time": "2023-06-22T08:11:11.898Z"
   },
   {
    "duration": 12,
    "start_time": "2023-06-22T08:11:17.966Z"
   },
   {
    "duration": 6,
    "start_time": "2023-06-22T08:11:19.696Z"
   },
   {
    "duration": 30,
    "start_time": "2023-06-22T08:11:24.937Z"
   },
   {
    "duration": 5,
    "start_time": "2023-06-22T08:11:28.101Z"
   },
   {
    "duration": 23,
    "start_time": "2023-06-22T08:11:28.631Z"
   },
   {
    "duration": 7,
    "start_time": "2023-06-22T08:11:29.951Z"
   },
   {
    "duration": 9,
    "start_time": "2023-06-22T08:11:30.601Z"
   },
   {
    "duration": 28,
    "start_time": "2023-06-22T08:11:35.320Z"
   },
   {
    "duration": 12,
    "start_time": "2023-06-22T08:12:10.252Z"
   },
   {
    "duration": 9,
    "start_time": "2023-06-22T08:12:10.792Z"
   },
   {
    "duration": 11,
    "start_time": "2023-06-22T08:12:11.328Z"
   },
   {
    "duration": 61,
    "start_time": "2023-06-22T08:12:22.554Z"
   },
   {
    "duration": 18,
    "start_time": "2023-06-22T08:12:43.432Z"
   },
   {
    "duration": 37,
    "start_time": "2023-06-22T08:13:01.498Z"
   },
   {
    "duration": 11,
    "start_time": "2023-06-22T08:13:23.100Z"
   },
   {
    "duration": 8,
    "start_time": "2023-06-22T08:13:24.898Z"
   },
   {
    "duration": 18,
    "start_time": "2023-06-22T08:13:26.716Z"
   },
   {
    "duration": 38,
    "start_time": "2023-06-22T08:13:34.562Z"
   },
   {
    "duration": 12,
    "start_time": "2023-06-22T08:13:48.792Z"
   },
   {
    "duration": 27,
    "start_time": "2023-06-22T08:14:00.061Z"
   },
   {
    "duration": 27,
    "start_time": "2023-06-22T08:14:04.398Z"
   },
   {
    "duration": 35,
    "start_time": "2023-06-22T08:14:22.501Z"
   },
   {
    "duration": 41,
    "start_time": "2023-06-22T08:14:35.997Z"
   },
   {
    "duration": 11,
    "start_time": "2023-06-22T08:14:57.603Z"
   },
   {
    "duration": 9,
    "start_time": "2023-06-22T08:14:57.809Z"
   },
   {
    "duration": 13,
    "start_time": "2023-06-22T08:14:58.140Z"
   },
   {
    "duration": 290,
    "start_time": "2023-06-22T08:15:01.797Z"
   },
   {
    "duration": 7923,
    "start_time": "2023-06-22T08:15:06.055Z"
   },
   {
    "duration": 89,
    "start_time": "2023-06-22T08:15:16.997Z"
   },
   {
    "duration": 33,
    "start_time": "2023-06-22T08:15:22.024Z"
   },
   {
    "duration": 1449,
    "start_time": "2023-06-22T08:15:23.943Z"
   },
   {
    "duration": 124,
    "start_time": "2023-06-22T08:15:48.088Z"
   },
   {
    "duration": 273,
    "start_time": "2023-06-22T08:15:51.096Z"
   },
   {
    "duration": 14,
    "start_time": "2023-06-22T08:15:54.090Z"
   },
   {
    "duration": 30,
    "start_time": "2023-06-22T08:15:58.355Z"
   },
   {
    "duration": 44,
    "start_time": "2023-06-22T08:15:58.387Z"
   },
   {
    "duration": 23,
    "start_time": "2023-06-22T08:16:08.616Z"
   },
   {
    "duration": 9,
    "start_time": "2023-06-22T08:16:13.856Z"
   },
   {
    "duration": 25,
    "start_time": "2023-06-22T08:19:19.819Z"
   },
   {
    "duration": 17,
    "start_time": "2023-06-22T08:19:37.408Z"
   },
   {
    "duration": 22,
    "start_time": "2023-06-22T08:19:43.597Z"
   },
   {
    "duration": 27,
    "start_time": "2023-06-22T08:19:49.730Z"
   },
   {
    "duration": 27,
    "start_time": "2023-06-22T08:22:57.453Z"
   },
   {
    "duration": 6,
    "start_time": "2023-06-22T08:23:06.101Z"
   },
   {
    "duration": 18,
    "start_time": "2023-06-22T08:23:13.497Z"
   },
   {
    "duration": 769,
    "start_time": "2023-06-22T08:29:36.984Z"
   },
   {
    "duration": 332,
    "start_time": "2023-06-22T08:29:53.955Z"
   },
   {
    "duration": 46,
    "start_time": "2023-06-22T08:32:49.813Z"
   },
   {
    "duration": 10,
    "start_time": "2023-06-22T08:33:39.895Z"
   },
   {
    "duration": 5,
    "start_time": "2023-06-22T08:33:42.099Z"
   },
   {
    "duration": 136,
    "start_time": "2023-06-22T08:34:33.413Z"
   },
   {
    "duration": 297,
    "start_time": "2023-06-22T08:34:45.841Z"
   },
   {
    "duration": 10107,
    "start_time": "2023-06-22T08:37:00.028Z"
   },
   {
    "duration": 25,
    "start_time": "2023-06-22T08:37:28.411Z"
   },
   {
    "duration": 1284,
    "start_time": "2023-06-22T08:37:51.312Z"
   },
   {
    "duration": 41,
    "start_time": "2023-06-22T08:37:52.599Z"
   },
   {
    "duration": 29,
    "start_time": "2023-06-22T08:37:52.642Z"
   },
   {
    "duration": 50,
    "start_time": "2023-06-22T08:37:52.673Z"
   },
   {
    "duration": 32,
    "start_time": "2023-06-22T08:37:52.725Z"
   },
   {
    "duration": 12,
    "start_time": "2023-06-22T08:37:52.759Z"
   },
   {
    "duration": 34,
    "start_time": "2023-06-22T08:37:52.773Z"
   },
   {
    "duration": 16,
    "start_time": "2023-06-22T08:37:52.998Z"
   },
   {
    "duration": 5,
    "start_time": "2023-06-22T08:37:53.597Z"
   },
   {
    "duration": 33,
    "start_time": "2023-06-22T08:37:53.793Z"
   },
   {
    "duration": 4,
    "start_time": "2023-06-22T08:37:54.155Z"
   },
   {
    "duration": 20,
    "start_time": "2023-06-22T08:37:54.407Z"
   },
   {
    "duration": 7,
    "start_time": "2023-06-22T08:37:56.694Z"
   },
   {
    "duration": 46,
    "start_time": "2023-06-22T08:37:56.704Z"
   },
   {
    "duration": 71,
    "start_time": "2023-06-22T08:37:56.752Z"
   },
   {
    "duration": 7,
    "start_time": "2023-06-22T08:37:58.048Z"
   },
   {
    "duration": 8,
    "start_time": "2023-06-22T08:37:58.397Z"
   },
   {
    "duration": 8,
    "start_time": "2023-06-22T08:37:58.539Z"
   },
   {
    "duration": 10,
    "start_time": "2023-06-22T08:37:58.727Z"
   },
   {
    "duration": 304,
    "start_time": "2023-06-22T08:38:01.058Z"
   },
   {
    "duration": 8074,
    "start_time": "2023-06-22T08:38:02.993Z"
   },
   {
    "duration": 112,
    "start_time": "2023-06-22T08:38:11.069Z"
   },
   {
    "duration": 54,
    "start_time": "2023-06-22T08:38:13.791Z"
   },
   {
    "duration": 22,
    "start_time": "2023-06-22T08:39:08.914Z"
   },
   {
    "duration": 76,
    "start_time": "2023-06-22T08:39:50.648Z"
   },
   {
    "duration": 185,
    "start_time": "2023-06-22T08:40:43.812Z"
   },
   {
    "duration": 3550,
    "start_time": "2023-06-22T08:50:00.556Z"
   },
   {
    "duration": 39,
    "start_time": "2023-06-22T08:50:30.706Z"
   },
   {
    "duration": 19,
    "start_time": "2023-06-22T08:50:37.319Z"
   },
   {
    "duration": 29,
    "start_time": "2023-06-22T08:50:45.803Z"
   },
   {
    "duration": 18,
    "start_time": "2023-06-22T08:50:47.545Z"
   },
   {
    "duration": 15,
    "start_time": "2023-06-22T08:51:33.624Z"
   },
   {
    "duration": 34,
    "start_time": "2023-06-22T08:51:50.281Z"
   },
   {
    "duration": 21,
    "start_time": "2023-06-22T08:52:39.699Z"
   },
   {
    "duration": 104,
    "start_time": "2023-06-22T10:30:54.143Z"
   },
   {
    "duration": 2380,
    "start_time": "2023-06-22T10:31:03.105Z"
   },
   {
    "duration": 460,
    "start_time": "2023-06-22T10:31:05.487Z"
   },
   {
    "duration": 14,
    "start_time": "2023-06-22T10:31:07.123Z"
   },
   {
    "duration": 21,
    "start_time": "2023-06-22T10:31:08.125Z"
   },
   {
    "duration": 23,
    "start_time": "2023-06-22T10:31:10.165Z"
   },
   {
    "duration": 18,
    "start_time": "2023-06-22T10:31:13.262Z"
   },
   {
    "duration": 6,
    "start_time": "2023-06-22T10:31:19.322Z"
   },
   {
    "duration": 96,
    "start_time": "2023-06-22T10:36:21.805Z"
   },
   {
    "duration": 38,
    "start_time": "2023-06-22T11:09:50.654Z"
   },
   {
    "duration": 56,
    "start_time": "2023-06-22T11:10:06.652Z"
   },
   {
    "duration": 6,
    "start_time": "2023-06-22T11:10:17.215Z"
   },
   {
    "duration": 33,
    "start_time": "2023-06-22T11:10:19.915Z"
   },
   {
    "duration": 8,
    "start_time": "2023-06-22T11:10:27.950Z"
   },
   {
    "duration": 35,
    "start_time": "2023-06-22T11:10:29.323Z"
   },
   {
    "duration": 5,
    "start_time": "2023-06-22T11:14:49.914Z"
   },
   {
    "duration": 12,
    "start_time": "2023-06-22T11:15:07.339Z"
   },
   {
    "duration": 9,
    "start_time": "2023-06-22T11:15:08.210Z"
   },
   {
    "duration": 24,
    "start_time": "2023-06-22T11:15:10.070Z"
   },
   {
    "duration": 19,
    "start_time": "2023-06-22T11:21:01.047Z"
   },
   {
    "duration": 138,
    "start_time": "2023-06-22T11:21:14.555Z"
   },
   {
    "duration": 42,
    "start_time": "2023-06-22T11:21:23.068Z"
   },
   {
    "duration": 5,
    "start_time": "2023-06-22T11:33:16.118Z"
   },
   {
    "duration": 29,
    "start_time": "2023-06-22T11:33:35.943Z"
   },
   {
    "duration": 1864,
    "start_time": "2023-06-22T11:37:23.130Z"
   },
   {
    "duration": 202,
    "start_time": "2023-06-22T11:37:25.000Z"
   },
   {
    "duration": 15,
    "start_time": "2023-06-22T11:37:25.204Z"
   },
   {
    "duration": 41,
    "start_time": "2023-06-22T11:37:25.222Z"
   },
   {
    "duration": 49,
    "start_time": "2023-06-22T11:37:25.269Z"
   },
   {
    "duration": 25,
    "start_time": "2023-06-22T11:37:25.320Z"
   },
   {
    "duration": 45,
    "start_time": "2023-06-22T11:37:25.347Z"
   },
   {
    "duration": 46,
    "start_time": "2023-06-22T11:37:25.396Z"
   },
   {
    "duration": 21,
    "start_time": "2023-06-22T11:37:25.444Z"
   },
   {
    "duration": 48,
    "start_time": "2023-06-22T11:37:25.471Z"
   },
   {
    "duration": 24,
    "start_time": "2023-06-22T11:37:25.522Z"
   },
   {
    "duration": 29,
    "start_time": "2023-06-22T11:37:25.549Z"
   },
   {
    "duration": 35,
    "start_time": "2023-06-22T11:37:25.580Z"
   },
   {
    "duration": 13,
    "start_time": "2023-06-22T11:37:25.623Z"
   },
   {
    "duration": 23,
    "start_time": "2023-06-22T11:37:25.638Z"
   },
   {
    "duration": 35,
    "start_time": "2023-06-22T11:37:25.665Z"
   },
   {
    "duration": 18,
    "start_time": "2023-06-22T11:37:25.706Z"
   },
   {
    "duration": 13,
    "start_time": "2023-06-22T11:37:25.726Z"
   },
   {
    "duration": 172,
    "start_time": "2023-06-22T11:37:25.741Z"
   },
   {
    "duration": 0,
    "start_time": "2023-06-22T11:37:25.915Z"
   },
   {
    "duration": 0,
    "start_time": "2023-06-22T11:37:25.916Z"
   },
   {
    "duration": 0,
    "start_time": "2023-06-22T11:37:25.918Z"
   },
   {
    "duration": 0,
    "start_time": "2023-06-22T11:37:25.919Z"
   },
   {
    "duration": 0,
    "start_time": "2023-06-22T11:37:25.921Z"
   },
   {
    "duration": 0,
    "start_time": "2023-06-22T11:37:25.922Z"
   },
   {
    "duration": 0,
    "start_time": "2023-06-22T11:37:25.924Z"
   },
   {
    "duration": 0,
    "start_time": "2023-06-22T11:37:25.925Z"
   },
   {
    "duration": 0,
    "start_time": "2023-06-22T11:37:25.926Z"
   },
   {
    "duration": 0,
    "start_time": "2023-06-22T11:37:25.928Z"
   },
   {
    "duration": 0,
    "start_time": "2023-06-22T11:37:25.929Z"
   },
   {
    "duration": 0,
    "start_time": "2023-06-22T11:37:25.930Z"
   },
   {
    "duration": 1606,
    "start_time": "2023-06-22T11:58:00.517Z"
   },
   {
    "duration": 8,
    "start_time": "2023-06-22T11:58:10.555Z"
   },
   {
    "duration": 199,
    "start_time": "2023-06-22T11:59:40.521Z"
   },
   {
    "duration": 24,
    "start_time": "2023-06-22T12:01:45.355Z"
   },
   {
    "duration": 30,
    "start_time": "2023-06-22T12:01:51.456Z"
   },
   {
    "duration": 21,
    "start_time": "2023-06-22T12:02:46.033Z"
   },
   {
    "duration": 37,
    "start_time": "2023-06-22T12:05:56.521Z"
   },
   {
    "duration": 35,
    "start_time": "2023-06-22T12:06:23.657Z"
   },
   {
    "duration": 27,
    "start_time": "2023-06-22T12:08:57.236Z"
   },
   {
    "duration": 21,
    "start_time": "2023-06-22T12:09:17.850Z"
   },
   {
    "duration": 24,
    "start_time": "2023-06-22T12:24:01.821Z"
   },
   {
    "duration": 19,
    "start_time": "2023-06-22T12:25:33.280Z"
   },
   {
    "duration": 40,
    "start_time": "2023-06-22T12:25:34.905Z"
   },
   {
    "duration": 43,
    "start_time": "2023-06-22T12:26:39.720Z"
   },
   {
    "duration": 3670,
    "start_time": "2023-06-22T12:29:03.364Z"
   },
   {
    "duration": 92,
    "start_time": "2023-06-22T12:29:07.037Z"
   },
   {
    "duration": 51,
    "start_time": "2023-06-22T12:29:07.135Z"
   },
   {
    "duration": 49,
    "start_time": "2023-06-22T12:29:07.190Z"
   },
   {
    "duration": 32,
    "start_time": "2023-06-22T12:29:07.246Z"
   },
   {
    "duration": 24,
    "start_time": "2023-06-22T12:29:07.285Z"
   },
   {
    "duration": 20,
    "start_time": "2023-06-22T12:29:07.316Z"
   },
   {
    "duration": 67,
    "start_time": "2023-06-22T12:29:07.344Z"
   },
   {
    "duration": 19,
    "start_time": "2023-06-22T12:29:07.414Z"
   },
   {
    "duration": 56,
    "start_time": "2023-06-22T12:29:07.438Z"
   },
   {
    "duration": 29,
    "start_time": "2023-06-22T12:29:07.502Z"
   },
   {
    "duration": 121,
    "start_time": "2023-06-22T12:29:07.534Z"
   },
   {
    "duration": 18,
    "start_time": "2023-06-22T12:29:07.657Z"
   },
   {
    "duration": 14,
    "start_time": "2023-06-22T12:29:07.677Z"
   },
   {
    "duration": 17,
    "start_time": "2023-06-22T12:29:07.693Z"
   },
   {
    "duration": 40,
    "start_time": "2023-06-22T12:29:07.713Z"
   },
   {
    "duration": 11,
    "start_time": "2023-06-22T12:29:07.756Z"
   },
   {
    "duration": 44,
    "start_time": "2023-06-22T12:29:07.771Z"
   },
   {
    "duration": 22,
    "start_time": "2023-06-22T12:29:07.818Z"
   },
   {
    "duration": 209,
    "start_time": "2023-06-22T12:29:07.844Z"
   },
   {
    "duration": 15,
    "start_time": "2023-06-22T12:29:08.056Z"
   },
   {
    "duration": 143,
    "start_time": "2023-06-22T12:29:08.074Z"
   },
   {
    "duration": 309,
    "start_time": "2023-06-22T12:29:08.220Z"
   },
   {
    "duration": 0,
    "start_time": "2023-06-22T12:29:08.531Z"
   },
   {
    "duration": 0,
    "start_time": "2023-06-22T12:29:08.533Z"
   },
   {
    "duration": 0,
    "start_time": "2023-06-22T12:29:08.534Z"
   },
   {
    "duration": 0,
    "start_time": "2023-06-22T12:29:08.536Z"
   },
   {
    "duration": 0,
    "start_time": "2023-06-22T12:29:08.537Z"
   },
   {
    "duration": 0,
    "start_time": "2023-06-22T12:29:08.539Z"
   },
   {
    "duration": 0,
    "start_time": "2023-06-22T12:29:08.540Z"
   },
   {
    "duration": 0,
    "start_time": "2023-06-22T12:29:08.542Z"
   },
   {
    "duration": 0,
    "start_time": "2023-06-22T12:29:08.544Z"
   },
   {
    "duration": 0,
    "start_time": "2023-06-22T12:29:08.545Z"
   },
   {
    "duration": 0,
    "start_time": "2023-06-22T12:29:08.547Z"
   },
   {
    "duration": 0,
    "start_time": "2023-06-22T12:29:08.549Z"
   },
   {
    "duration": 55,
    "start_time": "2023-06-22T12:29:35.485Z"
   },
   {
    "duration": 50,
    "start_time": "2023-06-22T12:32:22.450Z"
   },
   {
    "duration": 15727,
    "start_time": "2023-06-22T12:35:56.240Z"
   },
   {
    "duration": 9,
    "start_time": "2023-06-22T12:36:14.409Z"
   },
   {
    "duration": 125,
    "start_time": "2023-06-22T12:36:16.353Z"
   },
   {
    "duration": 21,
    "start_time": "2023-06-22T12:36:17.747Z"
   },
   {
    "duration": 28,
    "start_time": "2023-06-22T12:36:18.457Z"
   },
   {
    "duration": 17,
    "start_time": "2023-06-22T12:36:20.433Z"
   },
   {
    "duration": 11,
    "start_time": "2023-06-22T12:36:21.147Z"
   },
   {
    "duration": 8,
    "start_time": "2023-06-22T12:36:21.949Z"
   },
   {
    "duration": 13,
    "start_time": "2023-06-22T12:36:26.366Z"
   },
   {
    "duration": 33,
    "start_time": "2023-06-22T12:36:28.813Z"
   },
   {
    "duration": 34,
    "start_time": "2023-06-22T12:36:29.930Z"
   },
   {
    "duration": 8,
    "start_time": "2023-06-22T12:36:32.477Z"
   },
   {
    "duration": 77,
    "start_time": "2023-06-22T12:36:33.483Z"
   },
   {
    "duration": 10,
    "start_time": "2023-06-22T12:36:36.055Z"
   },
   {
    "duration": 23,
    "start_time": "2023-06-22T12:36:37.763Z"
   },
   {
    "duration": 6,
    "start_time": "2023-06-22T12:36:49.636Z"
   },
   {
    "duration": 12,
    "start_time": "2023-06-22T12:36:53.139Z"
   },
   {
    "duration": 19,
    "start_time": "2023-06-22T12:36:53.917Z"
   },
   {
    "duration": 42,
    "start_time": "2023-06-22T12:36:54.719Z"
   },
   {
    "duration": 13,
    "start_time": "2023-06-22T12:36:58.138Z"
   },
   {
    "duration": 205,
    "start_time": "2023-06-22T12:37:00.249Z"
   },
   {
    "duration": 72,
    "start_time": "2023-06-22T12:37:04.352Z"
   },
   {
    "duration": 4071,
    "start_time": "2023-06-22T12:37:18.557Z"
   },
   {
    "duration": 4644,
    "start_time": "2023-06-22T12:37:22.631Z"
   },
   {
    "duration": 65,
    "start_time": "2023-06-22T12:37:27.276Z"
   },
   {
    "duration": 31,
    "start_time": "2023-06-22T12:37:27.343Z"
   },
   {
    "duration": 45,
    "start_time": "2023-06-22T12:37:27.385Z"
   },
   {
    "duration": 16,
    "start_time": "2023-06-22T12:37:27.433Z"
   },
   {
    "duration": 11,
    "start_time": "2023-06-22T12:37:27.451Z"
   },
   {
    "duration": 27,
    "start_time": "2023-06-22T12:37:27.464Z"
   },
   {
    "duration": 42,
    "start_time": "2023-06-22T12:37:27.493Z"
   },
   {
    "duration": 17,
    "start_time": "2023-06-22T12:37:27.538Z"
   },
   {
    "duration": 37,
    "start_time": "2023-06-22T12:37:27.557Z"
   },
   {
    "duration": 39,
    "start_time": "2023-06-22T12:37:27.596Z"
   },
   {
    "duration": 36,
    "start_time": "2023-06-22T12:37:27.639Z"
   },
   {
    "duration": 15,
    "start_time": "2023-06-22T12:37:27.683Z"
   },
   {
    "duration": 18,
    "start_time": "2023-06-22T12:37:27.704Z"
   },
   {
    "duration": 23,
    "start_time": "2023-06-22T12:37:27.725Z"
   },
   {
    "duration": 23,
    "start_time": "2023-06-22T12:37:27.751Z"
   },
   {
    "duration": 15,
    "start_time": "2023-06-22T12:37:27.792Z"
   },
   {
    "duration": 28,
    "start_time": "2023-06-22T12:37:27.812Z"
   },
   {
    "duration": 11,
    "start_time": "2023-06-22T12:37:27.841Z"
   },
   {
    "duration": 180,
    "start_time": "2023-06-22T12:37:27.854Z"
   },
   {
    "duration": 206,
    "start_time": "2023-06-22T12:37:28.036Z"
   },
   {
    "duration": 0,
    "start_time": "2023-06-22T12:37:28.245Z"
   },
   {
    "duration": 0,
    "start_time": "2023-06-22T12:37:28.247Z"
   },
   {
    "duration": 0,
    "start_time": "2023-06-22T12:37:28.249Z"
   },
   {
    "duration": 0,
    "start_time": "2023-06-22T12:37:28.251Z"
   },
   {
    "duration": 0,
    "start_time": "2023-06-22T12:37:28.252Z"
   },
   {
    "duration": 0,
    "start_time": "2023-06-22T12:37:28.271Z"
   },
   {
    "duration": 0,
    "start_time": "2023-06-22T12:37:28.271Z"
   },
   {
    "duration": 0,
    "start_time": "2023-06-22T12:37:28.272Z"
   },
   {
    "duration": 0,
    "start_time": "2023-06-22T12:37:28.273Z"
   },
   {
    "duration": 0,
    "start_time": "2023-06-22T12:37:28.282Z"
   },
   {
    "duration": 0,
    "start_time": "2023-06-22T12:37:28.288Z"
   },
   {
    "duration": 0,
    "start_time": "2023-06-22T12:37:28.289Z"
   },
   {
    "duration": 48,
    "start_time": "2023-06-22T12:38:04.853Z"
   },
   {
    "duration": 2175,
    "start_time": "2023-06-22T12:38:47.586Z"
   },
   {
    "duration": 10,
    "start_time": "2023-06-22T12:39:06.731Z"
   },
   {
    "duration": 3680,
    "start_time": "2023-06-22T12:39:09.439Z"
   },
   {
    "duration": 11,
    "start_time": "2023-06-22T12:39:14.405Z"
   },
   {
    "duration": 68,
    "start_time": "2023-06-22T12:39:16.030Z"
   },
   {
    "duration": 31,
    "start_time": "2023-06-22T12:39:17.546Z"
   },
   {
    "duration": 27,
    "start_time": "2023-06-22T12:39:18.232Z"
   },
   {
    "duration": 25,
    "start_time": "2023-06-22T12:39:18.627Z"
   },
   {
    "duration": 16,
    "start_time": "2023-06-22T12:39:18.755Z"
   },
   {
    "duration": 10,
    "start_time": "2023-06-22T12:39:19.012Z"
   },
   {
    "duration": 7,
    "start_time": "2023-06-22T12:39:22.546Z"
   },
   {
    "duration": 8,
    "start_time": "2023-06-22T12:39:24.753Z"
   },
   {
    "duration": 38,
    "start_time": "2023-06-22T12:39:26.744Z"
   },
   {
    "duration": 15,
    "start_time": "2023-06-22T12:39:28.923Z"
   },
   {
    "duration": 39,
    "start_time": "2023-06-22T12:39:29.921Z"
   },
   {
    "duration": 7,
    "start_time": "2023-06-22T12:39:31.927Z"
   },
   {
    "duration": 23,
    "start_time": "2023-06-22T12:39:32.556Z"
   },
   {
    "duration": 9,
    "start_time": "2023-06-22T12:39:38.932Z"
   },
   {
    "duration": 28,
    "start_time": "2023-06-22T12:39:42.567Z"
   },
   {
    "duration": 12,
    "start_time": "2023-06-22T12:39:43.271Z"
   },
   {
    "duration": 29,
    "start_time": "2023-06-22T12:39:44.166Z"
   },
   {
    "duration": 9,
    "start_time": "2023-06-22T12:39:46.126Z"
   },
   {
    "duration": 205,
    "start_time": "2023-06-22T12:39:47.626Z"
   },
   {
    "duration": 51,
    "start_time": "2023-06-22T12:39:50.840Z"
   },
   {
    "duration": 122,
    "start_time": "2023-06-22T12:46:15.825Z"
   },
   {
    "duration": 45,
    "start_time": "2023-06-22T13:11:54.432Z"
   },
   {
    "duration": 26,
    "start_time": "2023-06-22T13:12:11.922Z"
   },
   {
    "duration": 3558,
    "start_time": "2023-06-22T13:12:36.144Z"
   },
   {
    "duration": 2452,
    "start_time": "2023-06-22T13:12:39.706Z"
   },
   {
    "duration": 349,
    "start_time": "2023-06-22T13:12:42.160Z"
   },
   {
    "duration": 28,
    "start_time": "2023-06-22T13:12:42.512Z"
   },
   {
    "duration": 36,
    "start_time": "2023-06-22T13:12:42.543Z"
   },
   {
    "duration": 30,
    "start_time": "2023-06-22T13:12:42.583Z"
   },
   {
    "duration": 19,
    "start_time": "2023-06-22T13:12:42.623Z"
   },
   {
    "duration": 34,
    "start_time": "2023-06-22T13:12:42.644Z"
   },
   {
    "duration": 26,
    "start_time": "2023-06-22T13:12:42.685Z"
   },
   {
    "duration": 10,
    "start_time": "2023-06-22T13:12:42.723Z"
   },
   {
    "duration": 65,
    "start_time": "2023-06-22T13:12:42.735Z"
   },
   {
    "duration": 35,
    "start_time": "2023-06-22T13:12:42.802Z"
   },
   {
    "duration": 77,
    "start_time": "2023-06-22T13:12:42.842Z"
   },
   {
    "duration": 18,
    "start_time": "2023-06-22T13:12:42.928Z"
   },
   {
    "duration": 35,
    "start_time": "2023-06-22T13:12:42.948Z"
   },
   {
    "duration": 30,
    "start_time": "2023-06-22T13:12:42.985Z"
   },
   {
    "duration": 20,
    "start_time": "2023-06-22T13:12:43.017Z"
   },
   {
    "duration": 15,
    "start_time": "2023-06-22T13:12:43.039Z"
   },
   {
    "duration": 38,
    "start_time": "2023-06-22T13:12:43.056Z"
   },
   {
    "duration": 16,
    "start_time": "2023-06-22T13:12:43.097Z"
   },
   {
    "duration": 215,
    "start_time": "2023-06-22T13:12:43.115Z"
   },
   {
    "duration": 48,
    "start_time": "2023-06-22T13:12:43.334Z"
   },
   {
    "duration": 239,
    "start_time": "2023-06-22T13:12:43.388Z"
   },
   {
    "duration": 1,
    "start_time": "2023-06-22T13:12:43.634Z"
   },
   {
    "duration": 0,
    "start_time": "2023-06-22T13:12:43.639Z"
   },
   {
    "duration": 0,
    "start_time": "2023-06-22T13:12:43.640Z"
   },
   {
    "duration": 0,
    "start_time": "2023-06-22T13:12:43.642Z"
   },
   {
    "duration": 0,
    "start_time": "2023-06-22T13:12:43.644Z"
   },
   {
    "duration": 0,
    "start_time": "2023-06-22T13:12:43.646Z"
   },
   {
    "duration": 0,
    "start_time": "2023-06-22T13:12:43.649Z"
   },
   {
    "duration": 0,
    "start_time": "2023-06-22T13:12:43.650Z"
   },
   {
    "duration": 0,
    "start_time": "2023-06-22T13:12:43.652Z"
   },
   {
    "duration": 0,
    "start_time": "2023-06-22T13:12:43.654Z"
   },
   {
    "duration": 0,
    "start_time": "2023-06-22T13:12:43.655Z"
   },
   {
    "duration": 47,
    "start_time": "2023-06-22T13:13:20.059Z"
   },
   {
    "duration": 4011,
    "start_time": "2023-06-22T13:13:54.558Z"
   },
   {
    "duration": 7,
    "start_time": "2023-06-22T13:13:59.729Z"
   },
   {
    "duration": 60,
    "start_time": "2023-06-22T13:14:00.835Z"
   },
   {
    "duration": 20,
    "start_time": "2023-06-22T13:14:01.245Z"
   },
   {
    "duration": 16,
    "start_time": "2023-06-22T13:14:01.433Z"
   },
   {
    "duration": 19,
    "start_time": "2023-06-22T13:14:01.833Z"
   },
   {
    "duration": 12,
    "start_time": "2023-06-22T13:14:02.029Z"
   },
   {
    "duration": 18,
    "start_time": "2023-06-22T13:14:02.336Z"
   },
   {
    "duration": 8,
    "start_time": "2023-06-22T13:14:03.631Z"
   },
   {
    "duration": 10,
    "start_time": "2023-06-22T13:14:04.131Z"
   },
   {
    "duration": 64,
    "start_time": "2023-06-22T13:14:04.427Z"
   },
   {
    "duration": 7,
    "start_time": "2023-06-22T13:14:05.031Z"
   },
   {
    "duration": 42,
    "start_time": "2023-06-22T13:14:05.237Z"
   },
   {
    "duration": 7,
    "start_time": "2023-06-22T13:14:06.251Z"
   },
   {
    "duration": 14,
    "start_time": "2023-06-22T13:14:07.541Z"
   },
   {
    "duration": 8,
    "start_time": "2023-06-22T13:14:12.342Z"
   },
   {
    "duration": 24,
    "start_time": "2023-06-22T13:14:14.237Z"
   },
   {
    "duration": 12,
    "start_time": "2023-06-22T13:14:14.756Z"
   },
   {
    "duration": 13,
    "start_time": "2023-06-22T13:14:15.423Z"
   },
   {
    "duration": 28,
    "start_time": "2023-06-22T13:14:17.016Z"
   },
   {
    "duration": 195,
    "start_time": "2023-06-22T13:14:18.285Z"
   },
   {
    "duration": 28,
    "start_time": "2023-06-22T13:14:21.221Z"
   },
   {
    "duration": 45,
    "start_time": "2023-06-22T13:14:28.920Z"
   },
   {
    "duration": 17,
    "start_time": "2023-06-22T13:15:56.418Z"
   },
   {
    "duration": 3366,
    "start_time": "2023-06-22T13:16:45.118Z"
   },
   {
    "duration": 1506,
    "start_time": "2023-06-22T13:16:48.486Z"
   },
   {
    "duration": 61,
    "start_time": "2023-06-22T13:16:50.000Z"
   },
   {
    "duration": 16,
    "start_time": "2023-06-22T13:16:50.063Z"
   },
   {
    "duration": 29,
    "start_time": "2023-06-22T13:16:50.081Z"
   },
   {
    "duration": 23,
    "start_time": "2023-06-22T13:16:50.113Z"
   },
   {
    "duration": 27,
    "start_time": "2023-06-22T13:16:50.138Z"
   },
   {
    "duration": 58,
    "start_time": "2023-06-22T13:16:50.167Z"
   },
   {
    "duration": 8,
    "start_time": "2023-06-22T13:16:50.226Z"
   },
   {
    "duration": 14,
    "start_time": "2023-06-22T13:16:50.236Z"
   },
   {
    "duration": 46,
    "start_time": "2023-06-22T13:16:50.251Z"
   },
   {
    "duration": 7,
    "start_time": "2023-06-22T13:16:50.299Z"
   },
   {
    "duration": 28,
    "start_time": "2023-06-22T13:16:50.308Z"
   },
   {
    "duration": 7,
    "start_time": "2023-06-22T13:16:50.340Z"
   },
   {
    "duration": 32,
    "start_time": "2023-06-22T13:16:50.349Z"
   },
   {
    "duration": 10,
    "start_time": "2023-06-22T13:16:50.392Z"
   },
   {
    "duration": 32,
    "start_time": "2023-06-22T13:16:50.404Z"
   },
   {
    "duration": 12,
    "start_time": "2023-06-22T13:16:50.438Z"
   },
   {
    "duration": 9,
    "start_time": "2023-06-22T13:16:50.452Z"
   },
   {
    "duration": 36,
    "start_time": "2023-06-22T13:16:50.463Z"
   },
   {
    "duration": 145,
    "start_time": "2023-06-22T13:16:50.501Z"
   },
   {
    "duration": 45,
    "start_time": "2023-06-22T13:16:50.648Z"
   },
   {
    "duration": 286,
    "start_time": "2023-06-22T13:16:50.696Z"
   },
   {
    "duration": 8330,
    "start_time": "2023-06-22T13:16:50.996Z"
   },
   {
    "duration": 84,
    "start_time": "2023-06-22T13:16:59.329Z"
   },
   {
    "duration": 153,
    "start_time": "2023-06-22T13:16:59.472Z"
   },
   {
    "duration": 159,
    "start_time": "2023-06-22T13:16:59.627Z"
   },
   {
    "duration": 0,
    "start_time": "2023-06-22T13:16:59.796Z"
   },
   {
    "duration": 0,
    "start_time": "2023-06-22T13:16:59.801Z"
   },
   {
    "duration": 0,
    "start_time": "2023-06-22T13:16:59.803Z"
   },
   {
    "duration": 0,
    "start_time": "2023-06-22T13:16:59.805Z"
   },
   {
    "duration": 0,
    "start_time": "2023-06-22T13:16:59.808Z"
   },
   {
    "duration": 0,
    "start_time": "2023-06-22T13:16:59.812Z"
   },
   {
    "duration": 0,
    "start_time": "2023-06-22T13:16:59.813Z"
   },
   {
    "duration": 3071,
    "start_time": "2023-06-22T13:17:14.645Z"
   },
   {
    "duration": 6,
    "start_time": "2023-06-22T13:17:17.718Z"
   },
   {
    "duration": 64,
    "start_time": "2023-06-22T13:27:15.331Z"
   },
   {
    "duration": 42,
    "start_time": "2023-06-22T13:27:16.216Z"
   },
   {
    "duration": 38,
    "start_time": "2023-06-22T13:27:16.437Z"
   },
   {
    "duration": 20,
    "start_time": "2023-06-22T13:27:16.923Z"
   },
   {
    "duration": 16,
    "start_time": "2023-06-22T13:27:17.207Z"
   },
   {
    "duration": 6,
    "start_time": "2023-06-22T13:27:17.430Z"
   },
   {
    "duration": 7,
    "start_time": "2023-06-22T13:27:19.824Z"
   },
   {
    "duration": 7,
    "start_time": "2023-06-22T13:27:20.353Z"
   },
   {
    "duration": 31,
    "start_time": "2023-06-22T13:27:20.665Z"
   },
   {
    "duration": 11,
    "start_time": "2023-06-22T13:27:21.917Z"
   },
   {
    "duration": 39,
    "start_time": "2023-06-22T13:27:22.317Z"
   },
   {
    "duration": 32,
    "start_time": "2023-06-22T13:27:23.263Z"
   },
   {
    "duration": 8,
    "start_time": "2023-06-22T13:27:23.833Z"
   },
   {
    "duration": 11,
    "start_time": "2023-06-22T13:27:29.624Z"
   },
   {
    "duration": 13,
    "start_time": "2023-06-22T13:27:31.839Z"
   },
   {
    "duration": 13,
    "start_time": "2023-06-22T13:27:32.422Z"
   },
   {
    "duration": 26,
    "start_time": "2023-06-22T13:27:33.052Z"
   },
   {
    "duration": 19,
    "start_time": "2023-06-22T13:27:34.944Z"
   },
   {
    "duration": 190,
    "start_time": "2023-06-22T13:27:36.234Z"
   },
   {
    "duration": 58,
    "start_time": "2023-06-22T13:27:39.006Z"
   },
   {
    "duration": 309,
    "start_time": "2023-06-22T13:27:44.222Z"
   },
   {
    "duration": 9424,
    "start_time": "2023-06-22T13:28:05.231Z"
   },
   {
    "duration": 123,
    "start_time": "2023-06-22T13:28:29.720Z"
   },
   {
    "duration": 79,
    "start_time": "2023-06-22T13:29:25.125Z"
   },
   {
    "duration": 52,
    "start_time": "2023-06-22T13:29:38.881Z"
   },
   {
    "duration": 20,
    "start_time": "2023-06-22T13:29:41.121Z"
   },
   {
    "duration": 62,
    "start_time": "2023-06-22T13:29:43.977Z"
   },
   {
    "duration": 46,
    "start_time": "2023-06-22T13:29:46.429Z"
   },
   {
    "duration": 25,
    "start_time": "2023-06-22T13:30:14.510Z"
   },
   {
    "duration": 36,
    "start_time": "2023-06-22T13:30:16.143Z"
   },
   {
    "duration": 83,
    "start_time": "2023-06-22T13:30:18.343Z"
   },
   {
    "duration": 14,
    "start_time": "2023-06-22T13:30:26.043Z"
   },
   {
    "duration": 71,
    "start_time": "2023-06-22T13:31:11.756Z"
   },
   {
    "duration": 28,
    "start_time": "2023-06-22T13:31:27.614Z"
   },
   {
    "duration": 4608,
    "start_time": "2023-06-22T13:31:44.838Z"
   },
   {
    "duration": 81,
    "start_time": "2023-06-22T13:32:04.713Z"
   },
   {
    "duration": 46,
    "start_time": "2023-06-22T13:32:32.868Z"
   },
   {
    "duration": 3964,
    "start_time": "2023-06-22T13:33:12.342Z"
   },
   {
    "duration": 1768,
    "start_time": "2023-06-22T13:33:16.311Z"
   },
   {
    "duration": 74,
    "start_time": "2023-06-22T13:33:18.085Z"
   },
   {
    "duration": 22,
    "start_time": "2023-06-22T13:33:18.164Z"
   },
   {
    "duration": 33,
    "start_time": "2023-06-22T13:33:18.188Z"
   },
   {
    "duration": 76,
    "start_time": "2023-06-22T13:33:18.223Z"
   },
   {
    "duration": 49,
    "start_time": "2023-06-22T13:33:18.301Z"
   },
   {
    "duration": 29,
    "start_time": "2023-06-22T13:33:18.352Z"
   },
   {
    "duration": 26,
    "start_time": "2023-06-22T13:33:18.383Z"
   },
   {
    "duration": 17,
    "start_time": "2023-06-22T13:33:18.413Z"
   },
   {
    "duration": 31,
    "start_time": "2023-06-22T13:33:18.432Z"
   },
   {
    "duration": 29,
    "start_time": "2023-06-22T13:33:18.465Z"
   },
   {
    "duration": 48,
    "start_time": "2023-06-22T13:33:18.497Z"
   },
   {
    "duration": 7,
    "start_time": "2023-06-22T13:33:18.548Z"
   },
   {
    "duration": 36,
    "start_time": "2023-06-22T13:33:18.557Z"
   },
   {
    "duration": 27,
    "start_time": "2023-06-22T13:33:18.595Z"
   },
   {
    "duration": 41,
    "start_time": "2023-06-22T13:33:18.624Z"
   },
   {
    "duration": 24,
    "start_time": "2023-06-22T13:33:18.666Z"
   },
   {
    "duration": 35,
    "start_time": "2023-06-22T13:33:18.698Z"
   },
   {
    "duration": 8,
    "start_time": "2023-06-22T13:33:18.735Z"
   },
   {
    "duration": 174,
    "start_time": "2023-06-22T13:33:18.745Z"
   },
   {
    "duration": 54,
    "start_time": "2023-06-22T13:33:18.921Z"
   },
   {
    "duration": 322,
    "start_time": "2023-06-22T13:33:18.984Z"
   },
   {
    "duration": 9114,
    "start_time": "2023-06-22T13:33:19.308Z"
   },
   {
    "duration": 189,
    "start_time": "2023-06-22T13:33:28.424Z"
   },
   {
    "duration": 102,
    "start_time": "2023-06-22T13:33:28.635Z"
   },
   {
    "duration": 3134,
    "start_time": "2023-06-22T13:33:28.742Z"
   },
   {
    "duration": 226,
    "start_time": "2023-06-22T13:33:31.882Z"
   },
   {
    "duration": 0,
    "start_time": "2023-06-22T13:33:32.112Z"
   },
   {
    "duration": 0,
    "start_time": "2023-06-22T13:33:32.114Z"
   },
   {
    "duration": 0,
    "start_time": "2023-06-22T13:33:32.115Z"
   },
   {
    "duration": 0,
    "start_time": "2023-06-22T13:33:32.116Z"
   },
   {
    "duration": 0,
    "start_time": "2023-06-22T13:33:32.118Z"
   },
   {
    "duration": 0,
    "start_time": "2023-06-22T13:33:32.119Z"
   },
   {
    "duration": 8522,
    "start_time": "2023-06-23T10:37:26.205Z"
   },
   {
    "duration": 1752,
    "start_time": "2023-06-23T10:37:34.729Z"
   },
   {
    "duration": 136,
    "start_time": "2023-06-23T10:37:36.485Z"
   },
   {
    "duration": 17,
    "start_time": "2023-06-23T10:37:36.624Z"
   },
   {
    "duration": 36,
    "start_time": "2023-06-23T10:37:36.643Z"
   },
   {
    "duration": 51,
    "start_time": "2023-06-23T10:37:36.681Z"
   },
   {
    "duration": 17,
    "start_time": "2023-06-23T10:37:36.733Z"
   },
   {
    "duration": 18,
    "start_time": "2023-06-23T10:37:36.752Z"
   },
   {
    "duration": 77,
    "start_time": "2023-06-23T10:37:36.771Z"
   },
   {
    "duration": 32,
    "start_time": "2023-06-23T10:37:36.849Z"
   },
   {
    "duration": 76,
    "start_time": "2023-06-23T10:37:36.882Z"
   },
   {
    "duration": 21,
    "start_time": "2023-06-23T10:37:36.960Z"
   },
   {
    "duration": 68,
    "start_time": "2023-06-23T10:37:36.986Z"
   },
   {
    "duration": 12,
    "start_time": "2023-06-23T10:37:37.057Z"
   },
   {
    "duration": 56,
    "start_time": "2023-06-23T10:37:37.071Z"
   },
   {
    "duration": 27,
    "start_time": "2023-06-23T10:37:37.129Z"
   },
   {
    "duration": 78,
    "start_time": "2023-06-23T10:37:37.158Z"
   },
   {
    "duration": 16,
    "start_time": "2023-06-23T10:37:37.237Z"
   },
   {
    "duration": 79,
    "start_time": "2023-06-23T10:37:37.255Z"
   },
   {
    "duration": 21,
    "start_time": "2023-06-23T10:37:37.336Z"
   },
   {
    "duration": 177,
    "start_time": "2023-06-23T10:37:37.359Z"
   },
   {
    "duration": 28,
    "start_time": "2023-06-23T10:37:37.538Z"
   },
   {
    "duration": 322,
    "start_time": "2023-06-23T10:37:37.568Z"
   },
   {
    "duration": 7248,
    "start_time": "2023-06-23T10:37:37.894Z"
   },
   {
    "duration": 63,
    "start_time": "2023-06-23T10:37:45.144Z"
   },
   {
    "duration": 97,
    "start_time": "2023-06-23T10:37:45.209Z"
   },
   {
    "duration": 5030,
    "start_time": "2023-06-23T10:37:45.314Z"
   },
   {
    "duration": 164,
    "start_time": "2023-06-23T10:37:50.346Z"
   },
   {
    "duration": 0,
    "start_time": "2023-06-23T10:37:50.513Z"
   },
   {
    "duration": 0,
    "start_time": "2023-06-23T10:37:50.514Z"
   },
   {
    "duration": 0,
    "start_time": "2023-06-23T10:37:50.516Z"
   },
   {
    "duration": 0,
    "start_time": "2023-06-23T10:37:50.517Z"
   },
   {
    "duration": 0,
    "start_time": "2023-06-23T10:37:50.518Z"
   },
   {
    "duration": 0,
    "start_time": "2023-06-23T10:37:50.520Z"
   },
   {
    "duration": 11,
    "start_time": "2023-06-23T10:40:55.998Z"
   },
   {
    "duration": 19,
    "start_time": "2023-06-23T10:41:08.704Z"
   },
   {
    "duration": 3104,
    "start_time": "2023-06-23T10:41:16.612Z"
   },
   {
    "duration": 12,
    "start_time": "2023-06-23T10:41:23.095Z"
   },
   {
    "duration": 46,
    "start_time": "2023-06-23T10:41:26.101Z"
   },
   {
    "duration": 19,
    "start_time": "2023-06-23T10:41:28.165Z"
   },
   {
    "duration": 13,
    "start_time": "2023-06-23T10:41:29.159Z"
   },
   {
    "duration": 10,
    "start_time": "2023-06-23T10:41:30.611Z"
   },
   {
    "duration": 18,
    "start_time": "2023-06-23T10:41:31.292Z"
   },
   {
    "duration": 6,
    "start_time": "2023-06-23T10:41:32.004Z"
   },
   {
    "duration": 6,
    "start_time": "2023-06-23T10:41:37.455Z"
   },
   {
    "duration": 8,
    "start_time": "2023-06-23T10:41:39.407Z"
   },
   {
    "duration": 20,
    "start_time": "2023-06-23T10:41:40.534Z"
   },
   {
    "duration": 5,
    "start_time": "2023-06-23T10:41:43.014Z"
   },
   {
    "duration": 21,
    "start_time": "2023-06-23T10:41:43.701Z"
   },
   {
    "duration": 6,
    "start_time": "2023-06-23T10:41:48.023Z"
   },
   {
    "duration": 15,
    "start_time": "2023-06-23T10:41:49.304Z"
   },
   {
    "duration": 5,
    "start_time": "2023-06-23T10:41:56.760Z"
   },
   {
    "duration": 11,
    "start_time": "2023-06-23T10:42:02.403Z"
   },
   {
    "duration": 7,
    "start_time": "2023-06-23T10:42:03.203Z"
   },
   {
    "duration": 10,
    "start_time": "2023-06-23T10:42:05.217Z"
   },
   {
    "duration": 6,
    "start_time": "2023-06-23T10:42:11.826Z"
   },
   {
    "duration": 123,
    "start_time": "2023-06-23T10:42:13.443Z"
   },
   {
    "duration": 41,
    "start_time": "2023-06-23T10:42:17.056Z"
   },
   {
    "duration": 261,
    "start_time": "2023-06-23T10:42:31.515Z"
   },
   {
    "duration": 7834,
    "start_time": "2023-06-23T10:42:56.659Z"
   },
   {
    "duration": 39,
    "start_time": "2023-06-23T10:56:44.271Z"
   },
   {
    "duration": 47,
    "start_time": "2023-06-23T10:57:41.595Z"
   },
   {
    "duration": 13,
    "start_time": "2023-06-23T10:58:22.641Z"
   },
   {
    "duration": 14,
    "start_time": "2023-06-23T10:58:43.535Z"
   },
   {
    "duration": 21,
    "start_time": "2023-06-23T10:58:48.323Z"
   },
   {
    "duration": 5,
    "start_time": "2023-06-23T10:58:55.525Z"
   },
   {
    "duration": 11,
    "start_time": "2023-06-23T11:00:49.930Z"
   },
   {
    "duration": 267,
    "start_time": "2023-06-23T11:01:18.071Z"
   },
   {
    "duration": 12,
    "start_time": "2023-06-23T11:01:31.859Z"
   },
   {
    "duration": 3765,
    "start_time": "2023-06-23T11:01:41.034Z"
   },
   {
    "duration": 1827,
    "start_time": "2023-06-23T11:01:44.812Z"
   },
   {
    "duration": 66,
    "start_time": "2023-06-23T11:01:46.645Z"
   },
   {
    "duration": 149,
    "start_time": "2023-06-23T11:01:46.717Z"
   },
   {
    "duration": 159,
    "start_time": "2023-06-23T11:01:46.871Z"
   },
   {
    "duration": 44,
    "start_time": "2023-06-23T11:01:47.033Z"
   },
   {
    "duration": 53,
    "start_time": "2023-06-23T11:01:47.079Z"
   },
   {
    "duration": 33,
    "start_time": "2023-06-23T11:01:47.137Z"
   },
   {
    "duration": 60,
    "start_time": "2023-06-23T11:01:47.171Z"
   },
   {
    "duration": 109,
    "start_time": "2023-06-23T11:01:47.233Z"
   },
   {
    "duration": 53,
    "start_time": "2023-06-23T11:01:47.344Z"
   },
   {
    "duration": 63,
    "start_time": "2023-06-23T11:01:47.398Z"
   },
   {
    "duration": 141,
    "start_time": "2023-06-23T11:01:47.464Z"
   },
   {
    "duration": 66,
    "start_time": "2023-06-23T11:01:47.608Z"
   },
   {
    "duration": 77,
    "start_time": "2023-06-23T11:01:47.684Z"
   },
   {
    "duration": 14,
    "start_time": "2023-06-23T11:01:47.763Z"
   },
   {
    "duration": 87,
    "start_time": "2023-06-23T11:01:47.780Z"
   },
   {
    "duration": 58,
    "start_time": "2023-06-23T11:01:47.868Z"
   },
   {
    "duration": 41,
    "start_time": "2023-06-23T11:01:47.927Z"
   },
   {
    "duration": 14,
    "start_time": "2023-06-23T11:01:47.969Z"
   },
   {
    "duration": 210,
    "start_time": "2023-06-23T11:01:47.984Z"
   },
   {
    "duration": 50,
    "start_time": "2023-06-23T11:01:48.198Z"
   },
   {
    "duration": 13,
    "start_time": "2023-06-23T11:01:48.251Z"
   },
   {
    "duration": 280,
    "start_time": "2023-06-23T11:01:48.266Z"
   },
   {
    "duration": 8468,
    "start_time": "2023-06-23T11:01:48.548Z"
   },
   {
    "duration": 187,
    "start_time": "2023-06-23T11:01:57.018Z"
   },
   {
    "duration": 1,
    "start_time": "2023-06-23T11:01:57.212Z"
   },
   {
    "duration": 0,
    "start_time": "2023-06-23T11:01:57.221Z"
   },
   {
    "duration": 0,
    "start_time": "2023-06-23T11:01:57.225Z"
   },
   {
    "duration": 0,
    "start_time": "2023-06-23T11:01:57.229Z"
   },
   {
    "duration": 0,
    "start_time": "2023-06-23T11:01:57.233Z"
   },
   {
    "duration": 0,
    "start_time": "2023-06-23T11:01:57.236Z"
   },
   {
    "duration": 0,
    "start_time": "2023-06-23T11:01:57.240Z"
   },
   {
    "duration": 0,
    "start_time": "2023-06-23T11:01:57.241Z"
   },
   {
    "duration": 0,
    "start_time": "2023-06-23T11:01:57.243Z"
   },
   {
    "duration": 0,
    "start_time": "2023-06-23T11:01:57.246Z"
   },
   {
    "duration": 15222,
    "start_time": "2023-06-24T15:15:12.955Z"
   },
   {
    "duration": 1453,
    "start_time": "2023-06-24T15:15:28.179Z"
   },
   {
    "duration": 81,
    "start_time": "2023-06-24T15:15:29.641Z"
   },
   {
    "duration": 19,
    "start_time": "2023-06-24T15:15:29.724Z"
   },
   {
    "duration": 28,
    "start_time": "2023-06-24T15:15:29.759Z"
   },
   {
    "duration": 10,
    "start_time": "2023-06-24T15:15:29.788Z"
   },
   {
    "duration": 7,
    "start_time": "2023-06-24T15:15:30.283Z"
   },
   {
    "duration": 5,
    "start_time": "2023-06-24T15:15:31.216Z"
   },
   {
    "duration": 10,
    "start_time": "2023-06-24T15:16:01.432Z"
   },
   {
    "duration": 4,
    "start_time": "2023-06-24T15:16:17.761Z"
   },
   {
    "duration": 3,
    "start_time": "2023-06-24T15:16:26.361Z"
   },
   {
    "duration": 9,
    "start_time": "2023-06-24T15:16:40.540Z"
   },
   {
    "duration": 6,
    "start_time": "2023-06-24T15:16:42.459Z"
   },
   {
    "duration": 34,
    "start_time": "2023-06-24T15:16:44.212Z"
   },
   {
    "duration": 6,
    "start_time": "2023-06-24T15:16:45.785Z"
   },
   {
    "duration": 22,
    "start_time": "2023-06-24T15:16:46.637Z"
   },
   {
    "duration": 6,
    "start_time": "2023-06-24T15:16:48.287Z"
   },
   {
    "duration": 6,
    "start_time": "2023-06-24T15:16:48.986Z"
   },
   {
    "duration": 8,
    "start_time": "2023-06-24T15:16:57.844Z"
   },
   {
    "duration": 8,
    "start_time": "2023-06-24T15:16:59.964Z"
   },
   {
    "duration": 5,
    "start_time": "2023-06-24T15:17:00.914Z"
   },
   {
    "duration": 9,
    "start_time": "2023-06-24T15:17:02.013Z"
   },
   {
    "duration": 6,
    "start_time": "2023-06-24T15:17:03.716Z"
   },
   {
    "duration": 115,
    "start_time": "2023-06-24T15:17:07.090Z"
   },
   {
    "duration": 28,
    "start_time": "2023-06-24T15:17:16.195Z"
   },
   {
    "duration": 11,
    "start_time": "2023-06-24T15:17:17.838Z"
   },
   {
    "duration": 247,
    "start_time": "2023-06-24T15:17:22.619Z"
   },
   {
    "duration": 6983,
    "start_time": "2023-06-24T15:17:34.784Z"
   },
   {
    "duration": 127,
    "start_time": "2023-06-24T15:18:27.298Z"
   },
   {
    "duration": 23,
    "start_time": "2023-06-24T15:20:14.149Z"
   },
   {
    "duration": 101,
    "start_time": "2023-06-24T15:22:00.238Z"
   },
   {
    "duration": 166,
    "start_time": "2023-06-24T15:25:32.267Z"
   },
   {
    "duration": 32,
    "start_time": "2023-06-24T15:25:40.604Z"
   },
   {
    "duration": 3834,
    "start_time": "2023-06-24T15:28:37.904Z"
   },
   {
    "duration": 2228,
    "start_time": "2023-06-24T15:29:05.353Z"
   },
   {
    "duration": 2340,
    "start_time": "2023-06-24T15:29:48.151Z"
   },
   {
    "duration": 172,
    "start_time": "2023-06-24T15:32:20.222Z"
   },
   {
    "duration": 4,
    "start_time": "2023-06-24T15:33:12.113Z"
   },
   {
    "duration": 132,
    "start_time": "2023-06-24T15:33:22.008Z"
   },
   {
    "duration": 2957,
    "start_time": "2023-06-24T15:33:38.955Z"
   },
   {
    "duration": 1271,
    "start_time": "2023-06-24T15:33:41.915Z"
   },
   {
    "duration": 39,
    "start_time": "2023-06-24T15:33:43.188Z"
   },
   {
    "duration": 21,
    "start_time": "2023-06-24T15:33:43.228Z"
   },
   {
    "duration": 36,
    "start_time": "2023-06-24T15:33:43.253Z"
   },
   {
    "duration": 12,
    "start_time": "2023-06-24T15:33:43.291Z"
   },
   {
    "duration": 8,
    "start_time": "2023-06-24T15:33:43.304Z"
   },
   {
    "duration": 8,
    "start_time": "2023-06-24T15:33:43.313Z"
   },
   {
    "duration": 49,
    "start_time": "2023-06-24T15:33:43.322Z"
   },
   {
    "duration": 0,
    "start_time": "2023-06-24T15:33:43.373Z"
   },
   {
    "duration": 0,
    "start_time": "2023-06-24T15:33:43.375Z"
   },
   {
    "duration": 0,
    "start_time": "2023-06-24T15:33:43.376Z"
   },
   {
    "duration": 0,
    "start_time": "2023-06-24T15:33:43.377Z"
   },
   {
    "duration": 0,
    "start_time": "2023-06-24T15:33:43.378Z"
   },
   {
    "duration": 0,
    "start_time": "2023-06-24T15:33:43.381Z"
   },
   {
    "duration": 0,
    "start_time": "2023-06-24T15:33:43.382Z"
   },
   {
    "duration": 0,
    "start_time": "2023-06-24T15:33:43.383Z"
   },
   {
    "duration": 0,
    "start_time": "2023-06-24T15:33:43.385Z"
   },
   {
    "duration": 0,
    "start_time": "2023-06-24T15:33:43.386Z"
   },
   {
    "duration": 0,
    "start_time": "2023-06-24T15:33:43.387Z"
   },
   {
    "duration": 0,
    "start_time": "2023-06-24T15:33:43.388Z"
   },
   {
    "duration": 0,
    "start_time": "2023-06-24T15:33:43.389Z"
   },
   {
    "duration": 0,
    "start_time": "2023-06-24T15:33:43.390Z"
   },
   {
    "duration": 0,
    "start_time": "2023-06-24T15:33:43.391Z"
   },
   {
    "duration": 0,
    "start_time": "2023-06-24T15:33:43.392Z"
   },
   {
    "duration": 0,
    "start_time": "2023-06-24T15:33:43.393Z"
   },
   {
    "duration": 0,
    "start_time": "2023-06-24T15:33:43.394Z"
   },
   {
    "duration": 0,
    "start_time": "2023-06-24T15:33:43.395Z"
   },
   {
    "duration": 0,
    "start_time": "2023-06-24T15:33:43.396Z"
   },
   {
    "duration": 0,
    "start_time": "2023-06-24T15:33:43.398Z"
   },
   {
    "duration": 0,
    "start_time": "2023-06-24T15:33:43.399Z"
   },
   {
    "duration": 0,
    "start_time": "2023-06-24T15:33:43.400Z"
   },
   {
    "duration": 0,
    "start_time": "2023-06-24T15:33:43.401Z"
   },
   {
    "duration": 0,
    "start_time": "2023-06-24T15:33:43.402Z"
   },
   {
    "duration": 0,
    "start_time": "2023-06-24T15:33:43.402Z"
   },
   {
    "duration": 0,
    "start_time": "2023-06-24T15:33:43.403Z"
   },
   {
    "duration": 0,
    "start_time": "2023-06-24T15:33:43.404Z"
   },
   {
    "duration": 0,
    "start_time": "2023-06-24T15:33:43.405Z"
   },
   {
    "duration": 0,
    "start_time": "2023-06-24T15:33:43.406Z"
   },
   {
    "duration": 0,
    "start_time": "2023-06-24T15:33:43.406Z"
   },
   {
    "duration": 0,
    "start_time": "2023-06-24T15:33:43.409Z"
   },
   {
    "duration": 111,
    "start_time": "2023-06-24T15:34:05.217Z"
   },
   {
    "duration": 2722,
    "start_time": "2023-06-24T15:34:14.457Z"
   },
   {
    "duration": 5,
    "start_time": "2023-06-24T15:34:17.181Z"
   },
   {
    "duration": 44,
    "start_time": "2023-06-24T15:34:19.502Z"
   },
   {
    "duration": 5,
    "start_time": "2023-06-24T15:34:38.907Z"
   },
   {
    "duration": 40,
    "start_time": "2023-06-24T15:34:41.753Z"
   },
   {
    "duration": 12,
    "start_time": "2023-06-24T15:34:44.904Z"
   },
   {
    "duration": 21,
    "start_time": "2023-06-24T15:34:46.021Z"
   },
   {
    "duration": 12,
    "start_time": "2023-06-24T15:34:47.769Z"
   },
   {
    "duration": 10,
    "start_time": "2023-06-24T15:34:48.465Z"
   },
   {
    "duration": 6,
    "start_time": "2023-06-24T15:34:49.307Z"
   },
   {
    "duration": 3,
    "start_time": "2023-06-24T15:34:51.404Z"
   },
   {
    "duration": 7,
    "start_time": "2023-06-24T15:34:54.402Z"
   },
   {
    "duration": 4,
    "start_time": "2023-06-24T15:34:56.306Z"
   },
   {
    "duration": 25,
    "start_time": "2023-06-24T15:34:57.517Z"
   },
   {
    "duration": 5,
    "start_time": "2023-06-24T15:34:59.824Z"
   },
   {
    "duration": 19,
    "start_time": "2023-06-24T15:35:00.498Z"
   },
   {
    "duration": 8,
    "start_time": "2023-06-24T15:35:03.356Z"
   },
   {
    "duration": 6,
    "start_time": "2023-06-24T15:35:04.065Z"
   },
   {
    "duration": 5,
    "start_time": "2023-06-24T15:35:10.063Z"
   },
   {
    "duration": 9,
    "start_time": "2023-06-24T15:35:12.064Z"
   },
   {
    "duration": 7,
    "start_time": "2023-06-24T15:35:12.902Z"
   },
   {
    "duration": 13,
    "start_time": "2023-06-24T15:35:14.670Z"
   },
   {
    "duration": 8,
    "start_time": "2023-06-24T15:35:16.726Z"
   },
   {
    "duration": 138,
    "start_time": "2023-06-24T15:35:18.003Z"
   },
   {
    "duration": 28,
    "start_time": "2023-06-24T15:35:22.208Z"
   },
   {
    "duration": 7,
    "start_time": "2023-06-24T15:35:23.628Z"
   },
   {
    "duration": 223,
    "start_time": "2023-06-24T15:35:28.502Z"
   },
   {
    "duration": 7889,
    "start_time": "2023-06-24T15:35:35.126Z"
   },
   {
    "duration": 171,
    "start_time": "2023-06-24T15:35:43.017Z"
   },
   {
    "duration": 44,
    "start_time": "2023-06-24T15:35:46.950Z"
   },
   {
    "duration": 2465,
    "start_time": "2023-06-24T15:35:55.097Z"
   },
   {
    "duration": 2532,
    "start_time": "2023-06-24T15:35:57.565Z"
   },
   {
    "duration": 2555,
    "start_time": "2023-06-24T15:36:02.551Z"
   },
   {
    "duration": 5,
    "start_time": "2023-06-24T15:36:05.109Z"
   },
   {
    "duration": 136,
    "start_time": "2023-06-24T15:36:06.851Z"
   },
   {
    "duration": 118,
    "start_time": "2023-06-24T15:36:36.256Z"
   },
   {
    "duration": 9577,
    "start_time": "2023-06-24T15:36:43.530Z"
   },
   {
    "duration": 344,
    "start_time": "2023-06-24T15:38:21.642Z"
   },
   {
    "duration": 15,
    "start_time": "2023-06-24T15:39:18.467Z"
   },
   {
    "duration": 19,
    "start_time": "2023-06-24T15:39:46.160Z"
   },
   {
    "duration": 50,
    "start_time": "2023-06-27T10:22:50.040Z"
   },
   {
    "duration": 8,
    "start_time": "2023-06-27T10:23:15.658Z"
   },
   {
    "duration": 127,
    "start_time": "2023-06-27T10:25:11.195Z"
   },
   {
    "duration": 8,
    "start_time": "2023-06-27T10:25:24.996Z"
   },
   {
    "duration": 8,
    "start_time": "2023-06-27T10:25:57.544Z"
   },
   {
    "duration": 8,
    "start_time": "2023-06-27T10:34:11.916Z"
   },
   {
    "duration": 4,
    "start_time": "2023-06-27T10:35:16.348Z"
   },
   {
    "duration": 6,
    "start_time": "2023-06-27T10:35:30.136Z"
   },
   {
    "duration": 11,
    "start_time": "2023-06-27T10:35:41.377Z"
   },
   {
    "duration": 10625,
    "start_time": "2023-06-27T10:35:56.312Z"
   },
   {
    "duration": 1438,
    "start_time": "2023-06-27T10:36:06.939Z"
   },
   {
    "duration": 167,
    "start_time": "2023-06-27T10:36:17.937Z"
   },
   {
    "duration": 13,
    "start_time": "2023-06-27T10:36:20.120Z"
   },
   {
    "duration": 15,
    "start_time": "2023-06-27T10:36:20.840Z"
   },
   {
    "duration": 17,
    "start_time": "2023-06-27T10:36:22.441Z"
   },
   {
    "duration": 9,
    "start_time": "2023-06-27T10:36:23.413Z"
   },
   {
    "duration": 5,
    "start_time": "2023-06-27T10:36:24.446Z"
   },
   {
    "duration": 6,
    "start_time": "2023-06-27T10:36:29.574Z"
   },
   {
    "duration": 2,
    "start_time": "2023-06-27T10:36:57.851Z"
   },
   {
    "duration": 7,
    "start_time": "2023-06-27T10:37:03.737Z"
   },
   {
    "duration": 5,
    "start_time": "2023-06-27T10:37:06.016Z"
   },
   {
    "duration": 18,
    "start_time": "2023-06-27T10:37:08.436Z"
   },
   {
    "duration": 5,
    "start_time": "2023-06-27T10:37:14.637Z"
   },
   {
    "duration": 4,
    "start_time": "2023-06-27T10:37:26.160Z"
   },
   {
    "duration": 3,
    "start_time": "2023-06-27T10:38:06.669Z"
   },
   {
    "duration": 4,
    "start_time": "2023-06-27T10:38:47.331Z"
   },
   {
    "duration": 4,
    "start_time": "2023-06-27T10:38:58.049Z"
   },
   {
    "duration": 5,
    "start_time": "2023-06-27T10:39:05.540Z"
   },
   {
    "duration": 6,
    "start_time": "2023-06-27T10:39:07.828Z"
   },
   {
    "duration": 26,
    "start_time": "2023-06-27T10:39:24.968Z"
   },
   {
    "duration": 4,
    "start_time": "2023-06-27T10:39:50.826Z"
   },
   {
    "duration": 15,
    "start_time": "2023-06-27T10:39:53.720Z"
   },
   {
    "duration": 4,
    "start_time": "2023-06-27T10:40:21.839Z"
   },
   {
    "duration": 4,
    "start_time": "2023-06-27T10:41:22.027Z"
   },
   {
    "duration": 11,
    "start_time": "2023-06-27T10:41:24.618Z"
   },
   {
    "duration": 11,
    "start_time": "2023-06-27T10:43:10.868Z"
   },
   {
    "duration": 6,
    "start_time": "2023-06-27T10:43:11.902Z"
   },
   {
    "duration": 4,
    "start_time": "2023-06-27T10:47:26.412Z"
   },
   {
    "duration": 3,
    "start_time": "2023-06-27T10:47:34.327Z"
   },
   {
    "duration": 2,
    "start_time": "2023-06-27T10:47:45.440Z"
   },
   {
    "duration": 4,
    "start_time": "2023-06-27T10:47:49.936Z"
   },
   {
    "duration": 8,
    "start_time": "2023-06-27T10:47:56.908Z"
   },
   {
    "duration": 6,
    "start_time": "2023-06-27T10:47:57.716Z"
   },
   {
    "duration": 12,
    "start_time": "2023-06-27T10:47:58.800Z"
   },
   {
    "duration": 5,
    "start_time": "2023-06-27T10:48:02.928Z"
   },
   {
    "duration": 130,
    "start_time": "2023-06-27T10:54:09.228Z"
   },
   {
    "duration": 127,
    "start_time": "2023-06-27T10:54:17.055Z"
   },
   {
    "duration": 29,
    "start_time": "2023-06-27T10:54:32.104Z"
   },
   {
    "duration": 4,
    "start_time": "2023-06-27T10:54:36.335Z"
   },
   {
    "duration": 228,
    "start_time": "2023-06-27T10:55:05.318Z"
   },
   {
    "duration": 4,
    "start_time": "2023-06-27T10:55:29.951Z"
   },
   {
    "duration": 5,
    "start_time": "2023-06-27T10:56:56.335Z"
   },
   {
    "duration": 382,
    "start_time": "2023-06-27T10:57:50.009Z"
   },
   {
    "duration": 136,
    "start_time": "2023-06-27T11:00:06.733Z"
   },
   {
    "duration": 75,
    "start_time": "2023-06-27T11:26:21.299Z"
   },
   {
    "duration": 2,
    "start_time": "2023-06-27T11:29:25.817Z"
   },
   {
    "duration": 3476,
    "start_time": "2023-06-27T11:34:35.847Z"
   },
   {
    "duration": 56,
    "start_time": "2023-06-27T11:36:19.563Z"
   },
   {
    "duration": 46,
    "start_time": "2023-06-27T11:37:04.950Z"
   },
   {
    "duration": 283,
    "start_time": "2023-06-27T11:55:23.535Z"
   },
   {
    "duration": 293,
    "start_time": "2023-06-27T11:55:46.018Z"
   },
   {
    "duration": 50,
    "start_time": "2023-06-27T12:04:05.408Z"
   },
   {
    "duration": 54,
    "start_time": "2023-06-27T12:05:09.415Z"
   },
   {
    "duration": 56,
    "start_time": "2023-06-27T12:05:51.879Z"
   },
   {
    "duration": 297,
    "start_time": "2023-06-27T12:06:58.828Z"
   },
   {
    "duration": 6934,
    "start_time": "2023-06-28T09:33:24.725Z"
   },
   {
    "duration": 1461,
    "start_time": "2023-06-28T09:33:32.893Z"
   },
   {
    "duration": 84,
    "start_time": "2023-06-28T09:33:34.736Z"
   },
   {
    "duration": 15,
    "start_time": "2023-06-28T09:33:36.160Z"
   },
   {
    "duration": 17,
    "start_time": "2023-06-28T09:33:37.607Z"
   },
   {
    "duration": 12,
    "start_time": "2023-06-28T09:33:39.603Z"
   },
   {
    "duration": 8,
    "start_time": "2023-06-28T09:33:40.291Z"
   },
   {
    "duration": 5,
    "start_time": "2023-06-28T09:33:41.165Z"
   },
   {
    "duration": 2,
    "start_time": "2023-06-28T09:33:44.121Z"
   },
   {
    "duration": 7,
    "start_time": "2023-06-28T09:33:45.493Z"
   },
   {
    "duration": 5,
    "start_time": "2023-06-28T09:33:47.014Z"
   },
   {
    "duration": 21,
    "start_time": "2023-06-28T09:33:48.116Z"
   },
   {
    "duration": 2,
    "start_time": "2023-06-28T09:33:49.723Z"
   },
   {
    "duration": 2,
    "start_time": "2023-06-28T09:33:50.538Z"
   },
   {
    "duration": 5,
    "start_time": "2023-06-28T09:33:59.263Z"
   },
   {
    "duration": 12,
    "start_time": "2023-06-28T09:34:00.342Z"
   },
   {
    "duration": 11,
    "start_time": "2023-06-28T09:34:04.684Z"
   },
   {
    "duration": 7,
    "start_time": "2023-06-28T09:34:05.457Z"
   },
   {
    "duration": 4,
    "start_time": "2023-06-28T09:34:06.365Z"
   },
   {
    "duration": 4,
    "start_time": "2023-06-28T09:34:19.604Z"
   },
   {
    "duration": 3,
    "start_time": "2023-06-28T09:34:28.734Z"
   },
   {
    "duration": 3,
    "start_time": "2023-06-28T09:34:37.890Z"
   },
   {
    "duration": 5,
    "start_time": "2023-06-28T09:34:38.680Z"
   },
   {
    "duration": 10,
    "start_time": "2023-06-28T09:34:40.241Z"
   },
   {
    "duration": 7,
    "start_time": "2023-06-28T09:34:40.978Z"
   },
   {
    "duration": 12,
    "start_time": "2023-06-28T09:34:42.057Z"
   },
   {
    "duration": 6,
    "start_time": "2023-06-28T09:34:43.687Z"
   },
   {
    "duration": 117,
    "start_time": "2023-06-28T09:34:45.243Z"
   },
   {
    "duration": 30,
    "start_time": "2023-06-28T09:34:49.737Z"
   },
   {
    "duration": 5,
    "start_time": "2023-06-28T09:34:59.646Z"
   },
   {
    "duration": 237,
    "start_time": "2023-06-28T09:35:03.254Z"
   },
   {
    "duration": 7035,
    "start_time": "2023-06-28T09:35:06.508Z"
   },
   {
    "duration": 163,
    "start_time": "2023-06-28T09:35:18.297Z"
   },
   {
    "duration": 317,
    "start_time": "2023-06-28T09:36:09.639Z"
   },
   {
    "duration": 118,
    "start_time": "2023-06-28T09:36:39.241Z"
   },
   {
    "duration": 3858,
    "start_time": "2023-06-28T09:37:06.132Z"
   },
   {
    "duration": 43,
    "start_time": "2023-06-28T09:37:10.534Z"
   },
   {
    "duration": 369,
    "start_time": "2023-06-28T09:37:54.531Z"
   },
   {
    "duration": 9461,
    "start_time": "2023-06-28T09:42:11.653Z"
   },
   {
    "duration": 365,
    "start_time": "2023-06-28T09:51:57.140Z"
   },
   {
    "duration": 367,
    "start_time": "2023-06-28T09:52:29.962Z"
   },
   {
    "duration": 158,
    "start_time": "2023-06-28T09:53:05.375Z"
   },
   {
    "duration": 71,
    "start_time": "2023-06-28T09:58:09.291Z"
   },
   {
    "duration": 4737,
    "start_time": "2023-06-28T09:59:36.876Z"
   },
   {
    "duration": 9079,
    "start_time": "2023-06-28T10:02:55.040Z"
   },
   {
    "duration": 17,
    "start_time": "2023-06-28T10:03:46.889Z"
   },
   {
    "duration": 61705,
    "start_time": "2023-06-28T10:05:32.768Z"
   },
   {
    "duration": 4812,
    "start_time": "2023-06-28T10:06:34.475Z"
   },
   {
    "duration": 508,
    "start_time": "2023-06-28T10:07:29.621Z"
   },
   {
    "duration": 1532,
    "start_time": "2023-06-28T10:07:48.483Z"
   },
   {
    "duration": 27201,
    "start_time": "2023-06-28T10:08:18.584Z"
   },
   {
    "duration": 28,
    "start_time": "2023-06-28T10:09:00.572Z"
   },
   {
    "duration": 7,
    "start_time": "2023-06-28T10:10:27.250Z"
   },
   {
    "duration": 35,
    "start_time": "2023-06-28T10:12:04.310Z"
   },
   {
    "duration": 38,
    "start_time": "2023-06-28T10:12:23.162Z"
   },
   {
    "duration": 37,
    "start_time": "2023-06-28T10:15:55.418Z"
   },
   {
    "duration": 40,
    "start_time": "2023-06-28T10:16:02.767Z"
   },
   {
    "duration": 7,
    "start_time": "2023-06-28T10:16:41.368Z"
   },
   {
    "duration": 35,
    "start_time": "2023-06-28T10:16:57.190Z"
   },
   {
    "duration": 136,
    "start_time": "2023-06-28T10:25:44.441Z"
   },
   {
    "duration": 15,
    "start_time": "2023-06-28T10:26:57.435Z"
   },
   {
    "duration": 1150,
    "start_time": "2023-06-28T10:30:55.784Z"
   },
   {
    "duration": 47592,
    "start_time": "2023-06-28T10:34:57.534Z"
   },
   {
    "duration": 37,
    "start_time": "2023-06-28T10:37:00.679Z"
   },
   {
    "duration": 7,
    "start_time": "2023-06-28T10:37:12.297Z"
   },
   {
    "duration": 5,
    "start_time": "2023-06-28T10:42:19.007Z"
   },
   {
    "duration": 5,
    "start_time": "2023-06-28T11:25:21.499Z"
   },
   {
    "duration": 5,
    "start_time": "2023-06-28T11:25:43.003Z"
   },
   {
    "duration": 4,
    "start_time": "2023-06-28T11:26:21.011Z"
   },
   {
    "duration": 6822,
    "start_time": "2023-06-28T11:30:24.202Z"
   },
   {
    "duration": 7108,
    "start_time": "2023-06-28T11:30:48.257Z"
   },
   {
    "duration": 6946,
    "start_time": "2023-06-28T11:31:13.743Z"
   },
   {
    "duration": 60,
    "start_time": "2023-06-28T11:32:28.139Z"
   },
   {
    "duration": 5,
    "start_time": "2023-06-28T11:43:58.007Z"
   },
   {
    "duration": 7622,
    "start_time": "2023-06-28T11:45:12.066Z"
   },
   {
    "duration": 7968,
    "start_time": "2023-06-28T11:45:52.539Z"
   },
   {
    "duration": 4,
    "start_time": "2023-06-28T11:47:01.330Z"
   },
   {
    "duration": 402,
    "start_time": "2023-06-28T11:47:40.600Z"
   },
   {
    "duration": 1836,
    "start_time": "2023-06-28T11:48:13.273Z"
   },
   {
    "duration": 725,
    "start_time": "2023-06-28T11:48:35.103Z"
   },
   {
    "duration": 1195,
    "start_time": "2023-06-28T11:48:58.616Z"
   },
   {
    "duration": 67378,
    "start_time": "2023-06-28T11:49:23.904Z"
   },
   {
    "duration": 29150,
    "start_time": "2023-06-28T11:51:20.373Z"
   },
   {
    "duration": 48682,
    "start_time": "2023-06-28T11:54:08.645Z"
   },
   {
    "duration": 182,
    "start_time": "2023-06-28T11:56:26.831Z"
   },
   {
    "duration": 2408,
    "start_time": "2023-06-28T11:56:36.192Z"
   },
   {
    "duration": 1706,
    "start_time": "2023-06-28T11:57:31.097Z"
   },
   {
    "duration": 282,
    "start_time": "2023-06-28T11:58:36.039Z"
   },
   {
    "duration": 8909,
    "start_time": "2023-07-06T10:33:28.784Z"
   },
   {
    "duration": 1406,
    "start_time": "2023-07-06T10:33:37.696Z"
   },
   {
    "duration": 164,
    "start_time": "2023-07-06T10:33:39.104Z"
   },
   {
    "duration": 95,
    "start_time": "2023-07-06T10:33:39.270Z"
   },
   {
    "duration": 39,
    "start_time": "2023-07-06T10:33:39.368Z"
   },
   {
    "duration": 37,
    "start_time": "2023-07-06T10:33:39.409Z"
   },
   {
    "duration": 26,
    "start_time": "2023-07-06T10:33:39.448Z"
   },
   {
    "duration": 12,
    "start_time": "2023-07-06T10:33:39.476Z"
   },
   {
    "duration": 24,
    "start_time": "2023-07-06T10:33:39.490Z"
   },
   {
    "duration": 24,
    "start_time": "2023-07-06T10:33:39.516Z"
   },
   {
    "duration": 21,
    "start_time": "2023-07-06T10:33:39.542Z"
   },
   {
    "duration": 46,
    "start_time": "2023-07-06T10:33:39.565Z"
   },
   {
    "duration": 4,
    "start_time": "2023-07-06T10:33:39.613Z"
   },
   {
    "duration": 11,
    "start_time": "2023-07-06T10:33:39.621Z"
   },
   {
    "duration": 7,
    "start_time": "2023-07-06T10:33:39.634Z"
   },
   {
    "duration": 16,
    "start_time": "2023-07-06T10:33:39.643Z"
   },
   {
    "duration": 15,
    "start_time": "2023-07-06T10:33:39.661Z"
   },
   {
    "duration": 8,
    "start_time": "2023-07-06T10:33:39.678Z"
   },
   {
    "duration": 14,
    "start_time": "2023-07-06T10:33:39.688Z"
   },
   {
    "duration": 22,
    "start_time": "2023-07-06T10:33:39.705Z"
   },
   {
    "duration": 7,
    "start_time": "2023-07-06T10:33:39.729Z"
   },
   {
    "duration": 13,
    "start_time": "2023-07-06T10:33:39.738Z"
   },
   {
    "duration": 11,
    "start_time": "2023-07-06T10:33:39.753Z"
   },
   {
    "duration": 13,
    "start_time": "2023-07-06T10:33:39.766Z"
   },
   {
    "duration": 10,
    "start_time": "2023-07-06T10:33:39.781Z"
   },
   {
    "duration": 123,
    "start_time": "2023-07-06T10:33:39.793Z"
   },
   {
    "duration": 28,
    "start_time": "2023-07-06T10:33:39.917Z"
   },
   {
    "duration": 4,
    "start_time": "2023-07-06T10:33:39.946Z"
   },
   {
    "duration": 4,
    "start_time": "2023-07-06T10:33:39.968Z"
   },
   {
    "duration": 410,
    "start_time": "2023-07-06T10:33:39.974Z"
   },
   {
    "duration": 7120,
    "start_time": "2023-07-06T10:33:40.386Z"
   },
   {
    "duration": 263,
    "start_time": "2023-07-06T10:33:47.507Z"
   },
   {
    "duration": 3,
    "start_time": "2023-07-06T10:33:47.772Z"
   },
   {
    "duration": 92,
    "start_time": "2023-07-06T10:33:47.777Z"
   },
   {
    "duration": 18,
    "start_time": "2023-07-06T10:33:47.871Z"
   },
   {
    "duration": 3314,
    "start_time": "2023-07-06T10:33:47.891Z"
   },
   {
    "duration": 0,
    "start_time": "2023-07-06T10:33:51.207Z"
   },
   {
    "duration": 0,
    "start_time": "2023-07-06T10:33:51.208Z"
   },
   {
    "duration": 0,
    "start_time": "2023-07-06T10:33:51.210Z"
   },
   {
    "duration": 0,
    "start_time": "2023-07-06T10:33:51.211Z"
   },
   {
    "duration": 0,
    "start_time": "2023-07-06T10:33:51.212Z"
   },
   {
    "duration": 0,
    "start_time": "2023-07-06T10:33:51.214Z"
   },
   {
    "duration": 0,
    "start_time": "2023-07-06T10:33:51.214Z"
   },
   {
    "duration": 0,
    "start_time": "2023-07-06T10:33:51.215Z"
   },
   {
    "duration": 0,
    "start_time": "2023-07-06T10:33:51.216Z"
   },
   {
    "duration": 0,
    "start_time": "2023-07-06T10:33:51.218Z"
   },
   {
    "duration": 0,
    "start_time": "2023-07-06T10:33:51.219Z"
   },
   {
    "duration": 0,
    "start_time": "2023-07-06T10:33:51.220Z"
   },
   {
    "duration": 0,
    "start_time": "2023-07-06T10:33:51.221Z"
   },
   {
    "duration": 0,
    "start_time": "2023-07-06T10:33:51.222Z"
   },
   {
    "duration": 2267,
    "start_time": "2023-07-06T10:37:33.031Z"
   },
   {
    "duration": 16,
    "start_time": "2023-07-06T10:39:36.152Z"
   },
   {
    "duration": 2558,
    "start_time": "2023-07-06T10:39:49.841Z"
   },
   {
    "duration": 7,
    "start_time": "2023-07-06T10:39:56.150Z"
   },
   {
    "duration": 44,
    "start_time": "2023-07-06T10:39:59.065Z"
   },
   {
    "duration": 17,
    "start_time": "2023-07-06T10:40:01.036Z"
   },
   {
    "duration": 17,
    "start_time": "2023-07-06T10:40:02.479Z"
   },
   {
    "duration": 15,
    "start_time": "2023-07-06T10:40:03.993Z"
   },
   {
    "duration": 9,
    "start_time": "2023-07-06T10:40:04.705Z"
   },
   {
    "duration": 6,
    "start_time": "2023-07-06T10:40:05.432Z"
   },
   {
    "duration": 2,
    "start_time": "2023-07-06T10:40:08.699Z"
   },
   {
    "duration": 5,
    "start_time": "2023-07-06T10:40:10.187Z"
   },
   {
    "duration": 5,
    "start_time": "2023-07-06T10:40:11.593Z"
   },
   {
    "duration": 26,
    "start_time": "2023-07-06T10:40:12.296Z"
   },
   {
    "duration": 4,
    "start_time": "2023-07-06T10:40:13.721Z"
   },
   {
    "duration": 3,
    "start_time": "2023-07-06T10:40:14.336Z"
   },
   {
    "duration": 5,
    "start_time": "2023-07-06T10:40:16.049Z"
   },
   {
    "duration": 12,
    "start_time": "2023-07-06T10:40:17.392Z"
   },
   {
    "duration": 8,
    "start_time": "2023-07-06T10:40:18.921Z"
   },
   {
    "duration": 6,
    "start_time": "2023-07-06T10:40:19.687Z"
   },
   {
    "duration": 3,
    "start_time": "2023-07-06T10:40:20.393Z"
   },
   {
    "duration": 2,
    "start_time": "2023-07-06T10:40:24.623Z"
   },
   {
    "duration": 4,
    "start_time": "2023-07-06T10:40:25.287Z"
   },
   {
    "duration": 10,
    "start_time": "2023-07-06T10:40:26.840Z"
   },
   {
    "duration": 6,
    "start_time": "2023-07-06T10:40:27.642Z"
   },
   {
    "duration": 10,
    "start_time": "2023-07-06T10:40:28.313Z"
   },
   {
    "duration": 5,
    "start_time": "2023-07-06T10:40:30.132Z"
   },
   {
    "duration": 109,
    "start_time": "2023-07-06T10:40:31.462Z"
   },
   {
    "duration": 35,
    "start_time": "2023-07-06T10:40:33.803Z"
   },
   {
    "duration": 4,
    "start_time": "2023-07-06T10:40:34.613Z"
   },
   {
    "duration": 4,
    "start_time": "2023-07-06T10:40:36.796Z"
   },
   {
    "duration": 348,
    "start_time": "2023-07-06T10:40:37.614Z"
   },
   {
    "duration": 6836,
    "start_time": "2023-07-06T10:40:40.021Z"
   },
   {
    "duration": 109,
    "start_time": "2023-07-06T10:40:46.867Z"
   },
   {
    "duration": 90,
    "start_time": "2023-07-06T10:40:46.978Z"
   },
   {
    "duration": 8,
    "start_time": "2023-07-06T10:40:47.071Z"
   },
   {
    "duration": 86,
    "start_time": "2023-07-06T10:40:47.083Z"
   },
   {
    "duration": 2116,
    "start_time": "2023-07-06T10:40:47.335Z"
   },
   {
    "duration": 14,
    "start_time": "2023-07-06T10:41:40.226Z"
   },
   {
    "duration": 2211,
    "start_time": "2023-07-06T10:50:12.809Z"
   },
   {
    "duration": 2140,
    "start_time": "2023-07-06T10:52:03.492Z"
   },
   {
    "duration": 21,
    "start_time": "2023-07-06T10:52:12.925Z"
   },
   {
    "duration": 2,
    "start_time": "2023-07-06T11:16:39.786Z"
   },
   {
    "duration": 32,
    "start_time": "2023-07-06T11:16:42.698Z"
   },
   {
    "duration": 12,
    "start_time": "2023-07-06T11:16:44.824Z"
   },
   {
    "duration": 2939,
    "start_time": "2023-07-06T11:17:14.387Z"
   },
   {
    "duration": 1362,
    "start_time": "2023-07-06T11:17:17.329Z"
   },
   {
    "duration": 40,
    "start_time": "2023-07-06T11:17:18.692Z"
   },
   {
    "duration": 12,
    "start_time": "2023-07-06T11:17:18.734Z"
   },
   {
    "duration": 20,
    "start_time": "2023-07-06T11:17:18.748Z"
   },
   {
    "duration": 17,
    "start_time": "2023-07-06T11:17:18.772Z"
   },
   {
    "duration": 7,
    "start_time": "2023-07-06T11:17:18.791Z"
   },
   {
    "duration": 5,
    "start_time": "2023-07-06T11:17:18.799Z"
   },
   {
    "duration": 5,
    "start_time": "2023-07-06T11:17:18.806Z"
   },
   {
    "duration": 8,
    "start_time": "2023-07-06T11:17:18.814Z"
   },
   {
    "duration": 11,
    "start_time": "2023-07-06T11:17:18.824Z"
   },
   {
    "duration": 56,
    "start_time": "2023-07-06T11:17:18.836Z"
   },
   {
    "duration": 2,
    "start_time": "2023-07-06T11:17:18.894Z"
   },
   {
    "duration": 11,
    "start_time": "2023-07-06T11:17:18.898Z"
   },
   {
    "duration": 7,
    "start_time": "2023-07-06T11:17:18.910Z"
   },
   {
    "duration": 21,
    "start_time": "2023-07-06T11:17:18.919Z"
   },
   {
    "duration": 14,
    "start_time": "2023-07-06T11:17:18.942Z"
   },
   {
    "duration": 22,
    "start_time": "2023-07-06T11:17:18.958Z"
   },
   {
    "duration": 4,
    "start_time": "2023-07-06T11:17:18.982Z"
   },
   {
    "duration": 5,
    "start_time": "2023-07-06T11:17:18.987Z"
   },
   {
    "duration": 5,
    "start_time": "2023-07-06T11:17:18.994Z"
   },
   {
    "duration": 9,
    "start_time": "2023-07-06T11:17:19.001Z"
   },
   {
    "duration": 7,
    "start_time": "2023-07-06T11:17:19.012Z"
   },
   {
    "duration": 10,
    "start_time": "2023-07-06T11:17:19.020Z"
   },
   {
    "duration": 7,
    "start_time": "2023-07-06T11:17:19.032Z"
   },
   {
    "duration": 177,
    "start_time": "2023-07-06T11:17:19.041Z"
   },
   {
    "duration": 33,
    "start_time": "2023-07-06T11:17:19.220Z"
   },
   {
    "duration": 19,
    "start_time": "2023-07-06T11:17:19.257Z"
   },
   {
    "duration": 4,
    "start_time": "2023-07-06T11:17:19.278Z"
   },
   {
    "duration": 399,
    "start_time": "2023-07-06T11:17:19.284Z"
   },
   {
    "duration": 7811,
    "start_time": "2023-07-06T11:17:19.684Z"
   },
   {
    "duration": 295,
    "start_time": "2023-07-06T11:17:27.498Z"
   },
   {
    "duration": 77,
    "start_time": "2023-07-06T11:17:27.795Z"
   },
   {
    "duration": 10,
    "start_time": "2023-07-06T11:17:27.874Z"
   },
   {
    "duration": 2431,
    "start_time": "2023-07-06T11:17:27.887Z"
   },
   {
    "duration": 139,
    "start_time": "2023-07-06T11:17:30.320Z"
   },
   {
    "duration": 0,
    "start_time": "2023-07-06T11:17:30.461Z"
   },
   {
    "duration": 0,
    "start_time": "2023-07-06T11:17:30.472Z"
   },
   {
    "duration": 0,
    "start_time": "2023-07-06T11:17:30.473Z"
   },
   {
    "duration": 0,
    "start_time": "2023-07-06T11:17:30.474Z"
   },
   {
    "duration": 0,
    "start_time": "2023-07-06T11:17:30.479Z"
   },
   {
    "duration": 0,
    "start_time": "2023-07-06T11:17:30.480Z"
   },
   {
    "duration": 0,
    "start_time": "2023-07-06T11:17:30.481Z"
   },
   {
    "duration": 0,
    "start_time": "2023-07-06T11:17:30.482Z"
   },
   {
    "duration": 0,
    "start_time": "2023-07-06T11:17:30.483Z"
   },
   {
    "duration": 0,
    "start_time": "2023-07-06T11:17:30.484Z"
   },
   {
    "duration": 0,
    "start_time": "2023-07-06T11:17:30.485Z"
   },
   {
    "duration": 0,
    "start_time": "2023-07-06T11:17:30.487Z"
   },
   {
    "duration": 0,
    "start_time": "2023-07-06T11:17:30.488Z"
   },
   {
    "duration": 0,
    "start_time": "2023-07-06T11:17:30.489Z"
   },
   {
    "duration": 0,
    "start_time": "2023-07-06T11:17:30.491Z"
   },
   {
    "duration": 16,
    "start_time": "2023-07-06T11:18:24.694Z"
   },
   {
    "duration": 8960,
    "start_time": "2023-07-07T02:43:00.737Z"
   },
   {
    "duration": 1476,
    "start_time": "2023-07-07T02:43:09.699Z"
   },
   {
    "duration": 93,
    "start_time": "2023-07-07T02:43:11.177Z"
   },
   {
    "duration": 12,
    "start_time": "2023-07-07T02:43:11.272Z"
   },
   {
    "duration": 34,
    "start_time": "2023-07-07T02:43:11.286Z"
   },
   {
    "duration": 14,
    "start_time": "2023-07-07T02:43:11.323Z"
   },
   {
    "duration": 7,
    "start_time": "2023-07-07T02:43:11.338Z"
   },
   {
    "duration": 4,
    "start_time": "2023-07-07T02:43:11.347Z"
   },
   {
    "duration": 3,
    "start_time": "2023-07-07T02:43:11.353Z"
   },
   {
    "duration": 8,
    "start_time": "2023-07-07T02:43:11.359Z"
   },
   {
    "duration": 10,
    "start_time": "2023-07-07T02:43:11.368Z"
   },
   {
    "duration": 37,
    "start_time": "2023-07-07T02:43:11.379Z"
   },
   {
    "duration": 6,
    "start_time": "2023-07-07T02:43:11.420Z"
   },
   {
    "duration": 12,
    "start_time": "2023-07-07T02:43:11.428Z"
   },
   {
    "duration": 10,
    "start_time": "2023-07-07T02:43:11.442Z"
   },
   {
    "duration": 22,
    "start_time": "2023-07-07T02:43:11.454Z"
   },
   {
    "duration": 11,
    "start_time": "2023-07-07T02:43:11.478Z"
   },
   {
    "duration": 34,
    "start_time": "2023-07-07T02:43:11.491Z"
   },
   {
    "duration": 4,
    "start_time": "2023-07-07T02:43:11.528Z"
   },
   {
    "duration": 9,
    "start_time": "2023-07-07T02:43:11.533Z"
   },
   {
    "duration": 7,
    "start_time": "2023-07-07T02:43:11.543Z"
   },
   {
    "duration": 11,
    "start_time": "2023-07-07T02:43:11.551Z"
   },
   {
    "duration": 6,
    "start_time": "2023-07-07T02:43:11.563Z"
   },
   {
    "duration": 19,
    "start_time": "2023-07-07T02:43:11.570Z"
   },
   {
    "duration": 15,
    "start_time": "2023-07-07T02:43:11.590Z"
   },
   {
    "duration": 136,
    "start_time": "2023-07-07T02:43:11.606Z"
   },
   {
    "duration": 26,
    "start_time": "2023-07-07T02:43:11.743Z"
   },
   {
    "duration": 4,
    "start_time": "2023-07-07T02:43:11.773Z"
   },
   {
    "duration": 6,
    "start_time": "2023-07-07T02:43:11.779Z"
   },
   {
    "duration": 418,
    "start_time": "2023-07-07T02:43:11.806Z"
   },
   {
    "duration": 7496,
    "start_time": "2023-07-07T02:43:12.225Z"
   },
   {
    "duration": 290,
    "start_time": "2023-07-07T02:43:19.722Z"
   },
   {
    "duration": 90,
    "start_time": "2023-07-07T02:43:20.019Z"
   },
   {
    "duration": 21,
    "start_time": "2023-07-07T02:43:20.111Z"
   },
   {
    "duration": 3491,
    "start_time": "2023-07-07T02:43:20.134Z"
   },
   {
    "duration": 173,
    "start_time": "2023-07-07T02:43:23.627Z"
   },
   {
    "duration": 0,
    "start_time": "2023-07-07T02:43:23.814Z"
   },
   {
    "duration": 0,
    "start_time": "2023-07-07T02:43:23.815Z"
   },
   {
    "duration": 0,
    "start_time": "2023-07-07T02:43:23.816Z"
   },
   {
    "duration": 0,
    "start_time": "2023-07-07T02:43:23.821Z"
   },
   {
    "duration": 0,
    "start_time": "2023-07-07T02:43:23.823Z"
   },
   {
    "duration": 0,
    "start_time": "2023-07-07T02:43:23.825Z"
   },
   {
    "duration": 0,
    "start_time": "2023-07-07T02:43:23.826Z"
   },
   {
    "duration": 0,
    "start_time": "2023-07-07T02:43:23.827Z"
   },
   {
    "duration": 0,
    "start_time": "2023-07-07T02:43:23.828Z"
   },
   {
    "duration": 0,
    "start_time": "2023-07-07T02:43:23.829Z"
   },
   {
    "duration": 0,
    "start_time": "2023-07-07T02:43:23.831Z"
   },
   {
    "duration": 0,
    "start_time": "2023-07-07T02:43:23.832Z"
   },
   {
    "duration": 0,
    "start_time": "2023-07-07T02:43:23.833Z"
   },
   {
    "duration": 0,
    "start_time": "2023-07-07T02:43:23.834Z"
   },
   {
    "duration": 0,
    "start_time": "2023-07-07T02:43:23.835Z"
   },
   {
    "duration": 3633,
    "start_time": "2023-07-07T02:45:11.503Z"
   },
   {
    "duration": 1593,
    "start_time": "2023-07-07T02:45:15.139Z"
   },
   {
    "duration": 39,
    "start_time": "2023-07-07T02:45:16.734Z"
   },
   {
    "duration": 12,
    "start_time": "2023-07-07T02:45:16.775Z"
   },
   {
    "duration": 36,
    "start_time": "2023-07-07T02:45:16.789Z"
   },
   {
    "duration": 15,
    "start_time": "2023-07-07T02:45:16.827Z"
   },
   {
    "duration": 10,
    "start_time": "2023-07-07T02:45:16.845Z"
   },
   {
    "duration": 5,
    "start_time": "2023-07-07T02:45:16.857Z"
   },
   {
    "duration": 10,
    "start_time": "2023-07-07T02:45:16.864Z"
   },
   {
    "duration": 13,
    "start_time": "2023-07-07T02:45:16.877Z"
   },
   {
    "duration": 10,
    "start_time": "2023-07-07T02:45:16.891Z"
   },
   {
    "duration": 47,
    "start_time": "2023-07-07T02:45:16.902Z"
   },
   {
    "duration": 16,
    "start_time": "2023-07-07T02:45:16.951Z"
   },
   {
    "duration": 10,
    "start_time": "2023-07-07T02:45:16.969Z"
   },
   {
    "duration": 10,
    "start_time": "2023-07-07T02:45:16.980Z"
   },
   {
    "duration": 32,
    "start_time": "2023-07-07T02:45:16.991Z"
   },
   {
    "duration": 16,
    "start_time": "2023-07-07T02:45:17.024Z"
   },
   {
    "duration": 8,
    "start_time": "2023-07-07T02:45:17.041Z"
   },
   {
    "duration": 10,
    "start_time": "2023-07-07T02:45:17.050Z"
   },
   {
    "duration": 8,
    "start_time": "2023-07-07T02:45:17.061Z"
   },
   {
    "duration": 7,
    "start_time": "2023-07-07T02:45:17.071Z"
   },
   {
    "duration": 15,
    "start_time": "2023-07-07T02:45:17.080Z"
   },
   {
    "duration": 25,
    "start_time": "2023-07-07T02:45:17.096Z"
   },
   {
    "duration": 21,
    "start_time": "2023-07-07T02:45:17.123Z"
   },
   {
    "duration": 11,
    "start_time": "2023-07-07T02:45:17.145Z"
   },
   {
    "duration": 114,
    "start_time": "2023-07-07T02:45:17.158Z"
   },
   {
    "duration": 58,
    "start_time": "2023-07-07T02:45:17.274Z"
   },
   {
    "duration": 5,
    "start_time": "2023-07-07T02:45:17.336Z"
   },
   {
    "duration": 16,
    "start_time": "2023-07-07T02:45:17.342Z"
   },
   {
    "duration": 485,
    "start_time": "2023-07-07T02:45:17.360Z"
   },
   {
    "duration": 7292,
    "start_time": "2023-07-07T02:45:17.846Z"
   },
   {
    "duration": 261,
    "start_time": "2023-07-07T02:45:25.140Z"
   },
   {
    "duration": 3,
    "start_time": "2023-07-07T02:45:25.404Z"
   },
   {
    "duration": 30,
    "start_time": "2023-07-07T02:45:25.411Z"
   },
   {
    "duration": 2434,
    "start_time": "2023-07-07T02:45:25.503Z"
   },
   {
    "duration": 5,
    "start_time": "2023-07-07T02:45:27.939Z"
   },
   {
    "duration": 175,
    "start_time": "2023-07-07T02:45:27.946Z"
   },
   {
    "duration": 0,
    "start_time": "2023-07-07T02:45:28.123Z"
   },
   {
    "duration": 0,
    "start_time": "2023-07-07T02:45:28.124Z"
   },
   {
    "duration": 0,
    "start_time": "2023-07-07T02:45:28.125Z"
   },
   {
    "duration": 0,
    "start_time": "2023-07-07T02:45:28.126Z"
   },
   {
    "duration": 0,
    "start_time": "2023-07-07T02:45:28.127Z"
   },
   {
    "duration": 0,
    "start_time": "2023-07-07T02:45:28.128Z"
   },
   {
    "duration": 0,
    "start_time": "2023-07-07T02:45:28.129Z"
   },
   {
    "duration": 0,
    "start_time": "2023-07-07T02:45:28.133Z"
   },
   {
    "duration": 0,
    "start_time": "2023-07-07T02:45:28.137Z"
   },
   {
    "duration": 0,
    "start_time": "2023-07-07T02:45:28.141Z"
   },
   {
    "duration": 0,
    "start_time": "2023-07-07T02:45:28.143Z"
   },
   {
    "duration": 0,
    "start_time": "2023-07-07T02:45:28.144Z"
   },
   {
    "duration": 0,
    "start_time": "2023-07-07T02:45:28.146Z"
   },
   {
    "duration": 0,
    "start_time": "2023-07-07T02:45:28.162Z"
   },
   {
    "duration": 18659,
    "start_time": "2023-07-10T08:00:30.661Z"
   },
   {
    "duration": 15732,
    "start_time": "2023-07-10T08:00:49.324Z"
   },
   {
    "duration": 3571,
    "start_time": "2023-07-10T08:01:34.331Z"
   },
   {
    "duration": 7303,
    "start_time": "2023-07-10T08:01:37.904Z"
   },
   {
    "duration": 2096,
    "start_time": "2023-07-10T08:01:45.209Z"
   },
   {
    "duration": 98,
    "start_time": "2023-07-10T08:01:47.307Z"
   },
   {
    "duration": 29,
    "start_time": "2023-07-10T08:01:47.407Z"
   },
   {
    "duration": 54,
    "start_time": "2023-07-10T08:01:47.441Z"
   },
   {
    "duration": 57,
    "start_time": "2023-07-10T08:01:47.497Z"
   },
   {
    "duration": 46,
    "start_time": "2023-07-10T08:01:47.556Z"
   },
   {
    "duration": 103,
    "start_time": "2023-07-10T08:01:47.604Z"
   },
   {
    "duration": 63,
    "start_time": "2023-07-10T08:01:47.710Z"
   },
   {
    "duration": 80,
    "start_time": "2023-07-10T08:01:47.775Z"
   },
   {
    "duration": 44,
    "start_time": "2023-07-10T08:01:47.858Z"
   },
   {
    "duration": 111,
    "start_time": "2023-07-10T08:01:47.905Z"
   },
   {
    "duration": 128,
    "start_time": "2023-07-10T08:01:48.019Z"
   },
   {
    "duration": 34,
    "start_time": "2023-07-10T08:01:48.149Z"
   },
   {
    "duration": 14,
    "start_time": "2023-07-10T08:01:48.185Z"
   },
   {
    "duration": 60,
    "start_time": "2023-07-10T08:01:48.201Z"
   },
   {
    "duration": 23,
    "start_time": "2023-07-10T08:01:48.263Z"
   },
   {
    "duration": 28,
    "start_time": "2023-07-10T08:01:48.288Z"
   },
   {
    "duration": 42,
    "start_time": "2023-07-10T08:01:48.322Z"
   },
   {
    "duration": 47,
    "start_time": "2023-07-10T08:01:48.366Z"
   },
   {
    "duration": 75,
    "start_time": "2023-07-10T08:01:48.415Z"
   },
   {
    "duration": 61,
    "start_time": "2023-07-10T08:01:48.492Z"
   },
   {
    "duration": 43,
    "start_time": "2023-07-10T08:01:48.555Z"
   },
   {
    "duration": 63,
    "start_time": "2023-07-10T08:01:48.600Z"
   },
   {
    "duration": 93,
    "start_time": "2023-07-10T08:01:48.665Z"
   },
   {
    "duration": 183,
    "start_time": "2023-07-10T08:01:48.760Z"
   },
   {
    "duration": 35,
    "start_time": "2023-07-10T08:01:48.946Z"
   },
   {
    "duration": 95,
    "start_time": "2023-07-10T08:01:48.983Z"
   },
   {
    "duration": 307,
    "start_time": "2023-07-10T08:01:49.079Z"
   },
   {
    "duration": 544,
    "start_time": "2023-07-10T08:01:49.388Z"
   },
   {
    "duration": 9405,
    "start_time": "2023-07-10T08:01:49.936Z"
   },
   {
    "duration": 470,
    "start_time": "2023-07-10T08:01:59.344Z"
   },
   {
    "duration": 7,
    "start_time": "2023-07-10T08:01:59.822Z"
   },
   {
    "duration": 304,
    "start_time": "2023-07-10T08:01:59.840Z"
   },
   {
    "duration": 9697,
    "start_time": "2023-07-10T08:02:00.151Z"
   },
   {
    "duration": 4,
    "start_time": "2023-07-10T08:02:09.851Z"
   },
   {
    "duration": 82,
    "start_time": "2023-07-10T08:02:09.857Z"
   },
   {
    "duration": 50,
    "start_time": "2023-07-10T08:02:09.942Z"
   },
   {
    "duration": 2232,
    "start_time": "2023-07-10T08:02:09.994Z"
   },
   {
    "duration": 940,
    "start_time": "2023-07-10T08:02:12.231Z"
   },
   {
    "duration": 1565,
    "start_time": "2023-07-10T08:02:13.173Z"
   },
   {
    "duration": 78099,
    "start_time": "2023-07-10T08:02:14.740Z"
   },
   {
    "duration": 34635,
    "start_time": "2023-07-10T08:03:32.848Z"
   },
   {
    "duration": 59199,
    "start_time": "2023-07-10T08:04:07.486Z"
   },
   {
    "duration": 3,
    "start_time": "2023-07-10T08:05:06.686Z"
   },
   {
    "duration": 26,
    "start_time": "2023-07-10T08:05:06.691Z"
   },
   {
    "duration": 52,
    "start_time": "2023-07-10T08:05:06.722Z"
   },
   {
    "duration": 26,
    "start_time": "2023-07-10T08:05:06.776Z"
   },
   {
    "duration": 57,
    "start_time": "2023-07-10T08:05:06.805Z"
   },
   {
    "duration": 214,
    "start_time": "2023-07-10T08:05:06.864Z"
   },
   {
    "duration": 7,
    "start_time": "2023-07-10T08:05:07.080Z"
   },
   {
    "duration": 3,
    "start_time": "2023-07-12T14:26:26.859Z"
   },
   {
    "duration": 9,
    "start_time": "2023-07-12T14:28:07.341Z"
   },
   {
    "duration": 15,
    "start_time": "2023-07-12T14:28:39.836Z"
   },
   {
    "duration": 1421,
    "start_time": "2023-07-12T14:30:45.993Z"
   },
   {
    "duration": 5771,
    "start_time": "2023-07-12T14:30:57.551Z"
   },
   {
    "duration": 5257,
    "start_time": "2023-07-12T14:31:05.846Z"
   },
   {
    "duration": 5,
    "start_time": "2023-07-12T14:31:12.043Z"
   },
   {
    "duration": 42,
    "start_time": "2023-07-12T14:31:17.991Z"
   },
   {
    "duration": 41,
    "start_time": "2023-07-12T14:31:22.158Z"
   },
   {
    "duration": 15,
    "start_time": "2023-07-12T14:31:25.349Z"
   },
   {
    "duration": 17,
    "start_time": "2023-07-12T14:31:26.357Z"
   },
   {
    "duration": 11,
    "start_time": "2023-07-12T14:31:27.447Z"
   },
   {
    "duration": 7,
    "start_time": "2023-07-12T14:31:27.943Z"
   },
   {
    "duration": 3,
    "start_time": "2023-07-12T14:31:28.797Z"
   },
   {
    "duration": 9,
    "start_time": "2023-07-12T14:31:29.296Z"
   },
   {
    "duration": 3,
    "start_time": "2023-07-12T14:31:31.259Z"
   },
   {
    "duration": 6,
    "start_time": "2023-07-12T14:31:32.093Z"
   },
   {
    "duration": 20,
    "start_time": "2023-07-12T14:31:32.502Z"
   },
   {
    "duration": 6,
    "start_time": "2023-07-12T14:31:32.793Z"
   },
   {
    "duration": 5,
    "start_time": "2023-07-12T14:31:33.239Z"
   },
   {
    "duration": 20,
    "start_time": "2023-07-12T14:31:34.062Z"
   },
   {
    "duration": 2,
    "start_time": "2023-07-12T14:31:34.463Z"
   },
   {
    "duration": 2,
    "start_time": "2023-07-12T14:31:35.246Z"
   },
   {
    "duration": 5,
    "start_time": "2023-07-12T14:31:35.646Z"
   },
   {
    "duration": 12,
    "start_time": "2023-07-12T14:31:35.902Z"
   },
   {
    "duration": 6,
    "start_time": "2023-07-12T14:31:36.766Z"
   },
   {
    "duration": 7,
    "start_time": "2023-07-12T14:31:36.997Z"
   },
   {
    "duration": 3,
    "start_time": "2023-07-12T14:31:37.645Z"
   },
   {
    "duration": 3,
    "start_time": "2023-07-12T14:31:55.792Z"
   },
   {
    "duration": 5,
    "start_time": "2023-07-12T14:31:55.997Z"
   },
   {
    "duration": 11,
    "start_time": "2023-07-12T14:31:56.746Z"
   },
   {
    "duration": 7,
    "start_time": "2023-07-12T14:31:56.967Z"
   },
   {
    "duration": 10,
    "start_time": "2023-07-12T14:31:57.167Z"
   },
   {
    "duration": 6,
    "start_time": "2023-07-12T14:31:58.843Z"
   },
   {
    "duration": 114,
    "start_time": "2023-07-12T14:32:00.035Z"
   },
   {
    "duration": 41,
    "start_time": "2023-07-12T14:33:03.906Z"
   },
   {
    "duration": 4,
    "start_time": "2023-07-12T14:33:08.560Z"
   },
   {
    "duration": 18,
    "start_time": "2023-07-12T14:33:31.797Z"
   },
   {
    "duration": 5514,
    "start_time": "2023-07-12T14:33:37.442Z"
   },
   {
    "duration": 5217,
    "start_time": "2023-07-12T14:33:42.959Z"
   },
   {
    "duration": 1376,
    "start_time": "2023-07-12T14:33:48.178Z"
   },
   {
    "duration": 43,
    "start_time": "2023-07-12T14:33:49.556Z"
   },
   {
    "duration": 16,
    "start_time": "2023-07-12T14:33:49.601Z"
   },
   {
    "duration": 17,
    "start_time": "2023-07-12T14:33:49.619Z"
   },
   {
    "duration": 28,
    "start_time": "2023-07-12T14:33:49.638Z"
   },
   {
    "duration": 19,
    "start_time": "2023-07-12T14:33:49.668Z"
   },
   {
    "duration": 11,
    "start_time": "2023-07-12T14:33:49.688Z"
   },
   {
    "duration": 20,
    "start_time": "2023-07-12T14:33:49.701Z"
   },
   {
    "duration": 4,
    "start_time": "2023-07-12T14:33:49.723Z"
   },
   {
    "duration": 29,
    "start_time": "2023-07-12T14:33:49.729Z"
   },
   {
    "duration": 21,
    "start_time": "2023-07-12T14:33:49.760Z"
   },
   {
    "duration": 12,
    "start_time": "2023-07-12T14:33:49.785Z"
   },
   {
    "duration": 30,
    "start_time": "2023-07-12T14:33:49.798Z"
   },
   {
    "duration": 26,
    "start_time": "2023-07-12T14:33:49.830Z"
   },
   {
    "duration": 11,
    "start_time": "2023-07-12T14:33:49.858Z"
   },
   {
    "duration": 13,
    "start_time": "2023-07-12T14:33:49.871Z"
   },
   {
    "duration": 24,
    "start_time": "2023-07-12T14:33:49.885Z"
   },
   {
    "duration": 16,
    "start_time": "2023-07-12T14:33:49.911Z"
   },
   {
    "duration": 9,
    "start_time": "2023-07-12T14:33:49.929Z"
   },
   {
    "duration": 12,
    "start_time": "2023-07-12T14:33:49.940Z"
   },
   {
    "duration": 13,
    "start_time": "2023-07-12T14:33:49.954Z"
   },
   {
    "duration": 14,
    "start_time": "2023-07-12T14:33:49.969Z"
   },
   {
    "duration": 14,
    "start_time": "2023-07-12T14:33:49.984Z"
   },
   {
    "duration": 17,
    "start_time": "2023-07-12T14:33:50.000Z"
   },
   {
    "duration": 47,
    "start_time": "2023-07-12T14:33:50.019Z"
   },
   {
    "duration": 22,
    "start_time": "2023-07-12T14:33:50.067Z"
   },
   {
    "duration": 13,
    "start_time": "2023-07-12T14:33:50.090Z"
   },
   {
    "duration": 125,
    "start_time": "2023-07-12T14:33:50.105Z"
   },
   {
    "duration": 31,
    "start_time": "2023-07-12T14:33:50.232Z"
   },
   {
    "duration": 12,
    "start_time": "2023-07-12T14:33:50.265Z"
   },
   {
    "duration": 17,
    "start_time": "2023-07-12T14:33:50.279Z"
   },
   {
    "duration": 407,
    "start_time": "2023-07-12T14:33:50.297Z"
   },
   {
    "duration": 7026,
    "start_time": "2023-07-12T14:33:50.706Z"
   },
   {
    "duration": 240,
    "start_time": "2023-07-12T14:33:57.734Z"
   },
   {
    "duration": 99,
    "start_time": "2023-07-12T14:33:57.977Z"
   },
   {
    "duration": 13,
    "start_time": "2023-07-12T14:33:58.079Z"
   },
   {
    "duration": 6149,
    "start_time": "2023-07-12T14:33:58.094Z"
   },
   {
    "duration": 3,
    "start_time": "2023-07-12T14:34:04.245Z"
   },
   {
    "duration": 121,
    "start_time": "2023-07-12T14:34:04.254Z"
   },
   {
    "duration": 30,
    "start_time": "2023-07-12T14:34:04.377Z"
   },
   {
    "duration": 1748,
    "start_time": "2023-07-12T14:34:04.409Z"
   },
   {
    "duration": 732,
    "start_time": "2023-07-12T14:34:06.159Z"
   },
   {
    "duration": 1212,
    "start_time": "2023-07-12T14:34:06.892Z"
   },
   {
    "duration": 2640,
    "start_time": "2023-07-12T14:38:02.533Z"
   },
   {
    "duration": 5678,
    "start_time": "2023-07-12T14:38:15.626Z"
   },
   {
    "duration": 5,
    "start_time": "2023-07-12T14:38:24.629Z"
   },
   {
    "duration": 41,
    "start_time": "2023-07-12T14:38:26.593Z"
   },
   {
    "duration": 15,
    "start_time": "2023-07-12T14:38:27.621Z"
   },
   {
    "duration": 14,
    "start_time": "2023-07-12T14:38:28.426Z"
   },
   {
    "duration": 12,
    "start_time": "2023-07-12T14:38:30.493Z"
   },
   {
    "duration": 8,
    "start_time": "2023-07-12T14:38:32.030Z"
   },
   {
    "duration": 2,
    "start_time": "2023-07-12T14:38:32.666Z"
   },
   {
    "duration": 10,
    "start_time": "2023-07-12T14:38:34.025Z"
   },
   {
    "duration": 3,
    "start_time": "2023-07-12T14:38:36.312Z"
   },
   {
    "duration": 6,
    "start_time": "2023-07-12T14:38:37.330Z"
   },
   {
    "duration": 16,
    "start_time": "2023-07-12T14:38:38.162Z"
   },
   {
    "duration": 5,
    "start_time": "2023-07-12T14:38:38.739Z"
   },
   {
    "duration": 4,
    "start_time": "2023-07-12T14:38:39.257Z"
   },
   {
    "duration": 20,
    "start_time": "2023-07-12T14:38:39.811Z"
   },
   {
    "duration": 3,
    "start_time": "2023-07-12T14:38:40.964Z"
   },
   {
    "duration": 2,
    "start_time": "2023-07-12T14:38:41.321Z"
   },
   {
    "duration": 4,
    "start_time": "2023-07-12T14:38:41.713Z"
   },
   {
    "duration": 12,
    "start_time": "2023-07-12T14:38:41.914Z"
   },
   {
    "duration": 5,
    "start_time": "2023-07-12T14:38:42.518Z"
   },
   {
    "duration": 7,
    "start_time": "2023-07-12T14:38:42.800Z"
   },
   {
    "duration": 2,
    "start_time": "2023-07-12T14:38:43.714Z"
   },
   {
    "duration": 2,
    "start_time": "2023-07-12T14:38:46.885Z"
   },
   {
    "duration": 6,
    "start_time": "2023-07-12T14:38:47.297Z"
   },
   {
    "duration": 9,
    "start_time": "2023-07-12T14:38:48.648Z"
   },
   {
    "duration": 7,
    "start_time": "2023-07-12T14:38:49.864Z"
   },
   {
    "duration": 8,
    "start_time": "2023-07-12T14:38:50.753Z"
   },
   {
    "duration": 12,
    "start_time": "2023-07-12T14:39:23.197Z"
   },
   {
    "duration": 3,
    "start_time": "2023-07-12T14:40:00.619Z"
   },
   {
    "duration": 15,
    "start_time": "2023-07-12T14:40:01.901Z"
   },
   {
    "duration": 4117,
    "start_time": "2023-07-12T14:40:02.697Z"
   },
   {
    "duration": 0,
    "start_time": "2023-07-12T14:40:06.817Z"
   },
   {
    "duration": 0,
    "start_time": "2023-07-12T14:40:06.817Z"
   },
   {
    "duration": 0,
    "start_time": "2023-07-12T14:40:06.819Z"
   },
   {
    "duration": 0,
    "start_time": "2023-07-12T14:40:06.820Z"
   },
   {
    "duration": 4,
    "start_time": "2023-07-12T14:40:08.265Z"
   },
   {
    "duration": 12,
    "start_time": "2023-07-12T14:40:08.794Z"
   },
   {
    "duration": 6,
    "start_time": "2023-07-12T14:40:10.939Z"
   },
   {
    "duration": 5,
    "start_time": "2023-07-12T14:40:36.723Z"
   },
   {
    "duration": 1602,
    "start_time": "2023-07-12T14:40:38.623Z"
   },
   {
    "duration": 4,
    "start_time": "2023-07-12T14:40:42.426Z"
   },
   {
    "duration": 17,
    "start_time": "2023-07-12T14:40:45.330Z"
   },
   {
    "duration": 12,
    "start_time": "2023-07-12T14:41:23.066Z"
   },
   {
    "duration": 15,
    "start_time": "2023-07-12T14:41:23.835Z"
   },
   {
    "duration": 11,
    "start_time": "2023-07-12T14:41:25.211Z"
   },
   {
    "duration": 7,
    "start_time": "2023-07-12T14:41:25.818Z"
   },
   {
    "duration": 3,
    "start_time": "2023-07-12T14:41:26.562Z"
   },
   {
    "duration": 5511,
    "start_time": "2023-07-12T14:41:34.340Z"
   },
   {
    "duration": 5810,
    "start_time": "2023-07-12T14:41:39.853Z"
   },
   {
    "duration": 5,
    "start_time": "2023-07-12T14:41:47.858Z"
   },
   {
    "duration": 44,
    "start_time": "2023-07-12T14:41:49.192Z"
   },
   {
    "duration": 14,
    "start_time": "2023-07-12T14:41:50.444Z"
   },
   {
    "duration": 15,
    "start_time": "2023-07-12T14:41:51.204Z"
   },
   {
    "duration": 11,
    "start_time": "2023-07-12T14:41:52.852Z"
   },
   {
    "duration": 7,
    "start_time": "2023-07-12T14:41:54.065Z"
   },
   {
    "duration": 2,
    "start_time": "2023-07-12T14:41:55.099Z"
   },
   {
    "duration": 10,
    "start_time": "2023-07-12T14:42:00.561Z"
   },
   {
    "duration": 19,
    "start_time": "2023-07-12T14:42:13.311Z"
   },
   {
    "duration": 4,
    "start_time": "2023-07-12T14:42:23.795Z"
   },
   {
    "duration": 5,
    "start_time": "2023-07-12T14:42:28.444Z"
   },
   {
    "duration": 20,
    "start_time": "2023-07-12T14:42:31.839Z"
   },
   {
    "duration": 3,
    "start_time": "2023-07-12T14:42:35.659Z"
   },
   {
    "duration": 3,
    "start_time": "2023-07-12T14:42:36.252Z"
   },
   {
    "duration": 4,
    "start_time": "2023-07-12T14:42:37.498Z"
   },
   {
    "duration": 13,
    "start_time": "2023-07-12T14:42:39.494Z"
   },
   {
    "duration": 6,
    "start_time": "2023-07-12T14:42:42.033Z"
   },
   {
    "duration": 7,
    "start_time": "2023-07-12T14:42:43.042Z"
   },
   {
    "duration": 3,
    "start_time": "2023-07-12T14:42:44.034Z"
   },
   {
    "duration": 2,
    "start_time": "2023-07-12T14:42:47.492Z"
   },
   {
    "duration": 4,
    "start_time": "2023-07-12T14:42:47.946Z"
   },
   {
    "duration": 11,
    "start_time": "2023-07-12T14:42:49.140Z"
   },
   {
    "duration": 8,
    "start_time": "2023-07-12T14:42:50.259Z"
   },
   {
    "duration": 9,
    "start_time": "2023-07-12T14:42:51.590Z"
   },
   {
    "duration": 6,
    "start_time": "2023-07-12T14:42:54.419Z"
   },
   {
    "duration": 108,
    "start_time": "2023-07-12T14:42:56.011Z"
   },
   {
    "duration": 29,
    "start_time": "2023-07-12T14:43:11.253Z"
   },
   {
    "duration": 4,
    "start_time": "2023-07-12T14:43:16.708Z"
   },
   {
    "duration": 13,
    "start_time": "2023-07-12T14:43:31.244Z"
   },
   {
    "duration": 5786,
    "start_time": "2023-07-12T14:44:23.501Z"
   },
   {
    "duration": 5359,
    "start_time": "2023-07-12T14:44:29.289Z"
   },
   {
    "duration": 1310,
    "start_time": "2023-07-12T14:44:34.650Z"
   },
   {
    "duration": 44,
    "start_time": "2023-07-12T14:44:35.962Z"
   },
   {
    "duration": 13,
    "start_time": "2023-07-12T14:44:36.008Z"
   },
   {
    "duration": 23,
    "start_time": "2023-07-12T14:44:36.023Z"
   },
   {
    "duration": 22,
    "start_time": "2023-07-12T14:44:36.048Z"
   },
   {
    "duration": 19,
    "start_time": "2023-07-12T14:44:36.071Z"
   },
   {
    "duration": 18,
    "start_time": "2023-07-12T14:44:36.091Z"
   },
   {
    "duration": 29,
    "start_time": "2023-07-12T14:44:36.111Z"
   },
   {
    "duration": 18,
    "start_time": "2023-07-12T14:44:36.142Z"
   },
   {
    "duration": 30,
    "start_time": "2023-07-12T14:44:36.162Z"
   },
   {
    "duration": 40,
    "start_time": "2023-07-12T14:44:36.194Z"
   },
   {
    "duration": 26,
    "start_time": "2023-07-12T14:44:36.236Z"
   },
   {
    "duration": 41,
    "start_time": "2023-07-12T14:44:36.265Z"
   },
   {
    "duration": 41,
    "start_time": "2023-07-12T14:44:36.308Z"
   },
   {
    "duration": 22,
    "start_time": "2023-07-12T14:44:36.352Z"
   },
   {
    "duration": 18,
    "start_time": "2023-07-12T14:44:36.377Z"
   },
   {
    "duration": 20,
    "start_time": "2023-07-12T14:44:36.397Z"
   },
   {
    "duration": 35,
    "start_time": "2023-07-12T14:44:36.420Z"
   },
   {
    "duration": 13,
    "start_time": "2023-07-12T14:44:36.457Z"
   },
   {
    "duration": 36,
    "start_time": "2023-07-12T14:44:36.472Z"
   },
   {
    "duration": 9,
    "start_time": "2023-07-12T14:44:36.510Z"
   },
   {
    "duration": 8,
    "start_time": "2023-07-12T14:44:36.520Z"
   },
   {
    "duration": 9,
    "start_time": "2023-07-12T14:44:36.529Z"
   },
   {
    "duration": 11,
    "start_time": "2023-07-12T14:44:36.541Z"
   },
   {
    "duration": 10,
    "start_time": "2023-07-12T14:44:36.554Z"
   },
   {
    "duration": 8,
    "start_time": "2023-07-12T14:44:36.569Z"
   },
   {
    "duration": 26,
    "start_time": "2023-07-12T14:44:36.579Z"
   },
   {
    "duration": 134,
    "start_time": "2023-07-12T14:44:36.607Z"
   },
   {
    "duration": 57,
    "start_time": "2023-07-12T14:44:36.743Z"
   },
   {
    "duration": 13,
    "start_time": "2023-07-12T14:44:36.802Z"
   },
   {
    "duration": 14,
    "start_time": "2023-07-12T14:44:36.816Z"
   },
   {
    "duration": 410,
    "start_time": "2023-07-12T14:44:36.831Z"
   },
   {
    "duration": 7584,
    "start_time": "2023-07-12T14:44:37.243Z"
   },
   {
    "duration": 253,
    "start_time": "2023-07-12T14:44:44.829Z"
   },
   {
    "duration": 94,
    "start_time": "2023-07-12T14:44:45.084Z"
   },
   {
    "duration": 119,
    "start_time": "2023-07-12T14:44:45.181Z"
   },
   {
    "duration": 5307,
    "start_time": "2023-07-12T14:44:45.302Z"
   },
   {
    "duration": 3,
    "start_time": "2023-07-12T14:44:50.611Z"
   },
   {
    "duration": 84,
    "start_time": "2023-07-12T14:44:50.616Z"
   },
   {
    "duration": 35,
    "start_time": "2023-07-12T14:44:50.702Z"
   },
   {
    "duration": 1989,
    "start_time": "2023-07-12T14:44:50.738Z"
   },
   {
    "duration": 770,
    "start_time": "2023-07-12T14:44:52.729Z"
   },
   {
    "duration": 1366,
    "start_time": "2023-07-12T14:44:53.500Z"
   },
   {
    "duration": 64927,
    "start_time": "2023-07-12T14:44:54.875Z"
   },
   {
    "duration": 27212,
    "start_time": "2023-07-12T14:45:59.804Z"
   },
   {
    "duration": 45611,
    "start_time": "2023-07-12T14:46:27.018Z"
   },
   {
    "duration": 3,
    "start_time": "2023-07-12T14:47:12.631Z"
   },
   {
    "duration": 26,
    "start_time": "2023-07-12T14:47:12.636Z"
   },
   {
    "duration": 92,
    "start_time": "2023-07-12T14:47:12.664Z"
   },
   {
    "duration": 31,
    "start_time": "2023-07-12T14:47:12.758Z"
   },
   {
    "duration": 200,
    "start_time": "2023-07-12T14:47:12.791Z"
   },
   {
    "duration": 321,
    "start_time": "2023-07-12T14:47:12.993Z"
   },
   {
    "duration": 6,
    "start_time": "2023-07-12T14:47:13.315Z"
   },
   {
    "duration": 2666,
    "start_time": "2023-07-12T14:51:50.254Z"
   },
   {
    "duration": 5139,
    "start_time": "2023-07-12T14:51:53.838Z"
   },
   {
    "duration": 6,
    "start_time": "2023-07-12T14:52:00.023Z"
   },
   {
    "duration": 43,
    "start_time": "2023-07-12T14:52:01.146Z"
   },
   {
    "duration": 14,
    "start_time": "2023-07-12T14:52:01.535Z"
   },
   {
    "duration": 16,
    "start_time": "2023-07-12T14:52:01.718Z"
   },
   {
    "duration": 11,
    "start_time": "2023-07-12T14:52:02.111Z"
   },
   {
    "duration": 10,
    "start_time": "2023-07-12T14:52:02.305Z"
   },
   {
    "duration": 2,
    "start_time": "2023-07-12T14:52:02.512Z"
   },
   {
    "duration": 11,
    "start_time": "2023-07-12T14:52:02.927Z"
   },
   {
    "duration": 2,
    "start_time": "2023-07-12T14:52:04.143Z"
   },
   {
    "duration": 2,
    "start_time": "2023-07-12T14:52:05.005Z"
   },
   {
    "duration": 19,
    "start_time": "2023-07-12T14:52:05.901Z"
   },
   {
    "duration": 5,
    "start_time": "2023-07-12T14:52:06.446Z"
   },
   {
    "duration": 4,
    "start_time": "2023-07-12T14:52:07.310Z"
   },
   {
    "duration": 22,
    "start_time": "2023-07-12T14:52:07.559Z"
   },
   {
    "duration": 3,
    "start_time": "2023-07-12T14:52:08.758Z"
   },
   {
    "duration": 3,
    "start_time": "2023-07-12T14:52:09.315Z"
   },
   {
    "duration": 5,
    "start_time": "2023-07-12T14:52:10.423Z"
   },
   {
    "duration": 13,
    "start_time": "2023-07-12T14:52:11.201Z"
   },
   {
    "duration": 7,
    "start_time": "2023-07-12T14:52:12.767Z"
   },
   {
    "duration": 8,
    "start_time": "2023-07-12T14:52:13.208Z"
   },
   {
    "duration": 3,
    "start_time": "2023-07-12T14:52:13.709Z"
   },
   {
    "duration": 3,
    "start_time": "2023-07-12T14:52:16.251Z"
   },
   {
    "duration": 4,
    "start_time": "2023-07-12T14:52:16.701Z"
   },
   {
    "duration": 10,
    "start_time": "2023-07-12T14:52:17.902Z"
   },
   {
    "duration": 6,
    "start_time": "2023-07-12T14:52:18.893Z"
   },
   {
    "duration": 10,
    "start_time": "2023-07-12T14:52:19.236Z"
   },
   {
    "duration": 7,
    "start_time": "2023-07-12T14:52:21.055Z"
   },
   {
    "duration": 103,
    "start_time": "2023-07-12T14:52:22.226Z"
   },
   {
    "duration": 37,
    "start_time": "2023-07-12T14:52:26.335Z"
   },
   {
    "duration": 13,
    "start_time": "2023-07-12T14:52:35.739Z"
   },
   {
    "duration": 119,
    "start_time": "2023-07-12T14:54:31.506Z"
   },
   {
    "duration": 12,
    "start_time": "2023-07-12T14:54:33.442Z"
   },
   {
    "duration": 13,
    "start_time": "2023-07-12T14:55:14.241Z"
   },
   {
    "duration": 12,
    "start_time": "2023-07-12T14:55:15.405Z"
   },
   {
    "duration": 5621,
    "start_time": "2023-07-12T14:55:26.447Z"
   },
   {
    "duration": 5164,
    "start_time": "2023-07-12T14:55:32.070Z"
   },
   {
    "duration": 1312,
    "start_time": "2023-07-12T14:55:37.236Z"
   },
   {
    "duration": 41,
    "start_time": "2023-07-12T14:55:38.550Z"
   },
   {
    "duration": 13,
    "start_time": "2023-07-12T14:55:38.593Z"
   },
   {
    "duration": 21,
    "start_time": "2023-07-12T14:55:38.607Z"
   },
   {
    "duration": 12,
    "start_time": "2023-07-12T14:55:38.629Z"
   },
   {
    "duration": 7,
    "start_time": "2023-07-12T14:55:38.642Z"
   },
   {
    "duration": 16,
    "start_time": "2023-07-12T14:55:38.650Z"
   },
   {
    "duration": 76,
    "start_time": "2023-07-12T14:55:38.668Z"
   },
   {
    "duration": 2,
    "start_time": "2023-07-12T14:55:38.745Z"
   },
   {
    "duration": 8,
    "start_time": "2023-07-12T14:55:38.749Z"
   },
   {
    "duration": 21,
    "start_time": "2023-07-12T14:55:38.758Z"
   },
   {
    "duration": 5,
    "start_time": "2023-07-12T14:55:38.780Z"
   },
   {
    "duration": 33,
    "start_time": "2023-07-12T14:55:38.786Z"
   },
   {
    "duration": 31,
    "start_time": "2023-07-12T14:55:38.821Z"
   },
   {
    "duration": 22,
    "start_time": "2023-07-12T14:55:38.853Z"
   },
   {
    "duration": 25,
    "start_time": "2023-07-12T14:55:38.877Z"
   },
   {
    "duration": 23,
    "start_time": "2023-07-12T14:55:38.904Z"
   },
   {
    "duration": 37,
    "start_time": "2023-07-12T14:55:38.928Z"
   },
   {
    "duration": 23,
    "start_time": "2023-07-12T14:55:38.967Z"
   },
   {
    "duration": 26,
    "start_time": "2023-07-12T14:55:38.992Z"
   },
   {
    "duration": 20,
    "start_time": "2023-07-12T14:55:39.020Z"
   },
   {
    "duration": 31,
    "start_time": "2023-07-12T14:55:39.041Z"
   },
   {
    "duration": 11,
    "start_time": "2023-07-12T14:55:39.075Z"
   },
   {
    "duration": 11,
    "start_time": "2023-07-12T14:55:39.088Z"
   },
   {
    "duration": 14,
    "start_time": "2023-07-12T14:55:39.100Z"
   },
   {
    "duration": 12,
    "start_time": "2023-07-12T14:55:39.118Z"
   },
   {
    "duration": 26,
    "start_time": "2023-07-12T14:55:39.131Z"
   },
   {
    "duration": 119,
    "start_time": "2023-07-12T14:55:39.158Z"
   },
   {
    "duration": 25,
    "start_time": "2023-07-12T14:55:39.278Z"
   },
   {
    "duration": 10,
    "start_time": "2023-07-12T14:55:39.305Z"
   },
   {
    "duration": 39,
    "start_time": "2023-07-12T14:55:39.317Z"
   },
   {
    "duration": 395,
    "start_time": "2023-07-12T14:55:39.358Z"
   },
   {
    "duration": 7663,
    "start_time": "2023-07-12T14:55:39.754Z"
   },
   {
    "duration": 258,
    "start_time": "2023-07-12T14:55:47.419Z"
   },
   {
    "duration": 97,
    "start_time": "2023-07-12T14:55:47.679Z"
   },
   {
    "duration": 7,
    "start_time": "2023-07-12T14:55:47.778Z"
   },
   {
    "duration": 5223,
    "start_time": "2023-07-12T14:55:47.787Z"
   },
   {
    "duration": 3,
    "start_time": "2023-07-12T14:55:53.012Z"
   },
   {
    "duration": 73,
    "start_time": "2023-07-12T14:55:53.016Z"
   },
   {
    "duration": 31,
    "start_time": "2023-07-12T14:55:53.090Z"
   },
   {
    "duration": 1813,
    "start_time": "2023-07-12T14:55:53.122Z"
   },
   {
    "duration": 729,
    "start_time": "2023-07-12T14:55:54.937Z"
   },
   {
    "duration": 1308,
    "start_time": "2023-07-12T14:55:55.667Z"
   },
   {
    "duration": 68980,
    "start_time": "2023-07-12T14:55:56.976Z"
   },
   {
    "duration": 26413,
    "start_time": "2023-07-12T14:57:05.957Z"
   },
   {
    "duration": 46832,
    "start_time": "2023-07-12T14:57:32.375Z"
   },
   {
    "duration": 2,
    "start_time": "2023-07-12T14:58:19.208Z"
   },
   {
    "duration": 16,
    "start_time": "2023-07-12T14:58:19.212Z"
   },
   {
    "duration": 8,
    "start_time": "2023-07-12T14:58:19.229Z"
   },
   {
    "duration": 15,
    "start_time": "2023-07-12T14:58:19.239Z"
   },
   {
    "duration": 9,
    "start_time": "2023-07-12T14:58:19.255Z"
   },
   {
    "duration": 139,
    "start_time": "2023-07-12T14:58:19.266Z"
   },
   {
    "duration": 6,
    "start_time": "2023-07-12T14:58:19.406Z"
   },
   {
    "duration": 2091,
    "start_time": "2023-07-12T15:03:30.795Z"
   },
   {
    "duration": 23481,
    "start_time": "2023-07-12T15:03:45.703Z"
   },
   {
    "duration": 794,
    "start_time": "2023-07-12T15:04:25.624Z"
   },
   {
    "duration": 7451,
    "start_time": "2023-07-12T15:04:34.783Z"
   },
   {
    "duration": 180,
    "start_time": "2023-07-12T15:20:10.347Z"
   },
   {
    "duration": 50708,
    "start_time": "2023-07-12T15:20:24.325Z"
   },
   {
    "duration": 163,
    "start_time": "2023-07-12T15:21:24.955Z"
   },
   {
    "duration": 5,
    "start_time": "2023-07-12T15:41:58.257Z"
   },
   {
    "duration": 11871,
    "start_time": "2023-07-13T12:34:18.734Z"
   },
   {
    "duration": 11734,
    "start_time": "2023-07-13T12:34:30.608Z"
   },
   {
    "duration": 1825,
    "start_time": "2023-07-13T12:34:42.345Z"
   },
   {
    "duration": 238,
    "start_time": "2023-07-13T12:34:44.173Z"
   },
   {
    "duration": 16,
    "start_time": "2023-07-13T12:34:44.415Z"
   },
   {
    "duration": 45,
    "start_time": "2023-07-13T12:34:44.433Z"
   },
   {
    "duration": 20,
    "start_time": "2023-07-13T12:34:44.479Z"
   },
   {
    "duration": 12,
    "start_time": "2023-07-13T12:34:44.501Z"
   },
   {
    "duration": 6,
    "start_time": "2023-07-13T12:34:44.515Z"
   },
   {
    "duration": 28,
    "start_time": "2023-07-13T12:34:44.523Z"
   },
   {
    "duration": 4,
    "start_time": "2023-07-13T12:34:44.553Z"
   },
   {
    "duration": 6,
    "start_time": "2023-07-13T12:34:44.559Z"
   },
   {
    "duration": 43,
    "start_time": "2023-07-13T12:34:44.566Z"
   },
   {
    "duration": 5,
    "start_time": "2023-07-13T12:34:44.613Z"
   },
   {
    "duration": 17,
    "start_time": "2023-07-13T12:34:44.620Z"
   },
   {
    "duration": 26,
    "start_time": "2023-07-13T12:34:44.639Z"
   },
   {
    "duration": 18,
    "start_time": "2023-07-13T12:34:44.667Z"
   },
   {
    "duration": 9,
    "start_time": "2023-07-13T12:34:44.687Z"
   },
   {
    "duration": 7,
    "start_time": "2023-07-13T12:34:44.703Z"
   },
   {
    "duration": 26,
    "start_time": "2023-07-13T12:34:44.712Z"
   },
   {
    "duration": 7,
    "start_time": "2023-07-13T12:34:44.741Z"
   },
   {
    "duration": 8,
    "start_time": "2023-07-13T12:34:44.750Z"
   },
   {
    "duration": 5,
    "start_time": "2023-07-13T12:34:44.760Z"
   },
   {
    "duration": 17,
    "start_time": "2023-07-13T12:34:44.767Z"
   },
   {
    "duration": 12,
    "start_time": "2023-07-13T12:34:44.786Z"
   },
   {
    "duration": 15,
    "start_time": "2023-07-13T12:34:44.802Z"
   },
   {
    "duration": 13,
    "start_time": "2023-07-13T12:34:44.819Z"
   },
   {
    "duration": 16,
    "start_time": "2023-07-13T12:34:44.834Z"
   },
   {
    "duration": 21,
    "start_time": "2023-07-13T12:34:44.852Z"
   },
   {
    "duration": 180,
    "start_time": "2023-07-13T12:34:44.876Z"
   },
   {
    "duration": 49,
    "start_time": "2023-07-13T12:34:45.058Z"
   },
   {
    "duration": 5,
    "start_time": "2023-07-13T12:34:45.110Z"
   },
   {
    "duration": 34,
    "start_time": "2023-07-13T12:34:45.116Z"
   },
   {
    "duration": 951,
    "start_time": "2023-07-13T12:34:45.152Z"
   },
   {
    "duration": 10484,
    "start_time": "2023-07-13T12:34:46.110Z"
   },
   {
    "duration": 472,
    "start_time": "2023-07-13T12:34:56.600Z"
   },
   {
    "duration": 10,
    "start_time": "2023-07-13T12:34:57.078Z"
   },
   {
    "duration": 12,
    "start_time": "2023-07-13T12:34:57.095Z"
   },
   {
    "duration": 11062,
    "start_time": "2023-07-13T12:34:57.166Z"
   },
   {
    "duration": 3,
    "start_time": "2023-07-13T12:35:08.230Z"
   },
   {
    "duration": 82,
    "start_time": "2023-07-13T12:35:08.237Z"
   },
   {
    "duration": 31,
    "start_time": "2023-07-13T12:35:08.321Z"
   },
   {
    "duration": 2476,
    "start_time": "2023-07-13T12:35:08.354Z"
   },
   {
    "duration": 906,
    "start_time": "2023-07-13T12:35:10.832Z"
   },
   {
    "duration": 1581,
    "start_time": "2023-07-13T12:35:11.740Z"
   },
   {
    "duration": 89509,
    "start_time": "2023-07-13T12:35:13.323Z"
   },
   {
    "duration": 34580,
    "start_time": "2023-07-13T12:36:42.835Z"
   },
   {
    "duration": 60101,
    "start_time": "2023-07-13T12:37:17.417Z"
   },
   {
    "duration": 2,
    "start_time": "2023-07-13T12:38:17.521Z"
   },
   {
    "duration": 25,
    "start_time": "2023-07-13T12:38:17.525Z"
   },
   {
    "duration": 42,
    "start_time": "2023-07-13T12:38:17.552Z"
   },
   {
    "duration": 11,
    "start_time": "2023-07-13T12:38:17.596Z"
   },
   {
    "duration": 6,
    "start_time": "2023-07-13T12:38:17.609Z"
   },
   {
    "duration": 246,
    "start_time": "2023-07-13T12:38:17.617Z"
   },
   {
    "duration": 9,
    "start_time": "2023-07-13T12:38:17.865Z"
   },
   {
    "duration": 62,
    "start_time": "2023-07-13T12:49:48.158Z"
   },
   {
    "duration": 41,
    "start_time": "2023-07-13T12:55:42.862Z"
   },
   {
    "duration": 7635,
    "start_time": "2024-10-09T14:49:24.062Z"
   },
   {
    "duration": 232284,
    "start_time": "2024-10-09T14:49:31.699Z"
   },
   {
    "duration": 641,
    "start_time": "2024-10-09T14:53:23.985Z"
   },
   {
    "duration": 0,
    "start_time": "2024-10-09T14:53:24.630Z"
   },
   {
    "duration": 0,
    "start_time": "2024-10-09T14:53:24.631Z"
   },
   {
    "duration": 0,
    "start_time": "2024-10-09T14:53:24.632Z"
   },
   {
    "duration": 0,
    "start_time": "2024-10-09T14:53:24.634Z"
   },
   {
    "duration": 0,
    "start_time": "2024-10-09T14:53:24.635Z"
   },
   {
    "duration": 0,
    "start_time": "2024-10-09T14:53:24.636Z"
   },
   {
    "duration": 0,
    "start_time": "2024-10-09T14:53:24.637Z"
   },
   {
    "duration": 0,
    "start_time": "2024-10-09T14:53:24.638Z"
   },
   {
    "duration": 0,
    "start_time": "2024-10-09T14:53:24.639Z"
   },
   {
    "duration": 0,
    "start_time": "2024-10-09T14:53:24.640Z"
   },
   {
    "duration": 0,
    "start_time": "2024-10-09T14:53:24.641Z"
   },
   {
    "duration": 0,
    "start_time": "2024-10-09T14:53:24.642Z"
   },
   {
    "duration": 0,
    "start_time": "2024-10-09T14:53:24.644Z"
   },
   {
    "duration": 0,
    "start_time": "2024-10-09T14:53:24.645Z"
   },
   {
    "duration": 0,
    "start_time": "2024-10-09T14:53:24.646Z"
   },
   {
    "duration": 0,
    "start_time": "2024-10-09T14:53:24.647Z"
   },
   {
    "duration": 0,
    "start_time": "2024-10-09T14:53:24.648Z"
   },
   {
    "duration": 0,
    "start_time": "2024-10-09T14:53:24.650Z"
   },
   {
    "duration": 0,
    "start_time": "2024-10-09T14:53:24.651Z"
   },
   {
    "duration": 0,
    "start_time": "2024-10-09T14:53:24.652Z"
   },
   {
    "duration": 0,
    "start_time": "2024-10-09T14:53:24.653Z"
   },
   {
    "duration": 0,
    "start_time": "2024-10-09T14:53:24.654Z"
   },
   {
    "duration": 0,
    "start_time": "2024-10-09T14:53:24.655Z"
   },
   {
    "duration": 0,
    "start_time": "2024-10-09T14:53:24.657Z"
   },
   {
    "duration": 0,
    "start_time": "2024-10-09T14:53:24.658Z"
   },
   {
    "duration": 0,
    "start_time": "2024-10-09T14:53:24.659Z"
   },
   {
    "duration": 0,
    "start_time": "2024-10-09T14:53:24.660Z"
   },
   {
    "duration": 0,
    "start_time": "2024-10-09T14:53:24.661Z"
   },
   {
    "duration": 0,
    "start_time": "2024-10-09T14:53:24.663Z"
   },
   {
    "duration": 1,
    "start_time": "2024-10-09T14:53:24.704Z"
   },
   {
    "duration": 0,
    "start_time": "2024-10-09T14:53:24.706Z"
   },
   {
    "duration": 0,
    "start_time": "2024-10-09T14:53:24.707Z"
   },
   {
    "duration": 0,
    "start_time": "2024-10-09T14:53:24.709Z"
   },
   {
    "duration": 0,
    "start_time": "2024-10-09T14:53:24.710Z"
   },
   {
    "duration": 0,
    "start_time": "2024-10-09T14:53:24.711Z"
   },
   {
    "duration": 0,
    "start_time": "2024-10-09T14:53:24.712Z"
   },
   {
    "duration": 0,
    "start_time": "2024-10-09T14:53:24.713Z"
   },
   {
    "duration": 532,
    "start_time": "2024-10-09T15:01:30.514Z"
   },
   {
    "duration": 1619,
    "start_time": "2024-10-11T11:08:21.319Z"
   },
   {
    "duration": 96,
    "start_time": "2024-10-11T11:08:22.940Z"
   },
   {
    "duration": 14,
    "start_time": "2024-10-11T11:08:23.037Z"
   },
   {
    "duration": 19,
    "start_time": "2024-10-11T11:08:23.052Z"
   },
   {
    "duration": 9,
    "start_time": "2024-10-11T11:08:23.073Z"
   },
   {
    "duration": 7,
    "start_time": "2024-10-11T11:08:23.083Z"
   },
   {
    "duration": 8,
    "start_time": "2024-10-11T11:08:23.091Z"
   },
   {
    "duration": 141,
    "start_time": "2024-10-11T11:08:23.100Z"
   },
   {
    "duration": 0,
    "start_time": "2024-10-11T11:08:23.243Z"
   },
   {
    "duration": 0,
    "start_time": "2024-10-11T11:08:23.245Z"
   },
   {
    "duration": 0,
    "start_time": "2024-10-11T11:08:23.246Z"
   },
   {
    "duration": 0,
    "start_time": "2024-10-11T11:08:23.247Z"
   },
   {
    "duration": 0,
    "start_time": "2024-10-11T11:08:23.248Z"
   },
   {
    "duration": 0,
    "start_time": "2024-10-11T11:08:23.250Z"
   },
   {
    "duration": 0,
    "start_time": "2024-10-11T11:08:23.251Z"
   },
   {
    "duration": 0,
    "start_time": "2024-10-11T11:08:23.275Z"
   },
   {
    "duration": 0,
    "start_time": "2024-10-11T11:08:23.276Z"
   },
   {
    "duration": 0,
    "start_time": "2024-10-11T11:08:23.277Z"
   },
   {
    "duration": 0,
    "start_time": "2024-10-11T11:08:23.278Z"
   },
   {
    "duration": 0,
    "start_time": "2024-10-11T11:08:23.279Z"
   },
   {
    "duration": 0,
    "start_time": "2024-10-11T11:08:23.280Z"
   },
   {
    "duration": 0,
    "start_time": "2024-10-11T11:08:23.281Z"
   },
   {
    "duration": 0,
    "start_time": "2024-10-11T11:08:23.282Z"
   },
   {
    "duration": 0,
    "start_time": "2024-10-11T11:08:23.283Z"
   },
   {
    "duration": 0,
    "start_time": "2024-10-11T11:08:23.284Z"
   },
   {
    "duration": 0,
    "start_time": "2024-10-11T11:08:23.285Z"
   },
   {
    "duration": 0,
    "start_time": "2024-10-11T11:08:23.286Z"
   },
   {
    "duration": 0,
    "start_time": "2024-10-11T11:08:23.287Z"
   },
   {
    "duration": 0,
    "start_time": "2024-10-11T11:08:23.288Z"
   },
   {
    "duration": 0,
    "start_time": "2024-10-11T11:08:23.289Z"
   },
   {
    "duration": 0,
    "start_time": "2024-10-11T11:08:23.290Z"
   },
   {
    "duration": 0,
    "start_time": "2024-10-11T11:08:23.291Z"
   },
   {
    "duration": 0,
    "start_time": "2024-10-11T11:08:23.292Z"
   },
   {
    "duration": 0,
    "start_time": "2024-10-11T11:08:23.293Z"
   },
   {
    "duration": 0,
    "start_time": "2024-10-11T11:08:23.294Z"
   },
   {
    "duration": 0,
    "start_time": "2024-10-11T11:08:23.295Z"
   },
   {
    "duration": 0,
    "start_time": "2024-10-11T11:08:23.296Z"
   },
   {
    "duration": 1,
    "start_time": "2024-10-11T11:08:23.297Z"
   },
   {
    "duration": 1804,
    "start_time": "2024-10-11T11:12:14.217Z"
   },
   {
    "duration": 42,
    "start_time": "2024-10-11T11:12:16.023Z"
   },
   {
    "duration": 12,
    "start_time": "2024-10-11T11:12:16.066Z"
   },
   {
    "duration": 27,
    "start_time": "2024-10-11T11:12:16.079Z"
   },
   {
    "duration": 8,
    "start_time": "2024-10-11T11:12:16.108Z"
   },
   {
    "duration": 21,
    "start_time": "2024-10-11T11:12:16.118Z"
   },
   {
    "duration": 12,
    "start_time": "2024-10-11T11:12:16.140Z"
   },
   {
    "duration": 134,
    "start_time": "2024-10-11T11:12:16.154Z"
   },
   {
    "duration": 0,
    "start_time": "2024-10-11T11:12:16.290Z"
   },
   {
    "duration": 0,
    "start_time": "2024-10-11T11:12:16.291Z"
   },
   {
    "duration": 0,
    "start_time": "2024-10-11T11:12:16.292Z"
   },
   {
    "duration": 0,
    "start_time": "2024-10-11T11:12:16.292Z"
   },
   {
    "duration": 0,
    "start_time": "2024-10-11T11:12:16.293Z"
   },
   {
    "duration": 0,
    "start_time": "2024-10-11T11:12:16.294Z"
   },
   {
    "duration": 0,
    "start_time": "2024-10-11T11:12:16.295Z"
   },
   {
    "duration": 0,
    "start_time": "2024-10-11T11:12:16.296Z"
   },
   {
    "duration": 0,
    "start_time": "2024-10-11T11:12:16.296Z"
   },
   {
    "duration": 0,
    "start_time": "2024-10-11T11:12:16.389Z"
   },
   {
    "duration": 0,
    "start_time": "2024-10-11T11:12:16.391Z"
   },
   {
    "duration": 0,
    "start_time": "2024-10-11T11:12:16.392Z"
   },
   {
    "duration": 0,
    "start_time": "2024-10-11T11:12:16.393Z"
   },
   {
    "duration": 0,
    "start_time": "2024-10-11T11:12:16.394Z"
   },
   {
    "duration": 0,
    "start_time": "2024-10-11T11:12:16.395Z"
   },
   {
    "duration": 0,
    "start_time": "2024-10-11T11:12:16.396Z"
   },
   {
    "duration": 0,
    "start_time": "2024-10-11T11:12:16.397Z"
   },
   {
    "duration": 0,
    "start_time": "2024-10-11T11:12:16.398Z"
   },
   {
    "duration": 0,
    "start_time": "2024-10-11T11:12:16.399Z"
   },
   {
    "duration": 0,
    "start_time": "2024-10-11T11:12:16.400Z"
   },
   {
    "duration": 0,
    "start_time": "2024-10-11T11:12:16.401Z"
   },
   {
    "duration": 0,
    "start_time": "2024-10-11T11:12:16.402Z"
   },
   {
    "duration": 0,
    "start_time": "2024-10-11T11:12:16.403Z"
   },
   {
    "duration": 0,
    "start_time": "2024-10-11T11:12:16.404Z"
   },
   {
    "duration": 0,
    "start_time": "2024-10-11T11:12:16.405Z"
   },
   {
    "duration": 0,
    "start_time": "2024-10-11T11:12:16.406Z"
   },
   {
    "duration": 0,
    "start_time": "2024-10-11T11:12:16.407Z"
   },
   {
    "duration": 0,
    "start_time": "2024-10-11T11:12:16.408Z"
   },
   {
    "duration": 0,
    "start_time": "2024-10-11T11:12:16.408Z"
   },
   {
    "duration": 0,
    "start_time": "2024-10-11T11:12:16.409Z"
   },
   {
    "duration": 5,
    "start_time": "2024-10-11T11:15:14.281Z"
   },
   {
    "duration": 4,
    "start_time": "2024-10-11T11:15:16.788Z"
   },
   {
    "duration": 15,
    "start_time": "2024-10-11T11:15:18.291Z"
   },
   {
    "duration": 13,
    "start_time": "2024-10-11T11:15:25.413Z"
   },
   {
    "duration": 2,
    "start_time": "2024-10-11T11:16:22.924Z"
   },
   {
    "duration": 5,
    "start_time": "2024-10-11T11:16:23.675Z"
   },
   {
    "duration": 10,
    "start_time": "2024-10-11T11:16:23.734Z"
   },
   {
    "duration": 6,
    "start_time": "2024-10-11T11:16:24.715Z"
   },
   {
    "duration": 6,
    "start_time": "2024-10-11T11:16:26.196Z"
   },
   {
    "duration": 4,
    "start_time": "2024-10-11T11:16:27.476Z"
   },
   {
    "duration": 12,
    "start_time": "2024-10-11T11:16:29.906Z"
   },
   {
    "duration": 10,
    "start_time": "2024-10-11T11:16:30.675Z"
   },
   {
    "duration": 10,
    "start_time": "2024-10-11T11:16:31.404Z"
   },
   {
    "duration": 5,
    "start_time": "2024-10-11T11:16:33.567Z"
   },
   {
    "duration": 157,
    "start_time": "2024-10-11T11:16:40.884Z"
   },
   {
    "duration": 22,
    "start_time": "2024-10-11T11:16:47.133Z"
   },
   {
    "duration": 5,
    "start_time": "2024-10-11T11:16:48.731Z"
   },
   {
    "duration": 4,
    "start_time": "2024-10-11T11:16:53.780Z"
   },
   {
    "duration": 767,
    "start_time": "2024-10-11T11:16:55.339Z"
   },
   {
    "duration": 7867,
    "start_time": "2024-10-11T11:16:57.852Z"
   },
   {
    "duration": 20,
    "start_time": "2024-10-11T11:17:05.721Z"
   },
   {
    "duration": 3802,
    "start_time": "2024-10-11T11:17:41.916Z"
   },
   {
    "duration": 57,
    "start_time": "2024-10-11T11:17:48.017Z"
   },
   {
    "duration": 30,
    "start_time": "2024-10-11T11:17:50.196Z"
   },
   {
    "duration": 1866,
    "start_time": "2024-10-11T11:17:52.572Z"
   },
   {
    "duration": 725,
    "start_time": "2024-10-11T11:18:37.957Z"
   },
   {
    "duration": 1254,
    "start_time": "2024-10-11T11:18:43.638Z"
   },
   {
    "duration": 72977,
    "start_time": "2024-10-11T11:19:02.624Z"
   },
   {
    "duration": 27502,
    "start_time": "2024-10-11T11:20:15.602Z"
   },
   {
    "duration": 48526,
    "start_time": "2024-10-11T11:20:48.116Z"
   },
   {
    "duration": 156,
    "start_time": "2024-10-11T11:22:39.227Z"
   },
   {
    "duration": 7,
    "start_time": "2024-10-11T11:26:16.804Z"
   }
  ],
  "kernelspec": {
   "display_name": "Python 3 (ipykernel)",
   "language": "python",
   "name": "python3"
  },
  "language_info": {
   "codemirror_mode": {
    "name": "ipython",
    "version": 3
   },
   "file_extension": ".py",
   "mimetype": "text/x-python",
   "name": "python",
   "nbconvert_exporter": "python",
   "pygments_lexer": "ipython3",
   "version": "3.9.5"
  },
  "toc": {
   "base_numbering": 1,
   "nav_menu": {},
   "number_sections": true,
   "sideBar": true,
   "skip_h1_title": true,
   "title_cell": "Содержание",
   "title_sidebar": "Contents",
   "toc_cell": true,
   "toc_position": {
    "height": "calc(100% - 180px)",
    "left": "10px",
    "top": "150px",
    "width": "226px"
   },
   "toc_section_display": true,
   "toc_window_display": true
  }
 },
 "nbformat": 4,
 "nbformat_minor": 2
}
