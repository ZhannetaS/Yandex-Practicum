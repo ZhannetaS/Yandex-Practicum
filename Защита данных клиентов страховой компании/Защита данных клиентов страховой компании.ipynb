{
 "cells": [
  {
   "cell_type": "markdown",
   "metadata": {
    "toc": true
   },
   "source": [
    "<h1>Содержание<span class=\"tocSkip\"></span></h1>\n",
    "<div class=\"toc\"><ul class=\"toc-item\"><li><span><a href=\"#Введение\" data-toc-modified-id=\"Введение-1\"><span class=\"toc-item-num\">1&nbsp;&nbsp;</span>Введение</a></span></li><li><span><a href=\"#Загрузка-данных\" data-toc-modified-id=\"Загрузка-данных-2\"><span class=\"toc-item-num\">2&nbsp;&nbsp;</span>Загрузка данных</a></span><ul class=\"toc-item\"><li><span><a href=\"#Анализ-данных\" data-toc-modified-id=\"Анализ-данных-2.1\"><span class=\"toc-item-num\">2.1&nbsp;&nbsp;</span>Анализ данных</a></span></li><li><span><a href=\"#Предобработка-данных\" data-toc-modified-id=\"Предобработка-данных-2.2\"><span class=\"toc-item-num\">2.2&nbsp;&nbsp;</span>Предобработка данных</a></span></li><li><span><a href=\"#Промежуточный-вывод:\" data-toc-modified-id=\"Промежуточный-вывод:-2.3\"><span class=\"toc-item-num\">2.3&nbsp;&nbsp;</span>Промежуточный вывод:</a></span></li></ul></li><li><span><a href=\"#Умножение-матриц\" data-toc-modified-id=\"Умножение-матриц-3\"><span class=\"toc-item-num\">3&nbsp;&nbsp;</span>Умножение матриц</a></span></li><li><span><a href=\"#Алгоритм-преобразования\" data-toc-modified-id=\"Алгоритм-преобразования-4\"><span class=\"toc-item-num\">4&nbsp;&nbsp;</span>Алгоритм преобразования</a></span></li><li><span><a href=\"#Проверка-алгоритма\" data-toc-modified-id=\"Проверка-алгоритма-5\"><span class=\"toc-item-num\">5&nbsp;&nbsp;</span>Проверка алгоритма</a></span></li><li><span><a href=\"#Выводы\" data-toc-modified-id=\"Выводы-6\"><span class=\"toc-item-num\">6&nbsp;&nbsp;</span>Выводы</a></span></li><li><span><a href=\"#Чек-лист-проверки\" data-toc-modified-id=\"Чек-лист-проверки-7\"><span class=\"toc-item-num\">7&nbsp;&nbsp;</span>Чек-лист проверки</a></span></li></ul></div>"
   ]
  },
  {
   "cell_type": "markdown",
   "metadata": {},
   "source": [
    "# Защита персональных данных клиентов"
   ]
  },
  {
   "cell_type": "markdown",
   "metadata": {},
   "source": [
    "## Введение\n",
    "\n",
    "В данном проекте требуется защитить данные клиентов страховой компании «Хоть потоп».\n",
    "\n",
    "В нашем распоряжении набор данных, которые находится в файле /datasets/insurance.csv, где пол, возраст и зарплата застрахованного, количество членов его семьи - это **Признаки**, а количество страховых выплат клиенту за последние 5 лет - **Целевой признак**.\n",
    "\n",
    "\n",
    "# Цель\n",
    "\n",
    "Главной целью проекта является разработать такой метод преобразования данных, чтобы по ним было сложно восстановить персональную информацию. Защитить данные, чтобы при преобразовании качество моделей машинного обучения не ухудшилось. \n",
    "\n",
    "# Задачи:\n",
    "\n",
    "1. Загрузить и подготовить данные\n",
    "2. Исследовать изменится ли качество линейной регрессии при умножении признаков на обратимую матрицу:\n",
    "\n",
    "     a. Если Изменится, привести примеры матриц.\n",
    "     \n",
    "     b. Если не изменится, указать как связаны параметры линейной регрессии в исходной задаче и в преобразованной.\n",
    "     \n",
    "     \n",
    "3. Предложить алгоритм преобразования данных для решения задачи и обосновать, почему качество линейной регрессии не поменяется.\n",
    "4. Запрограммировать этот алгоритм, применив матричные операции. Проверить, что качество линейной регрессии из sklearn не отличается до и после преобразования, применив метрику R2."
   ]
  },
  {
   "cell_type": "markdown",
   "metadata": {},
   "source": [
    "## Загрузка данных"
   ]
  },
  {
   "cell_type": "code",
   "execution_count": 1,
   "metadata": {},
   "outputs": [],
   "source": [
    "import pandas as pd\n",
    "import numpy as np\n",
    "import seaborn as sns\n",
    "import matplotlib.pyplot as plt\n",
    "import numpy as np\n",
    "\n",
    "from sklearn.linear_model import LinearRegression\n",
    "from sklearn.metrics import r2_score\n",
    "import warnings\n",
    "warnings.filterwarnings('ignore')"
   ]
  },
  {
   "cell_type": "markdown",
   "metadata": {},
   "source": [
    "### Анализ данных"
   ]
  },
  {
   "cell_type": "code",
   "execution_count": 2,
   "metadata": {},
   "outputs": [],
   "source": [
    "try:\n",
    "    data = pd.read_csv('/datasets/insurance.csv')\n",
    "except:\n",
    "    data = pd.read_csv('F:/insurance.csv')"
   ]
  },
  {
   "cell_type": "code",
   "execution_count": 3,
   "metadata": {},
   "outputs": [
    {
     "data": {
      "text/html": [
       "<div>\n",
       "<style scoped>\n",
       "    .dataframe tbody tr th:only-of-type {\n",
       "        vertical-align: middle;\n",
       "    }\n",
       "\n",
       "    .dataframe tbody tr th {\n",
       "        vertical-align: top;\n",
       "    }\n",
       "\n",
       "    .dataframe thead th {\n",
       "        text-align: right;\n",
       "    }\n",
       "</style>\n",
       "<table border=\"1\" class=\"dataframe\">\n",
       "  <thead>\n",
       "    <tr style=\"text-align: right;\">\n",
       "      <th></th>\n",
       "      <th>Пол</th>\n",
       "      <th>Возраст</th>\n",
       "      <th>Зарплата</th>\n",
       "      <th>Члены семьи</th>\n",
       "      <th>Страховые выплаты</th>\n",
       "    </tr>\n",
       "  </thead>\n",
       "  <tbody>\n",
       "    <tr>\n",
       "      <th>0</th>\n",
       "      <td>1</td>\n",
       "      <td>41.0</td>\n",
       "      <td>49600.0</td>\n",
       "      <td>1</td>\n",
       "      <td>0</td>\n",
       "    </tr>\n",
       "    <tr>\n",
       "      <th>1</th>\n",
       "      <td>0</td>\n",
       "      <td>46.0</td>\n",
       "      <td>38000.0</td>\n",
       "      <td>1</td>\n",
       "      <td>1</td>\n",
       "    </tr>\n",
       "    <tr>\n",
       "      <th>2</th>\n",
       "      <td>0</td>\n",
       "      <td>29.0</td>\n",
       "      <td>21000.0</td>\n",
       "      <td>0</td>\n",
       "      <td>0</td>\n",
       "    </tr>\n",
       "    <tr>\n",
       "      <th>3</th>\n",
       "      <td>0</td>\n",
       "      <td>21.0</td>\n",
       "      <td>41700.0</td>\n",
       "      <td>2</td>\n",
       "      <td>0</td>\n",
       "    </tr>\n",
       "    <tr>\n",
       "      <th>4</th>\n",
       "      <td>1</td>\n",
       "      <td>28.0</td>\n",
       "      <td>26100.0</td>\n",
       "      <td>0</td>\n",
       "      <td>0</td>\n",
       "    </tr>\n",
       "  </tbody>\n",
       "</table>\n",
       "</div>"
      ],
      "text/plain": [
       "   Пол  Возраст  Зарплата  Члены семьи  Страховые выплаты\n",
       "0    1     41.0   49600.0            1                  0\n",
       "1    0     46.0   38000.0            1                  1\n",
       "2    0     29.0   21000.0            0                  0\n",
       "3    0     21.0   41700.0            2                  0\n",
       "4    1     28.0   26100.0            0                  0"
      ]
     },
     "metadata": {},
     "output_type": "display_data"
    },
    {
     "data": {
      "text/plain": [
       "(5000, 5)"
      ]
     },
     "metadata": {},
     "output_type": "display_data"
    }
   ],
   "source": [
    "display(data.head(), data.shape,)"
   ]
  },
  {
   "cell_type": "code",
   "execution_count": 4,
   "metadata": {
    "scrolled": true
   },
   "outputs": [
    {
     "name": "stdout",
     "output_type": "stream",
     "text": [
      "<class 'pandas.core.frame.DataFrame'>\n",
      "RangeIndex: 5000 entries, 0 to 4999\n",
      "Data columns (total 5 columns):\n",
      " #   Column             Non-Null Count  Dtype  \n",
      "---  ------             --------------  -----  \n",
      " 0   Пол                5000 non-null   int64  \n",
      " 1   Возраст            5000 non-null   float64\n",
      " 2   Зарплата           5000 non-null   float64\n",
      " 3   Члены семьи        5000 non-null   int64  \n",
      " 4   Страховые выплаты  5000 non-null   int64  \n",
      "dtypes: float64(2), int64(3)\n",
      "memory usage: 195.4 KB\n"
     ]
    }
   ],
   "source": [
    "data.info()"
   ]
  },
  {
   "cell_type": "code",
   "execution_count": 5,
   "metadata": {},
   "outputs": [
    {
     "name": "stdout",
     "output_type": "stream",
     "text": [
      "<class 'pandas.core.frame.DataFrame'>\n",
      "RangeIndex: 5000 entries, 0 to 4999\n",
      "Data columns (total 5 columns):\n",
      " #   Column             Non-Null Count  Dtype  \n",
      "---  ------             --------------  -----  \n",
      " 0   Пол                5000 non-null   int64  \n",
      " 1   Возраст            5000 non-null   int64  \n",
      " 2   Зарплата           5000 non-null   float64\n",
      " 3   Члены семьи        5000 non-null   int64  \n",
      " 4   Страховые выплаты  5000 non-null   int64  \n",
      "dtypes: float64(1), int64(4)\n",
      "memory usage: 195.4 KB\n"
     ]
    }
   ],
   "source": [
    "# Переведем формат возраста в целочисленный тип данных\n",
    "data['Возраст'] = data['Возраст'].astype('int')\n",
    "data.info()"
   ]
  },
  {
   "cell_type": "code",
   "execution_count": 6,
   "metadata": {},
   "outputs": [
    {
     "name": "stdout",
     "output_type": "stream",
     "text": [
      "Датафрейм имеет 5000 строк в 5 столбцах\n"
     ]
    }
   ],
   "source": [
    "# выведем общую информацию о наборе данных:\n",
    "print(f'Датафрейм имеет {data.shape[0]} строк в {data.shape[1]} столбцах')"
   ]
  },
  {
   "cell_type": "code",
   "execution_count": 7,
   "metadata": {},
   "outputs": [
    {
     "data": {
      "text/html": [
       "<div>\n",
       "<style scoped>\n",
       "    .dataframe tbody tr th:only-of-type {\n",
       "        vertical-align: middle;\n",
       "    }\n",
       "\n",
       "    .dataframe tbody tr th {\n",
       "        vertical-align: top;\n",
       "    }\n",
       "\n",
       "    .dataframe thead th {\n",
       "        text-align: right;\n",
       "    }\n",
       "</style>\n",
       "<table border=\"1\" class=\"dataframe\">\n",
       "  <thead>\n",
       "    <tr style=\"text-align: right;\">\n",
       "      <th></th>\n",
       "      <th>Пол</th>\n",
       "      <th>Возраст</th>\n",
       "      <th>Зарплата</th>\n",
       "      <th>Члены семьи</th>\n",
       "      <th>Страховые выплаты</th>\n",
       "    </tr>\n",
       "  </thead>\n",
       "  <tbody>\n",
       "    <tr>\n",
       "      <th>count</th>\n",
       "      <td>5000.000000</td>\n",
       "      <td>5000.000000</td>\n",
       "      <td>5000.000000</td>\n",
       "      <td>5000.000000</td>\n",
       "      <td>5000.000000</td>\n",
       "    </tr>\n",
       "    <tr>\n",
       "      <th>mean</th>\n",
       "      <td>0.499000</td>\n",
       "      <td>30.952800</td>\n",
       "      <td>39916.360000</td>\n",
       "      <td>1.194200</td>\n",
       "      <td>0.148000</td>\n",
       "    </tr>\n",
       "    <tr>\n",
       "      <th>std</th>\n",
       "      <td>0.500049</td>\n",
       "      <td>8.440807</td>\n",
       "      <td>9900.083569</td>\n",
       "      <td>1.091387</td>\n",
       "      <td>0.463183</td>\n",
       "    </tr>\n",
       "    <tr>\n",
       "      <th>min</th>\n",
       "      <td>0.000000</td>\n",
       "      <td>18.000000</td>\n",
       "      <td>5300.000000</td>\n",
       "      <td>0.000000</td>\n",
       "      <td>0.000000</td>\n",
       "    </tr>\n",
       "    <tr>\n",
       "      <th>25%</th>\n",
       "      <td>0.000000</td>\n",
       "      <td>24.000000</td>\n",
       "      <td>33300.000000</td>\n",
       "      <td>0.000000</td>\n",
       "      <td>0.000000</td>\n",
       "    </tr>\n",
       "    <tr>\n",
       "      <th>50%</th>\n",
       "      <td>0.000000</td>\n",
       "      <td>30.000000</td>\n",
       "      <td>40200.000000</td>\n",
       "      <td>1.000000</td>\n",
       "      <td>0.000000</td>\n",
       "    </tr>\n",
       "    <tr>\n",
       "      <th>75%</th>\n",
       "      <td>1.000000</td>\n",
       "      <td>37.000000</td>\n",
       "      <td>46600.000000</td>\n",
       "      <td>2.000000</td>\n",
       "      <td>0.000000</td>\n",
       "    </tr>\n",
       "    <tr>\n",
       "      <th>max</th>\n",
       "      <td>1.000000</td>\n",
       "      <td>65.000000</td>\n",
       "      <td>79000.000000</td>\n",
       "      <td>6.000000</td>\n",
       "      <td>5.000000</td>\n",
       "    </tr>\n",
       "  </tbody>\n",
       "</table>\n",
       "</div>"
      ],
      "text/plain": [
       "               Пол      Возраст      Зарплата  Члены семьи  Страховые выплаты\n",
       "count  5000.000000  5000.000000   5000.000000  5000.000000        5000.000000\n",
       "mean      0.499000    30.952800  39916.360000     1.194200           0.148000\n",
       "std       0.500049     8.440807   9900.083569     1.091387           0.463183\n",
       "min       0.000000    18.000000   5300.000000     0.000000           0.000000\n",
       "25%       0.000000    24.000000  33300.000000     0.000000           0.000000\n",
       "50%       0.000000    30.000000  40200.000000     1.000000           0.000000\n",
       "75%       1.000000    37.000000  46600.000000     2.000000           0.000000\n",
       "max       1.000000    65.000000  79000.000000     6.000000           5.000000"
      ]
     },
     "execution_count": 7,
     "metadata": {},
     "output_type": "execute_result"
    }
   ],
   "source": [
    "data.describe()"
   ]
  },
  {
   "cell_type": "code",
   "execution_count": 8,
   "metadata": {},
   "outputs": [
    {
     "data": {
      "image/png": "[encoded data removed]",
      "text/plain": [
       "<Figure size 720x432 with 1 Axes>"
      ]
     },
     "metadata": {
      "needs_background": "light"
     },
     "output_type": "display_data"
    },
    {
     "data": {
      "image/png": "[encoded data removed]",
      "text/plain": [
       "<Figure size 720x432 with 1 Axes>"
      ]
     },
     "metadata": {
      "needs_background": "light"
     },
     "output_type": "display_data"
    },
    {
     "data": {
      "image/png": "[encoded data removed]",
      "text/plain": [
       "<Figure size 720x432 with 1 Axes>"
      ]
     },
     "metadata": {
      "needs_background": "light"
     },
     "output_type": "display_data"
    },
    {
     "data": {
      "image/png": "[encoded data removed]",
      "text/plain": [
       "<Figure size 720x432 with 1 Axes>"
      ]
     },
     "metadata": {
      "needs_background": "light"
     },
     "output_type": "display_data"
    }
   ],
   "source": [
    "# визуализируем данные:\n",
    "columns = ['Возраст', 'Зарплата', 'Страховые выплаты', 'Члены семьи']\n",
    "for col in columns:\n",
    "    plt.figure(figsize=(10,6))\n",
    "    sns.distplot(data[col])\n",
    "    plt.title(f'Диаграмма плотности для параметра {col}')\n",
    "    plt.ylabel('Плотность вероятностей') \n",
    "    plt.show()"
   ]
  },
  {
   "cell_type": "markdown",
   "metadata": {},
   "source": [
    "### Предобработка данных"
   ]
  },
  {
   "cell_type": "code",
   "execution_count": 9,
   "metadata": {},
   "outputs": [
    {
     "data": {
      "text/html": [
       "<div>\n",
       "<style scoped>\n",
       "    .dataframe tbody tr th:only-of-type {\n",
       "        vertical-align: middle;\n",
       "    }\n",
       "\n",
       "    .dataframe tbody tr th {\n",
       "        vertical-align: top;\n",
       "    }\n",
       "\n",
       "    .dataframe thead th {\n",
       "        text-align: right;\n",
       "    }\n",
       "</style>\n",
       "<table border=\"1\" class=\"dataframe\">\n",
       "  <thead>\n",
       "    <tr style=\"text-align: right;\">\n",
       "      <th></th>\n",
       "      <th>Пропуски</th>\n",
       "    </tr>\n",
       "  </thead>\n",
       "  <tbody>\n",
       "  </tbody>\n",
       "</table>\n",
       "</div>"
      ],
      "text/plain": [
       "Empty DataFrame\n",
       "Columns: [Пропуски]\n",
       "Index: []"
      ]
     },
     "metadata": {},
     "output_type": "display_data"
    }
   ],
   "source": [
    "# Проверка на пропуски\n",
    "display(data.isna().sum().to_frame(name=\"Пропуски\").query(\"Пропуски > 0\"))"
   ]
  },
  {
   "cell_type": "code",
   "execution_count": 10,
   "metadata": {},
   "outputs": [
    {
     "data": {
      "text/plain": [
       "153"
      ]
     },
     "execution_count": 10,
     "metadata": {},
     "output_type": "execute_result"
    }
   ],
   "source": [
    "# Проверка на дубликаты\n",
    "data.duplicated().sum()"
   ]
  },
  {
   "cell_type": "code",
   "execution_count": 11,
   "metadata": {},
   "outputs": [
    {
     "data": {
      "text/plain": [
       "0"
      ]
     },
     "execution_count": 11,
     "metadata": {},
     "output_type": "execute_result"
    }
   ],
   "source": [
    "# Удаление дубликатов\n",
    "data.drop_duplicates(inplace=True)\n",
    "data.duplicated().sum()"
   ]
  },
  {
   "cell_type": "code",
   "execution_count": 12,
   "metadata": {
    "scrolled": false
   },
   "outputs": [
    {
     "data": {
      "image/png": "[encoded data removed]",
      "text/plain": [
       "<Figure size 504x504 with 2 Axes>"
      ]
     },
     "metadata": {
      "needs_background": "light"
     },
     "output_type": "display_data"
    }
   ],
   "source": [
    "# Проверим на мультиколинеарность\n",
    "plt.rcParams['figure.figsize'] = (7.0, 7.0)\n",
    "sns.heatmap(data.corr(), annot=True, linewidths=3, linecolor='white')\n",
    "plt.show()"
   ]
  },
  {
   "cell_type": "markdown",
   "metadata": {},
   "source": [
    "### Промежуточный вывод:"
   ]
  },
  {
   "cell_type": "markdown",
   "metadata": {},
   "source": [
    "Данные успешно загружены и имеют подходящий тип данных. \n",
    "\n",
    "Для удобства перевели возраст в целочисленный формат.\n",
    "\n",
    "В таблице отсутствуют лишние столбцы и пропущенные значения. \n",
    "\n",
    "Дубликаты удалены, их происхождение неясно, однако они не являются необходимыми для обучения модели. \n",
    "\n",
    "Проверка основных статистических показателей не выявила явных выбросов. \n",
    "\n",
    "Наблюдается высокая корреляция между возрастом и зарплатой (коэффициент корреляции 0.65)."
   ]
  },
  {
   "cell_type": "markdown",
   "metadata": {},
   "source": [
    "## Умножение матриц"
   ]
  },
  {
   "cell_type": "markdown",
   "metadata": {},
   "source": [
    "**В данном разделе нам предстоит ответить на вопрос и обосновать его решение как изменится качество линейной регрессии при умножениии признаков на обратимую матрицу, прежде, чем предложить алгоритм преобразования данных и запрограммировать его, используя матричные операции.**\n",
    " "
   ]
  },
  {
   "cell_type": "markdown",
   "metadata": {},
   "source": [
    "В этом задании вы можете записывать формулы в *Jupyter Notebook.*\n",
    "\n",
    "Чтобы записать формулу внутри текста, окружите её символами доллара \\\\$; если снаружи —  двойными символами \\\\$\\\\$. Эти формулы записываются на языке вёрстки *LaTeX.* \n",
    "\n",
    "Для примера мы записали формулы линейной регрессии. Можете их скопировать и отредактировать, чтобы решить задачу.\n",
    "\n",
    "Работать в *LaTeX* необязательно."
   ]
  },
  {
   "cell_type": "markdown",
   "metadata": {},
   "source": [
    "Обозначения:\n",
    "\n",
    "- $X$ — матрица признаков (нулевой столбец состоит из единиц)\n",
    "\n",
    "- $y$ — вектор целевого признака\n",
    "\n",
    "- $P$ — матрица, на которую умножаются признаки\n",
    "\n",
    "- $w$ — вектор весов линейной регрессии (нулевой элемент равен сдвигу)"
   ]
  },
  {
   "cell_type": "markdown",
   "metadata": {},
   "source": [
    "Предсказания:\n",
    "\n",
    "$$\n",
    "a = Xw \\tag{1}\n",
    "$$\n",
    "\n",
    "Задача обучения:\n",
    "\n",
    "$$\n",
    "w = \\arg\\min_w MSE(Xw, y) \\tag{2}\n",
    "$$\n",
    "\n",
    "Формула обучения:\n",
    "\n",
    "$$\n",
    "w = (X^T X)^{-1} X^T y \\tag{3}\n",
    "$$"
   ]
  },
  {
   "cell_type": "markdown",
   "metadata": {},
   "source": [
    "**Ответ:** при умножении признаков на обратимую матрицу качество линейной регрессии не изменится.\n",
    "\n",
    "**Обоснование:** У нас есть матрица $X$ размерности $(n, d)$, где $n$ - количество наблюдений, $d$ - количество признаков. \n",
    "\n",
    "Пусть $A$ - обратимая матрица размерности $(d, d)$, и мы умножаем матрицу $X$ на эту матрицу $A$, получая матрицу $X'$, т.е. \n",
    "\n",
    "$$\n",
    "X' = XA \\tag{4}\n",
    "$$\n",
    "\n",
    "Подставим это выражение в формулу для $a'$, согласно формуле $(1)$:\n",
    "\n",
    "$$\n",
    "a' = X'w' = (XA)w' = X(Aw') \\tag{5}\n",
    "$$\n",
    "\n",
    "Подставим $X' = XA$ в формулу обучения модели для исходной матрицы $X$ $(3)$:\n",
    "\n",
    "$$\n",
    "w' = ((XA)^T XA)^{-1} (XA)^T y = (A^T X^T XA)^{-1} A^T X^T y = (A^{-1} (X^T X)^{-1} (A^T)^{-1}) A^T X^T y = \\\\ \n",
    "= A^{-1} (X^T X)^{-1} (A^T)^{-1} A^T X^T y = A^{-1} (X^T X)^{-1} X^T y = A^{-1} w \\tag{6}\n",
    "$$ \n",
    "\n",
    "\n",
    "Подставим получившийся новый вектор весов $w'$, который равен произведению обратной матрицы $A^{-1}$ и исходного вектора весов $w$ в формулу $(5)$:\n",
    "\n",
    "$$\n",
    "a' = X(Aw') = XAA^{-1} w = XEw, \\tag{7}\n",
    "$$\n",
    "\n",
    "где $Е$ - единичная матрица, умножение которой на любую произвольную матрицу, не изменяет ее, т.е. $a' = a$.\n",
    "\n",
    "**Вывод**: при умножении признаков на обратимую матрицу мы получили исходную формулу предсказаний, следовательно, матричные операции не повлияют на предсказания модели."
   ]
  },
  {
   "cell_type": "markdown",
   "metadata": {},
   "source": [
    "## Алгоритм преобразования"
   ]
  },
  {
   "cell_type": "markdown",
   "metadata": {},
   "source": [
    "**Алгоритм**\n",
    "В качестве алгоритма преобразования данных предлагается умножение матрицы признаков на произвольную **обратимую** квадратную матрицу, размер которой соответствует количеству признаков."
   ]
  },
  {
   "cell_type": "markdown",
   "metadata": {},
   "source": [
    "Алгоритм действий:\n",
    "1. подготовить обучающие исходные признаки и целевой признак;\n",
    "2. подготовить матрицу для умножения и проверить ее обратимость;\n",
    "3. подготовить обучающие признаки после умножения.\n",
    "4. обучить модель с помощью алгоритма линейной регрессии для признаков  до умножения на обратимую матрицу;\n",
    "5. обучить модель с помощью алгоритма линейной регрессии для признаков после умножения на обратимую матрицу;\n",
    "6. определить предсказания модели до умножения на обратимую матрицу;\n",
    "7. определить предсказания модели после умножения на обратимую матрицу;\n",
    "8. вывести для каждого случая метрики r2;\n",
    "9. сделать выводы о возможности применения предложенного метода преобразования данных;"
   ]
  },
  {
   "cell_type": "markdown",
   "metadata": {},
   "source": [
    "**Обоснование**\n",
    "Требование обратимости матрицы является необходимым, для того чтобы иметь возможность восстановить исходные данные. Как было доказано в разделе выше (умножение матриц), ожидается, что матричные операции не повлияют на качество предсказания модели. "
   ]
  },
  {
   "cell_type": "markdown",
   "metadata": {},
   "source": [
    "## Проверка алгоритма"
   ]
  },
  {
   "cell_type": "markdown",
   "metadata": {},
   "source": [
    "В данном разделе нам необходимо подготовить:\n",
    "\n",
    " - обучающие исходные признаки и целевой признак,\n",
    " - матрицу для умножения,\n",
    " - обучающие признаки после умножения.\n",
    " \n",
    "После подготовки признаков проведем:\n",
    " - машинное обучение с помощью алгоритма линейной регрессии для признаков как до, так и после умножения,\n",
    " - определим в каждом случае предсказания модели,\n",
    " - для каждого случая выведем метрики r2."
   ]
  },
  {
   "cell_type": "code",
   "execution_count": 13,
   "metadata": {},
   "outputs": [
    {
     "data": {
      "text/plain": [
       "((4847, 4), (4847,))"
      ]
     },
     "execution_count": 13,
     "metadata": {},
     "output_type": "execute_result"
    }
   ],
   "source": [
    "# Cоздадим признаки для исходного состояния:\n",
    "features = data.drop([\"Страховые выплаты\"], axis=1)\n",
    "target = data[\"Страховые выплаты\"]\n",
    "features.shape, target.shape"
   ]
  },
  {
   "cell_type": "code",
   "execution_count": 14,
   "metadata": {},
   "outputs": [
    {
     "data": {
      "text/plain": [
       "array([[10, 62, 93, 10],\n",
       "       [66, 99, 75, 77],\n",
       "       [ 7, 44, 45, 15],\n",
       "       [10, 97, 79, 42]])"
      ]
     },
     "execution_count": 14,
     "metadata": {},
     "output_type": "execute_result"
    }
   ],
   "source": [
    "# Создадим произвольную матрицу\n",
    "matrix = np.random.randint(100,size = (4, 4))\n",
    "matrix"
   ]
  },
  {
   "cell_type": "code",
   "execution_count": 15,
   "metadata": {},
   "outputs": [
    {
     "data": {
      "text/plain": [
       "array([[-0.08817657,  0.00541916,  0.4122732 , -0.13618114],\n",
       "       [-0.1368456 , -0.01664927,  0.53557246, -0.12816993],\n",
       "       [ 0.09429468,  0.00817419, -0.32318768,  0.07798704],\n",
       "       [ 0.1596788 ,  0.02178635, -0.72717699,  0.20555519]])"
      ]
     },
     "execution_count": 15,
     "metadata": {},
     "output_type": "execute_result"
    }
   ],
   "source": [
    "# Проверим существование обратимой ей матрицы\n",
    "matrix_inv = np.linalg.inv(matrix)\n",
    "matrix_inv"
   ]
  },
  {
   "cell_type": "code",
   "execution_count": 28,
   "metadata": {
    "scrolled": true
   },
   "outputs": [
    {
     "data": {
      "text/plain": [
       "array([[-0.65660091, -1.49411438, -0.28552007, -1.28023881,  1.00302164],\n",
       "       [-0.51910638,  0.31519566, -0.18478881, -0.99584833,  1.21593149],\n",
       "       [-1.38744263,  0.90544088, -1.13537081, -0.51455111,  1.49239292],\n",
       "       [-0.25395177,  0.71366122, -0.84871249, -1.25079447, -1.57092601],\n",
       "       [ 1.07049059, -0.06846041, -0.46827579,  2.14649895, -0.43240659]])"
      ]
     },
     "execution_count": 28,
     "metadata": {},
     "output_type": "execute_result"
    }
   ],
   "source": [
    "get_rand_matrix()"
   ]
  },
  {
   "cell_type": "code",
   "execution_count": 25,
   "metadata": {},
   "outputs": [
    {
     "data": {
      "text/html": [
       "<div>\n",
       "<style scoped>\n",
       "    .dataframe tbody tr th:only-of-type {\n",
       "        vertical-align: middle;\n",
       "    }\n",
       "\n",
       "    .dataframe tbody tr th {\n",
       "        vertical-align: top;\n",
       "    }\n",
       "\n",
       "    .dataframe thead th {\n",
       "        text-align: right;\n",
       "    }\n",
       "</style>\n",
       "<table border=\"1\" class=\"dataframe\">\n",
       "  <thead>\n",
       "    <tr style=\"text-align: right;\">\n",
       "      <th></th>\n",
       "      <th>0</th>\n",
       "      <th>1</th>\n",
       "      <th>2</th>\n",
       "      <th>3</th>\n",
       "    </tr>\n",
       "  </thead>\n",
       "  <tbody>\n",
       "    <tr>\n",
       "      <th>0</th>\n",
       "      <td>349926.0</td>\n",
       "      <td>2186618.0</td>\n",
       "      <td>2235247.0</td>\n",
       "      <td>747209.0</td>\n",
       "    </tr>\n",
       "    <tr>\n",
       "      <th>1</th>\n",
       "      <td>269046.0</td>\n",
       "      <td>1676651.0</td>\n",
       "      <td>1713529.0</td>\n",
       "      <td>573584.0</td>\n",
       "    </tr>\n",
       "    <tr>\n",
       "      <th>2</th>\n",
       "      <td>148914.0</td>\n",
       "      <td>926871.0</td>\n",
       "      <td>947175.0</td>\n",
       "      <td>317233.0</td>\n",
       "    </tr>\n",
       "    <tr>\n",
       "      <th>3</th>\n",
       "      <td>293306.0</td>\n",
       "      <td>1837073.0</td>\n",
       "      <td>1878233.0</td>\n",
       "      <td>627201.0</td>\n",
       "    </tr>\n",
       "    <tr>\n",
       "      <th>4</th>\n",
       "      <td>184558.0</td>\n",
       "      <td>1151234.0</td>\n",
       "      <td>1176693.0</td>\n",
       "      <td>393666.0</td>\n",
       "    </tr>\n",
       "    <tr>\n",
       "      <th>...</th>\n",
       "      <td>...</td>\n",
       "      <td>...</td>\n",
       "      <td>...</td>\n",
       "      <td>...</td>\n",
       "    </tr>\n",
       "    <tr>\n",
       "      <th>4995</th>\n",
       "      <td>251768.0</td>\n",
       "      <td>1573766.0</td>\n",
       "      <td>1608758.0</td>\n",
       "      <td>537740.0</td>\n",
       "    </tr>\n",
       "    <tr>\n",
       "      <th>4996</th>\n",
       "      <td>369054.0</td>\n",
       "      <td>2309063.0</td>\n",
       "      <td>2360629.0</td>\n",
       "      <td>788660.0</td>\n",
       "    </tr>\n",
       "    <tr>\n",
       "      <th>4997</th>\n",
       "      <td>238640.0</td>\n",
       "      <td>1493774.0</td>\n",
       "      <td>1527158.0</td>\n",
       "      <td>510124.0</td>\n",
       "    </tr>\n",
       "    <tr>\n",
       "      <th>4998</th>\n",
       "      <td>230392.0</td>\n",
       "      <td>1441331.0</td>\n",
       "      <td>1473480.0</td>\n",
       "      <td>492330.0</td>\n",
       "    </tr>\n",
       "    <tr>\n",
       "      <th>4999</th>\n",
       "      <td>286068.0</td>\n",
       "      <td>1789331.0</td>\n",
       "      <td>1829272.0</td>\n",
       "      <td>611208.0</td>\n",
       "    </tr>\n",
       "  </tbody>\n",
       "</table>\n",
       "<p>4847 rows × 4 columns</p>\n",
       "</div>"
      ],
      "text/plain": [
       "             0          1          2         3\n",
       "0     349926.0  2186618.0  2235247.0  747209.0\n",
       "1     269046.0  1676651.0  1713529.0  573584.0\n",
       "2     148914.0   926871.0   947175.0  317233.0\n",
       "3     293306.0  1837073.0  1878233.0  627201.0\n",
       "4     184558.0  1151234.0  1176693.0  393666.0\n",
       "...        ...        ...        ...       ...\n",
       "4995  251768.0  1573766.0  1608758.0  537740.0\n",
       "4996  369054.0  2309063.0  2360629.0  788660.0\n",
       "4997  238640.0  1493774.0  1527158.0  510124.0\n",
       "4998  230392.0  1441331.0  1473480.0  492330.0\n",
       "4999  286068.0  1789331.0  1829272.0  611208.0\n",
       "\n",
       "[4847 rows x 4 columns]"
      ]
     },
     "execution_count": 25,
     "metadata": {},
     "output_type": "execute_result"
    }
   ],
   "source": [
    "# Создадим признаки после умножения\n",
    "features_matrix = features.dot(matrix)\n",
    "features_matrix"
   ]
  },
  {
   "cell_type": "code",
   "execution_count": 18,
   "metadata": {},
   "outputs": [
    {
     "name": "stdout",
     "output_type": "stream",
     "text": [
      "R2_score исходных данных: 0.4302010044852\n"
     ]
    }
   ],
   "source": [
    "# обучим модель на исходных данных и выведем метрику r2\n",
    "model = LinearRegression(normalize=True).fit(features, target)\n",
    "predictions = model.predict(features)\n",
    "r2_score_value = r2_score(target, predictions)\n",
    "print(f\"R2_score исходных данных: {r2_score_value:.13f}\")"
   ]
  },
  {
   "cell_type": "code",
   "execution_count": 19,
   "metadata": {},
   "outputs": [
    {
     "name": "stdout",
     "output_type": "stream",
     "text": [
      "R2_score преобразованных данных: 0.4302010044852\n"
     ]
    }
   ],
   "source": [
    "# обучим модель на преобоазованных  данных и выведем метрику r2\n",
    "model = LinearRegression(normalize = True).fit(features_matrix, target)\n",
    "predictions = model.predict(features_matrix)\n",
    "r2_score_value = r2_score(target, predictions)\n",
    "print(f\"R2_score преобразованных данных: {r2_score_value:.13f}\")"
   ]
  },
  {
   "cell_type": "markdown",
   "metadata": {},
   "source": [
    "## Выводы"
   ]
  },
  {
   "cell_type": "markdown",
   "metadata": {},
   "source": [
    "В данном проекте был предложен алгоритм преобразования данных с целью защиты персональной информации клиентов страховой компании «Хоть потоп».\n",
    "\n",
    "В работе был использован набор данных, которые находится в файле /datasets/insurance.csv, где пол, возраст и зарплата застрахованного, количество членов его семьи - это **Признаки**, а количество страховых выплат клиенту за последние 5 лет - **Целевой признак**. Данные были загружены и изучены, удалены дубликаты. \n",
    "\n",
    "В качестве алгоритма предложено шифрование данных методом умножения матрицы признаков на произвольную обратимую квадратную матрицу. Приведено теоретическое обоснование данного алгоритма, в основе которого лежит доказанное утверждение что при $X' = XA$, где $X$ - исходная матрица размерности $(n, d)$, а $A$ - обратимая матрица размерности $(d, d)$, прогнозы будут равны $a = a'$. \n",
    "\n",
    "Были обучены модели линейной регрессии на признаках до преобразования и после. \n",
    "\n",
    "Получены метрики $r2$, которые как и ожидалось, равны, следовательно, предложенный алгоритм можно успешно применять для защиты персональных данных."
   ]
  }
 ],
 "metadata": {
  "ExecuteTimeLog": [
   {
    "duration": 1771,
    "start_time": "2023-08-20T11:33:37.635Z"
   },
   {
    "duration": 91,
    "start_time": "2023-08-20T11:35:10.721Z"
   },
   {
    "duration": 29,
    "start_time": "2023-08-20T11:35:41.727Z"
   },
   {
    "duration": 20,
    "start_time": "2023-08-20T11:35:42.482Z"
   },
   {
    "duration": 17,
    "start_time": "2023-08-20T11:36:07.204Z"
   },
   {
    "duration": 5,
    "start_time": "2023-08-20T11:40:18.763Z"
   },
   {
    "duration": 110,
    "start_time": "2023-08-20T11:45:55.512Z"
   },
   {
    "duration": 27,
    "start_time": "2023-08-20T11:46:02.763Z"
   },
   {
    "duration": 10,
    "start_time": "2023-08-20T11:46:56.991Z"
   },
   {
    "duration": 5,
    "start_time": "2023-08-20T11:54:52.586Z"
   },
   {
    "duration": 33,
    "start_time": "2023-08-20T11:54:53.134Z"
   },
   {
    "duration": 14,
    "start_time": "2023-08-20T11:54:54.221Z"
   },
   {
    "duration": 13,
    "start_time": "2023-08-20T11:54:54.744Z"
   },
   {
    "duration": 5,
    "start_time": "2023-08-20T11:54:55.385Z"
   },
   {
    "duration": 32,
    "start_time": "2023-08-20T11:54:56.057Z"
   },
   {
    "duration": 924,
    "start_time": "2023-08-20T11:54:56.593Z"
   },
   {
    "duration": 18,
    "start_time": "2023-08-20T12:01:50.583Z"
   },
   {
    "duration": 11,
    "start_time": "2023-08-20T12:02:09.061Z"
   },
   {
    "duration": 7,
    "start_time": "2023-08-20T12:03:50.215Z"
   },
   {
    "duration": 13,
    "start_time": "2023-08-20T12:04:20.761Z"
   },
   {
    "duration": 13,
    "start_time": "2023-08-20T12:04:30.741Z"
   },
   {
    "duration": 412,
    "start_time": "2023-08-20T12:05:42.251Z"
   },
   {
    "duration": 6,
    "start_time": "2023-08-20T12:11:34.749Z"
   },
   {
    "duration": 15,
    "start_time": "2023-08-20T12:11:48.277Z"
   },
   {
    "duration": 14,
    "start_time": "2023-08-20T12:11:59.629Z"
   },
   {
    "duration": 4,
    "start_time": "2023-08-20T12:12:01.556Z"
   },
   {
    "duration": 24,
    "start_time": "2023-08-20T12:12:03.308Z"
   },
   {
    "duration": 989,
    "start_time": "2023-08-20T12:12:04.796Z"
   },
   {
    "duration": 150,
    "start_time": "2023-08-23T11:00:39.130Z"
   },
   {
    "duration": 11,
    "start_time": "2023-08-23T11:00:39.872Z"
   },
   {
    "duration": 3126,
    "start_time": "2023-08-23T11:00:57.283Z"
   },
   {
    "duration": 236,
    "start_time": "2023-08-23T11:01:00.412Z"
   },
   {
    "duration": 36,
    "start_time": "2023-08-23T11:01:00.661Z"
   },
   {
    "duration": 69,
    "start_time": "2023-08-23T11:01:00.706Z"
   },
   {
    "duration": 53,
    "start_time": "2023-08-23T11:01:00.787Z"
   },
   {
    "duration": 116,
    "start_time": "2023-08-23T11:01:00.842Z"
   },
   {
    "duration": 102,
    "start_time": "2023-08-23T11:01:00.963Z"
   },
   {
    "duration": 1302,
    "start_time": "2023-08-23T11:01:01.069Z"
   },
   {
    "duration": 17,
    "start_time": "2023-08-23T11:01:02.378Z"
   },
   {
    "duration": 40,
    "start_time": "2023-08-23T11:01:02.409Z"
   },
   {
    "duration": 43,
    "start_time": "2023-08-23T11:01:02.456Z"
   },
   {
    "duration": 615,
    "start_time": "2023-08-23T11:01:02.508Z"
   },
   {
    "duration": 19,
    "start_time": "2023-08-23T11:01:06.272Z"
   },
   {
    "duration": 63,
    "start_time": "2023-08-23T11:01:07.534Z"
   },
   {
    "duration": 26,
    "start_time": "2023-08-23T11:01:08.216Z"
   },
   {
    "duration": 31,
    "start_time": "2023-08-23T11:01:08.679Z"
   },
   {
    "duration": 42,
    "start_time": "2023-08-23T11:01:09.069Z"
   },
   {
    "duration": 9,
    "start_time": "2023-08-23T11:01:09.477Z"
   },
   {
    "duration": 33,
    "start_time": "2023-08-23T11:01:09.909Z"
   },
   {
    "duration": 1393,
    "start_time": "2023-08-23T11:01:10.485Z"
   },
   {
    "duration": 20,
    "start_time": "2023-08-23T11:01:41.075Z"
   },
   {
    "duration": 14,
    "start_time": "2023-08-23T11:01:41.691Z"
   },
   {
    "duration": 21,
    "start_time": "2023-08-23T11:01:42.067Z"
   },
   {
    "duration": 673,
    "start_time": "2023-08-23T11:01:42.579Z"
   },
   {
    "duration": 150,
    "start_time": "2023-08-23T11:57:02.598Z"
   },
   {
    "duration": 104,
    "start_time": "2023-08-23T11:59:21.384Z"
   },
   {
    "duration": 7,
    "start_time": "2023-08-23T13:09:58.166Z"
   },
   {
    "duration": 6,
    "start_time": "2023-08-23T13:10:50.903Z"
   },
   {
    "duration": 6,
    "start_time": "2023-08-23T13:13:58.218Z"
   },
   {
    "duration": 12,
    "start_time": "2023-08-23T13:14:30.395Z"
   },
   {
    "duration": 12,
    "start_time": "2023-08-23T13:14:52.965Z"
   },
   {
    "duration": 16,
    "start_time": "2023-08-23T13:14:56.705Z"
   },
   {
    "duration": 4,
    "start_time": "2023-08-23T13:17:13.904Z"
   },
   {
    "duration": 6,
    "start_time": "2023-08-23T13:17:32.818Z"
   },
   {
    "duration": 6,
    "start_time": "2023-08-23T13:17:44.503Z"
   },
   {
    "duration": 17,
    "start_time": "2023-08-23T13:17:47.826Z"
   },
   {
    "duration": 18,
    "start_time": "2023-08-23T13:18:06.593Z"
   },
   {
    "duration": 18,
    "start_time": "2023-08-23T13:18:24.138Z"
   },
   {
    "duration": 15,
    "start_time": "2023-08-23T13:18:49.204Z"
   },
   {
    "duration": 153,
    "start_time": "2023-08-23T13:19:43.605Z"
   },
   {
    "duration": 19,
    "start_time": "2023-08-23T13:20:15.522Z"
   },
   {
    "duration": 43,
    "start_time": "2023-08-23T13:22:47.684Z"
   },
   {
    "duration": 11,
    "start_time": "2023-08-23T13:22:48.100Z"
   },
   {
    "duration": 1828,
    "start_time": "2023-08-23T14:04:15.478Z"
   },
   {
    "duration": 30,
    "start_time": "2023-08-23T14:04:17.308Z"
   },
   {
    "duration": 18,
    "start_time": "2023-08-23T14:04:17.340Z"
   },
   {
    "duration": 27,
    "start_time": "2023-08-23T14:04:17.360Z"
   },
   {
    "duration": 24,
    "start_time": "2023-08-23T14:04:17.390Z"
   },
   {
    "duration": 3,
    "start_time": "2023-08-23T14:04:17.416Z"
   },
   {
    "duration": 27,
    "start_time": "2023-08-23T14:04:17.420Z"
   },
   {
    "duration": 1215,
    "start_time": "2023-08-23T14:04:17.448Z"
   },
   {
    "duration": 10,
    "start_time": "2023-08-23T14:04:18.665Z"
   },
   {
    "duration": 11,
    "start_time": "2023-08-23T14:04:18.677Z"
   },
   {
    "duration": 18,
    "start_time": "2023-08-23T14:04:18.690Z"
   },
   {
    "duration": 485,
    "start_time": "2023-08-23T14:04:18.713Z"
   },
   {
    "duration": 7,
    "start_time": "2023-08-23T14:04:19.199Z"
   },
   {
    "duration": 20,
    "start_time": "2023-08-23T14:04:19.209Z"
   },
   {
    "duration": 30,
    "start_time": "2023-08-23T14:04:19.230Z"
   },
   {
    "duration": 35,
    "start_time": "2023-08-23T14:04:19.262Z"
   },
   {
    "duration": 45,
    "start_time": "2023-08-23T14:04:19.365Z"
   },
   {
    "duration": 169,
    "start_time": "2023-08-23T14:04:19.413Z"
   },
   {
    "duration": 7,
    "start_time": "2023-08-23T14:04:34.497Z"
   },
   {
    "duration": 31,
    "start_time": "2023-08-23T14:04:35.807Z"
   },
   {
    "duration": 15,
    "start_time": "2023-08-23T14:04:36.611Z"
   },
   {
    "duration": 14,
    "start_time": "2023-08-23T14:04:37.207Z"
   },
   {
    "duration": 15,
    "start_time": "2023-08-23T14:04:38.037Z"
   },
   {
    "duration": 6,
    "start_time": "2023-08-23T14:04:38.876Z"
   },
   {
    "duration": 32,
    "start_time": "2023-08-23T14:04:39.434Z"
   },
   {
    "duration": 1282,
    "start_time": "2023-08-23T14:04:39.944Z"
   },
   {
    "duration": 8,
    "start_time": "2023-08-23T14:04:41.228Z"
   },
   {
    "duration": 16,
    "start_time": "2023-08-23T14:04:41.882Z"
   },
   {
    "duration": 19,
    "start_time": "2023-08-23T14:04:42.492Z"
   },
   {
    "duration": 498,
    "start_time": "2023-08-23T14:04:43.421Z"
   },
   {
    "duration": 6,
    "start_time": "2023-08-23T14:04:56.339Z"
   },
   {
    "duration": 7,
    "start_time": "2023-08-23T14:04:56.894Z"
   },
   {
    "duration": 33,
    "start_time": "2023-08-23T14:04:57.377Z"
   },
   {
    "duration": 13,
    "start_time": "2023-08-23T14:04:57.924Z"
   },
   {
    "duration": 29,
    "start_time": "2023-08-23T14:04:58.532Z"
   },
   {
    "duration": 13,
    "start_time": "2023-08-23T14:04:59.089Z"
   },
   {
    "duration": 3763,
    "start_time": "2023-08-23T21:25:41.656Z"
   },
   {
    "duration": 165,
    "start_time": "2023-08-23T21:25:45.425Z"
   },
   {
    "duration": 37,
    "start_time": "2023-08-23T21:25:45.592Z"
   },
   {
    "duration": 22,
    "start_time": "2023-08-23T21:25:45.632Z"
   },
   {
    "duration": 23,
    "start_time": "2023-08-23T21:25:45.657Z"
   },
   {
    "duration": 3,
    "start_time": "2023-08-23T21:25:45.682Z"
   },
   {
    "duration": 33,
    "start_time": "2023-08-23T21:25:45.687Z"
   },
   {
    "duration": 1017,
    "start_time": "2023-08-23T21:25:45.723Z"
   },
   {
    "duration": 14,
    "start_time": "2023-08-23T21:25:46.742Z"
   },
   {
    "duration": 8,
    "start_time": "2023-08-23T21:25:46.758Z"
   },
   {
    "duration": 11,
    "start_time": "2023-08-23T21:25:46.768Z"
   },
   {
    "duration": 484,
    "start_time": "2023-08-23T21:25:46.781Z"
   },
   {
    "duration": 7,
    "start_time": "2023-08-23T21:25:47.267Z"
   },
   {
    "duration": 7,
    "start_time": "2023-08-23T21:25:47.276Z"
   },
   {
    "duration": 51,
    "start_time": "2023-08-23T21:25:47.284Z"
   },
   {
    "duration": 80,
    "start_time": "2023-08-23T21:25:47.336Z"
   },
   {
    "duration": 122,
    "start_time": "2023-08-23T21:25:47.420Z"
   },
   {
    "duration": 65,
    "start_time": "2023-08-23T21:25:47.612Z"
   },
   {
    "duration": 1559,
    "start_time": "2023-08-29T19:19:19.313Z"
   },
   {
    "duration": 85,
    "start_time": "2023-08-29T19:19:20.874Z"
   },
   {
    "duration": 12,
    "start_time": "2023-08-29T19:19:20.960Z"
   },
   {
    "duration": 38,
    "start_time": "2023-08-29T19:19:20.974Z"
   },
   {
    "duration": 38,
    "start_time": "2023-08-29T19:19:21.014Z"
   },
   {
    "duration": 26,
    "start_time": "2023-08-29T19:19:21.054Z"
   },
   {
    "duration": 38,
    "start_time": "2023-08-29T19:19:21.081Z"
   },
   {
    "duration": 802,
    "start_time": "2023-08-29T19:19:21.121Z"
   },
   {
    "duration": 18,
    "start_time": "2023-08-29T19:19:21.924Z"
   },
   {
    "duration": 19,
    "start_time": "2023-08-29T19:19:21.946Z"
   },
   {
    "duration": 17,
    "start_time": "2023-08-29T19:19:21.967Z"
   },
   {
    "duration": 388,
    "start_time": "2023-08-29T19:19:21.986Z"
   },
   {
    "duration": 5,
    "start_time": "2023-08-29T19:19:22.375Z"
   },
   {
    "duration": 16,
    "start_time": "2023-08-29T19:19:22.381Z"
   },
   {
    "duration": 29,
    "start_time": "2023-08-29T19:19:22.398Z"
   },
   {
    "duration": 33,
    "start_time": "2023-08-29T19:19:22.429Z"
   },
   {
    "duration": 187,
    "start_time": "2023-08-29T19:19:22.464Z"
   },
   {
    "duration": 13,
    "start_time": "2023-08-29T19:19:22.743Z"
   },
   {
    "duration": 3,
    "start_time": "2023-08-29T19:19:36.515Z"
   },
   {
    "duration": 28,
    "start_time": "2023-08-29T19:19:38.263Z"
   },
   {
    "duration": 8,
    "start_time": "2023-08-29T19:19:38.801Z"
   },
   {
    "duration": 12,
    "start_time": "2023-08-29T19:19:39.321Z"
   },
   {
    "duration": 11,
    "start_time": "2023-08-29T19:19:39.848Z"
   },
   {
    "duration": 4,
    "start_time": "2023-08-29T19:19:40.348Z"
   },
   {
    "duration": 21,
    "start_time": "2023-08-29T19:19:40.777Z"
   },
   {
    "duration": 869,
    "start_time": "2023-08-29T19:19:41.187Z"
   },
   {
    "duration": 8,
    "start_time": "2023-08-29T19:19:42.296Z"
   },
   {
    "duration": 6,
    "start_time": "2023-08-29T19:19:42.793Z"
   },
   {
    "duration": 8,
    "start_time": "2023-08-29T19:19:43.264Z"
   },
   {
    "duration": 358,
    "start_time": "2023-08-29T19:19:43.921Z"
   },
   {
    "duration": 6,
    "start_time": "2023-08-29T19:19:55.089Z"
   },
   {
    "duration": 4,
    "start_time": "2023-08-29T19:19:55.601Z"
   },
   {
    "duration": 5,
    "start_time": "2023-08-29T19:19:56.112Z"
   },
   {
    "duration": 11,
    "start_time": "2023-08-29T19:19:58.409Z"
   },
   {
    "duration": 17,
    "start_time": "2023-08-29T19:19:59.025Z"
   },
   {
    "duration": 9,
    "start_time": "2023-08-29T19:20:00.947Z"
   },
   {
    "duration": 1480,
    "start_time": "2024-10-15T14:54:52.644Z"
   },
   {
    "duration": 78,
    "start_time": "2024-10-15T14:54:54.126Z"
   },
   {
    "duration": 14,
    "start_time": "2024-10-15T14:54:54.208Z"
   },
   {
    "duration": 34,
    "start_time": "2024-10-15T14:54:54.223Z"
   },
   {
    "duration": 38,
    "start_time": "2024-10-15T14:54:54.259Z"
   },
   {
    "duration": 18,
    "start_time": "2024-10-15T14:54:54.298Z"
   },
   {
    "duration": 54,
    "start_time": "2024-10-15T14:54:54.318Z"
   },
   {
    "duration": 920,
    "start_time": "2024-10-15T14:54:54.373Z"
   },
   {
    "duration": 10,
    "start_time": "2024-10-15T14:54:55.295Z"
   },
   {
    "duration": 28,
    "start_time": "2024-10-15T14:54:55.306Z"
   },
   {
    "duration": 20,
    "start_time": "2024-10-15T14:54:55.336Z"
   },
   {
    "duration": 454,
    "start_time": "2024-10-15T14:54:55.358Z"
   },
   {
    "duration": 8,
    "start_time": "2024-10-15T14:54:55.813Z"
   },
   {
    "duration": 18,
    "start_time": "2024-10-15T14:54:55.823Z"
   },
   {
    "duration": 26,
    "start_time": "2024-10-15T14:54:55.843Z"
   },
   {
    "duration": 11,
    "start_time": "2024-10-15T14:54:55.870Z"
   },
   {
    "duration": 17,
    "start_time": "2024-10-15T14:54:55.921Z"
   },
   {
    "duration": 90,
    "start_time": "2024-10-15T14:54:55.940Z"
   },
   {
    "duration": 199,
    "start_time": "2024-10-15T14:54:56.032Z"
   },
   {
    "duration": 110,
    "start_time": "2024-10-15T14:55:46.895Z"
   },
   {
    "duration": 4,
    "start_time": "2024-10-15T14:56:31.464Z"
   },
   {
    "duration": 4,
    "start_time": "2024-10-15T14:56:53.088Z"
   },
   {
    "duration": 16,
    "start_time": "2024-10-15T14:56:55.056Z"
   },
   {
    "duration": 4,
    "start_time": "2024-10-15T14:56:59.312Z"
   },
   {
    "duration": 13,
    "start_time": "2024-10-15T14:57:10.776Z"
   },
   {
    "duration": 5,
    "start_time": "2024-10-15T14:57:14.416Z"
   },
   {
    "duration": 4,
    "start_time": "2024-10-15T14:57:18.376Z"
   },
   {
    "duration": 5,
    "start_time": "2024-10-15T14:58:04.424Z"
   }
  ],
  "kernelspec": {
   "display_name": "Python 3 (ipykernel)",
   "language": "python",
   "name": "python3"
  },
  "language_info": {
   "codemirror_mode": {
    "name": "ipython",
    "version": 3
   },
   "file_extension": ".py",
   "mimetype": "text/x-python",
   "name": "python",
   "nbconvert_exporter": "python",
   "pygments_lexer": "ipython3",
   "version": "3.9.5"
  },
  "toc": {
   "base_numbering": 1,
   "nav_menu": {},
   "number_sections": true,
   "sideBar": true,
   "skip_h1_title": true,
   "title_cell": "Содержание",
   "title_sidebar": "Contents",
   "toc_cell": true,
   "toc_position": {
    "height": "calc(100% - 180px)",
    "left": "10px",
    "top": "150px",
    "width": "165px"
   },
   "toc_section_display": true,
   "toc_window_display": true
  }
 },
 "nbformat": 4,
 "nbformat_minor": 2
}
