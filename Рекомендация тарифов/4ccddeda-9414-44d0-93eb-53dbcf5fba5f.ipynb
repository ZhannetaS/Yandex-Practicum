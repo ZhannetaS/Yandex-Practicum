{
 "cells": [
  {
   "cell_type": "markdown",
   "metadata": {},
   "source": [
    "<div class=\"alert alert-info\">\n",
    "<font size=\"5\"><b>Комментарий ревьюера</b></font>\n",
    "\n",
    "Привет Zhanneta! Меня зовут Марат, и я буду твоим ревьюером. Спешу сообщить что все ключевые этапы в работе выполнены,  с задачей тебе удалось справиться. По поводу обращения - в IT сфере принято общаться на «ты» :) Но, если привычней на «вы», дай знать. Как ревьюера моя задача помочь тебе в развитии, дав хорошие советы. Я внимательно посмотрю твой код, ознакомлюсь с твоими выводами и оставлю комментарии. Где то могу предложить небольшие исправление в коде, но ненавязчиво. Где потребуются уточнения, я оставлю много наводящих вопросов. Они помогут тебя с поиском верного решения.\n",
    "\n",
    "Все мои комментарии размечены по цветам, для лучшего восприятия. \n",
    "    \n",
    "<div class=\"alert alert-success\">Зеленым цветом и словом «Успех» отмечены особо удачные и элегантные решения, которыми ты можешь гордиться. </div>\n",
    "        \n",
    "<div class=\"alert alert-warning\">Желтым и значком словом «Совет», помечены решения у которых есть альтернативные решения, более оптимальные. Ты можешь найти их сразу и доработать проект, или отложить это на потом, для будущих проектах. Проект будет принят и без их доработки. </div>\n",
    "        \n",
    "<div class=\"alert alert-danger\"> Красным цветом и значком словом «Ошибка» помечу твои решения, на которые стоит обратить внимание прежде всего. После их доработки проект будет принят. </div>\n",
    "        \n",
    "Залог успеха - работа сообща, взаимное уважение и работа в диалоге. Поэтому, помечай свои ответные комментарии на мои реплики заметным цветом или курсивом, так мне будет легче их отслеживать. Пожалуйста, не изменяй и не удаляй мои комментарии. Все это поможет выполнить повторную проверку быстрей.\n",
    "\n",
    "</div>"
   ]
  },
  {
   "cell_type": "markdown",
   "metadata": {},
   "source": [
    "<font color='pink'><b>Комментарий студента: Марат, рада знакомству! Пожалуйста, обращайся ко мне на ты ) Очень много красного увидела сразу, будем исправлять! Спасибо за проделанную работу! </b></font><br>"
   ]
  },
  {
   "cell_type": "markdown",
   "metadata": {},
   "source": [
    "<div class=\"alert alert-success\">\n",
    "<font size=\"5\"><b>Комментарий ревьюераV2</b></font>\n",
    "\n",
    "\n",
    "\n",
    "Успех 👍:\n",
    "\n",
    "\n",
    "\n",
    "Привет Zhanneta! Это красное легко исправляется )\n",
    "\n",
    "\n",
    "\n",
    "\n",
    "</div>\n"
   ]
  },
  {
   "cell_type": "markdown",
   "metadata": {},
   "source": [
    "# Рекомендация тарифов"
   ]
  },
  {
   "cell_type": "markdown",
   "metadata": {},
   "source": [
    "# Описание проекта\n",
    "\n",
    "Оператор мобильной связи «Мегалайн» выяснил: многие клиенты пользуются архивными тарифами. Они хотят построить систему, способную проанализировать поведение клиентов и предложить пользователям новый тариф: «Смарт» или «Ультра».В распоряжении данные о поведении клиентов, которые уже перешли на эти тарифы (из проекта курса «Статистический анализ данных»). \n",
    "\n",
    "# Цель\n",
    "\n",
    "Построить модель для задачи классификации, которая выберет подходящий тариф. \n",
    "\n",
    "# Задачи \n",
    "\n",
    "1. Построить модель с максимально большим значением *accuracy*. \n",
    "2. Довести долю правильных ответов по крайней мере до 0.75. \n",
    "3. Проверить *accuracy* на тестовой выборке самостоятельно."
   ]
  },
  {
   "cell_type": "markdown",
   "metadata": {},
   "source": [
    "<div class=\"alert alert-success\">\n",
    "<font size=\"5\"><b>Комментарий ревьюера</b></font>\n",
    "\n",
    "Успех:\n",
    "\n",
    "\n",
    "Вступление в работу очень важно, так человек, который смотрит твой проект (и на работе в том числе) будет сразу введен в курс дела.\n",
    "\n",
    "\n",
    "\n",
    "\n",
    "\n",
    "</div>"
   ]
  },
  {
   "cell_type": "markdown",
   "metadata": {},
   "source": [
    "<font color='pink'><b>Комментарий студента: Many thanks 🙏 </b></font><br>"
   ]
  },
  {
   "cell_type": "markdown",
   "metadata": {},
   "source": [
    "## Откройте и изучите файл"
   ]
  },
  {
   "cell_type": "code",
   "execution_count": 1,
   "metadata": {},
   "outputs": [],
   "source": [
    "import pandas as pd\n",
    "from sklearn.tree import DecisionTreeClassifier \n",
    "from sklearn.ensemble import RandomForestClassifier \n",
    "from sklearn.linear_model import LogisticRegression\n",
    "from sklearn.model_selection import train_test_split \n",
    "from sklearn.metrics import accuracy_score \n",
    "from sklearn.dummy import DummyClassifier\n",
    "import matplotlib.pyplot as plt"
   ]
  },
  {
   "cell_type": "markdown",
   "metadata": {},
   "source": [
    "<div class=\"alert alert-success\">\n",
    "<font size=\"5\"><b>Комментарий ревьюера</b></font>\n",
    "\n",
    "Успех:\n",
    "\n",
    "Собираем все импорты в верхней части, чтобы легче было ориентироваться и добавлять новые по необходимости. \n",
    "\n",
    "\n",
    "<div class=\"alert alert-warning\">\n",
    "\n",
    "Совет:     \n",
    "    \n",
    "    \n",
    "\n",
    "\n",
    "- кстати есть рекомендации PEP-8 при написании кода, в том числе и для импортов. Если интересно можешь почитать [тут](https://pythonworld.ru/osnovy/pep-8-rukovodstvo-po-napisaniyu-koda-na-python.html), в будущем пригодится )  \n"
   ]
  },
  {
   "cell_type": "markdown",
   "metadata": {},
   "source": [
    "<font color='pink'><b>Комментарий студента: Many thanks 🙏 </b></font><br>"
   ]
  },
  {
   "cell_type": "code",
   "execution_count": 2,
   "metadata": {},
   "outputs": [
    {
     "name": "stdout",
     "output_type": "stream",
     "text": [
      "<class 'pandas.core.frame.DataFrame'>\n",
      "RangeIndex: 3214 entries, 0 to 3213\n",
      "Data columns (total 5 columns):\n",
      " #   Column    Non-Null Count  Dtype  \n",
      "---  ------    --------------  -----  \n",
      " 0   calls     3214 non-null   float64\n",
      " 1   minutes   3214 non-null   float64\n",
      " 2   messages  3214 non-null   float64\n",
      " 3   mb_used   3214 non-null   float64\n",
      " 4   is_ultra  3214 non-null   int64  \n",
      "dtypes: float64(4), int64(1)\n",
      "memory usage: 125.7 KB\n"
     ]
    }
   ],
   "source": [
    "df = pd.read_csv('/datasets/users_behavior.csv')\n",
    "df.info()"
   ]
  },
  {
   "cell_type": "code",
   "execution_count": 3,
   "metadata": {},
   "outputs": [
    {
     "data": {
      "text/html": [
       "<div>\n",
       "<style scoped>\n",
       "    .dataframe tbody tr th:only-of-type {\n",
       "        vertical-align: middle;\n",
       "    }\n",
       "\n",
       "    .dataframe tbody tr th {\n",
       "        vertical-align: top;\n",
       "    }\n",
       "\n",
       "    .dataframe thead th {\n",
       "        text-align: right;\n",
       "    }\n",
       "</style>\n",
       "<table border=\"1\" class=\"dataframe\">\n",
       "  <thead>\n",
       "    <tr style=\"text-align: right;\">\n",
       "      <th></th>\n",
       "      <th>calls</th>\n",
       "      <th>minutes</th>\n",
       "      <th>messages</th>\n",
       "      <th>mb_used</th>\n",
       "      <th>is_ultra</th>\n",
       "    </tr>\n",
       "  </thead>\n",
       "  <tbody>\n",
       "    <tr>\n",
       "      <th>0</th>\n",
       "      <td>40.0</td>\n",
       "      <td>311.90</td>\n",
       "      <td>83.0</td>\n",
       "      <td>19915.42</td>\n",
       "      <td>0</td>\n",
       "    </tr>\n",
       "    <tr>\n",
       "      <th>1</th>\n",
       "      <td>85.0</td>\n",
       "      <td>516.75</td>\n",
       "      <td>56.0</td>\n",
       "      <td>22696.96</td>\n",
       "      <td>0</td>\n",
       "    </tr>\n",
       "    <tr>\n",
       "      <th>2</th>\n",
       "      <td>77.0</td>\n",
       "      <td>467.66</td>\n",
       "      <td>86.0</td>\n",
       "      <td>21060.45</td>\n",
       "      <td>0</td>\n",
       "    </tr>\n",
       "    <tr>\n",
       "      <th>3</th>\n",
       "      <td>106.0</td>\n",
       "      <td>745.53</td>\n",
       "      <td>81.0</td>\n",
       "      <td>8437.39</td>\n",
       "      <td>1</td>\n",
       "    </tr>\n",
       "    <tr>\n",
       "      <th>4</th>\n",
       "      <td>66.0</td>\n",
       "      <td>418.74</td>\n",
       "      <td>1.0</td>\n",
       "      <td>14502.75</td>\n",
       "      <td>0</td>\n",
       "    </tr>\n",
       "    <tr>\n",
       "      <th>5</th>\n",
       "      <td>58.0</td>\n",
       "      <td>344.56</td>\n",
       "      <td>21.0</td>\n",
       "      <td>15823.37</td>\n",
       "      <td>0</td>\n",
       "    </tr>\n",
       "    <tr>\n",
       "      <th>6</th>\n",
       "      <td>57.0</td>\n",
       "      <td>431.64</td>\n",
       "      <td>20.0</td>\n",
       "      <td>3738.90</td>\n",
       "      <td>1</td>\n",
       "    </tr>\n",
       "    <tr>\n",
       "      <th>7</th>\n",
       "      <td>15.0</td>\n",
       "      <td>132.40</td>\n",
       "      <td>6.0</td>\n",
       "      <td>21911.60</td>\n",
       "      <td>0</td>\n",
       "    </tr>\n",
       "    <tr>\n",
       "      <th>8</th>\n",
       "      <td>7.0</td>\n",
       "      <td>43.39</td>\n",
       "      <td>3.0</td>\n",
       "      <td>2538.67</td>\n",
       "      <td>1</td>\n",
       "    </tr>\n",
       "    <tr>\n",
       "      <th>9</th>\n",
       "      <td>90.0</td>\n",
       "      <td>665.41</td>\n",
       "      <td>38.0</td>\n",
       "      <td>17358.61</td>\n",
       "      <td>0</td>\n",
       "    </tr>\n",
       "  </tbody>\n",
       "</table>\n",
       "</div>"
      ],
      "text/plain": [
       "   calls  minutes  messages   mb_used  is_ultra\n",
       "0   40.0   311.90      83.0  19915.42         0\n",
       "1   85.0   516.75      56.0  22696.96         0\n",
       "2   77.0   467.66      86.0  21060.45         0\n",
       "3  106.0   745.53      81.0   8437.39         1\n",
       "4   66.0   418.74       1.0  14502.75         0\n",
       "5   58.0   344.56      21.0  15823.37         0\n",
       "6   57.0   431.64      20.0   3738.90         1\n",
       "7   15.0   132.40       6.0  21911.60         0\n",
       "8    7.0    43.39       3.0   2538.67         1\n",
       "9   90.0   665.41      38.0  17358.61         0"
      ]
     },
     "execution_count": 3,
     "metadata": {},
     "output_type": "execute_result"
    }
   ],
   "source": [
    "df.head(10)"
   ]
  },
  {
   "cell_type": "markdown",
   "metadata": {},
   "source": [
    "<div class=\"alert alert-success\">\n",
    "<font size=\"5\"><b>Комментарий ревьюера</b></font>\n",
    "\n",
    "Успех:\n",
    "\n",
    "👍 Данные изучены.\n",
    "\n",
    "\n",
    "\n",
    "<div class=\"alert alert-warning\">\n",
    "\n",
    "\n",
    "\n",
    "Совет: \n",
    "\n",
    "\n",
    "- .info (дает тебе информацию о пропусках и типах данных), а .describe (медианы, квантили, max, min итд) это такой джентльменский набор при первичной разведке данных (EDA).  \n",
    "\n",
    "\n",
    "\n",
    "- Можно еще отдельно проверить датасет на сбалансированность классов в таргете. Это помогло бы решить бонусное задание сразу (Только не надо балансировать данные, это тема следующего проекта).\n",
    "\n",
    "\n",
    "\n",
    "\n",
    "- Можно посмотреть корреляцию признаков. Знаешь что такое мультиколлинеарность, какие два типа проблем возникает, для каких моделей и какие варианты решения?\n",
    "\n",
    "\n",
    "\n",
    "\n",
    "</div>\n"
   ]
  },
  {
   "cell_type": "markdown",
   "metadata": {},
   "source": [
    "<font color='pink'><b>Комментарий студента: Спасибо за совет! \n",
    "   боюсь, что с мультиколинеарностью в питоне еще не сталкивалась, но интерент говорит, что это проблема 😁\n",
    "    и она возникает, когда две или более переменных в модели сильно связаны друг с другом, что делает их взаимозаменяемыми в предсказании зависимой переменной....🤪 </b></font><br>"
   ]
  },
  {
   "cell_type": "markdown",
   "metadata": {},
   "source": [
    "\n",
    "\n",
    "<div class=\"alert alert-warning\">\n",
    "<font size=\"5\"><b>Комментарий ревьюераV2</b></font>\n",
    "\n",
    "\n",
    "Совет 🤔:\n",
    "\n",
    "\n",
    "\n",
    "\n",
    "\n",
    "Действительно мультиколлинеарность вызывает проблемы. Если своими словами то Мультиколлинеарность - это высокая корреляция между признаками (у нас это calls-minutes) \n",
    "\n",
    "\n",
    "    \n",
    "От неё действительно можно избавиться но не всё так страшно,\n",
    "\n",
    "- Первый момент: мультиколлинеарность проблема линейных моделей - могут переобучаться.... теоретически. Но в логистической, и в линейной регрессиях реализована регуляризация, которая решает проблему мультиколлинеарности признаков. \"Деревянные\" модели (RF, DT) устойчивы к мультиколлинеарности, а кластеризация тоже почти не зависит от линейных зависимостей. Получается, избавляться от мультиколлинеарности чтобы не переобучаться не обязательно )) \n",
    "    \n",
    "    \n",
    "- Второй момент: интерпретируемость линейной модели (мы по коеффициентам судим как признаки влияют на таргет), тут  мультиколлинеарность надо убирать.\n",
    "\n",
    "\n",
    "Так что получается что в нашем случае убирать мультиколлинеарность имеет смысл только если мы захотим посмотреть как конкретно признаки влияют на Таргет\n",
    "\n",
    "   \n",
    "И да, один их способов убрать  мультиколлинеарность это убрать один признак из каждой пары высокореллированных признаков.    \n"
   ]
  },
  {
   "cell_type": "markdown",
   "metadata": {},
   "source": [
    "## Разбейте данные на выборки"
   ]
  },
  {
   "cell_type": "markdown",
   "metadata": {},
   "source": [
    "В нашей задаче целевым признаком, который нам надо предсказать является столбец 'is_ultra'. В наборе данных о клиентах, значений в этом столбце всего два, каким тарифом пользовался в течение месяца, - «Ультра» — 1, «Смарт» — 0, поэтому нам предстоит решить задачу классификации. Сохраним обучающие признаки в переменной features, целевой признак в переменной target и объявим их:"
   ]
  },
  {
   "cell_type": "code",
   "execution_count": 4,
   "metadata": {},
   "outputs": [],
   "source": [
    "features = df.drop(['is_ultra'], axis=1)"
   ]
  },
  {
   "cell_type": "code",
   "execution_count": 5,
   "metadata": {},
   "outputs": [],
   "source": [
    "target = df['is_ultra']"
   ]
  },
  {
   "cell_type": "markdown",
   "metadata": {},
   "source": [
    "Разделим весь набор данных один раз для выделения обучающей выборки - 70% для обучения и временно назначаем остаток для тестирования. Затем еще раз, чтобы разбить оставшиеся данные поровну на датасеты для тестирования и валидации. Для пропорциональности классов при разделении на обучающий и проверяющий датасеты будем использовать параметр stratify функции train_test_split. "
   ]
  },
  {
   "cell_type": "code",
   "execution_count": 6,
   "metadata": {},
   "outputs": [],
   "source": [
    "features_train, features_test, target_train, target_test = train_test_split(\n",
    "    features, target, train_size=0.7, random_state=12345, stratify=target)"
   ]
  },
  {
   "cell_type": "code",
   "execution_count": 7,
   "metadata": {},
   "outputs": [],
   "source": [
    "features_test, features_valid, target_test, target_valid = train_test_split(\n",
    "    features_test, target_test, train_size=0.5, random_state=12345, stratify=target_test)"
   ]
  },
  {
   "cell_type": "markdown",
   "metadata": {},
   "source": [
    "<font color='pink'><b>Комментарий студента: ☝️ выше передела. Хотелось бы надеяться, что правильно 🤞  </b></font><br>"
   ]
  },
  {
   "cell_type": "markdown",
   "metadata": {},
   "source": [
    "<div class=\"alert alert-success\">\n",
    "<font size=\"5\"><b>Комментарий ревьюераV2</b></font>\n",
    "\n",
    "\n",
    "\n",
    "Успех 👍:\n",
    "\n",
    "\n",
    "\n",
    "👍\n",
    "\n",
    "\n",
    "\n",
    "\n",
    "</div>\n"
   ]
  },
  {
   "cell_type": "markdown",
   "metadata": {},
   "source": [
    "<div class=\"alert alert-danger\">\n",
    "<font size=\"5\"><b>Комментарий ревьюера</b></font>\n",
    "\n",
    "Ошибка:\n",
    "\n",
    "У нас выборки должны быть независимыми, то есть данные в них не должны пересекаться\n",
    "\n",
    "И пропорции не те которые заявлены    \n",
    "    \n",
    "<div class=\"alert alert-warning\">\n",
    "\n",
    "\n",
    "\n",
    "Совет: \n",
    "\n",
    "\n",
    "- Обрати внимание на аргумент stratify, он позволит сохранить изначальное распределение таргетов во всех новых датасетах.  Существующий дисбаланс никуда не денется, но в каждом датасете он будет одинаковым. [Почитать](https://pythonru.com/baza-znanij/sklearn-train-test-split) можно тут\n",
    "\n",
    "\n",
    "- После разбиения лучше перестраховаться и использовать .shape, для контроля за корректностью разбиения\n",
    "\n",
    "\n",
    "</div>\n",
    "\n",
    "\n",
    "\n"
   ]
  },
  {
   "cell_type": "code",
   "execution_count": 8,
   "metadata": {},
   "outputs": [
    {
     "data": {
      "text/plain": [
       "(2249, 4)"
      ]
     },
     "metadata": {},
     "output_type": "display_data"
    },
    {
     "data": {
      "text/plain": [
       "(2249,)"
      ]
     },
     "metadata": {},
     "output_type": "display_data"
    },
    {
     "data": {
      "text/plain": [
       "(482, 4)"
      ]
     },
     "metadata": {},
     "output_type": "display_data"
    },
    {
     "data": {
      "text/plain": [
       "(482,)"
      ]
     },
     "metadata": {},
     "output_type": "display_data"
    },
    {
     "data": {
      "text/plain": [
       "(483, 4)"
      ]
     },
     "metadata": {},
     "output_type": "display_data"
    },
    {
     "data": {
      "text/plain": [
       "(483,)"
      ]
     },
     "metadata": {},
     "output_type": "display_data"
    }
   ],
   "source": [
    "display(\n",
    "    features_train.shape, \n",
    "    target_train.shape, \n",
    "    features_test.shape, \n",
    "    target_test.shape,\n",
    "    features_valid.shape, \n",
    "    target_valid.shape)"
   ]
  },
  {
   "cell_type": "markdown",
   "metadata": {},
   "source": [
    "## Исследуйте модели"
   ]
  },
  {
   "cell_type": "markdown",
   "metadata": {},
   "source": [
    "Для задач классификации рассмотрим 3 модели и выберем модель с максимально большим значением accuracy:"
   ]
  },
  {
   "cell_type": "code",
   "execution_count": 9,
   "metadata": {},
   "outputs": [
    {
     "name": "stdout",
     "output_type": "stream",
     "text": [
      "Accuracy\n",
      "Обучающая выборка: 1.0\n",
      "Валидационная выборка: 0.7391304347826086\n"
     ]
    }
   ],
   "source": [
    "# Дерево решений:\n",
    "\n",
    "model = DecisionTreeClassifier(random_state = 12345)\n",
    "model.fit(features_train, target_train);\n",
    "train_predictions = model.predict(features_train)\n",
    "valid_predictions = model.predict(features_valid)\n",
    "accuracy = accuracy_score(target_train, train_predictions) \n",
    "accuracy_valid = accuracy_score(target_valid, valid_predictions) \n",
    "print(\"Accuracy\")\n",
    "print(\"Обучающая выборка:\", accuracy) \n",
    "print(\"Валидационная выборка:\", accuracy_valid)  "
   ]
  },
  {
   "cell_type": "markdown",
   "metadata": {},
   "source": [
    "<div class=\"alert alert-danger\">\n",
    "<font size=\"5\"><b>Комментарий ревьюера</b></font>\n",
    "\n",
    "\n",
    "\n",
    "Ошибка ❌:\n",
    "\n",
    "\n",
    "    \n",
    "Тут как-то нелогично    \n",
    "    \n",
    "    test_predictions = model.predict(features_test)\n",
    "    accuracy_valid = accuracy_score(target_valid, test_predictions)\n",
    "\n",
    "</div>"
   ]
  },
  {
   "cell_type": "markdown",
   "metadata": {},
   "source": [
    "<font color='pink'><b>Комментарий студента: Упс! Вот тут очень интересно ) это систематическая ошибка - я ее допустила при решении задачи в тренажере и он ее принял,а я не обратила внимания когда списывала сама у себя при выполнении этого проекта 🤦‍♀️ </b></font><br>"
   ]
  },
  {
   "cell_type": "markdown",
   "metadata": {},
   "source": [
    "<div class=\"alert alert-warning\">\n",
    "<font size=\"5\"><b>Комментарий ревьюераV2</b></font>\n",
    "\n",
    "\n",
    "\n",
    "Совет 🤔:\n",
    "\n",
    "\n",
    "\n",
    "Мы можем посчитать accuracy двумя способами, видимо ты их путала, делай гибрид \n"
   ]
  },
  {
   "cell_type": "markdown",
   "metadata": {},
   "source": [
    "На обучающей выборке качество модели лучше, мы столкнулись с проблемой переобучения. Чтобы найти баланс между переобучением и недообучением поэкспериментируем с глубиной дерева. Выберем диапазон для глубины от 1 до 10 и проверим при какой глубине дерева точность наибольшая, выведем эти значения."
   ]
  },
  {
   "cell_type": "code",
   "execution_count": 10,
   "metadata": {},
   "outputs": [
    {
     "name": "stdout",
     "output_type": "stream",
     "text": [
      "Accuracy лучшей модели: 0.7991718426501035 при глубине дерева: 7\n"
     ]
    }
   ],
   "source": [
    "best_model = None\n",
    "best_result = 0\n",
    "for depth in range(1, 11):\n",
    "    model = DecisionTreeClassifier(random_state=12345, max_depth = depth) \n",
    "    model.fit(features_train, target_train) \n",
    "    predictions = model.predict(features_valid) \n",
    "    result = accuracy_score(target_valid, predictions) \n",
    "    if result > best_result:\n",
    "        best_model = model\n",
    "        best_result = result\n",
    "        max_depth = depth\n",
    "        \n",
    "print(\"Accuracy лучшей модели:\", best_result, 'при глубине дерева:', max_depth)"
   ]
  },
  {
   "cell_type": "markdown",
   "metadata": {},
   "source": [
    "<div class=\"alert alert-success\">\n",
    "<font size=\"5\"><b>Комментарий ревьюера</b></font>\n",
    "\n",
    "Успех:\n",
    " \n",
    "Работа выполнена в соответствии с критериями: \n",
    "\n",
    "\n",
    "\n",
    " - модель обучена на обучающем наборе\n",
    " - получена оценка качества на валидационном наборе\n",
    " - перебор гиперпараметров осуществляется в цикле\n",
    "\n",
    "\n",
    "\n",
    "\n",
    "\n",
    "<div class=\"alert alert-warning\">\n",
    "\n",
    "\n",
    "Совет: \n",
    "\n",
    "\n",
    "\n",
    "- Ты тут и ниже лучшую модель записываешь под тем же названием  - best_model, поэтому в следующем цикле она перезапишется Не лучше ли использовать    разные названия допустим best_model_dt и best_model_rf, иначе зачем они вообще нужны? \n",
    "\n",
    "\n",
    "\n",
    "\n",
    "\n",
    "\n",
    "- Можно добавить график, хорошо оформленный график украсит проект. Тут на графике можно посмотреть как при изменении max_depth меняется точность на train и validation датасете (для этого собираем наши метрики на валидации и train в списки, а затем по ним обычный plt.plot()) Такой способ используют чтобы лучше отследить переобучение, но для этого стоит взять пернебор по max_depth поглубже\n",
    "\n",
    "\n",
    "- tree_plot можно построить, с max_depth равной 3 или 4 (глубже уже будет громоздко) - глянуть как DT сплиты делает, будет понимание как модель принимает решения: какие признаки  использует, на каких значениях делает разбиение вправо - влево \n",
    "\n",
    "\n",
    "\n",
    "\n",
    "</div>\n",
    "\n"
   ]
  },
  {
   "cell_type": "markdown",
   "metadata": {},
   "source": [
    "<font color='pink'><b>Комментарий студента: 👇 добавила график, в очередной раз хотелось бы надеяться, что правильно 🤞  </b></font><br>"
   ]
  },
  {
   "cell_type": "markdown",
   "metadata": {},
   "source": [
    "<div class=\"alert alert-success\">\n",
    "<font size=\"5\"><b>Комментарий ревьюераV2</b></font>\n",
    "\n",
    "\n",
    "\n",
    "Успех 👍:\n",
    "\n",
    "\n",
    "\n",
    "👍\n",
    "\n",
    "\n",
    "\n",
    "\n",
    "Кстати мы на этом графике видим процесс переобучения. Если взять пребор глубины побольше, то это будет ещё более очевидно"
   ]
  },
  {
   "cell_type": "code",
   "execution_count": 11,
   "metadata": {},
   "outputs": [
    {
     "data": {
      "image/png": "[encoded data removed]",
      "text/plain": [
       "<Figure size 432x288 with 1 Axes>"
      ]
     },
     "metadata": {
      "needs_background": "light"
     },
     "output_type": "display_data"
    }
   ],
   "source": [
    "train_scores = []\n",
    "valid_scores = []\n",
    "\n",
    "for depth in range(1, 11):\n",
    "    model = DecisionTreeClassifier(random_state=12345, max_depth=depth)\n",
    "    model.fit(features_train, target_train)\n",
    "    train_predictions = model.predict(features_train)\n",
    "    train_scores.append(accuracy_score(target_train, train_predictions))\n",
    "    valid_predictions = model.predict(features_valid)\n",
    "    valid_scores.append(accuracy_score(target_valid, valid_predictions))\n",
    "\n",
    "plt.plot(range(1,11), train_scores, label='Train')\n",
    "plt.plot(range(1,11), valid_scores, label='Validation')\n",
    "plt.xlabel('Max Depth')\n",
    "plt.ylabel('Accuracy Score')\n",
    "plt.legend()\n",
    "plt.show()"
   ]
  },
  {
   "cell_type": "markdown",
   "metadata": {},
   "source": [
    "Обучим модели случайного леса с числом деревьев от 1 до 50."
   ]
  },
  {
   "cell_type": "code",
   "execution_count": 12,
   "metadata": {},
   "outputs": [
    {
     "name": "stdout",
     "output_type": "stream",
     "text": [
      "Accuracy наилучшей модели на валидационной выборке: 0.8136645962732919 при количестве деревьев: 37 при глубине: 10\n"
     ]
    }
   ],
   "source": [
    "# Случайный лес\n",
    "\n",
    "best_model_rf = None\n",
    "best_result = 0\n",
    "for est in range(1, 50): # число деревьев равное состоянию счётчика циклов — est;\n",
    "    model = RandomForestClassifier(random_state=12345, n_estimators=est, max_depth = depth) # обучим модель с заданным количеством деревьев\n",
    "    model.fit(features_train, target_train) # обучим модель на тренировочной выборке\n",
    "    result = model.score(features_valid, target_valid) # посчитаем качество модели на валидационной выборке\n",
    "    if result > best_result:\n",
    "        best_model_rf = model # сохранм наилучшую модель\n",
    "        best_result = result #  сохраним наилучшее значение метрики accuracy на валидационных данных\n",
    "        n_estimators=est\n",
    "        max_depth = depth\n",
    "print(\"Accuracy наилучшей модели на валидационной выборке:\", best_result, 'при количестве деревьев:', n_estimators, \n",
    "      'при глубине:', max_depth)\n"
   ]
  },
  {
   "cell_type": "markdown",
   "metadata": {},
   "source": [
    "<div class=\"alert alert-warning\">\n",
    "<font size=\"5\"><b>Комментарий ревьюераV2</b></font>\n",
    "\n",
    "\n",
    "\n",
    "Совет:\n",
    "\n",
    "\n",
    "\n",
    "\n",
    "Не очень понятно почему\n",
    "    \n",
    "    \n",
    "    max_depth = depth\n",
    "    \n",
    "    \n",
    "все значения гиперпараметров отличных от дефолтных мы не просто подставляем, а ищем\n",
    "    \n",
    "Если ты хотела сделать двойной цикл, то он делается так    \n",
    "    \n",
    "    for est in range(1, 50):\n",
    "        for depth in range(1, 11):\n",
    "            model = RandomForestClassifier(random_state=12345, n_estimators=est, max_depth = depth) \n",
    "\n",
    "            ......"
   ]
  },
  {
   "cell_type": "markdown",
   "metadata": {},
   "source": [
    "\n",
    "<div class=\"alert alert-warning\">\n",
    "<font size=\"5\"><b>Комментарий ревьюера</b></font>\n",
    "\n",
    "\n",
    "\n",
    "Совет:\n",
    "\n",
    "\n",
    "- Zhanneta, можно было сделать похитрее, RF одна из лучших моделей в классическом machine-learning, поэтому можно было добавить перебор 2 гиперпараметров в двойном цикле, в результата метрика качества вырастет. \n",
    " \n",
    "\n",
    "- Когда что то долго крутиться, можно использовать  %%time - ставишь на самый вверх ячейки с кодом, время выполнения которого хочешь замерить, может не знаешь.  Быстрее не станет, но все будут видеть стоит ли ждать не отходя от ПК или можно сходить чаек поставить )) \n",
    "    \n",
    "    Или tqdm, это ещё лучше, потому что он показывает интерактивно, на каком этапе расчетов мы находимся\n",
    "\n",
    "    \n",
    "    from tqdm import tqdm\n",
    "\n",
    "\n",
    "    for n_estimators in tqdm(range(3,58)):\n",
    "\n",
    "        ..........\n",
    "\n",
    "\n",
    "\n",
    "(дальше мы будем уходить от неэффективных в питоне циклов к apply.  Там тоже есть аналог прогресс-баров:  .progress_apply)\n",
    "    \n",
    "И будет красиво )   \n",
    " \n",
    "\n",
    "\n",
    "\n",
    "\n",
    "\n",
    "</div>\n"
   ]
  },
  {
   "cell_type": "code",
   "execution_count": 13,
   "metadata": {},
   "outputs": [
    {
     "name": "stdout",
     "output_type": "stream",
     "text": [
      "Accuracy логистической регрессии: 0.7204968944099379\n"
     ]
    }
   ],
   "source": [
    "# Логистическая регрессия\n",
    "model = LogisticRegression(random_state=12345, solver='lbfgs', max_iter=1000) \n",
    "model.fit(features_train, target_train) \n",
    "predictions_valid = model.predict(features_valid) \n",
    "print('Accuracy логистической регрессии:', model.score(features_valid, target_valid))"
   ]
  },
  {
   "cell_type": "markdown",
   "metadata": {},
   "source": [
    "<font color='pink'><b>Комментарий студента: ☝️ поправила, спасибо!  </b></font><br>"
   ]
  },
  {
   "cell_type": "markdown",
   "metadata": {},
   "source": [
    "<div class=\"alert alert-danger\">\n",
    "<font size=\"5\"><b>Комментарий ревьюера</b></font>\n",
    "\n",
    "\n",
    "\n",
    "Ошибка ❌:\n",
    "\n",
    "\n",
    "\n",
    "\n",
    "\n",
    "    print(model.score(features_valid, predictions_valid))    ------> print(model.score(features_valid, target_valid)) "
   ]
  },
  {
   "cell_type": "markdown",
   "metadata": {},
   "source": [
    "# Выводы"
   ]
  },
  {
   "cell_type": "markdown",
   "metadata": {},
   "source": [
    " ̶Л̶о̶г̶и̶с̶т̶и̶ч̶е̶с̶к̶а̶я̶ ̶р̶е̶г̶р̶е̶с̶с̶и̶я̶ ̶п̶о̶к̶а̶з̶а̶л̶а̶ ̶н̶а̶и̶л̶у̶ч̶ш̶е̶е̶ ̶к̶а̶ч̶е̶с̶т̶в̶о̶ ̶м̶о̶д̶е̶л̶и̶.̶"
   ]
  },
  {
   "cell_type": "markdown",
   "metadata": {},
   "source": [
    "Наилучшее качество модели показал случайный лес с accuracy на валидационной выборке: 0.8136645962732919 при количестве деревьев: 37 при глубине: 10"
   ]
  },
  {
   "cell_type": "markdown",
   "metadata": {},
   "source": [
    "\n",
    "\n",
    "<div class=\"alert alert-warning\">\n",
    "<font size=\"5\"><b>Комментарий ревьюера</b></font>\n",
    "\n",
    "Совет: \n",
    "\n",
    "    \n",
    "На самом деле логистической регрессия показывает худший результат, в данном проекте   \n",
    "    \n",
    "    \n",
    "Если есть желание можешь ответить на вопросики ))    \n",
    "\n",
    "\n",
    "\n",
    "- Как назвать ситуацию, когда на валидации при увеличении глубины дерева (модель DT), метрика качества стала снижаться? Как по твоему в это же время вела себя эта же метрика на train?\n",
    "\n",
    "\n",
    "- Насколько знаю вы еще под капот моделям не заглядывали, но может знаешь почему обычно RF показывает более высокие результаты из выбранных?\n",
    "\n",
    "\n",
    "- Мы решаем задачу классификации (а еще есть задача регрессии), а в названии модели с помощью которой мы решаем задачу \"классификации\" (Логистическая регрессия) есть слово \"регрессия\".  Нет ли тут парадокса? )\n",
    "    \n",
    "\n",
    "- Почему логистическая регрессия показывать на много более худшие результаты?  \n",
    "\n",
    "\n",
    "</div>\n",
    "\n",
    "\n",
    "\n"
   ]
  },
  {
   "cell_type": "markdown",
   "metadata": {},
   "source": [
    "## Проверьте модель на тестовой выборке"
   ]
  },
  {
   "cell_type": "markdown",
   "metadata": {},
   "source": [
    "Проверим качество наилучшей модели на тестовой выборке."
   ]
  },
  {
   "cell_type": "code",
   "execution_count": 14,
   "metadata": {},
   "outputs": [
    {
     "name": "stdout",
     "output_type": "stream",
     "text": [
      "Качество наилучшей модели на тестовой выборке: 0.8091286307053942 при количестве деревьев: 37 при глубине: 10\n"
     ]
    }
   ],
   "source": [
    "predictions_test = best_model_rf.predict(features_test) \n",
    "print('Качество наилучшей модели на тестовой выборке:', best_model_rf.score(features_test, target_test), \n",
    "      'при количестве деревьев:', n_estimators, \n",
    "      'при глубине:', max_depth)"
   ]
  },
  {
   "cell_type": "markdown",
   "metadata": {},
   "source": [
    "<div class=\"alert alert-success\">\n",
    "<font size=\"5\"><b>Комментарий ревьюераV2</b></font>\n",
    "\n",
    "\n",
    "\n",
    "Успех 👍:\n",
    "\n",
    "\n",
    "\n",
    "Теперь всё встало на свои места\n",
    "\n",
    "\n",
    "\n",
    "\n",
    "</div>\n"
   ]
  },
  {
   "cell_type": "markdown",
   "metadata": {},
   "source": [
    "\n",
    "<div class=\"alert alert-danger\">\n",
    "<font size=\"5\"><b>Комментарий ревьюера</b></font>\n",
    "\n",
    "\n",
    "\n",
    "\n",
    "Ошибка:\n",
    "\n",
    "\n",
    "\n",
    "\n",
    "- Действительно тот мы Тестируем только лучшую модель, но стоит разобраться какая у нас модель лучшая (и на каких значениях гиперпараметров)\n",
    "    \n",
    "    \n",
    "    \n",
    "- Тут опять неправильно считаешь метрику.  Ведь в качестве аргумента model.score  подаём истинный лейбл\n",
    "    \n",
    "    \n",
    "<div class=\"alert alert-warning\">\n",
    "   \n",
    "Совет: \n",
    "\n",
    "- Как попробовать улучшить результат, не мучаясь с кодом?! Смотри - мы сформировали train выборку на которой обучаем модель, а валидационную используем для поиска лучших значений гиперпараметров. Оке, нашли их. Так почему бы теперь модель с выбранными гиперпараметрами не обучить на тренировочной + валидационной выборке (только не нужно делать новые сплиты, используй pd.concat(), к примеру)?! Чем больше данных, тем лучше модель может обучиться. И эту дообученную модель проверим на тесте. Гаранитий что станет лучше нет, но ML это постоянные эксперименты.\n",
    "</div>\n"
   ]
  },
  {
   "cell_type": "markdown",
   "metadata": {},
   "source": [
    "## (бонус) Проверьте модели на адекватность"
   ]
  },
  {
   "cell_type": "markdown",
   "metadata": {},
   "source": [
    "Всегда сравнивайте модель со случайной, так вы сможете оценить её адекватность, или проверить на вменяемость (англ. sanity check)."
   ]
  },
  {
   "cell_type": "markdown",
   "metadata": {},
   "source": [
    "Проведем проверку с помощью DummyClassifier(), данная модель будет всегда выдавать самое часто встречающееся значение в целевом признаке вне зависимости от того какие данные ей подаются на вход.  \n",
    "Сравним нашу лучшую модель с данной константной моделью."
   ]
  },
  {
   "cell_type": "code",
   "execution_count": 15,
   "metadata": {
    "scrolled": true
   },
   "outputs": [
    {
     "data": {
      "text/plain": [
       "0.6929460580912863"
      ]
     },
     "execution_count": 15,
     "metadata": {},
     "output_type": "execute_result"
    }
   ],
   "source": [
    "dummy_clf = DummyClassifier(strategy=\"most_frequent\")\n",
    "dummy_clf.fit(features_test, target_test)\n",
    "DummyClassifier(strategy='most_frequent')\n",
    "dummy_clf.predict(features_test)\n",
    "dummy_clf.score(features_test, target_test)\n"
   ]
  },
  {
   "cell_type": "markdown",
   "metadata": {},
   "source": [
    "Вывод: Модель показывает лучшие результаты, чем константная, таким образом выбранная нами модель работает лучше, чем случайные предсказания. "
   ]
  },
  {
   "cell_type": "markdown",
   "metadata": {},
   "source": [
    "<div class=\"alert alert-success\">\n",
    "<font size=\"5\"><b>Комментарий ревьюера</b></font>\n",
    "\n",
    "Успех:\n",
    "\n",
    "Все верно. \n",
    "\n",
    "👍 что используешь специальную обертку для проверки на адекватность\n"
   ]
  },
  {
   "cell_type": "markdown",
   "metadata": {},
   "source": [
    "# Выводы исследования"
   ]
  },
  {
   "cell_type": "markdown",
   "metadata": {},
   "source": [
    "В ходе исследования были открыты и изучены исходные данные. Для достижения цели исследования данные были разделены на 3 выборки - обучающую, валидационную и тестовую, в соотношении ̶ ̶6̶0̶:̶2̶0̶:̶2̶0̶.̶ ̶\n",
    "Проведено исследование нескольких моделей для задачи классификации - дерево решений, случайный лес и логистическая регрессия. Выявлены гиперпараметры, при которых модель имеет наибольшее качество на валидационной выборке:\n",
    "\n",
    "    a̶c̶c̶u̶r̶a̶c̶y̶ ̶д̶е̶р̶е̶в̶а̶ ̶р̶е̶ш̶е̶н̶и̶й̶ ̶=̶ ̶0̶.̶7̶8̶5̶3̶8̶1̶0̶2̶6̶4̶3̶8̶5̶6̶9̶2̶ ̶п̶р̶и̶ ̶г̶л̶у̶б̶и̶н̶е̶ ̶д̶е̶р̶е̶в̶а̶ ̶5̶;̶\n",
    "    ̶a̶c̶c̶u̶r̶a̶c̶y̶ ̶с̶л̶у̶ч̶а̶й̶н̶о̶г̶о̶ ̶л̶е̶с̶а̶ ̶=̶ ̶0̶.̶7̶8̶8̶4̶9̶1̶4̶4̶6̶3̶4̶5̶2̶5̶6̶6̶ ̶п̶р̶и̶ ̶к̶о̶л̶и̶ч̶е̶с̶т̶в̶е̶ ̶д̶е̶р̶е̶в̶ь̶е̶в̶ ̶2̶0̶;̶\n",
    "    ̶a̶c̶c̶u̶r̶a̶c̶y̶ ̶л̶о̶г̶и̶с̶т̶и̶ч̶е̶с̶к̶о̶й̶ ̶р̶е̶г̶р̶е̶с̶с̶и̶и̶ ̶=̶ ̶1̶.̶0̶ ̶п̶р̶и̶ ̶к̶о̶л̶и̶ч̶е̶с̶т̶в̶е̶ ̶и̶т̶е̶р̶а̶ц̶и̶й̶ ̶1̶0̶0̶0̶;̶\n",
    "    \n",
    "    accuracy дерева решений = 0.7991718426501035 при глубине дерева: 7;\n",
    "    accuracy случайного леса = 0.8136645962732919 при количестве деревьев: 37 при глубине: 10;\n",
    "    accuracy логистической регрессии = 0.7204968944099379 при количестве итераций 1000;\n",
    "    \n",
    "Таким образом, наилучшей моделью, предсказывающей нужный тариф, является  ̶л̶о̶г̶и̶с̶т̶и̶ч̶е̶с̶к̶а̶я̶ ̶р̶е̶г̶р̶е̶с̶с̶и̶я̶  **случайный лес**. \n",
    "\n",
    "Модель была проверена на тестовой выборке, где показала близкий результат = 0.8091286307053942, а также проверена на вменяемость с результатом точности предсказания =   ̶0̶.̶6̶9̶5̶1̶7̶8̶8̶4̶9̶1̶4̶4̶6̶3̶4̶6̶  0.6929460580912863. Результат говорит о том, что модель работает адекватно и способна предсказать лучше, чем случайная."
   ]
  },
  {
   "cell_type": "markdown",
   "metadata": {},
   "source": [
    "\n",
    "<div class=\"alert alert-info\">\n",
    "<font size=\"5\"><b>Комментарий ревьюера</b></font>\n",
    "\n",
    "\n",
    "\n",
    "\n",
    "Zhanneta, у тебя старательно выполненная работа, все четко, осмысленно. Выводы присутствуют, с комментированием кода тоже никаких проблем нет, твоих объяснений достаточно для понимания коллегами хода твоих мыслей. \n",
    "\n",
    "\n",
    "    \n",
    "    \n",
    "    \n",
    "\n",
    "Я оставил небольшие советы и вопросики (если есть время и желание можешь воспользоваться/ответить): \n",
    "\n",
    "\n",
    "\n",
    "\n",
    "- обрати внимание на проверку сбалансированность классов в таргете в разделе EDA\n",
    "- использовать stratify\n",
    "- добавить график метрики    \n",
    "- как можно улучшить результаты \n",
    "\n",
    "\n",
    "\n",
    "    \n",
    "Обязательное к исправлению:\n",
    "\n",
    "\n",
    "\n",
    "- Данные в выборках у тебя перемешались, тестовая и  валидационная выборка совпали на 100%\n",
    "\n",
    "\n",
    "- Неправильно считаешь метрику, как результат тестирование проводишь не лучшие модели\n",
    "    \n",
    "    \n",
    "    \n",
    "    \n",
    "Жду исправлений, для принятия проекта. Если какие то вопросы, то сразу спрашивай ) \n"
   ]
  },
  {
   "cell_type": "markdown",
   "metadata": {},
   "source": [
    "<font color='pink'><b>Комментарий студента: Марат, благодарю тебя за внимание к моему проекту, снисходительность, а самое главное за добрые и верные советы!)) Сделала все, что могла по ходу твоих комментариев. Этот проект и твой ревью сделал мое обучение еще более осознанным, интересным, а главное не на шутку познавательным ))! Благодарю! и до встречи на перепроверке ))) </b></font><br>"
   ]
  },
  {
   "cell_type": "markdown",
   "metadata": {},
   "source": [
    "\n",
    "<div class=\"alert alert-info\">\n",
    "<font size=\"5\"><b>Комментарий ревьюераV2</b></font>\n",
    "\n",
    "Спасибо за работу и за добрые слова )    \n",
    "\n",
    "    \n",
    "Красное исправлено,  желтые советы использованы. Надеюсь мои советы и вопросики были полезны и в копилочку знаний упало что то новое, а проект стал лучше, и симпатичней.\n",
    "\n",
    "\n",
    "Отличная работа Zhanneta. Желаю успехов в дальнейшей учебе!\n",
    "\n"
   ]
  },
  {
   "cell_type": "markdown",
   "metadata": {},
   "source": [
    "## Чек-лист готовности проекта"
   ]
  },
  {
   "cell_type": "markdown",
   "metadata": {},
   "source": [
    "Поставьте 'x' в выполненных пунктах. Далее нажмите Shift+Enter."
   ]
  },
  {
   "cell_type": "markdown",
   "metadata": {},
   "source": [
    "- [x] Jupyter Notebook открыт\n",
    "- [x] Весь код исполняется без ошибок\n",
    "- [x] Ячейки с кодом расположены в порядке исполнения\n",
    "- [x] Выполнено задание 1: данные загружены и изучены\n",
    "- [x] Выполнено задание 2: данные разбиты на три выборки\n",
    "- [x] Выполнено задание 3: проведено исследование моделей\n",
    "    - [x] Рассмотрено больше одной модели\n",
    "    - [x] Рассмотрено хотя бы 3 значения гипепараметров для какой-нибудь модели\n",
    "    - [x] Написаны выводы по результатам исследования\n",
    "- [x] Выполнено задание 3: Проведено тестирование\n",
    "- [x] Удалось достичь accuracy не меньше 0.75\n"
   ]
  }
 ],
 "metadata": {
  "ExecuteTimeLog": [
   {
    "duration": 403,
    "start_time": "2023-05-03T19:06:44.201Z"
   },
   {
    "duration": 73,
    "start_time": "2023-05-03T19:06:44.733Z"
   },
   {
    "duration": 19,
    "start_time": "2023-05-03T19:06:57.140Z"
   },
   {
    "duration": 52,
    "start_time": "2023-05-04T18:33:48.279Z"
   },
   {
    "duration": 448,
    "start_time": "2023-05-04T18:33:56.945Z"
   },
   {
    "duration": 132,
    "start_time": "2023-05-04T18:33:57.948Z"
   },
   {
    "duration": 17,
    "start_time": "2023-05-04T18:33:58.860Z"
   },
   {
    "duration": 14,
    "start_time": "2023-05-04T18:34:01.932Z"
   },
   {
    "duration": 6,
    "start_time": "2023-05-04T18:34:32.540Z"
   },
   {
    "duration": 5,
    "start_time": "2023-05-04T18:34:40.878Z"
   },
   {
    "duration": 3,
    "start_time": "2023-05-04T18:34:45.350Z"
   },
   {
    "duration": 872,
    "start_time": "2023-05-04T18:46:04.296Z"
   },
   {
    "duration": 66,
    "start_time": "2023-05-04T20:45:50.927Z"
   },
   {
    "duration": 67,
    "start_time": "2023-05-04T20:45:58.572Z"
   },
   {
    "duration": 11,
    "start_time": "2023-05-04T20:46:05.091Z"
   },
   {
    "duration": 39,
    "start_time": "2023-05-04T20:46:05.781Z"
   },
   {
    "duration": 12,
    "start_time": "2023-05-04T20:46:06.541Z"
   },
   {
    "duration": 3,
    "start_time": "2023-05-04T20:46:08.648Z"
   },
   {
    "duration": 3,
    "start_time": "2023-05-04T20:46:09.084Z"
   },
   {
    "duration": 12,
    "start_time": "2023-05-04T20:46:09.657Z"
   },
   {
    "duration": 11,
    "start_time": "2023-05-04T20:46:56.788Z"
   },
   {
    "duration": 1066,
    "start_time": "2023-05-04T20:47:04.504Z"
   },
   {
    "duration": 36,
    "start_time": "2023-05-04T20:47:05.572Z"
   },
   {
    "duration": 15,
    "start_time": "2023-05-04T20:47:05.610Z"
   },
   {
    "duration": 26,
    "start_time": "2023-05-04T20:47:05.627Z"
   },
   {
    "duration": 16,
    "start_time": "2023-05-04T20:47:05.654Z"
   },
   {
    "duration": 110,
    "start_time": "2023-05-04T20:47:05.671Z"
   },
   {
    "duration": 0,
    "start_time": "2023-05-04T20:47:05.783Z"
   },
   {
    "duration": 0,
    "start_time": "2023-05-04T20:47:05.784Z"
   },
   {
    "duration": 0,
    "start_time": "2023-05-04T20:47:05.785Z"
   },
   {
    "duration": 3,
    "start_time": "2023-05-04T20:47:11.418Z"
   },
   {
    "duration": 35,
    "start_time": "2023-05-04T20:47:12.172Z"
   },
   {
    "duration": 10,
    "start_time": "2023-05-04T20:47:12.634Z"
   },
   {
    "duration": 3,
    "start_time": "2023-05-04T20:47:14.193Z"
   },
   {
    "duration": 3,
    "start_time": "2023-05-04T20:47:14.657Z"
   },
   {
    "duration": 13,
    "start_time": "2023-05-04T20:47:17.089Z"
   },
   {
    "duration": 9,
    "start_time": "2023-05-04T20:47:43.757Z"
   },
   {
    "duration": 5,
    "start_time": "2023-05-04T20:48:20.266Z"
   },
   {
    "duration": 4,
    "start_time": "2023-05-04T20:59:39.916Z"
   },
   {
    "duration": 5,
    "start_time": "2023-05-04T21:01:51.591Z"
   },
   {
    "duration": 9,
    "start_time": "2023-05-04T21:18:30.037Z"
   },
   {
    "duration": 2,
    "start_time": "2023-05-04T21:20:18.574Z"
   },
   {
    "duration": 24,
    "start_time": "2023-05-04T21:20:36.581Z"
   },
   {
    "duration": 19,
    "start_time": "2023-05-04T21:20:45.030Z"
   },
   {
    "duration": 4,
    "start_time": "2023-05-04T21:26:15.976Z"
   },
   {
    "duration": 38,
    "start_time": "2023-05-04T21:26:27.423Z"
   },
   {
    "duration": 24,
    "start_time": "2023-05-04T21:26:36.802Z"
   },
   {
    "duration": 26,
    "start_time": "2023-05-04T21:27:33.770Z"
   },
   {
    "duration": 24,
    "start_time": "2023-05-04T21:27:38.184Z"
   },
   {
    "duration": 13,
    "start_time": "2023-05-04T21:28:17.417Z"
   },
   {
    "duration": 14,
    "start_time": "2023-05-04T21:28:27.395Z"
   },
   {
    "duration": 15,
    "start_time": "2023-05-04T21:28:33.872Z"
   },
   {
    "duration": 2,
    "start_time": "2023-05-04T21:28:35.778Z"
   },
   {
    "duration": 22,
    "start_time": "2023-05-04T21:28:41.683Z"
   },
   {
    "duration": 84,
    "start_time": "2023-05-04T21:31:53.636Z"
   },
   {
    "duration": 33,
    "start_time": "2023-05-04T21:32:04.482Z"
   },
   {
    "duration": 75,
    "start_time": "2023-05-04T21:32:11.746Z"
   },
   {
    "duration": 85,
    "start_time": "2023-05-04T21:32:14.523Z"
   },
   {
    "duration": 78,
    "start_time": "2023-05-04T21:33:20.682Z"
   },
   {
    "duration": 33,
    "start_time": "2023-05-04T21:33:50.235Z"
   },
   {
    "duration": 71,
    "start_time": "2023-05-04T21:34:03.451Z"
   },
   {
    "duration": 74,
    "start_time": "2023-05-04T21:39:01.342Z"
   },
   {
    "duration": 80,
    "start_time": "2023-05-04T21:39:23.349Z"
   },
   {
    "duration": 87,
    "start_time": "2023-05-04T21:42:26.437Z"
   },
   {
    "duration": 78,
    "start_time": "2023-05-04T21:42:35.494Z"
   },
   {
    "duration": 75,
    "start_time": "2023-05-04T21:43:56.887Z"
   },
   {
    "duration": 78,
    "start_time": "2023-05-04T21:44:13.840Z"
   },
   {
    "duration": 87,
    "start_time": "2023-05-04T21:45:31.039Z"
   },
   {
    "duration": 78,
    "start_time": "2023-05-04T21:45:32.910Z"
   },
   {
    "duration": 40,
    "start_time": "2023-05-04T21:45:50.973Z"
   },
   {
    "duration": 43,
    "start_time": "2023-05-04T21:45:58.838Z"
   },
   {
    "duration": 80,
    "start_time": "2023-05-04T21:46:09.127Z"
   },
   {
    "duration": 82,
    "start_time": "2023-05-04T21:46:16.582Z"
   },
   {
    "duration": 76,
    "start_time": "2023-05-04T21:48:06.233Z"
   },
   {
    "duration": 74,
    "start_time": "2023-05-04T21:48:18.713Z"
   },
   {
    "duration": 73,
    "start_time": "2023-05-04T21:50:42.556Z"
   },
   {
    "duration": 72,
    "start_time": "2023-05-04T21:50:50.513Z"
   },
   {
    "duration": 73,
    "start_time": "2023-05-04T21:50:52.872Z"
   },
   {
    "duration": 69,
    "start_time": "2023-05-04T21:52:17.833Z"
   },
   {
    "duration": 69,
    "start_time": "2023-05-04T21:53:18.472Z"
   },
   {
    "duration": 62,
    "start_time": "2023-05-04T21:53:34.761Z"
   },
   {
    "duration": 102,
    "start_time": "2023-05-10T07:51:51.021Z"
   },
   {
    "duration": 1433,
    "start_time": "2023-05-10T07:51:55.651Z"
   },
   {
    "duration": 135,
    "start_time": "2023-05-10T07:51:57.087Z"
   },
   {
    "duration": 45,
    "start_time": "2023-05-10T07:51:57.783Z"
   },
   {
    "duration": 10,
    "start_time": "2023-05-10T07:52:00.111Z"
   },
   {
    "duration": 3,
    "start_time": "2023-05-10T07:52:00.586Z"
   },
   {
    "duration": 5,
    "start_time": "2023-05-10T07:52:01.556Z"
   },
   {
    "duration": 9,
    "start_time": "2023-05-10T07:52:02.017Z"
   },
   {
    "duration": 41,
    "start_time": "2023-05-10T07:52:04.106Z"
   },
   {
    "duration": 86,
    "start_time": "2023-05-10T07:52:05.329Z"
   },
   {
    "duration": 126,
    "start_time": "2023-05-10T07:52:08.469Z"
   },
   {
    "duration": 85,
    "start_time": "2023-05-10T07:52:44.944Z"
   },
   {
    "duration": 97,
    "start_time": "2023-05-10T07:53:28.852Z"
   },
   {
    "duration": 50,
    "start_time": "2023-05-11T07:43:23.226Z"
   },
   {
    "duration": 1161,
    "start_time": "2023-05-11T07:43:27.306Z"
   },
   {
    "duration": 69,
    "start_time": "2023-05-11T07:43:28.469Z"
   },
   {
    "duration": 18,
    "start_time": "2023-05-11T07:43:28.540Z"
   },
   {
    "duration": 5,
    "start_time": "2023-05-11T07:43:30.039Z"
   },
   {
    "duration": 3,
    "start_time": "2023-05-11T07:43:30.406Z"
   },
   {
    "duration": 6,
    "start_time": "2023-05-11T07:43:31.606Z"
   },
   {
    "duration": 5,
    "start_time": "2023-05-11T07:43:32.038Z"
   },
   {
    "duration": 22,
    "start_time": "2023-05-11T07:43:34.176Z"
   },
   {
    "duration": 84,
    "start_time": "2023-05-11T07:43:36.254Z"
   },
   {
    "duration": 75,
    "start_time": "2023-05-11T07:49:05.668Z"
   },
   {
    "duration": 78,
    "start_time": "2023-05-11T10:42:32.328Z"
   },
   {
    "duration": 1117,
    "start_time": "2023-05-11T10:42:48.556Z"
   },
   {
    "duration": 33,
    "start_time": "2023-05-11T10:42:49.675Z"
   },
   {
    "duration": 17,
    "start_time": "2023-05-11T10:42:49.709Z"
   },
   {
    "duration": 4,
    "start_time": "2023-05-11T10:42:49.728Z"
   },
   {
    "duration": 7,
    "start_time": "2023-05-11T10:42:49.733Z"
   },
   {
    "duration": 11,
    "start_time": "2023-05-11T10:42:49.741Z"
   },
   {
    "duration": 7,
    "start_time": "2023-05-11T10:42:49.754Z"
   },
   {
    "duration": 33,
    "start_time": "2023-05-11T10:42:49.763Z"
   },
   {
    "duration": 73,
    "start_time": "2023-05-11T10:42:49.798Z"
   },
   {
    "duration": 123,
    "start_time": "2023-05-11T10:42:49.873Z"
   },
   {
    "duration": 0,
    "start_time": "2023-05-11T10:42:49.997Z"
   },
   {
    "duration": 0,
    "start_time": "2023-05-11T10:42:49.999Z"
   },
   {
    "duration": 0,
    "start_time": "2023-05-11T10:42:50.000Z"
   },
   {
    "duration": 0,
    "start_time": "2023-05-11T10:42:50.001Z"
   },
   {
    "duration": 0,
    "start_time": "2023-05-11T10:42:50.002Z"
   },
   {
    "duration": 328,
    "start_time": "2023-05-11T10:43:20.664Z"
   },
   {
    "duration": 318,
    "start_time": "2023-05-11T10:43:33.833Z"
   },
   {
    "duration": 331,
    "start_time": "2023-05-11T10:43:53.161Z"
   },
   {
    "duration": 312,
    "start_time": "2023-05-11T10:44:04.970Z"
   },
   {
    "duration": 6729,
    "start_time": "2023-05-11T10:48:22.006Z"
   },
   {
    "duration": 25382,
    "start_time": "2023-05-11T10:48:48.437Z"
   },
   {
    "duration": 6325,
    "start_time": "2023-05-11T10:49:25.058Z"
   },
   {
    "duration": 1070,
    "start_time": "2023-05-11T11:05:01.252Z"
   },
   {
    "duration": 34,
    "start_time": "2023-05-11T11:05:02.324Z"
   },
   {
    "duration": 19,
    "start_time": "2023-05-11T11:05:02.359Z"
   },
   {
    "duration": 23,
    "start_time": "2023-05-11T11:05:02.380Z"
   },
   {
    "duration": 19,
    "start_time": "2023-05-11T11:05:02.405Z"
   },
   {
    "duration": 30,
    "start_time": "2023-05-11T11:05:02.426Z"
   },
   {
    "duration": 9,
    "start_time": "2023-05-11T11:05:02.458Z"
   },
   {
    "duration": 60,
    "start_time": "2023-05-11T11:05:02.469Z"
   },
   {
    "duration": 80,
    "start_time": "2023-05-11T11:05:02.531Z"
   },
   {
    "duration": 6152,
    "start_time": "2023-05-11T11:05:02.613Z"
   },
   {
    "duration": 1234,
    "start_time": "2023-05-11T11:13:59.069Z"
   },
   {
    "duration": 35,
    "start_time": "2023-05-11T11:14:00.305Z"
   },
   {
    "duration": 17,
    "start_time": "2023-05-11T11:14:00.341Z"
   },
   {
    "duration": 21,
    "start_time": "2023-05-11T11:14:00.360Z"
   },
   {
    "duration": 25,
    "start_time": "2023-05-11T11:14:00.383Z"
   },
   {
    "duration": 33,
    "start_time": "2023-05-11T11:14:00.410Z"
   },
   {
    "duration": 41,
    "start_time": "2023-05-11T11:14:00.445Z"
   },
   {
    "duration": 82,
    "start_time": "2023-05-11T11:14:00.488Z"
   },
   {
    "duration": 87,
    "start_time": "2023-05-11T11:14:00.572Z"
   },
   {
    "duration": 6566,
    "start_time": "2023-05-11T11:14:00.660Z"
   },
   {
    "duration": 768,
    "start_time": "2023-05-11T11:14:07.228Z"
   },
   {
    "duration": 0,
    "start_time": "2023-05-11T11:14:07.999Z"
   },
   {
    "duration": 0,
    "start_time": "2023-05-11T11:14:08.000Z"
   },
   {
    "duration": 0,
    "start_time": "2023-05-11T11:14:08.002Z"
   },
   {
    "duration": 0,
    "start_time": "2023-05-11T11:14:08.003Z"
   },
   {
    "duration": 1135,
    "start_time": "2023-05-11T11:19:26.272Z"
   },
   {
    "duration": 36,
    "start_time": "2023-05-11T11:19:27.410Z"
   },
   {
    "duration": 21,
    "start_time": "2023-05-11T11:19:27.449Z"
   },
   {
    "duration": 4,
    "start_time": "2023-05-11T11:19:27.472Z"
   },
   {
    "duration": 3,
    "start_time": "2023-05-11T11:19:27.479Z"
   },
   {
    "duration": 11,
    "start_time": "2023-05-11T11:19:27.485Z"
   },
   {
    "duration": 7,
    "start_time": "2023-05-11T11:19:27.498Z"
   },
   {
    "duration": 26,
    "start_time": "2023-05-11T11:19:27.507Z"
   },
   {
    "duration": 113,
    "start_time": "2023-05-11T11:19:27.535Z"
   },
   {
    "duration": 6190,
    "start_time": "2023-05-11T11:19:27.650Z"
   },
   {
    "duration": 813,
    "start_time": "2023-05-11T11:19:33.841Z"
   },
   {
    "duration": 0,
    "start_time": "2023-05-11T11:19:34.656Z"
   },
   {
    "duration": 0,
    "start_time": "2023-05-11T11:19:34.658Z"
   },
   {
    "duration": 0,
    "start_time": "2023-05-11T11:19:34.659Z"
   },
   {
    "duration": 0,
    "start_time": "2023-05-11T11:19:34.661Z"
   },
   {
    "duration": 679,
    "start_time": "2023-05-11T11:23:57.514Z"
   },
   {
    "duration": 472,
    "start_time": "2023-05-11T11:28:55.022Z"
   },
   {
    "duration": 445,
    "start_time": "2023-05-11T11:29:06.350Z"
   },
   {
    "duration": 1162784,
    "start_time": "2023-05-11T11:31:14.214Z"
   },
   {
    "duration": 1324,
    "start_time": "2023-05-17T18:58:44.924Z"
   },
   {
    "duration": 171,
    "start_time": "2023-05-17T18:58:47.156Z"
   },
   {
    "duration": 21,
    "start_time": "2023-05-17T18:58:48.005Z"
   },
   {
    "duration": 5,
    "start_time": "2023-05-17T18:58:49.986Z"
   },
   {
    "duration": 3,
    "start_time": "2023-05-17T18:58:50.756Z"
   },
   {
    "duration": 7,
    "start_time": "2023-05-17T18:58:51.880Z"
   },
   {
    "duration": 6,
    "start_time": "2023-05-17T18:58:52.547Z"
   },
   {
    "duration": 27,
    "start_time": "2023-05-17T18:58:54.557Z"
   },
   {
    "duration": 108,
    "start_time": "2023-05-17T18:58:56.020Z"
   },
   {
    "duration": 7441,
    "start_time": "2023-05-17T18:58:57.257Z"
   },
   {
    "duration": 3376,
    "start_time": "2023-05-17T18:59:04.700Z"
   },
   {
    "duration": 4,
    "start_time": "2023-05-17T18:59:08.080Z"
   },
   {
    "duration": 15,
    "start_time": "2023-05-17T18:59:08.171Z"
   },
   {
    "duration": 1231,
    "start_time": "2023-05-26T07:48:37.656Z"
   },
   {
    "duration": 79,
    "start_time": "2023-05-26T07:48:38.900Z"
   },
   {
    "duration": 27,
    "start_time": "2023-05-26T07:48:38.981Z"
   },
   {
    "duration": 4,
    "start_time": "2023-05-26T07:48:39.014Z"
   },
   {
    "duration": 7,
    "start_time": "2023-05-26T07:48:39.021Z"
   },
   {
    "duration": 10,
    "start_time": "2023-05-26T07:48:39.030Z"
   },
   {
    "duration": 8,
    "start_time": "2023-05-26T07:48:39.042Z"
   },
   {
    "duration": 48,
    "start_time": "2023-05-26T07:48:39.052Z"
   },
   {
    "duration": 89,
    "start_time": "2023-05-26T07:48:39.102Z"
   },
   {
    "duration": 6949,
    "start_time": "2023-05-26T07:48:39.193Z"
   },
   {
    "duration": 3,
    "start_time": "2023-05-26T07:48:46.145Z"
   },
   {
    "duration": 2357,
    "start_time": "2023-05-26T07:48:46.150Z"
   },
   {
    "duration": 6,
    "start_time": "2023-05-26T07:48:48.510Z"
   },
   {
    "duration": 109,
    "start_time": "2023-05-26T07:48:48.579Z"
   },
   {
    "duration": 117,
    "start_time": "2023-05-26T07:48:48.700Z"
   },
   {
    "duration": 0,
    "start_time": "2023-05-26T07:48:48.819Z"
   },
   {
    "duration": 0,
    "start_time": "2023-05-26T07:48:48.820Z"
   },
   {
    "duration": 49,
    "start_time": "2023-05-26T07:48:56.234Z"
   },
   {
    "duration": 1169,
    "start_time": "2023-06-01T14:57:01.304Z"
   },
   {
    "duration": 77,
    "start_time": "2023-06-01T14:57:02.475Z"
   },
   {
    "duration": 18,
    "start_time": "2023-06-01T14:57:02.555Z"
   },
   {
    "duration": 4,
    "start_time": "2023-06-01T14:57:04.409Z"
   },
   {
    "duration": 3,
    "start_time": "2023-06-01T14:57:04.943Z"
   },
   {
    "duration": 8,
    "start_time": "2023-06-01T14:57:05.890Z"
   },
   {
    "duration": 5,
    "start_time": "2023-06-01T14:57:06.404Z"
   },
   {
    "duration": 24,
    "start_time": "2023-06-01T14:57:08.454Z"
   },
   {
    "duration": 86,
    "start_time": "2023-06-01T14:57:10.788Z"
   },
   {
    "duration": 6377,
    "start_time": "2023-06-01T14:57:14.057Z"
   },
   {
    "duration": 1664,
    "start_time": "2023-06-01T14:58:22.662Z"
   },
   {
    "duration": 71,
    "start_time": "2023-06-01T14:58:31.355Z"
   },
   {
    "duration": 24,
    "start_time": "2023-06-01T14:58:37.602Z"
   },
   {
    "duration": 181,
    "start_time": "2023-06-01T14:58:50.756Z"
   },
   {
    "duration": 433,
    "start_time": "2023-06-01T14:58:56.897Z"
   },
   {
    "duration": 727,
    "start_time": "2023-06-01T14:59:02.208Z"
   },
   {
    "duration": 9,
    "start_time": "2023-06-01T15:00:08.975Z"
   },
   {
    "duration": 47,
    "start_time": "2023-06-01T15:00:54.448Z"
   },
   {
    "duration": 1256,
    "start_time": "2023-06-01T15:01:18.869Z"
   },
   {
    "duration": 1174,
    "start_time": "2023-06-01T15:02:26.353Z"
   },
   {
    "duration": 580,
    "start_time": "2023-06-01T15:06:04.776Z"
   },
   {
    "duration": 442,
    "start_time": "2023-06-01T15:07:59.892Z"
   },
   {
    "duration": 125,
    "start_time": "2023-06-01T15:13:13.314Z"
   },
   {
    "duration": 7,
    "start_time": "2023-06-01T15:14:56.787Z"
   },
   {
    "duration": 58,
    "start_time": "2023-06-01T15:35:36.866Z"
   },
   {
    "duration": 52,
    "start_time": "2023-06-01T15:35:43.066Z"
   },
   {
    "duration": 123,
    "start_time": "2023-06-01T15:35:52.462Z"
   },
   {
    "duration": 3,
    "start_time": "2023-06-01T15:36:11.458Z"
   },
   {
    "duration": 12,
    "start_time": "2023-06-01T15:36:16.782Z"
   },
   {
    "duration": 11,
    "start_time": "2023-06-01T15:36:29.517Z"
   },
   {
    "duration": 10,
    "start_time": "2023-06-01T15:36:36.092Z"
   },
   {
    "duration": 6,
    "start_time": "2023-06-01T15:36:52.783Z"
   },
   {
    "duration": 7,
    "start_time": "2023-06-01T15:40:04.075Z"
   },
   {
    "duration": 1004,
    "start_time": "2023-06-02T11:47:30.149Z"
   },
   {
    "duration": 70,
    "start_time": "2023-06-02T11:47:31.155Z"
   },
   {
    "duration": 15,
    "start_time": "2023-06-02T11:47:31.966Z"
   },
   {
    "duration": 3,
    "start_time": "2023-06-02T11:47:34.037Z"
   },
   {
    "duration": 2,
    "start_time": "2023-06-02T11:47:34.485Z"
   },
   {
    "duration": 4,
    "start_time": "2023-06-02T11:47:35.640Z"
   },
   {
    "duration": 5,
    "start_time": "2023-06-02T11:47:36.306Z"
   },
   {
    "duration": 23,
    "start_time": "2023-06-02T11:47:37.945Z"
   },
   {
    "duration": 67,
    "start_time": "2023-06-02T11:47:39.476Z"
   },
   {
    "duration": 5486,
    "start_time": "2023-06-02T11:47:40.603Z"
   },
   {
    "duration": 816,
    "start_time": "2023-06-02T11:47:46.091Z"
   },
   {
    "duration": 332,
    "start_time": "2023-06-02T11:49:13.480Z"
   },
   {
    "duration": 6,
    "start_time": "2023-06-02T11:49:27.990Z"
   },
   {
    "duration": 7,
    "start_time": "2023-06-02T11:49:30.784Z"
   },
   {
    "duration": 6,
    "start_time": "2023-06-02T11:52:16.961Z"
   },
   {
    "duration": 310,
    "start_time": "2023-06-02T11:58:46.197Z"
   },
   {
    "duration": 6,
    "start_time": "2023-06-02T11:58:50.313Z"
   },
   {
    "duration": 6,
    "start_time": "2023-06-02T11:58:57.962Z"
   },
   {
    "duration": 2616,
    "start_time": "2023-06-02T13:53:03.836Z"
   },
   {
    "duration": 119,
    "start_time": "2023-06-02T13:53:06.454Z"
   },
   {
    "duration": 19,
    "start_time": "2023-06-02T13:53:06.575Z"
   },
   {
    "duration": 18,
    "start_time": "2023-06-02T13:53:06.596Z"
   },
   {
    "duration": 30,
    "start_time": "2023-06-02T13:53:06.617Z"
   },
   {
    "duration": 19,
    "start_time": "2023-06-02T13:53:06.649Z"
   },
   {
    "duration": 27,
    "start_time": "2023-06-02T13:53:06.670Z"
   },
   {
    "duration": 31,
    "start_time": "2023-06-02T13:53:06.699Z"
   },
   {
    "duration": 94,
    "start_time": "2023-06-02T13:53:06.732Z"
   },
   {
    "duration": 6539,
    "start_time": "2023-06-02T13:53:06.827Z"
   },
   {
    "duration": 969,
    "start_time": "2023-06-02T13:53:13.368Z"
   },
   {
    "duration": 89,
    "start_time": "2023-06-02T13:53:14.340Z"
   },
   {
    "duration": 14,
    "start_time": "2023-06-02T13:53:14.432Z"
   },
   {
    "duration": 12,
    "start_time": "2023-06-02T13:54:04.685Z"
   },
   {
    "duration": 14,
    "start_time": "2023-06-02T13:54:11.679Z"
   },
   {
    "duration": 11,
    "start_time": "2023-06-02T13:56:25.582Z"
   },
   {
    "duration": 4,
    "start_time": "2023-06-02T13:57:00.755Z"
   },
   {
    "duration": 5,
    "start_time": "2023-06-02T13:57:33.349Z"
   },
   {
    "duration": 6,
    "start_time": "2023-06-02T13:58:26.676Z"
   },
   {
    "duration": 1176,
    "start_time": "2023-06-03T10:40:20.227Z"
   },
   {
    "duration": 98,
    "start_time": "2023-06-03T10:40:21.413Z"
   },
   {
    "duration": 19,
    "start_time": "2023-06-03T10:40:21.901Z"
   },
   {
    "duration": 4,
    "start_time": "2023-06-03T10:40:25.121Z"
   },
   {
    "duration": 3,
    "start_time": "2023-06-03T10:40:25.479Z"
   },
   {
    "duration": 5,
    "start_time": "2023-06-03T10:40:26.701Z"
   },
   {
    "duration": 6,
    "start_time": "2023-06-03T10:41:13.309Z"
   },
   {
    "duration": 20,
    "start_time": "2023-06-03T10:41:18.145Z"
   },
   {
    "duration": 24,
    "start_time": "2023-06-03T10:43:26.450Z"
   },
   {
    "duration": 21,
    "start_time": "2023-06-03T10:43:30.729Z"
   },
   {
    "duration": 54,
    "start_time": "2023-06-03T10:43:41.972Z"
   },
   {
    "duration": 3558,
    "start_time": "2023-06-03T10:44:42.277Z"
   },
   {
    "duration": 24,
    "start_time": "2023-06-03T10:45:32.870Z"
   },
   {
    "duration": 8,
    "start_time": "2023-06-03T10:45:59.870Z"
   },
   {
    "duration": 6,
    "start_time": "2023-06-03T10:46:12.909Z"
   },
   {
    "duration": 52,
    "start_time": "2023-06-03T17:31:36.678Z"
   },
   {
    "duration": 69,
    "start_time": "2023-06-03T17:31:43.637Z"
   },
   {
    "duration": 1244,
    "start_time": "2023-06-03T17:31:49.981Z"
   },
   {
    "duration": 94,
    "start_time": "2023-06-03T17:31:51.327Z"
   },
   {
    "duration": 21,
    "start_time": "2023-06-03T17:31:51.777Z"
   },
   {
    "duration": 3,
    "start_time": "2023-06-03T17:31:53.799Z"
   },
   {
    "duration": 3,
    "start_time": "2023-06-03T17:31:54.234Z"
   },
   {
    "duration": 8,
    "start_time": "2023-06-03T17:31:55.177Z"
   },
   {
    "duration": 5,
    "start_time": "2023-06-03T17:31:57.109Z"
   },
   {
    "duration": 6,
    "start_time": "2023-06-03T17:32:10.998Z"
   },
   {
    "duration": 14,
    "start_time": "2023-06-03T17:32:16.522Z"
   },
   {
    "duration": 72,
    "start_time": "2023-06-03T17:32:25.223Z"
   },
   {
    "duration": 57,
    "start_time": "2023-06-03T17:32:30.487Z"
   },
   {
    "duration": 3912,
    "start_time": "2023-06-03T17:32:39.904Z"
   },
   {
    "duration": 3651,
    "start_time": "2023-06-03T17:34:01.040Z"
   },
   {
    "duration": 3560,
    "start_time": "2023-06-03T17:34:19.344Z"
   },
   {
    "duration": 3556,
    "start_time": "2023-06-03T17:35:07.441Z"
   },
   {
    "duration": 3201,
    "start_time": "2023-06-03T17:37:36.867Z"
   },
   {
    "duration": 3328,
    "start_time": "2023-06-03T17:38:04.019Z"
   },
   {
    "duration": 3451,
    "start_time": "2023-06-03T17:38:23.215Z"
   },
   {
    "duration": 3551,
    "start_time": "2023-06-03T17:38:34.210Z"
   },
   {
    "duration": 1242,
    "start_time": "2023-06-03T17:38:52.589Z"
   },
   {
    "duration": 61,
    "start_time": "2023-06-03T17:38:53.834Z"
   },
   {
    "duration": 19,
    "start_time": "2023-06-03T17:38:53.896Z"
   },
   {
    "duration": 4,
    "start_time": "2023-06-03T17:38:53.917Z"
   },
   {
    "duration": 5,
    "start_time": "2023-06-03T17:38:53.923Z"
   },
   {
    "duration": 7,
    "start_time": "2023-06-03T17:38:53.929Z"
   },
   {
    "duration": 8,
    "start_time": "2023-06-03T17:38:53.938Z"
   },
   {
    "duration": 22,
    "start_time": "2023-06-03T17:38:53.947Z"
   },
   {
    "duration": 59,
    "start_time": "2023-06-03T17:38:53.971Z"
   },
   {
    "duration": 3640,
    "start_time": "2023-06-03T17:38:54.032Z"
   },
   {
    "duration": 35,
    "start_time": "2023-06-03T17:38:57.675Z"
   },
   {
    "duration": 8,
    "start_time": "2023-06-03T17:38:57.713Z"
   },
   {
    "duration": 7,
    "start_time": "2023-06-03T17:38:57.722Z"
   },
   {
    "duration": 3540,
    "start_time": "2023-06-03T17:39:10.236Z"
   },
   {
    "duration": 53,
    "start_time": "2023-06-03T17:39:28.182Z"
   },
   {
    "duration": 3623,
    "start_time": "2023-06-03T17:39:38.378Z"
   },
   {
    "duration": 23,
    "start_time": "2023-06-03T17:40:32.398Z"
   },
   {
    "duration": 8,
    "start_time": "2023-06-03T17:44:59.241Z"
   },
   {
    "duration": 13,
    "start_time": "2023-06-03T17:45:15.871Z"
   },
   {
    "duration": 6,
    "start_time": "2023-06-03T19:02:35.792Z"
   },
   {
    "duration": 6,
    "start_time": "2023-06-03T19:02:57.476Z"
   },
   {
    "duration": 7,
    "start_time": "2023-06-03T19:03:17.514Z"
   },
   {
    "duration": 5,
    "start_time": "2023-06-03T19:03:29.231Z"
   },
   {
    "duration": 6,
    "start_time": "2023-06-03T19:03:59.291Z"
   },
   {
    "duration": 10,
    "start_time": "2023-06-03T19:04:41.392Z"
   },
   {
    "duration": 14,
    "start_time": "2023-06-03T19:04:53.045Z"
   },
   {
    "duration": 12,
    "start_time": "2023-06-03T19:04:54.618Z"
   },
   {
    "duration": 11,
    "start_time": "2023-06-03T19:05:13.792Z"
   },
   {
    "duration": 7,
    "start_time": "2023-06-03T19:05:29.507Z"
   },
   {
    "duration": 9,
    "start_time": "2023-06-03T19:05:51.877Z"
   },
   {
    "duration": 7,
    "start_time": "2023-06-03T19:05:56.394Z"
   },
   {
    "duration": 3,
    "start_time": "2023-06-03T19:06:03.019Z"
   },
   {
    "duration": 6,
    "start_time": "2023-06-03T19:06:13.898Z"
   },
   {
    "duration": 7,
    "start_time": "2023-06-03T19:06:24.436Z"
   },
   {
    "duration": 6,
    "start_time": "2023-06-03T19:06:29.477Z"
   },
   {
    "duration": 9,
    "start_time": "2023-06-03T19:06:39.107Z"
   },
   {
    "duration": 159,
    "start_time": "2023-06-03T19:08:36.096Z"
   },
   {
    "duration": 6,
    "start_time": "2023-06-03T19:08:38.495Z"
   },
   {
    "duration": 17,
    "start_time": "2023-06-03T19:09:54.382Z"
   },
   {
    "duration": 8,
    "start_time": "2023-06-03T19:11:06.319Z"
   },
   {
    "duration": 27,
    "start_time": "2023-06-03T19:11:09.545Z"
   },
   {
    "duration": 1480,
    "start_time": "2023-06-03T19:11:17.726Z"
   },
   {
    "duration": 49,
    "start_time": "2023-06-03T19:11:19.209Z"
   },
   {
    "duration": 27,
    "start_time": "2023-06-03T19:11:19.268Z"
   },
   {
    "duration": 4,
    "start_time": "2023-06-03T19:11:19.297Z"
   },
   {
    "duration": 4,
    "start_time": "2023-06-03T19:11:19.303Z"
   },
   {
    "duration": 29,
    "start_time": "2023-06-03T19:11:19.308Z"
   },
   {
    "duration": 157,
    "start_time": "2023-06-03T19:11:19.339Z"
   },
   {
    "duration": 0,
    "start_time": "2023-06-03T19:11:19.498Z"
   },
   {
    "duration": 0,
    "start_time": "2023-06-03T19:11:19.500Z"
   },
   {
    "duration": 0,
    "start_time": "2023-06-03T19:11:19.501Z"
   },
   {
    "duration": 0,
    "start_time": "2023-06-03T19:11:19.502Z"
   },
   {
    "duration": 0,
    "start_time": "2023-06-03T19:11:19.503Z"
   },
   {
    "duration": 0,
    "start_time": "2023-06-03T19:11:19.505Z"
   },
   {
    "duration": 0,
    "start_time": "2023-06-03T19:11:19.506Z"
   },
   {
    "duration": 0,
    "start_time": "2023-06-03T19:11:19.507Z"
   },
   {
    "duration": 0,
    "start_time": "2023-06-03T19:11:19.508Z"
   },
   {
    "duration": 0,
    "start_time": "2023-06-03T19:11:19.509Z"
   },
   {
    "duration": 0,
    "start_time": "2023-06-03T19:11:19.511Z"
   },
   {
    "duration": 0,
    "start_time": "2023-06-03T19:11:19.512Z"
   },
   {
    "duration": 17,
    "start_time": "2023-06-03T19:11:27.203Z"
   },
   {
    "duration": 13,
    "start_time": "2023-06-03T19:11:56.694Z"
   },
   {
    "duration": 26,
    "start_time": "2023-06-03T19:12:25.193Z"
   },
   {
    "duration": 36,
    "start_time": "2023-06-03T19:14:20.476Z"
   },
   {
    "duration": 9,
    "start_time": "2023-06-03T19:14:29.983Z"
   },
   {
    "duration": 32,
    "start_time": "2023-06-03T19:14:32.072Z"
   },
   {
    "duration": 24,
    "start_time": "2023-06-03T19:15:29.271Z"
   },
   {
    "duration": 20,
    "start_time": "2023-06-03T19:16:44.471Z"
   },
   {
    "duration": 1291,
    "start_time": "2023-06-03T19:20:39.037Z"
   },
   {
    "duration": 54,
    "start_time": "2023-06-03T19:20:40.329Z"
   },
   {
    "duration": 22,
    "start_time": "2023-06-03T19:20:40.384Z"
   },
   {
    "duration": 4,
    "start_time": "2023-06-03T19:20:40.411Z"
   },
   {
    "duration": 4,
    "start_time": "2023-06-03T19:20:40.416Z"
   },
   {
    "duration": 7,
    "start_time": "2023-06-03T19:20:40.422Z"
   },
   {
    "duration": 153,
    "start_time": "2023-06-03T19:20:40.430Z"
   },
   {
    "duration": 0,
    "start_time": "2023-06-03T19:20:40.585Z"
   },
   {
    "duration": 0,
    "start_time": "2023-06-03T19:20:40.587Z"
   },
   {
    "duration": 0,
    "start_time": "2023-06-03T19:20:40.588Z"
   },
   {
    "duration": 0,
    "start_time": "2023-06-03T19:20:40.589Z"
   },
   {
    "duration": 0,
    "start_time": "2023-06-03T19:20:40.591Z"
   },
   {
    "duration": 0,
    "start_time": "2023-06-03T19:20:40.592Z"
   },
   {
    "duration": 0,
    "start_time": "2023-06-03T19:20:40.593Z"
   },
   {
    "duration": 0,
    "start_time": "2023-06-03T19:20:40.595Z"
   },
   {
    "duration": 0,
    "start_time": "2023-06-03T19:20:40.596Z"
   },
   {
    "duration": 0,
    "start_time": "2023-06-03T19:20:40.598Z"
   },
   {
    "duration": 0,
    "start_time": "2023-06-03T19:20:40.599Z"
   },
   {
    "duration": 0,
    "start_time": "2023-06-03T19:20:40.600Z"
   },
   {
    "duration": 9,
    "start_time": "2023-06-03T19:20:47.758Z"
   },
   {
    "duration": 30,
    "start_time": "2023-06-03T19:20:48.576Z"
   },
   {
    "duration": 8,
    "start_time": "2023-06-03T19:21:04.545Z"
   },
   {
    "duration": 7,
    "start_time": "2023-06-03T19:21:09.107Z"
   },
   {
    "duration": 5,
    "start_time": "2023-06-03T19:21:09.902Z"
   },
   {
    "duration": 6,
    "start_time": "2023-06-03T19:21:14.324Z"
   },
   {
    "duration": 7,
    "start_time": "2023-06-03T19:21:25.201Z"
   },
   {
    "duration": 8,
    "start_time": "2023-06-03T19:21:26.975Z"
   },
   {
    "duration": 3,
    "start_time": "2023-06-03T19:21:29.072Z"
   },
   {
    "duration": 9,
    "start_time": "2023-06-03T19:21:30.842Z"
   },
   {
    "duration": 17,
    "start_time": "2023-06-03T19:21:37.288Z"
   },
   {
    "duration": 11,
    "start_time": "2023-06-03T19:22:07.172Z"
   },
   {
    "duration": 8,
    "start_time": "2023-06-03T19:22:07.700Z"
   },
   {
    "duration": 4,
    "start_time": "2023-06-03T19:22:09.368Z"
   },
   {
    "duration": 7,
    "start_time": "2023-06-03T19:22:09.994Z"
   },
   {
    "duration": 4,
    "start_time": "2023-06-03T19:22:11.817Z"
   },
   {
    "duration": 8,
    "start_time": "2023-06-03T19:22:13.189Z"
   },
   {
    "duration": 4,
    "start_time": "2023-06-03T19:22:14.910Z"
   },
   {
    "duration": 4,
    "start_time": "2023-06-03T19:22:20.042Z"
   },
   {
    "duration": 7,
    "start_time": "2023-06-03T19:22:21.284Z"
   },
   {
    "duration": 1511,
    "start_time": "2023-06-03T19:22:28.327Z"
   },
   {
    "duration": 61,
    "start_time": "2023-06-03T19:22:29.841Z"
   },
   {
    "duration": 34,
    "start_time": "2023-06-03T19:22:29.911Z"
   },
   {
    "duration": 14,
    "start_time": "2023-06-03T19:22:29.948Z"
   },
   {
    "duration": 8,
    "start_time": "2023-06-03T19:22:29.965Z"
   },
   {
    "duration": 12,
    "start_time": "2023-06-03T19:22:29.975Z"
   },
   {
    "duration": 6,
    "start_time": "2023-06-03T19:22:29.989Z"
   },
   {
    "duration": 10,
    "start_time": "2023-06-03T19:22:29.996Z"
   },
   {
    "duration": 37,
    "start_time": "2023-06-03T19:22:30.008Z"
   },
   {
    "duration": 101,
    "start_time": "2023-06-03T19:22:30.052Z"
   },
   {
    "duration": 36,
    "start_time": "2023-06-03T19:22:30.157Z"
   },
   {
    "duration": 43,
    "start_time": "2023-06-03T19:22:30.196Z"
   },
   {
    "duration": 42,
    "start_time": "2023-06-03T19:22:30.241Z"
   },
   {
    "duration": 39,
    "start_time": "2023-06-03T19:22:30.285Z"
   },
   {
    "duration": 116,
    "start_time": "2023-06-03T19:22:30.327Z"
   },
   {
    "duration": 6106,
    "start_time": "2023-06-03T19:22:30.445Z"
   },
   {
    "duration": 30,
    "start_time": "2023-06-03T19:22:36.553Z"
   },
   {
    "duration": 11,
    "start_time": "2023-06-03T19:22:36.585Z"
   },
   {
    "duration": 20,
    "start_time": "2023-06-03T19:22:36.603Z"
   },
   {
    "duration": 15,
    "start_time": "2023-06-03T19:23:01.748Z"
   },
   {
    "duration": 4,
    "start_time": "2023-06-03T19:23:07.000Z"
   },
   {
    "duration": 6,
    "start_time": "2023-06-03T19:23:09.808Z"
   },
   {
    "duration": 6,
    "start_time": "2023-06-03T19:23:10.884Z"
   },
   {
    "duration": 5,
    "start_time": "2023-06-03T19:23:12.243Z"
   },
   {
    "duration": 5,
    "start_time": "2023-06-03T19:23:17.315Z"
   },
   {
    "duration": 8,
    "start_time": "2023-06-03T19:23:18.607Z"
   },
   {
    "duration": 153,
    "start_time": "2023-06-03T19:25:03.123Z"
   },
   {
    "duration": 9,
    "start_time": "2023-06-03T19:30:53.200Z"
   },
   {
    "duration": 12,
    "start_time": "2023-06-03T19:30:55.992Z"
   },
   {
    "duration": 7,
    "start_time": "2023-06-03T19:30:58.703Z"
   },
   {
    "duration": 5,
    "start_time": "2023-06-03T19:31:00.084Z"
   },
   {
    "duration": 5,
    "start_time": "2023-06-03T19:31:01.129Z"
   },
   {
    "duration": 1707,
    "start_time": "2023-06-03T19:31:07.844Z"
   },
   {
    "duration": 59,
    "start_time": "2023-06-03T19:31:09.558Z"
   },
   {
    "duration": 27,
    "start_time": "2023-06-03T19:31:09.623Z"
   },
   {
    "duration": 11,
    "start_time": "2023-06-03T19:31:09.654Z"
   },
   {
    "duration": 4,
    "start_time": "2023-06-03T19:31:09.672Z"
   },
   {
    "duration": 12,
    "start_time": "2023-06-03T19:31:09.683Z"
   },
   {
    "duration": 8,
    "start_time": "2023-06-03T19:31:09.701Z"
   },
   {
    "duration": 11,
    "start_time": "2023-06-03T19:31:09.715Z"
   },
   {
    "duration": 8,
    "start_time": "2023-06-03T19:31:09.728Z"
   },
   {
    "duration": 5,
    "start_time": "2023-06-03T19:31:09.739Z"
   },
   {
    "duration": 7,
    "start_time": "2023-06-03T19:31:09.747Z"
   },
   {
    "duration": 5,
    "start_time": "2023-06-03T19:31:09.756Z"
   },
   {
    "duration": 5,
    "start_time": "2023-06-03T19:31:09.764Z"
   },
   {
    "duration": 28,
    "start_time": "2023-06-03T19:31:09.773Z"
   },
   {
    "duration": 159,
    "start_time": "2023-06-03T19:31:09.803Z"
   },
   {
    "duration": 6370,
    "start_time": "2023-06-03T19:31:09.976Z"
   },
   {
    "duration": 26,
    "start_time": "2023-06-03T19:31:16.358Z"
   },
   {
    "duration": 9,
    "start_time": "2023-06-03T19:31:16.387Z"
   },
   {
    "duration": 12,
    "start_time": "2023-06-03T19:31:16.400Z"
   },
   {
    "duration": 9,
    "start_time": "2023-06-03T19:33:00.339Z"
   },
   {
    "duration": 7,
    "start_time": "2023-06-03T19:33:48.871Z"
   },
   {
    "duration": 17,
    "start_time": "2023-06-03T19:34:04.201Z"
   },
   {
    "duration": 11,
    "start_time": "2023-06-03T19:34:23.792Z"
   },
   {
    "duration": 11,
    "start_time": "2023-06-03T19:34:41.131Z"
   },
   {
    "duration": 27,
    "start_time": "2023-06-03T19:35:04.459Z"
   },
   {
    "duration": 12,
    "start_time": "2023-06-03T19:36:06.627Z"
   },
   {
    "duration": 7,
    "start_time": "2023-06-03T19:43:13.628Z"
   },
   {
    "duration": 14,
    "start_time": "2023-06-03T19:43:14.467Z"
   },
   {
    "duration": 12,
    "start_time": "2023-06-03T19:43:47.684Z"
   },
   {
    "duration": 7,
    "start_time": "2023-06-03T19:43:48.105Z"
   },
   {
    "duration": 3,
    "start_time": "2023-06-03T19:43:48.879Z"
   },
   {
    "duration": 23,
    "start_time": "2023-06-03T19:43:59.287Z"
   },
   {
    "duration": 95,
    "start_time": "2023-06-03T19:48:08.528Z"
   },
   {
    "duration": 547,
    "start_time": "2023-06-03T19:52:22.743Z"
   },
   {
    "duration": 57,
    "start_time": "2023-06-03T19:53:05.281Z"
   },
   {
    "duration": 302,
    "start_time": "2023-06-03T19:54:17.373Z"
   },
   {
    "duration": 267,
    "start_time": "2023-06-03T19:54:49.715Z"
   },
   {
    "duration": 286,
    "start_time": "2023-06-03T19:55:58.594Z"
   },
   {
    "duration": 225,
    "start_time": "2023-06-03T19:57:57.191Z"
   },
   {
    "duration": 432,
    "start_time": "2023-06-03T19:58:22.138Z"
   },
   {
    "duration": 92,
    "start_time": "2023-06-03T19:58:57.924Z"
   },
   {
    "duration": 133,
    "start_time": "2023-06-03T20:00:37.289Z"
   },
   {
    "duration": 314,
    "start_time": "2023-06-03T20:02:02.413Z"
   },
   {
    "duration": 29,
    "start_time": "2023-06-03T20:02:04.190Z"
   },
   {
    "duration": 5298,
    "start_time": "2023-06-03T20:02:31.339Z"
   },
   {
    "duration": 5802,
    "start_time": "2023-06-03T20:02:44.140Z"
   },
   {
    "duration": 10,
    "start_time": "2023-06-03T20:03:28.303Z"
   },
   {
    "duration": 5462,
    "start_time": "2023-06-03T20:03:36.702Z"
   },
   {
    "duration": 44,
    "start_time": "2023-06-03T20:03:50.267Z"
   },
   {
    "duration": 95,
    "start_time": "2023-06-03T20:09:21.736Z"
   },
   {
    "duration": 76,
    "start_time": "2023-06-03T20:18:09.943Z"
   },
   {
    "duration": 86702,
    "start_time": "2023-06-03T20:18:25.179Z"
   },
   {
    "duration": 65,
    "start_time": "2023-06-03T20:24:19.611Z"
   },
   {
    "duration": 30,
    "start_time": "2023-06-03T20:26:21.754Z"
   },
   {
    "duration": 20,
    "start_time": "2023-06-03T20:28:23.183Z"
   },
   {
    "duration": 24,
    "start_time": "2023-06-03T20:29:29.209Z"
   },
   {
    "duration": 11,
    "start_time": "2023-06-03T20:29:46.171Z"
   },
   {
    "duration": 20,
    "start_time": "2023-06-03T20:35:30.802Z"
   },
   {
    "duration": 1294,
    "start_time": "2023-06-03T20:50:14.887Z"
   },
   {
    "duration": 35,
    "start_time": "2023-06-03T20:50:16.183Z"
   },
   {
    "duration": 13,
    "start_time": "2023-06-03T20:50:16.220Z"
   },
   {
    "duration": 3,
    "start_time": "2023-06-03T20:50:16.235Z"
   },
   {
    "duration": 4,
    "start_time": "2023-06-03T20:50:16.239Z"
   },
   {
    "duration": 7,
    "start_time": "2023-06-03T20:50:16.244Z"
   },
   {
    "duration": 20,
    "start_time": "2023-06-03T20:50:16.252Z"
   },
   {
    "duration": 12,
    "start_time": "2023-06-03T20:50:16.274Z"
   },
   {
    "duration": 18,
    "start_time": "2023-06-03T20:50:16.287Z"
   },
   {
    "duration": 90,
    "start_time": "2023-06-03T20:50:16.307Z"
   },
   {
    "duration": 243,
    "start_time": "2023-06-03T20:50:16.398Z"
   },
   {
    "duration": 4584,
    "start_time": "2023-06-03T20:50:16.643Z"
   },
   {
    "duration": 37,
    "start_time": "2023-06-03T20:50:21.229Z"
   },
   {
    "duration": 22,
    "start_time": "2023-06-03T20:50:21.275Z"
   },
   {
    "duration": 6,
    "start_time": "2023-06-03T20:50:21.298Z"
   }
  ],
  "kernelspec": {
   "display_name": "Python 3 (ipykernel)",
   "language": "python",
   "name": "python3"
  },
  "language_info": {
   "codemirror_mode": {
    "name": "ipython",
    "version": 3
   },
   "file_extension": ".py",
   "mimetype": "text/x-python",
   "name": "python",
   "nbconvert_exporter": "python",
   "pygments_lexer": "ipython3",
   "version": "3.9.5"
  },
  "toc": {
   "base_numbering": 1,
   "nav_menu": {},
   "number_sections": true,
   "sideBar": true,
   "skip_h1_title": true,
   "title_cell": "Table of Contents",
   "title_sidebar": "Contents",
   "toc_cell": false,
   "toc_position": {
    "height": "calc(100% - 180px)",
    "left": "10px",
    "top": "150px",
    "width": "374.391px"
   },
   "toc_section_display": true,
   "toc_window_display": true
  }
 },
 "nbformat": 4,
 "nbformat_minor": 2
}
