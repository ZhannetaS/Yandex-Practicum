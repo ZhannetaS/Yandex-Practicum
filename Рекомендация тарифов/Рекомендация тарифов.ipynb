{
 "cells": [
  {
   "cell_type": "markdown",
   "id": "8026407d",
   "metadata": {},
   "source": [
    "# Рекомендация тарифов\n",
    "\n",
    "# Описание проекта\n",
    "\n",
    "Оператор мобильной связи «Мегалайн» выяснил: многие клиенты пользуются архивными тарифами. Они хотят построить систему, способную проанализировать поведение клиентов и предложить пользователям новый тариф: «Смарт» или «Ультра».В распоряжении данные о поведении клиентов, которые уже перешли на эти тарифы (из проекта курса «Статистический анализ данных»). \n",
    "\n",
    "# Цель\n",
    "\n",
    "Построить модель для задачи классификации, которая выберет подходящий тариф. \n",
    "\n",
    "# Задачи \n",
    "\n",
    "1. Построить модель с максимально большим значением *accuracy*. \n",
    "2. Довести долю правильных ответов по крайней мере до 0.75. \n",
    "3. Проверить *accuracy* на тестовой выборке самостоятельно."
   ]
  },
  {
   "cell_type": "markdown",
   "id": "2b3baabb",
   "metadata": {},
   "source": [
    "## Ознакомление с файлом"
   ]
  },
  {
   "cell_type": "code",
   "execution_count": 1,
   "id": "77027337",
   "metadata": {},
   "outputs": [],
   "source": [
    "import pandas as pd\n",
    "from sklearn.tree import DecisionTreeClassifier \n",
    "from sklearn.ensemble import RandomForestClassifier \n",
    "from sklearn.linear_model import LogisticRegression\n",
    "from sklearn.model_selection import train_test_split \n",
    "from sklearn.metrics import accuracy_score \n",
    "from sklearn.dummy import DummyClassifier\n",
    "import matplotlib.pyplot as plt"
   ]
  },
  {
   "cell_type": "code",
   "execution_count": 2,
   "id": "3a407ed0",
   "metadata": {},
   "outputs": [
    {
     "name": "stdout",
     "output_type": "stream",
     "text": [
      "<class 'pandas.core.frame.DataFrame'>\n",
      "RangeIndex: 3214 entries, 0 to 3213\n",
      "Data columns (total 5 columns):\n",
      " #   Column    Non-Null Count  Dtype  \n",
      "---  ------    --------------  -----  \n",
      " 0   calls     3214 non-null   float64\n",
      " 1   minutes   3214 non-null   float64\n",
      " 2   messages  3214 non-null   float64\n",
      " 3   mb_used   3214 non-null   float64\n",
      " 4   is_ultra  3214 non-null   int64  \n",
      "dtypes: float64(4), int64(1)\n",
      "memory usage: 125.7 KB\n"
     ]
    }
   ],
   "source": [
    "df = pd.read_csv('/datasets/users_behavior.csv')\n",
    "df.info()"
   ]
  },
  {
   "cell_type": "code",
   "execution_count": 3,
   "id": "47532a61",
   "metadata": {},
   "outputs": [
    {
     "data": {
      "text/html": [
       "<div>\n",
       "<style scoped>\n",
       "    .dataframe tbody tr th:only-of-type {\n",
       "        vertical-align: middle;\n",
       "    }\n",
       "\n",
       "    .dataframe tbody tr th {\n",
       "        vertical-align: top;\n",
       "    }\n",
       "\n",
       "    .dataframe thead th {\n",
       "        text-align: right;\n",
       "    }\n",
       "</style>\n",
       "<table border=\"1\" class=\"dataframe\">\n",
       "  <thead>\n",
       "    <tr style=\"text-align: right;\">\n",
       "      <th></th>\n",
       "      <th>calls</th>\n",
       "      <th>minutes</th>\n",
       "      <th>messages</th>\n",
       "      <th>mb_used</th>\n",
       "      <th>is_ultra</th>\n",
       "    </tr>\n",
       "  </thead>\n",
       "  <tbody>\n",
       "    <tr>\n",
       "      <th>0</th>\n",
       "      <td>40.0</td>\n",
       "      <td>311.90</td>\n",
       "      <td>83.0</td>\n",
       "      <td>19915.42</td>\n",
       "      <td>0</td>\n",
       "    </tr>\n",
       "    <tr>\n",
       "      <th>1</th>\n",
       "      <td>85.0</td>\n",
       "      <td>516.75</td>\n",
       "      <td>56.0</td>\n",
       "      <td>22696.96</td>\n",
       "      <td>0</td>\n",
       "    </tr>\n",
       "    <tr>\n",
       "      <th>2</th>\n",
       "      <td>77.0</td>\n",
       "      <td>467.66</td>\n",
       "      <td>86.0</td>\n",
       "      <td>21060.45</td>\n",
       "      <td>0</td>\n",
       "    </tr>\n",
       "    <tr>\n",
       "      <th>3</th>\n",
       "      <td>106.0</td>\n",
       "      <td>745.53</td>\n",
       "      <td>81.0</td>\n",
       "      <td>8437.39</td>\n",
       "      <td>1</td>\n",
       "    </tr>\n",
       "    <tr>\n",
       "      <th>4</th>\n",
       "      <td>66.0</td>\n",
       "      <td>418.74</td>\n",
       "      <td>1.0</td>\n",
       "      <td>14502.75</td>\n",
       "      <td>0</td>\n",
       "    </tr>\n",
       "    <tr>\n",
       "      <th>5</th>\n",
       "      <td>58.0</td>\n",
       "      <td>344.56</td>\n",
       "      <td>21.0</td>\n",
       "      <td>15823.37</td>\n",
       "      <td>0</td>\n",
       "    </tr>\n",
       "    <tr>\n",
       "      <th>6</th>\n",
       "      <td>57.0</td>\n",
       "      <td>431.64</td>\n",
       "      <td>20.0</td>\n",
       "      <td>3738.90</td>\n",
       "      <td>1</td>\n",
       "    </tr>\n",
       "    <tr>\n",
       "      <th>7</th>\n",
       "      <td>15.0</td>\n",
       "      <td>132.40</td>\n",
       "      <td>6.0</td>\n",
       "      <td>21911.60</td>\n",
       "      <td>0</td>\n",
       "    </tr>\n",
       "    <tr>\n",
       "      <th>8</th>\n",
       "      <td>7.0</td>\n",
       "      <td>43.39</td>\n",
       "      <td>3.0</td>\n",
       "      <td>2538.67</td>\n",
       "      <td>1</td>\n",
       "    </tr>\n",
       "    <tr>\n",
       "      <th>9</th>\n",
       "      <td>90.0</td>\n",
       "      <td>665.41</td>\n",
       "      <td>38.0</td>\n",
       "      <td>17358.61</td>\n",
       "      <td>0</td>\n",
       "    </tr>\n",
       "  </tbody>\n",
       "</table>\n",
       "</div>"
      ],
      "text/plain": [
       "   calls  minutes  messages   mb_used  is_ultra\n",
       "0   40.0   311.90      83.0  19915.42         0\n",
       "1   85.0   516.75      56.0  22696.96         0\n",
       "2   77.0   467.66      86.0  21060.45         0\n",
       "3  106.0   745.53      81.0   8437.39         1\n",
       "4   66.0   418.74       1.0  14502.75         0\n",
       "5   58.0   344.56      21.0  15823.37         0\n",
       "6   57.0   431.64      20.0   3738.90         1\n",
       "7   15.0   132.40       6.0  21911.60         0\n",
       "8    7.0    43.39       3.0   2538.67         1\n",
       "9   90.0   665.41      38.0  17358.61         0"
      ]
     },
     "execution_count": 3,
     "metadata": {},
     "output_type": "execute_result"
    }
   ],
   "source": [
    "df.head(10)"
   ]
  },
  {
   "cell_type": "markdown",
   "id": "d5c98d73",
   "metadata": {},
   "source": [
    "## Разбиение данных на выборки\n",
    "\n",
    "В задаче целевым признаком, который нужно предсказать является столбец 'is_ultra'. В наборе данных о клиентах, значений в этом столбце всего два, каким тарифом пользовался в течение месяца, - «Ультра» — 1, «Смарт» — 0, поэтому предстоит решить задачу классификации. Сохраним обучающие признаки в переменной features, целевой признак в переменной target и объявим их:"
   ]
  },
  {
   "cell_type": "code",
   "execution_count": 4,
   "id": "8e19afd5",
   "metadata": {},
   "outputs": [],
   "source": [
    "features = df.drop(['is_ultra'], axis=1)"
   ]
  },
  {
   "cell_type": "code",
   "execution_count": 5,
   "id": "972184e0",
   "metadata": {},
   "outputs": [],
   "source": [
    "target = df['is_ultra']"
   ]
  },
  {
   "cell_type": "markdown",
   "id": "94d1f39c",
   "metadata": {},
   "source": [
    "Разделим весь набор данных один раз для выделения обучающей выборки - 70% для обучения и временно назначаем остаток для тестирования. Затем еще раз, чтобы разбить оставшиеся данные поровну на датасеты для тестирования и валидации. Для пропорциональности классов при разделении на обучающий и проверяющий датасеты будем использовать параметр stratify функции train_test_split. "
   ]
  },
  {
   "cell_type": "code",
   "execution_count": 6,
   "id": "5a087e1a",
   "metadata": {},
   "outputs": [],
   "source": [
    "features_train, features_test, target_train, target_test = train_test_split(\n",
    "    features, target, train_size=0.7, random_state=12345, stratify=target)"
   ]
  },
  {
   "cell_type": "code",
   "execution_count": 7,
   "id": "938de133",
   "metadata": {},
   "outputs": [],
   "source": [
    "features_test, features_valid, target_test, target_valid = train_test_split(\n",
    "    features_test, target_test, train_size=0.5, random_state=12345, stratify=target_test)"
   ]
  },
  {
   "cell_type": "code",
   "execution_count": 8,
   "id": "045a4d73",
   "metadata": {},
   "outputs": [
    {
     "data": {
      "text/plain": [
       "(2249, 4)"
      ]
     },
     "metadata": {},
     "output_type": "display_data"
    },
    {
     "data": {
      "text/plain": [
       "(2249,)"
      ]
     },
     "metadata": {},
     "output_type": "display_data"
    },
    {
     "data": {
      "text/plain": [
       "(482, 4)"
      ]
     },
     "metadata": {},
     "output_type": "display_data"
    },
    {
     "data": {
      "text/plain": [
       "(482,)"
      ]
     },
     "metadata": {},
     "output_type": "display_data"
    },
    {
     "data": {
      "text/plain": [
       "(483, 4)"
      ]
     },
     "metadata": {},
     "output_type": "display_data"
    },
    {
     "data": {
      "text/plain": [
       "(483,)"
      ]
     },
     "metadata": {},
     "output_type": "display_data"
    }
   ],
   "source": [
    "display(\n",
    "    features_train.shape, \n",
    "    target_train.shape, \n",
    "    features_test.shape, \n",
    "    target_test.shape,\n",
    "    features_valid.shape, \n",
    "    target_valid.shape)"
   ]
  },
  {
   "cell_type": "markdown",
   "id": "977c8a72",
   "metadata": {},
   "source": [
    "## Исследоваие модели\n",
    "\n",
    "Для задач классификации рассмотрим 3 модели и выберем модель с максимально большим значением accuracy:"
   ]
  },
  {
   "cell_type": "markdown",
   "id": "05fe4a32",
   "metadata": {},
   "source": [
    "### Дерево решений:\n"
   ]
  },
  {
   "cell_type": "code",
   "execution_count": 9,
   "id": "ea8591bd",
   "metadata": {},
   "outputs": [
    {
     "name": "stdout",
     "output_type": "stream",
     "text": [
      "Accuracy\n",
      "Обучающая выборка: 1.0\n",
      "Валидационная выборка: 0.7391304347826086\n"
     ]
    }
   ],
   "source": [
    "model = DecisionTreeClassifier(random_state = 12345)\n",
    "model.fit(features_train, target_train);\n",
    "train_predictions = model.predict(features_train)\n",
    "valid_predictions = model.predict(features_valid)\n",
    "accuracy = accuracy_score(target_train, train_predictions) \n",
    "accuracy_valid = accuracy_score(target_valid, valid_predictions) \n",
    "print(\"Accuracy\")\n",
    "print(\"Обучающая выборка:\", accuracy) \n",
    "print(\"Валидационная выборка:\", accuracy_valid)  "
   ]
  },
  {
   "cell_type": "markdown",
   "id": "b0ca3ef2",
   "metadata": {},
   "source": [
    "На обучающей выборке качество модели лучше, мы столкнулись с проблемой переобучения. Чтобы найти баланс между переобучением и недообучением поэкспериментируем с глубиной дерева. Выберем диапазон для глубины от 1 до 10 и проверим при какой глубине дерева точность наибольшая, выведем эти значения."
   ]
  },
  {
   "cell_type": "code",
   "execution_count": 10,
   "id": "0a93e956",
   "metadata": {
    "scrolled": true
   },
   "outputs": [
    {
     "name": "stdout",
     "output_type": "stream",
     "text": [
      "Accuracy лучшей модели: 0.7991718426501035 при глубине дерева: 7\n"
     ]
    }
   ],
   "source": [
    "best_model = None\n",
    "best_result = 0\n",
    "for depth in range(1, 11):\n",
    "    model = DecisionTreeClassifier(random_state=12345, max_depth = depth) \n",
    "    model.fit(features_train, target_train) \n",
    "    predictions = model.predict(features_valid) \n",
    "    result = accuracy_score(target_valid, predictions) \n",
    "    if result > best_result:\n",
    "        best_model = model\n",
    "        best_result = result\n",
    "        max_depth = depth\n",
    "        \n",
    "print(\"Accuracy лучшей модели:\", best_result, 'при глубине дерева:', max_depth)"
   ]
  },
  {
   "cell_type": "code",
   "execution_count": 11,
   "id": "192027f3",
   "metadata": {},
   "outputs": [
    {
     "data": {
      "image/png": "[encoded data removed]",
      "text/plain": [
       "<Figure size 432x288 with 1 Axes>"
      ]
     },
     "metadata": {
      "needs_background": "light"
     },
     "output_type": "display_data"
    }
   ],
   "source": [
    "train_scores = []\n",
    "valid_scores = []\n",
    "\n",
    "for depth in range(1, 11):\n",
    "    model = DecisionTreeClassifier(random_state=12345, max_depth=depth)\n",
    "    model.fit(features_train, target_train)\n",
    "    train_predictions = model.predict(features_train)\n",
    "    train_scores.append(accuracy_score(target_train, train_predictions))\n",
    "    valid_predictions = model.predict(features_valid)\n",
    "    valid_scores.append(accuracy_score(target_valid, valid_predictions))\n",
    "\n",
    "plt.plot(range(1,11), train_scores, label='Train')\n",
    "plt.plot(range(1,11), valid_scores, label='Validation')\n",
    "plt.xlabel('Max Depth')\n",
    "plt.ylabel('Accuracy Score')\n",
    "plt.legend()\n",
    "plt.show()"
   ]
  },
  {
   "cell_type": "markdown",
   "id": "f7939edc",
   "metadata": {},
   "source": [
    "### Случайный лес"
   ]
  },
  {
   "cell_type": "code",
   "execution_count": 12,
   "id": "774a0698",
   "metadata": {},
   "outputs": [
    {
     "name": "stdout",
     "output_type": "stream",
     "text": [
      "Accuracy наилучшей модели на валидационной выборке: 0.8136645962732919 при количестве деревьев: 37 при глубине: 10\n"
     ]
    }
   ],
   "source": [
    "best_model_rf = None\n",
    "best_result = 0\n",
    "for est in range(1, 50): # число деревьев равное состоянию счётчика циклов — est;\n",
    "    model = RandomForestClassifier(random_state=12345, n_estimators=est, max_depth = depth) # обучим модель с заданным количеством деревьев\n",
    "    model.fit(features_train, target_train) # обучим модель на тренировочной выборке\n",
    "    result = model.score(features_valid, target_valid) # посчитаем качество модели на валидационной выборке\n",
    "    if result > best_result:\n",
    "        best_model_rf = model # сохранм наилучшую модель\n",
    "        best_result = result #  сохраним наилучшее значение метрики accuracy на валидационных данных\n",
    "        n_estimators=est\n",
    "        max_depth = depth\n",
    "print(\"Accuracy наилучшей модели на валидационной выборке:\", best_result, 'при количестве деревьев:', n_estimators, \n",
    "      'при глубине:', max_depth)\n"
   ]
  },
  {
   "cell_type": "markdown",
   "id": "41640a12",
   "metadata": {},
   "source": [
    "### Логистическая регрессия"
   ]
  },
  {
   "cell_type": "code",
   "execution_count": 13,
   "id": "23341e7a",
   "metadata": {},
   "outputs": [
    {
     "name": "stdout",
     "output_type": "stream",
     "text": [
      "Accuracy логистической регрессии: 0.7204968944099379\n"
     ]
    }
   ],
   "source": [
    "model = LogisticRegression(random_state=12345, solver='lbfgs', max_iter=1000) \n",
    "model.fit(features_train, target_train) \n",
    "predictions_valid = model.predict(features_valid) \n",
    "print('Accuracy логистической регрессии:', model.score(features_valid, target_valid))"
   ]
  },
  {
   "cell_type": "markdown",
   "id": "84b6a078",
   "metadata": {},
   "source": [
    "### Вывод"
   ]
  },
  {
   "cell_type": "markdown",
   "id": "62c5a41c",
   "metadata": {},
   "source": [
    "Наилучшее качество модели показал случайный лес с accuracy на валидационной выборке: 0.8136645962732919 при количестве деревьев: 37 при глубине: 10"
   ]
  },
  {
   "cell_type": "markdown",
   "id": "205c945a",
   "metadata": {},
   "source": [
    "## Проверка модели на тестовой выборке"
   ]
  },
  {
   "cell_type": "code",
   "execution_count": 14,
   "id": "93343caf",
   "metadata": {},
   "outputs": [
    {
     "name": "stdout",
     "output_type": "stream",
     "text": [
      "Качество наилучшей модели на тестовой выборке: 0.8091286307053942 при количестве деревьев: 37 при глубине: 10\n"
     ]
    }
   ],
   "source": [
    "predictions_test = best_model_rf.predict(features_test) \n",
    "print('Качество наилучшей модели на тестовой выборке:', best_model_rf.score(features_test, target_test), \n",
    "      'при количестве деревьев:', n_estimators, \n",
    "      'при глубине:', max_depth)"
   ]
  },
  {
   "cell_type": "markdown",
   "id": "85e97aad",
   "metadata": {},
   "source": [
    "## Проверка модели на адекватность"
   ]
  },
  {
   "cell_type": "markdown",
   "id": "fc5b128c",
   "metadata": {},
   "source": [
    "Проведем проверку с помощью DummyClassifier(), данная модель будет всегда выдавать самое часто встречающееся значение в целевом признаке вне зависимости от того какие данные ей подаются на вход.  \n",
    "Сравним нашу лучшую модель с данной константной моделью."
   ]
  },
  {
   "cell_type": "code",
   "execution_count": 16,
   "id": "a8385a4c",
   "metadata": {},
   "outputs": [
    {
     "data": {
      "text/plain": [
       "0.6929460580912863"
      ]
     },
     "execution_count": 16,
     "metadata": {},
     "output_type": "execute_result"
    }
   ],
   "source": [
    "dummy_clf = DummyClassifier(strategy=\"most_frequent\")\n",
    "dummy_clf.fit(features_test, target_test)\n",
    "DummyClassifier(strategy='most_frequent')\n",
    "dummy_clf.predict(features_test)\n",
    "dummy_clf.score(features_test, target_test)"
   ]
  },
  {
   "cell_type": "markdown",
   "id": "5570d7af",
   "metadata": {},
   "source": [
    "### Вывод"
   ]
  },
  {
   "cell_type": "markdown",
   "id": "68116f3c",
   "metadata": {},
   "source": [
    "Вывод: Модель показывает лучшие результаты, чем константная, таким образом выбранная нами модель работает лучше, чем случайные предсказания. "
   ]
  },
  {
   "cell_type": "markdown",
   "id": "5f984f47",
   "metadata": {},
   "source": [
    "## Выводы по проекту"
   ]
  },
  {
   "cell_type": "markdown",
   "id": "655e8f26",
   "metadata": {},
   "source": [
    "В ходе исследования были открыты и изучены исходные данные. Для достижения цели исследования данные были разделены на 3 выборки - обучающую, валидационную и тестовую.\n",
    "Проведено исследование нескольких моделей для задачи классификации - дерево решений, случайный лес и логистическая регрессия. Выявлены гиперпараметры, при которых модель имеет наибольшее качество на валидационной выборке:\n",
    "\n",
    "    accuracy дерева решений = 0.7991718426501035 при глубине дерева: 7;\n",
    "    accuracy случайного леса = 0.8136645962732919 при количестве деревьев: 37 при глубине: 10;\n",
    "    accuracy логистической регрессии = 0.7204968944099379 при количестве итераций 1000;\n",
    "    \n",
    "Таким образом, наилучшей моделью, предсказывающей нужный тариф, является **случайный лес**. \n",
    "\n",
    "Модель была проверена на тестовой выборке, где показала близкий результат = 0.8091286307053942, а также проверена на вменяемость с результатом точности предсказания =  0.6929460580912863. Результат говорит о том, что модель работает адекватно и способна предсказать лучше, чем случайная."
   ]
  }
 ],
 "metadata": {
  "ExecuteTimeLog": [
   {
    "duration": 1729,
    "start_time": "2024-10-08T13:07:16.822Z"
   },
   {
    "duration": 87,
    "start_time": "2024-10-08T13:07:32.580Z"
   },
   {
    "duration": 17,
    "start_time": "2024-10-08T13:07:45.258Z"
   },
   {
    "duration": 4,
    "start_time": "2024-10-08T13:09:34.288Z"
   },
   {
    "duration": 5,
    "start_time": "2024-10-08T13:09:46.011Z"
   },
   {
    "duration": 7,
    "start_time": "2024-10-08T13:10:13.092Z"
   },
   {
    "duration": 5,
    "start_time": "2024-10-08T13:10:27.847Z"
   },
   {
    "duration": 9,
    "start_time": "2024-10-08T13:10:55.547Z"
   },
   {
    "duration": 20,
    "start_time": "2024-10-08T13:13:53.068Z"
   },
   {
    "duration": 74,
    "start_time": "2024-10-08T13:17:55.135Z"
   },
   {
    "duration": 264,
    "start_time": "2024-10-08T13:18:54.030Z"
   },
   {
    "duration": 4764,
    "start_time": "2024-10-08T13:19:40.783Z"
   },
   {
    "duration": 23,
    "start_time": "2024-10-08T13:20:16.287Z"
   },
   {
    "duration": 21,
    "start_time": "2024-10-08T13:21:35.528Z"
   },
   {
    "duration": 6,
    "start_time": "2024-10-08T13:22:33.609Z"
   },
   {
    "duration": 6,
    "start_time": "2024-10-08T13:24:22.613Z"
   }
  ],
  "kernelspec": {
   "display_name": "Python 3 (ipykernel)",
   "language": "python",
   "name": "python3"
  },
  "language_info": {
   "codemirror_mode": {
    "name": "ipython",
    "version": 3
   },
   "file_extension": ".py",
   "mimetype": "text/x-python",
   "name": "python",
   "nbconvert_exporter": "python",
   "pygments_lexer": "ipython3",
   "version": "3.9.5"
  },
  "toc": {
   "base_numbering": 1,
   "nav_menu": {},
   "number_sections": true,
   "sideBar": true,
   "skip_h1_title": true,
   "title_cell": "Table of Contents",
   "title_sidebar": "Contents",
   "toc_cell": false,
   "toc_position": {},
   "toc_section_display": true,
   "toc_window_display": true
  }
 },
 "nbformat": 4,
 "nbformat_minor": 5
}
