{
 "cells": [
  {
   "cell_type": "markdown",
   "id": "f7a3550a",
   "metadata": {
    "deletable": false,
    "editable": false,
    "id": "c81daeeb"
   },
   "source": [
    "# Исследование надежности заемщиков\n"
   ]
  },
  {
   "cell_type": "markdown",
   "id": "9f8957f7",
   "metadata": {
    "deletable": false,
    "editable": false,
    "id": "827c20bf"
   },
   "source": [
    "Во второй части проекта вы выполните шаги 3 и 4. Их вручную проверит ревьюер.\n",
    "Чтобы вам не пришлось писать код заново для шагов 1 и 2, мы добавили авторские решения в ячейки с кодом. \n",
    "\n"
   ]
  },
  {
   "cell_type": "markdown",
   "id": "66d799ab",
   "metadata": {
    "deletable": false,
    "editable": false,
    "id": "744d7639"
   },
   "source": [
    "## Откройте таблицу и изучите общую информацию о данных"
   ]
  },
  {
   "cell_type": "markdown",
   "id": "036351a2",
   "metadata": {
    "deletable": false,
    "editable": false,
    "id": "e7a14c31"
   },
   "source": [
    "**Задание 1. Импортируйте библиотеку pandas. Считайте данные из csv-файла в датафрейм и сохраните в переменную `data`. Путь к файлу:**\n",
    "\n",
    "`/datasets/data.csv`"
   ]
  },
  {
   "cell_type": "code",
   "execution_count": 1,
   "id": "feb85315",
   "metadata": {
    "deletable": false,
    "id": "7bcf75c9"
   },
   "outputs": [],
   "source": [
    "import pandas as pd\n",
    "\n",
    "try:\n",
    "    data = pd.read_csv('/datasets/data.csv')\n",
    "except:\n",
    "    data = pd.read_csv('https://code.s3.yandex.net/datasets/data.csv')"
   ]
  },
  {
   "cell_type": "markdown",
   "id": "cd165b8d",
   "metadata": {
    "deletable": false,
    "editable": false,
    "id": "b8038fe3"
   },
   "source": [
    "**Задание 2. Выведите первые 20 строчек датафрейма `data` на экран.**"
   ]
  },
  {
   "cell_type": "code",
   "execution_count": 2,
   "id": "b52f5d62",
   "metadata": {
    "deletable": false,
    "id": "2a7cab99",
    "outputId": "1a8f3ef2-d323-4ec2-ddf7-89670b5944c4"
   },
   "outputs": [
    {
     "data": {
      "text/html": [
       "<div>\n",
       "<style scoped>\n",
       "    .dataframe tbody tr th:only-of-type {\n",
       "        vertical-align: middle;\n",
       "    }\n",
       "\n",
       "    .dataframe tbody tr th {\n",
       "        vertical-align: top;\n",
       "    }\n",
       "\n",
       "    .dataframe thead th {\n",
       "        text-align: right;\n",
       "    }\n",
       "</style>\n",
       "<table border=\"1\" class=\"dataframe\">\n",
       "  <thead>\n",
       "    <tr style=\"text-align: right;\">\n",
       "      <th></th>\n",
       "      <th>children</th>\n",
       "      <th>days_employed</th>\n",
       "      <th>dob_years</th>\n",
       "      <th>education</th>\n",
       "      <th>education_id</th>\n",
       "      <th>family_status</th>\n",
       "      <th>family_status_id</th>\n",
       "      <th>gender</th>\n",
       "      <th>income_type</th>\n",
       "      <th>debt</th>\n",
       "      <th>total_income</th>\n",
       "      <th>purpose</th>\n",
       "    </tr>\n",
       "  </thead>\n",
       "  <tbody>\n",
       "    <tr>\n",
       "      <th>0</th>\n",
       "      <td>1</td>\n",
       "      <td>-8437.673028</td>\n",
       "      <td>42</td>\n",
       "      <td>высшее</td>\n",
       "      <td>0</td>\n",
       "      <td>женат / замужем</td>\n",
       "      <td>0</td>\n",
       "      <td>F</td>\n",
       "      <td>сотрудник</td>\n",
       "      <td>0</td>\n",
       "      <td>253875.639453</td>\n",
       "      <td>покупка жилья</td>\n",
       "    </tr>\n",
       "    <tr>\n",
       "      <th>1</th>\n",
       "      <td>1</td>\n",
       "      <td>-4024.803754</td>\n",
       "      <td>36</td>\n",
       "      <td>среднее</td>\n",
       "      <td>1</td>\n",
       "      <td>женат / замужем</td>\n",
       "      <td>0</td>\n",
       "      <td>F</td>\n",
       "      <td>сотрудник</td>\n",
       "      <td>0</td>\n",
       "      <td>112080.014102</td>\n",
       "      <td>приобретение автомобиля</td>\n",
       "    </tr>\n",
       "    <tr>\n",
       "      <th>2</th>\n",
       "      <td>0</td>\n",
       "      <td>-5623.422610</td>\n",
       "      <td>33</td>\n",
       "      <td>Среднее</td>\n",
       "      <td>1</td>\n",
       "      <td>женат / замужем</td>\n",
       "      <td>0</td>\n",
       "      <td>M</td>\n",
       "      <td>сотрудник</td>\n",
       "      <td>0</td>\n",
       "      <td>145885.952297</td>\n",
       "      <td>покупка жилья</td>\n",
       "    </tr>\n",
       "    <tr>\n",
       "      <th>3</th>\n",
       "      <td>3</td>\n",
       "      <td>-4124.747207</td>\n",
       "      <td>32</td>\n",
       "      <td>среднее</td>\n",
       "      <td>1</td>\n",
       "      <td>женат / замужем</td>\n",
       "      <td>0</td>\n",
       "      <td>M</td>\n",
       "      <td>сотрудник</td>\n",
       "      <td>0</td>\n",
       "      <td>267628.550329</td>\n",
       "      <td>дополнительное образование</td>\n",
       "    </tr>\n",
       "    <tr>\n",
       "      <th>4</th>\n",
       "      <td>0</td>\n",
       "      <td>340266.072047</td>\n",
       "      <td>53</td>\n",
       "      <td>среднее</td>\n",
       "      <td>1</td>\n",
       "      <td>гражданский брак</td>\n",
       "      <td>1</td>\n",
       "      <td>F</td>\n",
       "      <td>пенсионер</td>\n",
       "      <td>0</td>\n",
       "      <td>158616.077870</td>\n",
       "      <td>сыграть свадьбу</td>\n",
       "    </tr>\n",
       "    <tr>\n",
       "      <th>5</th>\n",
       "      <td>0</td>\n",
       "      <td>-926.185831</td>\n",
       "      <td>27</td>\n",
       "      <td>высшее</td>\n",
       "      <td>0</td>\n",
       "      <td>гражданский брак</td>\n",
       "      <td>1</td>\n",
       "      <td>M</td>\n",
       "      <td>компаньон</td>\n",
       "      <td>0</td>\n",
       "      <td>255763.565419</td>\n",
       "      <td>покупка жилья</td>\n",
       "    </tr>\n",
       "    <tr>\n",
       "      <th>6</th>\n",
       "      <td>0</td>\n",
       "      <td>-2879.202052</td>\n",
       "      <td>43</td>\n",
       "      <td>высшее</td>\n",
       "      <td>0</td>\n",
       "      <td>женат / замужем</td>\n",
       "      <td>0</td>\n",
       "      <td>F</td>\n",
       "      <td>компаньон</td>\n",
       "      <td>0</td>\n",
       "      <td>240525.971920</td>\n",
       "      <td>операции с жильем</td>\n",
       "    </tr>\n",
       "    <tr>\n",
       "      <th>7</th>\n",
       "      <td>0</td>\n",
       "      <td>-152.779569</td>\n",
       "      <td>50</td>\n",
       "      <td>СРЕДНЕЕ</td>\n",
       "      <td>1</td>\n",
       "      <td>женат / замужем</td>\n",
       "      <td>0</td>\n",
       "      <td>M</td>\n",
       "      <td>сотрудник</td>\n",
       "      <td>0</td>\n",
       "      <td>135823.934197</td>\n",
       "      <td>образование</td>\n",
       "    </tr>\n",
       "    <tr>\n",
       "      <th>8</th>\n",
       "      <td>2</td>\n",
       "      <td>-6929.865299</td>\n",
       "      <td>35</td>\n",
       "      <td>ВЫСШЕЕ</td>\n",
       "      <td>0</td>\n",
       "      <td>гражданский брак</td>\n",
       "      <td>1</td>\n",
       "      <td>F</td>\n",
       "      <td>сотрудник</td>\n",
       "      <td>0</td>\n",
       "      <td>95856.832424</td>\n",
       "      <td>на проведение свадьбы</td>\n",
       "    </tr>\n",
       "    <tr>\n",
       "      <th>9</th>\n",
       "      <td>0</td>\n",
       "      <td>-2188.756445</td>\n",
       "      <td>41</td>\n",
       "      <td>среднее</td>\n",
       "      <td>1</td>\n",
       "      <td>женат / замужем</td>\n",
       "      <td>0</td>\n",
       "      <td>M</td>\n",
       "      <td>сотрудник</td>\n",
       "      <td>0</td>\n",
       "      <td>144425.938277</td>\n",
       "      <td>покупка жилья для семьи</td>\n",
       "    </tr>\n",
       "    <tr>\n",
       "      <th>10</th>\n",
       "      <td>2</td>\n",
       "      <td>-4171.483647</td>\n",
       "      <td>36</td>\n",
       "      <td>высшее</td>\n",
       "      <td>0</td>\n",
       "      <td>женат / замужем</td>\n",
       "      <td>0</td>\n",
       "      <td>M</td>\n",
       "      <td>компаньон</td>\n",
       "      <td>0</td>\n",
       "      <td>113943.491460</td>\n",
       "      <td>покупка недвижимости</td>\n",
       "    </tr>\n",
       "    <tr>\n",
       "      <th>11</th>\n",
       "      <td>0</td>\n",
       "      <td>-792.701887</td>\n",
       "      <td>40</td>\n",
       "      <td>среднее</td>\n",
       "      <td>1</td>\n",
       "      <td>женат / замужем</td>\n",
       "      <td>0</td>\n",
       "      <td>F</td>\n",
       "      <td>сотрудник</td>\n",
       "      <td>0</td>\n",
       "      <td>77069.234271</td>\n",
       "      <td>покупка коммерческой недвижимости</td>\n",
       "    </tr>\n",
       "    <tr>\n",
       "      <th>12</th>\n",
       "      <td>0</td>\n",
       "      <td>NaN</td>\n",
       "      <td>65</td>\n",
       "      <td>среднее</td>\n",
       "      <td>1</td>\n",
       "      <td>гражданский брак</td>\n",
       "      <td>1</td>\n",
       "      <td>M</td>\n",
       "      <td>пенсионер</td>\n",
       "      <td>0</td>\n",
       "      <td>NaN</td>\n",
       "      <td>сыграть свадьбу</td>\n",
       "    </tr>\n",
       "    <tr>\n",
       "      <th>13</th>\n",
       "      <td>0</td>\n",
       "      <td>-1846.641941</td>\n",
       "      <td>54</td>\n",
       "      <td>неоконченное высшее</td>\n",
       "      <td>2</td>\n",
       "      <td>женат / замужем</td>\n",
       "      <td>0</td>\n",
       "      <td>F</td>\n",
       "      <td>сотрудник</td>\n",
       "      <td>0</td>\n",
       "      <td>130458.228857</td>\n",
       "      <td>приобретение автомобиля</td>\n",
       "    </tr>\n",
       "    <tr>\n",
       "      <th>14</th>\n",
       "      <td>0</td>\n",
       "      <td>-1844.956182</td>\n",
       "      <td>56</td>\n",
       "      <td>высшее</td>\n",
       "      <td>0</td>\n",
       "      <td>гражданский брак</td>\n",
       "      <td>1</td>\n",
       "      <td>F</td>\n",
       "      <td>компаньон</td>\n",
       "      <td>1</td>\n",
       "      <td>165127.911772</td>\n",
       "      <td>покупка жилой недвижимости</td>\n",
       "    </tr>\n",
       "    <tr>\n",
       "      <th>15</th>\n",
       "      <td>1</td>\n",
       "      <td>-972.364419</td>\n",
       "      <td>26</td>\n",
       "      <td>среднее</td>\n",
       "      <td>1</td>\n",
       "      <td>женат / замужем</td>\n",
       "      <td>0</td>\n",
       "      <td>F</td>\n",
       "      <td>сотрудник</td>\n",
       "      <td>0</td>\n",
       "      <td>116820.904450</td>\n",
       "      <td>строительство собственной недвижимости</td>\n",
       "    </tr>\n",
       "    <tr>\n",
       "      <th>16</th>\n",
       "      <td>0</td>\n",
       "      <td>-1719.934226</td>\n",
       "      <td>35</td>\n",
       "      <td>среднее</td>\n",
       "      <td>1</td>\n",
       "      <td>женат / замужем</td>\n",
       "      <td>0</td>\n",
       "      <td>F</td>\n",
       "      <td>сотрудник</td>\n",
       "      <td>0</td>\n",
       "      <td>289202.704229</td>\n",
       "      <td>недвижимость</td>\n",
       "    </tr>\n",
       "    <tr>\n",
       "      <th>17</th>\n",
       "      <td>0</td>\n",
       "      <td>-2369.999720</td>\n",
       "      <td>33</td>\n",
       "      <td>высшее</td>\n",
       "      <td>0</td>\n",
       "      <td>гражданский брак</td>\n",
       "      <td>1</td>\n",
       "      <td>M</td>\n",
       "      <td>сотрудник</td>\n",
       "      <td>0</td>\n",
       "      <td>90410.586745</td>\n",
       "      <td>строительство недвижимости</td>\n",
       "    </tr>\n",
       "    <tr>\n",
       "      <th>18</th>\n",
       "      <td>0</td>\n",
       "      <td>400281.136913</td>\n",
       "      <td>53</td>\n",
       "      <td>среднее</td>\n",
       "      <td>1</td>\n",
       "      <td>вдовец / вдова</td>\n",
       "      <td>2</td>\n",
       "      <td>F</td>\n",
       "      <td>пенсионер</td>\n",
       "      <td>0</td>\n",
       "      <td>56823.777243</td>\n",
       "      <td>на покупку подержанного автомобиля</td>\n",
       "    </tr>\n",
       "    <tr>\n",
       "      <th>19</th>\n",
       "      <td>0</td>\n",
       "      <td>-10038.818549</td>\n",
       "      <td>48</td>\n",
       "      <td>СРЕДНЕЕ</td>\n",
       "      <td>1</td>\n",
       "      <td>в разводе</td>\n",
       "      <td>3</td>\n",
       "      <td>F</td>\n",
       "      <td>сотрудник</td>\n",
       "      <td>0</td>\n",
       "      <td>242831.107982</td>\n",
       "      <td>на покупку своего автомобиля</td>\n",
       "    </tr>\n",
       "  </tbody>\n",
       "</table>\n",
       "</div>"
      ],
      "text/plain": [
       "    children  days_employed  dob_years            education  education_id  \\\n",
       "0          1   -8437.673028         42               высшее             0   \n",
       "1          1   -4024.803754         36              среднее             1   \n",
       "2          0   -5623.422610         33              Среднее             1   \n",
       "3          3   -4124.747207         32              среднее             1   \n",
       "4          0  340266.072047         53              среднее             1   \n",
       "5          0    -926.185831         27               высшее             0   \n",
       "6          0   -2879.202052         43               высшее             0   \n",
       "7          0    -152.779569         50              СРЕДНЕЕ             1   \n",
       "8          2   -6929.865299         35               ВЫСШЕЕ             0   \n",
       "9          0   -2188.756445         41              среднее             1   \n",
       "10         2   -4171.483647         36               высшее             0   \n",
       "11         0    -792.701887         40              среднее             1   \n",
       "12         0            NaN         65              среднее             1   \n",
       "13         0   -1846.641941         54  неоконченное высшее             2   \n",
       "14         0   -1844.956182         56               высшее             0   \n",
       "15         1    -972.364419         26              среднее             1   \n",
       "16         0   -1719.934226         35              среднее             1   \n",
       "17         0   -2369.999720         33               высшее             0   \n",
       "18         0  400281.136913         53              среднее             1   \n",
       "19         0  -10038.818549         48              СРЕДНЕЕ             1   \n",
       "\n",
       "       family_status  family_status_id gender income_type  debt  \\\n",
       "0    женат / замужем                 0      F   сотрудник     0   \n",
       "1    женат / замужем                 0      F   сотрудник     0   \n",
       "2    женат / замужем                 0      M   сотрудник     0   \n",
       "3    женат / замужем                 0      M   сотрудник     0   \n",
       "4   гражданский брак                 1      F   пенсионер     0   \n",
       "5   гражданский брак                 1      M   компаньон     0   \n",
       "6    женат / замужем                 0      F   компаньон     0   \n",
       "7    женат / замужем                 0      M   сотрудник     0   \n",
       "8   гражданский брак                 1      F   сотрудник     0   \n",
       "9    женат / замужем                 0      M   сотрудник     0   \n",
       "10   женат / замужем                 0      M   компаньон     0   \n",
       "11   женат / замужем                 0      F   сотрудник     0   \n",
       "12  гражданский брак                 1      M   пенсионер     0   \n",
       "13   женат / замужем                 0      F   сотрудник     0   \n",
       "14  гражданский брак                 1      F   компаньон     1   \n",
       "15   женат / замужем                 0      F   сотрудник     0   \n",
       "16   женат / замужем                 0      F   сотрудник     0   \n",
       "17  гражданский брак                 1      M   сотрудник     0   \n",
       "18    вдовец / вдова                 2      F   пенсионер     0   \n",
       "19         в разводе                 3      F   сотрудник     0   \n",
       "\n",
       "     total_income                                 purpose  \n",
       "0   253875.639453                           покупка жилья  \n",
       "1   112080.014102                 приобретение автомобиля  \n",
       "2   145885.952297                           покупка жилья  \n",
       "3   267628.550329              дополнительное образование  \n",
       "4   158616.077870                         сыграть свадьбу  \n",
       "5   255763.565419                           покупка жилья  \n",
       "6   240525.971920                       операции с жильем  \n",
       "7   135823.934197                             образование  \n",
       "8    95856.832424                   на проведение свадьбы  \n",
       "9   144425.938277                 покупка жилья для семьи  \n",
       "10  113943.491460                    покупка недвижимости  \n",
       "11   77069.234271       покупка коммерческой недвижимости  \n",
       "12            NaN                         сыграть свадьбу  \n",
       "13  130458.228857                 приобретение автомобиля  \n",
       "14  165127.911772              покупка жилой недвижимости  \n",
       "15  116820.904450  строительство собственной недвижимости  \n",
       "16  289202.704229                            недвижимость  \n",
       "17   90410.586745              строительство недвижимости  \n",
       "18   56823.777243      на покупку подержанного автомобиля  \n",
       "19  242831.107982            на покупку своего автомобиля  "
      ]
     },
     "execution_count": 2,
     "metadata": {},
     "output_type": "execute_result"
    }
   ],
   "source": [
    "data.head(20)"
   ]
  },
  {
   "cell_type": "markdown",
   "id": "025788af",
   "metadata": {
    "deletable": false,
    "editable": false,
    "id": "1c12e233"
   },
   "source": [
    "**Задание 3. Выведите основную информацию о датафрейме с помощью метода `info()`.**"
   ]
  },
  {
   "cell_type": "code",
   "execution_count": 3,
   "id": "4def1ecd",
   "metadata": {
    "deletable": false,
    "id": "2b757bca",
    "outputId": "15376089-8dad-46c9-b520-c05248d43158",
    "scrolled": true
   },
   "outputs": [
    {
     "name": "stdout",
     "output_type": "stream",
     "text": [
      "<class 'pandas.core.frame.DataFrame'>\n",
      "RangeIndex: 21525 entries, 0 to 21524\n",
      "Data columns (total 12 columns):\n",
      " #   Column            Non-Null Count  Dtype  \n",
      "---  ------            --------------  -----  \n",
      " 0   children          21525 non-null  int64  \n",
      " 1   days_employed     19351 non-null  float64\n",
      " 2   dob_years         21525 non-null  int64  \n",
      " 3   education         21525 non-null  object \n",
      " 4   education_id      21525 non-null  int64  \n",
      " 5   family_status     21525 non-null  object \n",
      " 6   family_status_id  21525 non-null  int64  \n",
      " 7   gender            21525 non-null  object \n",
      " 8   income_type       21525 non-null  object \n",
      " 9   debt              21525 non-null  int64  \n",
      " 10  total_income      19351 non-null  float64\n",
      " 11  purpose           21525 non-null  object \n",
      "dtypes: float64(2), int64(5), object(5)\n",
      "memory usage: 2.0+ MB\n"
     ]
    }
   ],
   "source": [
    "data.info()"
   ]
  },
  {
   "cell_type": "markdown",
   "id": "401d5dcd",
   "metadata": {
    "deletable": false,
    "editable": false,
    "id": "333ec665"
   },
   "source": [
    "## Предобработка данных"
   ]
  },
  {
   "cell_type": "markdown",
   "id": "0637ef1e",
   "metadata": {
    "deletable": false,
    "editable": false,
    "id": "02d92d53"
   },
   "source": [
    "### Удаление пропусков"
   ]
  },
  {
   "cell_type": "markdown",
   "id": "df782021",
   "metadata": {
    "deletable": false,
    "editable": false,
    "id": "cd84967c"
   },
   "source": [
    "**Задание 4. Выведите количество пропущенных значений для каждого столбца. Используйте комбинацию двух методов.**"
   ]
  },
  {
   "cell_type": "code",
   "execution_count": 4,
   "id": "7f341bc5",
   "metadata": {
    "deletable": false,
    "id": "7f9b2309",
    "outputId": "81f4d817-781c-465c-ed15-91ce4446810d"
   },
   "outputs": [
    {
     "data": {
      "text/plain": [
       "children               0\n",
       "days_employed       2174\n",
       "dob_years              0\n",
       "education              0\n",
       "education_id           0\n",
       "family_status          0\n",
       "family_status_id       0\n",
       "gender                 0\n",
       "income_type            0\n",
       "debt                   0\n",
       "total_income        2174\n",
       "purpose                0\n",
       "dtype: int64"
      ]
     },
     "execution_count": 4,
     "metadata": {},
     "output_type": "execute_result"
    }
   ],
   "source": [
    "data.isna().sum()"
   ]
  },
  {
   "cell_type": "markdown",
   "id": "49a934eb",
   "metadata": {
    "deletable": false,
    "editable": false,
    "id": "db86e27b"
   },
   "source": [
    "**Задание 5. В двух столбцах есть пропущенные значения. Один из них — `days_employed`. Пропуски в этом столбце вы обработаете на следующем этапе. Другой столбец с пропущенными значениями — `total_income` — хранит данные о доходах. На сумму дохода сильнее всего влияет тип занятости, поэтому заполнить пропуски в этом столбце нужно медианным значением по каждому типу из столбца `income_type`. Например, у человека с типом занятости `сотрудник` пропуск в столбце `total_income` должен быть заполнен медианным доходом среди всех записей с тем же типом.**"
   ]
  },
  {
   "cell_type": "code",
   "execution_count": 5,
   "id": "30de17f0",
   "metadata": {
    "deletable": false,
    "id": "42006a93"
   },
   "outputs": [],
   "source": [
    "for t in data['income_type'].unique():\n",
    "    data.loc[(data['income_type'] == t) & (data['total_income'].isna()), 'total_income'] = \\\n",
    "    data.loc[(data['income_type'] == t), 'total_income'].median()"
   ]
  },
  {
   "cell_type": "markdown",
   "id": "3307bc5c",
   "metadata": {
    "deletable": false,
    "editable": false,
    "id": "89da5ece"
   },
   "source": [
    "### Обработка аномальных значений"
   ]
  },
  {
   "cell_type": "markdown",
   "id": "755c6673",
   "metadata": {
    "deletable": false,
    "editable": false,
    "id": "57964554"
   },
   "source": [
    "**Задание 6. В данных могут встречаться артефакты (аномалии) — значения, которые не отражают действительность и появились по какой-то ошибке. таким артефактом будет отрицательное количество дней трудового стажа в столбце `days_employed`. Для реальных данных это нормально. Обработайте значения в этом столбце: замените все отрицательные значения положительными с помощью метода `abs()`.**"
   ]
  },
  {
   "cell_type": "code",
   "execution_count": 6,
   "id": "936ecfbc",
   "metadata": {
    "deletable": false,
    "id": "f6f055bf"
   },
   "outputs": [],
   "source": [
    "data['days_employed'] = data['days_employed'].abs()"
   ]
  },
  {
   "cell_type": "markdown",
   "id": "464c9466",
   "metadata": {
    "deletable": false,
    "editable": false,
    "id": "6107dd2f"
   },
   "source": [
    "**Задание 7. Для каждого типа занятости выведите медианное значение трудового стажа `days_employed` в днях.**"
   ]
  },
  {
   "cell_type": "code",
   "execution_count": 7,
   "id": "9e745e92",
   "metadata": {
    "deletable": false,
    "id": "85a5faf6",
    "outputId": "801ef80e-522b-4668-f34e-565af7432bcf"
   },
   "outputs": [
    {
     "data": {
      "text/plain": [
       "income_type\n",
       "безработный        366413.652744\n",
       "в декрете            3296.759962\n",
       "госслужащий          2689.368353\n",
       "компаньон            1547.382223\n",
       "пенсионер          365213.306266\n",
       "предприниматель       520.848083\n",
       "сотрудник            1574.202821\n",
       "студент               578.751554\n",
       "Name: days_employed, dtype: float64"
      ]
     },
     "execution_count": 7,
     "metadata": {},
     "output_type": "execute_result"
    }
   ],
   "source": [
    "data.groupby('income_type')['days_employed'].agg('median')"
   ]
  },
  {
   "cell_type": "markdown",
   "id": "283b573d",
   "metadata": {
    "deletable": false,
    "editable": false,
    "id": "38d1a030"
   },
   "source": [
    "У двух типов (безработные и пенсионеры) получатся аномально большие значения. Исправить такие значения сложно, поэтому оставьте их как есть. Тем более этот столбец не понадобится вам для исследования."
   ]
  },
  {
   "cell_type": "markdown",
   "id": "0c9c4aed",
   "metadata": {
    "deletable": false,
    "editable": false,
    "id": "d8a9f147"
   },
   "source": [
    "**Задание 8. Выведите перечень уникальных значений столбца `children`.**"
   ]
  },
  {
   "cell_type": "code",
   "execution_count": 8,
   "id": "f0fa783a",
   "metadata": {
    "deletable": false,
    "id": "ef5056eb",
    "outputId": "6975b15c-7f95-4697-d16d-a0c79b657b03"
   },
   "outputs": [
    {
     "data": {
      "text/plain": [
       "array([ 1,  0,  3,  2, -1,  4, 20,  5])"
      ]
     },
     "execution_count": 8,
     "metadata": {},
     "output_type": "execute_result"
    }
   ],
   "source": [
    "data['children'].unique()"
   ]
  },
  {
   "cell_type": "markdown",
   "id": "6884d668",
   "metadata": {
    "deletable": false,
    "editable": false,
    "id": "40b9ebf2"
   },
   "source": [
    "**Задание 9. В столбце `children` есть два аномальных значения. Удалите строки, в которых встречаются такие аномальные значения из датафрейма `data`.**"
   ]
  },
  {
   "cell_type": "code",
   "execution_count": 9,
   "id": "f788ce36",
   "metadata": {
    "deletable": false,
    "id": "3ff9801d"
   },
   "outputs": [],
   "source": [
    "data = data[(data['children'] != -1) & (data['children'] != 20)]"
   ]
  },
  {
   "cell_type": "markdown",
   "id": "e1e920c0",
   "metadata": {
    "deletable": false,
    "editable": false,
    "id": "bbc4d0ce"
   },
   "source": [
    "**Задание 10. Ещё раз выведите перечень уникальных значений столбца `children`, чтобы убедиться, что артефакты удалены.**"
   ]
  },
  {
   "cell_type": "code",
   "execution_count": 10,
   "id": "7970a1af",
   "metadata": {
    "deletable": false,
    "id": "ad4fa8b7",
    "outputId": "b2097101-d49d-44d9-901b-32a65c9463d1"
   },
   "outputs": [
    {
     "data": {
      "text/plain": [
       "array([1, 0, 3, 2, 4, 5])"
      ]
     },
     "execution_count": 10,
     "metadata": {},
     "output_type": "execute_result"
    }
   ],
   "source": [
    "data['children'].unique()"
   ]
  },
  {
   "cell_type": "markdown",
   "id": "088d5155",
   "metadata": {
    "deletable": false,
    "editable": false,
    "id": "75440b63"
   },
   "source": [
    "### Удаление пропусков (продолжение)"
   ]
  },
  {
   "cell_type": "markdown",
   "id": "d210cab5",
   "metadata": {
    "deletable": false,
    "editable": false,
    "id": "f4ea573f"
   },
   "source": [
    "**Задание 11. Заполните пропуски в столбце `days_employed` медианными значениями по каждого типа занятости `income_type`.**"
   ]
  },
  {
   "cell_type": "code",
   "execution_count": 11,
   "id": "ec632b92",
   "metadata": {
    "deletable": false,
    "id": "af6b1a7e"
   },
   "outputs": [],
   "source": [
    "for t in data['income_type'].unique():\n",
    "    data.loc[(data['income_type'] == t) & (data['days_employed'].isna()), 'days_employed'] = \\\n",
    "    data.loc[(data['income_type'] == t), 'days_employed'].median()"
   ]
  },
  {
   "cell_type": "markdown",
   "id": "9f19c9b5",
   "metadata": {
    "deletable": false,
    "editable": false,
    "id": "2753f40d"
   },
   "source": [
    "**Задание 12. Убедитесь, что все пропуски заполнены. Проверьте себя и ещё раз выведите количество пропущенных значений для каждого столбца с помощью двух методов.**"
   ]
  },
  {
   "cell_type": "code",
   "execution_count": 12,
   "id": "bd8841f9",
   "metadata": {
    "deletable": false,
    "id": "55f78bc2",
    "outputId": "8da1e4e1-358e-4e87-98c9-f261bce0a7b2"
   },
   "outputs": [
    {
     "data": {
      "text/plain": [
       "children            0\n",
       "days_employed       0\n",
       "dob_years           0\n",
       "education           0\n",
       "education_id        0\n",
       "family_status       0\n",
       "family_status_id    0\n",
       "gender              0\n",
       "income_type         0\n",
       "debt                0\n",
       "total_income        0\n",
       "purpose             0\n",
       "dtype: int64"
      ]
     },
     "execution_count": 12,
     "metadata": {},
     "output_type": "execute_result"
    }
   ],
   "source": [
    "data.isna().sum()"
   ]
  },
  {
   "cell_type": "markdown",
   "id": "f3d1c800",
   "metadata": {
    "deletable": false,
    "editable": false,
    "id": "ddc81e43"
   },
   "source": [
    "### Изменение типов данных"
   ]
  },
  {
   "cell_type": "markdown",
   "id": "4a79754f",
   "metadata": {
    "deletable": false,
    "editable": false,
    "id": "42d19d24"
   },
   "source": [
    "**Задание 13. Замените вещественный тип данных в столбце `total_income` на целочисленный с помощью метода `astype()`.**"
   ]
  },
  {
   "cell_type": "code",
   "execution_count": 13,
   "id": "7b7ea2b3",
   "metadata": {
    "deletable": false,
    "id": "920b65ad"
   },
   "outputs": [],
   "source": [
    "data['total_income'] = data['total_income'].astype(int)"
   ]
  },
  {
   "cell_type": "markdown",
   "id": "77a2898e",
   "metadata": {
    "deletable": false,
    "editable": false,
    "id": "80c420ba"
   },
   "source": [
    "### Обработка дубликатов"
   ]
  },
  {
   "cell_type": "markdown",
   "id": "ffe8b359",
   "metadata": {
    "deletable": false,
    "editable": false
   },
   "source": [
    "**Задание 14. Обработайте неявные дубликаты в столбце `education`. В этом столбце есть одни и те же значения, но записанные по-разному: с использованием заглавных и строчных букв. Приведите их к нижнему регистру. Проверьте остальные столбцы.**"
   ]
  },
  {
   "cell_type": "code",
   "execution_count": 14,
   "id": "8aa1260f",
   "metadata": {
    "deletable": false
   },
   "outputs": [],
   "source": [
    "data['education'] = data['education'].str.lower()"
   ]
  },
  {
   "cell_type": "markdown",
   "id": "7e62d5e2",
   "metadata": {
    "deletable": false,
    "editable": false,
    "id": "dc587695"
   },
   "source": [
    "**Задание 15. Выведите на экран количество строк-дубликатов в данных. Если такие строки присутствуют, удалите их.**"
   ]
  },
  {
   "cell_type": "code",
   "execution_count": 15,
   "id": "5d7feb0e",
   "metadata": {
    "deletable": false,
    "id": "3ee445e4",
    "outputId": "9684deba-1934-42d1-99e1-cda61740f822"
   },
   "outputs": [
    {
     "data": {
      "text/plain": [
       "71"
      ]
     },
     "execution_count": 15,
     "metadata": {},
     "output_type": "execute_result"
    }
   ],
   "source": [
    "data.duplicated().sum()"
   ]
  },
  {
   "cell_type": "code",
   "execution_count": 16,
   "id": "cd1f3c7f",
   "metadata": {
    "deletable": false,
    "id": "8575fe05"
   },
   "outputs": [],
   "source": [
    "data = data.drop_duplicates()"
   ]
  },
  {
   "cell_type": "markdown",
   "id": "0cebeb29",
   "metadata": {
    "deletable": false,
    "editable": false,
    "id": "9904cf55"
   },
   "source": [
    "### Категоризация данных"
   ]
  },
  {
   "cell_type": "markdown",
   "id": "f4675eee",
   "metadata": {
    "deletable": false,
    "editable": false,
    "id": "72fcc8a2"
   },
   "source": [
    "**Задание 16. На основании диапазонов, указанных ниже, создайте в датафрейме `data` столбец `total_income_category` с категориями:**\n",
    "\n",
    "- 0–30000 — `'E'`;\n",
    "- 30001–50000 — `'D'`;\n",
    "- 50001–200000 — `'C'`;\n",
    "- 200001–1000000 — `'B'`;\n",
    "- 1000001 и выше — `'A'`.\n",
    "\n",
    "\n",
    "**Например, кредитополучателю с доходом 25000 нужно назначить категорию `'E'`, а клиенту, получающему 235000, — `'B'`. Используйте собственную функцию с именем `categorize_income()` и метод `apply()`.**"
   ]
  },
  {
   "cell_type": "code",
   "execution_count": 17,
   "id": "6c02467b",
   "metadata": {
    "deletable": false,
    "id": "e1771346"
   },
   "outputs": [],
   "source": [
    "def categorize_income(income):\n",
    "    try:\n",
    "        if 0 <= income <= 30000:\n",
    "            return 'E'\n",
    "        elif 30001 <= income <= 50000:\n",
    "            return 'D'\n",
    "        elif 50001 <= income <= 200000:\n",
    "            return 'C'\n",
    "        elif 200001 <= income <= 1000000:\n",
    "            return 'B'\n",
    "        elif income >= 1000001:\n",
    "            return 'A'\n",
    "    except:\n",
    "        pass"
   ]
  },
  {
   "cell_type": "code",
   "execution_count": 18,
   "id": "a93e47d6",
   "metadata": {
    "deletable": false,
    "id": "d5f3586d"
   },
   "outputs": [],
   "source": [
    "data['total_income_category'] = data['total_income'].apply(categorize_income)"
   ]
  },
  {
   "cell_type": "markdown",
   "id": "3047479e",
   "metadata": {
    "deletable": false,
    "editable": false,
    "id": "dde49b5c"
   },
   "source": [
    "**Задание 17. Выведите на экран перечень уникальных целей взятия кредита из столбца `purpose`.**"
   ]
  },
  {
   "cell_type": "code",
   "execution_count": 19,
   "id": "3d88c5b3",
   "metadata": {
    "deletable": false,
    "id": "f67ce9b3",
    "outputId": "673c12d9-7d7e-4ae0-9812-c622c89dd244"
   },
   "outputs": [
    {
     "data": {
      "text/plain": [
       "array(['покупка жилья', 'приобретение автомобиля',\n",
       "       'дополнительное образование', 'сыграть свадьбу',\n",
       "       'операции с жильем', 'образование', 'на проведение свадьбы',\n",
       "       'покупка жилья для семьи', 'покупка недвижимости',\n",
       "       'покупка коммерческой недвижимости', 'покупка жилой недвижимости',\n",
       "       'строительство собственной недвижимости', 'недвижимость',\n",
       "       'строительство недвижимости', 'на покупку подержанного автомобиля',\n",
       "       'на покупку своего автомобиля',\n",
       "       'операции с коммерческой недвижимостью',\n",
       "       'строительство жилой недвижимости', 'жилье',\n",
       "       'операции со своей недвижимостью', 'автомобили',\n",
       "       'заняться образованием', 'сделка с подержанным автомобилем',\n",
       "       'получение образования', 'автомобиль', 'свадьба',\n",
       "       'получение дополнительного образования', 'покупка своего жилья',\n",
       "       'операции с недвижимостью', 'получение высшего образования',\n",
       "       'свой автомобиль', 'сделка с автомобилем',\n",
       "       'профильное образование', 'высшее образование',\n",
       "       'покупка жилья для сдачи', 'на покупку автомобиля', 'ремонт жилью',\n",
       "       'заняться высшим образованием'], dtype=object)"
      ]
     },
     "execution_count": 19,
     "metadata": {},
     "output_type": "execute_result"
    }
   ],
   "source": [
    "data['purpose'].unique()"
   ]
  },
  {
   "cell_type": "markdown",
   "id": "31c477da",
   "metadata": {
    "deletable": false,
    "editable": false,
    "id": "85d0aef0"
   },
   "source": [
    "**Задание 18. Создайте функцию, которая на основании данных из столбца `purpose` сформирует новый столбец `purpose_category`, в который войдут следующие категории:**\n",
    "\n",
    "- `'операции с автомобилем'`,\n",
    "- `'операции с недвижимостью'`,\n",
    "- `'проведение свадьбы'`,\n",
    "- `'получение образования'`.\n",
    "\n",
    "**Например, если в столбце `purpose` находится подстрока `'на покупку автомобиля'`, то в столбце `purpose_category` должна появиться строка `'операции с автомобилем'`.**\n",
    "\n",
    "**Используйте собственную функцию с именем `categorize_purpose()` и метод `apply()`. Изучите данные в столбце `purpose` и определите, какие подстроки помогут вам правильно определить категорию.**"
   ]
  },
  {
   "cell_type": "code",
   "execution_count": 20,
   "id": "aaaaac58",
   "metadata": {
    "deletable": false,
    "id": "e149fab4"
   },
   "outputs": [],
   "source": [
    "def categorize_purpose(row):\n",
    "    try:\n",
    "        if 'автом' in row:\n",
    "            return 'операции с автомобилем'\n",
    "        elif 'жил' in row or 'недвиж' in row:\n",
    "            return 'операции с недвижимостью'\n",
    "        elif 'свад' in row:\n",
    "            return 'проведение свадьбы'\n",
    "        elif 'образов' in row:\n",
    "            return 'получение образования'\n",
    "    except:\n",
    "        return 'нет категории'"
   ]
  },
  {
   "cell_type": "code",
   "execution_count": 21,
   "id": "045a8afb",
   "metadata": {
    "deletable": false,
    "id": "bf36e69b"
   },
   "outputs": [
    {
     "name": "stdout",
     "output_type": "stream",
     "text": [
      "<class 'pandas.core.frame.DataFrame'>\n",
      "Int64Index: 21331 entries, 0 to 21524\n",
      "Data columns (total 14 columns):\n",
      " #   Column                 Non-Null Count  Dtype  \n",
      "---  ------                 --------------  -----  \n",
      " 0   children               21331 non-null  int64  \n",
      " 1   days_employed          21331 non-null  float64\n",
      " 2   dob_years              21331 non-null  int64  \n",
      " 3   education              21331 non-null  object \n",
      " 4   education_id           21331 non-null  int64  \n",
      " 5   family_status          21331 non-null  object \n",
      " 6   family_status_id       21331 non-null  int64  \n",
      " 7   gender                 21331 non-null  object \n",
      " 8   income_type            21331 non-null  object \n",
      " 9   debt                   21331 non-null  int64  \n",
      " 10  total_income           21331 non-null  int64  \n",
      " 11  purpose                21331 non-null  object \n",
      " 12  total_income_category  21331 non-null  object \n",
      " 13  purpose_category       21331 non-null  object \n",
      "dtypes: float64(1), int64(6), object(7)\n",
      "memory usage: 2.4+ MB\n"
     ]
    }
   ],
   "source": [
    "data['purpose_category'] = data['purpose'].apply(categorize_purpose)\n",
    "data.info()"
   ]
  },
  {
   "cell_type": "markdown",
   "id": "82f6072b",
   "metadata": {
    "deletable": false,
    "editable": false,
    "id": "09b242bf"
   },
   "source": [
    "### Шаг 3. Исследуйте данные и ответьте на вопросы"
   ]
  },
  {
   "cell_type": "markdown",
   "id": "755e83d0",
   "metadata": {
    "deletable": false,
    "editable": false,
    "id": "c5d66278"
   },
   "source": [
    "#### 3.1 Есть ли зависимость между количеством детей и возвратом кредита в срок?"
   ]
  },
  {
   "cell_type": "code",
   "execution_count": 22,
   "id": "00b5c83a",
   "metadata": {
    "deletable": false,
    "id": "2cacfc4a",
    "scrolled": true
   },
   "outputs": [
    {
     "data": {
      "text/html": [
       "<div>\n",
       "<style scoped>\n",
       "    .dataframe tbody tr th:only-of-type {\n",
       "        vertical-align: middle;\n",
       "    }\n",
       "\n",
       "    .dataframe tbody tr th {\n",
       "        vertical-align: top;\n",
       "    }\n",
       "\n",
       "    .dataframe thead th {\n",
       "        text-align: right;\n",
       "    }\n",
       "</style>\n",
       "<table border=\"1\" class=\"dataframe\">\n",
       "  <thead>\n",
       "    <tr style=\"text-align: right;\">\n",
       "      <th></th>\n",
       "      <th>debt_cnt</th>\n",
       "      <th>debt_mean</th>\n",
       "    </tr>\n",
       "    <tr>\n",
       "      <th>children</th>\n",
       "      <th></th>\n",
       "      <th></th>\n",
       "    </tr>\n",
       "  </thead>\n",
       "  <tbody>\n",
       "    <tr>\n",
       "      <th>0</th>\n",
       "      <td>14091</td>\n",
       "      <td>0.075438</td>\n",
       "    </tr>\n",
       "    <tr>\n",
       "      <th>1</th>\n",
       "      <td>4808</td>\n",
       "      <td>0.092346</td>\n",
       "    </tr>\n",
       "    <tr>\n",
       "      <th>2</th>\n",
       "      <td>2052</td>\n",
       "      <td>0.094542</td>\n",
       "    </tr>\n",
       "    <tr>\n",
       "      <th>3</th>\n",
       "      <td>330</td>\n",
       "      <td>0.081818</td>\n",
       "    </tr>\n",
       "    <tr>\n",
       "      <th>4</th>\n",
       "      <td>41</td>\n",
       "      <td>0.097561</td>\n",
       "    </tr>\n",
       "    <tr>\n",
       "      <th>5</th>\n",
       "      <td>9</td>\n",
       "      <td>0.000000</td>\n",
       "    </tr>\n",
       "  </tbody>\n",
       "</table>\n",
       "</div>"
      ],
      "text/plain": [
       "          debt_cnt  debt_mean\n",
       "children                     \n",
       "0            14091   0.075438\n",
       "1             4808   0.092346\n",
       "2             2052   0.094542\n",
       "3              330   0.081818\n",
       "4               41   0.097561\n",
       "5                9   0.000000"
      ]
     },
     "execution_count": 22,
     "metadata": {},
     "output_type": "execute_result"
    }
   ],
   "source": [
    "# сгруппируем заемщиков по интересующей категории, то есть по кол-ву детей и посчитаем процент имеющих просроченную  \n",
    "# задолженность как среднее по столбцу 'debt', поскольку значения там только из '0' и '1'\n",
    "\n",
    "data_ch = data.groupby('children').agg(debt_cnt=('debt','count'), debt_mean=('debt','mean'))\n",
    "data_ch"
   ]
  },
  {
   "cell_type": "code",
   "execution_count": 23,
   "id": "e2a0b720",
   "metadata": {
    "scrolled": true
   },
   "outputs": [
    {
     "data": {
      "text/html": [
       "<div>\n",
       "<style scoped>\n",
       "    .dataframe tbody tr th:only-of-type {\n",
       "        vertical-align: middle;\n",
       "    }\n",
       "\n",
       "    .dataframe tbody tr th {\n",
       "        vertical-align: top;\n",
       "    }\n",
       "\n",
       "    .dataframe thead th {\n",
       "        text-align: right;\n",
       "    }\n",
       "</style>\n",
       "<table border=\"1\" class=\"dataframe\">\n",
       "  <thead>\n",
       "    <tr style=\"text-align: right;\">\n",
       "      <th></th>\n",
       "      <th>children</th>\n",
       "      <th>debt_mean</th>\n",
       "    </tr>\n",
       "    <tr>\n",
       "      <th>children</th>\n",
       "      <th></th>\n",
       "      <th></th>\n",
       "    </tr>\n",
       "  </thead>\n",
       "  <tbody>\n",
       "    <tr>\n",
       "      <th>0</th>\n",
       "      <td>0</td>\n",
       "      <td>0.075438</td>\n",
       "    </tr>\n",
       "    <tr>\n",
       "      <th>1</th>\n",
       "      <td>1</td>\n",
       "      <td>0.092346</td>\n",
       "    </tr>\n",
       "    <tr>\n",
       "      <th>2</th>\n",
       "      <td>2</td>\n",
       "      <td>0.094542</td>\n",
       "    </tr>\n",
       "    <tr>\n",
       "      <th>3</th>\n",
       "      <td>3</td>\n",
       "      <td>0.081818</td>\n",
       "    </tr>\n",
       "    <tr>\n",
       "      <th>4</th>\n",
       "      <td>4</td>\n",
       "      <td>0.097561</td>\n",
       "    </tr>\n",
       "    <tr>\n",
       "      <th>5</th>\n",
       "      <td>5</td>\n",
       "      <td>0.000000</td>\n",
       "    </tr>\n",
       "  </tbody>\n",
       "</table>\n",
       "</div>"
      ],
      "text/plain": [
       "          children  debt_mean\n",
       "children                     \n",
       "0                0   0.075438\n",
       "1                1   0.092346\n",
       "2                2   0.094542\n",
       "3                3   0.081818\n",
       "4                4   0.097561\n",
       "5                5   0.000000"
      ]
     },
     "execution_count": 23,
     "metadata": {},
     "output_type": "execute_result"
    }
   ],
   "source": [
    "# для удобства создадим отдельную таблицу для двух столбцов - 'children' И 'debt_mean':\n",
    "\n",
    "df = pd.DataFrame({'children':sorted(data['children'].unique()), 'debt_mean': data_ch['debt_mean']})\n",
    "df"
   ]
  },
  {
   "cell_type": "markdown",
   "id": "ee34ec74",
   "metadata": {},
   "source": [
    "    Чтобы наверняка оценить существующую зависимость данных, визуализируем их с помощью scatterplot  и расчитаем коэффициент корреляции. \n",
    "    В таблице есть выброс, данные для 5 детей, для оценки таких данных лучше брать медианное значение, чтобы сильно не исказить статистику. Но для быстроты расчета используем готовый инструмент оценки корреляции данных, но для этого удалим последнюю строку."
   ]
  },
  {
   "cell_type": "code",
   "execution_count": 24,
   "id": "59f1913c",
   "metadata": {},
   "outputs": [],
   "source": [
    "df = df[:-1]"
   ]
  },
  {
   "cell_type": "code",
   "execution_count": 25,
   "id": "d5f98aa6",
   "metadata": {
    "scrolled": true
   },
   "outputs": [
    {
     "data": {
      "text/plain": [
       "<AxesSubplot:xlabel='children', ylabel='debt_mean'>"
      ]
     },
     "execution_count": 25,
     "metadata": {},
     "output_type": "execute_result"
    },
    {
     "data": {
      "image/png": "[encoded data removed]",
      "text/plain": [
       "<Figure size 432x288 with 1 Axes>"
      ]
     },
     "metadata": {
      "needs_background": "light"
     },
     "output_type": "display_data"
    }
   ],
   "source": [
    "df.plot.scatter(x='children', y='debt_mean')"
   ]
  },
  {
   "cell_type": "code",
   "execution_count": 26,
   "id": "11035c53",
   "metadata": {},
   "outputs": [
    {
     "data": {
      "text/plain": [
       "0.5711330411621428"
      ]
     },
     "execution_count": 26,
     "metadata": {},
     "output_type": "execute_result"
    }
   ],
   "source": [
    "# коэффициент корреляции \n",
    "\n",
    "r = df['children'].corr(df['debt_mean'])\n",
    "r"
   ]
  },
  {
   "cell_type": "markdown",
   "id": "8fb7be1e",
   "metadata": {
    "deletable": false,
    "id": "3a6b99ec"
   },
   "source": [
    "**Вывод:** \n",
    "\n",
    "    Коэффициент корреляции данных показывает, что корреляция средняя, то есть явной линейной зависимости не наблюдается. Другими словами количество детей влияет на возврат кредита в срок, но не значительно. "
   ]
  },
  {
   "cell_type": "markdown",
   "id": "81d547eb",
   "metadata": {
    "deletable": false,
    "editable": false,
    "id": "97be82ca"
   },
   "source": [
    "#### 3.2 Есть ли зависимость между семейным положением и возвратом кредита в срок?"
   ]
  },
  {
   "cell_type": "code",
   "execution_count": 27,
   "id": "9801074b",
   "metadata": {
    "deletable": false,
    "id": "dc3f7ee8"
   },
   "outputs": [
    {
     "data": {
      "text/html": [
       "<div>\n",
       "<style scoped>\n",
       "    .dataframe tbody tr th:only-of-type {\n",
       "        vertical-align: middle;\n",
       "    }\n",
       "\n",
       "    .dataframe tbody tr th {\n",
       "        vertical-align: top;\n",
       "    }\n",
       "\n",
       "    .dataframe thead th {\n",
       "        text-align: right;\n",
       "    }\n",
       "</style>\n",
       "<table border=\"1\" class=\"dataframe\">\n",
       "  <thead>\n",
       "    <tr style=\"text-align: right;\">\n",
       "      <th></th>\n",
       "      <th>debt_cnt</th>\n",
       "      <th>debt_mean</th>\n",
       "    </tr>\n",
       "    <tr>\n",
       "      <th>family_status</th>\n",
       "      <th></th>\n",
       "      <th></th>\n",
       "    </tr>\n",
       "  </thead>\n",
       "  <tbody>\n",
       "    <tr>\n",
       "      <th>вдовец / вдова</th>\n",
       "      <td>951</td>\n",
       "      <td>0.066246</td>\n",
       "    </tr>\n",
       "    <tr>\n",
       "      <th>в разводе</th>\n",
       "      <td>1189</td>\n",
       "      <td>0.070648</td>\n",
       "    </tr>\n",
       "    <tr>\n",
       "      <th>женат / замужем</th>\n",
       "      <td>12261</td>\n",
       "      <td>0.075606</td>\n",
       "    </tr>\n",
       "    <tr>\n",
       "      <th>гражданский брак</th>\n",
       "      <td>4134</td>\n",
       "      <td>0.093130</td>\n",
       "    </tr>\n",
       "    <tr>\n",
       "      <th>Не женат / не замужем</th>\n",
       "      <td>2796</td>\n",
       "      <td>0.097639</td>\n",
       "    </tr>\n",
       "  </tbody>\n",
       "</table>\n",
       "</div>"
      ],
      "text/plain": [
       "                       debt_cnt  debt_mean\n",
       "family_status                             \n",
       "вдовец / вдова              951   0.066246\n",
       "в разводе                  1189   0.070648\n",
       "женат / замужем           12261   0.075606\n",
       "гражданский брак           4134   0.093130\n",
       "Не женат / не замужем      2796   0.097639"
      ]
     },
     "execution_count": 27,
     "metadata": {},
     "output_type": "execute_result"
    }
   ],
   "source": [
    "# Ваш код будет здесь. Вы можете создавать новые ячейки.\n",
    "# Аналогичным образом как в п 3.1 сгруппируем данные для семейного статуса:\n",
    "data_fam_stat = data.groupby('family_status').agg(debt_cnt=('debt','count'), debt_mean=('debt','mean'))\n",
    "data_fam_stat.sort_values('debt_mean')"
   ]
  },
  {
   "cell_type": "markdown",
   "id": "aed9f78f",
   "metadata": {
    "deletable": false,
    "id": "1cef7837"
   },
   "source": [
    "**Вывод:** \n",
    "\n",
    "    Стоит отметить, что заемщики в статусе 'Не женат / не замужем' имеют просроченность в выплатах чаще, ровно как и состоящие в гражданском браке. В остальных случаях разница в процентном соотношении должников не велика."
   ]
  },
  {
   "cell_type": "markdown",
   "id": "17f62c0b",
   "metadata": {
    "deletable": false,
    "editable": false,
    "id": "1e8b2fca"
   },
   "source": [
    "#### 3.3 Есть ли зависимость между уровнем дохода и возвратом кредита в срок?"
   ]
  },
  {
   "cell_type": "code",
   "execution_count": 28,
   "id": "795a17b4",
   "metadata": {
    "deletable": false,
    "id": "cd7e3720"
   },
   "outputs": [
    {
     "data": {
      "text/html": [
       "<div>\n",
       "<style scoped>\n",
       "    .dataframe tbody tr th:only-of-type {\n",
       "        vertical-align: middle;\n",
       "    }\n",
       "\n",
       "    .dataframe tbody tr th {\n",
       "        vertical-align: top;\n",
       "    }\n",
       "\n",
       "    .dataframe thead th {\n",
       "        text-align: right;\n",
       "    }\n",
       "</style>\n",
       "<table border=\"1\" class=\"dataframe\">\n",
       "  <thead>\n",
       "    <tr style=\"text-align: right;\">\n",
       "      <th></th>\n",
       "      <th>debt_cnt</th>\n",
       "      <th>debt_mean</th>\n",
       "    </tr>\n",
       "    <tr>\n",
       "      <th>total_income_category</th>\n",
       "      <th></th>\n",
       "      <th></th>\n",
       "    </tr>\n",
       "  </thead>\n",
       "  <tbody>\n",
       "    <tr>\n",
       "      <th>D</th>\n",
       "      <td>349</td>\n",
       "      <td>0.060172</td>\n",
       "    </tr>\n",
       "    <tr>\n",
       "      <th>B</th>\n",
       "      <td>5014</td>\n",
       "      <td>0.070602</td>\n",
       "    </tr>\n",
       "    <tr>\n",
       "      <th>A</th>\n",
       "      <td>25</td>\n",
       "      <td>0.080000</td>\n",
       "    </tr>\n",
       "    <tr>\n",
       "      <th>C</th>\n",
       "      <td>15921</td>\n",
       "      <td>0.084982</td>\n",
       "    </tr>\n",
       "    <tr>\n",
       "      <th>E</th>\n",
       "      <td>22</td>\n",
       "      <td>0.090909</td>\n",
       "    </tr>\n",
       "  </tbody>\n",
       "</table>\n",
       "</div>"
      ],
      "text/plain": [
       "                       debt_cnt  debt_mean\n",
       "total_income_category                     \n",
       "D                           349   0.060172\n",
       "B                          5014   0.070602\n",
       "A                            25   0.080000\n",
       "C                         15921   0.084982\n",
       "E                            22   0.090909"
      ]
     },
     "execution_count": 28,
     "metadata": {},
     "output_type": "execute_result"
    }
   ],
   "source": [
    "# Сгруппируем данные по категории доходов\n",
    "data_inc = data.groupby('total_income_category').agg(debt_cnt=('debt','count'), debt_mean=('debt','mean'))\n",
    "data_inc.sort_values('debt_mean')"
   ]
  },
  {
   "cell_type": "code",
   "execution_count": 29,
   "id": "9c0d77f9",
   "metadata": {},
   "outputs": [
    {
     "data": {
      "text/html": [
       "<div>\n",
       "<style scoped>\n",
       "    .dataframe tbody tr th:only-of-type {\n",
       "        vertical-align: middle;\n",
       "    }\n",
       "\n",
       "    .dataframe tbody tr th {\n",
       "        vertical-align: top;\n",
       "    }\n",
       "\n",
       "    .dataframe thead th {\n",
       "        text-align: right;\n",
       "    }\n",
       "</style>\n",
       "<table border=\"1\" class=\"dataframe\">\n",
       "  <thead>\n",
       "    <tr style=\"text-align: right;\">\n",
       "      <th></th>\n",
       "      <th>total_income_category</th>\n",
       "      <th>debt_mean</th>\n",
       "    </tr>\n",
       "    <tr>\n",
       "      <th>total_income_category</th>\n",
       "      <th></th>\n",
       "      <th></th>\n",
       "    </tr>\n",
       "  </thead>\n",
       "  <tbody>\n",
       "    <tr>\n",
       "      <th>A</th>\n",
       "      <td>A</td>\n",
       "      <td>0.080000</td>\n",
       "    </tr>\n",
       "    <tr>\n",
       "      <th>B</th>\n",
       "      <td>B</td>\n",
       "      <td>0.070602</td>\n",
       "    </tr>\n",
       "    <tr>\n",
       "      <th>C</th>\n",
       "      <td>C</td>\n",
       "      <td>0.084982</td>\n",
       "    </tr>\n",
       "    <tr>\n",
       "      <th>D</th>\n",
       "      <td>D</td>\n",
       "      <td>0.060172</td>\n",
       "    </tr>\n",
       "    <tr>\n",
       "      <th>E</th>\n",
       "      <td>E</td>\n",
       "      <td>0.090909</td>\n",
       "    </tr>\n",
       "  </tbody>\n",
       "</table>\n",
       "</div>"
      ],
      "text/plain": [
       "                      total_income_category  debt_mean\n",
       "total_income_category                                 \n",
       "A                                         A   0.080000\n",
       "B                                         B   0.070602\n",
       "C                                         C   0.084982\n",
       "D                                         D   0.060172\n",
       "E                                         E   0.090909"
      ]
     },
     "execution_count": 29,
     "metadata": {},
     "output_type": "execute_result"
    }
   ],
   "source": [
    "# Для удобства создадим отдельную таблицу для категории доходов и долей должников в каждой из них\n",
    "# Отсортируем категории доходов по убыванию (в алфавитном порядке)\n",
    "df_inc = pd.DataFrame({'total_income_category':sorted(data['total_income_category'].unique()), 'debt_mean': data_inc['debt_mean']})\n",
    "df_inc"
   ]
  },
  {
   "cell_type": "code",
   "execution_count": 30,
   "id": "eb4a5201",
   "metadata": {},
   "outputs": [
    {
     "data": {
      "text/plain": [
       "<AxesSubplot:xlabel='total_income_category', ylabel='debt_mean'>"
      ]
     },
     "execution_count": 30,
     "metadata": {},
     "output_type": "execute_result"
    },
    {
     "data": {
      "image/png": "[encoded data removed]",
      "text/plain": [
       "<Figure size 432x288 with 1 Axes>"
      ]
     },
     "metadata": {
      "needs_background": "light"
     },
     "output_type": "display_data"
    }
   ],
   "source": [
    "# Визуализируем данные\n",
    "df_inc.plot.scatter(x='total_income_category', y='debt_mean')"
   ]
  },
  {
   "cell_type": "markdown",
   "id": "903ba446",
   "metadata": {
    "deletable": false,
    "id": "e8593def"
   },
   "source": [
    "**Вывод:** \n",
    "\n",
    "    На данном этапе рассчитать коэффициент корреляции довольно проблематично, но по визуализируемым данным хорошо видно, что корреляция тут слабая.\n",
    "    Возможно очевидным покажется факт, что малоимущие имеют самый высокий процент просрочек."
   ]
  },
  {
   "cell_type": "markdown",
   "id": "4aeca813",
   "metadata": {
    "deletable": false,
    "editable": false,
    "id": "99ecbd1f"
   },
   "source": [
    "#### 3.4 Как разные цели кредита влияют на его возврат в срок?"
   ]
  },
  {
   "cell_type": "code",
   "execution_count": 32,
   "id": "c385cf77",
   "metadata": {
    "deletable": false,
    "id": "2b687290"
   },
   "outputs": [
    {
     "data": {
      "text/html": [
       "<div>\n",
       "<style scoped>\n",
       "    .dataframe tbody tr th:only-of-type {\n",
       "        vertical-align: middle;\n",
       "    }\n",
       "\n",
       "    .dataframe tbody tr th {\n",
       "        vertical-align: top;\n",
       "    }\n",
       "\n",
       "    .dataframe thead th {\n",
       "        text-align: right;\n",
       "    }\n",
       "</style>\n",
       "<table border=\"1\" class=\"dataframe\">\n",
       "  <thead>\n",
       "    <tr style=\"text-align: right;\">\n",
       "      <th></th>\n",
       "      <th>debt_cnt</th>\n",
       "      <th>debt_mean</th>\n",
       "    </tr>\n",
       "    <tr>\n",
       "      <th>purpose_category</th>\n",
       "      <th></th>\n",
       "      <th></th>\n",
       "    </tr>\n",
       "  </thead>\n",
       "  <tbody>\n",
       "    <tr>\n",
       "      <th>операции с недвижимостью</th>\n",
       "      <td>10751</td>\n",
       "      <td>0.072551</td>\n",
       "    </tr>\n",
       "    <tr>\n",
       "      <th>проведение свадьбы</th>\n",
       "      <td>2313</td>\n",
       "      <td>0.079118</td>\n",
       "    </tr>\n",
       "    <tr>\n",
       "      <th>получение образования</th>\n",
       "      <td>3988</td>\n",
       "      <td>0.092528</td>\n",
       "    </tr>\n",
       "    <tr>\n",
       "      <th>операции с автомобилем</th>\n",
       "      <td>4279</td>\n",
       "      <td>0.093480</td>\n",
       "    </tr>\n",
       "  </tbody>\n",
       "</table>\n",
       "</div>"
      ],
      "text/plain": [
       "                          debt_cnt  debt_mean\n",
       "purpose_category                             \n",
       "операции с недвижимостью     10751   0.072551\n",
       "проведение свадьбы            2313   0.079118\n",
       "получение образования         3988   0.092528\n",
       "операции с автомобилем        4279   0.093480"
      ]
     },
     "execution_count": 32,
     "metadata": {},
     "output_type": "execute_result"
    }
   ],
   "source": [
    "# Ваш код будет здесь. Вы можете создавать новые ячейки.\n",
    "# Сгруппируем данные по категории целей кредитов\n",
    "data_in_purp = data.groupby('purpose_category').agg(debt_cnt=('debt','count'), debt_mean=('debt','mean'))\n",
    "data_in_purp.sort_values('debt_mean')"
   ]
  },
  {
   "cell_type": "markdown",
   "id": "32b221be",
   "metadata": {
    "deletable": false,
    "id": "b4bb2ce6"
   },
   "source": [
    "**Вывод:** \n",
    "\n",
    "    По данным видно, что, например, операции с недвижимостью имееют значительно меньше просрочек, чем операции с автомобилем и получением образования. "
   ]
  },
  {
   "cell_type": "markdown",
   "id": "3989064c",
   "metadata": {
    "deletable": false,
    "editable": false,
    "id": "09c3ac4c"
   },
   "source": [
    "#### 3.5 Приведите возможные причины появления пропусков в исходных данных."
   ]
  },
  {
   "cell_type": "markdown",
   "id": "d85c8ed0",
   "metadata": {
    "deletable": false,
    "id": "9da2ceda"
   },
   "source": [
    "*Ответ:* \n",
    "\n",
    "    Пропуски были в колонках дохода, который напрямую свзан с данными из колонки, отражающих кол-во отработанных дней, которые в свою очередь некорректно отборазились, возможно по общей технологической причине."
   ]
  },
  {
   "cell_type": "markdown",
   "id": "0b42d632",
   "metadata": {
    "deletable": false,
    "editable": false,
    "id": "7b0487d6"
   },
   "source": [
    "#### 3.6 Объясните, почему заполнить пропуски медианным значением — лучшее решение для количественных переменных."
   ]
  },
  {
   "cell_type": "markdown",
   "id": "0dfe439d",
   "metadata": {
    "deletable": false,
    "id": "7ecf2b8e"
   },
   "source": [
    "*Ответ:* \n",
    "\n",
    "    Часто количественные переменные имеют большой разрос и возможно случайные выбросы, среднее арифмитическое в таком случае сильно исказит - недооценит или переоценит стаистические данные."
   ]
  },
  {
   "cell_type": "markdown",
   "id": "3ec70a0f",
   "metadata": {
    "deletable": false,
    "editable": false,
    "id": "6db5255a"
   },
   "source": [
    "### Шаг 4: общий вывод."
   ]
  },
  {
   "cell_type": "markdown",
   "id": "14e50426",
   "metadata": {
    "deletable": false,
    "id": "bad65432"
   },
   "source": [
    "Напишите ваш общий вывод."
   ]
  },
  {
   "cell_type": "markdown",
   "id": "ca86b155",
   "metadata": {},
   "source": [
    "    По результатм проведенного анализа стало заметно, что самое большое количество заемщкиов приходится на операции с недвижимостью, при этом и процент просрочек там довольно низкий. Вторым по востребованности займом являются операции с автомобилем, но процент просрочек там самый высокий. \n",
    "    Стоит отметить, что заемщики, хоть раз состоящие в официальном браке, возвращают долг в срок с небольшим процентом просрочек - в среднем 7,1%, в сравнении с заемщиками, не состоящих в официальном браке - в этой категории высокий процент просроченных платежей, 9,6%.\n",
    "    В случае анализа возврата долга в срок в зависимости от количества детей или количества дохода, довольно сложно выявить явную зависимость в данных, основываясь исключительно на этих переменных и сделать вывод о том, какая категория граждан производит выплаты в срок и отчего это зависит. В данном случае для более точного прогноза возможно потребуется группировка по несколким наиболее значимым признакам и анализ других влияющих и неучтенных факторов для каждой группы."
   ]
  }
 ],
 "metadata": {
  "ExecuteTimeLog": [
   {
    "duration": 65,
    "start_time": "2022-12-04T18:27:31.618Z"
   },
   {
    "duration": 481,
    "start_time": "2022-12-04T18:27:40.623Z"
   },
   {
    "duration": 25,
    "start_time": "2022-12-04T18:27:41.106Z"
   },
   {
    "duration": 16,
    "start_time": "2022-12-04T18:27:41.132Z"
   },
   {
    "duration": 10,
    "start_time": "2022-12-04T18:27:41.150Z"
   },
   {
    "duration": 67,
    "start_time": "2022-12-04T18:27:41.162Z"
   },
   {
    "duration": 4,
    "start_time": "2022-12-04T18:27:41.231Z"
   },
   {
    "duration": 14,
    "start_time": "2022-12-04T18:27:41.237Z"
   },
   {
    "duration": 4,
    "start_time": "2022-12-04T18:27:41.253Z"
   },
   {
    "duration": 10,
    "start_time": "2022-12-04T18:27:41.259Z"
   },
   {
    "duration": 5,
    "start_time": "2022-12-04T18:27:41.272Z"
   },
   {
    "duration": 74,
    "start_time": "2022-12-04T18:27:41.279Z"
   },
   {
    "duration": 10,
    "start_time": "2022-12-04T18:27:41.355Z"
   },
   {
    "duration": 6,
    "start_time": "2022-12-04T18:27:41.367Z"
   },
   {
    "duration": 19,
    "start_time": "2022-12-04T18:27:41.375Z"
   },
   {
    "duration": 27,
    "start_time": "2022-12-04T18:27:41.412Z"
   },
   {
    "duration": 18,
    "start_time": "2022-12-04T18:27:41.441Z"
   },
   {
    "duration": 4,
    "start_time": "2022-12-04T18:27:41.461Z"
   },
   {
    "duration": 12,
    "start_time": "2022-12-04T18:27:41.467Z"
   },
   {
    "duration": 32,
    "start_time": "2022-12-04T18:27:41.481Z"
   },
   {
    "duration": 4,
    "start_time": "2022-12-04T18:27:41.515Z"
   },
   {
    "duration": 19,
    "start_time": "2022-12-04T18:27:41.521Z"
   },
   {
    "duration": 2,
    "start_time": "2022-12-04T18:27:41.543Z"
   },
   {
    "duration": 5,
    "start_time": "2022-12-04T18:27:41.547Z"
   },
   {
    "duration": 3,
    "start_time": "2022-12-04T18:27:41.554Z"
   },
   {
    "duration": 5,
    "start_time": "2022-12-04T18:27:41.559Z"
   },
   {
    "duration": 24,
    "start_time": "2022-12-04T18:32:32.772Z"
   },
   {
    "duration": 15,
    "start_time": "2022-12-04T18:47:08.941Z"
   },
   {
    "duration": 4,
    "start_time": "2022-12-04T18:48:41.545Z"
   },
   {
    "duration": 463,
    "start_time": "2022-12-04T18:49:00.674Z"
   },
   {
    "duration": 25,
    "start_time": "2022-12-04T18:49:01.139Z"
   },
   {
    "duration": 95,
    "start_time": "2022-12-04T18:49:01.166Z"
   },
   {
    "duration": 72,
    "start_time": "2022-12-04T18:49:01.264Z"
   },
   {
    "duration": 98,
    "start_time": "2022-12-04T18:49:01.339Z"
   },
   {
    "duration": 24,
    "start_time": "2022-12-04T18:49:01.439Z"
   },
   {
    "duration": 39,
    "start_time": "2022-12-04T18:49:01.465Z"
   },
   {
    "duration": 95,
    "start_time": "2022-12-04T18:49:01.506Z"
   },
   {
    "duration": 42,
    "start_time": "2022-12-04T18:49:01.603Z"
   },
   {
    "duration": 26,
    "start_time": "2022-12-04T18:49:01.649Z"
   },
   {
    "duration": 59,
    "start_time": "2022-12-04T18:49:01.678Z"
   },
   {
    "duration": 24,
    "start_time": "2022-12-04T18:49:01.739Z"
   },
   {
    "duration": 13,
    "start_time": "2022-12-04T18:49:01.765Z"
   },
   {
    "duration": 22,
    "start_time": "2022-12-04T18:49:01.780Z"
   },
   {
    "duration": 48,
    "start_time": "2022-12-04T18:49:01.804Z"
   },
   {
    "duration": 24,
    "start_time": "2022-12-04T18:49:01.854Z"
   },
   {
    "duration": 6,
    "start_time": "2022-12-04T18:49:01.880Z"
   },
   {
    "duration": 16,
    "start_time": "2022-12-04T18:49:01.887Z"
   },
   {
    "duration": 6,
    "start_time": "2022-12-04T18:49:01.904Z"
   },
   {
    "duration": 12,
    "start_time": "2022-12-04T18:49:01.922Z"
   },
   {
    "duration": 51,
    "start_time": "2022-12-04T18:49:01.936Z"
   },
   {
    "duration": 9,
    "start_time": "2022-12-04T18:49:01.989Z"
   },
   {
    "duration": 6,
    "start_time": "2022-12-04T18:49:02.001Z"
   },
   {
    "duration": 23,
    "start_time": "2022-12-04T18:49:02.009Z"
   },
   {
    "duration": 10,
    "start_time": "2022-12-04T18:49:02.034Z"
   },
   {
    "duration": 77,
    "start_time": "2022-12-04T18:49:33.978Z"
   },
   {
    "duration": 5,
    "start_time": "2022-12-04T18:49:43.781Z"
   },
   {
    "duration": 512,
    "start_time": "2022-12-04T18:49:50.730Z"
   },
   {
    "duration": 28,
    "start_time": "2022-12-04T18:49:51.244Z"
   },
   {
    "duration": 29,
    "start_time": "2022-12-04T18:49:51.274Z"
   },
   {
    "duration": 25,
    "start_time": "2022-12-04T18:49:51.305Z"
   },
   {
    "duration": 88,
    "start_time": "2022-12-04T18:49:51.332Z"
   },
   {
    "duration": 8,
    "start_time": "2022-12-04T18:49:51.422Z"
   },
   {
    "duration": 20,
    "start_time": "2022-12-04T18:49:51.432Z"
   },
   {
    "duration": 11,
    "start_time": "2022-12-04T18:49:51.454Z"
   },
   {
    "duration": 33,
    "start_time": "2022-12-04T18:49:51.468Z"
   },
   {
    "duration": 13,
    "start_time": "2022-12-04T18:49:51.505Z"
   },
   {
    "duration": 62,
    "start_time": "2022-12-04T18:49:51.519Z"
   },
   {
    "duration": 10,
    "start_time": "2022-12-04T18:49:51.583Z"
   },
   {
    "duration": 7,
    "start_time": "2022-12-04T18:49:51.595Z"
   },
   {
    "duration": 16,
    "start_time": "2022-12-04T18:49:51.604Z"
   },
   {
    "duration": 35,
    "start_time": "2022-12-04T18:49:51.623Z"
   },
   {
    "duration": 21,
    "start_time": "2022-12-04T18:49:51.660Z"
   },
   {
    "duration": 4,
    "start_time": "2022-12-04T18:49:51.683Z"
   },
   {
    "duration": 18,
    "start_time": "2022-12-04T18:49:51.688Z"
   },
   {
    "duration": 26,
    "start_time": "2022-12-04T18:49:51.708Z"
   },
   {
    "duration": 10,
    "start_time": "2022-12-04T18:49:51.736Z"
   },
   {
    "duration": 38,
    "start_time": "2022-12-04T18:49:51.748Z"
   },
   {
    "duration": 28,
    "start_time": "2022-12-04T18:49:51.788Z"
   },
   {
    "duration": 31,
    "start_time": "2022-12-04T18:49:51.817Z"
   },
   {
    "duration": 11,
    "start_time": "2022-12-04T18:49:51.851Z"
   },
   {
    "duration": 8,
    "start_time": "2022-12-04T18:49:51.864Z"
   },
   {
    "duration": 4,
    "start_time": "2022-12-04T18:50:03.324Z"
   },
   {
    "duration": 3,
    "start_time": "2022-12-04T18:50:04.985Z"
   },
   {
    "duration": 489,
    "start_time": "2022-12-04T18:50:11.538Z"
   },
   {
    "duration": 22,
    "start_time": "2022-12-04T18:50:12.029Z"
   },
   {
    "duration": 15,
    "start_time": "2022-12-04T18:50:12.052Z"
   },
   {
    "duration": 10,
    "start_time": "2022-12-04T18:50:12.070Z"
   },
   {
    "duration": 50,
    "start_time": "2022-12-04T18:50:12.082Z"
   },
   {
    "duration": 4,
    "start_time": "2022-12-04T18:50:12.133Z"
   },
   {
    "duration": 16,
    "start_time": "2022-12-04T18:50:12.138Z"
   },
   {
    "duration": 4,
    "start_time": "2022-12-04T18:50:12.155Z"
   },
   {
    "duration": 25,
    "start_time": "2022-12-04T18:50:12.161Z"
   },
   {
    "duration": 16,
    "start_time": "2022-12-04T18:50:12.189Z"
   },
   {
    "duration": 40,
    "start_time": "2022-12-04T18:50:12.207Z"
   },
   {
    "duration": 10,
    "start_time": "2022-12-04T18:50:12.248Z"
   },
   {
    "duration": 4,
    "start_time": "2022-12-04T18:50:12.259Z"
   },
   {
    "duration": 12,
    "start_time": "2022-12-04T18:50:12.264Z"
   },
   {
    "duration": 45,
    "start_time": "2022-12-04T18:50:12.278Z"
   },
   {
    "duration": 18,
    "start_time": "2022-12-04T18:50:12.325Z"
   },
   {
    "duration": 4,
    "start_time": "2022-12-04T18:50:12.344Z"
   },
   {
    "duration": 13,
    "start_time": "2022-12-04T18:50:12.349Z"
   },
   {
    "duration": 7,
    "start_time": "2022-12-04T18:50:12.364Z"
   },
   {
    "duration": 5,
    "start_time": "2022-12-04T18:50:12.372Z"
   },
   {
    "duration": 47,
    "start_time": "2022-12-04T18:50:12.378Z"
   },
   {
    "duration": 5,
    "start_time": "2022-12-04T18:50:12.426Z"
   },
   {
    "duration": 5,
    "start_time": "2022-12-04T18:50:12.433Z"
   },
   {
    "duration": 6,
    "start_time": "2022-12-04T18:50:12.440Z"
   },
   {
    "duration": 8,
    "start_time": "2022-12-04T18:50:12.447Z"
   },
   {
    "duration": 3,
    "start_time": "2022-12-04T18:51:42.065Z"
   },
   {
    "duration": 4,
    "start_time": "2022-12-04T18:51:57.362Z"
   },
   {
    "duration": 2,
    "start_time": "2022-12-04T18:52:44.997Z"
   },
   {
    "duration": 69,
    "start_time": "2022-12-04T18:53:00.664Z"
   },
   {
    "duration": 16,
    "start_time": "2022-12-04T18:53:00.735Z"
   },
   {
    "duration": 27,
    "start_time": "2022-12-04T18:53:00.753Z"
   },
   {
    "duration": 40,
    "start_time": "2022-12-04T18:53:00.782Z"
   },
   {
    "duration": 85,
    "start_time": "2022-12-04T18:53:00.823Z"
   },
   {
    "duration": 4,
    "start_time": "2022-12-04T18:53:00.909Z"
   },
   {
    "duration": 48,
    "start_time": "2022-12-04T18:53:00.914Z"
   },
   {
    "duration": 36,
    "start_time": "2022-12-04T18:53:00.964Z"
   },
   {
    "duration": 40,
    "start_time": "2022-12-04T18:53:01.002Z"
   },
   {
    "duration": 32,
    "start_time": "2022-12-04T18:53:01.045Z"
   },
   {
    "duration": 62,
    "start_time": "2022-12-04T18:53:01.078Z"
   },
   {
    "duration": 16,
    "start_time": "2022-12-04T18:53:01.142Z"
   },
   {
    "duration": 23,
    "start_time": "2022-12-04T18:53:01.160Z"
   },
   {
    "duration": 45,
    "start_time": "2022-12-04T18:53:01.185Z"
   },
   {
    "duration": 46,
    "start_time": "2022-12-04T18:53:01.231Z"
   },
   {
    "duration": 31,
    "start_time": "2022-12-04T18:53:01.279Z"
   },
   {
    "duration": 37,
    "start_time": "2022-12-04T18:53:01.312Z"
   },
   {
    "duration": 55,
    "start_time": "2022-12-04T18:53:01.350Z"
   },
   {
    "duration": 80,
    "start_time": "2022-12-04T18:53:01.407Z"
   },
   {
    "duration": 32,
    "start_time": "2022-12-04T18:53:01.488Z"
   },
   {
    "duration": 44,
    "start_time": "2022-12-04T18:53:01.522Z"
   },
   {
    "duration": 17,
    "start_time": "2022-12-04T18:53:01.567Z"
   },
   {
    "duration": 32,
    "start_time": "2022-12-04T18:53:01.585Z"
   },
   {
    "duration": 37,
    "start_time": "2022-12-04T18:53:01.619Z"
   },
   {
    "duration": 29,
    "start_time": "2022-12-04T18:53:01.658Z"
   },
   {
    "duration": 72,
    "start_time": "2022-12-04T18:53:12.004Z"
   },
   {
    "duration": 15,
    "start_time": "2022-12-04T18:53:12.079Z"
   },
   {
    "duration": 18,
    "start_time": "2022-12-04T18:53:12.096Z"
   },
   {
    "duration": 10,
    "start_time": "2022-12-04T18:53:12.116Z"
   },
   {
    "duration": 33,
    "start_time": "2022-12-04T18:53:12.128Z"
   },
   {
    "duration": 3,
    "start_time": "2022-12-04T18:53:12.163Z"
   },
   {
    "duration": 20,
    "start_time": "2022-12-04T18:53:12.168Z"
   },
   {
    "duration": 26,
    "start_time": "2022-12-04T18:53:12.190Z"
   },
   {
    "duration": 9,
    "start_time": "2022-12-04T18:53:12.220Z"
   },
   {
    "duration": 4,
    "start_time": "2022-12-04T18:53:12.232Z"
   },
   {
    "duration": 39,
    "start_time": "2022-12-04T18:53:12.238Z"
   },
   {
    "duration": 9,
    "start_time": "2022-12-04T18:53:12.279Z"
   },
   {
    "duration": 7,
    "start_time": "2022-12-04T18:53:12.290Z"
   },
   {
    "duration": 12,
    "start_time": "2022-12-04T18:53:12.312Z"
   },
   {
    "duration": 24,
    "start_time": "2022-12-04T18:53:12.325Z"
   },
   {
    "duration": 19,
    "start_time": "2022-12-04T18:53:12.351Z"
   },
   {
    "duration": 3,
    "start_time": "2022-12-04T18:53:12.372Z"
   },
   {
    "duration": 15,
    "start_time": "2022-12-04T18:53:12.377Z"
   },
   {
    "duration": 24,
    "start_time": "2022-12-04T18:53:12.394Z"
   },
   {
    "duration": 4,
    "start_time": "2022-12-04T18:53:12.420Z"
   },
   {
    "duration": 28,
    "start_time": "2022-12-04T18:53:12.426Z"
   },
   {
    "duration": 8,
    "start_time": "2022-12-04T18:53:12.456Z"
   },
   {
    "duration": 4,
    "start_time": "2022-12-04T18:53:12.465Z"
   },
   {
    "duration": 5,
    "start_time": "2022-12-04T18:53:12.471Z"
   },
   {
    "duration": 8,
    "start_time": "2022-12-04T18:53:12.477Z"
   },
   {
    "duration": 5,
    "start_time": "2022-12-04T18:56:42.756Z"
   },
   {
    "duration": 71,
    "start_time": "2022-12-04T18:56:45.927Z"
   },
   {
    "duration": 18,
    "start_time": "2022-12-04T18:56:46.000Z"
   },
   {
    "duration": 23,
    "start_time": "2022-12-04T18:56:46.021Z"
   },
   {
    "duration": 15,
    "start_time": "2022-12-04T18:56:46.047Z"
   },
   {
    "duration": 82,
    "start_time": "2022-12-04T18:56:46.065Z"
   },
   {
    "duration": 4,
    "start_time": "2022-12-04T18:56:46.149Z"
   },
   {
    "duration": 13,
    "start_time": "2022-12-04T18:56:46.155Z"
   },
   {
    "duration": 6,
    "start_time": "2022-12-04T18:56:46.170Z"
   },
   {
    "duration": 9,
    "start_time": "2022-12-04T18:56:46.178Z"
   },
   {
    "duration": 27,
    "start_time": "2022-12-04T18:56:46.190Z"
   },
   {
    "duration": 40,
    "start_time": "2022-12-04T18:56:46.219Z"
   },
   {
    "duration": 12,
    "start_time": "2022-12-04T18:56:46.261Z"
   },
   {
    "duration": 6,
    "start_time": "2022-12-04T18:56:46.275Z"
   },
   {
    "duration": 45,
    "start_time": "2022-12-04T18:56:46.283Z"
   },
   {
    "duration": 31,
    "start_time": "2022-12-04T18:56:46.330Z"
   },
   {
    "duration": 26,
    "start_time": "2022-12-04T18:56:46.364Z"
   },
   {
    "duration": 22,
    "start_time": "2022-12-04T18:56:46.391Z"
   },
   {
    "duration": 17,
    "start_time": "2022-12-04T18:56:46.415Z"
   },
   {
    "duration": 13,
    "start_time": "2022-12-04T18:56:46.434Z"
   },
   {
    "duration": 4,
    "start_time": "2022-12-04T18:56:46.449Z"
   },
   {
    "duration": 33,
    "start_time": "2022-12-04T18:56:46.455Z"
   },
   {
    "duration": 7,
    "start_time": "2022-12-04T18:56:46.490Z"
   },
   {
    "duration": 3,
    "start_time": "2022-12-04T18:56:46.513Z"
   },
   {
    "duration": 5,
    "start_time": "2022-12-04T18:56:46.517Z"
   },
   {
    "duration": 6,
    "start_time": "2022-12-04T18:56:46.523Z"
   },
   {
    "duration": 500,
    "start_time": "2022-12-04T18:56:53.449Z"
   },
   {
    "duration": 25,
    "start_time": "2022-12-04T18:56:53.951Z"
   },
   {
    "duration": 16,
    "start_time": "2022-12-04T18:56:53.978Z"
   },
   {
    "duration": 25,
    "start_time": "2022-12-04T18:56:53.996Z"
   },
   {
    "duration": 39,
    "start_time": "2022-12-04T18:56:54.023Z"
   },
   {
    "duration": 4,
    "start_time": "2022-12-04T18:56:54.064Z"
   },
   {
    "duration": 19,
    "start_time": "2022-12-04T18:56:54.070Z"
   },
   {
    "duration": 22,
    "start_time": "2022-12-04T18:56:54.091Z"
   },
   {
    "duration": 12,
    "start_time": "2022-12-04T18:56:54.115Z"
   },
   {
    "duration": 6,
    "start_time": "2022-12-04T18:56:54.130Z"
   },
   {
    "duration": 50,
    "start_time": "2022-12-04T18:56:54.138Z"
   },
   {
    "duration": 28,
    "start_time": "2022-12-04T18:56:54.190Z"
   },
   {
    "duration": 16,
    "start_time": "2022-12-04T18:56:54.220Z"
   },
   {
    "duration": 21,
    "start_time": "2022-12-04T18:56:54.239Z"
   },
   {
    "duration": 25,
    "start_time": "2022-12-04T18:56:54.262Z"
   },
   {
    "duration": 33,
    "start_time": "2022-12-04T18:56:54.289Z"
   },
   {
    "duration": 3,
    "start_time": "2022-12-04T18:56:54.324Z"
   },
   {
    "duration": 43,
    "start_time": "2022-12-04T18:56:54.329Z"
   },
   {
    "duration": 8,
    "start_time": "2022-12-04T18:56:54.374Z"
   },
   {
    "duration": 20,
    "start_time": "2022-12-04T18:56:54.384Z"
   },
   {
    "duration": 61,
    "start_time": "2022-12-04T18:56:54.407Z"
   },
   {
    "duration": 5,
    "start_time": "2022-12-04T18:56:54.470Z"
   },
   {
    "duration": 17,
    "start_time": "2022-12-04T18:56:54.477Z"
   },
   {
    "duration": 20,
    "start_time": "2022-12-04T18:56:54.496Z"
   },
   {
    "duration": 43,
    "start_time": "2022-12-04T18:56:54.518Z"
   },
   {
    "duration": 5,
    "start_time": "2022-12-04T18:57:21.738Z"
   },
   {
    "duration": 527,
    "start_time": "2022-12-04T18:57:27.280Z"
   },
   {
    "duration": 26,
    "start_time": "2022-12-04T18:57:27.808Z"
   },
   {
    "duration": 18,
    "start_time": "2022-12-04T18:57:27.836Z"
   },
   {
    "duration": 10,
    "start_time": "2022-12-04T18:57:27.856Z"
   },
   {
    "duration": 58,
    "start_time": "2022-12-04T18:57:27.868Z"
   },
   {
    "duration": 4,
    "start_time": "2022-12-04T18:57:27.928Z"
   },
   {
    "duration": 10,
    "start_time": "2022-12-04T18:57:27.935Z"
   },
   {
    "duration": 10,
    "start_time": "2022-12-04T18:57:27.947Z"
   },
   {
    "duration": 11,
    "start_time": "2022-12-04T18:57:27.959Z"
   },
   {
    "duration": 4,
    "start_time": "2022-12-04T18:57:27.973Z"
   },
   {
    "duration": 37,
    "start_time": "2022-12-04T18:57:28.011Z"
   },
   {
    "duration": 10,
    "start_time": "2022-12-04T18:57:28.050Z"
   },
   {
    "duration": 14,
    "start_time": "2022-12-04T18:57:28.061Z"
   },
   {
    "duration": 15,
    "start_time": "2022-12-04T18:57:28.077Z"
   },
   {
    "duration": 74,
    "start_time": "2022-12-04T18:57:28.094Z"
   },
   {
    "duration": 21,
    "start_time": "2022-12-04T18:57:28.169Z"
   },
   {
    "duration": 4,
    "start_time": "2022-12-04T18:57:28.192Z"
   },
   {
    "duration": 24,
    "start_time": "2022-12-04T18:57:28.198Z"
   },
   {
    "duration": 15,
    "start_time": "2022-12-04T18:57:28.224Z"
   },
   {
    "duration": 5,
    "start_time": "2022-12-04T18:57:28.241Z"
   },
   {
    "duration": 27,
    "start_time": "2022-12-04T18:57:28.248Z"
   },
   {
    "duration": 7,
    "start_time": "2022-12-04T18:57:28.277Z"
   },
   {
    "duration": 4,
    "start_time": "2022-12-04T18:57:28.286Z"
   },
   {
    "duration": 3,
    "start_time": "2022-12-04T18:57:28.312Z"
   },
   {
    "duration": 7,
    "start_time": "2022-12-04T18:57:28.317Z"
   },
   {
    "duration": 67,
    "start_time": "2022-12-04T18:57:49.468Z"
   },
   {
    "duration": 11,
    "start_time": "2022-12-04T18:58:16.482Z"
   },
   {
    "duration": 9,
    "start_time": "2022-12-04T18:59:59.053Z"
   },
   {
    "duration": 9,
    "start_time": "2022-12-04T19:00:12.270Z"
   },
   {
    "duration": 8,
    "start_time": "2022-12-04T19:17:03.881Z"
   },
   {
    "duration": 9,
    "start_time": "2022-12-04T19:17:13.153Z"
   },
   {
    "duration": 24,
    "start_time": "2022-12-04T19:24:50.568Z"
   },
   {
    "duration": 6,
    "start_time": "2022-12-04T19:29:42.961Z"
   },
   {
    "duration": 14,
    "start_time": "2022-12-04T19:35:34.225Z"
   },
   {
    "duration": 7,
    "start_time": "2022-12-04T19:35:50.468Z"
   },
   {
    "duration": 6,
    "start_time": "2022-12-04T19:37:27.940Z"
   },
   {
    "duration": 17,
    "start_time": "2022-12-04T19:37:51.266Z"
   },
   {
    "duration": 26,
    "start_time": "2022-12-04T19:38:50.231Z"
   },
   {
    "duration": 7,
    "start_time": "2022-12-04T19:41:06.154Z"
   },
   {
    "duration": 12,
    "start_time": "2022-12-04T19:41:31.642Z"
   },
   {
    "duration": 41,
    "start_time": "2022-12-04T19:42:44.761Z"
   },
   {
    "duration": 39,
    "start_time": "2022-12-04T19:42:48.521Z"
   },
   {
    "duration": 45,
    "start_time": "2022-12-04T19:42:52.245Z"
   },
   {
    "duration": 13,
    "start_time": "2022-12-04T19:42:55.607Z"
   },
   {
    "duration": 13,
    "start_time": "2022-12-04T19:43:26.545Z"
   },
   {
    "duration": 17,
    "start_time": "2022-12-04T19:43:28.750Z"
   },
   {
    "duration": 10,
    "start_time": "2022-12-04T19:44:29.002Z"
   },
   {
    "duration": 91,
    "start_time": "2022-12-04T19:44:56.493Z"
   },
   {
    "duration": 7,
    "start_time": "2022-12-04T19:45:26.949Z"
   },
   {
    "duration": 7,
    "start_time": "2022-12-04T19:45:49.897Z"
   },
   {
    "duration": 14,
    "start_time": "2022-12-04T19:45:53.371Z"
   },
   {
    "duration": 18,
    "start_time": "2022-12-04T19:46:06.474Z"
   },
   {
    "duration": 75,
    "start_time": "2022-12-04T19:46:24.683Z"
   },
   {
    "duration": 61,
    "start_time": "2022-12-04T19:47:50.646Z"
   },
   {
    "duration": 4,
    "start_time": "2022-12-04T19:47:54.951Z"
   },
   {
    "duration": 4,
    "start_time": "2022-12-04T19:48:06.458Z"
   },
   {
    "duration": 15,
    "start_time": "2022-12-04T19:48:08.016Z"
   },
   {
    "duration": 8,
    "start_time": "2022-12-04T19:48:09.592Z"
   },
   {
    "duration": 42,
    "start_time": "2022-12-04T19:49:48.056Z"
   },
   {
    "duration": 3,
    "start_time": "2022-12-04T19:49:57.787Z"
   },
   {
    "duration": 16,
    "start_time": "2022-12-04T19:49:59.001Z"
   },
   {
    "duration": 21,
    "start_time": "2022-12-04T19:51:18.263Z"
   },
   {
    "duration": 9,
    "start_time": "2022-12-04T19:52:48.203Z"
   },
   {
    "duration": 9,
    "start_time": "2022-12-04T19:53:10.388Z"
   },
   {
    "duration": 8,
    "start_time": "2022-12-04T19:55:27.514Z"
   },
   {
    "duration": 8,
    "start_time": "2022-12-04T19:55:53.655Z"
   },
   {
    "duration": 11,
    "start_time": "2022-12-04T19:56:26.196Z"
   },
   {
    "duration": 11,
    "start_time": "2022-12-04T19:56:33.154Z"
   },
   {
    "duration": 7,
    "start_time": "2022-12-04T20:05:53.995Z"
   },
   {
    "duration": 496,
    "start_time": "2022-12-04T20:06:09.708Z"
   },
   {
    "duration": 25,
    "start_time": "2022-12-04T20:06:10.206Z"
   },
   {
    "duration": 28,
    "start_time": "2022-12-04T20:06:10.232Z"
   },
   {
    "duration": 11,
    "start_time": "2022-12-04T20:06:10.262Z"
   },
   {
    "duration": 45,
    "start_time": "2022-12-04T20:06:10.275Z"
   },
   {
    "duration": 4,
    "start_time": "2022-12-04T20:06:10.322Z"
   },
   {
    "duration": 10,
    "start_time": "2022-12-04T20:06:10.327Z"
   },
   {
    "duration": 4,
    "start_time": "2022-12-04T20:06:10.338Z"
   },
   {
    "duration": 10,
    "start_time": "2022-12-04T20:06:10.344Z"
   },
   {
    "duration": 4,
    "start_time": "2022-12-04T20:06:10.357Z"
   },
   {
    "duration": 50,
    "start_time": "2022-12-04T20:06:10.363Z"
   },
   {
    "duration": 10,
    "start_time": "2022-12-04T20:06:10.415Z"
   },
   {
    "duration": 21,
    "start_time": "2022-12-04T20:06:10.426Z"
   },
   {
    "duration": 26,
    "start_time": "2022-12-04T20:06:10.448Z"
   },
   {
    "duration": 55,
    "start_time": "2022-12-04T20:06:10.476Z"
   },
   {
    "duration": 17,
    "start_time": "2022-12-04T20:06:10.533Z"
   },
   {
    "duration": 4,
    "start_time": "2022-12-04T20:06:10.551Z"
   },
   {
    "duration": 19,
    "start_time": "2022-12-04T20:06:10.556Z"
   },
   {
    "duration": 17,
    "start_time": "2022-12-04T20:06:10.577Z"
   },
   {
    "duration": 25,
    "start_time": "2022-12-04T20:06:10.596Z"
   },
   {
    "duration": 24,
    "start_time": "2022-12-04T20:06:10.623Z"
   },
   {
    "duration": 7,
    "start_time": "2022-12-04T20:06:10.649Z"
   },
   {
    "duration": 6,
    "start_time": "2022-12-04T20:06:10.658Z"
   },
   {
    "duration": 12,
    "start_time": "2022-12-04T20:06:10.666Z"
   },
   {
    "duration": 6,
    "start_time": "2022-12-04T20:06:10.679Z"
   },
   {
    "duration": 10,
    "start_time": "2022-12-04T20:06:10.687Z"
   },
   {
    "duration": 9,
    "start_time": "2022-12-04T20:06:10.712Z"
   },
   {
    "duration": 8,
    "start_time": "2022-12-04T20:06:10.724Z"
   },
   {
    "duration": 11,
    "start_time": "2022-12-04T20:06:10.733Z"
   },
   {
    "duration": 9,
    "start_time": "2022-12-04T20:06:10.745Z"
   },
   {
    "duration": 5,
    "start_time": "2022-12-04T20:06:10.756Z"
   },
   {
    "duration": 10,
    "start_time": "2022-12-04T20:06:10.762Z"
   },
   {
    "duration": 4,
    "start_time": "2022-12-05T06:41:59.715Z"
   },
   {
    "duration": 2,
    "start_time": "2022-12-05T06:42:01.795Z"
   },
   {
    "duration": 9,
    "start_time": "2022-12-05T06:42:18.864Z"
   },
   {
    "duration": 8,
    "start_time": "2022-12-05T06:45:35.701Z"
   },
   {
    "duration": 7,
    "start_time": "2022-12-05T06:45:57.427Z"
   },
   {
    "duration": 5,
    "start_time": "2022-12-05T06:47:09.518Z"
   },
   {
    "duration": 6,
    "start_time": "2022-12-05T06:47:31.511Z"
   },
   {
    "duration": 49,
    "start_time": "2022-12-05T06:47:46.003Z"
   },
   {
    "duration": 529,
    "start_time": "2022-12-05T06:47:46.086Z"
   },
   {
    "duration": 26,
    "start_time": "2022-12-05T06:47:46.617Z"
   },
   {
    "duration": 16,
    "start_time": "2022-12-05T06:47:46.644Z"
   },
   {
    "duration": 15,
    "start_time": "2022-12-05T06:47:46.662Z"
   },
   {
    "duration": 58,
    "start_time": "2022-12-05T06:47:46.680Z"
   },
   {
    "duration": 3,
    "start_time": "2022-12-05T06:47:46.740Z"
   },
   {
    "duration": 33,
    "start_time": "2022-12-05T06:47:46.745Z"
   },
   {
    "duration": 23,
    "start_time": "2022-12-05T06:47:46.780Z"
   },
   {
    "duration": 30,
    "start_time": "2022-12-05T06:47:46.805Z"
   },
   {
    "duration": 16,
    "start_time": "2022-12-05T06:47:46.839Z"
   },
   {
    "duration": 55,
    "start_time": "2022-12-05T06:47:46.857Z"
   },
   {
    "duration": 10,
    "start_time": "2022-12-05T06:47:46.914Z"
   },
   {
    "duration": 5,
    "start_time": "2022-12-05T06:47:46.926Z"
   },
   {
    "duration": 14,
    "start_time": "2022-12-05T06:47:46.932Z"
   },
   {
    "duration": 20,
    "start_time": "2022-12-05T06:47:46.947Z"
   },
   {
    "duration": 46,
    "start_time": "2022-12-05T06:47:46.969Z"
   },
   {
    "duration": 4,
    "start_time": "2022-12-05T06:47:47.017Z"
   },
   {
    "duration": 26,
    "start_time": "2022-12-05T06:47:47.022Z"
   },
   {
    "duration": 17,
    "start_time": "2022-12-05T06:47:47.050Z"
   },
   {
    "duration": 12,
    "start_time": "2022-12-05T06:47:47.069Z"
   },
   {
    "duration": 40,
    "start_time": "2022-12-05T06:47:47.083Z"
   },
   {
    "duration": 13,
    "start_time": "2022-12-05T06:47:47.125Z"
   },
   {
    "duration": 14,
    "start_time": "2022-12-05T06:47:47.140Z"
   },
   {
    "duration": 27,
    "start_time": "2022-12-05T06:47:47.156Z"
   },
   {
    "duration": 13,
    "start_time": "2022-12-05T06:47:47.185Z"
   },
   {
    "duration": 9,
    "start_time": "2022-12-05T06:47:47.200Z"
   },
   {
    "duration": 10,
    "start_time": "2022-12-05T06:47:47.211Z"
   },
   {
    "duration": 8,
    "start_time": "2022-12-05T06:47:47.225Z"
   },
   {
    "duration": 9,
    "start_time": "2022-12-05T06:47:47.234Z"
   },
   {
    "duration": 11,
    "start_time": "2022-12-05T06:47:47.245Z"
   },
   {
    "duration": 22,
    "start_time": "2022-12-05T06:47:47.257Z"
   },
   {
    "duration": 18,
    "start_time": "2022-12-05T06:47:47.280Z"
   },
   {
    "duration": 21,
    "start_time": "2022-12-05T06:47:47.300Z"
   },
   {
    "duration": 3,
    "start_time": "2022-12-05T06:50:22.524Z"
   },
   {
    "duration": 29,
    "start_time": "2022-12-05T06:51:57.804Z"
   },
   {
    "duration": 82,
    "start_time": "2022-12-05T06:52:02.867Z"
   },
   {
    "duration": 17,
    "start_time": "2022-12-05T06:52:02.951Z"
   },
   {
    "duration": 46,
    "start_time": "2022-12-05T06:52:02.969Z"
   },
   {
    "duration": 17,
    "start_time": "2022-12-05T06:52:03.018Z"
   },
   {
    "duration": 36,
    "start_time": "2022-12-05T06:52:03.037Z"
   },
   {
    "duration": 3,
    "start_time": "2022-12-05T06:52:03.075Z"
   },
   {
    "duration": 12,
    "start_time": "2022-12-05T06:52:03.113Z"
   },
   {
    "duration": 12,
    "start_time": "2022-12-05T06:52:03.127Z"
   },
   {
    "duration": 10,
    "start_time": "2022-12-05T06:52:03.140Z"
   },
   {
    "duration": 9,
    "start_time": "2022-12-05T06:52:03.153Z"
   },
   {
    "duration": 69,
    "start_time": "2022-12-05T06:52:03.164Z"
   },
   {
    "duration": 17,
    "start_time": "2022-12-05T06:52:03.236Z"
   },
   {
    "duration": 11,
    "start_time": "2022-12-05T06:52:03.255Z"
   },
   {
    "duration": 35,
    "start_time": "2022-12-05T06:52:03.269Z"
   },
   {
    "duration": 73,
    "start_time": "2022-12-05T06:52:03.307Z"
   },
   {
    "duration": 26,
    "start_time": "2022-12-05T06:52:03.383Z"
   },
   {
    "duration": 21,
    "start_time": "2022-12-05T06:52:03.412Z"
   },
   {
    "duration": 56,
    "start_time": "2022-12-05T06:52:03.435Z"
   },
   {
    "duration": 8,
    "start_time": "2022-12-05T06:52:03.493Z"
   },
   {
    "duration": 19,
    "start_time": "2022-12-05T06:52:03.503Z"
   },
   {
    "duration": 49,
    "start_time": "2022-12-05T06:52:03.524Z"
   },
   {
    "duration": 12,
    "start_time": "2022-12-05T06:52:03.576Z"
   },
   {
    "duration": 3,
    "start_time": "2022-12-05T06:52:03.589Z"
   },
   {
    "duration": 10,
    "start_time": "2022-12-05T06:52:03.593Z"
   },
   {
    "duration": 26,
    "start_time": "2022-12-05T06:52:03.605Z"
   },
   {
    "duration": 9,
    "start_time": "2022-12-05T06:52:03.633Z"
   },
   {
    "duration": 15,
    "start_time": "2022-12-05T06:52:03.644Z"
   },
   {
    "duration": 16,
    "start_time": "2022-12-05T06:52:03.663Z"
   },
   {
    "duration": 12,
    "start_time": "2022-12-05T06:52:03.681Z"
   },
   {
    "duration": 11,
    "start_time": "2022-12-05T06:52:03.715Z"
   },
   {
    "duration": 19,
    "start_time": "2022-12-05T06:52:03.729Z"
   },
   {
    "duration": 12,
    "start_time": "2022-12-05T06:52:03.751Z"
   },
   {
    "duration": 23,
    "start_time": "2022-12-05T06:52:03.765Z"
   },
   {
    "duration": 33,
    "start_time": "2022-12-05T06:52:03.791Z"
   },
   {
    "duration": 54,
    "start_time": "2022-12-05T07:45:08.654Z"
   },
   {
    "duration": 42,
    "start_time": "2022-12-05T07:45:21.315Z"
   },
   {
    "duration": 8,
    "start_time": "2022-12-05T07:45:29.948Z"
   },
   {
    "duration": 9,
    "start_time": "2022-12-05T07:45:42.899Z"
   },
   {
    "duration": 6,
    "start_time": "2022-12-05T07:45:52.714Z"
   },
   {
    "duration": 33,
    "start_time": "2022-12-05T07:46:10.156Z"
   },
   {
    "duration": 11,
    "start_time": "2022-12-05T07:46:32.004Z"
   },
   {
    "duration": 6,
    "start_time": "2022-12-05T07:48:14.692Z"
   },
   {
    "duration": 6,
    "start_time": "2022-12-05T07:49:17.351Z"
   },
   {
    "duration": 6,
    "start_time": "2022-12-05T07:50:04.119Z"
   },
   {
    "duration": 6,
    "start_time": "2022-12-05T07:50:22.774Z"
   },
   {
    "duration": 8,
    "start_time": "2022-12-05T07:50:37.918Z"
   },
   {
    "duration": 7,
    "start_time": "2022-12-05T07:50:48.094Z"
   },
   {
    "duration": 6,
    "start_time": "2022-12-05T07:51:00.211Z"
   },
   {
    "duration": 6,
    "start_time": "2022-12-05T07:51:13.984Z"
   },
   {
    "duration": 6,
    "start_time": "2022-12-05T07:51:40.839Z"
   },
   {
    "duration": 6,
    "start_time": "2022-12-05T07:51:57.528Z"
   },
   {
    "duration": 7,
    "start_time": "2022-12-05T07:58:19.322Z"
   },
   {
    "duration": 12,
    "start_time": "2022-12-05T07:59:51.469Z"
   },
   {
    "duration": 484,
    "start_time": "2022-12-05T08:00:19.664Z"
   },
   {
    "duration": 26,
    "start_time": "2022-12-05T08:00:20.150Z"
   },
   {
    "duration": 47,
    "start_time": "2022-12-05T08:00:20.180Z"
   },
   {
    "duration": 12,
    "start_time": "2022-12-05T08:00:20.234Z"
   },
   {
    "duration": 38,
    "start_time": "2022-12-05T08:00:20.248Z"
   },
   {
    "duration": 27,
    "start_time": "2022-12-05T08:00:20.288Z"
   },
   {
    "duration": 15,
    "start_time": "2022-12-05T08:00:20.317Z"
   },
   {
    "duration": 10,
    "start_time": "2022-12-05T08:00:20.334Z"
   },
   {
    "duration": 12,
    "start_time": "2022-12-05T08:00:20.348Z"
   },
   {
    "duration": 5,
    "start_time": "2022-12-05T08:00:20.361Z"
   },
   {
    "duration": 76,
    "start_time": "2022-12-05T08:00:20.368Z"
   },
   {
    "duration": 11,
    "start_time": "2022-12-05T08:00:20.446Z"
   },
   {
    "duration": 6,
    "start_time": "2022-12-05T08:00:20.459Z"
   },
   {
    "duration": 18,
    "start_time": "2022-12-05T08:00:20.467Z"
   },
   {
    "duration": 45,
    "start_time": "2022-12-05T08:00:20.487Z"
   },
   {
    "duration": 21,
    "start_time": "2022-12-05T08:00:20.534Z"
   },
   {
    "duration": 6,
    "start_time": "2022-12-05T08:00:20.557Z"
   },
   {
    "duration": 36,
    "start_time": "2022-12-05T08:00:20.565Z"
   },
   {
    "duration": 18,
    "start_time": "2022-12-05T08:00:20.603Z"
   },
   {
    "duration": 9,
    "start_time": "2022-12-05T08:00:20.624Z"
   },
   {
    "duration": 25,
    "start_time": "2022-12-05T08:00:20.635Z"
   },
   {
    "duration": 13,
    "start_time": "2022-12-05T08:00:20.662Z"
   },
   {
    "duration": 5,
    "start_time": "2022-12-05T08:00:20.677Z"
   },
   {
    "duration": 9,
    "start_time": "2022-12-05T08:00:20.714Z"
   },
   {
    "duration": 16,
    "start_time": "2022-12-05T08:00:20.726Z"
   },
   {
    "duration": 6,
    "start_time": "2022-12-05T08:00:20.744Z"
   },
   {
    "duration": 7,
    "start_time": "2022-12-05T08:00:20.753Z"
   },
   {
    "duration": 7,
    "start_time": "2022-12-05T08:00:20.761Z"
   },
   {
    "duration": 47,
    "start_time": "2022-12-05T08:00:20.770Z"
   },
   {
    "duration": 18,
    "start_time": "2022-12-05T08:00:20.819Z"
   },
   {
    "duration": 22,
    "start_time": "2022-12-05T08:00:20.839Z"
   },
   {
    "duration": 16,
    "start_time": "2022-12-05T08:00:20.863Z"
   },
   {
    "duration": 22,
    "start_time": "2022-12-05T08:00:20.881Z"
   },
   {
    "duration": 19,
    "start_time": "2022-12-05T08:00:20.904Z"
   },
   {
    "duration": 18,
    "start_time": "2022-12-05T08:00:20.926Z"
   },
   {
    "duration": 14,
    "start_time": "2022-12-05T08:00:20.946Z"
   },
   {
    "duration": 19,
    "start_time": "2022-12-05T08:00:20.962Z"
   },
   {
    "duration": 10,
    "start_time": "2022-12-05T08:00:20.982Z"
   },
   {
    "duration": 28,
    "start_time": "2022-12-05T08:00:20.993Z"
   },
   {
    "duration": 11,
    "start_time": "2022-12-05T08:00:21.026Z"
   },
   {
    "duration": 74,
    "start_time": "2022-12-05T08:01:08.272Z"
   },
   {
    "duration": 7,
    "start_time": "2022-12-05T08:01:19.500Z"
   },
   {
    "duration": 6,
    "start_time": "2022-12-05T08:01:43.061Z"
   },
   {
    "duration": 5,
    "start_time": "2022-12-05T08:02:06.542Z"
   },
   {
    "duration": 5,
    "start_time": "2022-12-05T08:02:11.382Z"
   },
   {
    "duration": 6,
    "start_time": "2022-12-05T08:02:32.151Z"
   },
   {
    "duration": 6,
    "start_time": "2022-12-05T08:12:21.958Z"
   },
   {
    "duration": 9,
    "start_time": "2022-12-05T08:16:45.618Z"
   },
   {
    "duration": 7,
    "start_time": "2022-12-05T08:17:46.004Z"
   },
   {
    "duration": 10,
    "start_time": "2022-12-05T08:18:51.464Z"
   },
   {
    "duration": 7,
    "start_time": "2022-12-05T08:20:28.611Z"
   },
   {
    "duration": 72,
    "start_time": "2022-12-05T08:20:36.583Z"
   },
   {
    "duration": 15,
    "start_time": "2022-12-05T08:20:36.657Z"
   },
   {
    "duration": 38,
    "start_time": "2022-12-05T08:20:36.675Z"
   },
   {
    "duration": 11,
    "start_time": "2022-12-05T08:20:36.716Z"
   },
   {
    "duration": 38,
    "start_time": "2022-12-05T08:20:36.731Z"
   },
   {
    "duration": 4,
    "start_time": "2022-12-05T08:20:36.771Z"
   },
   {
    "duration": 40,
    "start_time": "2022-12-05T08:20:36.777Z"
   },
   {
    "duration": 6,
    "start_time": "2022-12-05T08:20:36.819Z"
   },
   {
    "duration": 8,
    "start_time": "2022-12-05T08:20:36.827Z"
   },
   {
    "duration": 5,
    "start_time": "2022-12-05T08:20:36.837Z"
   },
   {
    "duration": 74,
    "start_time": "2022-12-05T08:20:36.844Z"
   },
   {
    "duration": 12,
    "start_time": "2022-12-05T08:20:36.920Z"
   },
   {
    "duration": 6,
    "start_time": "2022-12-05T08:20:36.935Z"
   },
   {
    "duration": 12,
    "start_time": "2022-12-05T08:20:36.945Z"
   },
   {
    "duration": 55,
    "start_time": "2022-12-05T08:20:36.959Z"
   },
   {
    "duration": 21,
    "start_time": "2022-12-05T08:20:37.016Z"
   },
   {
    "duration": 5,
    "start_time": "2022-12-05T08:20:37.039Z"
   },
   {
    "duration": 16,
    "start_time": "2022-12-05T08:20:37.045Z"
   },
   {
    "duration": 9,
    "start_time": "2022-12-05T08:20:37.063Z"
   },
   {
    "duration": 38,
    "start_time": "2022-12-05T08:20:37.074Z"
   },
   {
    "duration": 23,
    "start_time": "2022-12-05T08:20:37.114Z"
   },
   {
    "duration": 11,
    "start_time": "2022-12-05T08:20:37.138Z"
   },
   {
    "duration": 9,
    "start_time": "2022-12-05T08:20:37.151Z"
   },
   {
    "duration": 13,
    "start_time": "2022-12-05T08:20:37.162Z"
   },
   {
    "duration": 7,
    "start_time": "2022-12-05T08:20:37.176Z"
   },
   {
    "duration": 6,
    "start_time": "2022-12-05T08:20:37.213Z"
   },
   {
    "duration": 7,
    "start_time": "2022-12-05T08:20:37.221Z"
   },
   {
    "duration": 5,
    "start_time": "2022-12-05T08:20:37.230Z"
   },
   {
    "duration": 8,
    "start_time": "2022-12-05T08:20:37.237Z"
   },
   {
    "duration": 6,
    "start_time": "2022-12-05T08:20:37.247Z"
   },
   {
    "duration": 7,
    "start_time": "2022-12-05T08:20:37.255Z"
   },
   {
    "duration": 52,
    "start_time": "2022-12-05T08:20:37.263Z"
   },
   {
    "duration": 6,
    "start_time": "2022-12-05T08:20:37.317Z"
   },
   {
    "duration": 5,
    "start_time": "2022-12-05T08:20:37.325Z"
   },
   {
    "duration": 9,
    "start_time": "2022-12-05T08:20:37.332Z"
   },
   {
    "duration": 9,
    "start_time": "2022-12-05T08:20:37.343Z"
   },
   {
    "duration": 60,
    "start_time": "2022-12-05T08:20:37.355Z"
   },
   {
    "duration": 6,
    "start_time": "2022-12-05T08:20:37.417Z"
   },
   {
    "duration": 10,
    "start_time": "2022-12-05T08:20:37.425Z"
   },
   {
    "duration": 10,
    "start_time": "2022-12-05T08:20:37.436Z"
   },
   {
    "duration": 7,
    "start_time": "2022-12-05T08:20:37.451Z"
   },
   {
    "duration": 4,
    "start_time": "2022-12-05T08:20:37.460Z"
   },
   {
    "duration": 4,
    "start_time": "2022-12-05T08:21:09.137Z"
   },
   {
    "duration": 6,
    "start_time": "2022-12-05T08:21:24.081Z"
   },
   {
    "duration": 11,
    "start_time": "2022-12-05T08:22:11.858Z"
   },
   {
    "duration": 12,
    "start_time": "2022-12-05T08:22:17.849Z"
   },
   {
    "duration": 11,
    "start_time": "2022-12-05T08:24:25.862Z"
   },
   {
    "duration": 8,
    "start_time": "2022-12-05T08:24:33.523Z"
   },
   {
    "duration": 7,
    "start_time": "2022-12-05T08:24:35.883Z"
   },
   {
    "duration": 14,
    "start_time": "2022-12-05T08:38:22.794Z"
   },
   {
    "duration": 16,
    "start_time": "2022-12-05T08:39:26.496Z"
   },
   {
    "duration": 13,
    "start_time": "2022-12-05T08:42:24.195Z"
   },
   {
    "duration": 10,
    "start_time": "2022-12-05T09:07:23.763Z"
   },
   {
    "duration": 16,
    "start_time": "2022-12-05T09:11:20.792Z"
   },
   {
    "duration": 9,
    "start_time": "2022-12-05T09:13:43.454Z"
   },
   {
    "duration": 6,
    "start_time": "2022-12-05T09:14:55.355Z"
   },
   {
    "duration": 58,
    "start_time": "2022-12-05T09:15:45.193Z"
   },
   {
    "duration": 17,
    "start_time": "2022-12-05T09:16:00.439Z"
   },
   {
    "duration": 10,
    "start_time": "2022-12-05T09:17:01.921Z"
   },
   {
    "duration": 13,
    "start_time": "2022-12-05T09:20:45.212Z"
   },
   {
    "duration": 10,
    "start_time": "2022-12-05T09:21:07.907Z"
   },
   {
    "duration": 94,
    "start_time": "2022-12-05T09:24:26.884Z"
   },
   {
    "duration": 54,
    "start_time": "2022-12-05T09:24:26.981Z"
   },
   {
    "duration": 34,
    "start_time": "2022-12-05T09:24:27.037Z"
   },
   {
    "duration": 11,
    "start_time": "2022-12-05T09:24:27.073Z"
   },
   {
    "duration": 55,
    "start_time": "2022-12-05T09:24:27.086Z"
   },
   {
    "duration": 3,
    "start_time": "2022-12-05T09:24:27.143Z"
   },
   {
    "duration": 16,
    "start_time": "2022-12-05T09:24:27.148Z"
   },
   {
    "duration": 5,
    "start_time": "2022-12-05T09:24:27.166Z"
   },
   {
    "duration": 11,
    "start_time": "2022-12-05T09:24:27.174Z"
   },
   {
    "duration": 24,
    "start_time": "2022-12-05T09:24:27.211Z"
   },
   {
    "duration": 51,
    "start_time": "2022-12-05T09:24:27.237Z"
   },
   {
    "duration": 11,
    "start_time": "2022-12-05T09:24:27.289Z"
   },
   {
    "duration": 4,
    "start_time": "2022-12-05T09:24:27.319Z"
   },
   {
    "duration": 25,
    "start_time": "2022-12-05T09:24:27.325Z"
   },
   {
    "duration": 23,
    "start_time": "2022-12-05T09:24:27.352Z"
   },
   {
    "duration": 36,
    "start_time": "2022-12-05T09:24:27.376Z"
   },
   {
    "duration": 5,
    "start_time": "2022-12-05T09:24:27.419Z"
   },
   {
    "duration": 21,
    "start_time": "2022-12-05T09:24:27.426Z"
   },
   {
    "duration": 11,
    "start_time": "2022-12-05T09:24:27.449Z"
   },
   {
    "duration": 4,
    "start_time": "2022-12-05T09:24:27.463Z"
   },
   {
    "duration": 61,
    "start_time": "2022-12-05T09:24:27.469Z"
   },
   {
    "duration": 14,
    "start_time": "2022-12-05T09:24:27.532Z"
   },
   {
    "duration": 4,
    "start_time": "2022-12-05T09:24:27.548Z"
   },
   {
    "duration": 9,
    "start_time": "2022-12-05T09:24:27.554Z"
   },
   {
    "duration": 7,
    "start_time": "2022-12-05T09:24:27.565Z"
   },
   {
    "duration": 41,
    "start_time": "2022-12-05T09:24:27.574Z"
   },
   {
    "duration": 10,
    "start_time": "2022-12-05T09:24:27.617Z"
   },
   {
    "duration": 5,
    "start_time": "2022-12-05T09:24:27.632Z"
   },
   {
    "duration": 6,
    "start_time": "2022-12-05T09:24:27.639Z"
   },
   {
    "duration": 6,
    "start_time": "2022-12-05T09:24:27.647Z"
   },
   {
    "duration": 6,
    "start_time": "2022-12-05T09:24:27.655Z"
   },
   {
    "duration": 50,
    "start_time": "2022-12-05T09:24:27.663Z"
   },
   {
    "duration": 8,
    "start_time": "2022-12-05T09:24:27.715Z"
   },
   {
    "duration": 18,
    "start_time": "2022-12-05T09:24:27.725Z"
   },
   {
    "duration": 13,
    "start_time": "2022-12-05T09:24:27.745Z"
   },
   {
    "duration": 11,
    "start_time": "2022-12-05T09:24:27.760Z"
   },
   {
    "duration": 43,
    "start_time": "2022-12-05T09:24:27.773Z"
   },
   {
    "duration": 9,
    "start_time": "2022-12-05T09:24:27.818Z"
   },
   {
    "duration": 18,
    "start_time": "2022-12-05T09:24:27.828Z"
   },
   {
    "duration": 10,
    "start_time": "2022-12-05T09:24:27.848Z"
   },
   {
    "duration": 7,
    "start_time": "2022-12-05T09:24:27.860Z"
   },
   {
    "duration": 50,
    "start_time": "2022-12-05T09:24:27.869Z"
   },
   {
    "duration": 19,
    "start_time": "2022-12-05T09:24:27.923Z"
   },
   {
    "duration": 12,
    "start_time": "2022-12-05T09:24:27.944Z"
   },
   {
    "duration": 8,
    "start_time": "2022-12-05T09:24:27.959Z"
   },
   {
    "duration": 78,
    "start_time": "2022-12-05T09:24:58.251Z"
   },
   {
    "duration": 18,
    "start_time": "2022-12-05T09:24:58.334Z"
   },
   {
    "duration": 30,
    "start_time": "2022-12-05T09:24:58.354Z"
   },
   {
    "duration": 16,
    "start_time": "2022-12-05T09:24:58.387Z"
   },
   {
    "duration": 46,
    "start_time": "2022-12-05T09:24:58.406Z"
   },
   {
    "duration": 5,
    "start_time": "2022-12-05T09:24:58.454Z"
   },
   {
    "duration": 13,
    "start_time": "2022-12-05T09:24:58.462Z"
   },
   {
    "duration": 41,
    "start_time": "2022-12-05T09:24:58.478Z"
   },
   {
    "duration": 7,
    "start_time": "2022-12-05T09:24:58.521Z"
   },
   {
    "duration": 8,
    "start_time": "2022-12-05T09:24:58.531Z"
   },
   {
    "duration": 72,
    "start_time": "2022-12-05T09:24:58.541Z"
   },
   {
    "duration": 19,
    "start_time": "2022-12-05T09:24:58.615Z"
   },
   {
    "duration": 10,
    "start_time": "2022-12-05T09:24:58.636Z"
   },
   {
    "duration": 13,
    "start_time": "2022-12-05T09:24:58.649Z"
   },
   {
    "duration": 22,
    "start_time": "2022-12-05T09:24:58.663Z"
   },
   {
    "duration": 47,
    "start_time": "2022-12-05T09:24:58.686Z"
   },
   {
    "duration": 4,
    "start_time": "2022-12-05T09:24:58.735Z"
   },
   {
    "duration": 13,
    "start_time": "2022-12-05T09:24:58.740Z"
   },
   {
    "duration": 5,
    "start_time": "2022-12-05T09:24:58.755Z"
   },
   {
    "duration": 4,
    "start_time": "2022-12-05T09:24:58.762Z"
   },
   {
    "duration": 68,
    "start_time": "2022-12-05T09:24:58.768Z"
   },
   {
    "duration": 15,
    "start_time": "2022-12-05T09:24:58.838Z"
   },
   {
    "duration": 5,
    "start_time": "2022-12-05T09:24:58.854Z"
   },
   {
    "duration": 10,
    "start_time": "2022-12-05T09:24:58.860Z"
   },
   {
    "duration": 6,
    "start_time": "2022-12-05T09:24:58.872Z"
   },
   {
    "duration": 42,
    "start_time": "2022-12-05T09:24:58.879Z"
   },
   {
    "duration": 10,
    "start_time": "2022-12-05T09:24:58.923Z"
   },
   {
    "duration": 7,
    "start_time": "2022-12-05T09:24:58.935Z"
   },
   {
    "duration": 11,
    "start_time": "2022-12-05T09:24:58.944Z"
   },
   {
    "duration": 7,
    "start_time": "2022-12-05T09:24:58.957Z"
   },
   {
    "duration": 48,
    "start_time": "2022-12-05T09:24:58.966Z"
   },
   {
    "duration": 6,
    "start_time": "2022-12-05T09:24:59.016Z"
   },
   {
    "duration": 16,
    "start_time": "2022-12-05T09:24:59.024Z"
   },
   {
    "duration": 10,
    "start_time": "2022-12-05T09:24:59.041Z"
   },
   {
    "duration": 11,
    "start_time": "2022-12-05T09:24:59.053Z"
   },
   {
    "duration": 48,
    "start_time": "2022-12-05T09:24:59.066Z"
   },
   {
    "duration": 13,
    "start_time": "2022-12-05T09:24:59.116Z"
   },
   {
    "duration": 10,
    "start_time": "2022-12-05T09:24:59.131Z"
   },
   {
    "duration": 14,
    "start_time": "2022-12-05T09:24:59.143Z"
   },
   {
    "duration": 10,
    "start_time": "2022-12-05T09:24:59.159Z"
   },
   {
    "duration": 52,
    "start_time": "2022-12-05T09:24:59.173Z"
   },
   {
    "duration": 13,
    "start_time": "2022-12-05T09:24:59.227Z"
   },
   {
    "duration": 15,
    "start_time": "2022-12-05T09:24:59.242Z"
   },
   {
    "duration": 15,
    "start_time": "2022-12-05T09:24:59.260Z"
   },
   {
    "duration": 20,
    "start_time": "2022-12-05T09:24:59.311Z"
   },
   {
    "duration": 80,
    "start_time": "2022-12-05T10:48:07.259Z"
   },
   {
    "duration": 10,
    "start_time": "2022-12-05T10:48:16.959Z"
   },
   {
    "duration": 16,
    "start_time": "2022-12-05T10:50:29.891Z"
   },
   {
    "duration": 25,
    "start_time": "2022-12-05T10:50:40.844Z"
   },
   {
    "duration": 23,
    "start_time": "2022-12-05T11:40:00.864Z"
   },
   {
    "duration": 64,
    "start_time": "2022-12-05T11:40:21.037Z"
   },
   {
    "duration": 16,
    "start_time": "2022-12-06T18:20:55.099Z"
   },
   {
    "duration": 15,
    "start_time": "2022-12-06T18:22:51.718Z"
   },
   {
    "duration": 15,
    "start_time": "2022-12-06T18:25:21.460Z"
   },
   {
    "duration": 16,
    "start_time": "2022-12-06T18:25:58.184Z"
   },
   {
    "duration": 20,
    "start_time": "2022-12-06T18:28:32.993Z"
   },
   {
    "duration": 17,
    "start_time": "2022-12-06T18:28:39.144Z"
   },
   {
    "duration": 18,
    "start_time": "2022-12-06T18:29:14.313Z"
   },
   {
    "duration": 26,
    "start_time": "2022-12-06T18:30:18.256Z"
   },
   {
    "duration": 23,
    "start_time": "2022-12-06T18:31:10.936Z"
   },
   {
    "duration": 18,
    "start_time": "2022-12-06T18:35:22.845Z"
   },
   {
    "duration": 17,
    "start_time": "2022-12-06T18:35:39.595Z"
   },
   {
    "duration": 16,
    "start_time": "2022-12-06T18:36:34.967Z"
   },
   {
    "duration": 12,
    "start_time": "2022-12-06T19:02:52.773Z"
   },
   {
    "duration": 15,
    "start_time": "2022-12-06T19:03:46.360Z"
   },
   {
    "duration": 23,
    "start_time": "2022-12-06T19:04:22.037Z"
   },
   {
    "duration": 11,
    "start_time": "2022-12-06T19:07:49.593Z"
   },
   {
    "duration": 7,
    "start_time": "2022-12-06T19:07:51.036Z"
   },
   {
    "duration": 22,
    "start_time": "2022-12-06T19:08:02.719Z"
   },
   {
    "duration": 11,
    "start_time": "2022-12-06T19:11:02.015Z"
   },
   {
    "duration": 16,
    "start_time": "2022-12-06T19:11:07.992Z"
   },
   {
    "duration": 16,
    "start_time": "2022-12-06T19:26:54.773Z"
   },
   {
    "duration": 15,
    "start_time": "2022-12-06T19:28:03.791Z"
   },
   {
    "duration": 17,
    "start_time": "2022-12-06T19:28:33.056Z"
   },
   {
    "duration": 18,
    "start_time": "2022-12-06T19:53:31.983Z"
   },
   {
    "duration": 16,
    "start_time": "2022-12-06T19:53:43.944Z"
   },
   {
    "duration": 717,
    "start_time": "2022-12-06T20:02:10.715Z"
   },
   {
    "duration": 750,
    "start_time": "2022-12-06T20:02:31.695Z"
   },
   {
    "duration": 9,
    "start_time": "2022-12-06T20:03:15.425Z"
   },
   {
    "duration": 15,
    "start_time": "2022-12-06T20:03:26.864Z"
   },
   {
    "duration": 16,
    "start_time": "2022-12-06T20:07:41.707Z"
   },
   {
    "duration": 25,
    "start_time": "2022-12-06T20:50:15.051Z"
   },
   {
    "duration": 20,
    "start_time": "2022-12-06T20:56:51.242Z"
   },
   {
    "duration": 49,
    "start_time": "2022-12-06T22:09:52.563Z"
   },
   {
    "duration": 6,
    "start_time": "2022-12-06T22:10:00.182Z"
   },
   {
    "duration": 737,
    "start_time": "2022-12-06T22:10:05.879Z"
   },
   {
    "duration": 19,
    "start_time": "2022-12-06T22:10:06.618Z"
   },
   {
    "duration": 14,
    "start_time": "2022-12-06T22:10:06.639Z"
   },
   {
    "duration": 8,
    "start_time": "2022-12-06T22:10:06.655Z"
   },
   {
    "duration": 51,
    "start_time": "2022-12-06T22:10:06.665Z"
   },
   {
    "duration": 3,
    "start_time": "2022-12-06T22:10:06.718Z"
   },
   {
    "duration": 9,
    "start_time": "2022-12-06T22:10:06.723Z"
   },
   {
    "duration": 4,
    "start_time": "2022-12-06T22:10:06.733Z"
   },
   {
    "duration": 7,
    "start_time": "2022-12-06T22:10:06.739Z"
   },
   {
    "duration": 3,
    "start_time": "2022-12-06T22:10:06.749Z"
   },
   {
    "duration": 34,
    "start_time": "2022-12-06T22:10:06.754Z"
   },
   {
    "duration": 33,
    "start_time": "2022-12-06T22:10:06.789Z"
   },
   {
    "duration": 3,
    "start_time": "2022-12-06T22:10:06.824Z"
   },
   {
    "duration": 12,
    "start_time": "2022-12-06T22:10:06.828Z"
   },
   {
    "duration": 17,
    "start_time": "2022-12-06T22:10:06.842Z"
   },
   {
    "duration": 14,
    "start_time": "2022-12-06T22:10:06.860Z"
   },
   {
    "duration": 3,
    "start_time": "2022-12-06T22:10:06.875Z"
   },
   {
    "duration": 36,
    "start_time": "2022-12-06T22:10:06.880Z"
   },
   {
    "duration": 5,
    "start_time": "2022-12-06T22:10:06.917Z"
   },
   {
    "duration": 7,
    "start_time": "2022-12-06T22:10:06.923Z"
   },
   {
    "duration": 24,
    "start_time": "2022-12-06T22:10:06.931Z"
   },
   {
    "duration": 13,
    "start_time": "2022-12-06T22:10:06.956Z"
   },
   {
    "duration": 15,
    "start_time": "2022-12-06T22:10:06.970Z"
   },
   {
    "duration": 48,
    "start_time": "2022-12-06T22:10:06.986Z"
   },
   {
    "duration": 12,
    "start_time": "2022-12-06T22:10:07.036Z"
   },
   {
    "duration": 6,
    "start_time": "2022-12-06T22:10:07.049Z"
   },
   {
    "duration": 19,
    "start_time": "2022-12-06T22:10:07.056Z"
   },
   {
    "duration": 42,
    "start_time": "2022-12-06T22:10:07.077Z"
   },
   {
    "duration": 12,
    "start_time": "2022-12-06T22:10:52.167Z"
   },
   {
    "duration": 9,
    "start_time": "2022-12-06T22:11:12.714Z"
   },
   {
    "duration": 14,
    "start_time": "2022-12-06T22:11:24.055Z"
   },
   {
    "duration": 14,
    "start_time": "2022-12-06T22:11:45.313Z"
   },
   {
    "duration": 17,
    "start_time": "2022-12-06T22:11:56.375Z"
   },
   {
    "duration": 45,
    "start_time": "2022-12-06T22:13:15.110Z"
   },
   {
    "duration": 47,
    "start_time": "2022-12-06T22:13:27.591Z"
   },
   {
    "duration": 39,
    "start_time": "2022-12-06T22:13:40.310Z"
   },
   {
    "duration": 15,
    "start_time": "2022-12-06T22:13:42.342Z"
   },
   {
    "duration": 70,
    "start_time": "2022-12-06T22:13:55.494Z"
   },
   {
    "duration": 15,
    "start_time": "2022-12-06T22:13:55.566Z"
   },
   {
    "duration": 19,
    "start_time": "2022-12-06T22:13:55.582Z"
   },
   {
    "duration": 12,
    "start_time": "2022-12-06T22:13:55.617Z"
   },
   {
    "duration": 42,
    "start_time": "2022-12-06T22:13:55.631Z"
   },
   {
    "duration": 4,
    "start_time": "2022-12-06T22:13:55.675Z"
   },
   {
    "duration": 10,
    "start_time": "2022-12-06T22:13:55.680Z"
   },
   {
    "duration": 27,
    "start_time": "2022-12-06T22:13:55.692Z"
   },
   {
    "duration": 7,
    "start_time": "2022-12-06T22:13:55.721Z"
   },
   {
    "duration": 5,
    "start_time": "2022-12-06T22:13:55.731Z"
   },
   {
    "duration": 49,
    "start_time": "2022-12-06T22:13:55.737Z"
   },
   {
    "duration": 12,
    "start_time": "2022-12-06T22:13:55.787Z"
   },
   {
    "duration": 12,
    "start_time": "2022-12-06T22:13:55.801Z"
   },
   {
    "duration": 15,
    "start_time": "2022-12-06T22:13:55.815Z"
   },
   {
    "duration": 29,
    "start_time": "2022-12-06T22:13:55.831Z"
   },
   {
    "duration": 19,
    "start_time": "2022-12-06T22:13:55.861Z"
   },
   {
    "duration": 4,
    "start_time": "2022-12-06T22:13:55.881Z"
   },
   {
    "duration": 12,
    "start_time": "2022-12-06T22:13:55.886Z"
   },
   {
    "duration": 16,
    "start_time": "2022-12-06T22:13:55.900Z"
   },
   {
    "duration": 4,
    "start_time": "2022-12-06T22:13:55.917Z"
   },
   {
    "duration": 26,
    "start_time": "2022-12-06T22:13:55.922Z"
   },
   {
    "duration": 46,
    "start_time": "2022-12-06T22:13:55.949Z"
   },
   {
    "duration": 0,
    "start_time": "2022-12-06T22:13:55.996Z"
   },
   {
    "duration": 0,
    "start_time": "2022-12-06T22:13:55.997Z"
   },
   {
    "duration": 0,
    "start_time": "2022-12-06T22:13:55.998Z"
   },
   {
    "duration": 0,
    "start_time": "2022-12-06T22:13:55.999Z"
   },
   {
    "duration": 0,
    "start_time": "2022-12-06T22:13:56.000Z"
   },
   {
    "duration": 0,
    "start_time": "2022-12-06T22:13:56.002Z"
   },
   {
    "duration": 56,
    "start_time": "2022-12-06T22:14:07.951Z"
   },
   {
    "duration": 44,
    "start_time": "2022-12-06T22:14:47.007Z"
   },
   {
    "duration": 50,
    "start_time": "2022-12-06T22:15:04.492Z"
   },
   {
    "duration": 68,
    "start_time": "2022-12-06T22:15:24.067Z"
   },
   {
    "duration": 14,
    "start_time": "2022-12-06T22:15:24.137Z"
   },
   {
    "duration": 17,
    "start_time": "2022-12-06T22:15:24.152Z"
   },
   {
    "duration": 8,
    "start_time": "2022-12-06T22:15:24.171Z"
   },
   {
    "duration": 60,
    "start_time": "2022-12-06T22:15:24.181Z"
   },
   {
    "duration": 3,
    "start_time": "2022-12-06T22:15:24.242Z"
   },
   {
    "duration": 12,
    "start_time": "2022-12-06T22:15:24.246Z"
   },
   {
    "duration": 5,
    "start_time": "2022-12-06T22:15:24.259Z"
   },
   {
    "duration": 7,
    "start_time": "2022-12-06T22:15:24.265Z"
   },
   {
    "duration": 6,
    "start_time": "2022-12-06T22:15:24.274Z"
   },
   {
    "duration": 54,
    "start_time": "2022-12-06T22:15:24.282Z"
   },
   {
    "duration": 9,
    "start_time": "2022-12-06T22:15:24.337Z"
   },
   {
    "duration": 5,
    "start_time": "2022-12-06T22:15:24.348Z"
   },
   {
    "duration": 12,
    "start_time": "2022-12-06T22:15:24.354Z"
   },
   {
    "duration": 17,
    "start_time": "2022-12-06T22:15:24.367Z"
   },
   {
    "duration": 36,
    "start_time": "2022-12-06T22:15:24.385Z"
   },
   {
    "duration": 3,
    "start_time": "2022-12-06T22:15:24.423Z"
   },
   {
    "duration": 12,
    "start_time": "2022-12-06T22:15:24.428Z"
   },
   {
    "duration": 6,
    "start_time": "2022-12-06T22:15:24.441Z"
   },
   {
    "duration": 3,
    "start_time": "2022-12-06T22:15:24.449Z"
   },
   {
    "duration": 24,
    "start_time": "2022-12-06T22:15:24.454Z"
   },
   {
    "duration": 44,
    "start_time": "2022-12-06T22:15:24.479Z"
   },
   {
    "duration": 0,
    "start_time": "2022-12-06T22:15:24.524Z"
   },
   {
    "duration": 0,
    "start_time": "2022-12-06T22:15:24.525Z"
   },
   {
    "duration": 0,
    "start_time": "2022-12-06T22:15:24.526Z"
   },
   {
    "duration": 0,
    "start_time": "2022-12-06T22:15:24.527Z"
   },
   {
    "duration": 0,
    "start_time": "2022-12-06T22:15:24.528Z"
   },
   {
    "duration": 0,
    "start_time": "2022-12-06T22:15:24.530Z"
   },
   {
    "duration": 50,
    "start_time": "2022-12-06T22:15:33.937Z"
   },
   {
    "duration": 72,
    "start_time": "2022-12-06T22:16:09.308Z"
   },
   {
    "duration": 422,
    "start_time": "2022-12-06T22:16:15.673Z"
   },
   {
    "duration": 19,
    "start_time": "2022-12-06T22:16:16.097Z"
   },
   {
    "duration": 14,
    "start_time": "2022-12-06T22:16:16.117Z"
   },
   {
    "duration": 9,
    "start_time": "2022-12-06T22:16:16.133Z"
   },
   {
    "duration": 31,
    "start_time": "2022-12-06T22:16:16.143Z"
   },
   {
    "duration": 3,
    "start_time": "2022-12-06T22:16:16.175Z"
   },
   {
    "duration": 14,
    "start_time": "2022-12-06T22:16:16.180Z"
   },
   {
    "duration": 5,
    "start_time": "2022-12-06T22:16:16.215Z"
   },
   {
    "duration": 11,
    "start_time": "2022-12-06T22:16:16.222Z"
   },
   {
    "duration": 6,
    "start_time": "2022-12-06T22:16:16.237Z"
   },
   {
    "duration": 46,
    "start_time": "2022-12-06T22:16:16.245Z"
   },
   {
    "duration": 28,
    "start_time": "2022-12-06T22:16:16.293Z"
   },
   {
    "duration": 13,
    "start_time": "2022-12-06T22:16:16.323Z"
   },
   {
    "duration": 18,
    "start_time": "2022-12-06T22:16:16.338Z"
   },
   {
    "duration": 37,
    "start_time": "2022-12-06T22:16:16.358Z"
   },
   {
    "duration": 17,
    "start_time": "2022-12-06T22:16:16.397Z"
   },
   {
    "duration": 4,
    "start_time": "2022-12-06T22:16:16.415Z"
   },
   {
    "duration": 18,
    "start_time": "2022-12-06T22:16:16.421Z"
   },
   {
    "duration": 5,
    "start_time": "2022-12-06T22:16:16.440Z"
   },
   {
    "duration": 6,
    "start_time": "2022-12-06T22:16:16.446Z"
   },
   {
    "duration": 26,
    "start_time": "2022-12-06T22:16:16.453Z"
   },
   {
    "duration": 88,
    "start_time": "2022-12-06T22:16:16.481Z"
   },
   {
    "duration": 0,
    "start_time": "2022-12-06T22:16:16.571Z"
   },
   {
    "duration": 0,
    "start_time": "2022-12-06T22:16:16.573Z"
   },
   {
    "duration": 0,
    "start_time": "2022-12-06T22:16:16.574Z"
   },
   {
    "duration": 0,
    "start_time": "2022-12-06T22:16:16.574Z"
   },
   {
    "duration": 0,
    "start_time": "2022-12-06T22:16:16.575Z"
   },
   {
    "duration": 0,
    "start_time": "2022-12-06T22:16:16.577Z"
   },
   {
    "duration": 9,
    "start_time": "2022-12-06T22:16:30.671Z"
   },
   {
    "duration": 14,
    "start_time": "2022-12-06T22:16:37.793Z"
   },
   {
    "duration": 10,
    "start_time": "2022-12-06T22:17:02.179Z"
   },
   {
    "duration": 11,
    "start_time": "2022-12-06T22:17:10.802Z"
   },
   {
    "duration": 15,
    "start_time": "2022-12-06T22:17:26.135Z"
   },
   {
    "duration": 12,
    "start_time": "2022-12-06T22:17:30.583Z"
   },
   {
    "duration": 770,
    "start_time": "2022-12-06T22:18:59.808Z"
   },
   {
    "duration": 13,
    "start_time": "2022-12-06T22:19:26.497Z"
   },
   {
    "duration": 12,
    "start_time": "2022-12-06T22:21:03.194Z"
   },
   {
    "duration": 324,
    "start_time": "2022-12-06T22:21:58.576Z"
   },
   {
    "duration": 313,
    "start_time": "2022-12-06T22:22:17.467Z"
   },
   {
    "duration": 11,
    "start_time": "2022-12-06T22:22:22.457Z"
   },
   {
    "duration": 7,
    "start_time": "2022-12-06T22:23:23.790Z"
   },
   {
    "duration": 6,
    "start_time": "2022-12-06T22:23:37.946Z"
   },
   {
    "duration": 7,
    "start_time": "2022-12-06T22:23:55.770Z"
   },
   {
    "duration": 6,
    "start_time": "2022-12-06T22:24:05.883Z"
   },
   {
    "duration": 7,
    "start_time": "2022-12-06T22:24:21.554Z"
   },
   {
    "duration": 708,
    "start_time": "2022-12-06T22:24:40.786Z"
   },
   {
    "duration": 7,
    "start_time": "2022-12-06T22:24:50.242Z"
   },
   {
    "duration": 642,
    "start_time": "2022-12-06T22:24:59.114Z"
   },
   {
    "duration": 628,
    "start_time": "2022-12-06T22:25:08.530Z"
   },
   {
    "duration": 6,
    "start_time": "2022-12-06T22:25:18.362Z"
   },
   {
    "duration": 7,
    "start_time": "2022-12-06T22:25:30.874Z"
   },
   {
    "duration": 650,
    "start_time": "2022-12-06T22:25:46.841Z"
   },
   {
    "duration": 9,
    "start_time": "2022-12-06T22:28:01.293Z"
   },
   {
    "duration": 5,
    "start_time": "2022-12-06T22:28:06.834Z"
   },
   {
    "duration": 660,
    "start_time": "2022-12-06T22:28:32.426Z"
   },
   {
    "duration": 73,
    "start_time": "2022-12-06T22:28:41.037Z"
   },
   {
    "duration": 15,
    "start_time": "2022-12-06T22:28:41.112Z"
   },
   {
    "duration": 20,
    "start_time": "2022-12-06T22:28:41.128Z"
   },
   {
    "duration": 14,
    "start_time": "2022-12-06T22:28:41.150Z"
   },
   {
    "duration": 50,
    "start_time": "2022-12-06T22:28:41.165Z"
   },
   {
    "duration": 3,
    "start_time": "2022-12-06T22:28:41.217Z"
   },
   {
    "duration": 13,
    "start_time": "2022-12-06T22:28:41.222Z"
   },
   {
    "duration": 4,
    "start_time": "2022-12-06T22:28:41.237Z"
   },
   {
    "duration": 10,
    "start_time": "2022-12-06T22:28:41.242Z"
   },
   {
    "duration": 5,
    "start_time": "2022-12-06T22:28:41.255Z"
   },
   {
    "duration": 35,
    "start_time": "2022-12-06T22:28:41.262Z"
   },
   {
    "duration": 10,
    "start_time": "2022-12-06T22:28:41.314Z"
   },
   {
    "duration": 4,
    "start_time": "2022-12-06T22:28:41.326Z"
   },
   {
    "duration": 12,
    "start_time": "2022-12-06T22:28:41.331Z"
   },
   {
    "duration": 19,
    "start_time": "2022-12-06T22:28:41.344Z"
   },
   {
    "duration": 15,
    "start_time": "2022-12-06T22:28:41.364Z"
   },
   {
    "duration": 3,
    "start_time": "2022-12-06T22:28:41.380Z"
   },
   {
    "duration": 50,
    "start_time": "2022-12-06T22:28:41.385Z"
   },
   {
    "duration": 5,
    "start_time": "2022-12-06T22:28:41.437Z"
   },
   {
    "duration": 5,
    "start_time": "2022-12-06T22:28:41.444Z"
   },
   {
    "duration": 33,
    "start_time": "2022-12-06T22:28:41.450Z"
   },
   {
    "duration": 12,
    "start_time": "2022-12-06T22:28:41.485Z"
   },
   {
    "duration": 3,
    "start_time": "2022-12-06T22:28:41.498Z"
   },
   {
    "duration": 15,
    "start_time": "2022-12-06T22:28:41.502Z"
   },
   {
    "duration": 650,
    "start_time": "2022-12-06T22:28:41.518Z"
   },
   {
    "duration": 0,
    "start_time": "2022-12-06T22:28:42.169Z"
   },
   {
    "duration": 0,
    "start_time": "2022-12-06T22:28:42.171Z"
   },
   {
    "duration": 0,
    "start_time": "2022-12-06T22:28:42.172Z"
   },
   {
    "duration": 1,
    "start_time": "2022-12-06T22:28:42.172Z"
   },
   {
    "duration": 0,
    "start_time": "2022-12-06T22:28:42.173Z"
   },
   {
    "duration": 0,
    "start_time": "2022-12-06T22:28:42.175Z"
   },
   {
    "duration": 7,
    "start_time": "2022-12-06T22:30:24.356Z"
   },
   {
    "duration": 69,
    "start_time": "2022-12-06T22:30:31.496Z"
   },
   {
    "duration": 15,
    "start_time": "2022-12-06T22:30:31.567Z"
   },
   {
    "duration": 19,
    "start_time": "2022-12-06T22:30:31.583Z"
   },
   {
    "duration": 9,
    "start_time": "2022-12-06T22:30:31.615Z"
   },
   {
    "duration": 30,
    "start_time": "2022-12-06T22:30:31.626Z"
   },
   {
    "duration": 3,
    "start_time": "2022-12-06T22:30:31.657Z"
   },
   {
    "duration": 13,
    "start_time": "2022-12-06T22:30:31.662Z"
   },
   {
    "duration": 7,
    "start_time": "2022-12-06T22:30:31.676Z"
   },
   {
    "duration": 7,
    "start_time": "2022-12-06T22:30:31.685Z"
   },
   {
    "duration": 23,
    "start_time": "2022-12-06T22:30:31.693Z"
   },
   {
    "duration": 33,
    "start_time": "2022-12-06T22:30:31.718Z"
   },
   {
    "duration": 9,
    "start_time": "2022-12-06T22:30:31.753Z"
   },
   {
    "duration": 10,
    "start_time": "2022-12-06T22:30:31.763Z"
   },
   {
    "duration": 28,
    "start_time": "2022-12-06T22:30:31.776Z"
   },
   {
    "duration": 26,
    "start_time": "2022-12-06T22:30:31.806Z"
   },
   {
    "duration": 16,
    "start_time": "2022-12-06T22:30:31.834Z"
   },
   {
    "duration": 4,
    "start_time": "2022-12-06T22:30:31.851Z"
   },
   {
    "duration": 18,
    "start_time": "2022-12-06T22:30:31.857Z"
   },
   {
    "duration": 5,
    "start_time": "2022-12-06T22:30:31.877Z"
   },
   {
    "duration": 7,
    "start_time": "2022-12-06T22:30:31.883Z"
   },
   {
    "duration": 35,
    "start_time": "2022-12-06T22:30:31.892Z"
   },
   {
    "duration": 14,
    "start_time": "2022-12-06T22:30:31.928Z"
   },
   {
    "duration": 12,
    "start_time": "2022-12-06T22:30:31.943Z"
   },
   {
    "duration": 12,
    "start_time": "2022-12-06T22:30:31.956Z"
   },
   {
    "duration": 14,
    "start_time": "2022-12-06T22:30:31.970Z"
   },
   {
    "duration": 0,
    "start_time": "2022-12-06T22:30:31.985Z"
   },
   {
    "duration": 0,
    "start_time": "2022-12-06T22:30:31.986Z"
   },
   {
    "duration": 0,
    "start_time": "2022-12-06T22:30:31.987Z"
   },
   {
    "duration": 1,
    "start_time": "2022-12-06T22:30:31.988Z"
   },
   {
    "duration": 0,
    "start_time": "2022-12-06T22:30:31.989Z"
   },
   {
    "duration": 0,
    "start_time": "2022-12-06T22:30:31.991Z"
   },
   {
    "duration": 434,
    "start_time": "2022-12-06T22:30:39.146Z"
   },
   {
    "duration": 22,
    "start_time": "2022-12-06T22:30:39.583Z"
   },
   {
    "duration": 15,
    "start_time": "2022-12-06T22:30:39.607Z"
   },
   {
    "duration": 9,
    "start_time": "2022-12-06T22:30:39.624Z"
   },
   {
    "duration": 38,
    "start_time": "2022-12-06T22:30:39.635Z"
   },
   {
    "duration": 3,
    "start_time": "2022-12-06T22:30:39.675Z"
   },
   {
    "duration": 17,
    "start_time": "2022-12-06T22:30:39.680Z"
   },
   {
    "duration": 16,
    "start_time": "2022-12-06T22:30:39.699Z"
   },
   {
    "duration": 12,
    "start_time": "2022-12-06T22:30:39.717Z"
   },
   {
    "duration": 4,
    "start_time": "2022-12-06T22:30:39.733Z"
   },
   {
    "duration": 35,
    "start_time": "2022-12-06T22:30:39.738Z"
   },
   {
    "duration": 10,
    "start_time": "2022-12-06T22:30:39.774Z"
   },
   {
    "duration": 5,
    "start_time": "2022-12-06T22:30:39.785Z"
   },
   {
    "duration": 39,
    "start_time": "2022-12-06T22:30:39.791Z"
   },
   {
    "duration": 24,
    "start_time": "2022-12-06T22:30:39.832Z"
   },
   {
    "duration": 17,
    "start_time": "2022-12-06T22:30:39.857Z"
   },
   {
    "duration": 3,
    "start_time": "2022-12-06T22:30:39.875Z"
   },
   {
    "duration": 12,
    "start_time": "2022-12-06T22:30:39.880Z"
   },
   {
    "duration": 24,
    "start_time": "2022-12-06T22:30:39.893Z"
   },
   {
    "duration": 4,
    "start_time": "2022-12-06T22:30:39.919Z"
   },
   {
    "duration": 26,
    "start_time": "2022-12-06T22:30:39.924Z"
   },
   {
    "duration": 13,
    "start_time": "2022-12-06T22:30:39.952Z"
   },
   {
    "duration": 2,
    "start_time": "2022-12-06T22:30:39.967Z"
   },
   {
    "duration": 6,
    "start_time": "2022-12-06T22:30:39.971Z"
   },
   {
    "duration": 81,
    "start_time": "2022-12-06T22:30:39.978Z"
   },
   {
    "duration": 0,
    "start_time": "2022-12-06T22:30:40.061Z"
   },
   {
    "duration": 0,
    "start_time": "2022-12-06T22:30:40.062Z"
   },
   {
    "duration": 0,
    "start_time": "2022-12-06T22:30:40.064Z"
   },
   {
    "duration": 0,
    "start_time": "2022-12-06T22:30:40.066Z"
   },
   {
    "duration": 0,
    "start_time": "2022-12-06T22:30:40.067Z"
   },
   {
    "duration": 0,
    "start_time": "2022-12-06T22:30:40.069Z"
   },
   {
    "duration": 14,
    "start_time": "2022-12-06T22:32:01.462Z"
   },
   {
    "duration": 59,
    "start_time": "2022-12-07T06:21:24.321Z"
   },
   {
    "duration": 646,
    "start_time": "2022-12-07T06:21:33.572Z"
   },
   {
    "duration": 23,
    "start_time": "2022-12-07T06:21:34.220Z"
   },
   {
    "duration": 18,
    "start_time": "2022-12-07T06:21:34.244Z"
   },
   {
    "duration": 10,
    "start_time": "2022-12-07T06:21:34.263Z"
   },
   {
    "duration": 55,
    "start_time": "2022-12-07T06:21:34.275Z"
   },
   {
    "duration": 4,
    "start_time": "2022-12-07T06:21:34.331Z"
   },
   {
    "duration": 11,
    "start_time": "2022-12-07T06:21:34.336Z"
   },
   {
    "duration": 4,
    "start_time": "2022-12-07T06:21:34.348Z"
   },
   {
    "duration": 9,
    "start_time": "2022-12-07T06:21:34.354Z"
   },
   {
    "duration": 7,
    "start_time": "2022-12-07T06:21:34.365Z"
   },
   {
    "duration": 71,
    "start_time": "2022-12-07T06:21:34.374Z"
   },
   {
    "duration": 11,
    "start_time": "2022-12-07T06:21:34.446Z"
   },
   {
    "duration": 14,
    "start_time": "2022-12-07T06:21:34.459Z"
   },
   {
    "duration": 13,
    "start_time": "2022-12-07T06:21:34.475Z"
   },
   {
    "duration": 32,
    "start_time": "2022-12-07T06:21:34.490Z"
   },
   {
    "duration": 24,
    "start_time": "2022-12-07T06:21:34.524Z"
   },
   {
    "duration": 5,
    "start_time": "2022-12-07T06:21:34.550Z"
   },
   {
    "duration": 15,
    "start_time": "2022-12-07T06:21:34.557Z"
   },
   {
    "duration": 17,
    "start_time": "2022-12-07T06:21:34.574Z"
   },
   {
    "duration": 11,
    "start_time": "2022-12-07T06:21:34.593Z"
   },
   {
    "duration": 36,
    "start_time": "2022-12-07T06:21:34.606Z"
   },
   {
    "duration": 12,
    "start_time": "2022-12-07T06:21:34.644Z"
   },
   {
    "duration": 27,
    "start_time": "2022-12-07T06:21:34.658Z"
   },
   {
    "duration": 0,
    "start_time": "2022-12-07T06:21:34.687Z"
   },
   {
    "duration": 0,
    "start_time": "2022-12-07T06:21:34.688Z"
   },
   {
    "duration": 0,
    "start_time": "2022-12-07T06:21:34.689Z"
   },
   {
    "duration": 0,
    "start_time": "2022-12-07T06:21:34.690Z"
   },
   {
    "duration": 0,
    "start_time": "2022-12-07T06:21:34.692Z"
   },
   {
    "duration": 0,
    "start_time": "2022-12-07T06:21:34.693Z"
   },
   {
    "duration": 749,
    "start_time": "2022-12-07T06:22:06.992Z"
   },
   {
    "duration": 70,
    "start_time": "2022-12-07T06:22:17.902Z"
   },
   {
    "duration": 14,
    "start_time": "2022-12-07T06:22:17.974Z"
   },
   {
    "duration": 20,
    "start_time": "2022-12-07T06:22:17.990Z"
   },
   {
    "duration": 10,
    "start_time": "2022-12-07T06:22:18.021Z"
   },
   {
    "duration": 40,
    "start_time": "2022-12-07T06:22:18.032Z"
   },
   {
    "duration": 3,
    "start_time": "2022-12-07T06:22:18.073Z"
   },
   {
    "duration": 16,
    "start_time": "2022-12-07T06:22:18.077Z"
   },
   {
    "duration": 12,
    "start_time": "2022-12-07T06:22:18.094Z"
   },
   {
    "duration": 17,
    "start_time": "2022-12-07T06:22:18.107Z"
   },
   {
    "duration": 6,
    "start_time": "2022-12-07T06:22:18.126Z"
   },
   {
    "duration": 40,
    "start_time": "2022-12-07T06:22:18.134Z"
   },
   {
    "duration": 10,
    "start_time": "2022-12-07T06:22:18.176Z"
   },
   {
    "duration": 5,
    "start_time": "2022-12-07T06:22:18.188Z"
   },
   {
    "duration": 35,
    "start_time": "2022-12-07T06:22:18.195Z"
   },
   {
    "duration": 22,
    "start_time": "2022-12-07T06:22:18.232Z"
   },
   {
    "duration": 18,
    "start_time": "2022-12-07T06:22:18.256Z"
   },
   {
    "duration": 3,
    "start_time": "2022-12-07T06:22:18.276Z"
   },
   {
    "duration": 17,
    "start_time": "2022-12-07T06:22:18.281Z"
   },
   {
    "duration": 30,
    "start_time": "2022-12-07T06:22:18.299Z"
   },
   {
    "duration": 5,
    "start_time": "2022-12-07T06:22:18.331Z"
   },
   {
    "duration": 25,
    "start_time": "2022-12-07T06:22:18.337Z"
   },
   {
    "duration": 15,
    "start_time": "2022-12-07T06:22:18.363Z"
   },
   {
    "duration": 725,
    "start_time": "2022-12-07T06:22:18.380Z"
   },
   {
    "duration": 1,
    "start_time": "2022-12-07T06:22:19.106Z"
   },
   {
    "duration": 0,
    "start_time": "2022-12-07T06:22:19.108Z"
   },
   {
    "duration": 0,
    "start_time": "2022-12-07T06:22:19.110Z"
   },
   {
    "duration": 0,
    "start_time": "2022-12-07T06:22:19.111Z"
   },
   {
    "duration": 0,
    "start_time": "2022-12-07T06:22:19.113Z"
   },
   {
    "duration": 0,
    "start_time": "2022-12-07T06:22:19.114Z"
   },
   {
    "duration": 422,
    "start_time": "2022-12-07T06:22:38.061Z"
   },
   {
    "duration": 21,
    "start_time": "2022-12-07T06:22:38.485Z"
   },
   {
    "duration": 14,
    "start_time": "2022-12-07T06:22:38.507Z"
   },
   {
    "duration": 10,
    "start_time": "2022-12-07T06:22:38.523Z"
   },
   {
    "duration": 35,
    "start_time": "2022-12-07T06:22:38.535Z"
   },
   {
    "duration": 4,
    "start_time": "2022-12-07T06:22:38.572Z"
   },
   {
    "duration": 21,
    "start_time": "2022-12-07T06:22:38.577Z"
   },
   {
    "duration": 11,
    "start_time": "2022-12-07T06:22:38.600Z"
   },
   {
    "duration": 8,
    "start_time": "2022-12-07T06:22:38.621Z"
   },
   {
    "duration": 4,
    "start_time": "2022-12-07T06:22:38.631Z"
   },
   {
    "duration": 37,
    "start_time": "2022-12-07T06:22:38.637Z"
   },
   {
    "duration": 15,
    "start_time": "2022-12-07T06:22:38.675Z"
   },
   {
    "duration": 7,
    "start_time": "2022-12-07T06:22:38.692Z"
   },
   {
    "duration": 29,
    "start_time": "2022-12-07T06:22:38.701Z"
   },
   {
    "duration": 24,
    "start_time": "2022-12-07T06:22:38.732Z"
   },
   {
    "duration": 18,
    "start_time": "2022-12-07T06:22:38.757Z"
   },
   {
    "duration": 3,
    "start_time": "2022-12-07T06:22:38.777Z"
   },
   {
    "duration": 21,
    "start_time": "2022-12-07T06:22:38.782Z"
   },
   {
    "duration": 20,
    "start_time": "2022-12-07T06:22:38.804Z"
   },
   {
    "duration": 7,
    "start_time": "2022-12-07T06:22:38.826Z"
   },
   {
    "duration": 25,
    "start_time": "2022-12-07T06:22:38.834Z"
   },
   {
    "duration": 13,
    "start_time": "2022-12-07T06:22:38.861Z"
   },
   {
    "duration": 844,
    "start_time": "2022-12-07T06:22:38.875Z"
   },
   {
    "duration": 0,
    "start_time": "2022-12-07T06:22:39.720Z"
   },
   {
    "duration": 1,
    "start_time": "2022-12-07T06:22:39.721Z"
   },
   {
    "duration": 0,
    "start_time": "2022-12-07T06:22:39.722Z"
   },
   {
    "duration": 0,
    "start_time": "2022-12-07T06:22:39.723Z"
   },
   {
    "duration": 0,
    "start_time": "2022-12-07T06:22:39.724Z"
   },
   {
    "duration": 0,
    "start_time": "2022-12-07T06:22:39.725Z"
   },
   {
    "duration": 740,
    "start_time": "2022-12-07T06:22:53.201Z"
   },
   {
    "duration": 6,
    "start_time": "2022-12-07T06:23:03.297Z"
   },
   {
    "duration": 745,
    "start_time": "2022-12-07T06:23:37.628Z"
   },
   {
    "duration": 5,
    "start_time": "2022-12-07T06:33:18.805Z"
   },
   {
    "duration": 706,
    "start_time": "2022-12-07T06:34:28.606Z"
   },
   {
    "duration": 9,
    "start_time": "2022-12-07T06:37:04.327Z"
   },
   {
    "duration": 1023,
    "start_time": "2022-12-07T06:37:16.688Z"
   },
   {
    "duration": 14,
    "start_time": "2022-12-07T06:43:53.689Z"
   },
   {
    "duration": 14,
    "start_time": "2022-12-07T06:44:57.560Z"
   },
   {
    "duration": 13,
    "start_time": "2022-12-07T06:49:32.474Z"
   },
   {
    "duration": 15,
    "start_time": "2022-12-07T06:49:40.362Z"
   },
   {
    "duration": 4,
    "start_time": "2022-12-07T06:53:35.422Z"
   },
   {
    "duration": 8,
    "start_time": "2022-12-07T06:53:41.442Z"
   },
   {
    "duration": 204,
    "start_time": "2022-12-07T06:54:30.644Z"
   },
   {
    "duration": 17,
    "start_time": "2022-12-07T06:55:10.334Z"
   },
   {
    "duration": 8,
    "start_time": "2022-12-07T06:55:20.850Z"
   },
   {
    "duration": 411,
    "start_time": "2022-12-07T06:55:27.879Z"
   },
   {
    "duration": 20,
    "start_time": "2022-12-07T06:55:28.292Z"
   },
   {
    "duration": 15,
    "start_time": "2022-12-07T06:55:28.313Z"
   },
   {
    "duration": 8,
    "start_time": "2022-12-07T06:55:28.330Z"
   },
   {
    "duration": 33,
    "start_time": "2022-12-07T06:55:28.339Z"
   },
   {
    "duration": 3,
    "start_time": "2022-12-07T06:55:28.373Z"
   },
   {
    "duration": 12,
    "start_time": "2022-12-07T06:55:28.377Z"
   },
   {
    "duration": 5,
    "start_time": "2022-12-07T06:55:28.391Z"
   },
   {
    "duration": 12,
    "start_time": "2022-12-07T06:55:28.397Z"
   },
   {
    "duration": 4,
    "start_time": "2022-12-07T06:55:28.422Z"
   },
   {
    "duration": 35,
    "start_time": "2022-12-07T06:55:28.428Z"
   },
   {
    "duration": 10,
    "start_time": "2022-12-07T06:55:28.465Z"
   },
   {
    "duration": 4,
    "start_time": "2022-12-07T06:55:28.477Z"
   },
   {
    "duration": 39,
    "start_time": "2022-12-07T06:55:28.482Z"
   },
   {
    "duration": 19,
    "start_time": "2022-12-07T06:55:28.522Z"
   },
   {
    "duration": 17,
    "start_time": "2022-12-07T06:55:28.543Z"
   },
   {
    "duration": 3,
    "start_time": "2022-12-07T06:55:28.562Z"
   },
   {
    "duration": 12,
    "start_time": "2022-12-07T06:55:28.567Z"
   },
   {
    "duration": 7,
    "start_time": "2022-12-07T06:55:28.580Z"
   },
   {
    "duration": 32,
    "start_time": "2022-12-07T06:55:28.589Z"
   },
   {
    "duration": 20,
    "start_time": "2022-12-07T06:55:28.623Z"
   },
   {
    "duration": 12,
    "start_time": "2022-12-07T06:55:28.644Z"
   },
   {
    "duration": 6,
    "start_time": "2022-12-07T06:55:28.657Z"
   },
   {
    "duration": 83,
    "start_time": "2022-12-07T06:55:28.665Z"
   },
   {
    "duration": 0,
    "start_time": "2022-12-07T06:55:28.750Z"
   },
   {
    "duration": 0,
    "start_time": "2022-12-07T06:55:28.751Z"
   },
   {
    "duration": 0,
    "start_time": "2022-12-07T06:55:28.752Z"
   },
   {
    "duration": 0,
    "start_time": "2022-12-07T06:55:28.753Z"
   },
   {
    "duration": 0,
    "start_time": "2022-12-07T06:55:28.754Z"
   },
   {
    "duration": 0,
    "start_time": "2022-12-07T06:55:28.755Z"
   },
   {
    "duration": 353,
    "start_time": "2022-12-07T06:56:11.472Z"
   },
   {
    "duration": 7,
    "start_time": "2022-12-07T06:57:32.933Z"
   },
   {
    "duration": 5,
    "start_time": "2022-12-07T06:58:01.346Z"
   },
   {
    "duration": 5,
    "start_time": "2022-12-07T06:58:20.469Z"
   },
   {
    "duration": 123,
    "start_time": "2022-12-07T06:58:49.317Z"
   },
   {
    "duration": 122,
    "start_time": "2022-12-07T06:59:21.711Z"
   },
   {
    "duration": 846,
    "start_time": "2022-12-07T07:01:08.750Z"
   },
   {
    "duration": 707,
    "start_time": "2022-12-07T07:02:03.726Z"
   },
   {
    "duration": 131,
    "start_time": "2022-12-07T07:02:05.430Z"
   },
   {
    "duration": 11,
    "start_time": "2022-12-07T07:03:02.635Z"
   },
   {
    "duration": 129,
    "start_time": "2022-12-07T07:03:03.624Z"
   },
   {
    "duration": 8,
    "start_time": "2022-12-07T07:03:17.837Z"
   },
   {
    "duration": 8,
    "start_time": "2022-12-07T07:05:09.024Z"
   },
   {
    "duration": 4,
    "start_time": "2022-12-07T07:09:25.824Z"
   },
   {
    "duration": 443,
    "start_time": "2022-12-07T07:09:43.383Z"
   },
   {
    "duration": 22,
    "start_time": "2022-12-07T07:09:43.828Z"
   },
   {
    "duration": 18,
    "start_time": "2022-12-07T07:09:43.851Z"
   },
   {
    "duration": 10,
    "start_time": "2022-12-07T07:09:43.870Z"
   },
   {
    "duration": 53,
    "start_time": "2022-12-07T07:09:43.881Z"
   },
   {
    "duration": 3,
    "start_time": "2022-12-07T07:09:43.936Z"
   },
   {
    "duration": 10,
    "start_time": "2022-12-07T07:09:43.941Z"
   },
   {
    "duration": 4,
    "start_time": "2022-12-07T07:09:43.953Z"
   },
   {
    "duration": 9,
    "start_time": "2022-12-07T07:09:43.959Z"
   },
   {
    "duration": 4,
    "start_time": "2022-12-07T07:09:43.971Z"
   },
   {
    "duration": 59,
    "start_time": "2022-12-07T07:09:43.976Z"
   },
   {
    "duration": 9,
    "start_time": "2022-12-07T07:09:44.037Z"
   },
   {
    "duration": 5,
    "start_time": "2022-12-07T07:09:44.047Z"
   },
   {
    "duration": 13,
    "start_time": "2022-12-07T07:09:44.053Z"
   },
   {
    "duration": 22,
    "start_time": "2022-12-07T07:09:44.068Z"
   },
   {
    "duration": 35,
    "start_time": "2022-12-07T07:09:44.091Z"
   },
   {
    "duration": 3,
    "start_time": "2022-12-07T07:09:44.127Z"
   },
   {
    "duration": 12,
    "start_time": "2022-12-07T07:09:44.132Z"
   },
   {
    "duration": 8,
    "start_time": "2022-12-07T07:09:44.146Z"
   },
   {
    "duration": 4,
    "start_time": "2022-12-07T07:09:44.156Z"
   },
   {
    "duration": 23,
    "start_time": "2022-12-07T07:09:44.161Z"
   },
   {
    "duration": 40,
    "start_time": "2022-12-07T07:09:44.185Z"
   },
   {
    "duration": 7,
    "start_time": "2022-12-07T07:09:44.226Z"
   },
   {
    "duration": 4,
    "start_time": "2022-12-07T07:09:44.235Z"
   },
   {
    "duration": 340,
    "start_time": "2022-12-07T07:09:44.241Z"
   },
   {
    "duration": 5,
    "start_time": "2022-12-07T07:09:44.583Z"
   },
   {
    "duration": 31,
    "start_time": "2022-12-07T07:09:44.590Z"
   },
   {
    "duration": 28,
    "start_time": "2022-12-07T07:09:44.624Z"
   },
   {
    "duration": 15,
    "start_time": "2022-12-07T07:09:44.654Z"
   },
   {
    "duration": 6,
    "start_time": "2022-12-07T07:09:44.670Z"
   },
   {
    "duration": 56,
    "start_time": "2022-12-07T07:09:44.678Z"
   },
   {
    "duration": 23,
    "start_time": "2022-12-07T07:09:44.737Z"
   },
   {
    "duration": 58,
    "start_time": "2022-12-07T07:20:03.892Z"
   },
   {
    "duration": 59,
    "start_time": "2022-12-07T07:21:01.436Z"
   },
   {
    "duration": 9,
    "start_time": "2022-12-07T07:21:10.117Z"
   },
   {
    "duration": 8,
    "start_time": "2022-12-07T07:23:22.509Z"
   },
   {
    "duration": 9,
    "start_time": "2022-12-07T07:26:01.188Z"
   },
   {
    "duration": 70,
    "start_time": "2022-12-07T07:26:43.665Z"
   },
   {
    "duration": 9,
    "start_time": "2022-12-07T07:27:03.535Z"
   },
   {
    "duration": 7,
    "start_time": "2022-12-07T07:27:09.791Z"
   },
   {
    "duration": 115,
    "start_time": "2022-12-07T07:27:20.783Z"
   },
   {
    "duration": 3,
    "start_time": "2022-12-07T07:27:30.602Z"
   },
   {
    "duration": 126,
    "start_time": "2022-12-07T07:27:33.910Z"
   },
   {
    "duration": 14,
    "start_time": "2022-12-07T07:41:39.933Z"
   },
   {
    "duration": 8,
    "start_time": "2022-12-07T08:19:40.913Z"
   },
   {
    "duration": 8,
    "start_time": "2022-12-07T08:22:36.905Z"
   },
   {
    "duration": 9,
    "start_time": "2022-12-07T08:22:38.168Z"
   },
   {
    "duration": 8,
    "start_time": "2022-12-07T08:23:24.673Z"
   },
   {
    "duration": 3,
    "start_time": "2022-12-07T08:23:27.585Z"
   },
   {
    "duration": 8,
    "start_time": "2022-12-07T09:50:57.949Z"
   },
   {
    "duration": 3,
    "start_time": "2022-12-07T09:52:33.003Z"
   },
   {
    "duration": 135,
    "start_time": "2022-12-07T09:52:35.019Z"
   },
   {
    "duration": 5,
    "start_time": "2022-12-07T09:52:39.758Z"
   },
   {
    "duration": 2,
    "start_time": "2022-12-07T09:52:58.412Z"
   },
   {
    "duration": 125,
    "start_time": "2022-12-07T09:53:00.848Z"
   },
   {
    "duration": 167,
    "start_time": "2022-12-07T09:53:06.077Z"
   },
   {
    "duration": 4,
    "start_time": "2022-12-07T09:53:12.600Z"
   },
   {
    "duration": 458,
    "start_time": "2022-12-07T09:53:20.427Z"
   },
   {
    "duration": 21,
    "start_time": "2022-12-07T09:53:20.886Z"
   },
   {
    "duration": 16,
    "start_time": "2022-12-07T09:53:20.909Z"
   },
   {
    "duration": 10,
    "start_time": "2022-12-07T09:53:20.928Z"
   },
   {
    "duration": 31,
    "start_time": "2022-12-07T09:53:20.939Z"
   },
   {
    "duration": 3,
    "start_time": "2022-12-07T09:53:20.972Z"
   },
   {
    "duration": 20,
    "start_time": "2022-12-07T09:53:20.976Z"
   },
   {
    "duration": 25,
    "start_time": "2022-12-07T09:53:20.997Z"
   },
   {
    "duration": 7,
    "start_time": "2022-12-07T09:53:21.023Z"
   },
   {
    "duration": 7,
    "start_time": "2022-12-07T09:53:21.033Z"
   },
   {
    "duration": 42,
    "start_time": "2022-12-07T09:53:21.041Z"
   },
   {
    "duration": 9,
    "start_time": "2022-12-07T09:53:21.085Z"
   },
   {
    "duration": 25,
    "start_time": "2022-12-07T09:53:21.096Z"
   },
   {
    "duration": 14,
    "start_time": "2022-12-07T09:53:21.122Z"
   },
   {
    "duration": 18,
    "start_time": "2022-12-07T09:53:21.137Z"
   },
   {
    "duration": 17,
    "start_time": "2022-12-07T09:53:21.156Z"
   },
   {
    "duration": 3,
    "start_time": "2022-12-07T09:53:21.175Z"
   },
   {
    "duration": 13,
    "start_time": "2022-12-07T09:53:21.180Z"
   },
   {
    "duration": 30,
    "start_time": "2022-12-07T09:53:21.195Z"
   },
   {
    "duration": 8,
    "start_time": "2022-12-07T09:53:21.227Z"
   },
   {
    "duration": 28,
    "start_time": "2022-12-07T09:53:21.236Z"
   },
   {
    "duration": 13,
    "start_time": "2022-12-07T09:53:21.265Z"
   },
   {
    "duration": 7,
    "start_time": "2022-12-07T09:53:21.280Z"
   },
   {
    "duration": 32,
    "start_time": "2022-12-07T09:53:21.289Z"
   },
   {
    "duration": 349,
    "start_time": "2022-12-07T09:53:21.323Z"
   },
   {
    "duration": 4,
    "start_time": "2022-12-07T09:53:21.674Z"
   },
   {
    "duration": 19,
    "start_time": "2022-12-07T09:53:21.680Z"
   },
   {
    "duration": 43,
    "start_time": "2022-12-07T09:53:21.702Z"
   },
   {
    "duration": 14,
    "start_time": "2022-12-07T09:53:21.747Z"
   },
   {
    "duration": 10,
    "start_time": "2022-12-07T09:53:21.763Z"
   },
   {
    "duration": 47,
    "start_time": "2022-12-07T09:53:21.775Z"
   },
   {
    "duration": 15,
    "start_time": "2022-12-07T09:53:21.824Z"
   },
   {
    "duration": 69,
    "start_time": "2022-12-07T09:57:33.006Z"
   },
   {
    "duration": 8,
    "start_time": "2022-12-07T09:58:02.977Z"
   },
   {
    "duration": 8,
    "start_time": "2022-12-07T09:58:12.022Z"
   },
   {
    "duration": 124,
    "start_time": "2022-12-07T09:58:12.749Z"
   },
   {
    "duration": 470,
    "start_time": "2022-12-07T09:58:22.988Z"
   },
   {
    "duration": 20,
    "start_time": "2022-12-07T09:58:23.460Z"
   },
   {
    "duration": 13,
    "start_time": "2022-12-07T09:58:23.482Z"
   },
   {
    "duration": 28,
    "start_time": "2022-12-07T09:58:23.496Z"
   },
   {
    "duration": 32,
    "start_time": "2022-12-07T09:58:23.526Z"
   },
   {
    "duration": 3,
    "start_time": "2022-12-07T09:58:23.559Z"
   },
   {
    "duration": 12,
    "start_time": "2022-12-07T09:58:23.563Z"
   },
   {
    "duration": 7,
    "start_time": "2022-12-07T09:58:23.577Z"
   },
   {
    "duration": 36,
    "start_time": "2022-12-07T09:58:23.585Z"
   },
   {
    "duration": 5,
    "start_time": "2022-12-07T09:58:23.624Z"
   },
   {
    "duration": 33,
    "start_time": "2022-12-07T09:58:23.630Z"
   },
   {
    "duration": 9,
    "start_time": "2022-12-07T09:58:23.664Z"
   },
   {
    "duration": 5,
    "start_time": "2022-12-07T09:58:23.674Z"
   },
   {
    "duration": 40,
    "start_time": "2022-12-07T09:58:23.681Z"
   },
   {
    "duration": 19,
    "start_time": "2022-12-07T09:58:23.722Z"
   },
   {
    "duration": 15,
    "start_time": "2022-12-07T09:58:23.742Z"
   },
   {
    "duration": 3,
    "start_time": "2022-12-07T09:58:23.758Z"
   },
   {
    "duration": 13,
    "start_time": "2022-12-07T09:58:23.762Z"
   },
   {
    "duration": 5,
    "start_time": "2022-12-07T09:58:23.776Z"
   },
   {
    "duration": 4,
    "start_time": "2022-12-07T09:58:23.782Z"
   },
   {
    "duration": 20,
    "start_time": "2022-12-07T09:58:23.822Z"
   },
   {
    "duration": 13,
    "start_time": "2022-12-07T09:58:23.844Z"
   },
   {
    "duration": 7,
    "start_time": "2022-12-07T09:58:23.858Z"
   },
   {
    "duration": 87,
    "start_time": "2022-12-07T09:58:23.867Z"
   },
   {
    "duration": 0,
    "start_time": "2022-12-07T09:58:23.956Z"
   },
   {
    "duration": 0,
    "start_time": "2022-12-07T09:58:23.957Z"
   },
   {
    "duration": 0,
    "start_time": "2022-12-07T09:58:23.958Z"
   },
   {
    "duration": 0,
    "start_time": "2022-12-07T09:58:23.959Z"
   },
   {
    "duration": 0,
    "start_time": "2022-12-07T09:58:23.959Z"
   },
   {
    "duration": 0,
    "start_time": "2022-12-07T09:58:23.961Z"
   },
   {
    "duration": 0,
    "start_time": "2022-12-07T09:58:23.961Z"
   },
   {
    "duration": 0,
    "start_time": "2022-12-07T09:58:23.962Z"
   },
   {
    "duration": 4,
    "start_time": "2022-12-07T09:58:38.212Z"
   },
   {
    "duration": 348,
    "start_time": "2022-12-07T09:58:40.179Z"
   },
   {
    "duration": 6,
    "start_time": "2022-12-07T09:59:26.810Z"
   },
   {
    "duration": 788,
    "start_time": "2022-12-07T10:00:15.862Z"
   },
   {
    "duration": 850,
    "start_time": "2022-12-07T10:00:32.936Z"
   },
   {
    "duration": 745,
    "start_time": "2022-12-07T10:00:37.385Z"
   },
   {
    "duration": 1034,
    "start_time": "2022-12-07T10:00:49.430Z"
   },
   {
    "duration": 940,
    "start_time": "2022-12-07T10:01:09.447Z"
   },
   {
    "duration": 6,
    "start_time": "2022-12-07T10:01:30.877Z"
   },
   {
    "duration": 3,
    "start_time": "2022-12-07T10:04:05.970Z"
   },
   {
    "duration": 5,
    "start_time": "2022-12-07T10:26:35.201Z"
   },
   {
    "duration": 3,
    "start_time": "2022-12-07T10:27:06.692Z"
   },
   {
    "duration": 134,
    "start_time": "2022-12-07T10:27:12.250Z"
   },
   {
    "duration": 148,
    "start_time": "2022-12-07T10:27:52.727Z"
   },
   {
    "duration": 6,
    "start_time": "2022-12-07T10:27:56.881Z"
   },
   {
    "duration": 3,
    "start_time": "2022-12-07T10:28:47.217Z"
   },
   {
    "duration": 139,
    "start_time": "2022-12-07T10:28:48.654Z"
   },
   {
    "duration": 457,
    "start_time": "2022-12-07T10:29:00.751Z"
   },
   {
    "duration": 20,
    "start_time": "2022-12-07T10:29:01.210Z"
   },
   {
    "duration": 20,
    "start_time": "2022-12-07T10:29:01.231Z"
   },
   {
    "duration": 28,
    "start_time": "2022-12-07T10:29:01.253Z"
   },
   {
    "duration": 43,
    "start_time": "2022-12-07T10:29:01.282Z"
   },
   {
    "duration": 5,
    "start_time": "2022-12-07T10:29:01.327Z"
   },
   {
    "duration": 38,
    "start_time": "2022-12-07T10:29:01.333Z"
   },
   {
    "duration": 23,
    "start_time": "2022-12-07T10:29:01.372Z"
   },
   {
    "duration": 18,
    "start_time": "2022-12-07T10:29:01.396Z"
   },
   {
    "duration": 16,
    "start_time": "2022-12-07T10:29:01.417Z"
   },
   {
    "duration": 80,
    "start_time": "2022-12-07T10:29:01.434Z"
   },
   {
    "duration": 9,
    "start_time": "2022-12-07T10:29:01.516Z"
   },
   {
    "duration": 46,
    "start_time": "2022-12-07T10:29:01.526Z"
   },
   {
    "duration": 29,
    "start_time": "2022-12-07T10:29:01.573Z"
   },
   {
    "duration": 28,
    "start_time": "2022-12-07T10:29:01.604Z"
   },
   {
    "duration": 16,
    "start_time": "2022-12-07T10:29:01.633Z"
   },
   {
    "duration": 3,
    "start_time": "2022-12-07T10:29:01.651Z"
   },
   {
    "duration": 29,
    "start_time": "2022-12-07T10:29:01.656Z"
   },
   {
    "duration": 25,
    "start_time": "2022-12-07T10:29:01.687Z"
   },
   {
    "duration": 43,
    "start_time": "2022-12-07T10:29:01.714Z"
   },
   {
    "duration": 44,
    "start_time": "2022-12-07T10:29:01.759Z"
   },
   {
    "duration": 36,
    "start_time": "2022-12-07T10:29:01.804Z"
   },
   {
    "duration": 64,
    "start_time": "2022-12-07T10:29:01.841Z"
   },
   {
    "duration": 42,
    "start_time": "2022-12-07T10:29:01.906Z"
   },
   {
    "duration": 418,
    "start_time": "2022-12-07T10:29:01.949Z"
   },
   {
    "duration": 5,
    "start_time": "2022-12-07T10:29:02.368Z"
   },
   {
    "duration": 28,
    "start_time": "2022-12-07T10:29:02.374Z"
   },
   {
    "duration": 30,
    "start_time": "2022-12-07T10:29:02.405Z"
   },
   {
    "duration": 14,
    "start_time": "2022-12-07T10:29:02.436Z"
   },
   {
    "duration": 6,
    "start_time": "2022-12-07T10:29:02.451Z"
   },
   {
    "duration": 21,
    "start_time": "2022-12-07T10:29:02.458Z"
   },
   {
    "duration": 42,
    "start_time": "2022-12-07T10:29:02.480Z"
   },
   {
    "duration": 5,
    "start_time": "2022-12-07T10:29:41.693Z"
   },
   {
    "duration": 54,
    "start_time": "2022-12-07T10:31:08.228Z"
   },
   {
    "duration": 14,
    "start_time": "2022-12-07T10:50:37.136Z"
   },
   {
    "duration": 8,
    "start_time": "2022-12-07T10:50:59.053Z"
   },
   {
    "duration": 87,
    "start_time": "2022-12-07T10:51:56.554Z"
   },
   {
    "duration": 11,
    "start_time": "2022-12-07T10:52:07.195Z"
   },
   {
    "duration": 10,
    "start_time": "2022-12-07T10:52:13.852Z"
   },
   {
    "duration": 13,
    "start_time": "2022-12-07T10:52:28.853Z"
   },
   {
    "duration": 9,
    "start_time": "2022-12-07T10:53:14.661Z"
   },
   {
    "duration": 815,
    "start_time": "2022-12-07T10:53:50.467Z"
   },
   {
    "duration": 10,
    "start_time": "2022-12-07T10:54:27.147Z"
   },
   {
    "duration": 9,
    "start_time": "2022-12-07T10:54:35.867Z"
   },
   {
    "duration": 10,
    "start_time": "2022-12-07T10:54:52.276Z"
   },
   {
    "duration": 10,
    "start_time": "2022-12-07T10:54:55.845Z"
   },
   {
    "duration": 2,
    "start_time": "2022-12-07T10:55:04.387Z"
   },
   {
    "duration": 18,
    "start_time": "2022-12-07T10:56:45.365Z"
   },
   {
    "duration": 23,
    "start_time": "2022-12-07T11:01:46.333Z"
   },
   {
    "duration": 22,
    "start_time": "2022-12-07T11:01:57.033Z"
   },
   {
    "duration": 15,
    "start_time": "2022-12-07T11:02:41.293Z"
   },
   {
    "duration": 752,
    "start_time": "2022-12-07T11:03:23.306Z"
   },
   {
    "duration": 107,
    "start_time": "2022-12-07T11:04:05.857Z"
   },
   {
    "duration": 22,
    "start_time": "2022-12-07T11:04:07.031Z"
   },
   {
    "duration": 13,
    "start_time": "2022-12-07T11:05:51.319Z"
   },
   {
    "duration": 569,
    "start_time": "2022-12-07T11:06:20.943Z"
   },
   {
    "duration": 505,
    "start_time": "2022-12-07T11:06:45.375Z"
   },
   {
    "duration": 448,
    "start_time": "2022-12-07T11:06:52.038Z"
   },
   {
    "duration": 20,
    "start_time": "2022-12-07T11:06:52.488Z"
   },
   {
    "duration": 18,
    "start_time": "2022-12-07T11:06:52.510Z"
   },
   {
    "duration": 12,
    "start_time": "2022-12-07T11:06:52.530Z"
   },
   {
    "duration": 34,
    "start_time": "2022-12-07T11:06:52.544Z"
   },
   {
    "duration": 4,
    "start_time": "2022-12-07T11:06:52.579Z"
   },
   {
    "duration": 14,
    "start_time": "2022-12-07T11:06:52.584Z"
   },
   {
    "duration": 24,
    "start_time": "2022-12-07T11:06:52.600Z"
   },
   {
    "duration": 17,
    "start_time": "2022-12-07T11:06:52.626Z"
   },
   {
    "duration": 16,
    "start_time": "2022-12-07T11:06:52.645Z"
   },
   {
    "duration": 57,
    "start_time": "2022-12-07T11:06:52.663Z"
   },
   {
    "duration": 9,
    "start_time": "2022-12-07T11:06:52.722Z"
   },
   {
    "duration": 11,
    "start_time": "2022-12-07T11:06:52.733Z"
   },
   {
    "duration": 18,
    "start_time": "2022-12-07T11:06:52.745Z"
   },
   {
    "duration": 24,
    "start_time": "2022-12-07T11:06:52.764Z"
   },
   {
    "duration": 34,
    "start_time": "2022-12-07T11:06:52.790Z"
   },
   {
    "duration": 5,
    "start_time": "2022-12-07T11:06:52.826Z"
   },
   {
    "duration": 26,
    "start_time": "2022-12-07T11:06:52.832Z"
   },
   {
    "duration": 17,
    "start_time": "2022-12-07T11:06:52.859Z"
   },
   {
    "duration": 19,
    "start_time": "2022-12-07T11:06:52.877Z"
   },
   {
    "duration": 35,
    "start_time": "2022-12-07T11:06:52.897Z"
   },
   {
    "duration": 12,
    "start_time": "2022-12-07T11:06:52.934Z"
   },
   {
    "duration": 8,
    "start_time": "2022-12-07T11:06:52.948Z"
   },
   {
    "duration": 10,
    "start_time": "2022-12-07T11:06:52.958Z"
   },
   {
    "duration": 361,
    "start_time": "2022-12-07T11:06:52.969Z"
   },
   {
    "duration": 5,
    "start_time": "2022-12-07T11:06:53.331Z"
   },
   {
    "duration": 34,
    "start_time": "2022-12-07T11:06:53.338Z"
   },
   {
    "duration": 14,
    "start_time": "2022-12-07T11:06:53.374Z"
   },
   {
    "duration": 8,
    "start_time": "2022-12-07T11:06:53.390Z"
   },
   {
    "duration": 39,
    "start_time": "2022-12-07T11:06:53.400Z"
   },
   {
    "duration": 15,
    "start_time": "2022-12-07T11:06:53.440Z"
   },
   {
    "duration": 111,
    "start_time": "2022-12-07T11:07:48.129Z"
   },
   {
    "duration": 778,
    "start_time": "2022-12-07T11:08:35.097Z"
   },
   {
    "duration": 170,
    "start_time": "2022-12-07T11:08:53.320Z"
   },
   {
    "duration": 483,
    "start_time": "2022-12-07T11:09:02.285Z"
   },
   {
    "duration": 25,
    "start_time": "2022-12-07T11:09:02.770Z"
   },
   {
    "duration": 25,
    "start_time": "2022-12-07T11:09:02.796Z"
   },
   {
    "duration": 25,
    "start_time": "2022-12-07T11:09:02.823Z"
   },
   {
    "duration": 50,
    "start_time": "2022-12-07T11:09:02.851Z"
   },
   {
    "duration": 3,
    "start_time": "2022-12-07T11:09:02.903Z"
   },
   {
    "duration": 25,
    "start_time": "2022-12-07T11:09:02.908Z"
   },
   {
    "duration": 5,
    "start_time": "2022-12-07T11:09:02.935Z"
   },
   {
    "duration": 12,
    "start_time": "2022-12-07T11:09:02.942Z"
   },
   {
    "duration": 6,
    "start_time": "2022-12-07T11:09:02.955Z"
   },
   {
    "duration": 43,
    "start_time": "2022-12-07T11:09:02.962Z"
   },
   {
    "duration": 16,
    "start_time": "2022-12-07T11:09:03.006Z"
   },
   {
    "duration": 3,
    "start_time": "2022-12-07T11:09:03.024Z"
   },
   {
    "duration": 14,
    "start_time": "2022-12-07T11:09:03.030Z"
   },
   {
    "duration": 25,
    "start_time": "2022-12-07T11:09:03.045Z"
   },
   {
    "duration": 20,
    "start_time": "2022-12-07T11:09:03.071Z"
   },
   {
    "duration": 30,
    "start_time": "2022-12-07T11:09:03.092Z"
   },
   {
    "duration": 23,
    "start_time": "2022-12-07T11:09:03.124Z"
   },
   {
    "duration": 9,
    "start_time": "2022-12-07T11:09:03.149Z"
   },
   {
    "duration": 5,
    "start_time": "2022-12-07T11:09:03.160Z"
   },
   {
    "duration": 29,
    "start_time": "2022-12-07T11:09:03.166Z"
   },
   {
    "duration": 12,
    "start_time": "2022-12-07T11:09:03.197Z"
   },
   {
    "duration": 7,
    "start_time": "2022-12-07T11:09:03.221Z"
   },
   {
    "duration": 6,
    "start_time": "2022-12-07T11:09:03.230Z"
   },
   {
    "duration": 386,
    "start_time": "2022-12-07T11:09:03.237Z"
   },
   {
    "duration": 4,
    "start_time": "2022-12-07T11:09:03.625Z"
   },
   {
    "duration": 82,
    "start_time": "2022-12-07T11:09:03.631Z"
   },
   {
    "duration": 16,
    "start_time": "2022-12-07T11:09:03.714Z"
   },
   {
    "duration": 10,
    "start_time": "2022-12-07T11:09:03.731Z"
   },
   {
    "duration": 136,
    "start_time": "2022-12-07T11:09:03.742Z"
   },
   {
    "duration": 253,
    "start_time": "2022-12-07T11:09:03.880Z"
   },
   {
    "duration": 0,
    "start_time": "2022-12-07T11:09:04.134Z"
   },
   {
    "duration": 15,
    "start_time": "2022-12-07T11:14:46.699Z"
   },
   {
    "duration": 52,
    "start_time": "2022-12-08T20:15:11.705Z"
   }
  ],
  "colab": {
   "name": "dpp_template_part2.ipynb",
   "provenance": []
  },
  "kernelspec": {
   "display_name": "Python 3 (ipykernel)",
   "language": "python",
   "name": "python3"
  },
  "language_info": {
   "codemirror_mode": {
    "name": "ipython",
    "version": 3
   },
   "file_extension": ".py",
   "mimetype": "text/x-python",
   "name": "python",
   "nbconvert_exporter": "python",
   "pygments_lexer": "ipython3",
   "version": "3.9.5"
  },
  "toc": {
   "base_numbering": 1,
   "nav_menu": {},
   "number_sections": true,
   "sideBar": true,
   "skip_h1_title": true,
   "title_cell": "Table of Contents",
   "title_sidebar": "Contents",
   "toc_cell": false,
   "toc_position": {},
   "toc_section_display": true,
   "toc_window_display": false
  }
 },
 "nbformat": 4,
 "nbformat_minor": 5
}
